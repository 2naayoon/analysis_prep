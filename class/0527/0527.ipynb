{
 "cells": [
  {
   "cell_type": "markdown",
   "metadata": {},
   "source": [
    "## Decorator\n",
    "- *(asterisk) : 가변 인자 -> 헷갈리니가 args 라는 단어를 붙여줌\n",
    "- ** (double asterisk) : 키워드 인자 -> kewardargs -> kwargs\n",
    "- print()는 *args 가변 인자만 실행되도록 되어 있기 때문에 **kwargs는 함수로 받아서 출력"
   ]
  },
  {
   "cell_type": "code",
   "execution_count": 2,
   "metadata": {},
   "outputs": [
    {
     "name": "stdout",
     "output_type": "stream",
     "text": [
      "함수 호출 전\n",
      "Hello, 홍길동!\n",
      "함수 호출 후\n"
     ]
    }
   ],
   "source": [
    "# decorator : 함수\n",
    "\n",
    "# x = [a, b, c]\n",
    "# func1(x) => func1([a, b, c])\n",
    "# func1(*x) => func1(a, b, c)\n",
    "\n",
    "# func2(y) => func2({'a': 1, 'b': 2, 'c': 3})\n",
    "# func2(**y) => func2(a=1, b=2, c=3)\n",
    "\n",
    "def my_decorator(func):\n",
    "    \"\"\"\n",
    "    간단한 데코레이터 예제입니다. 이 데코레이터는 함수 호출 전후에 메시지를 출력합니다.\n",
    "    \"\"\"\n",
    "    def wrapper(*args, **kwargs):\n",
    "        print(\"함수 호출 전\")\n",
    "        result = func(*args, **kwargs)\n",
    "        print(\"함수 호출 후\")\n",
    "        return result\n",
    "    return wrapper\n",
    "\n",
    "@my_decorator\n",
    "def say_hello(name):\n",
    "    \"\"\"\n",
    "    이름을 받아서 인사하는 함수입니다.\n",
    "    \"\"\"\n",
    "    print(f\"Hello, {name}!\")\n",
    "\n",
    "# 데코레이터가 적용된 함수 호출\n",
    "say_hello(\"홍길동\")"
   ]
  }
 ],
 "metadata": {
  "kernelspec": {
   "display_name": "Python 3",
   "language": "python",
   "name": "python3"
  },
  "language_info": {
   "codemirror_mode": {
    "name": "ipython",
    "version": 3
   },
   "file_extension": ".py",
   "mimetype": "text/x-python",
   "name": "python",
   "nbconvert_exporter": "python",
   "pygments_lexer": "ipython3",
   "version": "3.13.3"
  }
 },
 "nbformat": 4,
 "nbformat_minor": 2
}
