{
  "cells": [
    {
      "cell_type": "markdown",
      "metadata": {
        "id": "kOVoCH545s_2"
      },
      "source": [
        "## 1\\. 시계열 데이터의 이해와 정상성 (Understanding Time Series & Stationarity)\n",
        "\n",
        "### 💡 개념 (Concept)\n",
        "\n",
        "\\*\\*시계열 데이터(Time Series Data)\\*\\*란 일정 시간 간격으로 측정된 데이터의 순차적인 집합을 의미합니다. 주식 가격, 월별 강수량, 일일 웹사이트 방문자 수 등이 모두 시계열 데이터의 예입니다.\n",
        "\n",
        "시계열 분석의 핵심 목표는 데이터에 숨겨진 패턴을 발견하고 이를 바탕으로 미래 값을 예측하는 것입니다. 대부분의 시계열 예측 모델은 데이터가 \\*\\*정상성(Stationarity)\\*\\*을 갖는다고 가정합니다.\n",
        "\n",
        "**정상성이란?**\n",
        "시간이 흘러도 데이터의 통계적 특성(평균, 분산 등)이 변하지 않는 상태를 의미합니다. 즉, 시계열 데이터의 분포가 시간에 따라 일정해야 합니다.\n",
        "\n",
        "  * **왜 정상성이 중요한가?**: 데이터의 패턴이 시간과 관계없이 일정해야 과거의 패턴을 기반으로 미래를 안정적으로 예측할 수 있기 때문입니다.\n",
        "  * **비정상 데이터**: 주가처럼 지속적으로 상승하는 추세(Trend)가 있거나, 아이스크림 판매량처럼 계절에 따라 주기적으로 변동하는 계절성(Seasonality)이 있는 데이터는 비정상 시계열입니다.\n",
        "\n",
        "**정상성 확인 방법: ADF 검정 (Augmented Dickey-Fuller Test)**\n",
        "ADF 검정은 시계열 데이터의 정상성을 통계적으로 확인하는 대표적인 방법입니다. 가설은 다음과 같습니다.\n",
        "\n",
        "  * **귀무가설(Null Hypothesis)**: 데이터에 단위근(unit root)이 존재한다. (즉, 비정상 시계열이다)\n",
        "  * **대립가설(Alternative Hypothesis)**: 데이터가 정상성을 만족한다.\n",
        "\n",
        "검정 결과로 나오는 **p-value**가 특정 유의수준(보통 0.05)보다 작으면 귀무가설을 기각하고, 데이터가 정상성을 갖는다고 판단할 수 있습니다.\n",
        "\n",
        "**비정상 데이터를 정상 데이터로 변환하기: 차분 (Differencing)**\n",
        "대부분의 비정상 시계열은 **차분**을 통해 정상성을 만족하는 데이터로 변환할 수 있습니다. 차분은 현재 시점의 데이터에서 바로 이전 시점의 데이터를 빼주는 간단한 과정입니다. 이를 통해 데이터의 추세를 제거하는 효과를 얻을 수 있습니다.\n",
        "\n",
        "$$Y'_t = Y_t - Y_{t-1}$$\n",
        "\n",
        "### 💻 예시 코드 (Example Code)\n",
        "\n",
        "항공 승객 수 데이터를 활용하여 시계열 데이터의 특징을 시각화하고, ADF 검정과 차분을 실습해 보겠습니다."
      ]
    },
    {
      "cell_type": "code",
      "execution_count": 1,
      "metadata": {
        "id": "-IDkbQVb5s_4"
      },
      "outputs": [
        {
          "data": {
            "application/vnd.plotly.v1+json": {
              "config": {
                "plotlyServerURL": "https://plot.ly"
              },
              "data": [
                {
                  "hovertemplate": "Month=%{x}<br>Passengers=%{y}<extra></extra>",
                  "legendgroup": "",
                  "line": {
                    "color": "#636efa",
                    "dash": "solid"
                  },
                  "marker": {
                    "symbol": "circle"
                  },
                  "mode": "lines",
                  "name": "",
                  "orientation": "v",
                  "showlegend": false,
                  "type": "scatter",
                  "x": [
                    "1949-01-01T00:00:00.000000000",
                    "1949-02-01T00:00:00.000000000",
                    "1949-03-01T00:00:00.000000000",
                    "1949-04-01T00:00:00.000000000",
                    "1949-05-01T00:00:00.000000000",
                    "1949-06-01T00:00:00.000000000",
                    "1949-07-01T00:00:00.000000000",
                    "1949-08-01T00:00:00.000000000",
                    "1949-09-01T00:00:00.000000000",
                    "1949-10-01T00:00:00.000000000",
                    "1949-11-01T00:00:00.000000000",
                    "1949-12-01T00:00:00.000000000",
                    "1950-01-01T00:00:00.000000000",
                    "1950-02-01T00:00:00.000000000",
                    "1950-03-01T00:00:00.000000000",
                    "1950-04-01T00:00:00.000000000",
                    "1950-05-01T00:00:00.000000000",
                    "1950-06-01T00:00:00.000000000",
                    "1950-07-01T00:00:00.000000000",
                    "1950-08-01T00:00:00.000000000",
                    "1950-09-01T00:00:00.000000000",
                    "1950-10-01T00:00:00.000000000",
                    "1950-11-01T00:00:00.000000000",
                    "1950-12-01T00:00:00.000000000",
                    "1951-01-01T00:00:00.000000000",
                    "1951-02-01T00:00:00.000000000",
                    "1951-03-01T00:00:00.000000000",
                    "1951-04-01T00:00:00.000000000",
                    "1951-05-01T00:00:00.000000000",
                    "1951-06-01T00:00:00.000000000",
                    "1951-07-01T00:00:00.000000000",
                    "1951-08-01T00:00:00.000000000",
                    "1951-09-01T00:00:00.000000000",
                    "1951-10-01T00:00:00.000000000",
                    "1951-11-01T00:00:00.000000000",
                    "1951-12-01T00:00:00.000000000",
                    "1952-01-01T00:00:00.000000000",
                    "1952-02-01T00:00:00.000000000",
                    "1952-03-01T00:00:00.000000000",
                    "1952-04-01T00:00:00.000000000",
                    "1952-05-01T00:00:00.000000000",
                    "1952-06-01T00:00:00.000000000",
                    "1952-07-01T00:00:00.000000000",
                    "1952-08-01T00:00:00.000000000",
                    "1952-09-01T00:00:00.000000000",
                    "1952-10-01T00:00:00.000000000",
                    "1952-11-01T00:00:00.000000000",
                    "1952-12-01T00:00:00.000000000",
                    "1953-01-01T00:00:00.000000000",
                    "1953-02-01T00:00:00.000000000",
                    "1953-03-01T00:00:00.000000000",
                    "1953-04-01T00:00:00.000000000",
                    "1953-05-01T00:00:00.000000000",
                    "1953-06-01T00:00:00.000000000",
                    "1953-07-01T00:00:00.000000000",
                    "1953-08-01T00:00:00.000000000",
                    "1953-09-01T00:00:00.000000000",
                    "1953-10-01T00:00:00.000000000",
                    "1953-11-01T00:00:00.000000000",
                    "1953-12-01T00:00:00.000000000",
                    "1954-01-01T00:00:00.000000000",
                    "1954-02-01T00:00:00.000000000",
                    "1954-03-01T00:00:00.000000000",
                    "1954-04-01T00:00:00.000000000",
                    "1954-05-01T00:00:00.000000000",
                    "1954-06-01T00:00:00.000000000",
                    "1954-07-01T00:00:00.000000000",
                    "1954-08-01T00:00:00.000000000",
                    "1954-09-01T00:00:00.000000000",
                    "1954-10-01T00:00:00.000000000",
                    "1954-11-01T00:00:00.000000000",
                    "1954-12-01T00:00:00.000000000",
                    "1955-01-01T00:00:00.000000000",
                    "1955-02-01T00:00:00.000000000",
                    "1955-03-01T00:00:00.000000000",
                    "1955-04-01T00:00:00.000000000",
                    "1955-05-01T00:00:00.000000000",
                    "1955-06-01T00:00:00.000000000",
                    "1955-07-01T00:00:00.000000000",
                    "1955-08-01T00:00:00.000000000",
                    "1955-09-01T00:00:00.000000000",
                    "1955-10-01T00:00:00.000000000",
                    "1955-11-01T00:00:00.000000000",
                    "1955-12-01T00:00:00.000000000",
                    "1956-01-01T00:00:00.000000000",
                    "1956-02-01T00:00:00.000000000",
                    "1956-03-01T00:00:00.000000000",
                    "1956-04-01T00:00:00.000000000",
                    "1956-05-01T00:00:00.000000000",
                    "1956-06-01T00:00:00.000000000",
                    "1956-07-01T00:00:00.000000000",
                    "1956-08-01T00:00:00.000000000",
                    "1956-09-01T00:00:00.000000000",
                    "1956-10-01T00:00:00.000000000",
                    "1956-11-01T00:00:00.000000000",
                    "1956-12-01T00:00:00.000000000",
                    "1957-01-01T00:00:00.000000000",
                    "1957-02-01T00:00:00.000000000",
                    "1957-03-01T00:00:00.000000000",
                    "1957-04-01T00:00:00.000000000",
                    "1957-05-01T00:00:00.000000000",
                    "1957-06-01T00:00:00.000000000",
                    "1957-07-01T00:00:00.000000000",
                    "1957-08-01T00:00:00.000000000",
                    "1957-09-01T00:00:00.000000000",
                    "1957-10-01T00:00:00.000000000",
                    "1957-11-01T00:00:00.000000000",
                    "1957-12-01T00:00:00.000000000",
                    "1958-01-01T00:00:00.000000000",
                    "1958-02-01T00:00:00.000000000",
                    "1958-03-01T00:00:00.000000000",
                    "1958-04-01T00:00:00.000000000",
                    "1958-05-01T00:00:00.000000000",
                    "1958-06-01T00:00:00.000000000",
                    "1958-07-01T00:00:00.000000000",
                    "1958-08-01T00:00:00.000000000",
                    "1958-09-01T00:00:00.000000000",
                    "1958-10-01T00:00:00.000000000",
                    "1958-11-01T00:00:00.000000000",
                    "1958-12-01T00:00:00.000000000",
                    "1959-01-01T00:00:00.000000000",
                    "1959-02-01T00:00:00.000000000",
                    "1959-03-01T00:00:00.000000000",
                    "1959-04-01T00:00:00.000000000",
                    "1959-05-01T00:00:00.000000000",
                    "1959-06-01T00:00:00.000000000",
                    "1959-07-01T00:00:00.000000000",
                    "1959-08-01T00:00:00.000000000",
                    "1959-09-01T00:00:00.000000000",
                    "1959-10-01T00:00:00.000000000",
                    "1959-11-01T00:00:00.000000000",
                    "1959-12-01T00:00:00.000000000",
                    "1960-01-01T00:00:00.000000000",
                    "1960-02-01T00:00:00.000000000",
                    "1960-03-01T00:00:00.000000000",
                    "1960-04-01T00:00:00.000000000",
                    "1960-05-01T00:00:00.000000000",
                    "1960-06-01T00:00:00.000000000",
                    "1960-07-01T00:00:00.000000000",
                    "1960-08-01T00:00:00.000000000",
                    "1960-09-01T00:00:00.000000000",
                    "1960-10-01T00:00:00.000000000",
                    "1960-11-01T00:00:00.000000000",
                    "1960-12-01T00:00:00.000000000"
                  ],
                  "xaxis": "x",
                  "y": {
                    "bdata": "cAB2AIQAgQB5AIcAlACUAIgAdwBoAHYAcwB+AI0AhwB9AJUAqgCqAJ4AhQByAIwAkQCWALIAowCsALIAxwDHALgAogCSAKYAqwC0AMEAtQC3ANoA5gDyANEAvwCsAMIAxADEAOwA6wDlAPMACAEQAe0A0wC0AMkAzAC8AOsA4wDqAAgBLgElAQMB5QDLAOUA8gDpAAsBDQEOATsBbAFbATgBEgHtABYBHAEVAT0BOQE+AXYBnQGVAWMBMgEPATIBOwEtAWQBXAFjAaYB0QHTAZQBWwExAVABVAE+AWoBXAFrAbMB6wH5AZQBZwE2AVEBaAFWAZYBjAGkAdgBJAIvAs8BlwFqAZUBoQGHAaMBzQHYARcCbgJeAvwBzQGGAbAB",
                    "dtype": "i2"
                  },
                  "yaxis": "y"
                }
              ],
              "layout": {
                "legend": {
                  "tracegroupgap": 0
                },
                "template": {
                  "data": {
                    "bar": [
                      {
                        "error_x": {
                          "color": "#2a3f5f"
                        },
                        "error_y": {
                          "color": "#2a3f5f"
                        },
                        "marker": {
                          "line": {
                            "color": "#E5ECF6",
                            "width": 0.5
                          },
                          "pattern": {
                            "fillmode": "overlay",
                            "size": 10,
                            "solidity": 0.2
                          }
                        },
                        "type": "bar"
                      }
                    ],
                    "barpolar": [
                      {
                        "marker": {
                          "line": {
                            "color": "#E5ECF6",
                            "width": 0.5
                          },
                          "pattern": {
                            "fillmode": "overlay",
                            "size": 10,
                            "solidity": 0.2
                          }
                        },
                        "type": "barpolar"
                      }
                    ],
                    "carpet": [
                      {
                        "aaxis": {
                          "endlinecolor": "#2a3f5f",
                          "gridcolor": "white",
                          "linecolor": "white",
                          "minorgridcolor": "white",
                          "startlinecolor": "#2a3f5f"
                        },
                        "baxis": {
                          "endlinecolor": "#2a3f5f",
                          "gridcolor": "white",
                          "linecolor": "white",
                          "minorgridcolor": "white",
                          "startlinecolor": "#2a3f5f"
                        },
                        "type": "carpet"
                      }
                    ],
                    "choropleth": [
                      {
                        "colorbar": {
                          "outlinewidth": 0,
                          "ticks": ""
                        },
                        "type": "choropleth"
                      }
                    ],
                    "contour": [
                      {
                        "colorbar": {
                          "outlinewidth": 0,
                          "ticks": ""
                        },
                        "colorscale": [
                          [
                            0,
                            "#0d0887"
                          ],
                          [
                            0.1111111111111111,
                            "#46039f"
                          ],
                          [
                            0.2222222222222222,
                            "#7201a8"
                          ],
                          [
                            0.3333333333333333,
                            "#9c179e"
                          ],
                          [
                            0.4444444444444444,
                            "#bd3786"
                          ],
                          [
                            0.5555555555555556,
                            "#d8576b"
                          ],
                          [
                            0.6666666666666666,
                            "#ed7953"
                          ],
                          [
                            0.7777777777777778,
                            "#fb9f3a"
                          ],
                          [
                            0.8888888888888888,
                            "#fdca26"
                          ],
                          [
                            1,
                            "#f0f921"
                          ]
                        ],
                        "type": "contour"
                      }
                    ],
                    "contourcarpet": [
                      {
                        "colorbar": {
                          "outlinewidth": 0,
                          "ticks": ""
                        },
                        "type": "contourcarpet"
                      }
                    ],
                    "heatmap": [
                      {
                        "colorbar": {
                          "outlinewidth": 0,
                          "ticks": ""
                        },
                        "colorscale": [
                          [
                            0,
                            "#0d0887"
                          ],
                          [
                            0.1111111111111111,
                            "#46039f"
                          ],
                          [
                            0.2222222222222222,
                            "#7201a8"
                          ],
                          [
                            0.3333333333333333,
                            "#9c179e"
                          ],
                          [
                            0.4444444444444444,
                            "#bd3786"
                          ],
                          [
                            0.5555555555555556,
                            "#d8576b"
                          ],
                          [
                            0.6666666666666666,
                            "#ed7953"
                          ],
                          [
                            0.7777777777777778,
                            "#fb9f3a"
                          ],
                          [
                            0.8888888888888888,
                            "#fdca26"
                          ],
                          [
                            1,
                            "#f0f921"
                          ]
                        ],
                        "type": "heatmap"
                      }
                    ],
                    "histogram": [
                      {
                        "marker": {
                          "pattern": {
                            "fillmode": "overlay",
                            "size": 10,
                            "solidity": 0.2
                          }
                        },
                        "type": "histogram"
                      }
                    ],
                    "histogram2d": [
                      {
                        "colorbar": {
                          "outlinewidth": 0,
                          "ticks": ""
                        },
                        "colorscale": [
                          [
                            0,
                            "#0d0887"
                          ],
                          [
                            0.1111111111111111,
                            "#46039f"
                          ],
                          [
                            0.2222222222222222,
                            "#7201a8"
                          ],
                          [
                            0.3333333333333333,
                            "#9c179e"
                          ],
                          [
                            0.4444444444444444,
                            "#bd3786"
                          ],
                          [
                            0.5555555555555556,
                            "#d8576b"
                          ],
                          [
                            0.6666666666666666,
                            "#ed7953"
                          ],
                          [
                            0.7777777777777778,
                            "#fb9f3a"
                          ],
                          [
                            0.8888888888888888,
                            "#fdca26"
                          ],
                          [
                            1,
                            "#f0f921"
                          ]
                        ],
                        "type": "histogram2d"
                      }
                    ],
                    "histogram2dcontour": [
                      {
                        "colorbar": {
                          "outlinewidth": 0,
                          "ticks": ""
                        },
                        "colorscale": [
                          [
                            0,
                            "#0d0887"
                          ],
                          [
                            0.1111111111111111,
                            "#46039f"
                          ],
                          [
                            0.2222222222222222,
                            "#7201a8"
                          ],
                          [
                            0.3333333333333333,
                            "#9c179e"
                          ],
                          [
                            0.4444444444444444,
                            "#bd3786"
                          ],
                          [
                            0.5555555555555556,
                            "#d8576b"
                          ],
                          [
                            0.6666666666666666,
                            "#ed7953"
                          ],
                          [
                            0.7777777777777778,
                            "#fb9f3a"
                          ],
                          [
                            0.8888888888888888,
                            "#fdca26"
                          ],
                          [
                            1,
                            "#f0f921"
                          ]
                        ],
                        "type": "histogram2dcontour"
                      }
                    ],
                    "mesh3d": [
                      {
                        "colorbar": {
                          "outlinewidth": 0,
                          "ticks": ""
                        },
                        "type": "mesh3d"
                      }
                    ],
                    "parcoords": [
                      {
                        "line": {
                          "colorbar": {
                            "outlinewidth": 0,
                            "ticks": ""
                          }
                        },
                        "type": "parcoords"
                      }
                    ],
                    "pie": [
                      {
                        "automargin": true,
                        "type": "pie"
                      }
                    ],
                    "scatter": [
                      {
                        "fillpattern": {
                          "fillmode": "overlay",
                          "size": 10,
                          "solidity": 0.2
                        },
                        "type": "scatter"
                      }
                    ],
                    "scatter3d": [
                      {
                        "line": {
                          "colorbar": {
                            "outlinewidth": 0,
                            "ticks": ""
                          }
                        },
                        "marker": {
                          "colorbar": {
                            "outlinewidth": 0,
                            "ticks": ""
                          }
                        },
                        "type": "scatter3d"
                      }
                    ],
                    "scattercarpet": [
                      {
                        "marker": {
                          "colorbar": {
                            "outlinewidth": 0,
                            "ticks": ""
                          }
                        },
                        "type": "scattercarpet"
                      }
                    ],
                    "scattergeo": [
                      {
                        "marker": {
                          "colorbar": {
                            "outlinewidth": 0,
                            "ticks": ""
                          }
                        },
                        "type": "scattergeo"
                      }
                    ],
                    "scattergl": [
                      {
                        "marker": {
                          "colorbar": {
                            "outlinewidth": 0,
                            "ticks": ""
                          }
                        },
                        "type": "scattergl"
                      }
                    ],
                    "scattermap": [
                      {
                        "marker": {
                          "colorbar": {
                            "outlinewidth": 0,
                            "ticks": ""
                          }
                        },
                        "type": "scattermap"
                      }
                    ],
                    "scattermapbox": [
                      {
                        "marker": {
                          "colorbar": {
                            "outlinewidth": 0,
                            "ticks": ""
                          }
                        },
                        "type": "scattermapbox"
                      }
                    ],
                    "scatterpolar": [
                      {
                        "marker": {
                          "colorbar": {
                            "outlinewidth": 0,
                            "ticks": ""
                          }
                        },
                        "type": "scatterpolar"
                      }
                    ],
                    "scatterpolargl": [
                      {
                        "marker": {
                          "colorbar": {
                            "outlinewidth": 0,
                            "ticks": ""
                          }
                        },
                        "type": "scatterpolargl"
                      }
                    ],
                    "scatterternary": [
                      {
                        "marker": {
                          "colorbar": {
                            "outlinewidth": 0,
                            "ticks": ""
                          }
                        },
                        "type": "scatterternary"
                      }
                    ],
                    "surface": [
                      {
                        "colorbar": {
                          "outlinewidth": 0,
                          "ticks": ""
                        },
                        "colorscale": [
                          [
                            0,
                            "#0d0887"
                          ],
                          [
                            0.1111111111111111,
                            "#46039f"
                          ],
                          [
                            0.2222222222222222,
                            "#7201a8"
                          ],
                          [
                            0.3333333333333333,
                            "#9c179e"
                          ],
                          [
                            0.4444444444444444,
                            "#bd3786"
                          ],
                          [
                            0.5555555555555556,
                            "#d8576b"
                          ],
                          [
                            0.6666666666666666,
                            "#ed7953"
                          ],
                          [
                            0.7777777777777778,
                            "#fb9f3a"
                          ],
                          [
                            0.8888888888888888,
                            "#fdca26"
                          ],
                          [
                            1,
                            "#f0f921"
                          ]
                        ],
                        "type": "surface"
                      }
                    ],
                    "table": [
                      {
                        "cells": {
                          "fill": {
                            "color": "#EBF0F8"
                          },
                          "line": {
                            "color": "white"
                          }
                        },
                        "header": {
                          "fill": {
                            "color": "#C8D4E3"
                          },
                          "line": {
                            "color": "white"
                          }
                        },
                        "type": "table"
                      }
                    ]
                  },
                  "layout": {
                    "annotationdefaults": {
                      "arrowcolor": "#2a3f5f",
                      "arrowhead": 0,
                      "arrowwidth": 1
                    },
                    "autotypenumbers": "strict",
                    "coloraxis": {
                      "colorbar": {
                        "outlinewidth": 0,
                        "ticks": ""
                      }
                    },
                    "colorscale": {
                      "diverging": [
                        [
                          0,
                          "#8e0152"
                        ],
                        [
                          0.1,
                          "#c51b7d"
                        ],
                        [
                          0.2,
                          "#de77ae"
                        ],
                        [
                          0.3,
                          "#f1b6da"
                        ],
                        [
                          0.4,
                          "#fde0ef"
                        ],
                        [
                          0.5,
                          "#f7f7f7"
                        ],
                        [
                          0.6,
                          "#e6f5d0"
                        ],
                        [
                          0.7,
                          "#b8e186"
                        ],
                        [
                          0.8,
                          "#7fbc41"
                        ],
                        [
                          0.9,
                          "#4d9221"
                        ],
                        [
                          1,
                          "#276419"
                        ]
                      ],
                      "sequential": [
                        [
                          0,
                          "#0d0887"
                        ],
                        [
                          0.1111111111111111,
                          "#46039f"
                        ],
                        [
                          0.2222222222222222,
                          "#7201a8"
                        ],
                        [
                          0.3333333333333333,
                          "#9c179e"
                        ],
                        [
                          0.4444444444444444,
                          "#bd3786"
                        ],
                        [
                          0.5555555555555556,
                          "#d8576b"
                        ],
                        [
                          0.6666666666666666,
                          "#ed7953"
                        ],
                        [
                          0.7777777777777778,
                          "#fb9f3a"
                        ],
                        [
                          0.8888888888888888,
                          "#fdca26"
                        ],
                        [
                          1,
                          "#f0f921"
                        ]
                      ],
                      "sequentialminus": [
                        [
                          0,
                          "#0d0887"
                        ],
                        [
                          0.1111111111111111,
                          "#46039f"
                        ],
                        [
                          0.2222222222222222,
                          "#7201a8"
                        ],
                        [
                          0.3333333333333333,
                          "#9c179e"
                        ],
                        [
                          0.4444444444444444,
                          "#bd3786"
                        ],
                        [
                          0.5555555555555556,
                          "#d8576b"
                        ],
                        [
                          0.6666666666666666,
                          "#ed7953"
                        ],
                        [
                          0.7777777777777778,
                          "#fb9f3a"
                        ],
                        [
                          0.8888888888888888,
                          "#fdca26"
                        ],
                        [
                          1,
                          "#f0f921"
                        ]
                      ]
                    },
                    "colorway": [
                      "#636efa",
                      "#EF553B",
                      "#00cc96",
                      "#ab63fa",
                      "#FFA15A",
                      "#19d3f3",
                      "#FF6692",
                      "#B6E880",
                      "#FF97FF",
                      "#FECB52"
                    ],
                    "font": {
                      "color": "#2a3f5f"
                    },
                    "geo": {
                      "bgcolor": "white",
                      "lakecolor": "white",
                      "landcolor": "#E5ECF6",
                      "showlakes": true,
                      "showland": true,
                      "subunitcolor": "white"
                    },
                    "hoverlabel": {
                      "align": "left"
                    },
                    "hovermode": "closest",
                    "mapbox": {
                      "style": "light"
                    },
                    "paper_bgcolor": "white",
                    "plot_bgcolor": "#E5ECF6",
                    "polar": {
                      "angularaxis": {
                        "gridcolor": "white",
                        "linecolor": "white",
                        "ticks": ""
                      },
                      "bgcolor": "#E5ECF6",
                      "radialaxis": {
                        "gridcolor": "white",
                        "linecolor": "white",
                        "ticks": ""
                      }
                    },
                    "scene": {
                      "xaxis": {
                        "backgroundcolor": "#E5ECF6",
                        "gridcolor": "white",
                        "gridwidth": 2,
                        "linecolor": "white",
                        "showbackground": true,
                        "ticks": "",
                        "zerolinecolor": "white"
                      },
                      "yaxis": {
                        "backgroundcolor": "#E5ECF6",
                        "gridcolor": "white",
                        "gridwidth": 2,
                        "linecolor": "white",
                        "showbackground": true,
                        "ticks": "",
                        "zerolinecolor": "white"
                      },
                      "zaxis": {
                        "backgroundcolor": "#E5ECF6",
                        "gridcolor": "white",
                        "gridwidth": 2,
                        "linecolor": "white",
                        "showbackground": true,
                        "ticks": "",
                        "zerolinecolor": "white"
                      }
                    },
                    "shapedefaults": {
                      "line": {
                        "color": "#2a3f5f"
                      }
                    },
                    "ternary": {
                      "aaxis": {
                        "gridcolor": "white",
                        "linecolor": "white",
                        "ticks": ""
                      },
                      "baxis": {
                        "gridcolor": "white",
                        "linecolor": "white",
                        "ticks": ""
                      },
                      "bgcolor": "#E5ECF6",
                      "caxis": {
                        "gridcolor": "white",
                        "linecolor": "white",
                        "ticks": ""
                      }
                    },
                    "title": {
                      "x": 0.05
                    },
                    "xaxis": {
                      "automargin": true,
                      "gridcolor": "white",
                      "linecolor": "white",
                      "ticks": "",
                      "title": {
                        "standoff": 15
                      },
                      "zerolinecolor": "white",
                      "zerolinewidth": 2
                    },
                    "yaxis": {
                      "automargin": true,
                      "gridcolor": "white",
                      "linecolor": "white",
                      "ticks": "",
                      "title": {
                        "standoff": 15
                      },
                      "zerolinecolor": "white",
                      "zerolinewidth": 2
                    }
                  }
                },
                "title": {
                  "text": "월별 항공 승객 수 (1949-1960)"
                },
                "xaxis": {
                  "anchor": "y",
                  "domain": [
                    0,
                    1
                  ],
                  "title": {
                    "text": "Month"
                  }
                },
                "yaxis": {
                  "anchor": "x",
                  "domain": [
                    0,
                    1
                  ],
                  "title": {
                    "text": "Passengers"
                  }
                }
              }
            }
          },
          "metadata": {},
          "output_type": "display_data"
        },
        {
          "name": "stdout",
          "output_type": "stream",
          "text": [
            ">>> Original ADF Test <<<\n",
            "ADF Test Statistic : 0.8153688792060352\n",
            "p-value : 0.9918802434376408\n",
            "#Lags Used : 13\n",
            "Number of Observations Used : 130\n",
            "=> p-value가 0.05보다 크므로, 귀무가설을 기각할 수 없습니다. 데이터는 비정상 시계열입니다.\n",
            "\n"
          ]
        },
        {
          "data": {
            "application/vnd.plotly.v1+json": {
              "config": {
                "plotlyServerURL": "https://plot.ly"
              },
              "data": [
                {
                  "hovertemplate": "Month=%{x}<br>Passengers_diff=%{y}<extra></extra>",
                  "legendgroup": "",
                  "line": {
                    "color": "#636efa",
                    "dash": "solid"
                  },
                  "marker": {
                    "symbol": "circle"
                  },
                  "mode": "lines",
                  "name": "",
                  "orientation": "v",
                  "showlegend": false,
                  "type": "scatter",
                  "x": [
                    "1949-01-01T00:00:00.000000000",
                    "1949-02-01T00:00:00.000000000",
                    "1949-03-01T00:00:00.000000000",
                    "1949-04-01T00:00:00.000000000",
                    "1949-05-01T00:00:00.000000000",
                    "1949-06-01T00:00:00.000000000",
                    "1949-07-01T00:00:00.000000000",
                    "1949-08-01T00:00:00.000000000",
                    "1949-09-01T00:00:00.000000000",
                    "1949-10-01T00:00:00.000000000",
                    "1949-11-01T00:00:00.000000000",
                    "1949-12-01T00:00:00.000000000",
                    "1950-01-01T00:00:00.000000000",
                    "1950-02-01T00:00:00.000000000",
                    "1950-03-01T00:00:00.000000000",
                    "1950-04-01T00:00:00.000000000",
                    "1950-05-01T00:00:00.000000000",
                    "1950-06-01T00:00:00.000000000",
                    "1950-07-01T00:00:00.000000000",
                    "1950-08-01T00:00:00.000000000",
                    "1950-09-01T00:00:00.000000000",
                    "1950-10-01T00:00:00.000000000",
                    "1950-11-01T00:00:00.000000000",
                    "1950-12-01T00:00:00.000000000",
                    "1951-01-01T00:00:00.000000000",
                    "1951-02-01T00:00:00.000000000",
                    "1951-03-01T00:00:00.000000000",
                    "1951-04-01T00:00:00.000000000",
                    "1951-05-01T00:00:00.000000000",
                    "1951-06-01T00:00:00.000000000",
                    "1951-07-01T00:00:00.000000000",
                    "1951-08-01T00:00:00.000000000",
                    "1951-09-01T00:00:00.000000000",
                    "1951-10-01T00:00:00.000000000",
                    "1951-11-01T00:00:00.000000000",
                    "1951-12-01T00:00:00.000000000",
                    "1952-01-01T00:00:00.000000000",
                    "1952-02-01T00:00:00.000000000",
                    "1952-03-01T00:00:00.000000000",
                    "1952-04-01T00:00:00.000000000",
                    "1952-05-01T00:00:00.000000000",
                    "1952-06-01T00:00:00.000000000",
                    "1952-07-01T00:00:00.000000000",
                    "1952-08-01T00:00:00.000000000",
                    "1952-09-01T00:00:00.000000000",
                    "1952-10-01T00:00:00.000000000",
                    "1952-11-01T00:00:00.000000000",
                    "1952-12-01T00:00:00.000000000",
                    "1953-01-01T00:00:00.000000000",
                    "1953-02-01T00:00:00.000000000",
                    "1953-03-01T00:00:00.000000000",
                    "1953-04-01T00:00:00.000000000",
                    "1953-05-01T00:00:00.000000000",
                    "1953-06-01T00:00:00.000000000",
                    "1953-07-01T00:00:00.000000000",
                    "1953-08-01T00:00:00.000000000",
                    "1953-09-01T00:00:00.000000000",
                    "1953-10-01T00:00:00.000000000",
                    "1953-11-01T00:00:00.000000000",
                    "1953-12-01T00:00:00.000000000",
                    "1954-01-01T00:00:00.000000000",
                    "1954-02-01T00:00:00.000000000",
                    "1954-03-01T00:00:00.000000000",
                    "1954-04-01T00:00:00.000000000",
                    "1954-05-01T00:00:00.000000000",
                    "1954-06-01T00:00:00.000000000",
                    "1954-07-01T00:00:00.000000000",
                    "1954-08-01T00:00:00.000000000",
                    "1954-09-01T00:00:00.000000000",
                    "1954-10-01T00:00:00.000000000",
                    "1954-11-01T00:00:00.000000000",
                    "1954-12-01T00:00:00.000000000",
                    "1955-01-01T00:00:00.000000000",
                    "1955-02-01T00:00:00.000000000",
                    "1955-03-01T00:00:00.000000000",
                    "1955-04-01T00:00:00.000000000",
                    "1955-05-01T00:00:00.000000000",
                    "1955-06-01T00:00:00.000000000",
                    "1955-07-01T00:00:00.000000000",
                    "1955-08-01T00:00:00.000000000",
                    "1955-09-01T00:00:00.000000000",
                    "1955-10-01T00:00:00.000000000",
                    "1955-11-01T00:00:00.000000000",
                    "1955-12-01T00:00:00.000000000",
                    "1956-01-01T00:00:00.000000000",
                    "1956-02-01T00:00:00.000000000",
                    "1956-03-01T00:00:00.000000000",
                    "1956-04-01T00:00:00.000000000",
                    "1956-05-01T00:00:00.000000000",
                    "1956-06-01T00:00:00.000000000",
                    "1956-07-01T00:00:00.000000000",
                    "1956-08-01T00:00:00.000000000",
                    "1956-09-01T00:00:00.000000000",
                    "1956-10-01T00:00:00.000000000",
                    "1956-11-01T00:00:00.000000000",
                    "1956-12-01T00:00:00.000000000",
                    "1957-01-01T00:00:00.000000000",
                    "1957-02-01T00:00:00.000000000",
                    "1957-03-01T00:00:00.000000000",
                    "1957-04-01T00:00:00.000000000",
                    "1957-05-01T00:00:00.000000000",
                    "1957-06-01T00:00:00.000000000",
                    "1957-07-01T00:00:00.000000000",
                    "1957-08-01T00:00:00.000000000",
                    "1957-09-01T00:00:00.000000000",
                    "1957-10-01T00:00:00.000000000",
                    "1957-11-01T00:00:00.000000000",
                    "1957-12-01T00:00:00.000000000",
                    "1958-01-01T00:00:00.000000000",
                    "1958-02-01T00:00:00.000000000",
                    "1958-03-01T00:00:00.000000000",
                    "1958-04-01T00:00:00.000000000",
                    "1958-05-01T00:00:00.000000000",
                    "1958-06-01T00:00:00.000000000",
                    "1958-07-01T00:00:00.000000000",
                    "1958-08-01T00:00:00.000000000",
                    "1958-09-01T00:00:00.000000000",
                    "1958-10-01T00:00:00.000000000",
                    "1958-11-01T00:00:00.000000000",
                    "1958-12-01T00:00:00.000000000",
                    "1959-01-01T00:00:00.000000000",
                    "1959-02-01T00:00:00.000000000",
                    "1959-03-01T00:00:00.000000000",
                    "1959-04-01T00:00:00.000000000",
                    "1959-05-01T00:00:00.000000000",
                    "1959-06-01T00:00:00.000000000",
                    "1959-07-01T00:00:00.000000000",
                    "1959-08-01T00:00:00.000000000",
                    "1959-09-01T00:00:00.000000000",
                    "1959-10-01T00:00:00.000000000",
                    "1959-11-01T00:00:00.000000000",
                    "1959-12-01T00:00:00.000000000",
                    "1960-01-01T00:00:00.000000000",
                    "1960-02-01T00:00:00.000000000",
                    "1960-03-01T00:00:00.000000000",
                    "1960-04-01T00:00:00.000000000",
                    "1960-05-01T00:00:00.000000000",
                    "1960-06-01T00:00:00.000000000",
                    "1960-07-01T00:00:00.000000000",
                    "1960-08-01T00:00:00.000000000",
                    "1960-09-01T00:00:00.000000000",
                    "1960-10-01T00:00:00.000000000",
                    "1960-11-01T00:00:00.000000000",
                    "1960-12-01T00:00:00.000000000"
                  ],
                  "xaxis": "x",
                  "y": {
                    "bdata": "AAAAAAAA+H8AAAAAAAAYQAAAAAAAACxAAAAAAAAACMAAAAAAAAAgwAAAAAAAACxAAAAAAAAAKkAAAAAAAAAAAAAAAAAAACjAAAAAAAAAMcAAAAAAAAAuwAAAAAAAACxAAAAAAAAACMAAAAAAAAAmQAAAAAAAAC5AAAAAAAAAGMAAAAAAAAAkwAAAAAAAADhAAAAAAAAANUAAAAAAAAAAAAAAAAAAACjAAAAAAAAAOcAAAAAAAAAzwAAAAAAAADpAAAAAAAAAFEAAAAAAAAAUQAAAAAAAADxAAAAAAAAALsAAAAAAAAAiQAAAAAAAABhAAAAAAAAANUAAAAAAAAAAAAAAAAAAAC7AAAAAAAAANsAAAAAAAAAwwAAAAAAAADRAAAAAAAAAFEAAAAAAAAAiQAAAAAAAACpAAAAAAAAAKMAAAAAAAAAAQAAAAAAAgEFAAAAAAAAAKEAAAAAAAAAoQAAAAAAAgEDAAAAAAAAAMsAAAAAAAAAzwAAAAAAAADZAAAAAAAAAAEAAAAAAAAAAAAAAAAAAAERAAAAAAAAA8L8AAAAAAAAYwAAAAAAAACxAAAAAAAAANUAAAAAAAAAgQAAAAAAAgEHAAAAAAAAAOsAAAAAAAAA/wAAAAAAAADVAAAAAAAAACEAAAAAAAAAwwAAAAAAAgEdAAAAAAAAAIMAAAAAAAAAcQAAAAAAAAD5AAAAAAAAAQ0AAAAAAAAAiwAAAAAAAAEHAAAAAAAAAPsAAAAAAAAA6wAAAAAAAADpAAAAAAAAAKkAAAAAAAAAiwAAAAAAAAEFAAAAAAAAAAEAAAAAAAADwPwAAAAAAgEZAAAAAAACASEAAAAAAAAAxwAAAAAAAgEHAAAAAAAAAQ8AAAAAAAIBCwAAAAAAAgERAAAAAAAAAGEAAAAAAAAAcwAAAAAAAAERAAAAAAAAAEMAAAAAAAAAUQAAAAAAAAExAAAAAAACAQ0AAAAAAAAAgwAAAAAAAAEnAAAAAAACASMAAAAAAAIBBwAAAAAAAgEFAAAAAAAAAIkAAAAAAAAAswAAAAAAAgEtAAAAAAAAAIMAAAAAAAAAcQAAAAAAAwFBAAAAAAACARUAAAAAAAAAAQAAAAAAAgE/AAAAAAACATMAAAAAAAABFwAAAAAAAAD9AAAAAAAAAEEAAAAAAAAA2wAAAAAAAAEZAAAAAAAAALMAAAAAAAAAuQAAAAAAAAFJAAAAAAAAATEAAAAAAAAAsQAAAAAAAQFnAAAAAAACARsAAAAAAAIBIwAAAAAAAADtAAAAAAAAAN0AAAAAAAAAywAAAAAAAAFBAAAAAAAAAJMAAAAAAAAA4QAAAAAAAAEpAAAAAAAAAU0AAAAAAAAAmQAAAAAAAAFjAAAAAAAAATMAAAAAAAIBGwAAAAAAAgEVAAAAAAAAAKEAAAAAAAAA6wAAAAAAAADxAAAAAAAAARUAAAAAAAAAmQAAAAAAAgE9AAAAAAADAVUAAAAAAAAAwwAAAAAAAgFjAAAAAAACAR8AAAAAAAMBRwAAAAAAAAEVA",
                    "dtype": "f8"
                  },
                  "yaxis": "y"
                }
              ],
              "layout": {
                "legend": {
                  "tracegroupgap": 0
                },
                "template": {
                  "data": {
                    "bar": [
                      {
                        "error_x": {
                          "color": "#2a3f5f"
                        },
                        "error_y": {
                          "color": "#2a3f5f"
                        },
                        "marker": {
                          "line": {
                            "color": "#E5ECF6",
                            "width": 0.5
                          },
                          "pattern": {
                            "fillmode": "overlay",
                            "size": 10,
                            "solidity": 0.2
                          }
                        },
                        "type": "bar"
                      }
                    ],
                    "barpolar": [
                      {
                        "marker": {
                          "line": {
                            "color": "#E5ECF6",
                            "width": 0.5
                          },
                          "pattern": {
                            "fillmode": "overlay",
                            "size": 10,
                            "solidity": 0.2
                          }
                        },
                        "type": "barpolar"
                      }
                    ],
                    "carpet": [
                      {
                        "aaxis": {
                          "endlinecolor": "#2a3f5f",
                          "gridcolor": "white",
                          "linecolor": "white",
                          "minorgridcolor": "white",
                          "startlinecolor": "#2a3f5f"
                        },
                        "baxis": {
                          "endlinecolor": "#2a3f5f",
                          "gridcolor": "white",
                          "linecolor": "white",
                          "minorgridcolor": "white",
                          "startlinecolor": "#2a3f5f"
                        },
                        "type": "carpet"
                      }
                    ],
                    "choropleth": [
                      {
                        "colorbar": {
                          "outlinewidth": 0,
                          "ticks": ""
                        },
                        "type": "choropleth"
                      }
                    ],
                    "contour": [
                      {
                        "colorbar": {
                          "outlinewidth": 0,
                          "ticks": ""
                        },
                        "colorscale": [
                          [
                            0,
                            "#0d0887"
                          ],
                          [
                            0.1111111111111111,
                            "#46039f"
                          ],
                          [
                            0.2222222222222222,
                            "#7201a8"
                          ],
                          [
                            0.3333333333333333,
                            "#9c179e"
                          ],
                          [
                            0.4444444444444444,
                            "#bd3786"
                          ],
                          [
                            0.5555555555555556,
                            "#d8576b"
                          ],
                          [
                            0.6666666666666666,
                            "#ed7953"
                          ],
                          [
                            0.7777777777777778,
                            "#fb9f3a"
                          ],
                          [
                            0.8888888888888888,
                            "#fdca26"
                          ],
                          [
                            1,
                            "#f0f921"
                          ]
                        ],
                        "type": "contour"
                      }
                    ],
                    "contourcarpet": [
                      {
                        "colorbar": {
                          "outlinewidth": 0,
                          "ticks": ""
                        },
                        "type": "contourcarpet"
                      }
                    ],
                    "heatmap": [
                      {
                        "colorbar": {
                          "outlinewidth": 0,
                          "ticks": ""
                        },
                        "colorscale": [
                          [
                            0,
                            "#0d0887"
                          ],
                          [
                            0.1111111111111111,
                            "#46039f"
                          ],
                          [
                            0.2222222222222222,
                            "#7201a8"
                          ],
                          [
                            0.3333333333333333,
                            "#9c179e"
                          ],
                          [
                            0.4444444444444444,
                            "#bd3786"
                          ],
                          [
                            0.5555555555555556,
                            "#d8576b"
                          ],
                          [
                            0.6666666666666666,
                            "#ed7953"
                          ],
                          [
                            0.7777777777777778,
                            "#fb9f3a"
                          ],
                          [
                            0.8888888888888888,
                            "#fdca26"
                          ],
                          [
                            1,
                            "#f0f921"
                          ]
                        ],
                        "type": "heatmap"
                      }
                    ],
                    "histogram": [
                      {
                        "marker": {
                          "pattern": {
                            "fillmode": "overlay",
                            "size": 10,
                            "solidity": 0.2
                          }
                        },
                        "type": "histogram"
                      }
                    ],
                    "histogram2d": [
                      {
                        "colorbar": {
                          "outlinewidth": 0,
                          "ticks": ""
                        },
                        "colorscale": [
                          [
                            0,
                            "#0d0887"
                          ],
                          [
                            0.1111111111111111,
                            "#46039f"
                          ],
                          [
                            0.2222222222222222,
                            "#7201a8"
                          ],
                          [
                            0.3333333333333333,
                            "#9c179e"
                          ],
                          [
                            0.4444444444444444,
                            "#bd3786"
                          ],
                          [
                            0.5555555555555556,
                            "#d8576b"
                          ],
                          [
                            0.6666666666666666,
                            "#ed7953"
                          ],
                          [
                            0.7777777777777778,
                            "#fb9f3a"
                          ],
                          [
                            0.8888888888888888,
                            "#fdca26"
                          ],
                          [
                            1,
                            "#f0f921"
                          ]
                        ],
                        "type": "histogram2d"
                      }
                    ],
                    "histogram2dcontour": [
                      {
                        "colorbar": {
                          "outlinewidth": 0,
                          "ticks": ""
                        },
                        "colorscale": [
                          [
                            0,
                            "#0d0887"
                          ],
                          [
                            0.1111111111111111,
                            "#46039f"
                          ],
                          [
                            0.2222222222222222,
                            "#7201a8"
                          ],
                          [
                            0.3333333333333333,
                            "#9c179e"
                          ],
                          [
                            0.4444444444444444,
                            "#bd3786"
                          ],
                          [
                            0.5555555555555556,
                            "#d8576b"
                          ],
                          [
                            0.6666666666666666,
                            "#ed7953"
                          ],
                          [
                            0.7777777777777778,
                            "#fb9f3a"
                          ],
                          [
                            0.8888888888888888,
                            "#fdca26"
                          ],
                          [
                            1,
                            "#f0f921"
                          ]
                        ],
                        "type": "histogram2dcontour"
                      }
                    ],
                    "mesh3d": [
                      {
                        "colorbar": {
                          "outlinewidth": 0,
                          "ticks": ""
                        },
                        "type": "mesh3d"
                      }
                    ],
                    "parcoords": [
                      {
                        "line": {
                          "colorbar": {
                            "outlinewidth": 0,
                            "ticks": ""
                          }
                        },
                        "type": "parcoords"
                      }
                    ],
                    "pie": [
                      {
                        "automargin": true,
                        "type": "pie"
                      }
                    ],
                    "scatter": [
                      {
                        "fillpattern": {
                          "fillmode": "overlay",
                          "size": 10,
                          "solidity": 0.2
                        },
                        "type": "scatter"
                      }
                    ],
                    "scatter3d": [
                      {
                        "line": {
                          "colorbar": {
                            "outlinewidth": 0,
                            "ticks": ""
                          }
                        },
                        "marker": {
                          "colorbar": {
                            "outlinewidth": 0,
                            "ticks": ""
                          }
                        },
                        "type": "scatter3d"
                      }
                    ],
                    "scattercarpet": [
                      {
                        "marker": {
                          "colorbar": {
                            "outlinewidth": 0,
                            "ticks": ""
                          }
                        },
                        "type": "scattercarpet"
                      }
                    ],
                    "scattergeo": [
                      {
                        "marker": {
                          "colorbar": {
                            "outlinewidth": 0,
                            "ticks": ""
                          }
                        },
                        "type": "scattergeo"
                      }
                    ],
                    "scattergl": [
                      {
                        "marker": {
                          "colorbar": {
                            "outlinewidth": 0,
                            "ticks": ""
                          }
                        },
                        "type": "scattergl"
                      }
                    ],
                    "scattermap": [
                      {
                        "marker": {
                          "colorbar": {
                            "outlinewidth": 0,
                            "ticks": ""
                          }
                        },
                        "type": "scattermap"
                      }
                    ],
                    "scattermapbox": [
                      {
                        "marker": {
                          "colorbar": {
                            "outlinewidth": 0,
                            "ticks": ""
                          }
                        },
                        "type": "scattermapbox"
                      }
                    ],
                    "scatterpolar": [
                      {
                        "marker": {
                          "colorbar": {
                            "outlinewidth": 0,
                            "ticks": ""
                          }
                        },
                        "type": "scatterpolar"
                      }
                    ],
                    "scatterpolargl": [
                      {
                        "marker": {
                          "colorbar": {
                            "outlinewidth": 0,
                            "ticks": ""
                          }
                        },
                        "type": "scatterpolargl"
                      }
                    ],
                    "scatterternary": [
                      {
                        "marker": {
                          "colorbar": {
                            "outlinewidth": 0,
                            "ticks": ""
                          }
                        },
                        "type": "scatterternary"
                      }
                    ],
                    "surface": [
                      {
                        "colorbar": {
                          "outlinewidth": 0,
                          "ticks": ""
                        },
                        "colorscale": [
                          [
                            0,
                            "#0d0887"
                          ],
                          [
                            0.1111111111111111,
                            "#46039f"
                          ],
                          [
                            0.2222222222222222,
                            "#7201a8"
                          ],
                          [
                            0.3333333333333333,
                            "#9c179e"
                          ],
                          [
                            0.4444444444444444,
                            "#bd3786"
                          ],
                          [
                            0.5555555555555556,
                            "#d8576b"
                          ],
                          [
                            0.6666666666666666,
                            "#ed7953"
                          ],
                          [
                            0.7777777777777778,
                            "#fb9f3a"
                          ],
                          [
                            0.8888888888888888,
                            "#fdca26"
                          ],
                          [
                            1,
                            "#f0f921"
                          ]
                        ],
                        "type": "surface"
                      }
                    ],
                    "table": [
                      {
                        "cells": {
                          "fill": {
                            "color": "#EBF0F8"
                          },
                          "line": {
                            "color": "white"
                          }
                        },
                        "header": {
                          "fill": {
                            "color": "#C8D4E3"
                          },
                          "line": {
                            "color": "white"
                          }
                        },
                        "type": "table"
                      }
                    ]
                  },
                  "layout": {
                    "annotationdefaults": {
                      "arrowcolor": "#2a3f5f",
                      "arrowhead": 0,
                      "arrowwidth": 1
                    },
                    "autotypenumbers": "strict",
                    "coloraxis": {
                      "colorbar": {
                        "outlinewidth": 0,
                        "ticks": ""
                      }
                    },
                    "colorscale": {
                      "diverging": [
                        [
                          0,
                          "#8e0152"
                        ],
                        [
                          0.1,
                          "#c51b7d"
                        ],
                        [
                          0.2,
                          "#de77ae"
                        ],
                        [
                          0.3,
                          "#f1b6da"
                        ],
                        [
                          0.4,
                          "#fde0ef"
                        ],
                        [
                          0.5,
                          "#f7f7f7"
                        ],
                        [
                          0.6,
                          "#e6f5d0"
                        ],
                        [
                          0.7,
                          "#b8e186"
                        ],
                        [
                          0.8,
                          "#7fbc41"
                        ],
                        [
                          0.9,
                          "#4d9221"
                        ],
                        [
                          1,
                          "#276419"
                        ]
                      ],
                      "sequential": [
                        [
                          0,
                          "#0d0887"
                        ],
                        [
                          0.1111111111111111,
                          "#46039f"
                        ],
                        [
                          0.2222222222222222,
                          "#7201a8"
                        ],
                        [
                          0.3333333333333333,
                          "#9c179e"
                        ],
                        [
                          0.4444444444444444,
                          "#bd3786"
                        ],
                        [
                          0.5555555555555556,
                          "#d8576b"
                        ],
                        [
                          0.6666666666666666,
                          "#ed7953"
                        ],
                        [
                          0.7777777777777778,
                          "#fb9f3a"
                        ],
                        [
                          0.8888888888888888,
                          "#fdca26"
                        ],
                        [
                          1,
                          "#f0f921"
                        ]
                      ],
                      "sequentialminus": [
                        [
                          0,
                          "#0d0887"
                        ],
                        [
                          0.1111111111111111,
                          "#46039f"
                        ],
                        [
                          0.2222222222222222,
                          "#7201a8"
                        ],
                        [
                          0.3333333333333333,
                          "#9c179e"
                        ],
                        [
                          0.4444444444444444,
                          "#bd3786"
                        ],
                        [
                          0.5555555555555556,
                          "#d8576b"
                        ],
                        [
                          0.6666666666666666,
                          "#ed7953"
                        ],
                        [
                          0.7777777777777778,
                          "#fb9f3a"
                        ],
                        [
                          0.8888888888888888,
                          "#fdca26"
                        ],
                        [
                          1,
                          "#f0f921"
                        ]
                      ]
                    },
                    "colorway": [
                      "#636efa",
                      "#EF553B",
                      "#00cc96",
                      "#ab63fa",
                      "#FFA15A",
                      "#19d3f3",
                      "#FF6692",
                      "#B6E880",
                      "#FF97FF",
                      "#FECB52"
                    ],
                    "font": {
                      "color": "#2a3f5f"
                    },
                    "geo": {
                      "bgcolor": "white",
                      "lakecolor": "white",
                      "landcolor": "#E5ECF6",
                      "showlakes": true,
                      "showland": true,
                      "subunitcolor": "white"
                    },
                    "hoverlabel": {
                      "align": "left"
                    },
                    "hovermode": "closest",
                    "mapbox": {
                      "style": "light"
                    },
                    "paper_bgcolor": "white",
                    "plot_bgcolor": "#E5ECF6",
                    "polar": {
                      "angularaxis": {
                        "gridcolor": "white",
                        "linecolor": "white",
                        "ticks": ""
                      },
                      "bgcolor": "#E5ECF6",
                      "radialaxis": {
                        "gridcolor": "white",
                        "linecolor": "white",
                        "ticks": ""
                      }
                    },
                    "scene": {
                      "xaxis": {
                        "backgroundcolor": "#E5ECF6",
                        "gridcolor": "white",
                        "gridwidth": 2,
                        "linecolor": "white",
                        "showbackground": true,
                        "ticks": "",
                        "zerolinecolor": "white"
                      },
                      "yaxis": {
                        "backgroundcolor": "#E5ECF6",
                        "gridcolor": "white",
                        "gridwidth": 2,
                        "linecolor": "white",
                        "showbackground": true,
                        "ticks": "",
                        "zerolinecolor": "white"
                      },
                      "zaxis": {
                        "backgroundcolor": "#E5ECF6",
                        "gridcolor": "white",
                        "gridwidth": 2,
                        "linecolor": "white",
                        "showbackground": true,
                        "ticks": "",
                        "zerolinecolor": "white"
                      }
                    },
                    "shapedefaults": {
                      "line": {
                        "color": "#2a3f5f"
                      }
                    },
                    "ternary": {
                      "aaxis": {
                        "gridcolor": "white",
                        "linecolor": "white",
                        "ticks": ""
                      },
                      "baxis": {
                        "gridcolor": "white",
                        "linecolor": "white",
                        "ticks": ""
                      },
                      "bgcolor": "#E5ECF6",
                      "caxis": {
                        "gridcolor": "white",
                        "linecolor": "white",
                        "ticks": ""
                      }
                    },
                    "title": {
                      "x": 0.05
                    },
                    "xaxis": {
                      "automargin": true,
                      "gridcolor": "white",
                      "linecolor": "white",
                      "ticks": "",
                      "title": {
                        "standoff": 15
                      },
                      "zerolinecolor": "white",
                      "zerolinewidth": 2
                    },
                    "yaxis": {
                      "automargin": true,
                      "gridcolor": "white",
                      "linecolor": "white",
                      "ticks": "",
                      "title": {
                        "standoff": 15
                      },
                      "zerolinecolor": "white",
                      "zerolinewidth": 2
                    }
                  }
                },
                "title": {
                  "text": "1차 차분된 항공 승객 수"
                },
                "xaxis": {
                  "anchor": "y",
                  "domain": [
                    0,
                    1
                  ],
                  "title": {
                    "text": "Month"
                  }
                },
                "yaxis": {
                  "anchor": "x",
                  "domain": [
                    0,
                    1
                  ],
                  "title": {
                    "text": "Passengers_diff"
                  }
                }
              }
            }
          },
          "metadata": {},
          "output_type": "display_data"
        },
        {
          "name": "stdout",
          "output_type": "stream",
          "text": [
            ">>> 1st Differenced ADF Test <<<\n",
            "ADF Test Statistic : -2.8292668241699945\n",
            "p-value : 0.05421329028382621\n",
            "#Lags Used : 12\n",
            "Number of Observations Used : 130\n",
            "=> p-value가 0.05보다 크므로, 귀무가설을 기각할 수 없습니다. 데이터는 비정상 시계열입니다.\n",
            "\n"
          ]
        }
      ],
      "source": [
        "import pandas as pd\n",
        "import plotly.express as px\n",
        "from statsmodels.tsa.stattools import adfuller\n",
        "\n",
        "# 1. 데이터 로드 및 시각화\n",
        "# 웹에서 바로 데이터를 불러옵니다.\n",
        "url = 'https://raw.githubusercontent.com/jbrownlee/Datasets/master/airline-passengers.csv'\n",
        "df = pd.read_csv(url, index_col='Month', parse_dates=True)\n",
        "df.columns = ['Passengers']\n",
        "\n",
        "# 시계열 데이터 플롯\n",
        "fig = px.line(df, x=df.index, y='Passengers', title='월별 항공 승객 수 (1949-1960)')\n",
        "fig.show()\n",
        "\n",
        "# 2. ADF 검정 함수 정의 및 정상성 확인\n",
        "def adf_test(series, name=''):\n",
        "    \"\"\"주어진 시계열에 대해 ADF 검정을 수행하고 결과를 출력합니다.\"\"\"\n",
        "    print(f'>>> {name} ADF Test <<<')\n",
        "    result = adfuller(series.dropna()) # NaN 값을 제외하고 검정 수행\n",
        "    labels = ['ADF Test Statistic', 'p-value', '#Lags Used', 'Number of Observations Used']\n",
        "    for value, label in zip(result, labels):\n",
        "        print(label + ' : ' + str(value))\n",
        "\n",
        "    if result[1] <= 0.05:\n",
        "        print(\"=> p-value가 0.05보다 작으므로, 귀무가설을 기각합니다. 데이터는 정상성을 만족합니다.\\n\")\n",
        "    else:\n",
        "        print(\"=> p-value가 0.05보다 크므로, 귀무가설을 기각할 수 없습니다. 데이터는 비정상 시계열입니다.\\n\")\n",
        "\n",
        "# 원본 데이터에 대한 ADF 검정\n",
        "adf_test(df['Passengers'], name='Original')\n",
        "\n",
        "# 3. 1차 차분을 통한 정상성 확보\n",
        "df['Passengers_diff'] = df['Passengers'].diff()\n",
        "\n",
        "# 1차 차분 데이터 플롯\n",
        "fig_diff = px.line(df, x=df.index, y='Passengers_diff', title='1차 차분된 항공 승객 수')\n",
        "fig_diff.show()\n",
        "\n",
        "# 1차 차분 데이터에 대한 ADF 검정\n",
        "adf_test(df['Passengers_diff'], name='1st Differenced')"
      ]
    },
    {
      "cell_type": "code",
      "execution_count": 2,
      "metadata": {},
      "outputs": [
        {
          "data": {
            "application/vnd.plotly.v1+json": {
              "config": {
                "plotlyServerURL": "https://plot.ly"
              },
              "data": [
                {
                  "hovertemplate": "Month=%{x}<br>Natural Gas Sales=%{y}<extra></extra>",
                  "legendgroup": "",
                  "line": {
                    "color": "#636efa",
                    "dash": "solid"
                  },
                  "marker": {
                    "symbol": "circle"
                  },
                  "mode": "lines",
                  "name": "",
                  "orientation": "v",
                  "showlegend": false,
                  "type": "scatter",
                  "x": [
                    "2000-01-01T00:00:00.000000000",
                    "2000-02-01T00:00:00.000000000",
                    "2000-03-01T00:00:00.000000000",
                    "2000-04-01T00:00:00.000000000",
                    "2000-05-01T00:00:00.000000000",
                    "2000-06-01T00:00:00.000000000",
                    "2000-07-01T00:00:00.000000000",
                    "2000-08-01T00:00:00.000000000",
                    "2000-09-01T00:00:00.000000000",
                    "2000-10-01T00:00:00.000000000",
                    "2000-11-01T00:00:00.000000000",
                    "2000-12-01T00:00:00.000000000",
                    "2001-01-01T00:00:00.000000000",
                    "2001-02-01T00:00:00.000000000",
                    "2001-03-01T00:00:00.000000000",
                    "2001-04-01T00:00:00.000000000",
                    "2001-05-01T00:00:00.000000000",
                    "2001-06-01T00:00:00.000000000",
                    "2001-07-01T00:00:00.000000000",
                    "2001-08-01T00:00:00.000000000",
                    "2001-09-01T00:00:00.000000000",
                    "2001-10-01T00:00:00.000000000",
                    "2001-11-01T00:00:00.000000000",
                    "2001-12-01T00:00:00.000000000",
                    "2002-01-01T00:00:00.000000000",
                    "2002-02-01T00:00:00.000000000",
                    "2002-03-01T00:00:00.000000000",
                    "2002-04-01T00:00:00.000000000",
                    "2002-05-01T00:00:00.000000000",
                    "2002-06-01T00:00:00.000000000",
                    "2002-07-01T00:00:00.000000000",
                    "2002-08-01T00:00:00.000000000",
                    "2002-09-01T00:00:00.000000000",
                    "2002-10-01T00:00:00.000000000",
                    "2002-11-01T00:00:00.000000000",
                    "2002-12-01T00:00:00.000000000",
                    "2003-01-01T00:00:00.000000000",
                    "2003-02-01T00:00:00.000000000",
                    "2003-03-01T00:00:00.000000000",
                    "2003-04-01T00:00:00.000000000",
                    "2003-05-01T00:00:00.000000000",
                    "2003-06-01T00:00:00.000000000",
                    "2003-07-01T00:00:00.000000000",
                    "2003-08-01T00:00:00.000000000",
                    "2003-09-01T00:00:00.000000000",
                    "2003-10-01T00:00:00.000000000",
                    "2003-11-01T00:00:00.000000000",
                    "2003-12-01T00:00:00.000000000",
                    "2004-01-01T00:00:00.000000000",
                    "2004-02-01T00:00:00.000000000",
                    "2004-03-01T00:00:00.000000000",
                    "2004-04-01T00:00:00.000000000",
                    "2004-05-01T00:00:00.000000000",
                    "2004-06-01T00:00:00.000000000",
                    "2004-07-01T00:00:00.000000000",
                    "2004-08-01T00:00:00.000000000",
                    "2004-09-01T00:00:00.000000000",
                    "2004-10-01T00:00:00.000000000",
                    "2004-11-01T00:00:00.000000000",
                    "2004-12-01T00:00:00.000000000",
                    "2005-01-01T00:00:00.000000000",
                    "2005-02-01T00:00:00.000000000",
                    "2005-03-01T00:00:00.000000000",
                    "2005-04-01T00:00:00.000000000",
                    "2005-05-01T00:00:00.000000000",
                    "2005-06-01T00:00:00.000000000",
                    "2005-07-01T00:00:00.000000000",
                    "2005-08-01T00:00:00.000000000",
                    "2005-09-01T00:00:00.000000000",
                    "2005-10-01T00:00:00.000000000",
                    "2005-11-01T00:00:00.000000000",
                    "2005-12-01T00:00:00.000000000",
                    "2006-01-01T00:00:00.000000000",
                    "2006-02-01T00:00:00.000000000",
                    "2006-03-01T00:00:00.000000000",
                    "2006-04-01T00:00:00.000000000",
                    "2006-05-01T00:00:00.000000000",
                    "2006-06-01T00:00:00.000000000",
                    "2006-07-01T00:00:00.000000000",
                    "2006-08-01T00:00:00.000000000",
                    "2006-09-01T00:00:00.000000000",
                    "2006-10-01T00:00:00.000000000",
                    "2006-11-01T00:00:00.000000000",
                    "2006-12-01T00:00:00.000000000",
                    "2007-01-01T00:00:00.000000000",
                    "2007-02-01T00:00:00.000000000",
                    "2007-03-01T00:00:00.000000000",
                    "2007-04-01T00:00:00.000000000",
                    "2007-05-01T00:00:00.000000000",
                    "2007-06-01T00:00:00.000000000",
                    "2007-07-01T00:00:00.000000000",
                    "2007-08-01T00:00:00.000000000",
                    "2007-09-01T00:00:00.000000000",
                    "2007-10-01T00:00:00.000000000",
                    "2007-11-01T00:00:00.000000000",
                    "2007-12-01T00:00:00.000000000",
                    "2008-01-01T00:00:00.000000000",
                    "2008-02-01T00:00:00.000000000",
                    "2008-03-01T00:00:00.000000000",
                    "2008-04-01T00:00:00.000000000",
                    "2008-05-01T00:00:00.000000000",
                    "2008-06-01T00:00:00.000000000",
                    "2008-07-01T00:00:00.000000000",
                    "2008-08-01T00:00:00.000000000",
                    "2008-09-01T00:00:00.000000000",
                    "2008-10-01T00:00:00.000000000",
                    "2008-11-01T00:00:00.000000000",
                    "2008-12-01T00:00:00.000000000",
                    "2009-01-01T00:00:00.000000000",
                    "2009-02-01T00:00:00.000000000",
                    "2009-03-01T00:00:00.000000000",
                    "2009-04-01T00:00:00.000000000",
                    "2009-05-01T00:00:00.000000000",
                    "2009-06-01T00:00:00.000000000",
                    "2009-07-01T00:00:00.000000000",
                    "2009-08-01T00:00:00.000000000",
                    "2009-09-01T00:00:00.000000000",
                    "2009-10-01T00:00:00.000000000",
                    "2009-11-01T00:00:00.000000000",
                    "2009-12-01T00:00:00.000000000",
                    "2010-01-01T00:00:00.000000000",
                    "2010-02-01T00:00:00.000000000",
                    "2010-03-01T00:00:00.000000000",
                    "2010-04-01T00:00:00.000000000",
                    "2010-05-01T00:00:00.000000000",
                    "2010-06-01T00:00:00.000000000",
                    "2010-07-01T00:00:00.000000000",
                    "2010-08-01T00:00:00.000000000",
                    "2010-09-01T00:00:00.000000000",
                    "2010-10-01T00:00:00.000000000",
                    "2010-11-01T00:00:00.000000000",
                    "2010-12-01T00:00:00.000000000",
                    "2011-01-01T00:00:00.000000000",
                    "2011-02-01T00:00:00.000000000",
                    "2011-03-01T00:00:00.000000000",
                    "2011-04-01T00:00:00.000000000",
                    "2011-05-01T00:00:00.000000000",
                    "2011-06-01T00:00:00.000000000",
                    "2011-07-01T00:00:00.000000000",
                    "2011-08-01T00:00:00.000000000",
                    "2011-09-01T00:00:00.000000000",
                    "2011-10-01T00:00:00.000000000",
                    "2011-11-01T00:00:00.000000000",
                    "2011-12-01T00:00:00.000000000",
                    "2012-01-01T00:00:00.000000000",
                    "2012-02-01T00:00:00.000000000",
                    "2012-03-01T00:00:00.000000000",
                    "2012-04-01T00:00:00.000000000",
                    "2012-05-01T00:00:00.000000000",
                    "2012-06-01T00:00:00.000000000",
                    "2012-07-01T00:00:00.000000000",
                    "2012-08-01T00:00:00.000000000",
                    "2012-09-01T00:00:00.000000000",
                    "2012-10-01T00:00:00.000000000",
                    "2012-11-01T00:00:00.000000000",
                    "2012-12-01T00:00:00.000000000",
                    "2013-01-01T00:00:00.000000000",
                    "2013-02-01T00:00:00.000000000",
                    "2013-03-01T00:00:00.000000000",
                    "2013-04-01T00:00:00.000000000",
                    "2013-05-01T00:00:00.000000000",
                    "2013-06-01T00:00:00.000000000",
                    "2013-07-01T00:00:00.000000000",
                    "2013-08-01T00:00:00.000000000",
                    "2013-09-01T00:00:00.000000000",
                    "2013-10-01T00:00:00.000000000",
                    "2013-11-01T00:00:00.000000000",
                    "2013-12-01T00:00:00.000000000",
                    "2014-01-01T00:00:00.000000000",
                    "2014-02-01T00:00:00.000000000",
                    "2014-03-01T00:00:00.000000000",
                    "2014-04-01T00:00:00.000000000",
                    "2014-05-01T00:00:00.000000000",
                    "2014-06-01T00:00:00.000000000",
                    "2014-07-01T00:00:00.000000000",
                    "2014-08-01T00:00:00.000000000",
                    "2014-09-01T00:00:00.000000000",
                    "2014-10-01T00:00:00.000000000",
                    "2014-11-01T00:00:00.000000000",
                    "2014-12-01T00:00:00.000000000",
                    "2015-01-01T00:00:00.000000000",
                    "2015-02-01T00:00:00.000000000",
                    "2015-03-01T00:00:00.000000000",
                    "2015-04-01T00:00:00.000000000",
                    "2015-05-01T00:00:00.000000000",
                    "2015-06-01T00:00:00.000000000",
                    "2015-07-01T00:00:00.000000000",
                    "2015-08-01T00:00:00.000000000",
                    "2015-09-01T00:00:00.000000000",
                    "2015-10-01T00:00:00.000000000",
                    "2015-11-01T00:00:00.000000000",
                    "2015-12-01T00:00:00.000000000",
                    "2016-01-01T00:00:00.000000000",
                    "2016-02-01T00:00:00.000000000",
                    "2016-03-01T00:00:00.000000000",
                    "2016-04-01T00:00:00.000000000",
                    "2016-05-01T00:00:00.000000000",
                    "2016-06-01T00:00:00.000000000",
                    "2016-07-01T00:00:00.000000000",
                    "2016-08-01T00:00:00.000000000",
                    "2016-09-01T00:00:00.000000000",
                    "2016-10-01T00:00:00.000000000",
                    "2016-11-01T00:00:00.000000000",
                    "2016-12-01T00:00:00.000000000",
                    "2017-01-01T00:00:00.000000000",
                    "2017-02-01T00:00:00.000000000",
                    "2017-03-01T00:00:00.000000000",
                    "2017-04-01T00:00:00.000000000",
                    "2017-05-01T00:00:00.000000000",
                    "2017-06-01T00:00:00.000000000",
                    "2017-07-01T00:00:00.000000000",
                    "2017-08-01T00:00:00.000000000",
                    "2017-09-01T00:00:00.000000000",
                    "2017-10-01T00:00:00.000000000",
                    "2017-11-01T00:00:00.000000000",
                    "2017-12-01T00:00:00.000000000",
                    "2018-01-01T00:00:00.000000000",
                    "2018-02-01T00:00:00.000000000",
                    "2018-03-01T00:00:00.000000000",
                    "2018-04-01T00:00:00.000000000",
                    "2018-05-01T00:00:00.000000000",
                    "2018-06-01T00:00:00.000000000",
                    "2018-07-01T00:00:00.000000000",
                    "2018-08-01T00:00:00.000000000",
                    "2018-09-01T00:00:00.000000000",
                    "2018-10-01T00:00:00.000000000",
                    "2018-11-01T00:00:00.000000000",
                    "2018-12-01T00:00:00.000000000",
                    "2019-01-01T00:00:00.000000000",
                    "2019-02-01T00:00:00.000000000",
                    "2019-03-01T00:00:00.000000000",
                    "2019-04-01T00:00:00.000000000",
                    "2019-05-01T00:00:00.000000000",
                    "2019-06-01T00:00:00.000000000",
                    "2019-07-01T00:00:00.000000000",
                    "2019-08-01T00:00:00.000000000",
                    "2019-09-01T00:00:00.000000000",
                    "2019-10-01T00:00:00.000000000",
                    "2019-11-01T00:00:00.000000000",
                    "2019-12-01T00:00:00.000000000",
                    "2020-01-01T00:00:00.000000000",
                    "2020-02-01T00:00:00.000000000",
                    "2020-03-01T00:00:00.000000000",
                    "2020-04-01T00:00:00.000000000",
                    "2020-05-01T00:00:00.000000000",
                    "2020-06-01T00:00:00.000000000",
                    "2020-07-01T00:00:00.000000000",
                    "2020-08-01T00:00:00.000000000",
                    "2020-09-01T00:00:00.000000000",
                    "2020-10-01T00:00:00.000000000",
                    "2020-11-01T00:00:00.000000000",
                    "2020-12-01T00:00:00.000000000",
                    "2021-01-01T00:00:00.000000000",
                    "2021-02-01T00:00:00.000000000",
                    "2021-03-01T00:00:00.000000000",
                    "2021-04-01T00:00:00.000000000",
                    "2021-05-01T00:00:00.000000000",
                    "2021-06-01T00:00:00.000000000",
                    "2021-07-01T00:00:00.000000000",
                    "2021-08-01T00:00:00.000000000",
                    "2021-09-01T00:00:00.000000000",
                    "2021-10-01T00:00:00.000000000",
                    "2021-11-01T00:00:00.000000000",
                    "2021-12-01T00:00:00.000000000",
                    "2022-01-01T00:00:00.000000000",
                    "2022-02-01T00:00:00.000000000",
                    "2022-03-01T00:00:00.000000000",
                    "2022-04-01T00:00:00.000000000",
                    "2022-05-01T00:00:00.000000000",
                    "2022-06-01T00:00:00.000000000",
                    "2022-07-01T00:00:00.000000000",
                    "2022-08-01T00:00:00.000000000",
                    "2022-09-01T00:00:00.000000000",
                    "2022-10-01T00:00:00.000000000",
                    "2022-11-01T00:00:00.000000000",
                    "2022-12-01T00:00:00.000000000",
                    "2023-01-01T00:00:00.000000000",
                    "2023-02-01T00:00:00.000000000",
                    "2023-03-01T00:00:00.000000000",
                    "2023-04-01T00:00:00.000000000",
                    "2023-05-01T00:00:00.000000000",
                    "2023-06-01T00:00:00.000000000",
                    "2023-07-01T00:00:00.000000000",
                    "2023-08-01T00:00:00.000000000",
                    "2023-09-01T00:00:00.000000000",
                    "2023-10-01T00:00:00.000000000",
                    "2023-11-01T00:00:00.000000000",
                    "2023-12-01T00:00:00.000000000",
                    "2024-01-01T00:00:00.000000000",
                    "2024-02-01T00:00:00.000000000",
                    "2024-03-01T00:00:00.000000000",
                    "2024-04-01T00:00:00.000000000",
                    "2024-05-01T00:00:00.000000000",
                    "2024-06-01T00:00:00.000000000",
                    "2024-07-01T00:00:00.000000000",
                    "2024-08-01T00:00:00.000000000",
                    "2024-09-01T00:00:00.000000000",
                    "2024-10-01T00:00:00.000000000",
                    "2024-11-01T00:00:00.000000000",
                    "2024-12-01T00:00:00.000000000",
                    "2025-01-01T00:00:00.000000000",
                    "2025-02-01T00:00:00.000000000",
                    "2025-03-01T00:00:00.000000000"
                  ],
                  "xaxis": "x",
                  "y": {
                    "bdata": "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",
                    "dtype": "f8"
                  },
                  "yaxis": "y"
                }
              ],
              "layout": {
                "legend": {
                  "tracegroupgap": 0
                },
                "template": {
                  "data": {
                    "bar": [
                      {
                        "error_x": {
                          "color": "#2a3f5f"
                        },
                        "error_y": {
                          "color": "#2a3f5f"
                        },
                        "marker": {
                          "line": {
                            "color": "#E5ECF6",
                            "width": 0.5
                          },
                          "pattern": {
                            "fillmode": "overlay",
                            "size": 10,
                            "solidity": 0.2
                          }
                        },
                        "type": "bar"
                      }
                    ],
                    "barpolar": [
                      {
                        "marker": {
                          "line": {
                            "color": "#E5ECF6",
                            "width": 0.5
                          },
                          "pattern": {
                            "fillmode": "overlay",
                            "size": 10,
                            "solidity": 0.2
                          }
                        },
                        "type": "barpolar"
                      }
                    ],
                    "carpet": [
                      {
                        "aaxis": {
                          "endlinecolor": "#2a3f5f",
                          "gridcolor": "white",
                          "linecolor": "white",
                          "minorgridcolor": "white",
                          "startlinecolor": "#2a3f5f"
                        },
                        "baxis": {
                          "endlinecolor": "#2a3f5f",
                          "gridcolor": "white",
                          "linecolor": "white",
                          "minorgridcolor": "white",
                          "startlinecolor": "#2a3f5f"
                        },
                        "type": "carpet"
                      }
                    ],
                    "choropleth": [
                      {
                        "colorbar": {
                          "outlinewidth": 0,
                          "ticks": ""
                        },
                        "type": "choropleth"
                      }
                    ],
                    "contour": [
                      {
                        "colorbar": {
                          "outlinewidth": 0,
                          "ticks": ""
                        },
                        "colorscale": [
                          [
                            0,
                            "#0d0887"
                          ],
                          [
                            0.1111111111111111,
                            "#46039f"
                          ],
                          [
                            0.2222222222222222,
                            "#7201a8"
                          ],
                          [
                            0.3333333333333333,
                            "#9c179e"
                          ],
                          [
                            0.4444444444444444,
                            "#bd3786"
                          ],
                          [
                            0.5555555555555556,
                            "#d8576b"
                          ],
                          [
                            0.6666666666666666,
                            "#ed7953"
                          ],
                          [
                            0.7777777777777778,
                            "#fb9f3a"
                          ],
                          [
                            0.8888888888888888,
                            "#fdca26"
                          ],
                          [
                            1,
                            "#f0f921"
                          ]
                        ],
                        "type": "contour"
                      }
                    ],
                    "contourcarpet": [
                      {
                        "colorbar": {
                          "outlinewidth": 0,
                          "ticks": ""
                        },
                        "type": "contourcarpet"
                      }
                    ],
                    "heatmap": [
                      {
                        "colorbar": {
                          "outlinewidth": 0,
                          "ticks": ""
                        },
                        "colorscale": [
                          [
                            0,
                            "#0d0887"
                          ],
                          [
                            0.1111111111111111,
                            "#46039f"
                          ],
                          [
                            0.2222222222222222,
                            "#7201a8"
                          ],
                          [
                            0.3333333333333333,
                            "#9c179e"
                          ],
                          [
                            0.4444444444444444,
                            "#bd3786"
                          ],
                          [
                            0.5555555555555556,
                            "#d8576b"
                          ],
                          [
                            0.6666666666666666,
                            "#ed7953"
                          ],
                          [
                            0.7777777777777778,
                            "#fb9f3a"
                          ],
                          [
                            0.8888888888888888,
                            "#fdca26"
                          ],
                          [
                            1,
                            "#f0f921"
                          ]
                        ],
                        "type": "heatmap"
                      }
                    ],
                    "histogram": [
                      {
                        "marker": {
                          "pattern": {
                            "fillmode": "overlay",
                            "size": 10,
                            "solidity": 0.2
                          }
                        },
                        "type": "histogram"
                      }
                    ],
                    "histogram2d": [
                      {
                        "colorbar": {
                          "outlinewidth": 0,
                          "ticks": ""
                        },
                        "colorscale": [
                          [
                            0,
                            "#0d0887"
                          ],
                          [
                            0.1111111111111111,
                            "#46039f"
                          ],
                          [
                            0.2222222222222222,
                            "#7201a8"
                          ],
                          [
                            0.3333333333333333,
                            "#9c179e"
                          ],
                          [
                            0.4444444444444444,
                            "#bd3786"
                          ],
                          [
                            0.5555555555555556,
                            "#d8576b"
                          ],
                          [
                            0.6666666666666666,
                            "#ed7953"
                          ],
                          [
                            0.7777777777777778,
                            "#fb9f3a"
                          ],
                          [
                            0.8888888888888888,
                            "#fdca26"
                          ],
                          [
                            1,
                            "#f0f921"
                          ]
                        ],
                        "type": "histogram2d"
                      }
                    ],
                    "histogram2dcontour": [
                      {
                        "colorbar": {
                          "outlinewidth": 0,
                          "ticks": ""
                        },
                        "colorscale": [
                          [
                            0,
                            "#0d0887"
                          ],
                          [
                            0.1111111111111111,
                            "#46039f"
                          ],
                          [
                            0.2222222222222222,
                            "#7201a8"
                          ],
                          [
                            0.3333333333333333,
                            "#9c179e"
                          ],
                          [
                            0.4444444444444444,
                            "#bd3786"
                          ],
                          [
                            0.5555555555555556,
                            "#d8576b"
                          ],
                          [
                            0.6666666666666666,
                            "#ed7953"
                          ],
                          [
                            0.7777777777777778,
                            "#fb9f3a"
                          ],
                          [
                            0.8888888888888888,
                            "#fdca26"
                          ],
                          [
                            1,
                            "#f0f921"
                          ]
                        ],
                        "type": "histogram2dcontour"
                      }
                    ],
                    "mesh3d": [
                      {
                        "colorbar": {
                          "outlinewidth": 0,
                          "ticks": ""
                        },
                        "type": "mesh3d"
                      }
                    ],
                    "parcoords": [
                      {
                        "line": {
                          "colorbar": {
                            "outlinewidth": 0,
                            "ticks": ""
                          }
                        },
                        "type": "parcoords"
                      }
                    ],
                    "pie": [
                      {
                        "automargin": true,
                        "type": "pie"
                      }
                    ],
                    "scatter": [
                      {
                        "fillpattern": {
                          "fillmode": "overlay",
                          "size": 10,
                          "solidity": 0.2
                        },
                        "type": "scatter"
                      }
                    ],
                    "scatter3d": [
                      {
                        "line": {
                          "colorbar": {
                            "outlinewidth": 0,
                            "ticks": ""
                          }
                        },
                        "marker": {
                          "colorbar": {
                            "outlinewidth": 0,
                            "ticks": ""
                          }
                        },
                        "type": "scatter3d"
                      }
                    ],
                    "scattercarpet": [
                      {
                        "marker": {
                          "colorbar": {
                            "outlinewidth": 0,
                            "ticks": ""
                          }
                        },
                        "type": "scattercarpet"
                      }
                    ],
                    "scattergeo": [
                      {
                        "marker": {
                          "colorbar": {
                            "outlinewidth": 0,
                            "ticks": ""
                          }
                        },
                        "type": "scattergeo"
                      }
                    ],
                    "scattergl": [
                      {
                        "marker": {
                          "colorbar": {
                            "outlinewidth": 0,
                            "ticks": ""
                          }
                        },
                        "type": "scattergl"
                      }
                    ],
                    "scattermap": [
                      {
                        "marker": {
                          "colorbar": {
                            "outlinewidth": 0,
                            "ticks": ""
                          }
                        },
                        "type": "scattermap"
                      }
                    ],
                    "scattermapbox": [
                      {
                        "marker": {
                          "colorbar": {
                            "outlinewidth": 0,
                            "ticks": ""
                          }
                        },
                        "type": "scattermapbox"
                      }
                    ],
                    "scatterpolar": [
                      {
                        "marker": {
                          "colorbar": {
                            "outlinewidth": 0,
                            "ticks": ""
                          }
                        },
                        "type": "scatterpolar"
                      }
                    ],
                    "scatterpolargl": [
                      {
                        "marker": {
                          "colorbar": {
                            "outlinewidth": 0,
                            "ticks": ""
                          }
                        },
                        "type": "scatterpolargl"
                      }
                    ],
                    "scatterternary": [
                      {
                        "marker": {
                          "colorbar": {
                            "outlinewidth": 0,
                            "ticks": ""
                          }
                        },
                        "type": "scatterternary"
                      }
                    ],
                    "surface": [
                      {
                        "colorbar": {
                          "outlinewidth": 0,
                          "ticks": ""
                        },
                        "colorscale": [
                          [
                            0,
                            "#0d0887"
                          ],
                          [
                            0.1111111111111111,
                            "#46039f"
                          ],
                          [
                            0.2222222222222222,
                            "#7201a8"
                          ],
                          [
                            0.3333333333333333,
                            "#9c179e"
                          ],
                          [
                            0.4444444444444444,
                            "#bd3786"
                          ],
                          [
                            0.5555555555555556,
                            "#d8576b"
                          ],
                          [
                            0.6666666666666666,
                            "#ed7953"
                          ],
                          [
                            0.7777777777777778,
                            "#fb9f3a"
                          ],
                          [
                            0.8888888888888888,
                            "#fdca26"
                          ],
                          [
                            1,
                            "#f0f921"
                          ]
                        ],
                        "type": "surface"
                      }
                    ],
                    "table": [
                      {
                        "cells": {
                          "fill": {
                            "color": "#EBF0F8"
                          },
                          "line": {
                            "color": "white"
                          }
                        },
                        "header": {
                          "fill": {
                            "color": "#C8D4E3"
                          },
                          "line": {
                            "color": "white"
                          }
                        },
                        "type": "table"
                      }
                    ]
                  },
                  "layout": {
                    "annotationdefaults": {
                      "arrowcolor": "#2a3f5f",
                      "arrowhead": 0,
                      "arrowwidth": 1
                    },
                    "autotypenumbers": "strict",
                    "coloraxis": {
                      "colorbar": {
                        "outlinewidth": 0,
                        "ticks": ""
                      }
                    },
                    "colorscale": {
                      "diverging": [
                        [
                          0,
                          "#8e0152"
                        ],
                        [
                          0.1,
                          "#c51b7d"
                        ],
                        [
                          0.2,
                          "#de77ae"
                        ],
                        [
                          0.3,
                          "#f1b6da"
                        ],
                        [
                          0.4,
                          "#fde0ef"
                        ],
                        [
                          0.5,
                          "#f7f7f7"
                        ],
                        [
                          0.6,
                          "#e6f5d0"
                        ],
                        [
                          0.7,
                          "#b8e186"
                        ],
                        [
                          0.8,
                          "#7fbc41"
                        ],
                        [
                          0.9,
                          "#4d9221"
                        ],
                        [
                          1,
                          "#276419"
                        ]
                      ],
                      "sequential": [
                        [
                          0,
                          "#0d0887"
                        ],
                        [
                          0.1111111111111111,
                          "#46039f"
                        ],
                        [
                          0.2222222222222222,
                          "#7201a8"
                        ],
                        [
                          0.3333333333333333,
                          "#9c179e"
                        ],
                        [
                          0.4444444444444444,
                          "#bd3786"
                        ],
                        [
                          0.5555555555555556,
                          "#d8576b"
                        ],
                        [
                          0.6666666666666666,
                          "#ed7953"
                        ],
                        [
                          0.7777777777777778,
                          "#fb9f3a"
                        ],
                        [
                          0.8888888888888888,
                          "#fdca26"
                        ],
                        [
                          1,
                          "#f0f921"
                        ]
                      ],
                      "sequentialminus": [
                        [
                          0,
                          "#0d0887"
                        ],
                        [
                          0.1111111111111111,
                          "#46039f"
                        ],
                        [
                          0.2222222222222222,
                          "#7201a8"
                        ],
                        [
                          0.3333333333333333,
                          "#9c179e"
                        ],
                        [
                          0.4444444444444444,
                          "#bd3786"
                        ],
                        [
                          0.5555555555555556,
                          "#d8576b"
                        ],
                        [
                          0.6666666666666666,
                          "#ed7953"
                        ],
                        [
                          0.7777777777777778,
                          "#fb9f3a"
                        ],
                        [
                          0.8888888888888888,
                          "#fdca26"
                        ],
                        [
                          1,
                          "#f0f921"
                        ]
                      ]
                    },
                    "colorway": [
                      "#636efa",
                      "#EF553B",
                      "#00cc96",
                      "#ab63fa",
                      "#FFA15A",
                      "#19d3f3",
                      "#FF6692",
                      "#B6E880",
                      "#FF97FF",
                      "#FECB52"
                    ],
                    "font": {
                      "color": "#2a3f5f"
                    },
                    "geo": {
                      "bgcolor": "white",
                      "lakecolor": "white",
                      "landcolor": "#E5ECF6",
                      "showlakes": true,
                      "showland": true,
                      "subunitcolor": "white"
                    },
                    "hoverlabel": {
                      "align": "left"
                    },
                    "hovermode": "closest",
                    "mapbox": {
                      "style": "light"
                    },
                    "paper_bgcolor": "white",
                    "plot_bgcolor": "#E5ECF6",
                    "polar": {
                      "angularaxis": {
                        "gridcolor": "white",
                        "linecolor": "white",
                        "ticks": ""
                      },
                      "bgcolor": "#E5ECF6",
                      "radialaxis": {
                        "gridcolor": "white",
                        "linecolor": "white",
                        "ticks": ""
                      }
                    },
                    "scene": {
                      "xaxis": {
                        "backgroundcolor": "#E5ECF6",
                        "gridcolor": "white",
                        "gridwidth": 2,
                        "linecolor": "white",
                        "showbackground": true,
                        "ticks": "",
                        "zerolinecolor": "white"
                      },
                      "yaxis": {
                        "backgroundcolor": "#E5ECF6",
                        "gridcolor": "white",
                        "gridwidth": 2,
                        "linecolor": "white",
                        "showbackground": true,
                        "ticks": "",
                        "zerolinecolor": "white"
                      },
                      "zaxis": {
                        "backgroundcolor": "#E5ECF6",
                        "gridcolor": "white",
                        "gridwidth": 2,
                        "linecolor": "white",
                        "showbackground": true,
                        "ticks": "",
                        "zerolinecolor": "white"
                      }
                    },
                    "shapedefaults": {
                      "line": {
                        "color": "#2a3f5f"
                      }
                    },
                    "ternary": {
                      "aaxis": {
                        "gridcolor": "white",
                        "linecolor": "white",
                        "ticks": ""
                      },
                      "baxis": {
                        "gridcolor": "white",
                        "linecolor": "white",
                        "ticks": ""
                      },
                      "bgcolor": "#E5ECF6",
                      "caxis": {
                        "gridcolor": "white",
                        "linecolor": "white",
                        "ticks": ""
                      }
                    },
                    "title": {
                      "x": 0.05
                    },
                    "xaxis": {
                      "automargin": true,
                      "gridcolor": "white",
                      "linecolor": "white",
                      "ticks": "",
                      "title": {
                        "standoff": 15
                      },
                      "zerolinecolor": "white",
                      "zerolinewidth": 2
                    },
                    "yaxis": {
                      "automargin": true,
                      "gridcolor": "white",
                      "linecolor": "white",
                      "ticks": "",
                      "title": {
                        "standoff": 15
                      },
                      "zerolinecolor": "white",
                      "zerolinewidth": 2
                    }
                  }
                },
                "title": {
                  "text": "미국 월별 천연가스 판매량 시계열"
                },
                "xaxis": {
                  "anchor": "y",
                  "domain": [
                    0,
                    1
                  ],
                  "title": {
                    "text": "Month"
                  }
                },
                "yaxis": {
                  "anchor": "x",
                  "domain": [
                    0,
                    1
                  ],
                  "title": {
                    "text": "Natural Gas Sales"
                  }
                }
              }
            }
          },
          "metadata": {},
          "output_type": "display_data"
        }
      ],
      "source": [
        "import pandas as pd\n",
        "url = \"https://fred.stlouisfed.org/data/NATURALGAS.txt\"\n",
        "df = pd.read_html(url)\n",
        "df_gas = df[1]\n",
        "df_gas.columns = ['Month', 'Natural Gas Sales']\n",
        "df_gas['Month'] = pd.to_datetime(df_gas['Month'])\n",
        "df_gas.set_index('Month', inplace=True)\n",
        "\n",
        "fig = px.line(df_gas, x=df_gas.index, y='Natural Gas Sales', title='미국 월별 천연가스 판매량 시계열')\n",
        "fig.show()"
      ]
    },
    {
      "cell_type": "markdown",
      "metadata": {
        "id": "STAELnVh5s_5"
      },
      "source": [
        "### ✏️ 연습 문제 (Practice Problems)\n",
        "\n",
        "1.  미국 월별 천연가스 판매량 데이터를 불러와 시계열 그래프로 시각화하고, 데이터의 특징(추세, 계절성)을 설명해보세요.\n",
        "      * 데이터셋 URL: `https://fred.stlouisfed.org/data/NATURALGAS.txt`\n",
        "2.  위 데이터에 대해 ADF 검정을 수행하고 정상성을 만족하는지 확인하세요.\n",
        "3.  데이터가 비정상 시계열이라면, 정상성을 만족할 때까지 차분을 수행하고, 매 차분 단계마다 ADF 검정 결과와 시계열 그래프를 확인하여 비교 설명하세요."
      ]
    },
    {
      "cell_type": "code",
      "execution_count": 3,
      "metadata": {
        "id": "LqIBQiVR5s_5"
      },
      "outputs": [
        {
          "name": "stdout",
          "output_type": "stream",
          "text": [
            ">>>  ADF Test <<<\n",
            "ADF Test Statistic : 0.7019009774398367\n",
            "p-value : 0.9898757305970791\n",
            "#Lags Used : 14\n",
            "Number of Observations Used : 288\n",
            "=> p-value가 0.05보다 크므로, 귀무가설을 기각할 수 없습니다. 데이터는 비정상 시계열입니다.\n",
            "\n",
            ">>>  ADF Test <<<\n",
            "ADF Test Statistic : -6.294503859155284\n",
            "p-value : 3.53286850425418e-08\n",
            "#Lags Used : 13\n",
            "Number of Observations Used : 288\n",
            "=> p-value가 0.05보다 작으므로, 귀무가설을 기각합니다. 데이터는 정상성을 만족합니다.\n",
            "\n"
          ]
        },
        {
          "data": {
            "image/png": "[encoded data removed]",
            "text/plain": [
              "<Figure size 640x480 with 1 Axes>"
            ]
          },
          "metadata": {},
          "output_type": "display_data"
        }
      ],
      "source": [
        "# 연습 문제 1, 2, 3번 풀이 공간\n",
        "import pandas as pd\n",
        "import plotly.express as px\n",
        "from statsmodels.tsa.stattools import adfuller\n",
        "\n",
        "# 1. 데이터 로드 및 시각화\n",
        "url = \"https://fred.stlouisfed.org/data/NATURALGAS.txt\"\n",
        "dfs = pd.read_html(url)\n",
        "df_gas = dfs[1]\n",
        "\n",
        "# 여기에 코드를 작성하여 시각화 및 특징을 설명하세요.\n",
        "df_gas.plot()\n",
        "\n",
        "# 2. ADF 검정 수행\n",
        "# 여기에 코드를 작성하여 원본 데이터의 정상성을 확인하세요.\n",
        "adf_test(df_gas['VALUE'])\n",
        "\n",
        "# 3. 차분 및 정상성 확보\n",
        "# 여기에 코드를 작성하여 차분을 적용하고 정상성을 확인하세요.\n",
        "df_gas_diff = df_gas['VALUE'].diff()\n",
        "df_gas_diff.plot()\n",
        "adf_test(df_gas_diff)"
      ]
    },
    {
      "cell_type": "markdown",
      "metadata": {
        "id": "u00FYsuQ5s_5"
      },
      "source": [
        "-----\n",
        "\n",
        "## 2\\. 단변량 시계열 분석 (Univariate Analysis): ARIMA\n",
        "\n",
        "### 💡 개념 (Concept)\n",
        "\n",
        "**ARIMA(AutoRegressive Integrated Moving Average)** 모델은 가장 대표적인 단변량 시계열 예측 모델입니다. 즉, 하나의 변수(y)의 과거 데이터 패턴과 오차를 학습하여 미래 값을 예측합니다. ARIMA는 세 가지 핵심 요소로 구성됩니다.\n",
        "\n",
        "  * **AR (AutoRegressive, 자기회귀)**: **과거의 값**이 현재의 값에 영향을 미친다는 아이디어에 기반합니다.\n",
        "\n",
        "      * `p`는 참고할 과거 시점의 개수를 의미합니다. (예: `p=3`이면 3개월 전 데이터까지 참고)\n",
        "      * 메타포: \"이번 달 매출은 지난달과 지지난달 매출과 비슷할 거야.\"\n",
        "        $$Y_t = \\phi_1 Y_{t-1} + \\phi_2 Y_{t-2} + \\cdots + \\phi_p Y_{t-p} + \\epsilon_t$$\n",
        "\n",
        "  * **I (Integrated, 통합)**: 비정상 시계열을 정상 시계열로 만들기 위해 필요한 **차분 횟수**를 의미합니다.\n",
        "\n",
        "      * `d`는 차분을 적용한 횟수를 나타냅니다. (d=1이면 1차 차분)\n",
        "\n",
        "  * **MA (Moving Average, 이동평균)**: **과거의 예측 오차**가 현재의 값에 영향을 미친다는 개념입니다.\n",
        "\n",
        "      * `q`는 참고할 과거 예측 오차의 개수를 의미합니다.\n",
        "      * 메타포: \"지난달 매출 예측이 빗나갔으니, 그 오차를 반영해서 이번 달 예측을 보정해야 해.\"\n",
        "        $$Y_t = \\epsilon_t + \\theta_1 \\epsilon_{t-1} + \\theta_2 \\epsilon_{t-2} + \\cdots + \\theta_q \\epsilon_{t-q}$$\n",
        "\n",
        "**ACF와 PACF: p와 q 정하기**\n",
        "ARIMA 모델의 차수 `p`와 `q`를 결정하기 위해 \\*\\*ACF(자기상관함수)\\*\\*와 **PACF(부분자기상관함수)** 플롯을 활용합니다.\n",
        "\n",
        "  * **ACF (Autocorrelation Function)**: 시점 t의 데이터와 그 이전 시점들(t-1, t-2, ...)의 데이터 간의 상관관계를 보여줍니다. **MA 모델의 차수 q를 결정**하는 데 사용됩니다.\n",
        "  * **PACF (Partial Autocorrelation Function)**: 다른 시점들의 영향을 제외하고, 오직 두 시점(t와 t-k)의 데이터 간 순수한 상관관계를 보여줍니다. **AR 모델의 차수 p를 결정**하는 데 사용됩니다.\n",
        "\n",
        "| 모델 | ACF 플롯 특징 | PACF 플롯 특징 |\n",
        "| :--- | :--- | :--- |\n",
        "| **AR(p)** | 점차 감소하며 0에 수렴 | `p` 시점 이후 급격히 0으로 절단 |\n",
        "| **MA(q)** | `q` 시점 이후 급격히 0으로 절단 | 점차 감소하며 0에 수렴 |\n",
        "\n",
        "### 💻 예시 코드 (Example Code)\n",
        "\n",
        "이번에는 `moneystock-spending-series.csv` 데이터셋을 사용하여 ARIMA 모델을 구축하고 예측을 수행합니다. 이 데이터는 M2 통화량과 개인 소비 지출 데이터로 구성되어 있습니다."
      ]
    },
    {
      "cell_type": "code",
      "execution_count": 4,
      "metadata": {
        "id": "uAvqnLrJ5s_5"
      },
      "outputs": [
        {
          "data": {
            "image/png": "[encoded data removed]",
            "text/plain": [
              "<Figure size 1200x400 with 2 Axes>"
            ]
          },
          "metadata": {},
          "output_type": "display_data"
        },
        {
          "name": "stdout",
          "output_type": "stream",
          "text": [
            "                               SARIMAX Results                                \n",
            "==============================================================================\n",
            "Dep. Variable:                  Money   No. Observations:                  252\n",
            "Model:                 ARIMA(1, 2, 1)   Log Likelihood               -1176.729\n",
            "Date:                Tue, 10 Jun 2025   AIC                           2359.458\n",
            "Time:                        17:06:26   BIC                           2370.023\n",
            "Sample:                    01-01-1995   HQIC                          2363.710\n",
            "                         - 12-01-2015                                         \n",
            "Covariance Type:                  opg                                         \n",
            "==============================================================================\n",
            "                 coef    std err          z      P>|z|      [0.025      0.975]\n",
            "------------------------------------------------------------------------------\n",
            "ar.L1          0.2229      0.042      5.297      0.000       0.140       0.305\n",
            "ma.L1         -0.9481      0.021    -45.132      0.000      -0.989      -0.907\n",
            "sigma2       712.5495     33.501     21.270      0.000     646.889     778.210\n",
            "===================================================================================\n",
            "Ljung-Box (L1) (Q):                   0.22   Jarque-Bera (JB):               598.56\n",
            "Prob(Q):                              0.64   Prob(JB):                         0.00\n",
            "Heteroskedasticity (H):               4.31   Skew:                             1.32\n",
            "Prob(H) (two-sided):                  0.00   Kurtosis:                        10.11\n",
            "===================================================================================\n",
            "\n",
            "Warnings:\n",
            "[1] Covariance matrix calculated using the outer product of gradients (complex-step).\n"
          ]
        },
        {
          "data": {
            "application/vnd.plotly.v1+json": {
              "config": {
                "plotlyServerURL": "https://plot.ly"
              },
              "data": [
                {
                  "name": "Train",
                  "type": "scatter",
                  "x": [
                    "1995-01-01T00:00:00.000000000",
                    "1995-02-01T00:00:00.000000000",
                    "1995-03-01T00:00:00.000000000",
                    "1995-04-01T00:00:00.000000000",
                    "1995-05-01T00:00:00.000000000",
                    "1995-06-01T00:00:00.000000000",
                    "1995-07-01T00:00:00.000000000",
                    "1995-08-01T00:00:00.000000000",
                    "1995-09-01T00:00:00.000000000",
                    "1995-10-01T00:00:00.000000000",
                    "1995-11-01T00:00:00.000000000",
                    "1995-12-01T00:00:00.000000000",
                    "1996-01-01T00:00:00.000000000",
                    "1996-02-01T00:00:00.000000000",
                    "1996-03-01T00:00:00.000000000",
                    "1996-04-01T00:00:00.000000000",
                    "1996-05-01T00:00:00.000000000",
                    "1996-06-01T00:00:00.000000000",
                    "1996-07-01T00:00:00.000000000",
                    "1996-08-01T00:00:00.000000000",
                    "1996-09-01T00:00:00.000000000",
                    "1996-10-01T00:00:00.000000000",
                    "1996-11-01T00:00:00.000000000",
                    "1996-12-01T00:00:00.000000000",
                    "1997-01-01T00:00:00.000000000",
                    "1997-02-01T00:00:00.000000000",
                    "1997-03-01T00:00:00.000000000",
                    "1997-04-01T00:00:00.000000000",
                    "1997-05-01T00:00:00.000000000",
                    "1997-06-01T00:00:00.000000000",
                    "1997-07-01T00:00:00.000000000",
                    "1997-08-01T00:00:00.000000000",
                    "1997-09-01T00:00:00.000000000",
                    "1997-10-01T00:00:00.000000000",
                    "1997-11-01T00:00:00.000000000",
                    "1997-12-01T00:00:00.000000000",
                    "1998-01-01T00:00:00.000000000",
                    "1998-02-01T00:00:00.000000000",
                    "1998-03-01T00:00:00.000000000",
                    "1998-04-01T00:00:00.000000000",
                    "1998-05-01T00:00:00.000000000",
                    "1998-06-01T00:00:00.000000000",
                    "1998-07-01T00:00:00.000000000",
                    "1998-08-01T00:00:00.000000000",
                    "1998-09-01T00:00:00.000000000",
                    "1998-10-01T00:00:00.000000000",
                    "1998-11-01T00:00:00.000000000",
                    "1998-12-01T00:00:00.000000000",
                    "1999-01-01T00:00:00.000000000",
                    "1999-02-01T00:00:00.000000000",
                    "1999-03-01T00:00:00.000000000",
                    "1999-04-01T00:00:00.000000000",
                    "1999-05-01T00:00:00.000000000",
                    "1999-06-01T00:00:00.000000000",
                    "1999-07-01T00:00:00.000000000",
                    "1999-08-01T00:00:00.000000000",
                    "1999-09-01T00:00:00.000000000",
                    "1999-10-01T00:00:00.000000000",
                    "1999-11-01T00:00:00.000000000",
                    "1999-12-01T00:00:00.000000000",
                    "2000-01-01T00:00:00.000000000",
                    "2000-02-01T00:00:00.000000000",
                    "2000-03-01T00:00:00.000000000",
                    "2000-04-01T00:00:00.000000000",
                    "2000-05-01T00:00:00.000000000",
                    "2000-06-01T00:00:00.000000000",
                    "2000-07-01T00:00:00.000000000",
                    "2000-08-01T00:00:00.000000000",
                    "2000-09-01T00:00:00.000000000",
                    "2000-10-01T00:00:00.000000000",
                    "2000-11-01T00:00:00.000000000",
                    "2000-12-01T00:00:00.000000000",
                    "2001-01-01T00:00:00.000000000",
                    "2001-02-01T00:00:00.000000000",
                    "2001-03-01T00:00:00.000000000",
                    "2001-04-01T00:00:00.000000000",
                    "2001-05-01T00:00:00.000000000",
                    "2001-06-01T00:00:00.000000000",
                    "2001-07-01T00:00:00.000000000",
                    "2001-08-01T00:00:00.000000000",
                    "2001-09-01T00:00:00.000000000",
                    "2001-10-01T00:00:00.000000000",
                    "2001-11-01T00:00:00.000000000",
                    "2001-12-01T00:00:00.000000000",
                    "2002-01-01T00:00:00.000000000",
                    "2002-02-01T00:00:00.000000000",
                    "2002-03-01T00:00:00.000000000",
                    "2002-04-01T00:00:00.000000000",
                    "2002-05-01T00:00:00.000000000",
                    "2002-06-01T00:00:00.000000000",
                    "2002-07-01T00:00:00.000000000",
                    "2002-08-01T00:00:00.000000000",
                    "2002-09-01T00:00:00.000000000",
                    "2002-10-01T00:00:00.000000000",
                    "2002-11-01T00:00:00.000000000",
                    "2002-12-01T00:00:00.000000000",
                    "2003-01-01T00:00:00.000000000",
                    "2003-02-01T00:00:00.000000000",
                    "2003-03-01T00:00:00.000000000",
                    "2003-04-01T00:00:00.000000000",
                    "2003-05-01T00:00:00.000000000",
                    "2003-06-01T00:00:00.000000000",
                    "2003-07-01T00:00:00.000000000",
                    "2003-08-01T00:00:00.000000000",
                    "2003-09-01T00:00:00.000000000",
                    "2003-10-01T00:00:00.000000000",
                    "2003-11-01T00:00:00.000000000",
                    "2003-12-01T00:00:00.000000000",
                    "2004-01-01T00:00:00.000000000",
                    "2004-02-01T00:00:00.000000000",
                    "2004-03-01T00:00:00.000000000",
                    "2004-04-01T00:00:00.000000000",
                    "2004-05-01T00:00:00.000000000",
                    "2004-06-01T00:00:00.000000000",
                    "2004-07-01T00:00:00.000000000",
                    "2004-08-01T00:00:00.000000000",
                    "2004-09-01T00:00:00.000000000",
                    "2004-10-01T00:00:00.000000000",
                    "2004-11-01T00:00:00.000000000",
                    "2004-12-01T00:00:00.000000000",
                    "2005-01-01T00:00:00.000000000",
                    "2005-02-01T00:00:00.000000000",
                    "2005-03-01T00:00:00.000000000",
                    "2005-04-01T00:00:00.000000000",
                    "2005-05-01T00:00:00.000000000",
                    "2005-06-01T00:00:00.000000000",
                    "2005-07-01T00:00:00.000000000",
                    "2005-08-01T00:00:00.000000000",
                    "2005-09-01T00:00:00.000000000",
                    "2005-10-01T00:00:00.000000000",
                    "2005-11-01T00:00:00.000000000",
                    "2005-12-01T00:00:00.000000000",
                    "2006-01-01T00:00:00.000000000",
                    "2006-02-01T00:00:00.000000000",
                    "2006-03-01T00:00:00.000000000",
                    "2006-04-01T00:00:00.000000000",
                    "2006-05-01T00:00:00.000000000",
                    "2006-06-01T00:00:00.000000000",
                    "2006-07-01T00:00:00.000000000",
                    "2006-08-01T00:00:00.000000000",
                    "2006-09-01T00:00:00.000000000",
                    "2006-10-01T00:00:00.000000000",
                    "2006-11-01T00:00:00.000000000",
                    "2006-12-01T00:00:00.000000000",
                    "2007-01-01T00:00:00.000000000",
                    "2007-02-01T00:00:00.000000000",
                    "2007-03-01T00:00:00.000000000",
                    "2007-04-01T00:00:00.000000000",
                    "2007-05-01T00:00:00.000000000",
                    "2007-06-01T00:00:00.000000000",
                    "2007-07-01T00:00:00.000000000",
                    "2007-08-01T00:00:00.000000000",
                    "2007-09-01T00:00:00.000000000",
                    "2007-10-01T00:00:00.000000000",
                    "2007-11-01T00:00:00.000000000",
                    "2007-12-01T00:00:00.000000000",
                    "2008-01-01T00:00:00.000000000",
                    "2008-02-01T00:00:00.000000000",
                    "2008-03-01T00:00:00.000000000",
                    "2008-04-01T00:00:00.000000000",
                    "2008-05-01T00:00:00.000000000",
                    "2008-06-01T00:00:00.000000000",
                    "2008-07-01T00:00:00.000000000",
                    "2008-08-01T00:00:00.000000000",
                    "2008-09-01T00:00:00.000000000",
                    "2008-10-01T00:00:00.000000000",
                    "2008-11-01T00:00:00.000000000",
                    "2008-12-01T00:00:00.000000000",
                    "2009-01-01T00:00:00.000000000",
                    "2009-02-01T00:00:00.000000000",
                    "2009-03-01T00:00:00.000000000",
                    "2009-04-01T00:00:00.000000000",
                    "2009-05-01T00:00:00.000000000",
                    "2009-06-01T00:00:00.000000000",
                    "2009-07-01T00:00:00.000000000",
                    "2009-08-01T00:00:00.000000000",
                    "2009-09-01T00:00:00.000000000",
                    "2009-10-01T00:00:00.000000000",
                    "2009-11-01T00:00:00.000000000",
                    "2009-12-01T00:00:00.000000000",
                    "2010-01-01T00:00:00.000000000",
                    "2010-02-01T00:00:00.000000000",
                    "2010-03-01T00:00:00.000000000",
                    "2010-04-01T00:00:00.000000000",
                    "2010-05-01T00:00:00.000000000",
                    "2010-06-01T00:00:00.000000000",
                    "2010-07-01T00:00:00.000000000",
                    "2010-08-01T00:00:00.000000000",
                    "2010-09-01T00:00:00.000000000",
                    "2010-10-01T00:00:00.000000000",
                    "2010-11-01T00:00:00.000000000",
                    "2010-12-01T00:00:00.000000000",
                    "2011-01-01T00:00:00.000000000",
                    "2011-02-01T00:00:00.000000000",
                    "2011-03-01T00:00:00.000000000",
                    "2011-04-01T00:00:00.000000000",
                    "2011-05-01T00:00:00.000000000",
                    "2011-06-01T00:00:00.000000000",
                    "2011-07-01T00:00:00.000000000",
                    "2011-08-01T00:00:00.000000000",
                    "2011-09-01T00:00:00.000000000",
                    "2011-10-01T00:00:00.000000000",
                    "2011-11-01T00:00:00.000000000",
                    "2011-12-01T00:00:00.000000000",
                    "2012-01-01T00:00:00.000000000",
                    "2012-02-01T00:00:00.000000000",
                    "2012-03-01T00:00:00.000000000",
                    "2012-04-01T00:00:00.000000000",
                    "2012-05-01T00:00:00.000000000",
                    "2012-06-01T00:00:00.000000000",
                    "2012-07-01T00:00:00.000000000",
                    "2012-08-01T00:00:00.000000000",
                    "2012-09-01T00:00:00.000000000",
                    "2012-10-01T00:00:00.000000000",
                    "2012-11-01T00:00:00.000000000",
                    "2012-12-01T00:00:00.000000000",
                    "2013-01-01T00:00:00.000000000",
                    "2013-02-01T00:00:00.000000000",
                    "2013-03-01T00:00:00.000000000",
                    "2013-04-01T00:00:00.000000000",
                    "2013-05-01T00:00:00.000000000",
                    "2013-06-01T00:00:00.000000000",
                    "2013-07-01T00:00:00.000000000",
                    "2013-08-01T00:00:00.000000000",
                    "2013-09-01T00:00:00.000000000",
                    "2013-10-01T00:00:00.000000000",
                    "2013-11-01T00:00:00.000000000",
                    "2013-12-01T00:00:00.000000000",
                    "2014-01-01T00:00:00.000000000",
                    "2014-02-01T00:00:00.000000000",
                    "2014-03-01T00:00:00.000000000",
                    "2014-04-01T00:00:00.000000000",
                    "2014-05-01T00:00:00.000000000",
                    "2014-06-01T00:00:00.000000000",
                    "2014-07-01T00:00:00.000000000",
                    "2014-08-01T00:00:00.000000000",
                    "2014-09-01T00:00:00.000000000",
                    "2014-10-01T00:00:00.000000000",
                    "2014-11-01T00:00:00.000000000",
                    "2014-12-01T00:00:00.000000000"
                  ],
                  "y": {
                    "bdata": "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",
                    "dtype": "f8"
                  }
                },
                {
                  "name": "Test",
                  "type": "scatter",
                  "x": [
                    "2015-01-01T00:00:00.000000000",
                    "2015-02-01T00:00:00.000000000",
                    "2015-03-01T00:00:00.000000000",
                    "2015-04-01T00:00:00.000000000",
                    "2015-05-01T00:00:00.000000000",
                    "2015-06-01T00:00:00.000000000",
                    "2015-07-01T00:00:00.000000000",
                    "2015-08-01T00:00:00.000000000",
                    "2015-09-01T00:00:00.000000000",
                    "2015-10-01T00:00:00.000000000",
                    "2015-11-01T00:00:00.000000000",
                    "2015-12-01T00:00:00.000000000"
                  ],
                  "y": {
                    "bdata": "mpmZmZnqxkAzMzMzMybHQGZmZmZmLsdAzczMzAxGx0DNzMzMzFXHQM3MzMyMbMdAZmZmZqaGx0BmZmZmZqDHQGZmZmbmvMdAmpmZmdnNx0AzMzMzs/rHQDMzMzPzF8hA",
                    "dtype": "f8"
                  }
                },
                {
                  "name": "Forecast",
                  "type": "scatter",
                  "x": [
                    "2015-01-01T00:00:00.000000000",
                    "2015-02-01T00:00:00.000000000",
                    "2015-03-01T00:00:00.000000000",
                    "2015-04-01T00:00:00.000000000",
                    "2015-05-01T00:00:00.000000000",
                    "2015-06-01T00:00:00.000000000",
                    "2015-07-01T00:00:00.000000000",
                    "2015-08-01T00:00:00.000000000",
                    "2015-09-01T00:00:00.000000000",
                    "2015-10-01T00:00:00.000000000",
                    "2015-11-01T00:00:00.000000000",
                    "2015-12-01T00:00:00.000000000"
                  ],
                  "y": {
                    "bdata": "HRIb1V/pxkCkAHkzggXHQOZFAMQbIcdAuRkS85M8x0DdQgT9A1jHQHRFLwpyc8dAGn41m9+Ox0BSFfENTarHQOqDSHm6xcdA6EDS4ifhx0A4VutLlfzHQIzu6LQCGMhA",
                    "dtype": "f8"
                  }
                }
              ],
              "layout": {
                "template": {
                  "data": {
                    "bar": [
                      {
                        "error_x": {
                          "color": "#2a3f5f"
                        },
                        "error_y": {
                          "color": "#2a3f5f"
                        },
                        "marker": {
                          "line": {
                            "color": "#E5ECF6",
                            "width": 0.5
                          },
                          "pattern": {
                            "fillmode": "overlay",
                            "size": 10,
                            "solidity": 0.2
                          }
                        },
                        "type": "bar"
                      }
                    ],
                    "barpolar": [
                      {
                        "marker": {
                          "line": {
                            "color": "#E5ECF6",
                            "width": 0.5
                          },
                          "pattern": {
                            "fillmode": "overlay",
                            "size": 10,
                            "solidity": 0.2
                          }
                        },
                        "type": "barpolar"
                      }
                    ],
                    "carpet": [
                      {
                        "aaxis": {
                          "endlinecolor": "#2a3f5f",
                          "gridcolor": "white",
                          "linecolor": "white",
                          "minorgridcolor": "white",
                          "startlinecolor": "#2a3f5f"
                        },
                        "baxis": {
                          "endlinecolor": "#2a3f5f",
                          "gridcolor": "white",
                          "linecolor": "white",
                          "minorgridcolor": "white",
                          "startlinecolor": "#2a3f5f"
                        },
                        "type": "carpet"
                      }
                    ],
                    "choropleth": [
                      {
                        "colorbar": {
                          "outlinewidth": 0,
                          "ticks": ""
                        },
                        "type": "choropleth"
                      }
                    ],
                    "contour": [
                      {
                        "colorbar": {
                          "outlinewidth": 0,
                          "ticks": ""
                        },
                        "colorscale": [
                          [
                            0,
                            "#0d0887"
                          ],
                          [
                            0.1111111111111111,
                            "#46039f"
                          ],
                          [
                            0.2222222222222222,
                            "#7201a8"
                          ],
                          [
                            0.3333333333333333,
                            "#9c179e"
                          ],
                          [
                            0.4444444444444444,
                            "#bd3786"
                          ],
                          [
                            0.5555555555555556,
                            "#d8576b"
                          ],
                          [
                            0.6666666666666666,
                            "#ed7953"
                          ],
                          [
                            0.7777777777777778,
                            "#fb9f3a"
                          ],
                          [
                            0.8888888888888888,
                            "#fdca26"
                          ],
                          [
                            1,
                            "#f0f921"
                          ]
                        ],
                        "type": "contour"
                      }
                    ],
                    "contourcarpet": [
                      {
                        "colorbar": {
                          "outlinewidth": 0,
                          "ticks": ""
                        },
                        "type": "contourcarpet"
                      }
                    ],
                    "heatmap": [
                      {
                        "colorbar": {
                          "outlinewidth": 0,
                          "ticks": ""
                        },
                        "colorscale": [
                          [
                            0,
                            "#0d0887"
                          ],
                          [
                            0.1111111111111111,
                            "#46039f"
                          ],
                          [
                            0.2222222222222222,
                            "#7201a8"
                          ],
                          [
                            0.3333333333333333,
                            "#9c179e"
                          ],
                          [
                            0.4444444444444444,
                            "#bd3786"
                          ],
                          [
                            0.5555555555555556,
                            "#d8576b"
                          ],
                          [
                            0.6666666666666666,
                            "#ed7953"
                          ],
                          [
                            0.7777777777777778,
                            "#fb9f3a"
                          ],
                          [
                            0.8888888888888888,
                            "#fdca26"
                          ],
                          [
                            1,
                            "#f0f921"
                          ]
                        ],
                        "type": "heatmap"
                      }
                    ],
                    "histogram": [
                      {
                        "marker": {
                          "pattern": {
                            "fillmode": "overlay",
                            "size": 10,
                            "solidity": 0.2
                          }
                        },
                        "type": "histogram"
                      }
                    ],
                    "histogram2d": [
                      {
                        "colorbar": {
                          "outlinewidth": 0,
                          "ticks": ""
                        },
                        "colorscale": [
                          [
                            0,
                            "#0d0887"
                          ],
                          [
                            0.1111111111111111,
                            "#46039f"
                          ],
                          [
                            0.2222222222222222,
                            "#7201a8"
                          ],
                          [
                            0.3333333333333333,
                            "#9c179e"
                          ],
                          [
                            0.4444444444444444,
                            "#bd3786"
                          ],
                          [
                            0.5555555555555556,
                            "#d8576b"
                          ],
                          [
                            0.6666666666666666,
                            "#ed7953"
                          ],
                          [
                            0.7777777777777778,
                            "#fb9f3a"
                          ],
                          [
                            0.8888888888888888,
                            "#fdca26"
                          ],
                          [
                            1,
                            "#f0f921"
                          ]
                        ],
                        "type": "histogram2d"
                      }
                    ],
                    "histogram2dcontour": [
                      {
                        "colorbar": {
                          "outlinewidth": 0,
                          "ticks": ""
                        },
                        "colorscale": [
                          [
                            0,
                            "#0d0887"
                          ],
                          [
                            0.1111111111111111,
                            "#46039f"
                          ],
                          [
                            0.2222222222222222,
                            "#7201a8"
                          ],
                          [
                            0.3333333333333333,
                            "#9c179e"
                          ],
                          [
                            0.4444444444444444,
                            "#bd3786"
                          ],
                          [
                            0.5555555555555556,
                            "#d8576b"
                          ],
                          [
                            0.6666666666666666,
                            "#ed7953"
                          ],
                          [
                            0.7777777777777778,
                            "#fb9f3a"
                          ],
                          [
                            0.8888888888888888,
                            "#fdca26"
                          ],
                          [
                            1,
                            "#f0f921"
                          ]
                        ],
                        "type": "histogram2dcontour"
                      }
                    ],
                    "mesh3d": [
                      {
                        "colorbar": {
                          "outlinewidth": 0,
                          "ticks": ""
                        },
                        "type": "mesh3d"
                      }
                    ],
                    "parcoords": [
                      {
                        "line": {
                          "colorbar": {
                            "outlinewidth": 0,
                            "ticks": ""
                          }
                        },
                        "type": "parcoords"
                      }
                    ],
                    "pie": [
                      {
                        "automargin": true,
                        "type": "pie"
                      }
                    ],
                    "scatter": [
                      {
                        "fillpattern": {
                          "fillmode": "overlay",
                          "size": 10,
                          "solidity": 0.2
                        },
                        "type": "scatter"
                      }
                    ],
                    "scatter3d": [
                      {
                        "line": {
                          "colorbar": {
                            "outlinewidth": 0,
                            "ticks": ""
                          }
                        },
                        "marker": {
                          "colorbar": {
                            "outlinewidth": 0,
                            "ticks": ""
                          }
                        },
                        "type": "scatter3d"
                      }
                    ],
                    "scattercarpet": [
                      {
                        "marker": {
                          "colorbar": {
                            "outlinewidth": 0,
                            "ticks": ""
                          }
                        },
                        "type": "scattercarpet"
                      }
                    ],
                    "scattergeo": [
                      {
                        "marker": {
                          "colorbar": {
                            "outlinewidth": 0,
                            "ticks": ""
                          }
                        },
                        "type": "scattergeo"
                      }
                    ],
                    "scattergl": [
                      {
                        "marker": {
                          "colorbar": {
                            "outlinewidth": 0,
                            "ticks": ""
                          }
                        },
                        "type": "scattergl"
                      }
                    ],
                    "scattermap": [
                      {
                        "marker": {
                          "colorbar": {
                            "outlinewidth": 0,
                            "ticks": ""
                          }
                        },
                        "type": "scattermap"
                      }
                    ],
                    "scattermapbox": [
                      {
                        "marker": {
                          "colorbar": {
                            "outlinewidth": 0,
                            "ticks": ""
                          }
                        },
                        "type": "scattermapbox"
                      }
                    ],
                    "scatterpolar": [
                      {
                        "marker": {
                          "colorbar": {
                            "outlinewidth": 0,
                            "ticks": ""
                          }
                        },
                        "type": "scatterpolar"
                      }
                    ],
                    "scatterpolargl": [
                      {
                        "marker": {
                          "colorbar": {
                            "outlinewidth": 0,
                            "ticks": ""
                          }
                        },
                        "type": "scatterpolargl"
                      }
                    ],
                    "scatterternary": [
                      {
                        "marker": {
                          "colorbar": {
                            "outlinewidth": 0,
                            "ticks": ""
                          }
                        },
                        "type": "scatterternary"
                      }
                    ],
                    "surface": [
                      {
                        "colorbar": {
                          "outlinewidth": 0,
                          "ticks": ""
                        },
                        "colorscale": [
                          [
                            0,
                            "#0d0887"
                          ],
                          [
                            0.1111111111111111,
                            "#46039f"
                          ],
                          [
                            0.2222222222222222,
                            "#7201a8"
                          ],
                          [
                            0.3333333333333333,
                            "#9c179e"
                          ],
                          [
                            0.4444444444444444,
                            "#bd3786"
                          ],
                          [
                            0.5555555555555556,
                            "#d8576b"
                          ],
                          [
                            0.6666666666666666,
                            "#ed7953"
                          ],
                          [
                            0.7777777777777778,
                            "#fb9f3a"
                          ],
                          [
                            0.8888888888888888,
                            "#fdca26"
                          ],
                          [
                            1,
                            "#f0f921"
                          ]
                        ],
                        "type": "surface"
                      }
                    ],
                    "table": [
                      {
                        "cells": {
                          "fill": {
                            "color": "#EBF0F8"
                          },
                          "line": {
                            "color": "white"
                          }
                        },
                        "header": {
                          "fill": {
                            "color": "#C8D4E3"
                          },
                          "line": {
                            "color": "white"
                          }
                        },
                        "type": "table"
                      }
                    ]
                  },
                  "layout": {
                    "annotationdefaults": {
                      "arrowcolor": "#2a3f5f",
                      "arrowhead": 0,
                      "arrowwidth": 1
                    },
                    "autotypenumbers": "strict",
                    "coloraxis": {
                      "colorbar": {
                        "outlinewidth": 0,
                        "ticks": ""
                      }
                    },
                    "colorscale": {
                      "diverging": [
                        [
                          0,
                          "#8e0152"
                        ],
                        [
                          0.1,
                          "#c51b7d"
                        ],
                        [
                          0.2,
                          "#de77ae"
                        ],
                        [
                          0.3,
                          "#f1b6da"
                        ],
                        [
                          0.4,
                          "#fde0ef"
                        ],
                        [
                          0.5,
                          "#f7f7f7"
                        ],
                        [
                          0.6,
                          "#e6f5d0"
                        ],
                        [
                          0.7,
                          "#b8e186"
                        ],
                        [
                          0.8,
                          "#7fbc41"
                        ],
                        [
                          0.9,
                          "#4d9221"
                        ],
                        [
                          1,
                          "#276419"
                        ]
                      ],
                      "sequential": [
                        [
                          0,
                          "#0d0887"
                        ],
                        [
                          0.1111111111111111,
                          "#46039f"
                        ],
                        [
                          0.2222222222222222,
                          "#7201a8"
                        ],
                        [
                          0.3333333333333333,
                          "#9c179e"
                        ],
                        [
                          0.4444444444444444,
                          "#bd3786"
                        ],
                        [
                          0.5555555555555556,
                          "#d8576b"
                        ],
                        [
                          0.6666666666666666,
                          "#ed7953"
                        ],
                        [
                          0.7777777777777778,
                          "#fb9f3a"
                        ],
                        [
                          0.8888888888888888,
                          "#fdca26"
                        ],
                        [
                          1,
                          "#f0f921"
                        ]
                      ],
                      "sequentialminus": [
                        [
                          0,
                          "#0d0887"
                        ],
                        [
                          0.1111111111111111,
                          "#46039f"
                        ],
                        [
                          0.2222222222222222,
                          "#7201a8"
                        ],
                        [
                          0.3333333333333333,
                          "#9c179e"
                        ],
                        [
                          0.4444444444444444,
                          "#bd3786"
                        ],
                        [
                          0.5555555555555556,
                          "#d8576b"
                        ],
                        [
                          0.6666666666666666,
                          "#ed7953"
                        ],
                        [
                          0.7777777777777778,
                          "#fb9f3a"
                        ],
                        [
                          0.8888888888888888,
                          "#fdca26"
                        ],
                        [
                          1,
                          "#f0f921"
                        ]
                      ]
                    },
                    "colorway": [
                      "#636efa",
                      "#EF553B",
                      "#00cc96",
                      "#ab63fa",
                      "#FFA15A",
                      "#19d3f3",
                      "#FF6692",
                      "#B6E880",
                      "#FF97FF",
                      "#FECB52"
                    ],
                    "font": {
                      "color": "#2a3f5f"
                    },
                    "geo": {
                      "bgcolor": "white",
                      "lakecolor": "white",
                      "landcolor": "#E5ECF6",
                      "showlakes": true,
                      "showland": true,
                      "subunitcolor": "white"
                    },
                    "hoverlabel": {
                      "align": "left"
                    },
                    "hovermode": "closest",
                    "mapbox": {
                      "style": "light"
                    },
                    "paper_bgcolor": "white",
                    "plot_bgcolor": "#E5ECF6",
                    "polar": {
                      "angularaxis": {
                        "gridcolor": "white",
                        "linecolor": "white",
                        "ticks": ""
                      },
                      "bgcolor": "#E5ECF6",
                      "radialaxis": {
                        "gridcolor": "white",
                        "linecolor": "white",
                        "ticks": ""
                      }
                    },
                    "scene": {
                      "xaxis": {
                        "backgroundcolor": "#E5ECF6",
                        "gridcolor": "white",
                        "gridwidth": 2,
                        "linecolor": "white",
                        "showbackground": true,
                        "ticks": "",
                        "zerolinecolor": "white"
                      },
                      "yaxis": {
                        "backgroundcolor": "#E5ECF6",
                        "gridcolor": "white",
                        "gridwidth": 2,
                        "linecolor": "white",
                        "showbackground": true,
                        "ticks": "",
                        "zerolinecolor": "white"
                      },
                      "zaxis": {
                        "backgroundcolor": "#E5ECF6",
                        "gridcolor": "white",
                        "gridwidth": 2,
                        "linecolor": "white",
                        "showbackground": true,
                        "ticks": "",
                        "zerolinecolor": "white"
                      }
                    },
                    "shapedefaults": {
                      "line": {
                        "color": "#2a3f5f"
                      }
                    },
                    "ternary": {
                      "aaxis": {
                        "gridcolor": "white",
                        "linecolor": "white",
                        "ticks": ""
                      },
                      "baxis": {
                        "gridcolor": "white",
                        "linecolor": "white",
                        "ticks": ""
                      },
                      "bgcolor": "#E5ECF6",
                      "caxis": {
                        "gridcolor": "white",
                        "linecolor": "white",
                        "ticks": ""
                      }
                    },
                    "title": {
                      "x": 0.05
                    },
                    "xaxis": {
                      "automargin": true,
                      "gridcolor": "white",
                      "linecolor": "white",
                      "ticks": "",
                      "title": {
                        "standoff": 15
                      },
                      "zerolinecolor": "white",
                      "zerolinewidth": 2
                    },
                    "yaxis": {
                      "automargin": true,
                      "gridcolor": "white",
                      "linecolor": "white",
                      "ticks": "",
                      "title": {
                        "standoff": 15
                      },
                      "zerolinecolor": "white",
                      "zerolinewidth": 2
                    }
                  }
                },
                "title": {
                  "text": "M2 통화량: 실제값 vs 예측값 (ARIMA)"
                },
                "xaxis": {
                  "title": {
                    "text": "날짜"
                  }
                },
                "yaxis": {
                  "title": {
                    "text": "통화량"
                  }
                }
              }
            }
          },
          "metadata": {},
          "output_type": "display_data"
        }
      ],
      "source": [
        "import pandas as pd\n",
        "import plotly.graph_objects as go\n",
        "from plotly.subplots import make_subplots\n",
        "from statsmodels.tsa.stattools import adfuller, acf, pacf\n",
        "from statsmodels.graphics.tsaplots import plot_acf, plot_pacf\n",
        "from statsmodels.tsa.arima.model import ARIMA\n",
        "import matplotlib.pyplot as plt\n",
        "\n",
        "# 데이터 로드 (money stock spending)\n",
        "df_money = pd.read_csv('../datasets/tsa/moneystock-spending-series.csv', index_col=0, parse_dates=True)\n",
        "df_money.index.freq = 'MS' # 월별 데이터 주파수 설정\n",
        "\n",
        "# 'Money' 변수에 대해 분석 진행\n",
        "money_series = df_money['Money']\n",
        "\n",
        "# 1. 정상성 확인 및 차분\n",
        "# ADF 검정 결과 p-value가 1.0으로 비정상 시계열임 (위에서 실습)\n",
        "# 2차 차분을 통해 정상성 확보\n",
        "money_diff2 = money_series.diff().diff().dropna()\n",
        "# adf_test(money_diff2) # p-value가 매우 작게 나와 정상성 만족\n",
        "\n",
        "# 2. ACF, PACF 플롯으로 p, q 추정\n",
        "fig, (ax1, ax2) = plt.subplots(1, 2, figsize=(12, 4))\n",
        "plot_acf(money_diff2, ax=ax1)\n",
        "plot_pacf(money_diff2, ax=ax2)\n",
        "plt.show()\n",
        "# PACF 플롯을 보면 lag 1 이후에 값이 급격히 감소하므로 p=1로 추정 가능\n",
        "# ACF 플롯을 보면 lag 1 이후에 값이 급격히 감소하므로 q=1로 추정 가능\n",
        "\n",
        "# 3. ARIMA(1, 2, 1) 모델 구축 및 학습\n",
        "# p=1, d=2(2차 차분), q=1\n",
        "model = ARIMA(money_series, order=(1, 2, 1))\n",
        "fitted_model = model.fit()\n",
        "print(fitted_model.summary())\n",
        "\n",
        "# 4. 예측 및 시각화\n",
        "# 학습 데이터 분할 (마지막 12개월을 테스트 데이터로)\n",
        "train_data = money_series[:-12]\n",
        "test_data = money_series[-12:]\n",
        "\n",
        "# ARIMA(1, 2, 1) 모델 재학습\n",
        "model_train = ARIMA(train_data, order=(1, 2, 1))\n",
        "fitted_train_model = model_train.fit()\n",
        "\n",
        "# 예측 (12개월)\n",
        "forecast = fitted_train_model.forecast(steps=12)\n",
        "\n",
        "# 결과 시각화\n",
        "fig = go.Figure()\n",
        "fig.add_trace(go.Scatter(x=train_data.index, y=train_data, name='Train'))\n",
        "fig.add_trace(go.Scatter(x=test_data.index, y=test_data, name='Test'))\n",
        "fig.add_trace(go.Scatter(x=forecast.index, y=forecast, name='Forecast'))\n",
        "fig.update_layout(title='M2 통화량: 실제값 vs 예측값 (ARIMA)', xaxis_title='날짜', yaxis_title='통화량')\n",
        "fig.show()"
      ]
    },
    {
      "cell_type": "markdown",
      "metadata": {
        "id": "LPqk3Xs35s_6"
      },
      "source": [
        "### ✏️ 연습 문제 (Practice Problems)\n",
        "\n",
        "1.  미국 월별 주택 판매량 데이터를 사용하여 미래 12개월을 예측하는 ARIMA 모델을 만들어보세요.\n",
        "      * 데이터셋 경로: `datasets/tsa/HOUST.csv`\n",
        "2.  데이터를 로드하고 시각화하여 패턴을 확인한 후, 정상성을 확보하기 위해 몇 번의 차분이 필요한지 결정하세요.\n",
        "3.  정상화된 데이터에 대해 ACF, PACF 플롯을 그려보고, 적절한 `p`와 `q` 값을 추론해보세요.\n",
        "4.  추론한 `p, d, q` 값을 사용하여 ARIMA 모델을 구축하고, 예측 결과를 실제값과 함께 그래프로 비교해보세요.\n"
      ]
    },
    {
      "cell_type": "code",
      "execution_count": 5,
      "metadata": {
        "id": "0P3D2mDB5s_6"
      },
      "outputs": [
        {
          "data": {
            "text/html": [
              "<div>\n",
              "<style scoped>\n",
              "    .dataframe tbody tr th:only-of-type {\n",
              "        vertical-align: middle;\n",
              "    }\n",
              "\n",
              "    .dataframe tbody tr th {\n",
              "        vertical-align: top;\n",
              "    }\n",
              "\n",
              "    .dataframe thead th {\n",
              "        text-align: right;\n",
              "    }\n",
              "</style>\n",
              "<table border=\"1\" class=\"dataframe\">\n",
              "  <thead>\n",
              "    <tr style=\"text-align: right;\">\n",
              "      <th></th>\n",
              "      <th>Starts</th>\n",
              "    </tr>\n",
              "    <tr>\n",
              "      <th>observation_date</th>\n",
              "      <th></th>\n",
              "    </tr>\n",
              "  </thead>\n",
              "  <tbody>\n",
              "    <tr>\n",
              "      <th>1959-01-01</th>\n",
              "      <td>1657</td>\n",
              "    </tr>\n",
              "    <tr>\n",
              "      <th>1959-02-01</th>\n",
              "      <td>1667</td>\n",
              "    </tr>\n",
              "    <tr>\n",
              "      <th>1959-03-01</th>\n",
              "      <td>1620</td>\n",
              "    </tr>\n",
              "    <tr>\n",
              "      <th>1959-04-01</th>\n",
              "      <td>1590</td>\n",
              "    </tr>\n",
              "    <tr>\n",
              "      <th>1959-05-01</th>\n",
              "      <td>1498</td>\n",
              "    </tr>\n",
              "  </tbody>\n",
              "</table>\n",
              "</div>"
            ],
            "text/plain": [
              "                  Starts\n",
              "observation_date        \n",
              "1959-01-01          1657\n",
              "1959-02-01          1667\n",
              "1959-03-01          1620\n",
              "1959-04-01          1590\n",
              "1959-05-01          1498"
            ]
          },
          "execution_count": 5,
          "metadata": {},
          "output_type": "execute_result"
        }
      ],
      "source": [
        "\n",
        "# 연습 문제 1, 2, 3, 4번 풀이 공간\n",
        "import pandas as pd\n",
        "import plotly.graph_objects as go\n",
        "from statsmodels.tsa.arima.model import ARIMA\n",
        "from statsmodels.graphics.tsaplots import plot_acf, plot_pacf\n",
        "import matplotlib.pyplot as plt\n",
        "\n",
        "# 1. 데이터 로드\n",
        "df_housing = pd.read_csv('../datasets/tsa/HOUST.csv', index_col=0, parse_dates=True)\n",
        "df_housing.columns = ['Starts']\n",
        "df_housing.head()\n"
      ]
    },
    {
      "cell_type": "code",
      "execution_count": 6,
      "metadata": {},
      "outputs": [
        {
          "name": "stdout",
          "output_type": "stream",
          "text": [
            ">>>  ADF Test <<<\n",
            "ADF Test Statistic : -3.839472295250212\n",
            "p-value : 0.0025283205306581456\n",
            "#Lags Used : 15\n",
            "Number of Observations Used : 780\n",
            "=> p-value가 0.05보다 작으므로, 귀무가설을 기각합니다. 데이터는 정상성을 만족합니다.\n",
            "\n"
          ]
        },
        {
          "data": {
            "image/png": "[encoded data removed]",
            "text/plain": [
              "<Figure size 640x480 with 1 Axes>"
            ]
          },
          "metadata": {},
          "output_type": "display_data"
        }
      ],
      "source": [
        "# 여기에 2, 3, 4번 문제에 대한 코드를 작성하세요.\n",
        "df_housing.plot()\n",
        "adf_test(df_housing)"
      ]
    },
    {
      "cell_type": "code",
      "execution_count": 7,
      "metadata": {},
      "outputs": [
        {
          "data": {
            "image/png": "[encoded data removed]",
            "text/plain": [
              "<Figure size 640x480 with 1 Axes>"
            ]
          },
          "execution_count": 7,
          "metadata": {},
          "output_type": "execute_result"
        },
        {
          "data": {
            "image/png": "[encoded data removed]",
            "text/plain": [
              "<Figure size 640x480 with 1 Axes>"
            ]
          },
          "metadata": {},
          "output_type": "display_data"
        }
      ],
      "source": [
        "# ACF, PACF\n",
        "plot_acf(df_housing, lags=24)"
      ]
    },
    {
      "cell_type": "code",
      "execution_count": 8,
      "metadata": {},
      "outputs": [
        {
          "data": {
            "image/png": "[encoded data removed]",
            "text/plain": [
              "<Figure size 640x480 with 1 Axes>"
            ]
          },
          "execution_count": 8,
          "metadata": {},
          "output_type": "execute_result"
        },
        {
          "data": {
            "image/png": "[encoded data removed]",
            "text/plain": [
              "<Figure size 640x480 with 1 Axes>"
            ]
          },
          "metadata": {},
          "output_type": "display_data"
        }
      ],
      "source": [
        "plot_pacf(df_housing, lags=24)\n",
        "\n",
        "# ar2를 따른다\n",
        "# 이동평균도 ma2로 해석"
      ]
    },
    {
      "cell_type": "code",
      "execution_count": 9,
      "metadata": {},
      "outputs": [],
      "source": [
        "# p, d, q를 사용한 ARIMA 모델\n",
        "\n"
      ]
    },
    {
      "cell_type": "markdown",
      "metadata": {},
      "source": [
        "* 잔차 검정에 대한 추가 지침 (학습 범위 외 참고 사항)\n",
        "  1. 정규성 위반 (Jarque-Bera 검정 p=0.00):\n",
        "     - 잔차가 정규분포를 따르지 않음을 의미\n",
        "     - 모델이 극값(outlier)이나 비대칭적 패턴을 완전히 포착하지 못함\n",
        "     - 신뢰구간과 예측구간의 정확도가 떨어질 수 있음\n",
        "     - 통계적 추론(가설검정)의 신뢰성이 감소\n",
        "\n",
        "  2. 등분산성 위반 (이분산성, H=0.66, p=0.00):\n",
        "     - 잔차의 분산이 시간에 따라 일정하지 않음\n",
        "     - 특정 시점에서 예측 오차가 더 크거나 작을 수 있음\n",
        "     - 예측 불확실성이 시간에 따라 변함\n",
        "     - 표준오차 추정이 부정확할 수 있음\n",
        "\n",
        "  3. 실무적 영향:\n",
        "     - 모델의 예측력 자체는 여전히 유용할 수 있음\n",
        "     - 다만 예측구간의 신뢰도는 낮아짐\n",
        "     - 더 복잡한 모델(GARCH, 비선형 모델 등) 고려 필요\n",
        "     - 로그 변환이나 Box-Cox 변환으로 개선 가능\n",
        "\n",
        "  4. 개선 방안:\n",
        "     - 데이터 변환 (로그, 제곱근, Box-Cox)\n",
        "     - 더 복잡한 모델 사용 (SARIMA, GARCH)\n",
        "     - 이상치 제거 또는 처리\n",
        "     - 추가 설명변수 포함 (ARIMAX)"
      ]
    },
    {
      "cell_type": "markdown",
      "metadata": {},
      "source": [
        "## 별첨. pmdarima 라이브러리 소개\n",
        "\n",
        "**pmdarima**는 Python에서 ARIMA 및 SARIMA 모델링을 위한 강력한 라이브러리입니다. R의 `forecast` 패키지에서 영감을 받아 개발되었으며, 시계열 분석을 보다 쉽고 효율적으로 수행할 수 있도록 도와줍니다.\n",
        "\n",
        "### 주요 기능\n",
        "\n",
        "1. **auto_arima**: 최적의 ARIMA/SARIMA 모델을 자동으로 탐색\n",
        "   - 다양한 (p,d,q)(P,D,Q,s) 조합을 체계적으로 테스트\n",
        "   - AIC, BIC 등의 정보 기준을 사용하여 최적 모델 선택\n",
        "   - 계절성 자동 감지 및 처리\n",
        "\n",
        "2. **정상성 검정**: \n",
        "   - KPSS, ADF 검정을 통한 차분 차수(d, D) 자동 결정\n",
        "   - 데이터의 정상성 여부를 자동으로 판단\n",
        "\n",
        "3. **계절성 처리**:\n",
        "   - 계절성 패턴 자동 감지\n",
        "   - 계절 차분 및 계절 ARIMA 파라미터 최적화\n",
        "\n",
        "4. **모델 진단**:\n",
        "   - 잔차 분석 도구 제공\n",
        "   - 모델 적합도 평가 지표"
      ]
    },
    {
      "cell_type": "code",
      "execution_count": 12,
      "metadata": {},
      "outputs": [
        {
          "name": "stdout",
          "output_type": "stream",
          "text": [
            "Requirement already satisfied: pmdarima in c:\\users\\admin\\workspace\\my-analysis\\.venv\\lib\\site-packages (2.0.4)\n",
            "Requirement already satisfied: joblib>=0.11 in c:\\users\\admin\\workspace\\my-analysis\\.venv\\lib\\site-packages (from pmdarima) (1.5.1)\n",
            "Requirement already satisfied: Cython!=0.29.18,!=0.29.31,>=0.29 in c:\\users\\admin\\workspace\\my-analysis\\.venv\\lib\\site-packages (from pmdarima) (3.1.2)\n",
            "Requirement already satisfied: numpy>=1.21.2 in c:\\users\\admin\\workspace\\my-analysis\\.venv\\lib\\site-packages (from pmdarima) (2.3.0)\n",
            "Requirement already satisfied: pandas>=0.19 in c:\\users\\admin\\workspace\\my-analysis\\.venv\\lib\\site-packages (from pmdarima) (2.3.0)\n",
            "Requirement already satisfied: scikit-learn>=0.22 in c:\\users\\admin\\workspace\\my-analysis\\.venv\\lib\\site-packages (from pmdarima) (1.7.0)\n",
            "Requirement already satisfied: scipy>=1.3.2 in c:\\users\\admin\\workspace\\my-analysis\\.venv\\lib\\site-packages (from pmdarima) (1.15.3)\n",
            "Requirement already satisfied: statsmodels>=0.13.2 in c:\\users\\admin\\workspace\\my-analysis\\.venv\\lib\\site-packages (from pmdarima) (0.14.4)\n",
            "Requirement already satisfied: urllib3 in c:\\users\\admin\\workspace\\my-analysis\\.venv\\lib\\site-packages (from pmdarima) (2.4.0)\n",
            "Requirement already satisfied: setuptools!=50.0.0,>=38.6.0 in c:\\users\\admin\\workspace\\my-analysis\\.venv\\lib\\site-packages (from pmdarima) (65.5.0)\n",
            "Requirement already satisfied: packaging>=17.1 in c:\\users\\admin\\workspace\\my-analysis\\.venv\\lib\\site-packages (from pmdarima) (25.0)\n",
            "Requirement already satisfied: python-dateutil>=2.8.2 in c:\\users\\admin\\workspace\\my-analysis\\.venv\\lib\\site-packages (from pandas>=0.19->pmdarima) (2.9.0.post0)\n",
            "Requirement already satisfied: pytz>=2020.1 in c:\\users\\admin\\workspace\\my-analysis\\.venv\\lib\\site-packages (from pandas>=0.19->pmdarima) (2025.2)\n",
            "Requirement already satisfied: tzdata>=2022.7 in c:\\users\\admin\\workspace\\my-analysis\\.venv\\lib\\site-packages (from pandas>=0.19->pmdarima) (2025.2)\n",
            "Requirement already satisfied: threadpoolctl>=3.1.0 in c:\\users\\admin\\workspace\\my-analysis\\.venv\\lib\\site-packages (from scikit-learn>=0.22->pmdarima) (3.6.0)\n",
            "Requirement already satisfied: patsy>=0.5.6 in c:\\users\\admin\\workspace\\my-analysis\\.venv\\lib\\site-packages (from statsmodels>=0.13.2->pmdarima) (1.0.1)\n",
            "Requirement already satisfied: six>=1.5 in c:\\users\\admin\\workspace\\my-analysis\\.venv\\lib\\site-packages (from python-dateutil>=2.8.2->pandas>=0.19->pmdarima) (1.17.0)\n"
          ]
        },
        {
          "name": "stderr",
          "output_type": "stream",
          "text": [
            "\n",
            "[notice] A new release of pip is available: 24.0 -> 25.1.1\n",
            "[notice] To update, run: python.exe -m pip install --upgrade pip\n"
          ]
        }
      ],
      "source": [
        "!pip install pmdarima"
      ]
    },
    {
      "cell_type": "markdown",
      "metadata": {},
      "source": [
        "### 💻 예시 코드 (Example Code)"
      ]
    },
    {
      "cell_type": "markdown",
      "metadata": {
        "id": "m1sqhdc85s_6"
      },
      "source": [
        "-----\n",
        "\n",
        "## 3\\. 계절성을 고려한 시계열 분석 (Seasonal Analysis): SARIMA\n",
        "\n",
        "### 💡 개념 (Concept)\n",
        "\n",
        "현실의 많은 시계열 데이터는 **계절성(Seasonality)**, 즉 특정 기간(주, 월, 분기, 년 등)을 주기로 반복되는 패턴을 가집니다. **SARIMA(Seasonal ARIMA)** 모델은 기존 ARIMA 모델에 이러한 계절적 요인을 추가하여 예측 성능을 높인 모델입니다.\n",
        "\n",
        "SARIMA 모델은 `ARIMA(p,d,q)`에 계절성 요소를 나타내는 `(P,D,Q,s)`가 추가됩니다.\n",
        "\n",
        "  * **`s`**: 계절 주기를 의미합니다. (예: 월별 데이터면 `s=12`, 분기별 데이터면 `s=4`)\n",
        "  * **`P`**: 계절성 자기회귀(Seasonal AR) 차수. `s` 기간 전의 과거 값이 현재 값에 미치는 영향을 나타냅니다.\n",
        "  * **`D`**: 계절성 차분(Seasonal Differencing) 횟수. 계절성 패턴을 제거하기 위해 필요한 차분 횟수입니다.\n",
        "  * **`Q`**: 계절성 이동평균(Seasonal MA) 차수. `s` 기간 전의 과거 예측 오차가 현재 값에 미치는 영향을 나타냅니다.\n",
        "\n",
        "메타포: \"올해 8월의 아이스크림 판매량은 작년 8월 판매량과 작년 예측 오차에 영향을 받을 것이다.\"\n",
        "\n",
        "**Auto-ARIMA: 최적의 파라미터 자동 탐색**\n",
        "SARIMA 모델은 `(p,d,q)(P,D,Q,s)`라는 7개의 파라미터를 결정해야 하므로, ACF/PACF만으로 최적의 조합을 찾기 어렵습니다. 이때 **`auto_arima`** 함수를 사용하면 매우 편리합니다. `auto_arima`는 주어진 데이터에 대해 다양한 파라미터 조합을 시도하고, **AIC(Akaike Information Criterion)** 값이 가장 낮은 최적의 모델을 자동으로 찾아줍니다.\n",
        "\n",
        "### 💻 예시 코드 (Example Code)\n",
        "\n",
        "`auto_arima`를 사용하여 월별 항공 승객 수 데이터에 대한 최적의 SARIMA 모델을 찾고, 예측을 수행해 보겠습니다."
      ]
    },
    {
      "cell_type": "code",
      "execution_count": null,
      "metadata": {},
      "outputs": [],
      "source": [
        "# pmdarima 라이브러리는 numpy 버전 2.0 이하에서 작동하여 넘파이를 재설치합니다."
      ]
    },
    {
      "cell_type": "code",
      "execution_count": null,
      "metadata": {},
      "outputs": [],
      "source": [
        "!pip install \"numpy==1.26.4\""
      ]
    },
    {
      "cell_type": "code",
      "execution_count": 9,
      "metadata": {},
      "outputs": [],
      "source": [
        "import warnings\n",
        "warnings.filterwarnings('ignore')"
      ]
    },
    {
      "cell_type": "code",
      "execution_count": 10,
      "metadata": {
        "id": "hsTQlxkb5s_7"
      },
      "outputs": [
        {
          "name": "stdout",
          "output_type": "stream",
          "text": [
            "Performing stepwise search to minimize aic\n",
            " ARIMA(1,1,1)(0,1,1)[12]             : AIC=902.221, Time=0.15 sec\n",
            " ARIMA(0,1,0)(0,1,0)[12]             : AIC=905.065, Time=0.01 sec\n",
            " ARIMA(1,1,0)(1,1,0)[12]             : AIC=900.823, Time=0.05 sec\n",
            " ARIMA(0,1,1)(0,1,1)[12]             : AIC=901.721, Time=0.09 sec\n",
            " ARIMA(1,1,0)(0,1,0)[12]             : AIC=899.902, Time=0.02 sec\n",
            " ARIMA(1,1,0)(0,1,1)[12]             : AIC=901.052, Time=0.08 sec\n",
            " ARIMA(1,1,0)(1,1,1)[12]             : AIC=inf, Time=0.45 sec\n",
            " ARIMA(2,1,0)(0,1,0)[12]             : AIC=901.337, Time=0.03 sec\n",
            " ARIMA(1,1,1)(0,1,0)[12]             : AIC=900.971, Time=0.03 sec\n",
            " ARIMA(0,1,1)(0,1,0)[12]             : AIC=900.685, Time=0.02 sec\n",
            " ARIMA(2,1,1)(0,1,0)[12]             : AIC=902.967, Time=0.07 sec\n",
            " ARIMA(1,1,0)(0,1,0)[12] intercept   : AIC=901.457, Time=0.04 sec\n",
            "\n",
            "Best model:  ARIMA(1,1,0)(0,1,0)[12]          \n",
            "Total fit time: 1.056 seconds\n",
            "                                     SARIMAX Results                                      \n",
            "==========================================================================================\n",
            "Dep. Variable:                                  y   No. Observations:                  132\n",
            "Model:             SARIMAX(1, 1, 0)x(0, 1, 0, 12)   Log Likelihood                -447.951\n",
            "Date:                            Tue, 10 Jun 2025   AIC                            899.902\n",
            "Time:                                    17:06:37   BIC                            905.460\n",
            "Sample:                                01-01-1949   HQIC                           902.159\n",
            "                                     - 12-01-1959                                         \n",
            "Covariance Type:                              opg                                         \n",
            "==============================================================================\n",
            "                 coef    std err          z      P>|z|      [0.025      0.975]\n",
            "------------------------------------------------------------------------------\n",
            "ar.L1         -0.2431      0.090     -2.697      0.007      -0.420      -0.066\n",
            "sigma2       108.8757     13.306      8.183      0.000      82.797     134.954\n",
            "===================================================================================\n",
            "Ljung-Box (L1) (Q):                   0.02   Jarque-Bera (JB):                 0.57\n",
            "Prob(Q):                              0.89   Prob(JB):                         0.75\n",
            "Heteroskedasticity (H):               1.47   Skew:                            -0.03\n",
            "Prob(H) (two-sided):                  0.23   Kurtosis:                         3.33\n",
            "===================================================================================\n",
            "\n",
            "Warnings:\n",
            "[1] Covariance matrix calculated using the outer product of gradients (complex-step).\n"
          ]
        }
      ],
      "source": [
        "import pandas as pd\n",
        "import plotly.graph_objects as go\n",
        "import pmdarima as pm\n",
        "from pmdarima.model_selection import train_test_split\n",
        "\n",
        "# 데이터 로드\n",
        "url = 'https://raw.githubusercontent.com/jbrownlee/Datasets/master/airline-passengers.csv'\n",
        "df = pd.read_csv(url, index_col='Month', parse_dates=True)\n",
        "df.columns = ['Passengers']\n",
        "\n",
        "# 학습 데이터와 테스트 데이터 분리\n",
        "train_auto, test_auto = train_test_split(df['Passengers'], train_size=len(df)-12)\n",
        "\n",
        "# auto_arima로 최적 모델 탐색\n",
        "# 계절 주기는 월별 데이터이므로 m=12로 설정합니다.\n",
        "sarima_model = pm.auto_arima(train_auto,\n",
        "                             start_p=1, start_q=1,\n",
        "                             test='adf',       # adf 검정으로 d 결정\n",
        "                             max_p=3, max_q=3,  # p, q 최대값\n",
        "                             m=12,             # 계절 주기\n",
        "                             d=None,           # d는 자동으로 찾도록 설정\n",
        "                             seasonal=True,    # 계절성 모델 사용\n",
        "                             start_P=0,\n",
        "                             D=1,              # 계절성 차분은 1로 고정 (일반적)\n",
        "                             trace=True,       # 모델 탐색 과정 출력\n",
        "                             error_action='ignore',\n",
        "                             suppress_warnings=True,\n",
        "                             stepwise=True)     # 최적 파라미터를 효율적으로 찾음\n",
        "\n",
        "print(sarima_model.summary())"
      ]
    },
    {
      "cell_type": "markdown",
      "metadata": {},
      "source": [
        "#### auto_arima 결과 해석\n",
        "\n",
        "1. 모델 탐색 과정\n",
        "   - `auto_arima`는 다양한 SARIMA 모델을 시도하여 AIC(Akaike Information Criterion) 값이 가장 낮은 모델을 찾습니다\n",
        "   - 총 12개의 모델을 시도했으며, 그 중 **ARIMA(1,1,0)(0,1,0)[12]** 모델이 AIC=899.902로 가장 좋은 성능을 보였습니다\n",
        "\n",
        "2. 최적 모델: SARIMA(1,1,0)(0,1,0)[12]\n",
        "   - **p=1, d=1, q=0**: 비계절성 부분에서 AR(1) 모델, 1차 차분 적용\n",
        "   - **P=0, D=1, Q=0**: 계절성 부분에서는 1차 계절 차분만 적용\n",
        "   - **계절 주기 = 12**: 월별 데이터의 연간 계절성\n",
        "\n",
        "3. 모델 계수 해석\n",
        "   - **ar.L1 = -0.2431**: AR(1) 계수로, 이전 시점의 값이 현재 값에 음의 영향을 미침\n",
        "   - **sigma2 = 108.8757**: 오차항의 분산\n",
        "\n",
        "4. 모델 진단\n",
        "   - **Ljung-Box 검정 (Q=0.02, p=0.89)**: 잔차에 자기상관이 없음을 의미 (좋은 결과)\n",
        "   - **Jarque-Bera 검정 (JB=0.57, p=0.75)**: 잔차가 정규분포를 따름을 의미 (좋은 결과)\n",
        "   - **이분산성 검정 (H=1.47, p=0.23)**: 등분산성 가정을 만족함 (좋은 결과)\n",
        "\n",
        "이 모델은 통계적으로 적절하며 항공 승객 데이터의 패턴을 잘 포착하고 있습니다."
      ]
    },
    {
      "cell_type": "code",
      "execution_count": 11,
      "metadata": {},
      "outputs": [
        {
          "data": {
            "application/vnd.plotly.v1+json": {
              "config": {
                "plotlyServerURL": "https://plot.ly"
              },
              "data": [
                {
                  "name": "Actual",
                  "type": "scatter",
                  "x": [
                    "1949-01-01T00:00:00.000000000",
                    "1949-02-01T00:00:00.000000000",
                    "1949-03-01T00:00:00.000000000",
                    "1949-04-01T00:00:00.000000000",
                    "1949-05-01T00:00:00.000000000",
                    "1949-06-01T00:00:00.000000000",
                    "1949-07-01T00:00:00.000000000",
                    "1949-08-01T00:00:00.000000000",
                    "1949-09-01T00:00:00.000000000",
                    "1949-10-01T00:00:00.000000000",
                    "1949-11-01T00:00:00.000000000",
                    "1949-12-01T00:00:00.000000000",
                    "1950-01-01T00:00:00.000000000",
                    "1950-02-01T00:00:00.000000000",
                    "1950-03-01T00:00:00.000000000",
                    "1950-04-01T00:00:00.000000000",
                    "1950-05-01T00:00:00.000000000",
                    "1950-06-01T00:00:00.000000000",
                    "1950-07-01T00:00:00.000000000",
                    "1950-08-01T00:00:00.000000000",
                    "1950-09-01T00:00:00.000000000",
                    "1950-10-01T00:00:00.000000000",
                    "1950-11-01T00:00:00.000000000",
                    "1950-12-01T00:00:00.000000000",
                    "1951-01-01T00:00:00.000000000",
                    "1951-02-01T00:00:00.000000000",
                    "1951-03-01T00:00:00.000000000",
                    "1951-04-01T00:00:00.000000000",
                    "1951-05-01T00:00:00.000000000",
                    "1951-06-01T00:00:00.000000000",
                    "1951-07-01T00:00:00.000000000",
                    "1951-08-01T00:00:00.000000000",
                    "1951-09-01T00:00:00.000000000",
                    "1951-10-01T00:00:00.000000000",
                    "1951-11-01T00:00:00.000000000",
                    "1951-12-01T00:00:00.000000000",
                    "1952-01-01T00:00:00.000000000",
                    "1952-02-01T00:00:00.000000000",
                    "1952-03-01T00:00:00.000000000",
                    "1952-04-01T00:00:00.000000000",
                    "1952-05-01T00:00:00.000000000",
                    "1952-06-01T00:00:00.000000000",
                    "1952-07-01T00:00:00.000000000",
                    "1952-08-01T00:00:00.000000000",
                    "1952-09-01T00:00:00.000000000",
                    "1952-10-01T00:00:00.000000000",
                    "1952-11-01T00:00:00.000000000",
                    "1952-12-01T00:00:00.000000000",
                    "1953-01-01T00:00:00.000000000",
                    "1953-02-01T00:00:00.000000000",
                    "1953-03-01T00:00:00.000000000",
                    "1953-04-01T00:00:00.000000000",
                    "1953-05-01T00:00:00.000000000",
                    "1953-06-01T00:00:00.000000000",
                    "1953-07-01T00:00:00.000000000",
                    "1953-08-01T00:00:00.000000000",
                    "1953-09-01T00:00:00.000000000",
                    "1953-10-01T00:00:00.000000000",
                    "1953-11-01T00:00:00.000000000",
                    "1953-12-01T00:00:00.000000000",
                    "1954-01-01T00:00:00.000000000",
                    "1954-02-01T00:00:00.000000000",
                    "1954-03-01T00:00:00.000000000",
                    "1954-04-01T00:00:00.000000000",
                    "1954-05-01T00:00:00.000000000",
                    "1954-06-01T00:00:00.000000000",
                    "1954-07-01T00:00:00.000000000",
                    "1954-08-01T00:00:00.000000000",
                    "1954-09-01T00:00:00.000000000",
                    "1954-10-01T00:00:00.000000000",
                    "1954-11-01T00:00:00.000000000",
                    "1954-12-01T00:00:00.000000000",
                    "1955-01-01T00:00:00.000000000",
                    "1955-02-01T00:00:00.000000000",
                    "1955-03-01T00:00:00.000000000",
                    "1955-04-01T00:00:00.000000000",
                    "1955-05-01T00:00:00.000000000",
                    "1955-06-01T00:00:00.000000000",
                    "1955-07-01T00:00:00.000000000",
                    "1955-08-01T00:00:00.000000000",
                    "1955-09-01T00:00:00.000000000",
                    "1955-10-01T00:00:00.000000000",
                    "1955-11-01T00:00:00.000000000",
                    "1955-12-01T00:00:00.000000000",
                    "1956-01-01T00:00:00.000000000",
                    "1956-02-01T00:00:00.000000000",
                    "1956-03-01T00:00:00.000000000",
                    "1956-04-01T00:00:00.000000000",
                    "1956-05-01T00:00:00.000000000",
                    "1956-06-01T00:00:00.000000000",
                    "1956-07-01T00:00:00.000000000",
                    "1956-08-01T00:00:00.000000000",
                    "1956-09-01T00:00:00.000000000",
                    "1956-10-01T00:00:00.000000000",
                    "1956-11-01T00:00:00.000000000",
                    "1956-12-01T00:00:00.000000000",
                    "1957-01-01T00:00:00.000000000",
                    "1957-02-01T00:00:00.000000000",
                    "1957-03-01T00:00:00.000000000",
                    "1957-04-01T00:00:00.000000000",
                    "1957-05-01T00:00:00.000000000",
                    "1957-06-01T00:00:00.000000000",
                    "1957-07-01T00:00:00.000000000",
                    "1957-08-01T00:00:00.000000000",
                    "1957-09-01T00:00:00.000000000",
                    "1957-10-01T00:00:00.000000000",
                    "1957-11-01T00:00:00.000000000",
                    "1957-12-01T00:00:00.000000000",
                    "1958-01-01T00:00:00.000000000",
                    "1958-02-01T00:00:00.000000000",
                    "1958-03-01T00:00:00.000000000",
                    "1958-04-01T00:00:00.000000000",
                    "1958-05-01T00:00:00.000000000",
                    "1958-06-01T00:00:00.000000000",
                    "1958-07-01T00:00:00.000000000",
                    "1958-08-01T00:00:00.000000000",
                    "1958-09-01T00:00:00.000000000",
                    "1958-10-01T00:00:00.000000000",
                    "1958-11-01T00:00:00.000000000",
                    "1958-12-01T00:00:00.000000000",
                    "1959-01-01T00:00:00.000000000",
                    "1959-02-01T00:00:00.000000000",
                    "1959-03-01T00:00:00.000000000",
                    "1959-04-01T00:00:00.000000000",
                    "1959-05-01T00:00:00.000000000",
                    "1959-06-01T00:00:00.000000000",
                    "1959-07-01T00:00:00.000000000",
                    "1959-08-01T00:00:00.000000000",
                    "1959-09-01T00:00:00.000000000",
                    "1959-10-01T00:00:00.000000000",
                    "1959-11-01T00:00:00.000000000",
                    "1959-12-01T00:00:00.000000000",
                    "1960-01-01T00:00:00.000000000",
                    "1960-02-01T00:00:00.000000000",
                    "1960-03-01T00:00:00.000000000",
                    "1960-04-01T00:00:00.000000000",
                    "1960-05-01T00:00:00.000000000",
                    "1960-06-01T00:00:00.000000000",
                    "1960-07-01T00:00:00.000000000",
                    "1960-08-01T00:00:00.000000000",
                    "1960-09-01T00:00:00.000000000",
                    "1960-10-01T00:00:00.000000000",
                    "1960-11-01T00:00:00.000000000",
                    "1960-12-01T00:00:00.000000000"
                  ],
                  "y": {
                    "bdata": "cAB2AIQAgQB5AIcAlACUAIgAdwBoAHYAcwB+AI0AhwB9AJUAqgCqAJ4AhQByAIwAkQCWALIAowCsALIAxwDHALgAogCSAKYAqwC0AMEAtQC3ANoA5gDyANEAvwCsAMIAxADEAOwA6wDlAPMACAEQAe0A0wC0AMkAzAC8AOsA4wDqAAgBLgElAQMB5QDLAOUA8gDpAAsBDQEOATsBbAFbATgBEgHtABYBHAEVAT0BOQE+AXYBnQGVAWMBMgEPATIBOwEtAWQBXAFjAaYB0QHTAZQBWwExAVABVAE+AWoBXAFrAbMB6wH5AZQBZwE2AVEBaAFWAZYBjAGkAdgBJAIvAs8BlwFqAZUBoQGHAaMBzQHYARcCbgJeAvwBzQGGAbAB",
                    "dtype": "i2"
                  }
                },
                {
                  "name": "Forecast",
                  "type": "scatter",
                  "x": [
                    "1960-01-01T00:00:00.000000000",
                    "1960-02-01T00:00:00.000000000",
                    "1960-03-01T00:00:00.000000000",
                    "1960-04-01T00:00:00.000000000",
                    "1960-05-01T00:00:00.000000000",
                    "1960-06-01T00:00:00.000000000",
                    "1960-07-01T00:00:00.000000000",
                    "1960-08-01T00:00:00.000000000",
                    "1960-09-01T00:00:00.000000000",
                    "1960-10-01T00:00:00.000000000",
                    "1960-11-01T00:00:00.000000000",
                    "1960-12-01T00:00:00.000000000"
                  ],
                  "y": {
                    "bdata": "8Qbl3MGBekAyHfsE5HB5QNHK7BI2bX1AkA0uGBvOfEDAkVFp401+QPR5l3n4xoBAnwtB1PYmg0AOP7I6936DQCL3ySH3foBAcoiwT+59fUCEqr5M7q16QD/1dU3uXX1A",
                    "dtype": "f8"
                  }
                },
                {
                  "fill": "tonexty",
                  "line": {
                    "color": "rgba(255,0,0,0.1)"
                  },
                  "mode": "lines",
                  "name": "Lower CI",
                  "type": "scatter",
                  "x": [
                    "1960-01-01T00:00:00.000000000",
                    "1960-02-01T00:00:00.000000000",
                    "1960-03-01T00:00:00.000000000",
                    "1960-04-01T00:00:00.000000000",
                    "1960-05-01T00:00:00.000000000",
                    "1960-06-01T00:00:00.000000000",
                    "1960-07-01T00:00:00.000000000",
                    "1960-08-01T00:00:00.000000000",
                    "1960-09-01T00:00:00.000000000",
                    "1960-10-01T00:00:00.000000000",
                    "1960-11-01T00:00:00.000000000",
                    "1960-12-01T00:00:00.000000000"
                  ],
                  "y": {
                    "bdata": "gKmGvYo6eUB1WLsahdZ3QImw4EOgg3tAWQbhAa+iekBMwP8RKOd7QNkobJQ/8X5AeuNqKKW/gUBP+12dTQCCQNQyiyKb1H1AHOfg7eAqekCphlt4GjN3QC0MmaMHvXlA",
                    "dtype": "f8"
                  }
                },
                {
                  "fill": "tonexty",
                  "line": {
                    "color": "rgba(255,0,0,0.1)"
                  },
                  "mode": "lines",
                  "name": "Upper CI",
                  "type": "scatter",
                  "x": [
                    "1960-01-01T00:00:00.000000000",
                    "1960-02-01T00:00:00.000000000",
                    "1960-03-01T00:00:00.000000000",
                    "1960-04-01T00:00:00.000000000",
                    "1960-05-01T00:00:00.000000000",
                    "1960-06-01T00:00:00.000000000",
                    "1960-07-01T00:00:00.000000000",
                    "1960-08-01T00:00:00.000000000",
                    "1960-09-01T00:00:00.000000000",
                    "1960-10-01T00:00:00.000000000",
                    "1960-11-01T00:00:00.000000000",
                    "1960-12-01T00:00:00.000000000"
                  ],
                  "y": {
                    "bdata": "YmRD/PjIe0Dv4TrvQgt7QBnl+OHLVn9AxxR7Lof5fkCasVFgT1qAQHvf+ChRFYJAxDMXgEiOhEDNggbYoP2EQNpUTrKgE4JA5BTA2H1ogEBfziEhwih+QClvqXtqf4BA",
                    "dtype": "f8"
                  }
                }
              ],
              "layout": {
                "template": {
                  "data": {
                    "bar": [
                      {
                        "error_x": {
                          "color": "#2a3f5f"
                        },
                        "error_y": {
                          "color": "#2a3f5f"
                        },
                        "marker": {
                          "line": {
                            "color": "#E5ECF6",
                            "width": 0.5
                          },
                          "pattern": {
                            "fillmode": "overlay",
                            "size": 10,
                            "solidity": 0.2
                          }
                        },
                        "type": "bar"
                      }
                    ],
                    "barpolar": [
                      {
                        "marker": {
                          "line": {
                            "color": "#E5ECF6",
                            "width": 0.5
                          },
                          "pattern": {
                            "fillmode": "overlay",
                            "size": 10,
                            "solidity": 0.2
                          }
                        },
                        "type": "barpolar"
                      }
                    ],
                    "carpet": [
                      {
                        "aaxis": {
                          "endlinecolor": "#2a3f5f",
                          "gridcolor": "white",
                          "linecolor": "white",
                          "minorgridcolor": "white",
                          "startlinecolor": "#2a3f5f"
                        },
                        "baxis": {
                          "endlinecolor": "#2a3f5f",
                          "gridcolor": "white",
                          "linecolor": "white",
                          "minorgridcolor": "white",
                          "startlinecolor": "#2a3f5f"
                        },
                        "type": "carpet"
                      }
                    ],
                    "choropleth": [
                      {
                        "colorbar": {
                          "outlinewidth": 0,
                          "ticks": ""
                        },
                        "type": "choropleth"
                      }
                    ],
                    "contour": [
                      {
                        "colorbar": {
                          "outlinewidth": 0,
                          "ticks": ""
                        },
                        "colorscale": [
                          [
                            0,
                            "#0d0887"
                          ],
                          [
                            0.1111111111111111,
                            "#46039f"
                          ],
                          [
                            0.2222222222222222,
                            "#7201a8"
                          ],
                          [
                            0.3333333333333333,
                            "#9c179e"
                          ],
                          [
                            0.4444444444444444,
                            "#bd3786"
                          ],
                          [
                            0.5555555555555556,
                            "#d8576b"
                          ],
                          [
                            0.6666666666666666,
                            "#ed7953"
                          ],
                          [
                            0.7777777777777778,
                            "#fb9f3a"
                          ],
                          [
                            0.8888888888888888,
                            "#fdca26"
                          ],
                          [
                            1,
                            "#f0f921"
                          ]
                        ],
                        "type": "contour"
                      }
                    ],
                    "contourcarpet": [
                      {
                        "colorbar": {
                          "outlinewidth": 0,
                          "ticks": ""
                        },
                        "type": "contourcarpet"
                      }
                    ],
                    "heatmap": [
                      {
                        "colorbar": {
                          "outlinewidth": 0,
                          "ticks": ""
                        },
                        "colorscale": [
                          [
                            0,
                            "#0d0887"
                          ],
                          [
                            0.1111111111111111,
                            "#46039f"
                          ],
                          [
                            0.2222222222222222,
                            "#7201a8"
                          ],
                          [
                            0.3333333333333333,
                            "#9c179e"
                          ],
                          [
                            0.4444444444444444,
                            "#bd3786"
                          ],
                          [
                            0.5555555555555556,
                            "#d8576b"
                          ],
                          [
                            0.6666666666666666,
                            "#ed7953"
                          ],
                          [
                            0.7777777777777778,
                            "#fb9f3a"
                          ],
                          [
                            0.8888888888888888,
                            "#fdca26"
                          ],
                          [
                            1,
                            "#f0f921"
                          ]
                        ],
                        "type": "heatmap"
                      }
                    ],
                    "histogram": [
                      {
                        "marker": {
                          "pattern": {
                            "fillmode": "overlay",
                            "size": 10,
                            "solidity": 0.2
                          }
                        },
                        "type": "histogram"
                      }
                    ],
                    "histogram2d": [
                      {
                        "colorbar": {
                          "outlinewidth": 0,
                          "ticks": ""
                        },
                        "colorscale": [
                          [
                            0,
                            "#0d0887"
                          ],
                          [
                            0.1111111111111111,
                            "#46039f"
                          ],
                          [
                            0.2222222222222222,
                            "#7201a8"
                          ],
                          [
                            0.3333333333333333,
                            "#9c179e"
                          ],
                          [
                            0.4444444444444444,
                            "#bd3786"
                          ],
                          [
                            0.5555555555555556,
                            "#d8576b"
                          ],
                          [
                            0.6666666666666666,
                            "#ed7953"
                          ],
                          [
                            0.7777777777777778,
                            "#fb9f3a"
                          ],
                          [
                            0.8888888888888888,
                            "#fdca26"
                          ],
                          [
                            1,
                            "#f0f921"
                          ]
                        ],
                        "type": "histogram2d"
                      }
                    ],
                    "histogram2dcontour": [
                      {
                        "colorbar": {
                          "outlinewidth": 0,
                          "ticks": ""
                        },
                        "colorscale": [
                          [
                            0,
                            "#0d0887"
                          ],
                          [
                            0.1111111111111111,
                            "#46039f"
                          ],
                          [
                            0.2222222222222222,
                            "#7201a8"
                          ],
                          [
                            0.3333333333333333,
                            "#9c179e"
                          ],
                          [
                            0.4444444444444444,
                            "#bd3786"
                          ],
                          [
                            0.5555555555555556,
                            "#d8576b"
                          ],
                          [
                            0.6666666666666666,
                            "#ed7953"
                          ],
                          [
                            0.7777777777777778,
                            "#fb9f3a"
                          ],
                          [
                            0.8888888888888888,
                            "#fdca26"
                          ],
                          [
                            1,
                            "#f0f921"
                          ]
                        ],
                        "type": "histogram2dcontour"
                      }
                    ],
                    "mesh3d": [
                      {
                        "colorbar": {
                          "outlinewidth": 0,
                          "ticks": ""
                        },
                        "type": "mesh3d"
                      }
                    ],
                    "parcoords": [
                      {
                        "line": {
                          "colorbar": {
                            "outlinewidth": 0,
                            "ticks": ""
                          }
                        },
                        "type": "parcoords"
                      }
                    ],
                    "pie": [
                      {
                        "automargin": true,
                        "type": "pie"
                      }
                    ],
                    "scatter": [
                      {
                        "fillpattern": {
                          "fillmode": "overlay",
                          "size": 10,
                          "solidity": 0.2
                        },
                        "type": "scatter"
                      }
                    ],
                    "scatter3d": [
                      {
                        "line": {
                          "colorbar": {
                            "outlinewidth": 0,
                            "ticks": ""
                          }
                        },
                        "marker": {
                          "colorbar": {
                            "outlinewidth": 0,
                            "ticks": ""
                          }
                        },
                        "type": "scatter3d"
                      }
                    ],
                    "scattercarpet": [
                      {
                        "marker": {
                          "colorbar": {
                            "outlinewidth": 0,
                            "ticks": ""
                          }
                        },
                        "type": "scattercarpet"
                      }
                    ],
                    "scattergeo": [
                      {
                        "marker": {
                          "colorbar": {
                            "outlinewidth": 0,
                            "ticks": ""
                          }
                        },
                        "type": "scattergeo"
                      }
                    ],
                    "scattergl": [
                      {
                        "marker": {
                          "colorbar": {
                            "outlinewidth": 0,
                            "ticks": ""
                          }
                        },
                        "type": "scattergl"
                      }
                    ],
                    "scattermap": [
                      {
                        "marker": {
                          "colorbar": {
                            "outlinewidth": 0,
                            "ticks": ""
                          }
                        },
                        "type": "scattermap"
                      }
                    ],
                    "scattermapbox": [
                      {
                        "marker": {
                          "colorbar": {
                            "outlinewidth": 0,
                            "ticks": ""
                          }
                        },
                        "type": "scattermapbox"
                      }
                    ],
                    "scatterpolar": [
                      {
                        "marker": {
                          "colorbar": {
                            "outlinewidth": 0,
                            "ticks": ""
                          }
                        },
                        "type": "scatterpolar"
                      }
                    ],
                    "scatterpolargl": [
                      {
                        "marker": {
                          "colorbar": {
                            "outlinewidth": 0,
                            "ticks": ""
                          }
                        },
                        "type": "scatterpolargl"
                      }
                    ],
                    "scatterternary": [
                      {
                        "marker": {
                          "colorbar": {
                            "outlinewidth": 0,
                            "ticks": ""
                          }
                        },
                        "type": "scatterternary"
                      }
                    ],
                    "surface": [
                      {
                        "colorbar": {
                          "outlinewidth": 0,
                          "ticks": ""
                        },
                        "colorscale": [
                          [
                            0,
                            "#0d0887"
                          ],
                          [
                            0.1111111111111111,
                            "#46039f"
                          ],
                          [
                            0.2222222222222222,
                            "#7201a8"
                          ],
                          [
                            0.3333333333333333,
                            "#9c179e"
                          ],
                          [
                            0.4444444444444444,
                            "#bd3786"
                          ],
                          [
                            0.5555555555555556,
                            "#d8576b"
                          ],
                          [
                            0.6666666666666666,
                            "#ed7953"
                          ],
                          [
                            0.7777777777777778,
                            "#fb9f3a"
                          ],
                          [
                            0.8888888888888888,
                            "#fdca26"
                          ],
                          [
                            1,
                            "#f0f921"
                          ]
                        ],
                        "type": "surface"
                      }
                    ],
                    "table": [
                      {
                        "cells": {
                          "fill": {
                            "color": "#EBF0F8"
                          },
                          "line": {
                            "color": "white"
                          }
                        },
                        "header": {
                          "fill": {
                            "color": "#C8D4E3"
                          },
                          "line": {
                            "color": "white"
                          }
                        },
                        "type": "table"
                      }
                    ]
                  },
                  "layout": {
                    "annotationdefaults": {
                      "arrowcolor": "#2a3f5f",
                      "arrowhead": 0,
                      "arrowwidth": 1
                    },
                    "autotypenumbers": "strict",
                    "coloraxis": {
                      "colorbar": {
                        "outlinewidth": 0,
                        "ticks": ""
                      }
                    },
                    "colorscale": {
                      "diverging": [
                        [
                          0,
                          "#8e0152"
                        ],
                        [
                          0.1,
                          "#c51b7d"
                        ],
                        [
                          0.2,
                          "#de77ae"
                        ],
                        [
                          0.3,
                          "#f1b6da"
                        ],
                        [
                          0.4,
                          "#fde0ef"
                        ],
                        [
                          0.5,
                          "#f7f7f7"
                        ],
                        [
                          0.6,
                          "#e6f5d0"
                        ],
                        [
                          0.7,
                          "#b8e186"
                        ],
                        [
                          0.8,
                          "#7fbc41"
                        ],
                        [
                          0.9,
                          "#4d9221"
                        ],
                        [
                          1,
                          "#276419"
                        ]
                      ],
                      "sequential": [
                        [
                          0,
                          "#0d0887"
                        ],
                        [
                          0.1111111111111111,
                          "#46039f"
                        ],
                        [
                          0.2222222222222222,
                          "#7201a8"
                        ],
                        [
                          0.3333333333333333,
                          "#9c179e"
                        ],
                        [
                          0.4444444444444444,
                          "#bd3786"
                        ],
                        [
                          0.5555555555555556,
                          "#d8576b"
                        ],
                        [
                          0.6666666666666666,
                          "#ed7953"
                        ],
                        [
                          0.7777777777777778,
                          "#fb9f3a"
                        ],
                        [
                          0.8888888888888888,
                          "#fdca26"
                        ],
                        [
                          1,
                          "#f0f921"
                        ]
                      ],
                      "sequentialminus": [
                        [
                          0,
                          "#0d0887"
                        ],
                        [
                          0.1111111111111111,
                          "#46039f"
                        ],
                        [
                          0.2222222222222222,
                          "#7201a8"
                        ],
                        [
                          0.3333333333333333,
                          "#9c179e"
                        ],
                        [
                          0.4444444444444444,
                          "#bd3786"
                        ],
                        [
                          0.5555555555555556,
                          "#d8576b"
                        ],
                        [
                          0.6666666666666666,
                          "#ed7953"
                        ],
                        [
                          0.7777777777777778,
                          "#fb9f3a"
                        ],
                        [
                          0.8888888888888888,
                          "#fdca26"
                        ],
                        [
                          1,
                          "#f0f921"
                        ]
                      ]
                    },
                    "colorway": [
                      "#636efa",
                      "#EF553B",
                      "#00cc96",
                      "#ab63fa",
                      "#FFA15A",
                      "#19d3f3",
                      "#FF6692",
                      "#B6E880",
                      "#FF97FF",
                      "#FECB52"
                    ],
                    "font": {
                      "color": "#2a3f5f"
                    },
                    "geo": {
                      "bgcolor": "white",
                      "lakecolor": "white",
                      "landcolor": "#E5ECF6",
                      "showlakes": true,
                      "showland": true,
                      "subunitcolor": "white"
                    },
                    "hoverlabel": {
                      "align": "left"
                    },
                    "hovermode": "closest",
                    "mapbox": {
                      "style": "light"
                    },
                    "paper_bgcolor": "white",
                    "plot_bgcolor": "#E5ECF6",
                    "polar": {
                      "angularaxis": {
                        "gridcolor": "white",
                        "linecolor": "white",
                        "ticks": ""
                      },
                      "bgcolor": "#E5ECF6",
                      "radialaxis": {
                        "gridcolor": "white",
                        "linecolor": "white",
                        "ticks": ""
                      }
                    },
                    "scene": {
                      "xaxis": {
                        "backgroundcolor": "#E5ECF6",
                        "gridcolor": "white",
                        "gridwidth": 2,
                        "linecolor": "white",
                        "showbackground": true,
                        "ticks": "",
                        "zerolinecolor": "white"
                      },
                      "yaxis": {
                        "backgroundcolor": "#E5ECF6",
                        "gridcolor": "white",
                        "gridwidth": 2,
                        "linecolor": "white",
                        "showbackground": true,
                        "ticks": "",
                        "zerolinecolor": "white"
                      },
                      "zaxis": {
                        "backgroundcolor": "#E5ECF6",
                        "gridcolor": "white",
                        "gridwidth": 2,
                        "linecolor": "white",
                        "showbackground": true,
                        "ticks": "",
                        "zerolinecolor": "white"
                      }
                    },
                    "shapedefaults": {
                      "line": {
                        "color": "#2a3f5f"
                      }
                    },
                    "ternary": {
                      "aaxis": {
                        "gridcolor": "white",
                        "linecolor": "white",
                        "ticks": ""
                      },
                      "baxis": {
                        "gridcolor": "white",
                        "linecolor": "white",
                        "ticks": ""
                      },
                      "bgcolor": "#E5ECF6",
                      "caxis": {
                        "gridcolor": "white",
                        "linecolor": "white",
                        "ticks": ""
                      }
                    },
                    "title": {
                      "x": 0.05
                    },
                    "xaxis": {
                      "automargin": true,
                      "gridcolor": "white",
                      "linecolor": "white",
                      "ticks": "",
                      "title": {
                        "standoff": 15
                      },
                      "zerolinecolor": "white",
                      "zerolinewidth": 2
                    },
                    "yaxis": {
                      "automargin": true,
                      "gridcolor": "white",
                      "linecolor": "white",
                      "ticks": "",
                      "title": {
                        "standoff": 15
                      },
                      "zerolinecolor": "white",
                      "zerolinewidth": 2
                    }
                  }
                },
                "title": {
                  "text": "항공 승객 수 예측 (SARIMA with auto_arima)"
                },
                "xaxis": {
                  "title": {
                    "text": "날짜"
                  }
                },
                "yaxis": {
                  "title": {
                    "text": "승객 수"
                  }
                }
              }
            }
          },
          "metadata": {},
          "output_type": "display_data"
        }
      ],
      "source": [
        "# 테스트 데이터에 대한 예측\n",
        "n_periods = 12\n",
        "forecast_auto, conf_int = sarima_model.predict(n_periods=n_periods, return_conf_int=True)\n",
        "\n",
        "# 예측 결과 시각화\n",
        "forecast_index = pd.date_range(start=train_auto.index[-1] + pd.DateOffset(months=1), periods=n_periods, freq='MS')\n",
        "\n",
        "fig = go.Figure()\n",
        "fig.add_trace(go.Scatter(x=df.index, y=df['Passengers'], name='Actual'))\n",
        "fig.add_trace(go.Scatter(x=forecast_index, y=forecast_auto, name='Forecast'))\n",
        "\n",
        "# 신뢰구간 추가\n",
        "fig.add_trace(go.Scatter(x=forecast_index, y=conf_int[:, 0], fill='tonexty',\n",
        "                         mode='lines', line_color='rgba(255,0,0,0.1)', name='Lower CI'))\n",
        "fig.add_trace(go.Scatter(x=forecast_index, y=conf_int[:, 1], fill='tonexty',\n",
        "                         mode='lines', line_color='rgba(255,0,0,0.1)', name='Upper CI'))\n",
        "\n",
        "fig.update_layout(title='항공 승객 수 예측 (SARIMA with auto_arima)', xaxis_title='날짜', yaxis_title='승객 수')\n",
        "fig.show()"
      ]
    },
    {
      "cell_type": "markdown",
      "metadata": {
        "id": "uZ85q9sp5s_7"
      },
      "source": [
        "### ✏️ 연습 문제 (Practice Problems)\n",
        "\n",
        "1.  샴푸 판매량 데이터는 36개월간의 월별 판매량을 기록하고 있습니다. 이 데이터를 사용하여 SARIMA 모델을 구축해보세요.\n",
        "      * 데이터셋 URL: `https://raw.githubusercontent.com/jbrownlee/Datasets/master/shampoo.csv`\n",
        "2.  데이터에 계절성이 있는지 시각적으로 확인해보세요. (힌트: 12개월 주기로 패턴이 나타나는지 확인)\n",
        "3.  `auto_arima`를 사용하여 최적의 SARIMA 모델을 찾고, 그 결과를 해석해보세요. (계절 주기는 12로 설정)\n",
        "4.  마지막 6개월을 예측하고, 실제 데이터와 비교하여 모델의 성능을 시각적으로 평가해보세요.\n",
        "\n",
        "<!-- end list -->"
      ]
    },
    {
      "cell_type": "code",
      "execution_count": 12,
      "metadata": {
        "id": "oZakUvZ35s_7"
      },
      "outputs": [],
      "source": [
        "# 연습 문제 1, 2, 3, 4번 풀이 공간\n",
        "import pandas as pd\n",
        "import plotly.graph_objects as go\n",
        "import pmdarima as pm\n",
        "from pmdarima.model_selection import train_test_split\n",
        "\n",
        "# 1. 데이터 로드\n",
        "url_shampoo = 'https://raw.githubusercontent.com/jbrownlee/Datasets/master/shampoo.csv'\n",
        "df_shampoo = pd.read_csv(url_shampoo, index_col='Month', parse_dates=True)\n",
        "df_shampoo.columns = ['Sales']\n",
        "\n",
        "\n",
        "# 여기에 2, 3, 4번 문제에 대한 코드를 작성하세요."
      ]
    },
    {
      "cell_type": "markdown",
      "metadata": {
        "id": "WNvR9rlU5s_7"
      },
      "source": [
        "-----\n",
        "\n",
        "## 4\\. 다변량 시계열 분석 (Multivariate Analysis): VAR\n",
        "\n",
        "### 💡 개념 (Concept)\n",
        "\n",
        "**VAR(Vector AutoRegression, 벡터 자기회귀)** 모델은 **여러 개의 시계열 변수**가 서로 영향을 주고받는 관계를 모델링하는 **다변량(Multivariate)** 시계열 분석 기법입니다.\n",
        "\n",
        "단변량 분석(ARIMA 등)이 하나의 변수(y)의 과거만을 보고 미래를 예측했다면, VAR은 여러 변수(y1, y2, ...)의 과거 값들이 서로의 현재 값에 어떻게 영향을 미치는지를 동시에 분석합니다.\n",
        "\n",
        "메타포: \"오늘의 기온(y1)은 어제의 기온뿐만 아니라 어제의 풍속(y2)과 습도(y3)에도 영향을 받는다.\"\n",
        "\n",
        "**VAR 모델의 특징**:\n",
        "\n",
        "  * **내생성**: 모델에 포함된 모든 변수는 서로에게 영향을 주는 내생변수(endogenous variable)로 취급됩니다.\n",
        "  * **방정식 시스템**: 각 변수에 대해 별도의 회귀 방정식이 만들어집니다. 예를 들어, 변수가 2개(y1, y2)인 VAR(1) 모델은 다음과 같은 두 개의 방정식으로 구성됩니다.\n",
        "    $$y_{1,t} = c_1 + \\phi_{11,1}y_{1,t-1} + \\phi_{12,1}y_{2,t-1} + \\epsilon_{1,t}$$\n",
        "    $$y_{2,t} = c_2 + \\phi_{21,1}y_{1,t-1} + \\phi_{22,1}y_{2,t-1} + \\epsilon_{2,t}$$\n",
        "  * **정상성**: VAR 모델 역시 모든 시계열 데이터가 정상성을 만족해야 합니다. 따라서 모델링 전에 각 변수에 대해 ADF 검정 및 차분을 수행해야 합니다.\n",
        "  * **최적 시차(p) 결정**: AIC, BIC 등의 정보 기준을 사용하여 최적의 시차 `p`를 결정합니다.\n",
        "\n",
        "**VARMA, VARMAX 란?**\n",
        "\n",
        "  * **VARMA**: VAR 모델에 이동평균(MA) 항을 추가하여, 각 변수의 예측 오차 또한 다른 변수들에게 영향을 미치는 관계를 모델링합니다.\n",
        "  * **VARMAX**: VARMA 모델에 외생변수(eXogenous variable, X)를 추가한 모델입니다. 모델 외부에서 결정되지만 모델 내 변수들에게 영향을 주는 변수(예: 정책, 이벤트)를 분석에 포함시킬 수 있습니다.\n",
        "\n",
        "### 💻 예시 코드 (Example Code)\n",
        "\n",
        "`moneystock-spending-series.csv` 데이터의 'Money'와 'Spending' 두 변수가 서로에게 미치는 영향을 VAR 모델로 분석해 보겠습니다."
      ]
    },
    {
      "cell_type": "code",
      "execution_count": 13,
      "metadata": {
        "id": "JD4VI_gE5s_7"
      },
      "outputs": [
        {
          "name": "stdout",
          "output_type": "stream",
          "text": [
            " VAR Order Selection (* highlights the minimums)  \n",
            "==================================================\n",
            "       AIC         BIC         FPE         HQIC   \n",
            "--------------------------------------------------\n",
            "0        14.84       14.87   2.789e+06       14.85\n",
            "1        14.26       14.36   1.567e+06       14.30\n",
            "2        14.04       14.20   1.255e+06       14.10\n",
            "3        13.93      14.15*   1.123e+06       14.02\n",
            "4        13.91       14.18   1.096e+06       14.02\n",
            "5        13.87       14.20   1.052e+06      14.00*\n",
            "6        13.87       14.27   1.058e+06       14.03\n",
            "7        13.86       14.32   1.048e+06       14.05\n",
            "8       13.81*       14.33  9.920e+05*       14.02\n",
            "9        13.82       14.40   1.006e+06       14.05\n",
            "10       13.85       14.49   1.037e+06       14.11\n",
            "11       13.89       14.59   1.074e+06       14.17\n",
            "12       13.91       14.68   1.105e+06       14.22\n",
            "13       13.91       14.73   1.101e+06       14.24\n",
            "14       13.94       14.83   1.137e+06       14.30\n",
            "15       13.92       14.87   1.117e+06       14.31\n",
            "--------------------------------------------------\n"
          ]
        }
      ],
      "source": [
        "import pandas as pd\n",
        "import plotly.graph_objects as go\n",
        "from statsmodels.tsa.api import VAR\n",
        "from statsmodels.tsa.stattools import adfuller\n",
        "\n",
        "# 데이터 로드 및 2차 차분 (정상성 확보)\n",
        "df_money = pd.read_csv('../datasets/tsa/moneystock-spending-series.csv', index_col=0, parse_dates=True)\n",
        "df_money.index.freq = 'MS'\n",
        "df_diff2 = df_money.diff().diff().dropna()\n",
        "\n",
        "# 학습 데이터와 테스트 데이터 분리\n",
        "nobs = 12 # 마지막 12개를 테스트 데이터로 사용\n",
        "train_var = df_diff2[:-nobs]\n",
        "test_var = df_diff2[-nobs:]\n",
        "\n",
        "# 1. 최적의 시차 p 찾기\n",
        "model_var = VAR(train_var)\n",
        "lag_selection_results = model_var.select_order(maxlags=15)\n",
        "print(lag_selection_results.summary())"
      ]
    },
    {
      "cell_type": "code",
      "execution_count": 14,
      "metadata": {},
      "outputs": [
        {
          "data": {
            "text/plain": [
              "  Summary of Regression Results   \n",
              "==================================\n",
              "Model:                         VAR\n",
              "Method:                        OLS\n",
              "Date:           Tue, 10, Jun, 2025\n",
              "Time:                     17:06:55\n",
              "--------------------------------------------------------------------\n",
              "No. of Equations:         2.00000    BIC:                    14.2554\n",
              "Nobs:                     230.000    HQIC:                   13.9522\n",
              "Log likelihood:          -2199.64    FPE:                    934476.\n",
              "AIC:                      13.7472    Det(Omega_mle):         810270.\n",
              "--------------------------------------------------------------------\n",
              "Results for equation Money\n",
              "==============================================================================\n",
              "                 coefficient       std. error           t-stat            prob\n",
              "------------------------------------------------------------------------------\n",
              "const               0.920234         1.774714            0.519           0.604\n",
              "L1.Money           -0.711320         0.070127          -10.143           0.000\n",
              "L1.Spending        -0.130975         0.053364           -2.454           0.014\n",
              "L2.Money           -0.612552         0.083940           -7.297           0.000\n",
              "L2.Spending        -0.266791         0.073721           -3.619           0.000\n",
              "L3.Money           -0.395012         0.091249           -4.329           0.000\n",
              "L3.Spending        -0.308592         0.084633           -3.646           0.000\n",
              "L4.Money           -0.470576         0.090874           -5.178           0.000\n",
              "L4.Spending        -0.192881         0.088192           -2.187           0.029\n",
              "L5.Money           -0.385605         0.092524           -4.168           0.000\n",
              "L5.Spending        -0.223629         0.086860           -2.575           0.010\n",
              "L6.Money           -0.286764         0.090003           -3.186           0.001\n",
              "L6.Spending        -0.183544         0.083654           -2.194           0.028\n",
              "L7.Money           -0.233421         0.081687           -2.857           0.004\n",
              "L7.Spending        -0.128528         0.073882           -1.740           0.082\n",
              "L8.Money           -0.142264         0.068651           -2.072           0.038\n",
              "L8.Spending        -0.098299         0.052967           -1.856           0.063\n",
              "==============================================================================\n",
              "\n",
              "Results for equation Spending\n",
              "==============================================================================\n",
              "                 coefficient       std. error           t-stat            prob\n",
              "------------------------------------------------------------------------------\n",
              "const               0.273453         2.306590            0.119           0.906\n",
              "L1.Money            0.181685         0.091144            1.993           0.046\n",
              "L1.Spending        -0.941509         0.069358          -13.575           0.000\n",
              "L2.Money            0.080311         0.109097            0.736           0.462\n",
              "L2.Spending        -0.704406         0.095815           -7.352           0.000\n",
              "L3.Money            0.024989         0.118596            0.211           0.833\n",
              "L3.Spending        -0.477907         0.109997           -4.345           0.000\n",
              "L4.Money           -0.127957         0.118109           -1.083           0.279\n",
              "L4.Spending        -0.361932         0.114623           -3.158           0.002\n",
              "L5.Money           -0.062684         0.120253           -0.521           0.602\n",
              "L5.Spending        -0.391344         0.112891           -3.467           0.001\n",
              "L6.Money            0.140130         0.116977            1.198           0.231\n",
              "L6.Spending        -0.303289         0.108724           -2.790           0.005\n",
              "L7.Money            0.294338         0.106169            2.772           0.006\n",
              "L7.Spending        -0.249151         0.096024           -2.595           0.009\n",
              "L8.Money            0.214705         0.089226            2.406           0.016\n",
              "L8.Spending        -0.153144         0.068841           -2.225           0.026\n",
              "==============================================================================\n",
              "\n",
              "Correlation matrix of residuals\n",
              "               Money  Spending\n",
              "Money       1.000000 -0.281210\n",
              "Spending   -0.281210  1.000000\n",
              "\n"
            ]
          },
          "execution_count": 14,
          "metadata": {},
          "output_type": "execute_result"
        }
      ],
      "source": [
        "# AIC 기준 최적 시차는 8로 나타남 (AIC: 13.81*)\n",
        "# 2. VAR(8) 모델 구축 및 학습\n",
        "model_fitted = model_var.fit(8)\n",
        "model_fitted.summary()"
      ]
    },
    {
      "cell_type": "code",
      "execution_count": 15,
      "metadata": {},
      "outputs": [
        {
          "data": {
            "text/html": [
              "<div>\n",
              "<style scoped>\n",
              "    .dataframe tbody tr th:only-of-type {\n",
              "        vertical-align: middle;\n",
              "    }\n",
              "\n",
              "    .dataframe tbody tr th {\n",
              "        vertical-align: top;\n",
              "    }\n",
              "\n",
              "    .dataframe thead th {\n",
              "        text-align: right;\n",
              "    }\n",
              "</style>\n",
              "<table border=\"1\" class=\"dataframe\">\n",
              "  <thead>\n",
              "    <tr style=\"text-align: right;\">\n",
              "      <th></th>\n",
              "      <th>Money_2d</th>\n",
              "      <th>Spending_2d</th>\n",
              "    </tr>\n",
              "    <tr>\n",
              "      <th>Date</th>\n",
              "      <th></th>\n",
              "      <th></th>\n",
              "    </tr>\n",
              "  </thead>\n",
              "  <tbody>\n",
              "    <tr>\n",
              "      <th>2015-01-01</th>\n",
              "      <td>-11.394798</td>\n",
              "      <td>38.520197</td>\n",
              "    </tr>\n",
              "    <tr>\n",
              "      <th>2015-02-01</th>\n",
              "      <td>-1.207837</td>\n",
              "      <td>-14.664302</td>\n",
              "    </tr>\n",
              "    <tr>\n",
              "      <th>2015-03-01</th>\n",
              "      <td>0.742118</td>\n",
              "      <td>-2.075852</td>\n",
              "    </tr>\n",
              "    <tr>\n",
              "      <th>2015-04-01</th>\n",
              "      <td>-9.283600</td>\n",
              "      <td>5.075886</td>\n",
              "    </tr>\n",
              "    <tr>\n",
              "      <th>2015-05-01</th>\n",
              "      <td>5.031139</td>\n",
              "      <td>9.066290</td>\n",
              "    </tr>\n",
              "    <tr>\n",
              "      <th>2015-06-01</th>\n",
              "      <td>-7.084891</td>\n",
              "      <td>-8.189636</td>\n",
              "    </tr>\n",
              "    <tr>\n",
              "      <th>2015-07-01</th>\n",
              "      <td>3.380938</td>\n",
              "      <td>8.433085</td>\n",
              "    </tr>\n",
              "    <tr>\n",
              "      <th>2015-08-01</th>\n",
              "      <td>-0.404858</td>\n",
              "      <td>-3.408926</td>\n",
              "    </tr>\n",
              "    <tr>\n",
              "      <th>2015-09-01</th>\n",
              "      <td>1.157634</td>\n",
              "      <td>-8.166147</td>\n",
              "    </tr>\n",
              "    <tr>\n",
              "      <th>2015-10-01</th>\n",
              "      <td>2.769460</td>\n",
              "      <td>6.484220</td>\n",
              "    </tr>\n",
              "  </tbody>\n",
              "</table>\n",
              "</div>"
            ],
            "text/plain": [
              "             Money_2d  Spending_2d\n",
              "Date                              \n",
              "2015-01-01 -11.394798    38.520197\n",
              "2015-02-01  -1.207837   -14.664302\n",
              "2015-03-01   0.742118    -2.075852\n",
              "2015-04-01  -9.283600     5.075886\n",
              "2015-05-01   5.031139     9.066290\n",
              "2015-06-01  -7.084891    -8.189636\n",
              "2015-07-01   3.380938     8.433085\n",
              "2015-08-01  -0.404858    -3.408926\n",
              "2015-09-01   1.157634    -8.166147\n",
              "2015-10-01   2.769460     6.484220"
            ]
          },
          "execution_count": 15,
          "metadata": {},
          "output_type": "execute_result"
        }
      ],
      "source": [
        "# 3. 예측\n",
        "lag_order = model_fitted.k_ar\n",
        "forecast_input = train_var.values[-lag_order:]\n",
        "forecast_var = model_fitted.forecast(y=forecast_input, steps=nobs)\n",
        "df_forecast = pd.DataFrame(forecast_var, index=test_var.index, columns=train_var.columns + '_2d')\n",
        "df_forecast.head(10)\n"
      ]
    },
    {
      "cell_type": "code",
      "execution_count": 16,
      "metadata": {},
      "outputs": [
        {
          "name": "stdout",
          "output_type": "stream",
          "text": [
            "=== 1차 차분 복원 과정 ===\n",
            "원본 데이터의 마지막 두 값:\n",
            "Money(T-1): 12277.40\n",
            "Money(T): 12335.90\n",
            "마지막 1차 차분값: 58.50\n",
            "\n",
            "2차 차분 예측값들:\n",
            "Money_2d[1]: -11.39\n",
            "Money_2d[2]: -1.21\n",
            "Money_2d[3]: 0.74\n",
            "\n",
            "1차 차분 복원 결과:\n",
            "Money_1d[1]: 58.50 + -11.39 = 47.11\n",
            "Money_1d[2]: 58.50 + -12.60 = 45.90\n",
            "Money_1d[3]: 58.50 + -11.86 = 46.64\n"
          ]
        }
      ],
      "source": [
        "# 차분 복원 과정 상세 설명\n",
        "\n",
        "## 2차 차분된 데이터를 원본으로 복원하는 과정\n",
        "\n",
        "### 1단계: 1차 차분 복원\n",
        "# 2차 차분: Y''(t) = Y'(t) - Y'(t-1)\n",
        "# 따라서 Y'(t) = Y'(t-1) + Y''(t)\n",
        "# \n",
        "# 마지막 1차 차분값: Y'(T) = Y(T) - Y(T-1)\n",
        "# 예측된 1차 차분값들:\n",
        "# Y'(T+1) = Y'(T) + Y''(T+1)\n",
        "# Y'(T+2) = Y'(T+1) + Y''(T+2) = Y'(T) + Y''(T+1) + Y''(T+2)\n",
        "# ...\n",
        "# 즉, Y'(T+h) = Y'(T) + Σ(Y''(T+i)) for i=1 to h\n",
        "\n",
        "print(\"=== 1차 차분 복원 과정 ===\")\n",
        "print(\"원본 데이터의 마지막 두 값:\")\n",
        "print(f\"Money(T-1): {df_money['Money'].iloc[-2]:.2f}\")\n",
        "print(f\"Money(T): {df_money['Money'].iloc[-1]:.2f}\")\n",
        "print(f\"마지막 1차 차분값: {df_money['Money'].iloc[-1] - df_money['Money'].iloc[-2]:.2f}\")\n",
        "print()\n",
        "\n",
        "print(\"2차 차분 예측값들:\")\n",
        "for i in range(3):\n",
        "    print(f\"Money_2d[{i+1}]: {df_forecast['Money_2d'].iloc[i]:.2f}\")\n",
        "print()\n",
        "\n",
        "print(\"1차 차분 복원 결과:\")\n",
        "last_diff = df_money['Money'].iloc[-1] - df_money['Money'].iloc[-2]\n",
        "cumsum_2d = df_forecast['Money_2d'].cumsum()\n",
        "for i in range(3):\n",
        "    restored_1d = last_diff + cumsum_2d.iloc[i]\n",
        "    print(f\"Money_1d[{i+1}]: {last_diff:.2f} + {cumsum_2d.iloc[i]:.2f} = {restored_1d:.2f}\")"
      ]
    },
    {
      "cell_type": "code",
      "execution_count": 17,
      "metadata": {},
      "outputs": [
        {
          "name": "stdout",
          "output_type": "stream",
          "text": [
            "\n",
            "=== 원본 값 복원 과정 ===\n",
            "마지막 원본값: 12335.90\n",
            "\n",
            "복원된 1차 차분값들:\n"
          ]
        },
        {
          "ename": "NameError",
          "evalue": "name 'df_results' is not defined",
          "output_type": "error",
          "traceback": [
            "\u001b[31m---------------------------------------------------------------------------\u001b[39m",
            "\u001b[31mNameError\u001b[39m                                 Traceback (most recent call last)",
            "\u001b[36mCell\u001b[39m\u001b[36m \u001b[39m\u001b[32mIn[17]\u001b[39m\u001b[32m, line 18\u001b[39m\n\u001b[32m     16\u001b[39m \u001b[38;5;28mprint\u001b[39m(\u001b[33m\"\u001b[39m\u001b[33m복원된 1차 차분값들:\u001b[39m\u001b[33m\"\u001b[39m)\n\u001b[32m     17\u001b[39m \u001b[38;5;28;01mfor\u001b[39;00m i \u001b[38;5;129;01min\u001b[39;00m \u001b[38;5;28mrange\u001b[39m(\u001b[32m3\u001b[39m):\n\u001b[32m---> \u001b[39m\u001b[32m18\u001b[39m     \u001b[38;5;28mprint\u001b[39m(\u001b[33mf\u001b[39m\u001b[33m\"\u001b[39m\u001b[33mMoney_1d[\u001b[39m\u001b[38;5;132;01m{\u001b[39;00mi+\u001b[32m1\u001b[39m\u001b[38;5;132;01m}\u001b[39;00m\u001b[33m]: \u001b[39m\u001b[38;5;132;01m{\u001b[39;00m\u001b[43mdf_results\u001b[49m[\u001b[33m'\u001b[39m\u001b[33mMoney_1d\u001b[39m\u001b[33m'\u001b[39m].iloc[i]\u001b[38;5;132;01m:\u001b[39;00m\u001b[33m.2f\u001b[39m\u001b[38;5;132;01m}\u001b[39;00m\u001b[33m\"\u001b[39m)\n\u001b[32m     19\u001b[39m \u001b[38;5;28mprint\u001b[39m()\n\u001b[32m     21\u001b[39m \u001b[38;5;28mprint\u001b[39m(\u001b[33m\"\u001b[39m\u001b[33m원본 값 복원 결과:\u001b[39m\u001b[33m\"\u001b[39m)\n",
            "\u001b[31mNameError\u001b[39m: name 'df_results' is not defined"
          ]
        }
      ],
      "source": [
        "### 2단계: 원본 값 복원\n",
        "# 1차 차분: Y'(t) = Y(t) - Y(t-1)\n",
        "# 따라서 Y(t) = Y(t-1) + Y'(t)\n",
        "#\n",
        "# 마지막 원본값: Y(T)\n",
        "# 예측된 원본값들:\n",
        "# Y(T+1) = Y(T) + Y'(T+1)\n",
        "# Y(T+2) = Y(T+1) + Y'(T+2) = Y(T) + Y'(T+1) + Y'(T+2)\n",
        "# ...\n",
        "# 즉, Y(T+h) = Y(T) + Σ(Y'(T+i)) for i=1 to h\n",
        "\n",
        "print(\"\\n=== 원본 값 복원 과정 ===\")\n",
        "print(f\"마지막 원본값: {df_money['Money'].iloc[-1]:.2f}\")\n",
        "print()\n",
        "\n",
        "print(\"복원된 1차 차분값들:\")\n",
        "for i in range(3):\n",
        "    print(f\"Money_1d[{i+1}]: {df_results['Money_1d'].iloc[i]:.2f}\")\n",
        "print()\n",
        "\n",
        "print(\"원본 값 복원 결과:\")\n",
        "last_value = df_money['Money'].iloc[-1]\n",
        "cumsum_1d = df_results['Money_1d'].cumsum()\n",
        "for i in range(3):\n",
        "    restored_original = last_value + cumsum_1d.iloc[i]\n",
        "    print(f\"Money_forecast[{i+1}]: {last_value:.2f} + {cumsum_1d.iloc[i]:.2f} = {restored_original:.2f}\")\n",
        "\n",
        "print(\"\\n=== 수식 정리 ===\")\n",
        "print(\"2차 차분 → 1차 차분: Y'(T+h) = Y'(T) + Σ(Y''(T+i)) for i=1 to h\")\n",
        "print(\"1차 차분 → 원본값: Y(T+h) = Y(T) + Σ(Y'(T+i)) for i=1 to h\")\n",
        "print(\"여기서 Σ는 누적합(cumsum)을 의미합니다.\")\n"
      ]
    },
    {
      "cell_type": "code",
      "execution_count": null,
      "metadata": {},
      "outputs": [],
      "source": [
        "# 4. 예측 결과 역변환 (Invert Differencing)\n",
        "def invert_transformation(df_train, df_forecast, second_diff=False):\n",
        "    \"\"\"차분된 예측값을 원본 스케일로 복원합니다.\"\"\"\n",
        "    df_fc = df_forecast.copy()\n",
        "    columns = df_train.columns\n",
        "    for col in columns:\n",
        "        # 1차 차분 복원\n",
        "        df_fc[str(col)+'_1d'] = (df_train[col].iloc[-1] - df_train[col].iloc[-2]) + df_fc[str(col)+'_2d'].cumsum()\n",
        "        # 2차 차분 복원\n",
        "        df_fc[str(col)+'_forecast'] = df_train[col].iloc[-1] + df_fc[str(col)+'_1d'].cumsum()\n",
        "    return df_fc\n",
        "\n",
        "df_results = invert_transformation(df_money[['Money', 'Spending']], df_forecast)\n",
        "df_results.head(10)\n"
      ]
    },
    {
      "cell_type": "code",
      "execution_count": null,
      "metadata": {},
      "outputs": [],
      "source": [
        "# 5. 결과 시각화\n",
        "fig = go.Figure()\n",
        "# Money 변수\n",
        "fig.add_trace(go.Scatter(x=df_money.index, y=df_money['Money'], name='Money Actual'))\n",
        "fig.add_trace(go.Scatter(x=df_results.index, y=df_results['Money_forecast'], name='Money Forecast', line=dict(dash='dot')))\n",
        "# Spending 변수\n",
        "fig.add_trace(go.Scatter(x=df_money.index, y=df_money['Spending'], name='Spending Actual'))\n",
        "fig.add_trace(go.Scatter(x=df_results.index, y=df_results['Spending_forecast'], name='Spending Forecast', line=dict(dash='dot')))\n",
        "\n",
        "fig.update_layout(title='M2 통화량 및 개인 소비 지출 예측 (VAR)', xaxis_title='날짜')\n",
        "fig.show()"
      ]
    },
    {
      "cell_type": "markdown",
      "metadata": {
        "id": "DC0iJYgy5s_7"
      },
      "source": [
        "### ✏️ 연습 문제 (Practice Problems)\n",
        "\n",
        "1.  미국의 거시경제 데이터(고용, 생산성, 실업률, 인구)를 사용하여 VAR 모델을 구축해보세요.\n",
        "      * 데이터셋 URL: `https://raw.githubusercontent.com/statsmodels/statsmodels/main/statsmodels/datasets/macrodata/macrodata.csv`\n",
        "      * 데이터셋은 분기별 데이터입니다. 'year'와 'quarter' 열을 조합하여 시계열 인덱스를 만드세요.\n",
        "2.  모델에 사용할 변수('realgdp', 'realcons', 'unemp', 'pop')를 선택하고, 각 변수의 정상성을 확인한 후 필요하다면 차분을 적용하세요.\n",
        "3.  `select_order()`를 사용하여 최적의 시차(lag)를 결정하세요.\n",
        "4.  결정된 시차로 VAR 모델을 학습하고, 향후 8분기(2년)를 예측해보세요. 예측 결과를 역변환하여 원본 스케일로 만들고, 그래프로 시각화하여 실제 데이터의 추세와 비교해보세요."
      ]
    },
    {
      "cell_type": "code",
      "execution_count": null,
      "metadata": {
        "id": "Cj59mD6o5s_7"
      },
      "outputs": [],
      "source": [
        "# 연습 문제 1, 2, 3, 4번 풀이 공간\n",
        "import pandas as pd\n",
        "import plotly.graph_objects as go\n",
        "from statsmodels.tsa.api import VAR\n",
        "from statsmodels.tsa.stattools import adfuller\n",
        "import numpy as np\n",
        "\n",
        "# 1. 데이터 로드 및 인덱스 설정\n",
        "url_macro = 'https://raw.githubusercontent.com/statsmodels/statsmodels/main/statsmodels/datasets/macrodata/macrodata.csv'\n",
        "df_macro = pd.read_csv(url_macro)\n",
        "\n",
        "# year와 quarter를 조합하여 시계열 인덱스 생성\n",
        "df_macro['date'] = pd.to_datetime(df_macro['year'].astype(str) + '-Q' + df_macro['quarter'].astype(str))\n",
        "df_macro.set_index('date', inplace=True)\n",
        "print(\"데이터 형태:\", df_macro.shape)\n",
        "print(\"첫 5행:\")\n",
        "df_macro.head()\n",
        "\n",
        "# 여기에 코드를 작성하여 시계열 인덱스를 생성하세요.\n",
        "\n",
        "\n",
        "# 2. 변수 선택 및 정상성 확인/차분\n",
        "# 여기에 코드를 작성하세요.\n",
        "\n",
        "\n",
        "# 3. 최적 시차 결정\n",
        "# 여기에 코드를 작성하세요.\n",
        "\n",
        "\n",
        "# 4. 모델링, 예측, 역변환 및 시각화\n",
        "# 여기에 코드를 작성하세요."
      ]
    }
  ],
  "metadata": {
    "colab": {
      "provenance": []
    },
    "kernelspec": {
      "display_name": ".venv",
      "language": "python",
      "name": "python3"
    },
    "language_info": {
      "codemirror_mode": {
        "name": "ipython",
        "version": 3
      },
      "file_extension": ".py",
      "mimetype": "text/x-python",
      "name": "python",
      "nbconvert_exporter": "python",
      "pygments_lexer": "ipython3",
      "version": "3.11.9"
    }
  },
  "nbformat": 4,
  "nbformat_minor": 0
}
