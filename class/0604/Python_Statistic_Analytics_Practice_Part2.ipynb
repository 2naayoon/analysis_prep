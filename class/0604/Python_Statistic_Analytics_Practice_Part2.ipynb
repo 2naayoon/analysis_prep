{
  "cells": [
    {
      "cell_type": "markdown",
      "metadata": {
        "id": "qx5zwI7K1x-e"
      },
      "source": [
        "## Pandas 활용 상관분석 기초 📊 \n",
        "\n",
        "-----\n",
        "\n",
        "### 1. 상관분석이란 무엇일까요? 📈📉\n",
        "\n",
        "#### 💡 개념 (Concept)\n",
        "\n",
        "  * 두 개 이상의 변수들 간에 어떤 관계가 있는지, 있다면 관계의 **강도**와 **방향**은 어떠한지를 통계적인 방법으로 분석하는 것입니다.\n",
        "  * 예를 들어, \"광고비 지출이 늘어나면 매출도 함께 증가할까?\", \"키가 클수록 몸무게도 많이 나갈까?\" 와 같은 질문에 답을 찾는 데 도움을 줄 수 있습니다.\n",
        "  * 상관분석은 변수 간의 **선형적 관계** 를 측정하는 데 주로 사용됩니다. \"선형적\"이라는 것은 하나의 변수가 증가할 때 다른 변수가 일정하게 증가하거나 감소하는 관계를 의미합니다.\n",
        "\n",
        "#### 🤔 왜 중요할까요?\n",
        "\n",
        "  * **데이터 이해**: 데이터 내 변수들 사이의 숨겨진 패턴이나 관계를 파악할 수 있습니다. 어떤 변수들이 서로 관련되어 있는지 알면 데이터의 전체적인 구조를 이해하는 데 도움이 됩니다.\n",
        "  * **특성 선택(Feature Selection)**: 머신러닝 모델을 만들 때, 어떤 변수(특성)가 예측 결과에 중요한 역할을 할지 힌트를 얻을 수 있습니다. 예를 들어, 목표 변수와 높은 상관관계를 가진 변수는 모델 학습에 유용할 가능성이 큽니다. 반대로, 서로 너무 높은 상관관계를 가진 입력 변수들은 다중공선성(multicollinearity) 문제를 일으켜 모델의 성능을 저하시킬 수 있으므로, 이 중 일부를 선택하거나 다른 방식으로 처리해야 할 수 있습니다.\n",
        "  * **의사결정 지원**: 분석 결과를 바탕으로 더 나은 비즈니스적 또는 과학적 의사결정을 내릴 수 있습니다. 예를 들어, 마케팅 캠페인의 효과를 분석하거나, 특정 정책의 영향을 예측하는 데 활용될 수 있습니다.\n",
        "\n",
        "-----"
      ]
    },
    {
      "cell_type": "markdown",
      "metadata": {},
      "source": [
        "\n",
        "### 2. 상관계수 📏\n",
        "\n",
        "#### 💡 개념 (Concept)\n",
        "\n",
        "  * **상관계수(Correlation Coefficient)** 는 두 변수 간의 선형적 관계의 **방향**과 **강도**를 하나의 숫자로 나타낸 값입니다.\n",
        "  * 가장 널리 사용되는 상관계수는 **피어슨 상관계수(Pearson Correlation Coefficient)** 입니다. 이 계수는 두 변수가 모두 연속형 데이터일 때 주로 사용됩니다.\n",
        "  * 그 외에도 변수의 특성(예: 순서형 데이터)이나 관계의 형태(예: 비선형 관계)에 따라 **스피어만 상관계수(Spearman Rank Correlation Coefficient)**, **켄달의 타우(Kendall's Tau)** 등 다른 종류의 상관계수도 사용됩니다. 여기서는 주로 피어슨 상관계수를 다룹니다.\n",
        "\n",
        "#### 🧐 피어슨 상관계수 (Pearson Correlation Coefficient)\n",
        "\n",
        "  * 두 변수 $X$와 $Y$ 간의 피어슨 상관계수 $r$은 다음과 같이 계산됩니다:\n",
        "    $$r = \\frac{\\sum_{i=1}^{n}(X_i - \\bar{X})(Y_i - \\bar{Y})}{\\sqrt{\\sum_{i=1}^{n}(X_i - \\bar{X})^2}\\sqrt{\\sum_{i=1}^{n}(Y_i - \\bar{Y})^2}}$$\n",
        "    여기서,\n",
        "\n",
        "      * $n$은 데이터 포인트(관측치)의 수\n",
        "      * $X\\_i, Y\\_i$는 각 데이터 포인트의 $X, Y$ 변수 값\n",
        "      * $\\\\bar{X}, \\\\bar{Y}$는 각 변수의 평균값입니다.\n",
        "        분자는 두 변수의 공분산(Covariance)에 해당하고, 분모는 각 변수의 표준편차의 곱으로 나누어 정규화하는 역할을 합니다.\n",
        "\n",
        "  * **값의 범위 및 해석**:\n",
        "    피어슨 상관계수 $r$은 항상 **-1과 +1 사이**의 값을 가집니다.\n",
        "\n",
        "      * **$r$이 +1 에 가까울수록**: 강한 **양의 선형 관계**를 의미합니다. (즉, 하나의 변수가 증가하면 다른 변수도 증가하는 경향이 뚜렷합니다.)\n",
        "      * **$r$이 -1 에 가까울수록**: 강한 **음의 선형 관계**를 의미합니다. (즉, 하나의 변수가 증가하면 다른 변수는 감소하는 경향이 뚜렷합니다.)\n",
        "      * **$r$이 0 에 가까울수록**: **선형 관계가 거의 없음**을 의미합니다. (두 변수 간에 뚜렷한 선형적 패턴이 없거나, 관계가 없거나, 또는 비선형적 관계가 있을 수 있습니다. 예를 들어, U자형 관계는 상관계수가 0에 가깝게 나올 수 있습니다.)\n",
        "\n",
        "    <img src=\"https://upload.wikimedia.org/wikipedia/commons/thumb/d/d4/Correlation_examples2.svg/600px-Correlation_examples2.svg.png\" alt=\"상관계수 해석 예시\" width=\"600\">\n",
        "\n",
        "    (이미지 출처: Wikimedia Commons, 사용자 DenisBoigelot이 생성, 원본 작성자 Imagecreator)\n",
        "\n",
        "      * 일반적으로 상관계수의 절대값 크기에 따라 다음과 같이 해석하기도 합니다 (절대적인 기준은 아니며, 분야나 상황에 따라 다를 수 있습니다):\n",
        "          * 0.0 \\~ 0.2: 매우 약하거나 거의 없는 관계\n",
        "          * 0.2 \\~ 0.4: 약한 관계\n",
        "          * 0.4 \\~ 0.6: 보통 관계\n",
        "          * 0.6 \\~ 0.8: 강한 관계\n",
        "          * 0.8 \\~ 1.0: 매우 강한 관계\n",
        "\n",
        "#### ⚠️ 매우 중요한 주의사항\\!\n",
        "\n",
        "  * **상관관계는 인과관계를 의미하지 않습니다\\!**\n",
        "\n",
        "  * 두 변수가 높은 상관관계를 보이더라도, 한 변수가 다른 변수의 **원인**이라고 단정 지을 수 없습니다.\n",
        "\n",
        "      * **제3의 변수(숨은 변수, Confounding variable)**: 두 변수 모두에 영향을 미치는 다른 요인이 있을 수 있습니다.\n",
        "          * 예시: 아이스크림 판매량과 익사 사고 발생률은 여름철에 함께 증가하는 양의 상관관계를 보일 수 있습니다. 하지만 아이스크림이 익사 사고의 원인이거나, 그 반대도 아닙니다. 실제로는 '더운 날씨'라는 제3의 요인이 아이스크림 소비도 늘리고 물놀이 활동도 증가시켜 두 변수 모두에 영향을 미치는 것입니다.\n",
        "      * **우연의 일치**: 특히 많은 변수를 분석할 경우, 우연히 높은 상관관계를 보이는 변수 쌍이 나타날 수 있습니다.\n",
        "      * **방향성 모호**: 상관관계만으로는 어느 변수가 원인이고 어느 변수가 결과인지 알 수 없습니다. $X$가 $Y$의 원인일 수도, $Y$가 $X$의 원인일 수도, 또는 서로 영향을 주고받을 수도 있습니다.\n",
        "\n",
        "    인과관계를 밝히기 위해서는 잘 설계된 실험 연구나 추가적인 분석(예: 시계열 분석에서의 그레인저 인과관계 검정, 구조 방정식 모형 등)이 필요합니다.\n",
        "\n",
        "-----\n"
      ]
    },
    {
      "cell_type": "markdown",
      "metadata": {},
      "source": [
        "\n",
        "### 3\\. Pandas로 상관분석 시작하기 🐼\n",
        "\n",
        "#### 📦 필요한 라이브러리 가져오기\n",
        "\n",
        "상관분석 및 시각화를 위해 다음 라이브러리들을 가져옵니다."
      ]
    },
    {
      "cell_type": "code",
      "execution_count": 1,
      "metadata": {
        "id": "jJRZxcMr1x-h"
      },
      "outputs": [],
      "source": [
        "import pandas as pd\n",
        "import plotly.express as px\n",
        "import seaborn as sns"
      ]
    },
    {
      "cell_type": "markdown",
      "metadata": {
        "id": "TFwX0wSA1x-h"
      },
      "source": [
        "#### 💾 예제 데이터 준비\n",
        "\n",
        "여기서는 `seaborn` 라이브러리에 내장된 'tips' 데이터셋을 사용하겠습니다. 이 데이터셋은 어떤 식당에서 손님들이 지불한 총 식사 금액, 팁, 성별, 흡연 여부, 요일, 시간대, 동반 인원수 등의 정보를 담고 있습니다."
      ]
    },
    {
      "cell_type": "code",
      "execution_count": 2,
      "metadata": {
        "id": "D_4zUwJX1x-h"
      },
      "outputs": [
        {
          "data": {
            "text/html": [
              "<div>\n",
              "<style scoped>\n",
              "    .dataframe tbody tr th:only-of-type {\n",
              "        vertical-align: middle;\n",
              "    }\n",
              "\n",
              "    .dataframe tbody tr th {\n",
              "        vertical-align: top;\n",
              "    }\n",
              "\n",
              "    .dataframe thead th {\n",
              "        text-align: right;\n",
              "    }\n",
              "</style>\n",
              "<table border=\"1\" class=\"dataframe\">\n",
              "  <thead>\n",
              "    <tr style=\"text-align: right;\">\n",
              "      <th></th>\n",
              "      <th>total_bill</th>\n",
              "      <th>tip</th>\n",
              "      <th>sex</th>\n",
              "      <th>smoker</th>\n",
              "      <th>day</th>\n",
              "      <th>time</th>\n",
              "      <th>size</th>\n",
              "    </tr>\n",
              "  </thead>\n",
              "  <tbody>\n",
              "    <tr>\n",
              "      <th>0</th>\n",
              "      <td>16.99</td>\n",
              "      <td>1.01</td>\n",
              "      <td>Female</td>\n",
              "      <td>No</td>\n",
              "      <td>Sun</td>\n",
              "      <td>Dinner</td>\n",
              "      <td>2</td>\n",
              "    </tr>\n",
              "    <tr>\n",
              "      <th>1</th>\n",
              "      <td>10.34</td>\n",
              "      <td>1.66</td>\n",
              "      <td>Male</td>\n",
              "      <td>No</td>\n",
              "      <td>Sun</td>\n",
              "      <td>Dinner</td>\n",
              "      <td>3</td>\n",
              "    </tr>\n",
              "    <tr>\n",
              "      <th>2</th>\n",
              "      <td>21.01</td>\n",
              "      <td>3.50</td>\n",
              "      <td>Male</td>\n",
              "      <td>No</td>\n",
              "      <td>Sun</td>\n",
              "      <td>Dinner</td>\n",
              "      <td>3</td>\n",
              "    </tr>\n",
              "    <tr>\n",
              "      <th>3</th>\n",
              "      <td>23.68</td>\n",
              "      <td>3.31</td>\n",
              "      <td>Male</td>\n",
              "      <td>No</td>\n",
              "      <td>Sun</td>\n",
              "      <td>Dinner</td>\n",
              "      <td>2</td>\n",
              "    </tr>\n",
              "    <tr>\n",
              "      <th>4</th>\n",
              "      <td>24.59</td>\n",
              "      <td>3.61</td>\n",
              "      <td>Female</td>\n",
              "      <td>No</td>\n",
              "      <td>Sun</td>\n",
              "      <td>Dinner</td>\n",
              "      <td>4</td>\n",
              "    </tr>\n",
              "  </tbody>\n",
              "</table>\n",
              "</div>"
            ],
            "text/plain": [
              "   total_bill   tip     sex smoker  day    time  size\n",
              "0       16.99  1.01  Female     No  Sun  Dinner     2\n",
              "1       10.34  1.66    Male     No  Sun  Dinner     3\n",
              "2       21.01  3.50    Male     No  Sun  Dinner     3\n",
              "3       23.68  3.31    Male     No  Sun  Dinner     2\n",
              "4       24.59  3.61  Female     No  Sun  Dinner     4"
            ]
          },
          "execution_count": 2,
          "metadata": {},
          "output_type": "execute_result"
        }
      ],
      "source": [
        "tips_df = px.data.tips()\n",
        "tips_df.head()"
      ]
    },
    {
      "cell_type": "code",
      "execution_count": 3,
      "metadata": {},
      "outputs": [
        {
          "name": "stdout",
          "output_type": "stream",
          "text": [
            "<class 'pandas.core.frame.DataFrame'>\n",
            "RangeIndex: 244 entries, 0 to 243\n",
            "Data columns (total 7 columns):\n",
            " #   Column      Non-Null Count  Dtype  \n",
            "---  ------      --------------  -----  \n",
            " 0   total_bill  244 non-null    float64\n",
            " 1   tip         244 non-null    float64\n",
            " 2   sex         244 non-null    object \n",
            " 3   smoker      244 non-null    object \n",
            " 4   day         244 non-null    object \n",
            " 5   time        244 non-null    object \n",
            " 6   size        244 non-null    int64  \n",
            "dtypes: float64(2), int64(1), object(4)\n",
            "memory usage: 13.5+ KB\n"
          ]
        }
      ],
      "source": [
        "# 데이터셋 정보 확인 (컬럼명, 결측치 여부, 데이터 타입 등)\n",
        "tips_df.info()"
      ]
    },
    {
      "cell_type": "code",
      "execution_count": 4,
      "metadata": {},
      "outputs": [
        {
          "data": {
            "text/html": [
              "<div>\n",
              "<style scoped>\n",
              "    .dataframe tbody tr th:only-of-type {\n",
              "        vertical-align: middle;\n",
              "    }\n",
              "\n",
              "    .dataframe tbody tr th {\n",
              "        vertical-align: top;\n",
              "    }\n",
              "\n",
              "    .dataframe thead th {\n",
              "        text-align: right;\n",
              "    }\n",
              "</style>\n",
              "<table border=\"1\" class=\"dataframe\">\n",
              "  <thead>\n",
              "    <tr style=\"text-align: right;\">\n",
              "      <th></th>\n",
              "      <th>total_bill</th>\n",
              "      <th>tip</th>\n",
              "      <th>size</th>\n",
              "    </tr>\n",
              "  </thead>\n",
              "  <tbody>\n",
              "    <tr>\n",
              "      <th>count</th>\n",
              "      <td>244.000000</td>\n",
              "      <td>244.000000</td>\n",
              "      <td>244.000000</td>\n",
              "    </tr>\n",
              "    <tr>\n",
              "      <th>mean</th>\n",
              "      <td>19.785943</td>\n",
              "      <td>2.998279</td>\n",
              "      <td>2.569672</td>\n",
              "    </tr>\n",
              "    <tr>\n",
              "      <th>std</th>\n",
              "      <td>8.902412</td>\n",
              "      <td>1.383638</td>\n",
              "      <td>0.951100</td>\n",
              "    </tr>\n",
              "    <tr>\n",
              "      <th>min</th>\n",
              "      <td>3.070000</td>\n",
              "      <td>1.000000</td>\n",
              "      <td>1.000000</td>\n",
              "    </tr>\n",
              "    <tr>\n",
              "      <th>25%</th>\n",
              "      <td>13.347500</td>\n",
              "      <td>2.000000</td>\n",
              "      <td>2.000000</td>\n",
              "    </tr>\n",
              "    <tr>\n",
              "      <th>50%</th>\n",
              "      <td>17.795000</td>\n",
              "      <td>2.900000</td>\n",
              "      <td>2.000000</td>\n",
              "    </tr>\n",
              "    <tr>\n",
              "      <th>75%</th>\n",
              "      <td>24.127500</td>\n",
              "      <td>3.562500</td>\n",
              "      <td>3.000000</td>\n",
              "    </tr>\n",
              "    <tr>\n",
              "      <th>max</th>\n",
              "      <td>50.810000</td>\n",
              "      <td>10.000000</td>\n",
              "      <td>6.000000</td>\n",
              "    </tr>\n",
              "  </tbody>\n",
              "</table>\n",
              "</div>"
            ],
            "text/plain": [
              "       total_bill         tip        size\n",
              "count  244.000000  244.000000  244.000000\n",
              "mean    19.785943    2.998279    2.569672\n",
              "std      8.902412    1.383638    0.951100\n",
              "min      3.070000    1.000000    1.000000\n",
              "25%     13.347500    2.000000    2.000000\n",
              "50%     17.795000    2.900000    2.000000\n",
              "75%     24.127500    3.562500    3.000000\n",
              "max     50.810000   10.000000    6.000000"
            ]
          },
          "execution_count": 4,
          "metadata": {},
          "output_type": "execute_result"
        }
      ],
      "source": [
        "# 수치형 데이터의 기술 통계량 확인 (평균, 표준편차, 최소값, 최대값, 사분위수 등)\n",
        "tips_df.describe()"
      ]
    },
    {
      "cell_type": "markdown",
      "metadata": {
        "id": "lJ_3j-8V1x-i"
      },
      "source": [
        "`tips_df.info()` 결과를 보면 `total_bill`, `tip`은 `float64`(실수형), `size`는 `int64`(정수형)으로 수치형 데이터임을 알 수 있습니다. `sex`, `smoker`, `day`, `time`은 범주형 데이터입니다. 상관분석은 주로 수치형 변수들 간에 이루어집니다.\n",
        "\n",
        "#### 🧮 `corr()` 메소드로 상관계수 계산하기\n",
        "\n",
        "Pandas DataFrame의 `corr()` 메소드는 기본적으로 모든 수치형 컬럼들 간의 **피어슨 상관계수**를 계산하여 상관계수 행렬(correlation matrix) 형태로 반환합니다."
      ]
    },
    {
      "cell_type": "code",
      "execution_count": 5,
      "metadata": {
        "id": "XfT1sV4M1x-i"
      },
      "outputs": [
        {
          "data": {
            "text/html": [
              "<div>\n",
              "<style scoped>\n",
              "    .dataframe tbody tr th:only-of-type {\n",
              "        vertical-align: middle;\n",
              "    }\n",
              "\n",
              "    .dataframe tbody tr th {\n",
              "        vertical-align: top;\n",
              "    }\n",
              "\n",
              "    .dataframe thead th {\n",
              "        text-align: right;\n",
              "    }\n",
              "</style>\n",
              "<table border=\"1\" class=\"dataframe\">\n",
              "  <thead>\n",
              "    <tr style=\"text-align: right;\">\n",
              "      <th></th>\n",
              "      <th>total_bill</th>\n",
              "      <th>tip</th>\n",
              "      <th>size</th>\n",
              "    </tr>\n",
              "  </thead>\n",
              "  <tbody>\n",
              "    <tr>\n",
              "      <th>total_bill</th>\n",
              "      <td>1.000000</td>\n",
              "      <td>0.675734</td>\n",
              "      <td>0.598315</td>\n",
              "    </tr>\n",
              "    <tr>\n",
              "      <th>tip</th>\n",
              "      <td>0.675734</td>\n",
              "      <td>1.000000</td>\n",
              "      <td>0.489299</td>\n",
              "    </tr>\n",
              "    <tr>\n",
              "      <th>size</th>\n",
              "      <td>0.598315</td>\n",
              "      <td>0.489299</td>\n",
              "      <td>1.000000</td>\n",
              "    </tr>\n",
              "  </tbody>\n",
              "</table>\n",
              "</div>"
            ],
            "text/plain": [
              "            total_bill       tip      size\n",
              "total_bill    1.000000  0.675734  0.598315\n",
              "tip           0.675734  1.000000  0.489299\n",
              "size          0.598315  0.489299  1.000000"
            ]
          },
          "execution_count": 5,
          "metadata": {},
          "output_type": "execute_result"
        }
      ],
      "source": [
        "# 수치형 컬럼들 간의 상관계수 계산\n",
        "# Pandas 1.x 버전 이후부터는 수치형 데이터만 대상으로 하려면 numeric_only=True를 명시하는 것이 좋습니다.\n",
        "# 이전 버전에서는 자동으로 수치형 컬럼만 선택했습니다.\n",
        "correlation_matrix = tips_df.corr(numeric_only=True)\n",
        "correlation_matrix"
      ]
    },
    {
      "cell_type": "markdown",
      "metadata": {
        "id": "s6VR9gX21x-i"
      },
      "source": [
        "* **결과 해석**:\n",
        "    * 출력된 행렬은 각 변수 쌍 간의 상관계수를 보여줍니다.\n",
        "    * 행과 열의 이름은 데이터프레임의 수치형 컬럼명(`total_bill`, `tip`, `size`)입니다.\n",
        "    * 대각선 요소(예: `total_bill`과 `total_bill`의 상관계수)는 항상 1.000000입니다. 이는 자기 자신과의 상관관계는 완벽한 양의 선형 관계이기 때문입니다.\n",
        "    * 예를 들어, `total_bill`과 `tip` 사이의 상관계수는 약 0.675734로, 비교적 강한 양의 상관관계를 보입니다. 이는 총 식사 금액이 클수록 팁도 많이 주는 경향이 있다고 해석할 수 있습니다.\n",
        "    * `total_bill`과 `size` (식사 인원) 사이의 상관계수는 약 0.598315로, 역시 꽤 뚜렷한 양의 상관관계를 보입니다. 식사 인원이 많을수록 총 식사 금액도 커지는 것은 당연해 보입니다.\n",
        "    * `tip`과 `size` 사이의 상관계수는 약 0.489299로, 보통 수준의 양의 상관관계를 나타냅니다.\n",
        "\n",
        "#### ⚙️ 다른 상관계수 계산 (옵션)\n",
        "\n",
        "`corr()` 메소드의 `method` 파라미터를 사용하여 다른 종류의 상관계수도 계산할 수 있습니다. 주로 사용되는 옵션은 다음과 같습니다:\n",
        "\n",
        "  * `method='pearson'` (기본값)\n",
        "  * `method='spearman'`\n",
        "  * `method='kendall'`\n",
        "\n",
        "<!-- end list -->"
      ]
    },
    {
      "cell_type": "code",
      "execution_count": 6,
      "metadata": {
        "id": "rw23ISPk1x-i"
      },
      "outputs": [
        {
          "data": {
            "text/html": [
              "<div>\n",
              "<style scoped>\n",
              "    .dataframe tbody tr th:only-of-type {\n",
              "        vertical-align: middle;\n",
              "    }\n",
              "\n",
              "    .dataframe tbody tr th {\n",
              "        vertical-align: top;\n",
              "    }\n",
              "\n",
              "    .dataframe thead th {\n",
              "        text-align: right;\n",
              "    }\n",
              "</style>\n",
              "<table border=\"1\" class=\"dataframe\">\n",
              "  <thead>\n",
              "    <tr style=\"text-align: right;\">\n",
              "      <th></th>\n",
              "      <th>total_bill</th>\n",
              "      <th>tip</th>\n",
              "      <th>size</th>\n",
              "    </tr>\n",
              "  </thead>\n",
              "  <tbody>\n",
              "    <tr>\n",
              "      <th>total_bill</th>\n",
              "      <td>1.000000</td>\n",
              "      <td>0.678968</td>\n",
              "      <td>0.604791</td>\n",
              "    </tr>\n",
              "    <tr>\n",
              "      <th>tip</th>\n",
              "      <td>0.678968</td>\n",
              "      <td>1.000000</td>\n",
              "      <td>0.468268</td>\n",
              "    </tr>\n",
              "    <tr>\n",
              "      <th>size</th>\n",
              "      <td>0.604791</td>\n",
              "      <td>0.468268</td>\n",
              "      <td>1.000000</td>\n",
              "    </tr>\n",
              "  </tbody>\n",
              "</table>\n",
              "</div>"
            ],
            "text/plain": [
              "            total_bill       tip      size\n",
              "total_bill    1.000000  0.678968  0.604791\n",
              "tip           0.678968  1.000000  0.468268\n",
              "size          0.604791  0.468268  1.000000"
            ]
          },
          "execution_count": 6,
          "metadata": {},
          "output_type": "execute_result"
        }
      ],
      "source": [
        "# 스피어만 순위 상관계수\n",
        "spearman_corr = tips_df.corr(method='spearman', numeric_only=True)\n",
        "spearman_corr"
      ]
    },
    {
      "cell_type": "code",
      "execution_count": 7,
      "metadata": {},
      "outputs": [
        {
          "data": {
            "text/html": [
              "<div>\n",
              "<style scoped>\n",
              "    .dataframe tbody tr th:only-of-type {\n",
              "        vertical-align: middle;\n",
              "    }\n",
              "\n",
              "    .dataframe tbody tr th {\n",
              "        vertical-align: top;\n",
              "    }\n",
              "\n",
              "    .dataframe thead th {\n",
              "        text-align: right;\n",
              "    }\n",
              "</style>\n",
              "<table border=\"1\" class=\"dataframe\">\n",
              "  <thead>\n",
              "    <tr style=\"text-align: right;\">\n",
              "      <th></th>\n",
              "      <th>total_bill</th>\n",
              "      <th>tip</th>\n",
              "      <th>size</th>\n",
              "    </tr>\n",
              "  </thead>\n",
              "  <tbody>\n",
              "    <tr>\n",
              "      <th>total_bill</th>\n",
              "      <td>1.000000</td>\n",
              "      <td>0.517181</td>\n",
              "      <td>0.484342</td>\n",
              "    </tr>\n",
              "    <tr>\n",
              "      <th>tip</th>\n",
              "      <td>0.517181</td>\n",
              "      <td>1.000000</td>\n",
              "      <td>0.378185</td>\n",
              "    </tr>\n",
              "    <tr>\n",
              "      <th>size</th>\n",
              "      <td>0.484342</td>\n",
              "      <td>0.378185</td>\n",
              "      <td>1.000000</td>\n",
              "    </tr>\n",
              "  </tbody>\n",
              "</table>\n",
              "</div>"
            ],
            "text/plain": [
              "            total_bill       tip      size\n",
              "total_bill    1.000000  0.517181  0.484342\n",
              "tip           0.517181  1.000000  0.378185\n",
              "size          0.484342  0.378185  1.000000"
            ]
          },
          "execution_count": 7,
          "metadata": {},
          "output_type": "execute_result"
        }
      ],
      "source": [
        "\n",
        "# 켄달 타우 상관계수\n",
        "kendall_corr = tips_df.corr(method='kendall', numeric_only=True)\n",
        "kendall_corr"
      ]
    },
    {
      "cell_type": "markdown",
      "metadata": {
        "id": "B0Tpcllj1x-i"
      },
      "source": [
        "* **스피어만 상관계수(Spearman Rank Correlation Coefficient)**\n",
        "  * 각 변수의 실제 값 대신 그 값들의 순위(rank)를 매겨, 순위들 간의 피어슨 상관계수를 계산합니다. 따라서 선형 관계뿐만 아니라 단조 관계(monotonic relationship, 한 변수가 증가할 때 다른 변수가 반드시 증가하거나 감소하는 관계, 직선이 아니어도 됨)도 측정할 수 있습니다. 또한, 이상치(outlier)에 덜 민감한 특징이 있습니다.\n",
        "* **켄달 타우 상관계수(Kendall's Tau)**\n",
        "  * 데이터 쌍들이 얼마나 일치된 순서(concordant pairs)를 가지는지, 혹은 불일치된 순서(discordant pairs)를 가지는지를 기반으로 계산됩니다. 스피어만 상관계수와 유사하게 순서형 데이터나 비선형 단조 관계를 파악하는 데 사용될 수 있으며, 샘플 크기가 작거나 데이터에 동점(tie)이 많을 때 유용하다고 알려져 있습니다.\n",
        "\n",
        "일반적으로 피어슨, 스피어만, 켄달 상관계수는 비슷한 경향을 보이지만, 데이터의 특성이나 분포에 따라 값에 차이가 있을 수 있습니다. 분석 목적과 데이터의 특성을 고려하여 적절한 상관계수를 선택하는 것이 중요합니다.\n",
        "\n",
        "-----\n"
      ]
    },
    {
      "cell_type": "markdown",
      "metadata": {},
      "source": [
        "\n",
        "### 4. 상관관계 시각화하기 🎨\n",
        "\n",
        "상관계수 행렬을 숫자로만 보면 직관적으로 이해하기 어려울 수 있습니다. 이럴 때 **시각화** 를 활용하면 변수 간의 관계를 더 명확하고 빠르게 파악할 수 있습니다.\n",
        "\n",
        "#### Scatter Plot (산점도)\n",
        "\n",
        "**산점도(Scatter Plot)** 는 두 개의 연속형 변수 간의 관계를 점으로 나타내는 기본적인 그래프입니다. 각 점은 하나의 데이터 포인트(관측치)를 의미하며, x축과 y축에 각각 두 변수의 값을 대응시켜 점을 찍습니다.\n",
        "\n",
        "`plotly.express` 라이브러리의 `scatter()` 함수를 사용하면 손쉽게 인터랙티브한 산점도를 그릴 수 있습니다. (지난 시간에 배운내용 ^^ 복습.)"
      ]
    },
    {
      "cell_type": "code",
      "execution_count": 12,
      "metadata": {
        "id": "oJm7LHrS1x-j"
      },
      "outputs": [
        {
          "data": {
            "application/vnd.plotly.v1+json": {
              "config": {
                "plotlyServerURL": "https://plot.ly"
              },
              "data": [
                {
                  "customdata": [
                    [
                      2,
                      "Sun",
                      "Dinner"
                    ],
                    [
                      3,
                      "Sun",
                      "Dinner"
                    ],
                    [
                      3,
                      "Sun",
                      "Dinner"
                    ],
                    [
                      2,
                      "Sun",
                      "Dinner"
                    ],
                    [
                      4,
                      "Sun",
                      "Dinner"
                    ],
                    [
                      4,
                      "Sun",
                      "Dinner"
                    ],
                    [
                      2,
                      "Sun",
                      "Dinner"
                    ],
                    [
                      4,
                      "Sun",
                      "Dinner"
                    ],
                    [
                      2,
                      "Sun",
                      "Dinner"
                    ],
                    [
                      2,
                      "Sun",
                      "Dinner"
                    ],
                    [
                      2,
                      "Sun",
                      "Dinner"
                    ],
                    [
                      4,
                      "Sun",
                      "Dinner"
                    ],
                    [
                      2,
                      "Sun",
                      "Dinner"
                    ],
                    [
                      4,
                      "Sun",
                      "Dinner"
                    ],
                    [
                      2,
                      "Sun",
                      "Dinner"
                    ],
                    [
                      2,
                      "Sun",
                      "Dinner"
                    ],
                    [
                      3,
                      "Sun",
                      "Dinner"
                    ],
                    [
                      3,
                      "Sun",
                      "Dinner"
                    ],
                    [
                      3,
                      "Sun",
                      "Dinner"
                    ],
                    [
                      3,
                      "Sat",
                      "Dinner"
                    ],
                    [
                      2,
                      "Sat",
                      "Dinner"
                    ],
                    [
                      2,
                      "Sat",
                      "Dinner"
                    ],
                    [
                      2,
                      "Sat",
                      "Dinner"
                    ],
                    [
                      4,
                      "Sat",
                      "Dinner"
                    ],
                    [
                      2,
                      "Sat",
                      "Dinner"
                    ],
                    [
                      4,
                      "Sat",
                      "Dinner"
                    ],
                    [
                      2,
                      "Sat",
                      "Dinner"
                    ],
                    [
                      2,
                      "Sat",
                      "Dinner"
                    ],
                    [
                      2,
                      "Sat",
                      "Dinner"
                    ],
                    [
                      2,
                      "Sat",
                      "Dinner"
                    ],
                    [
                      2,
                      "Sat",
                      "Dinner"
                    ],
                    [
                      4,
                      "Sat",
                      "Dinner"
                    ],
                    [
                      2,
                      "Sat",
                      "Dinner"
                    ],
                    [
                      4,
                      "Sat",
                      "Dinner"
                    ],
                    [
                      2,
                      "Sat",
                      "Dinner"
                    ],
                    [
                      3,
                      "Sat",
                      "Dinner"
                    ],
                    [
                      3,
                      "Sat",
                      "Dinner"
                    ],
                    [
                      3,
                      "Sat",
                      "Dinner"
                    ],
                    [
                      3,
                      "Sat",
                      "Dinner"
                    ],
                    [
                      3,
                      "Sat",
                      "Dinner"
                    ],
                    [
                      3,
                      "Sat",
                      "Dinner"
                    ],
                    [
                      2,
                      "Sun",
                      "Dinner"
                    ],
                    [
                      2,
                      "Sun",
                      "Dinner"
                    ],
                    [
                      2,
                      "Sun",
                      "Dinner"
                    ],
                    [
                      4,
                      "Sun",
                      "Dinner"
                    ],
                    [
                      2,
                      "Sun",
                      "Dinner"
                    ],
                    [
                      2,
                      "Sun",
                      "Dinner"
                    ],
                    [
                      4,
                      "Sun",
                      "Dinner"
                    ],
                    [
                      3,
                      "Sun",
                      "Dinner"
                    ],
                    [
                      2,
                      "Sun",
                      "Dinner"
                    ],
                    [
                      2,
                      "Sun",
                      "Dinner"
                    ],
                    [
                      2,
                      "Sun",
                      "Dinner"
                    ],
                    [
                      4,
                      "Sun",
                      "Dinner"
                    ],
                    [
                      2,
                      "Sun",
                      "Dinner"
                    ],
                    [
                      4,
                      "Sun",
                      "Dinner"
                    ],
                    [
                      2,
                      "Sun",
                      "Dinner"
                    ],
                    [
                      4,
                      "Sat",
                      "Dinner"
                    ],
                    [
                      2,
                      "Sat",
                      "Dinner"
                    ],
                    [
                      2,
                      "Sat",
                      "Dinner"
                    ],
                    [
                      4,
                      "Sat",
                      "Dinner"
                    ],
                    [
                      2,
                      "Sat",
                      "Dinner"
                    ],
                    [
                      2,
                      "Sat",
                      "Dinner"
                    ],
                    [
                      2,
                      "Sat",
                      "Dinner"
                    ],
                    [
                      4,
                      "Sat",
                      "Dinner"
                    ],
                    [
                      3,
                      "Sat",
                      "Dinner"
                    ],
                    [
                      3,
                      "Sat",
                      "Dinner"
                    ],
                    [
                      2,
                      "Sat",
                      "Dinner"
                    ],
                    [
                      1,
                      "Sat",
                      "Dinner"
                    ],
                    [
                      2,
                      "Sat",
                      "Dinner"
                    ],
                    [
                      2,
                      "Sat",
                      "Dinner"
                    ],
                    [
                      2,
                      "Sat",
                      "Dinner"
                    ],
                    [
                      3,
                      "Sat",
                      "Dinner"
                    ],
                    [
                      2,
                      "Sat",
                      "Dinner"
                    ],
                    [
                      2,
                      "Sat",
                      "Dinner"
                    ],
                    [
                      2,
                      "Sat",
                      "Dinner"
                    ],
                    [
                      2,
                      "Sat",
                      "Dinner"
                    ],
                    [
                      2,
                      "Sat",
                      "Dinner"
                    ],
                    [
                      4,
                      "Thur",
                      "Lunch"
                    ],
                    [
                      2,
                      "Thur",
                      "Lunch"
                    ],
                    [
                      2,
                      "Thur",
                      "Lunch"
                    ],
                    [
                      2,
                      "Thur",
                      "Lunch"
                    ],
                    [
                      2,
                      "Thur",
                      "Lunch"
                    ],
                    [
                      1,
                      "Thur",
                      "Lunch"
                    ],
                    [
                      2,
                      "Thur",
                      "Lunch"
                    ],
                    [
                      2,
                      "Thur",
                      "Lunch"
                    ],
                    [
                      4,
                      "Thur",
                      "Lunch"
                    ],
                    [
                      2,
                      "Thur",
                      "Lunch"
                    ],
                    [
                      2,
                      "Thur",
                      "Lunch"
                    ],
                    [
                      2,
                      "Thur",
                      "Lunch"
                    ],
                    [
                      2,
                      "Thur",
                      "Lunch"
                    ],
                    [
                      2,
                      "Fri",
                      "Dinner"
                    ],
                    [
                      2,
                      "Fri",
                      "Dinner"
                    ],
                    [
                      2,
                      "Fri",
                      "Dinner"
                    ],
                    [
                      2,
                      "Fri",
                      "Dinner"
                    ],
                    [
                      2,
                      "Fri",
                      "Dinner"
                    ],
                    [
                      4,
                      "Fri",
                      "Dinner"
                    ],
                    [
                      2,
                      "Fri",
                      "Dinner"
                    ],
                    [
                      2,
                      "Fri",
                      "Dinner"
                    ],
                    [
                      2,
                      "Fri",
                      "Dinner"
                    ],
                    [
                      2,
                      "Fri",
                      "Dinner"
                    ],
                    [
                      2,
                      "Fri",
                      "Dinner"
                    ],
                    [
                      2,
                      "Fri",
                      "Dinner"
                    ],
                    [
                      3,
                      "Sat",
                      "Dinner"
                    ],
                    [
                      2,
                      "Sat",
                      "Dinner"
                    ],
                    [
                      2,
                      "Sat",
                      "Dinner"
                    ],
                    [
                      2,
                      "Sat",
                      "Dinner"
                    ],
                    [
                      2,
                      "Sat",
                      "Dinner"
                    ],
                    [
                      2,
                      "Sat",
                      "Dinner"
                    ],
                    [
                      2,
                      "Sat",
                      "Dinner"
                    ],
                    [
                      2,
                      "Sat",
                      "Dinner"
                    ],
                    [
                      2,
                      "Sat",
                      "Dinner"
                    ],
                    [
                      1,
                      "Sat",
                      "Dinner"
                    ],
                    [
                      3,
                      "Sun",
                      "Dinner"
                    ],
                    [
                      2,
                      "Sun",
                      "Dinner"
                    ],
                    [
                      3,
                      "Sun",
                      "Dinner"
                    ],
                    [
                      2,
                      "Sun",
                      "Dinner"
                    ],
                    [
                      4,
                      "Sun",
                      "Dinner"
                    ],
                    [
                      2,
                      "Thur",
                      "Lunch"
                    ],
                    [
                      2,
                      "Thur",
                      "Lunch"
                    ],
                    [
                      4,
                      "Thur",
                      "Lunch"
                    ],
                    [
                      2,
                      "Thur",
                      "Lunch"
                    ],
                    [
                      2,
                      "Thur",
                      "Lunch"
                    ],
                    [
                      2,
                      "Thur",
                      "Lunch"
                    ],
                    [
                      2,
                      "Thur",
                      "Lunch"
                    ],
                    [
                      2,
                      "Thur",
                      "Lunch"
                    ],
                    [
                      6,
                      "Thur",
                      "Lunch"
                    ],
                    [
                      2,
                      "Thur",
                      "Lunch"
                    ],
                    [
                      2,
                      "Thur",
                      "Lunch"
                    ],
                    [
                      2,
                      "Thur",
                      "Lunch"
                    ],
                    [
                      3,
                      "Thur",
                      "Lunch"
                    ],
                    [
                      2,
                      "Thur",
                      "Lunch"
                    ],
                    [
                      2,
                      "Thur",
                      "Lunch"
                    ],
                    [
                      2,
                      "Thur",
                      "Lunch"
                    ],
                    [
                      2,
                      "Thur",
                      "Lunch"
                    ],
                    [
                      2,
                      "Thur",
                      "Lunch"
                    ],
                    [
                      2,
                      "Thur",
                      "Lunch"
                    ],
                    [
                      2,
                      "Thur",
                      "Lunch"
                    ],
                    [
                      2,
                      "Thur",
                      "Lunch"
                    ],
                    [
                      2,
                      "Thur",
                      "Lunch"
                    ],
                    [
                      2,
                      "Thur",
                      "Lunch"
                    ],
                    [
                      2,
                      "Thur",
                      "Lunch"
                    ],
                    [
                      6,
                      "Thur",
                      "Lunch"
                    ],
                    [
                      5,
                      "Thur",
                      "Lunch"
                    ],
                    [
                      6,
                      "Thur",
                      "Lunch"
                    ],
                    [
                      2,
                      "Thur",
                      "Lunch"
                    ],
                    [
                      2,
                      "Thur",
                      "Lunch"
                    ],
                    [
                      3,
                      "Thur",
                      "Lunch"
                    ],
                    [
                      2,
                      "Thur",
                      "Lunch"
                    ],
                    [
                      2,
                      "Thur",
                      "Lunch"
                    ],
                    [
                      2,
                      "Thur",
                      "Lunch"
                    ],
                    [
                      2,
                      "Sun",
                      "Dinner"
                    ],
                    [
                      2,
                      "Sun",
                      "Dinner"
                    ],
                    [
                      3,
                      "Sun",
                      "Dinner"
                    ],
                    [
                      4,
                      "Sun",
                      "Dinner"
                    ],
                    [
                      4,
                      "Sun",
                      "Dinner"
                    ],
                    [
                      5,
                      "Sun",
                      "Dinner"
                    ],
                    [
                      6,
                      "Sun",
                      "Dinner"
                    ],
                    [
                      4,
                      "Sun",
                      "Dinner"
                    ],
                    [
                      2,
                      "Sun",
                      "Dinner"
                    ],
                    [
                      4,
                      "Sun",
                      "Dinner"
                    ],
                    [
                      4,
                      "Sun",
                      "Dinner"
                    ],
                    [
                      2,
                      "Sun",
                      "Dinner"
                    ],
                    [
                      3,
                      "Sun",
                      "Dinner"
                    ],
                    [
                      2,
                      "Sun",
                      "Dinner"
                    ],
                    [
                      2,
                      "Sun",
                      "Dinner"
                    ],
                    [
                      3,
                      "Sun",
                      "Dinner"
                    ],
                    [
                      2,
                      "Sun",
                      "Dinner"
                    ],
                    [
                      4,
                      "Sun",
                      "Dinner"
                    ],
                    [
                      2,
                      "Sat",
                      "Dinner"
                    ],
                    [
                      2,
                      "Sat",
                      "Dinner"
                    ],
                    [
                      3,
                      "Sat",
                      "Dinner"
                    ],
                    [
                      2,
                      "Sat",
                      "Dinner"
                    ],
                    [
                      2,
                      "Sun",
                      "Dinner"
                    ],
                    [
                      2,
                      "Sun",
                      "Dinner"
                    ],
                    [
                      2,
                      "Sun",
                      "Dinner"
                    ],
                    [
                      2,
                      "Sun",
                      "Dinner"
                    ],
                    [
                      2,
                      "Sun",
                      "Dinner"
                    ],
                    [
                      2,
                      "Sun",
                      "Dinner"
                    ],
                    [
                      2,
                      "Sun",
                      "Dinner"
                    ],
                    [
                      2,
                      "Sun",
                      "Dinner"
                    ],
                    [
                      4,
                      "Sun",
                      "Dinner"
                    ],
                    [
                      2,
                      "Sun",
                      "Dinner"
                    ],
                    [
                      3,
                      "Sun",
                      "Dinner"
                    ],
                    [
                      4,
                      "Sun",
                      "Dinner"
                    ],
                    [
                      2,
                      "Sun",
                      "Dinner"
                    ],
                    [
                      5,
                      "Sun",
                      "Dinner"
                    ],
                    [
                      3,
                      "Sun",
                      "Dinner"
                    ],
                    [
                      5,
                      "Sun",
                      "Dinner"
                    ],
                    [
                      3,
                      "Sun",
                      "Dinner"
                    ],
                    [
                      3,
                      "Sun",
                      "Dinner"
                    ],
                    [
                      2,
                      "Sun",
                      "Dinner"
                    ],
                    [
                      2,
                      "Thur",
                      "Lunch"
                    ],
                    [
                      2,
                      "Thur",
                      "Lunch"
                    ],
                    [
                      2,
                      "Thur",
                      "Lunch"
                    ],
                    [
                      2,
                      "Thur",
                      "Lunch"
                    ],
                    [
                      2,
                      "Thur",
                      "Lunch"
                    ],
                    [
                      2,
                      "Thur",
                      "Lunch"
                    ],
                    [
                      4,
                      "Thur",
                      "Lunch"
                    ],
                    [
                      2,
                      "Thur",
                      "Lunch"
                    ],
                    [
                      2,
                      "Thur",
                      "Lunch"
                    ],
                    [
                      3,
                      "Thur",
                      "Lunch"
                    ],
                    [
                      2,
                      "Thur",
                      "Lunch"
                    ],
                    [
                      2,
                      "Thur",
                      "Lunch"
                    ],
                    [
                      2,
                      "Thur",
                      "Lunch"
                    ],
                    [
                      4,
                      "Thur",
                      "Lunch"
                    ],
                    [
                      3,
                      "Thur",
                      "Lunch"
                    ],
                    [
                      3,
                      "Sat",
                      "Dinner"
                    ],
                    [
                      4,
                      "Sat",
                      "Dinner"
                    ],
                    [
                      2,
                      "Sat",
                      "Dinner"
                    ],
                    [
                      2,
                      "Sat",
                      "Dinner"
                    ],
                    [
                      3,
                      "Sat",
                      "Dinner"
                    ],
                    [
                      4,
                      "Sat",
                      "Dinner"
                    ],
                    [
                      4,
                      "Sat",
                      "Dinner"
                    ],
                    [
                      2,
                      "Sat",
                      "Dinner"
                    ],
                    [
                      3,
                      "Sat",
                      "Dinner"
                    ],
                    [
                      2,
                      "Sat",
                      "Dinner"
                    ],
                    [
                      5,
                      "Sat",
                      "Dinner"
                    ],
                    [
                      2,
                      "Sat",
                      "Dinner"
                    ],
                    [
                      2,
                      "Sat",
                      "Dinner"
                    ],
                    [
                      4,
                      "Sat",
                      "Dinner"
                    ],
                    [
                      2,
                      "Fri",
                      "Lunch"
                    ],
                    [
                      2,
                      "Fri",
                      "Lunch"
                    ],
                    [
                      1,
                      "Fri",
                      "Lunch"
                    ],
                    [
                      3,
                      "Fri",
                      "Lunch"
                    ],
                    [
                      2,
                      "Fri",
                      "Lunch"
                    ],
                    [
                      2,
                      "Fri",
                      "Lunch"
                    ],
                    [
                      2,
                      "Fri",
                      "Lunch"
                    ],
                    [
                      4,
                      "Sat",
                      "Dinner"
                    ],
                    [
                      2,
                      "Sat",
                      "Dinner"
                    ],
                    [
                      2,
                      "Sat",
                      "Dinner"
                    ],
                    [
                      4,
                      "Sat",
                      "Dinner"
                    ],
                    [
                      3,
                      "Sat",
                      "Dinner"
                    ],
                    [
                      2,
                      "Sat",
                      "Dinner"
                    ],
                    [
                      2,
                      "Sat",
                      "Dinner"
                    ],
                    [
                      2,
                      "Sat",
                      "Dinner"
                    ],
                    [
                      2,
                      "Sat",
                      "Dinner"
                    ],
                    [
                      2,
                      "Sat",
                      "Dinner"
                    ],
                    [
                      2,
                      "Sat",
                      "Dinner"
                    ],
                    [
                      3,
                      "Sat",
                      "Dinner"
                    ],
                    [
                      3,
                      "Sat",
                      "Dinner"
                    ],
                    [
                      2,
                      "Sat",
                      "Dinner"
                    ],
                    [
                      2,
                      "Sat",
                      "Dinner"
                    ],
                    [
                      2,
                      "Sat",
                      "Dinner"
                    ],
                    [
                      2,
                      "Thur",
                      "Dinner"
                    ]
                  ],
                  "hovertemplate": "총 식사 금액 ($)=%{x}<br>팁 ($)=%{y}<br>size=%{customdata[0]}<br>day=%{customdata[1]}<br>time=%{customdata[2]}<extra></extra>",
                  "legendgroup": "",
                  "marker": {
                    "color": "#636efa",
                    "symbol": "circle"
                  },
                  "mode": "markers",
                  "name": "",
                  "orientation": "v",
                  "showlegend": false,
                  "type": "scatter",
                  "x": {
                    "bdata": "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",
                    "dtype": "f8"
                  },
                  "xaxis": "x",
                  "y": {
                    "bdata": "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",
                    "dtype": "f8"
                  },
                  "yaxis": "y"
                },
                {
                  "hovertemplate": "<b>OLS trendline</b><br>tip = 0.105025 * total_bill + 0.92027<br>R<sup>2</sup>=0.456617<br><br>총 식사 금액 ($)=%{x}<br>팁 ($)=%{y} <b>(trend)</b><extra></extra>",
                  "legendgroup": "",
                  "marker": {
                    "color": "#636efa",
                    "symbol": "circle"
                  },
                  "mode": "lines",
                  "name": "",
                  "showlegend": false,
                  "type": "scatter",
                  "x": {
                    "bdata": "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",
                    "dtype": "f8"
                  },
                  "xaxis": "x",
                  "y": {
                    "bdata": "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",
                    "dtype": "f8"
                  },
                  "yaxis": "y"
                }
              ],
              "layout": {
                "legend": {
                  "tracegroupgap": 0
                },
                "template": {
                  "data": {
                    "bar": [
                      {
                        "error_x": {
                          "color": "#2a3f5f"
                        },
                        "error_y": {
                          "color": "#2a3f5f"
                        },
                        "marker": {
                          "line": {
                            "color": "#E5ECF6",
                            "width": 0.5
                          },
                          "pattern": {
                            "fillmode": "overlay",
                            "size": 10,
                            "solidity": 0.2
                          }
                        },
                        "type": "bar"
                      }
                    ],
                    "barpolar": [
                      {
                        "marker": {
                          "line": {
                            "color": "#E5ECF6",
                            "width": 0.5
                          },
                          "pattern": {
                            "fillmode": "overlay",
                            "size": 10,
                            "solidity": 0.2
                          }
                        },
                        "type": "barpolar"
                      }
                    ],
                    "carpet": [
                      {
                        "aaxis": {
                          "endlinecolor": "#2a3f5f",
                          "gridcolor": "white",
                          "linecolor": "white",
                          "minorgridcolor": "white",
                          "startlinecolor": "#2a3f5f"
                        },
                        "baxis": {
                          "endlinecolor": "#2a3f5f",
                          "gridcolor": "white",
                          "linecolor": "white",
                          "minorgridcolor": "white",
                          "startlinecolor": "#2a3f5f"
                        },
                        "type": "carpet"
                      }
                    ],
                    "choropleth": [
                      {
                        "colorbar": {
                          "outlinewidth": 0,
                          "ticks": ""
                        },
                        "type": "choropleth"
                      }
                    ],
                    "contour": [
                      {
                        "colorbar": {
                          "outlinewidth": 0,
                          "ticks": ""
                        },
                        "colorscale": [
                          [
                            0,
                            "#0d0887"
                          ],
                          [
                            0.1111111111111111,
                            "#46039f"
                          ],
                          [
                            0.2222222222222222,
                            "#7201a8"
                          ],
                          [
                            0.3333333333333333,
                            "#9c179e"
                          ],
                          [
                            0.4444444444444444,
                            "#bd3786"
                          ],
                          [
                            0.5555555555555556,
                            "#d8576b"
                          ],
                          [
                            0.6666666666666666,
                            "#ed7953"
                          ],
                          [
                            0.7777777777777778,
                            "#fb9f3a"
                          ],
                          [
                            0.8888888888888888,
                            "#fdca26"
                          ],
                          [
                            1,
                            "#f0f921"
                          ]
                        ],
                        "type": "contour"
                      }
                    ],
                    "contourcarpet": [
                      {
                        "colorbar": {
                          "outlinewidth": 0,
                          "ticks": ""
                        },
                        "type": "contourcarpet"
                      }
                    ],
                    "heatmap": [
                      {
                        "colorbar": {
                          "outlinewidth": 0,
                          "ticks": ""
                        },
                        "colorscale": [
                          [
                            0,
                            "#0d0887"
                          ],
                          [
                            0.1111111111111111,
                            "#46039f"
                          ],
                          [
                            0.2222222222222222,
                            "#7201a8"
                          ],
                          [
                            0.3333333333333333,
                            "#9c179e"
                          ],
                          [
                            0.4444444444444444,
                            "#bd3786"
                          ],
                          [
                            0.5555555555555556,
                            "#d8576b"
                          ],
                          [
                            0.6666666666666666,
                            "#ed7953"
                          ],
                          [
                            0.7777777777777778,
                            "#fb9f3a"
                          ],
                          [
                            0.8888888888888888,
                            "#fdca26"
                          ],
                          [
                            1,
                            "#f0f921"
                          ]
                        ],
                        "type": "heatmap"
                      }
                    ],
                    "histogram": [
                      {
                        "marker": {
                          "pattern": {
                            "fillmode": "overlay",
                            "size": 10,
                            "solidity": 0.2
                          }
                        },
                        "type": "histogram"
                      }
                    ],
                    "histogram2d": [
                      {
                        "colorbar": {
                          "outlinewidth": 0,
                          "ticks": ""
                        },
                        "colorscale": [
                          [
                            0,
                            "#0d0887"
                          ],
                          [
                            0.1111111111111111,
                            "#46039f"
                          ],
                          [
                            0.2222222222222222,
                            "#7201a8"
                          ],
                          [
                            0.3333333333333333,
                            "#9c179e"
                          ],
                          [
                            0.4444444444444444,
                            "#bd3786"
                          ],
                          [
                            0.5555555555555556,
                            "#d8576b"
                          ],
                          [
                            0.6666666666666666,
                            "#ed7953"
                          ],
                          [
                            0.7777777777777778,
                            "#fb9f3a"
                          ],
                          [
                            0.8888888888888888,
                            "#fdca26"
                          ],
                          [
                            1,
                            "#f0f921"
                          ]
                        ],
                        "type": "histogram2d"
                      }
                    ],
                    "histogram2dcontour": [
                      {
                        "colorbar": {
                          "outlinewidth": 0,
                          "ticks": ""
                        },
                        "colorscale": [
                          [
                            0,
                            "#0d0887"
                          ],
                          [
                            0.1111111111111111,
                            "#46039f"
                          ],
                          [
                            0.2222222222222222,
                            "#7201a8"
                          ],
                          [
                            0.3333333333333333,
                            "#9c179e"
                          ],
                          [
                            0.4444444444444444,
                            "#bd3786"
                          ],
                          [
                            0.5555555555555556,
                            "#d8576b"
                          ],
                          [
                            0.6666666666666666,
                            "#ed7953"
                          ],
                          [
                            0.7777777777777778,
                            "#fb9f3a"
                          ],
                          [
                            0.8888888888888888,
                            "#fdca26"
                          ],
                          [
                            1,
                            "#f0f921"
                          ]
                        ],
                        "type": "histogram2dcontour"
                      }
                    ],
                    "mesh3d": [
                      {
                        "colorbar": {
                          "outlinewidth": 0,
                          "ticks": ""
                        },
                        "type": "mesh3d"
                      }
                    ],
                    "parcoords": [
                      {
                        "line": {
                          "colorbar": {
                            "outlinewidth": 0,
                            "ticks": ""
                          }
                        },
                        "type": "parcoords"
                      }
                    ],
                    "pie": [
                      {
                        "automargin": true,
                        "type": "pie"
                      }
                    ],
                    "scatter": [
                      {
                        "fillpattern": {
                          "fillmode": "overlay",
                          "size": 10,
                          "solidity": 0.2
                        },
                        "type": "scatter"
                      }
                    ],
                    "scatter3d": [
                      {
                        "line": {
                          "colorbar": {
                            "outlinewidth": 0,
                            "ticks": ""
                          }
                        },
                        "marker": {
                          "colorbar": {
                            "outlinewidth": 0,
                            "ticks": ""
                          }
                        },
                        "type": "scatter3d"
                      }
                    ],
                    "scattercarpet": [
                      {
                        "marker": {
                          "colorbar": {
                            "outlinewidth": 0,
                            "ticks": ""
                          }
                        },
                        "type": "scattercarpet"
                      }
                    ],
                    "scattergeo": [
                      {
                        "marker": {
                          "colorbar": {
                            "outlinewidth": 0,
                            "ticks": ""
                          }
                        },
                        "type": "scattergeo"
                      }
                    ],
                    "scattergl": [
                      {
                        "marker": {
                          "colorbar": {
                            "outlinewidth": 0,
                            "ticks": ""
                          }
                        },
                        "type": "scattergl"
                      }
                    ],
                    "scattermap": [
                      {
                        "marker": {
                          "colorbar": {
                            "outlinewidth": 0,
                            "ticks": ""
                          }
                        },
                        "type": "scattermap"
                      }
                    ],
                    "scattermapbox": [
                      {
                        "marker": {
                          "colorbar": {
                            "outlinewidth": 0,
                            "ticks": ""
                          }
                        },
                        "type": "scattermapbox"
                      }
                    ],
                    "scatterpolar": [
                      {
                        "marker": {
                          "colorbar": {
                            "outlinewidth": 0,
                            "ticks": ""
                          }
                        },
                        "type": "scatterpolar"
                      }
                    ],
                    "scatterpolargl": [
                      {
                        "marker": {
                          "colorbar": {
                            "outlinewidth": 0,
                            "ticks": ""
                          }
                        },
                        "type": "scatterpolargl"
                      }
                    ],
                    "scatterternary": [
                      {
                        "marker": {
                          "colorbar": {
                            "outlinewidth": 0,
                            "ticks": ""
                          }
                        },
                        "type": "scatterternary"
                      }
                    ],
                    "surface": [
                      {
                        "colorbar": {
                          "outlinewidth": 0,
                          "ticks": ""
                        },
                        "colorscale": [
                          [
                            0,
                            "#0d0887"
                          ],
                          [
                            0.1111111111111111,
                            "#46039f"
                          ],
                          [
                            0.2222222222222222,
                            "#7201a8"
                          ],
                          [
                            0.3333333333333333,
                            "#9c179e"
                          ],
                          [
                            0.4444444444444444,
                            "#bd3786"
                          ],
                          [
                            0.5555555555555556,
                            "#d8576b"
                          ],
                          [
                            0.6666666666666666,
                            "#ed7953"
                          ],
                          [
                            0.7777777777777778,
                            "#fb9f3a"
                          ],
                          [
                            0.8888888888888888,
                            "#fdca26"
                          ],
                          [
                            1,
                            "#f0f921"
                          ]
                        ],
                        "type": "surface"
                      }
                    ],
                    "table": [
                      {
                        "cells": {
                          "fill": {
                            "color": "#EBF0F8"
                          },
                          "line": {
                            "color": "white"
                          }
                        },
                        "header": {
                          "fill": {
                            "color": "#C8D4E3"
                          },
                          "line": {
                            "color": "white"
                          }
                        },
                        "type": "table"
                      }
                    ]
                  },
                  "layout": {
                    "annotationdefaults": {
                      "arrowcolor": "#2a3f5f",
                      "arrowhead": 0,
                      "arrowwidth": 1
                    },
                    "autotypenumbers": "strict",
                    "coloraxis": {
                      "colorbar": {
                        "outlinewidth": 0,
                        "ticks": ""
                      }
                    },
                    "colorscale": {
                      "diverging": [
                        [
                          0,
                          "#8e0152"
                        ],
                        [
                          0.1,
                          "#c51b7d"
                        ],
                        [
                          0.2,
                          "#de77ae"
                        ],
                        [
                          0.3,
                          "#f1b6da"
                        ],
                        [
                          0.4,
                          "#fde0ef"
                        ],
                        [
                          0.5,
                          "#f7f7f7"
                        ],
                        [
                          0.6,
                          "#e6f5d0"
                        ],
                        [
                          0.7,
                          "#b8e186"
                        ],
                        [
                          0.8,
                          "#7fbc41"
                        ],
                        [
                          0.9,
                          "#4d9221"
                        ],
                        [
                          1,
                          "#276419"
                        ]
                      ],
                      "sequential": [
                        [
                          0,
                          "#0d0887"
                        ],
                        [
                          0.1111111111111111,
                          "#46039f"
                        ],
                        [
                          0.2222222222222222,
                          "#7201a8"
                        ],
                        [
                          0.3333333333333333,
                          "#9c179e"
                        ],
                        [
                          0.4444444444444444,
                          "#bd3786"
                        ],
                        [
                          0.5555555555555556,
                          "#d8576b"
                        ],
                        [
                          0.6666666666666666,
                          "#ed7953"
                        ],
                        [
                          0.7777777777777778,
                          "#fb9f3a"
                        ],
                        [
                          0.8888888888888888,
                          "#fdca26"
                        ],
                        [
                          1,
                          "#f0f921"
                        ]
                      ],
                      "sequentialminus": [
                        [
                          0,
                          "#0d0887"
                        ],
                        [
                          0.1111111111111111,
                          "#46039f"
                        ],
                        [
                          0.2222222222222222,
                          "#7201a8"
                        ],
                        [
                          0.3333333333333333,
                          "#9c179e"
                        ],
                        [
                          0.4444444444444444,
                          "#bd3786"
                        ],
                        [
                          0.5555555555555556,
                          "#d8576b"
                        ],
                        [
                          0.6666666666666666,
                          "#ed7953"
                        ],
                        [
                          0.7777777777777778,
                          "#fb9f3a"
                        ],
                        [
                          0.8888888888888888,
                          "#fdca26"
                        ],
                        [
                          1,
                          "#f0f921"
                        ]
                      ]
                    },
                    "colorway": [
                      "#636efa",
                      "#EF553B",
                      "#00cc96",
                      "#ab63fa",
                      "#FFA15A",
                      "#19d3f3",
                      "#FF6692",
                      "#B6E880",
                      "#FF97FF",
                      "#FECB52"
                    ],
                    "font": {
                      "color": "#2a3f5f"
                    },
                    "geo": {
                      "bgcolor": "white",
                      "lakecolor": "white",
                      "landcolor": "#E5ECF6",
                      "showlakes": true,
                      "showland": true,
                      "subunitcolor": "white"
                    },
                    "hoverlabel": {
                      "align": "left"
                    },
                    "hovermode": "closest",
                    "mapbox": {
                      "style": "light"
                    },
                    "paper_bgcolor": "white",
                    "plot_bgcolor": "#E5ECF6",
                    "polar": {
                      "angularaxis": {
                        "gridcolor": "white",
                        "linecolor": "white",
                        "ticks": ""
                      },
                      "bgcolor": "#E5ECF6",
                      "radialaxis": {
                        "gridcolor": "white",
                        "linecolor": "white",
                        "ticks": ""
                      }
                    },
                    "scene": {
                      "xaxis": {
                        "backgroundcolor": "#E5ECF6",
                        "gridcolor": "white",
                        "gridwidth": 2,
                        "linecolor": "white",
                        "showbackground": true,
                        "ticks": "",
                        "zerolinecolor": "white"
                      },
                      "yaxis": {
                        "backgroundcolor": "#E5ECF6",
                        "gridcolor": "white",
                        "gridwidth": 2,
                        "linecolor": "white",
                        "showbackground": true,
                        "ticks": "",
                        "zerolinecolor": "white"
                      },
                      "zaxis": {
                        "backgroundcolor": "#E5ECF6",
                        "gridcolor": "white",
                        "gridwidth": 2,
                        "linecolor": "white",
                        "showbackground": true,
                        "ticks": "",
                        "zerolinecolor": "white"
                      }
                    },
                    "shapedefaults": {
                      "line": {
                        "color": "#2a3f5f"
                      }
                    },
                    "ternary": {
                      "aaxis": {
                        "gridcolor": "white",
                        "linecolor": "white",
                        "ticks": ""
                      },
                      "baxis": {
                        "gridcolor": "white",
                        "linecolor": "white",
                        "ticks": ""
                      },
                      "bgcolor": "#E5ECF6",
                      "caxis": {
                        "gridcolor": "white",
                        "linecolor": "white",
                        "ticks": ""
                      }
                    },
                    "title": {
                      "x": 0.05
                    },
                    "xaxis": {
                      "automargin": true,
                      "gridcolor": "white",
                      "linecolor": "white",
                      "ticks": "",
                      "title": {
                        "standoff": 15
                      },
                      "zerolinecolor": "white",
                      "zerolinewidth": 2
                    },
                    "yaxis": {
                      "automargin": true,
                      "gridcolor": "white",
                      "linecolor": "white",
                      "ticks": "",
                      "title": {
                        "standoff": 15
                      },
                      "zerolinecolor": "white",
                      "zerolinewidth": 2
                    }
                  }
                },
                "title": {
                  "text": "총 식사 금액과 팁의 관계 (산점도)"
                },
                "xaxis": {
                  "anchor": "y",
                  "domain": [
                    0,
                    1
                  ],
                  "title": {
                    "text": "총 식사 금액 ($)"
                  }
                },
                "yaxis": {
                  "anchor": "x",
                  "domain": [
                    0,
                    1
                  ],
                  "title": {
                    "text": "팁 ($)"
                  }
                }
              }
            }
          },
          "metadata": {},
          "output_type": "display_data"
        }
      ],
      "source": [
        "# total_bill과 tip 간의 산점도\n",
        "fig_scatter = px.scatter(tips_df, x='total_bill', y='tip',\n",
        "                         title='총 식사 금액과 팁의 관계 (산점도)',\n",
        "                         labels={'total_bill': '총 식사 금액 ($)', 'tip': '팁 ($)'},\n",
        "                         hover_data=['size', 'day', 'time'], # 마우스 오버 시 추가 정보 표시\n",
        "                         trendline='ols') # OLS(Ordinary Least Squares) 기반의 추세선 추가\n",
        "fig_scatter.show()"
      ]
    },
    {
      "cell_type": "markdown",
      "metadata": {
        "id": "xBOsSsab1x-j"
      },
      "source": [
        "* **해석**\n",
        "    * 산점도를 보면 `total_bill`이 증가함에 따라 `tip`도 대체로 증가하는 **우상향 패턴** 을 확인할 수 있습니다. 이는 앞서 계산한 양의 상관계수(약 0.67)와 일치하는 결과입니다.\n",
        "    * `trendline='ols'` 옵션으로 추가된 **추세선(Trendline)** 은 이러한 전반적인 경향을 더 명확하게 보여줍니다. OLS는 잔차 제곱합을 최소화하는 방식으로 데이터에 가장 잘 맞는 직선을 찾는 방법입니다.\n",
        "    * 점들이 추세선 주위에 얼마나 밀집되어 있는지에 따라 관계의 강도를 시각적으로 가늠할 수 있습니다. 점들이 추세선에 가깝게 모여있을수록 상관관계가 강하다고 볼 수 있습니다.\n",
        "    * `hover_data`를 설정하면 각 점에 마우스를 올렸을 때 추가적인 정보를 볼 수 있어 유용합니다.\n",
        "\n",
        "#### Heatmap (히트맵)\n",
        "\n",
        "**히트맵(Heatmap)** 은 여러 변수 간의 상관계수 행렬을 색상으로 표현하는 시각화 방법입니다. 각 셀의 색깔이 해당 변수 쌍의 상관계수 값을 나타내므로, 상관관계의 강도와 방향을 한눈에 파악하기 용이합니다.\n",
        "\n",
        "`plotly.express`의 `imshow()` 함수를 사용하여 상관계수 행렬로 히트맵을 그릴 수 있습니다."
      ]
    },
    {
      "cell_type": "code",
      "execution_count": 11,
      "metadata": {
        "id": "vyk-bVwL1x-j"
      },
      "outputs": [
        {
          "data": {
            "application/vnd.plotly.v1+json": {
              "config": {
                "plotlyServerURL": "https://plot.ly"
              },
              "data": [
                {
                  "coloraxis": "coloraxis",
                  "hovertemplate": "x: %{x}<br>y: %{y}<br>color: %{z}<extra></extra>",
                  "name": "0",
                  "texttemplate": "%{z}",
                  "type": "heatmap",
                  "x": [
                    "total_bill",
                    "tip",
                    "size"
                  ],
                  "xaxis": "x",
                  "y": [
                    "total_bill",
                    "tip",
                    "size"
                  ],
                  "yaxis": "y",
                  "z": {
                    "bdata": "AAAAAAAA8D8ZWHsjnZ/lP0cI/sVlJeM/GVh7I52f5T8AAAAAAADwP1KVZc+rUN8/Rwj+xWUl4z9SlWXPq1DfPwAAAAAAAPA/",
                    "dtype": "f8",
                    "shape": "3, 3"
                  }
                }
              ],
              "layout": {
                "coloraxis": {
                  "cmax": 1,
                  "cmin": -1,
                  "colorscale": [
                    [
                      0,
                      "rgb(5,48,97)"
                    ],
                    [
                      0.1,
                      "rgb(33,102,172)"
                    ],
                    [
                      0.2,
                      "rgb(67,147,195)"
                    ],
                    [
                      0.3,
                      "rgb(146,197,222)"
                    ],
                    [
                      0.4,
                      "rgb(209,229,240)"
                    ],
                    [
                      0.5,
                      "rgb(247,247,247)"
                    ],
                    [
                      0.6,
                      "rgb(253,219,199)"
                    ],
                    [
                      0.7,
                      "rgb(244,165,130)"
                    ],
                    [
                      0.8,
                      "rgb(214,96,77)"
                    ],
                    [
                      0.9,
                      "rgb(178,24,43)"
                    ],
                    [
                      1,
                      "rgb(103,0,31)"
                    ]
                  ]
                },
                "template": {
                  "data": {
                    "bar": [
                      {
                        "error_x": {
                          "color": "#2a3f5f"
                        },
                        "error_y": {
                          "color": "#2a3f5f"
                        },
                        "marker": {
                          "line": {
                            "color": "#E5ECF6",
                            "width": 0.5
                          },
                          "pattern": {
                            "fillmode": "overlay",
                            "size": 10,
                            "solidity": 0.2
                          }
                        },
                        "type": "bar"
                      }
                    ],
                    "barpolar": [
                      {
                        "marker": {
                          "line": {
                            "color": "#E5ECF6",
                            "width": 0.5
                          },
                          "pattern": {
                            "fillmode": "overlay",
                            "size": 10,
                            "solidity": 0.2
                          }
                        },
                        "type": "barpolar"
                      }
                    ],
                    "carpet": [
                      {
                        "aaxis": {
                          "endlinecolor": "#2a3f5f",
                          "gridcolor": "white",
                          "linecolor": "white",
                          "minorgridcolor": "white",
                          "startlinecolor": "#2a3f5f"
                        },
                        "baxis": {
                          "endlinecolor": "#2a3f5f",
                          "gridcolor": "white",
                          "linecolor": "white",
                          "minorgridcolor": "white",
                          "startlinecolor": "#2a3f5f"
                        },
                        "type": "carpet"
                      }
                    ],
                    "choropleth": [
                      {
                        "colorbar": {
                          "outlinewidth": 0,
                          "ticks": ""
                        },
                        "type": "choropleth"
                      }
                    ],
                    "contour": [
                      {
                        "colorbar": {
                          "outlinewidth": 0,
                          "ticks": ""
                        },
                        "colorscale": [
                          [
                            0,
                            "#0d0887"
                          ],
                          [
                            0.1111111111111111,
                            "#46039f"
                          ],
                          [
                            0.2222222222222222,
                            "#7201a8"
                          ],
                          [
                            0.3333333333333333,
                            "#9c179e"
                          ],
                          [
                            0.4444444444444444,
                            "#bd3786"
                          ],
                          [
                            0.5555555555555556,
                            "#d8576b"
                          ],
                          [
                            0.6666666666666666,
                            "#ed7953"
                          ],
                          [
                            0.7777777777777778,
                            "#fb9f3a"
                          ],
                          [
                            0.8888888888888888,
                            "#fdca26"
                          ],
                          [
                            1,
                            "#f0f921"
                          ]
                        ],
                        "type": "contour"
                      }
                    ],
                    "contourcarpet": [
                      {
                        "colorbar": {
                          "outlinewidth": 0,
                          "ticks": ""
                        },
                        "type": "contourcarpet"
                      }
                    ],
                    "heatmap": [
                      {
                        "colorbar": {
                          "outlinewidth": 0,
                          "ticks": ""
                        },
                        "colorscale": [
                          [
                            0,
                            "#0d0887"
                          ],
                          [
                            0.1111111111111111,
                            "#46039f"
                          ],
                          [
                            0.2222222222222222,
                            "#7201a8"
                          ],
                          [
                            0.3333333333333333,
                            "#9c179e"
                          ],
                          [
                            0.4444444444444444,
                            "#bd3786"
                          ],
                          [
                            0.5555555555555556,
                            "#d8576b"
                          ],
                          [
                            0.6666666666666666,
                            "#ed7953"
                          ],
                          [
                            0.7777777777777778,
                            "#fb9f3a"
                          ],
                          [
                            0.8888888888888888,
                            "#fdca26"
                          ],
                          [
                            1,
                            "#f0f921"
                          ]
                        ],
                        "type": "heatmap"
                      }
                    ],
                    "histogram": [
                      {
                        "marker": {
                          "pattern": {
                            "fillmode": "overlay",
                            "size": 10,
                            "solidity": 0.2
                          }
                        },
                        "type": "histogram"
                      }
                    ],
                    "histogram2d": [
                      {
                        "colorbar": {
                          "outlinewidth": 0,
                          "ticks": ""
                        },
                        "colorscale": [
                          [
                            0,
                            "#0d0887"
                          ],
                          [
                            0.1111111111111111,
                            "#46039f"
                          ],
                          [
                            0.2222222222222222,
                            "#7201a8"
                          ],
                          [
                            0.3333333333333333,
                            "#9c179e"
                          ],
                          [
                            0.4444444444444444,
                            "#bd3786"
                          ],
                          [
                            0.5555555555555556,
                            "#d8576b"
                          ],
                          [
                            0.6666666666666666,
                            "#ed7953"
                          ],
                          [
                            0.7777777777777778,
                            "#fb9f3a"
                          ],
                          [
                            0.8888888888888888,
                            "#fdca26"
                          ],
                          [
                            1,
                            "#f0f921"
                          ]
                        ],
                        "type": "histogram2d"
                      }
                    ],
                    "histogram2dcontour": [
                      {
                        "colorbar": {
                          "outlinewidth": 0,
                          "ticks": ""
                        },
                        "colorscale": [
                          [
                            0,
                            "#0d0887"
                          ],
                          [
                            0.1111111111111111,
                            "#46039f"
                          ],
                          [
                            0.2222222222222222,
                            "#7201a8"
                          ],
                          [
                            0.3333333333333333,
                            "#9c179e"
                          ],
                          [
                            0.4444444444444444,
                            "#bd3786"
                          ],
                          [
                            0.5555555555555556,
                            "#d8576b"
                          ],
                          [
                            0.6666666666666666,
                            "#ed7953"
                          ],
                          [
                            0.7777777777777778,
                            "#fb9f3a"
                          ],
                          [
                            0.8888888888888888,
                            "#fdca26"
                          ],
                          [
                            1,
                            "#f0f921"
                          ]
                        ],
                        "type": "histogram2dcontour"
                      }
                    ],
                    "mesh3d": [
                      {
                        "colorbar": {
                          "outlinewidth": 0,
                          "ticks": ""
                        },
                        "type": "mesh3d"
                      }
                    ],
                    "parcoords": [
                      {
                        "line": {
                          "colorbar": {
                            "outlinewidth": 0,
                            "ticks": ""
                          }
                        },
                        "type": "parcoords"
                      }
                    ],
                    "pie": [
                      {
                        "automargin": true,
                        "type": "pie"
                      }
                    ],
                    "scatter": [
                      {
                        "fillpattern": {
                          "fillmode": "overlay",
                          "size": 10,
                          "solidity": 0.2
                        },
                        "type": "scatter"
                      }
                    ],
                    "scatter3d": [
                      {
                        "line": {
                          "colorbar": {
                            "outlinewidth": 0,
                            "ticks": ""
                          }
                        },
                        "marker": {
                          "colorbar": {
                            "outlinewidth": 0,
                            "ticks": ""
                          }
                        },
                        "type": "scatter3d"
                      }
                    ],
                    "scattercarpet": [
                      {
                        "marker": {
                          "colorbar": {
                            "outlinewidth": 0,
                            "ticks": ""
                          }
                        },
                        "type": "scattercarpet"
                      }
                    ],
                    "scattergeo": [
                      {
                        "marker": {
                          "colorbar": {
                            "outlinewidth": 0,
                            "ticks": ""
                          }
                        },
                        "type": "scattergeo"
                      }
                    ],
                    "scattergl": [
                      {
                        "marker": {
                          "colorbar": {
                            "outlinewidth": 0,
                            "ticks": ""
                          }
                        },
                        "type": "scattergl"
                      }
                    ],
                    "scattermap": [
                      {
                        "marker": {
                          "colorbar": {
                            "outlinewidth": 0,
                            "ticks": ""
                          }
                        },
                        "type": "scattermap"
                      }
                    ],
                    "scattermapbox": [
                      {
                        "marker": {
                          "colorbar": {
                            "outlinewidth": 0,
                            "ticks": ""
                          }
                        },
                        "type": "scattermapbox"
                      }
                    ],
                    "scatterpolar": [
                      {
                        "marker": {
                          "colorbar": {
                            "outlinewidth": 0,
                            "ticks": ""
                          }
                        },
                        "type": "scatterpolar"
                      }
                    ],
                    "scatterpolargl": [
                      {
                        "marker": {
                          "colorbar": {
                            "outlinewidth": 0,
                            "ticks": ""
                          }
                        },
                        "type": "scatterpolargl"
                      }
                    ],
                    "scatterternary": [
                      {
                        "marker": {
                          "colorbar": {
                            "outlinewidth": 0,
                            "ticks": ""
                          }
                        },
                        "type": "scatterternary"
                      }
                    ],
                    "surface": [
                      {
                        "colorbar": {
                          "outlinewidth": 0,
                          "ticks": ""
                        },
                        "colorscale": [
                          [
                            0,
                            "#0d0887"
                          ],
                          [
                            0.1111111111111111,
                            "#46039f"
                          ],
                          [
                            0.2222222222222222,
                            "#7201a8"
                          ],
                          [
                            0.3333333333333333,
                            "#9c179e"
                          ],
                          [
                            0.4444444444444444,
                            "#bd3786"
                          ],
                          [
                            0.5555555555555556,
                            "#d8576b"
                          ],
                          [
                            0.6666666666666666,
                            "#ed7953"
                          ],
                          [
                            0.7777777777777778,
                            "#fb9f3a"
                          ],
                          [
                            0.8888888888888888,
                            "#fdca26"
                          ],
                          [
                            1,
                            "#f0f921"
                          ]
                        ],
                        "type": "surface"
                      }
                    ],
                    "table": [
                      {
                        "cells": {
                          "fill": {
                            "color": "#EBF0F8"
                          },
                          "line": {
                            "color": "white"
                          }
                        },
                        "header": {
                          "fill": {
                            "color": "#C8D4E3"
                          },
                          "line": {
                            "color": "white"
                          }
                        },
                        "type": "table"
                      }
                    ]
                  },
                  "layout": {
                    "annotationdefaults": {
                      "arrowcolor": "#2a3f5f",
                      "arrowhead": 0,
                      "arrowwidth": 1
                    },
                    "autotypenumbers": "strict",
                    "coloraxis": {
                      "colorbar": {
                        "outlinewidth": 0,
                        "ticks": ""
                      }
                    },
                    "colorscale": {
                      "diverging": [
                        [
                          0,
                          "#8e0152"
                        ],
                        [
                          0.1,
                          "#c51b7d"
                        ],
                        [
                          0.2,
                          "#de77ae"
                        ],
                        [
                          0.3,
                          "#f1b6da"
                        ],
                        [
                          0.4,
                          "#fde0ef"
                        ],
                        [
                          0.5,
                          "#f7f7f7"
                        ],
                        [
                          0.6,
                          "#e6f5d0"
                        ],
                        [
                          0.7,
                          "#b8e186"
                        ],
                        [
                          0.8,
                          "#7fbc41"
                        ],
                        [
                          0.9,
                          "#4d9221"
                        ],
                        [
                          1,
                          "#276419"
                        ]
                      ],
                      "sequential": [
                        [
                          0,
                          "#0d0887"
                        ],
                        [
                          0.1111111111111111,
                          "#46039f"
                        ],
                        [
                          0.2222222222222222,
                          "#7201a8"
                        ],
                        [
                          0.3333333333333333,
                          "#9c179e"
                        ],
                        [
                          0.4444444444444444,
                          "#bd3786"
                        ],
                        [
                          0.5555555555555556,
                          "#d8576b"
                        ],
                        [
                          0.6666666666666666,
                          "#ed7953"
                        ],
                        [
                          0.7777777777777778,
                          "#fb9f3a"
                        ],
                        [
                          0.8888888888888888,
                          "#fdca26"
                        ],
                        [
                          1,
                          "#f0f921"
                        ]
                      ],
                      "sequentialminus": [
                        [
                          0,
                          "#0d0887"
                        ],
                        [
                          0.1111111111111111,
                          "#46039f"
                        ],
                        [
                          0.2222222222222222,
                          "#7201a8"
                        ],
                        [
                          0.3333333333333333,
                          "#9c179e"
                        ],
                        [
                          0.4444444444444444,
                          "#bd3786"
                        ],
                        [
                          0.5555555555555556,
                          "#d8576b"
                        ],
                        [
                          0.6666666666666666,
                          "#ed7953"
                        ],
                        [
                          0.7777777777777778,
                          "#fb9f3a"
                        ],
                        [
                          0.8888888888888888,
                          "#fdca26"
                        ],
                        [
                          1,
                          "#f0f921"
                        ]
                      ]
                    },
                    "colorway": [
                      "#636efa",
                      "#EF553B",
                      "#00cc96",
                      "#ab63fa",
                      "#FFA15A",
                      "#19d3f3",
                      "#FF6692",
                      "#B6E880",
                      "#FF97FF",
                      "#FECB52"
                    ],
                    "font": {
                      "color": "#2a3f5f"
                    },
                    "geo": {
                      "bgcolor": "white",
                      "lakecolor": "white",
                      "landcolor": "#E5ECF6",
                      "showlakes": true,
                      "showland": true,
                      "subunitcolor": "white"
                    },
                    "hoverlabel": {
                      "align": "left"
                    },
                    "hovermode": "closest",
                    "mapbox": {
                      "style": "light"
                    },
                    "paper_bgcolor": "white",
                    "plot_bgcolor": "#E5ECF6",
                    "polar": {
                      "angularaxis": {
                        "gridcolor": "white",
                        "linecolor": "white",
                        "ticks": ""
                      },
                      "bgcolor": "#E5ECF6",
                      "radialaxis": {
                        "gridcolor": "white",
                        "linecolor": "white",
                        "ticks": ""
                      }
                    },
                    "scene": {
                      "xaxis": {
                        "backgroundcolor": "#E5ECF6",
                        "gridcolor": "white",
                        "gridwidth": 2,
                        "linecolor": "white",
                        "showbackground": true,
                        "ticks": "",
                        "zerolinecolor": "white"
                      },
                      "yaxis": {
                        "backgroundcolor": "#E5ECF6",
                        "gridcolor": "white",
                        "gridwidth": 2,
                        "linecolor": "white",
                        "showbackground": true,
                        "ticks": "",
                        "zerolinecolor": "white"
                      },
                      "zaxis": {
                        "backgroundcolor": "#E5ECF6",
                        "gridcolor": "white",
                        "gridwidth": 2,
                        "linecolor": "white",
                        "showbackground": true,
                        "ticks": "",
                        "zerolinecolor": "white"
                      }
                    },
                    "shapedefaults": {
                      "line": {
                        "color": "#2a3f5f"
                      }
                    },
                    "ternary": {
                      "aaxis": {
                        "gridcolor": "white",
                        "linecolor": "white",
                        "ticks": ""
                      },
                      "baxis": {
                        "gridcolor": "white",
                        "linecolor": "white",
                        "ticks": ""
                      },
                      "bgcolor": "#E5ECF6",
                      "caxis": {
                        "gridcolor": "white",
                        "linecolor": "white",
                        "ticks": ""
                      }
                    },
                    "title": {
                      "x": 0.05
                    },
                    "xaxis": {
                      "automargin": true,
                      "gridcolor": "white",
                      "linecolor": "white",
                      "ticks": "",
                      "title": {
                        "standoff": 15
                      },
                      "zerolinecolor": "white",
                      "zerolinewidth": 2
                    },
                    "yaxis": {
                      "automargin": true,
                      "gridcolor": "white",
                      "linecolor": "white",
                      "ticks": "",
                      "title": {
                        "standoff": 15
                      },
                      "zerolinecolor": "white",
                      "zerolinewidth": 2
                    }
                  }
                },
                "title": {
                  "text": "수치형 변수 간 상관계수 히트맵 (Tips 데이터셋)"
                },
                "xaxis": {
                  "anchor": "y",
                  "domain": [
                    0,
                    1
                  ],
                  "side": "top"
                },
                "yaxis": {
                  "anchor": "x",
                  "autorange": "reversed",
                  "domain": [
                    0,
                    1
                  ]
                }
              }
            }
          },
          "metadata": {},
          "output_type": "display_data"
        }
      ],
      "source": [
        "# 위에서 계산한 피어슨 상관계수 행렬 사용\n",
        "# 히트맵이 눈에 잘 들어옴 (보통은 correlation_matrix 그리고 바로 히트맵 그림림)\n",
        "# correlation_matrix = tips_df.corr(numeric_only=True)\n",
        "\n",
        "fig_heatmap = px.imshow(correlation_matrix,\n",
        "                        text_auto=True, # 각 셀에 상관계수 값을 텍스트로 표시\n",
        "                        aspect=\"auto\",  # 셀의 종횡비를 자동으로 조절하여 정사각형에 가깝게\n",
        "                        title='수치형 변수 간 상관계수 히트맵 (Tips 데이터셋)',\n",
        "                        color_continuous_scale='RdBu_r', # 색상 스케일: 빨강(양)-흰색(0)-파랑(음) 반전\n",
        "                        zmin=-1, zmax=1) # 색상 축의 최소값(-1)과 최대값(+1)을 명시적으로 설정\n",
        "fig_heatmap.update_xaxes(side=\"top\") # x축 레이블을 위쪽으로 이동 (일반적인 히트맵 형태)\n",
        "fig_heatmap.show()"
      ]
    },
    {
      "cell_type": "markdown",
      "metadata": {
        "id": "M7EGYQUX1x-j"
      },
      "source": [
        "* **해석**:\n",
        "    * `color_continuous_scale='RdBu_r'` 옵션은 빨간색 계열을 양의 상관관계, 파란색 계열을 음의 상관관계로 나타내며, 색이 진할수록 상관관계의 절대값이 큽니다 (강한 관계). `_r`은 색상 순서를 반전시키는 역할을 합니다. (일반적으로 빨간색이 양, 파란색이 음을 나타냄)\n",
        "    * `zmin=-1, zmax=1`은 색상 스케일의 범위를 상관계수의 가능한 범위인 -1에서 +1로 고정시켜 일관된 해석을 돕습니다.\n",
        "    * 대각선은 항상 가장 진한 빨간색 (또는 설정에 따라 다른 색)으로 표시되며 값은 1입니다.\n",
        "    * `total_bill`과 `tip` 셀, `total_bill`과 `size` 셀이 다른 셀들에 비해 상대적으로 짙은 붉은색 계열을 띠는 것을 통해 이들 간에 강한 양의 상관관계가 있음을 시각적으로 빠르게 파악할 수 있습니다.\n",
        "    * 만약 음의 상관관계가 있다면 파란색 계열로 표시될 것입니다. (이 데이터셋에서는 뚜렷한 음의 상관관계는 보이지 않습니다.)\n",
        "    * `text_auto=True` 옵션 덕분에 각 셀에 실제 상관계수 값이 표시되어 정확한 수치도 함께 확인할 수 있습니다.\n",
        "\n",
        "-----"
      ]
    },
    {
      "cell_type": "markdown",
      "metadata": {},
      "source": [
        "\n",
        "### ✏️ 연습 문제\n",
        "\n",
        "이제 배운 내용을 바탕으로 직접 연습문제를 풀어봅시다\\! 💪\n",
        "\n",
        "**데이터 준비**: 아래 코드를 실행하여 'iris' 데이터셋을 로드하고, 어떤 데이터인지 확인해보세요. 'iris' 데이터셋은 붓꽃의 세 가지 종류(species)에 대해 각각 꽃잎(petal)의 길이와 너비, 꽃받침(sepal)의 길이와 너비를 측정한 데이터를 담고 있습니다. 매우 유명한 데이터셋입니다."
      ]
    },
    {
      "cell_type": "code",
      "execution_count": 13,
      "metadata": {
        "id": "u4qIlnR_1x-j"
      },
      "outputs": [
        {
          "data": {
            "text/html": [
              "<div>\n",
              "<style scoped>\n",
              "    .dataframe tbody tr th:only-of-type {\n",
              "        vertical-align: middle;\n",
              "    }\n",
              "\n",
              "    .dataframe tbody tr th {\n",
              "        vertical-align: top;\n",
              "    }\n",
              "\n",
              "    .dataframe thead th {\n",
              "        text-align: right;\n",
              "    }\n",
              "</style>\n",
              "<table border=\"1\" class=\"dataframe\">\n",
              "  <thead>\n",
              "    <tr style=\"text-align: right;\">\n",
              "      <th></th>\n",
              "      <th>sepal_length</th>\n",
              "      <th>sepal_width</th>\n",
              "      <th>petal_length</th>\n",
              "      <th>petal_width</th>\n",
              "      <th>species</th>\n",
              "      <th>species_id</th>\n",
              "    </tr>\n",
              "  </thead>\n",
              "  <tbody>\n",
              "    <tr>\n",
              "      <th>0</th>\n",
              "      <td>5.1</td>\n",
              "      <td>3.5</td>\n",
              "      <td>1.4</td>\n",
              "      <td>0.2</td>\n",
              "      <td>setosa</td>\n",
              "      <td>1</td>\n",
              "    </tr>\n",
              "    <tr>\n",
              "      <th>1</th>\n",
              "      <td>4.9</td>\n",
              "      <td>3.0</td>\n",
              "      <td>1.4</td>\n",
              "      <td>0.2</td>\n",
              "      <td>setosa</td>\n",
              "      <td>1</td>\n",
              "    </tr>\n",
              "    <tr>\n",
              "      <th>2</th>\n",
              "      <td>4.7</td>\n",
              "      <td>3.2</td>\n",
              "      <td>1.3</td>\n",
              "      <td>0.2</td>\n",
              "      <td>setosa</td>\n",
              "      <td>1</td>\n",
              "    </tr>\n",
              "    <tr>\n",
              "      <th>3</th>\n",
              "      <td>4.6</td>\n",
              "      <td>3.1</td>\n",
              "      <td>1.5</td>\n",
              "      <td>0.2</td>\n",
              "      <td>setosa</td>\n",
              "      <td>1</td>\n",
              "    </tr>\n",
              "    <tr>\n",
              "      <th>4</th>\n",
              "      <td>5.0</td>\n",
              "      <td>3.6</td>\n",
              "      <td>1.4</td>\n",
              "      <td>0.2</td>\n",
              "      <td>setosa</td>\n",
              "      <td>1</td>\n",
              "    </tr>\n",
              "  </tbody>\n",
              "</table>\n",
              "</div>"
            ],
            "text/plain": [
              "   sepal_length  sepal_width  petal_length  petal_width species  species_id\n",
              "0           5.1          3.5           1.4          0.2  setosa           1\n",
              "1           4.9          3.0           1.4          0.2  setosa           1\n",
              "2           4.7          3.2           1.3          0.2  setosa           1\n",
              "3           4.6          3.1           1.5          0.2  setosa           1\n",
              "4           5.0          3.6           1.4          0.2  setosa           1"
            ]
          },
          "execution_count": 13,
          "metadata": {},
          "output_type": "execute_result"
        }
      ],
      "source": [
        "# 연습문제용 데이터 로드\n",
        "iris_df = px.data.iris()\n",
        "iris_df.head()"
      ]
    },
    {
      "cell_type": "code",
      "execution_count": 14,
      "metadata": {},
      "outputs": [
        {
          "name": "stdout",
          "output_type": "stream",
          "text": [
            "<class 'pandas.core.frame.DataFrame'>\n",
            "RangeIndex: 150 entries, 0 to 149\n",
            "Data columns (total 6 columns):\n",
            " #   Column        Non-Null Count  Dtype  \n",
            "---  ------        --------------  -----  \n",
            " 0   sepal_length  150 non-null    float64\n",
            " 1   sepal_width   150 non-null    float64\n",
            " 2   petal_length  150 non-null    float64\n",
            " 3   petal_width   150 non-null    float64\n",
            " 4   species       150 non-null    object \n",
            " 5   species_id    150 non-null    int64  \n",
            "dtypes: float64(4), int64(1), object(1)\n",
            "memory usage: 7.2+ KB\n"
          ]
        }
      ],
      "source": [
        "# 데이터 정보 확인\n",
        "iris_df.info()"
      ]
    },
    {
      "cell_type": "code",
      "execution_count": 15,
      "metadata": {},
      "outputs": [
        {
          "data": {
            "text/html": [
              "<div>\n",
              "<style scoped>\n",
              "    .dataframe tbody tr th:only-of-type {\n",
              "        vertical-align: middle;\n",
              "    }\n",
              "\n",
              "    .dataframe tbody tr th {\n",
              "        vertical-align: top;\n",
              "    }\n",
              "\n",
              "    .dataframe thead th {\n",
              "        text-align: right;\n",
              "    }\n",
              "</style>\n",
              "<table border=\"1\" class=\"dataframe\">\n",
              "  <thead>\n",
              "    <tr style=\"text-align: right;\">\n",
              "      <th></th>\n",
              "      <th>sepal_length</th>\n",
              "      <th>sepal_width</th>\n",
              "      <th>petal_length</th>\n",
              "      <th>petal_width</th>\n",
              "      <th>species_id</th>\n",
              "    </tr>\n",
              "  </thead>\n",
              "  <tbody>\n",
              "    <tr>\n",
              "      <th>count</th>\n",
              "      <td>150.000000</td>\n",
              "      <td>150.000000</td>\n",
              "      <td>150.000000</td>\n",
              "      <td>150.000000</td>\n",
              "      <td>150.000000</td>\n",
              "    </tr>\n",
              "    <tr>\n",
              "      <th>mean</th>\n",
              "      <td>5.843333</td>\n",
              "      <td>3.054000</td>\n",
              "      <td>3.758667</td>\n",
              "      <td>1.198667</td>\n",
              "      <td>2.000000</td>\n",
              "    </tr>\n",
              "    <tr>\n",
              "      <th>std</th>\n",
              "      <td>0.828066</td>\n",
              "      <td>0.433594</td>\n",
              "      <td>1.764420</td>\n",
              "      <td>0.763161</td>\n",
              "      <td>0.819232</td>\n",
              "    </tr>\n",
              "    <tr>\n",
              "      <th>min</th>\n",
              "      <td>4.300000</td>\n",
              "      <td>2.000000</td>\n",
              "      <td>1.000000</td>\n",
              "      <td>0.100000</td>\n",
              "      <td>1.000000</td>\n",
              "    </tr>\n",
              "    <tr>\n",
              "      <th>25%</th>\n",
              "      <td>5.100000</td>\n",
              "      <td>2.800000</td>\n",
              "      <td>1.600000</td>\n",
              "      <td>0.300000</td>\n",
              "      <td>1.000000</td>\n",
              "    </tr>\n",
              "    <tr>\n",
              "      <th>50%</th>\n",
              "      <td>5.800000</td>\n",
              "      <td>3.000000</td>\n",
              "      <td>4.350000</td>\n",
              "      <td>1.300000</td>\n",
              "      <td>2.000000</td>\n",
              "    </tr>\n",
              "    <tr>\n",
              "      <th>75%</th>\n",
              "      <td>6.400000</td>\n",
              "      <td>3.300000</td>\n",
              "      <td>5.100000</td>\n",
              "      <td>1.800000</td>\n",
              "      <td>3.000000</td>\n",
              "    </tr>\n",
              "    <tr>\n",
              "      <th>max</th>\n",
              "      <td>7.900000</td>\n",
              "      <td>4.400000</td>\n",
              "      <td>6.900000</td>\n",
              "      <td>2.500000</td>\n",
              "      <td>3.000000</td>\n",
              "    </tr>\n",
              "  </tbody>\n",
              "</table>\n",
              "</div>"
            ],
            "text/plain": [
              "       sepal_length  sepal_width  petal_length  petal_width  species_id\n",
              "count    150.000000   150.000000    150.000000   150.000000  150.000000\n",
              "mean       5.843333     3.054000      3.758667     1.198667    2.000000\n",
              "std        0.828066     0.433594      1.764420     0.763161    0.819232\n",
              "min        4.300000     2.000000      1.000000     0.100000    1.000000\n",
              "25%        5.100000     2.800000      1.600000     0.300000    1.000000\n",
              "50%        5.800000     3.000000      4.350000     1.300000    2.000000\n",
              "75%        6.400000     3.300000      5.100000     1.800000    3.000000\n",
              "max        7.900000     4.400000      6.900000     2.500000    3.000000"
            ]
          },
          "execution_count": 15,
          "metadata": {},
          "output_type": "execute_result"
        }
      ],
      "source": [
        "# 데이터 기초통계량 확인\n",
        "iris_df.describe()"
      ]
    },
    {
      "cell_type": "code",
      "execution_count": 16,
      "metadata": {},
      "outputs": [
        {
          "data": {
            "text/plain": [
              "array(['setosa', 'versicolor', 'virginica'], dtype=object)"
            ]
          },
          "execution_count": 16,
          "metadata": {},
          "output_type": "execute_result"
        }
      ],
      "source": [
        "# species 컬럼의 고유값 확인\n",
        "iris_df['species'].unique()"
      ]
    },
    {
      "cell_type": "code",
      "execution_count": 18,
      "metadata": {},
      "outputs": [
        {
          "data": {
            "text/plain": [
              "species\n",
              "setosa        50\n",
              "versicolor    50\n",
              "virginica     50\n",
              "Name: count, dtype: int64"
            ]
          },
          "execution_count": 18,
          "metadata": {},
          "output_type": "execute_result"
        }
      ],
      "source": [
        "# unique와 같지만 더 많은 정보 파악 가능\n",
        "iris_df['species'].value_counts()"
      ]
    },
    {
      "cell_type": "markdown",
      "metadata": {
        "id": "Xg30VSeK1x-j"
      },
      "source": [
        "#### 문제 1: Iris 데이터셋의 수치형 변수 간 상관계수 행렬 계산하기\n",
        "\n",
        "  * `iris_df` DataFrame을 사용하여 모든 수치형 변수들(`sepal_length`, `sepal_width`, `petal_length`, `petal_width`) 간의 **피어슨 상관계수** 행렬을 계산하고 그 결과를 `iris_corr`라는 변수에 저장한 후 출력하세요."
      ]
    },
    {
      "cell_type": "code",
      "execution_count": 21,
      "metadata": {
        "id": "bpB0zLqg1x-j"
      },
      "outputs": [
        {
          "data": {
            "text/html": [
              "<div>\n",
              "<style scoped>\n",
              "    .dataframe tbody tr th:only-of-type {\n",
              "        vertical-align: middle;\n",
              "    }\n",
              "\n",
              "    .dataframe tbody tr th {\n",
              "        vertical-align: top;\n",
              "    }\n",
              "\n",
              "    .dataframe thead th {\n",
              "        text-align: right;\n",
              "    }\n",
              "</style>\n",
              "<table border=\"1\" class=\"dataframe\">\n",
              "  <thead>\n",
              "    <tr style=\"text-align: right;\">\n",
              "      <th></th>\n",
              "      <th>sepal_length</th>\n",
              "      <th>sepal_width</th>\n",
              "      <th>petal_length</th>\n",
              "      <th>petal_width</th>\n",
              "      <th>species_id</th>\n",
              "    </tr>\n",
              "  </thead>\n",
              "  <tbody>\n",
              "    <tr>\n",
              "      <th>sepal_length</th>\n",
              "      <td>1.000000</td>\n",
              "      <td>-0.109369</td>\n",
              "      <td>0.871754</td>\n",
              "      <td>0.817954</td>\n",
              "      <td>0.782561</td>\n",
              "    </tr>\n",
              "    <tr>\n",
              "      <th>sepal_width</th>\n",
              "      <td>-0.109369</td>\n",
              "      <td>1.000000</td>\n",
              "      <td>-0.420516</td>\n",
              "      <td>-0.356544</td>\n",
              "      <td>-0.419446</td>\n",
              "    </tr>\n",
              "    <tr>\n",
              "      <th>petal_length</th>\n",
              "      <td>0.871754</td>\n",
              "      <td>-0.420516</td>\n",
              "      <td>1.000000</td>\n",
              "      <td>0.962757</td>\n",
              "      <td>0.949043</td>\n",
              "    </tr>\n",
              "    <tr>\n",
              "      <th>petal_width</th>\n",
              "      <td>0.817954</td>\n",
              "      <td>-0.356544</td>\n",
              "      <td>0.962757</td>\n",
              "      <td>1.000000</td>\n",
              "      <td>0.956464</td>\n",
              "    </tr>\n",
              "    <tr>\n",
              "      <th>species_id</th>\n",
              "      <td>0.782561</td>\n",
              "      <td>-0.419446</td>\n",
              "      <td>0.949043</td>\n",
              "      <td>0.956464</td>\n",
              "      <td>1.000000</td>\n",
              "    </tr>\n",
              "  </tbody>\n",
              "</table>\n",
              "</div>"
            ],
            "text/plain": [
              "              sepal_length  sepal_width  petal_length  petal_width  species_id\n",
              "sepal_length      1.000000    -0.109369      0.871754     0.817954    0.782561\n",
              "sepal_width      -0.109369     1.000000     -0.420516    -0.356544   -0.419446\n",
              "petal_length      0.871754    -0.420516      1.000000     0.962757    0.949043\n",
              "petal_width       0.817954    -0.356544      0.962757     1.000000    0.956464\n",
              "species_id        0.782561    -0.419446      0.949043     0.956464    1.000000"
            ]
          },
          "execution_count": 21,
          "metadata": {},
          "output_type": "execute_result"
        }
      ],
      "source": [
        "# 연습 문제 1번 풀이 공간\n",
        "iris_corr = iris_df.corr(numeric_only=True) # 이 곳에 코드를 작성하세요.\n",
        "iris_corr"
      ]
    },
    {
      "cell_type": "markdown",
      "metadata": {
        "id": "c6bMUgHM1x-j"
      },
      "source": [
        "#### 문제 2: 특정 변수 쌍 간의 상관계수 확인 및 해석하기\n",
        "\n",
        "  * 문제 1에서 계산된 상관계수 행렬 `iris_corr`를 사용하여, 다음 두 변수 쌍의 피어슨 상관계수 값을 직접 찾아서 각각 `petal_corr_value`와 `sepal_corr_value` 변수에 저장하고 출력해보세요.\n",
        "    1.  'petal\\_length' (꽃잎 길이)와 'petal\\_width' (꽃잎 너비)\n",
        "    2.  'sepal\\_length' (꽃받침 길이)와 'sepal\\_width' (꽃받침 너비)\n",
        "  * 각각의 상관계수 값이 무엇을 의미하는지 간단히 해석해보세요."
      ]
    },
    {
      "cell_type": "code",
      "execution_count": 20,
      "metadata": {
        "id": "A-QElpSy1x-j"
      },
      "outputs": [
        {
          "name": "stdout",
          "output_type": "stream",
          "text": [
            "0.9627570970509659 -0.1093692499506493\n"
          ]
        }
      ],
      "source": [
        "# 연습 문제 2번 풀이 공간\n",
        "petal_corr_value = iris_df['petal_length'].corr(iris_df['petal_width']) # 이 곳에 코드를 작성하세요.\n",
        "sepal_corr_value = iris_df['sepal_length'].corr(iris_df['sepal_width']) # 이 곳에 코드를 작성하세요.\n",
        "print(petal_corr_value, sepal_corr_value)"
      ]
    },
    {
      "cell_type": "markdown",
      "metadata": {},
      "source": [
        "* 해석\n",
        "  \n",
        "    petal - 양의 상관관계 높은 상관성\n",
        "    sepal - 상관관계가 높지 않음\n"
      ]
    },
    {
      "cell_type": "markdown",
      "metadata": {
        "id": "xPnQ-0C61x-k"
      },
      "source": [
        "#### 문제 3: 'petal\\_length'와 'petal\\_width' 산점도 그리기 (종류별 색상 구분)\n",
        "\n",
        "  * `plotly.express`를 사용하여 'petal\\_length'를 x축, 'petal\\_width'를 y축으로 하는 산점도를 그려보세요.\n",
        "  * 점의 색깔을 'species' (붓꽃의 종류: setosa, versicolor, virginica)에 따라 다르게 표시해보세요. (힌트: `px.scatter`의 `color` 파라미터)\n",
        "  * 그래프의 제목은 \"꽃잎 길이와 너비의 관계 (붓꽃 종류별)\"로 설정하고, x축 레이블은 \"꽃잎 길이 (cm)\", y축 레이블은 \"꽃잎 너비 (cm)\"로 설정하세요.\n",
        "  * 각 붓꽃 종류별로 추세선도 추가해보세요. (힌트: `trendline` 파라미터와 `color` 파라미터를 함께 사용)"
      ]
    },
    {
      "cell_type": "code",
      "execution_count": 23,
      "metadata": {
        "id": "-q5MVBlq1x-k"
      },
      "outputs": [
        {
          "data": {
            "application/vnd.plotly.v1+json": {
              "config": {
                "plotlyServerURL": "https://plot.ly"
              },
              "data": [
                {
                  "hovertemplate": "petal_length=%{x}<br>petal_width=%{y}<extra></extra>",
                  "legendgroup": "",
                  "marker": {
                    "color": "#636efa",
                    "symbol": "circle"
                  },
                  "mode": "markers",
                  "name": "",
                  "orientation": "v",
                  "showlegend": false,
                  "type": "scatter",
                  "x": {
                    "bdata": "ZmZmZmZm9j9mZmZmZmb2P83MzMzMzPQ/AAAAAAAA+D9mZmZmZmb2PzMzMzMzM/s/ZmZmZmZm9j8AAAAAAAD4P2ZmZmZmZvY/AAAAAAAA+D8AAAAAAAD4P5qZmZmZmfk/ZmZmZmZm9j+amZmZmZnxPzMzMzMzM/M/AAAAAAAA+D/NzMzMzMz0P2ZmZmZmZvY/MzMzMzMz+z8AAAAAAAD4PzMzMzMzM/s/AAAAAAAA+D8AAAAAAADwPzMzMzMzM/s/ZmZmZmZm/j+amZmZmZn5P5qZmZmZmfk/AAAAAAAA+D9mZmZmZmb2P5qZmZmZmfk/mpmZmZmZ+T8AAAAAAAD4PwAAAAAAAPg/ZmZmZmZm9j8AAAAAAAD4PzMzMzMzM/M/zczMzMzM9D8AAAAAAAD4P83MzMzMzPQ/AAAAAAAA+D/NzMzMzMz0P83MzMzMzPQ/zczMzMzM9D+amZmZmZn5P2ZmZmZmZv4/ZmZmZmZm9j+amZmZmZn5P2ZmZmZmZvY/AAAAAAAA+D9mZmZmZmb2P83MzMzMzBJAAAAAAAAAEkCamZmZmZkTQAAAAAAAABBAZmZmZmZmEkAAAAAAAAASQM3MzMzMzBJAZmZmZmZmCkBmZmZmZmYSQDMzMzMzMw9AAAAAAAAADEDNzMzMzMwQQAAAAAAAABBAzczMzMzMEkDNzMzMzMwMQJqZmZmZmRFAAAAAAAAAEkBmZmZmZmYQQAAAAAAAABJAMzMzMzMzD0AzMzMzMzMTQAAAAAAAABBAmpmZmZmZE0DNzMzMzMwSQDMzMzMzMxFAmpmZmZmZEUAzMzMzMzMTQAAAAAAAABRAAAAAAAAAEkAAAAAAAAAMQGZmZmZmZg5AmpmZmZmZDUAzMzMzMzMPQGZmZmZmZhRAAAAAAAAAEkAAAAAAAAASQM3MzMzMzBJAmpmZmZmZEUBmZmZmZmYQQAAAAAAAABBAmpmZmZmZEUBmZmZmZmYSQAAAAAAAABBAZmZmZmZmCkDNzMzMzMwQQM3MzMzMzBBAzczMzMzMEEAzMzMzMzMRQAAAAAAAAAhAZmZmZmZmEEAAAAAAAAAYQGZmZmZmZhRAmpmZmZmZF0BmZmZmZmYWQDMzMzMzMxdAZmZmZmZmGkAAAAAAAAASQDMzMzMzMxlAMzMzMzMzF0BmZmZmZmYYQGZmZmZmZhRAMzMzMzMzFUAAAAAAAAAWQAAAAAAAABRAZmZmZmZmFEAzMzMzMzMVQAAAAAAAABZAzczMzMzMGkCamZmZmZkbQAAAAAAAABRAzczMzMzMFkCamZmZmZkTQM3MzMzMzBpAmpmZmZmZE0DNzMzMzMwWQAAAAAAAABhAMzMzMzMzE0CamZmZmZkTQGZmZmZmZhZAMzMzMzMzF0BmZmZmZmYYQJqZmZmZmRlAZmZmZmZmFkBmZmZmZmYUQGZmZmZmZhZAZmZmZmZmGEBmZmZmZmYWQAAAAAAAABZAMzMzMzMzE0CamZmZmZkVQGZmZmZmZhZAZmZmZmZmFEBmZmZmZmYUQJqZmZmZmRdAzczMzMzMFkDNzMzMzMwUQAAAAAAAABRAzczMzMzMFECamZmZmZkVQGZmZmZmZhRA",
                    "dtype": "f8"
                  },
                  "xaxis": "x",
                  "y": {
                    "bdata": "mpmZmZmZyT+amZmZmZnJP5qZmZmZmck/mpmZmZmZyT+amZmZmZnJP5qZmZmZmdk/MzMzMzMz0z+amZmZmZnJP5qZmZmZmck/mpmZmZmZuT+amZmZmZnJP5qZmZmZmck/mpmZmZmZuT+amZmZmZm5P5qZmZmZmck/mpmZmZmZ2T+amZmZmZnZPzMzMzMzM9M/MzMzMzMz0z8zMzMzMzPTP5qZmZmZmck/mpmZmZmZ2T+amZmZmZnJPwAAAAAAAOA/mpmZmZmZyT+amZmZmZnJP5qZmZmZmdk/mpmZmZmZyT+amZmZmZnJP5qZmZmZmck/mpmZmZmZyT+amZmZmZnZP5qZmZmZmbk/mpmZmZmZyT+amZmZmZm5P5qZmZmZmck/mpmZmZmZyT+amZmZmZm5P5qZmZmZmck/mpmZmZmZyT8zMzMzMzPTPzMzMzMzM9M/mpmZmZmZyT8zMzMzMzPjP5qZmZmZmdk/MzMzMzMz0z+amZmZmZnJP5qZmZmZmck/mpmZmZmZyT+amZmZmZnJP2ZmZmZmZvY/AAAAAAAA+D8AAAAAAAD4P83MzMzMzPQ/AAAAAAAA+D/NzMzMzMz0P5qZmZmZmfk/AAAAAAAA8D/NzMzMzMz0P2ZmZmZmZvY/AAAAAAAA8D8AAAAAAAD4PwAAAAAAAPA/ZmZmZmZm9j/NzMzMzMz0P2ZmZmZmZvY/AAAAAAAA+D8AAAAAAADwPwAAAAAAAPg/mpmZmZmZ8T/NzMzMzMz8P83MzMzMzPQ/AAAAAAAA+D8zMzMzMzPzP83MzMzMzPQ/ZmZmZmZm9j9mZmZmZmb2PzMzMzMzM/s/AAAAAAAA+D8AAAAAAADwP5qZmZmZmfE/AAAAAAAA8D8zMzMzMzPzP5qZmZmZmfk/AAAAAAAA+D+amZmZmZn5PwAAAAAAAPg/zczMzMzM9D/NzMzMzMz0P83MzMzMzPQ/MzMzMzMz8z9mZmZmZmb2PzMzMzMzM/M/AAAAAAAA8D/NzMzMzMz0PzMzMzMzM/M/zczMzMzM9D/NzMzMzMz0P5qZmZmZmfE/zczMzMzM9D8AAAAAAAAEQGZmZmZmZv4/zczMzMzMAEDNzMzMzMz8P5qZmZmZmQFAzczMzMzMAEAzMzMzMzP7P83MzMzMzPw/zczMzMzM/D8AAAAAAAAEQAAAAAAAAABAZmZmZmZm/j/NzMzMzMwAQAAAAAAAAABAMzMzMzMzA0BmZmZmZmYCQM3MzMzMzPw/mpmZmZmZAUBmZmZmZmYCQAAAAAAAAPg/ZmZmZmZmAkAAAAAAAAAAQAAAAAAAAABAzczMzMzM/D/NzMzMzMwAQM3MzMzMzPw/zczMzMzM/D/NzMzMzMz8P83MzMzMzABAmpmZmZmZ+T9mZmZmZmb+PwAAAAAAAABAmpmZmZmZAUAAAAAAAAD4P2ZmZmZmZvY/ZmZmZmZmAkAzMzMzMzMDQM3MzMzMzPw/zczMzMzM/D/NzMzMzMwAQDMzMzMzMwNAZmZmZmZmAkBmZmZmZmb+P2ZmZmZmZgJAAAAAAAAABEBmZmZmZmYCQGZmZmZmZv4/AAAAAAAAAEBmZmZmZmYCQM3MzMzMzPw/",
                    "dtype": "f8"
                  },
                  "yaxis": "y"
                },
                {
                  "hovertemplate": "<b>OLS trendline</b><br>petal_width = 0.416419 * petal_length + -0.366514<br>R<sup>2</sup>=0.926901<br><br>petal_length=%{x}<br>petal_width=%{y} <b>(trend)</b><extra></extra>",
                  "legendgroup": "",
                  "marker": {
                    "color": "#636efa",
                    "symbol": "circle"
                  },
                  "mode": "lines",
                  "name": "",
                  "showlegend": false,
                  "type": "scatter",
                  "x": {
                    "bdata": "AAAAAAAA8D+amZmZmZnxPzMzMzMzM/M/MzMzMzMz8z/NzMzMzMz0P83MzMzMzPQ/zczMzMzM9D/NzMzMzMz0P83MzMzMzPQ/zczMzMzM9D/NzMzMzMz0P2ZmZmZmZvY/ZmZmZmZm9j9mZmZmZmb2P2ZmZmZmZvY/ZmZmZmZm9j9mZmZmZmb2P2ZmZmZmZvY/ZmZmZmZm9j9mZmZmZmb2P2ZmZmZmZvY/ZmZmZmZm9j9mZmZmZmb2PwAAAAAAAPg/AAAAAAAA+D8AAAAAAAD4PwAAAAAAAPg/AAAAAAAA+D8AAAAAAAD4PwAAAAAAAPg/AAAAAAAA+D8AAAAAAAD4PwAAAAAAAPg/AAAAAAAA+D8AAAAAAAD4PwAAAAAAAPg/AAAAAAAA+D+amZmZmZn5P5qZmZmZmfk/mpmZmZmZ+T+amZmZmZn5P5qZmZmZmfk/mpmZmZmZ+T+amZmZmZn5PzMzMzMzM/s/MzMzMzMz+z8zMzMzMzP7PzMzMzMzM/s/ZmZmZmZm/j9mZmZmZmb+PwAAAAAAAAhAZmZmZmZmCkBmZmZmZmYKQAAAAAAAAAxAAAAAAAAADEDNzMzMzMwMQJqZmZmZmQ1AZmZmZmZmDkAzMzMzMzMPQDMzMzMzMw9AMzMzMzMzD0AAAAAAAAAQQAAAAAAAABBAAAAAAAAAEEAAAAAAAAAQQAAAAAAAABBAZmZmZmZmEEBmZmZmZmYQQGZmZmZmZhBAzczMzMzMEEDNzMzMzMwQQM3MzMzMzBBAzczMzMzMEEAzMzMzMzMRQDMzMzMzMxFAmpmZmZmZEUCamZmZmZkRQJqZmZmZmRFAmpmZmZmZEUAAAAAAAAASQAAAAAAAABJAAAAAAAAAEkAAAAAAAAASQAAAAAAAABJAAAAAAAAAEkAAAAAAAAASQAAAAAAAABJAZmZmZmZmEkBmZmZmZmYSQGZmZmZmZhJAzczMzMzMEkDNzMzMzMwSQM3MzMzMzBJAzczMzMzMEkDNzMzMzMwSQDMzMzMzMxNAMzMzMzMzE0AzMzMzMzMTQDMzMzMzMxNAmpmZmZmZE0CamZmZmZkTQJqZmZmZmRNAmpmZmZmZE0CamZmZmZkTQAAAAAAAABRAAAAAAAAAFEAAAAAAAAAUQAAAAAAAABRAZmZmZmZmFEBmZmZmZmYUQGZmZmZmZhRAZmZmZmZmFEBmZmZmZmYUQGZmZmZmZhRAZmZmZmZmFEBmZmZmZmYUQM3MzMzMzBRAzczMzMzMFEAzMzMzMzMVQDMzMzMzMxVAmpmZmZmZFUCamZmZmZkVQAAAAAAAABZAAAAAAAAAFkAAAAAAAAAWQGZmZmZmZhZAZmZmZmZmFkBmZmZmZmYWQGZmZmZmZhZAZmZmZmZmFkBmZmZmZmYWQM3MzMzMzBZAzczMzMzMFkDNzMzMzMwWQDMzMzMzMxdAMzMzMzMzF0AzMzMzMzMXQJqZmZmZmRdAmpmZmZmZF0AAAAAAAAAYQAAAAAAAABhAZmZmZmZmGEBmZmZmZmYYQGZmZmZmZhhAMzMzMzMzGUCamZmZmZkZQGZmZmZmZhpAzczMzMzMGkDNzMzMzMwaQJqZmZmZmRtA",
                    "dtype": "f8"
                  },
                  "xaxis": "x",
                  "y": {
                    "bdata": "wFy62SiNqT/czFLMn2+3P6o15JVVDME/qjXklVUMwT/oBJ9F22DGP+gEn0XbYMY/6ASfRdtgxj/oBJ9F22DGP+gEn0XbYMY/6ASfRdtgxj/oBJ9F22DGPyTUWfVgtcs/JNRZ9WC1yz8k1Fn1YLXLPyTUWfVgtcs/JNRZ9WC1yz8k1Fn1YLXLPyTUWfVgtcs/JNRZ9WC1yz8k1Fn1YLXLPyTUWfVgtcs/JNRZ9WC1yz8k1Fn1YLXLP7JRilLzhNA/slGKUvOE0D+yUYpS84TQP7JRilLzhNA/slGKUvOE0D+yUYpS84TQP7JRilLzhNA/slGKUvOE0D+yUYpS84TQP7JRilLzhNA/slGKUvOE0D+yUYpS84TQP7JRilLzhNA/slGKUvOE0D9SuWcqNi/TP1K5Zyo2L9M/UrlnKjYv0z9SuWcqNi/TP1K5Zyo2L9M/UrlnKjYv0z9SuWcqNi/TP/AgRQJ52dU/8CBFAnnZ1T/wIEUCednVP/AgRQJ52dU/LPD/sf4t2z8s8P+x/i3bPwCyQfxuP+w/t+YGoGkf8D+35gagaR/wP4ea9QuLdPE/h5r1C4t08T9u9OzBGx/yP1ZO5HesyfI/PajbLT108z8lAtPjzR70PyUC0+PNHvQ/JQLT480e9D8NXMqZXsn0Pw1cypleyfQ/DVzKmV7J9D8NXMqZXsn0Pw1cypleyfQ/9LXBT+9z9T/0tcFP73P1P/S1wU/vc/U/3Q+5BYAe9j/dD7kFgB72P90PuQWAHvY/3Q+5BYAe9j/EabC7EMn2P8RpsLsQyfY/rMOncaFz9z+sw6dxoXP3P6zDp3Ghc/c/rMOncaFz9z+THZ8nMh74P5MdnycyHvg/kx2fJzIe+D+THZ8nMh74P5MdnycyHvg/kx2fJzIe+D+THZ8nMh74P5MdnycyHvg/e3eW3cLI+D97d5bdwsj4P3t3lt3CyPg/Y9GNk1Nz+T9j0Y2TU3P5P2PRjZNTc/k/Y9GNk1Nz+T9j0Y2TU3P5P0orhUnkHfo/SiuFSeQd+j9KK4VJ5B36P0orhUnkHfo/M4V8/3TI+j8zhXz/dMj6PzOFfP90yPo/M4V8/3TI+j8zhXz/dMj6Pxnfc7UFc/s/Gd9ztQVz+z8Z33O1BXP7Pxnfc7UFc/s/ATlra5Yd/D8BOWtrlh38PwE5a2uWHfw/ATlra5Yd/D8BOWtrlh38PwE5a2uWHfw/ATlra5Yd/D8BOWtrlh38P+mSYiEnyPw/6ZJiISfI/D/R7FnXt3L9P9HsWde3cv0/uUZRjUgd/j+5RlGNSB3+P6GgSEPZx/4/oaBIQ9nH/j+hoEhD2cf+P4f6P/lpcv8/h/o/+Wly/z+H+j/5aXL/P4f6P/lpcv8/h/o/+Wly/z+H+j/5aXL/Pziqm1d9DgBAOKqbV30OAEA4qptXfQ4AQCxXl7LFYwBALFeXssVjAEAsV5eyxWMAQCAEkw0OuQBAIASTDQ65AEAUsY5oVg4BQBSxjmhWDgFACF6Kw55jAUAIXorDnmMBQAheisOeYwFA7reBeS8OAkDkZH3Ud2MCQMq+dIoIDgNAvmtw5VBjA0C+a3DlUGMDQKbFZ5vhDQRA",
                    "dtype": "f8"
                  },
                  "yaxis": "y"
                }
              ],
              "layout": {
                "legend": {
                  "tracegroupgap": 0
                },
                "template": {
                  "data": {
                    "bar": [
                      {
                        "error_x": {
                          "color": "#2a3f5f"
                        },
                        "error_y": {
                          "color": "#2a3f5f"
                        },
                        "marker": {
                          "line": {
                            "color": "#E5ECF6",
                            "width": 0.5
                          },
                          "pattern": {
                            "fillmode": "overlay",
                            "size": 10,
                            "solidity": 0.2
                          }
                        },
                        "type": "bar"
                      }
                    ],
                    "barpolar": [
                      {
                        "marker": {
                          "line": {
                            "color": "#E5ECF6",
                            "width": 0.5
                          },
                          "pattern": {
                            "fillmode": "overlay",
                            "size": 10,
                            "solidity": 0.2
                          }
                        },
                        "type": "barpolar"
                      }
                    ],
                    "carpet": [
                      {
                        "aaxis": {
                          "endlinecolor": "#2a3f5f",
                          "gridcolor": "white",
                          "linecolor": "white",
                          "minorgridcolor": "white",
                          "startlinecolor": "#2a3f5f"
                        },
                        "baxis": {
                          "endlinecolor": "#2a3f5f",
                          "gridcolor": "white",
                          "linecolor": "white",
                          "minorgridcolor": "white",
                          "startlinecolor": "#2a3f5f"
                        },
                        "type": "carpet"
                      }
                    ],
                    "choropleth": [
                      {
                        "colorbar": {
                          "outlinewidth": 0,
                          "ticks": ""
                        },
                        "type": "choropleth"
                      }
                    ],
                    "contour": [
                      {
                        "colorbar": {
                          "outlinewidth": 0,
                          "ticks": ""
                        },
                        "colorscale": [
                          [
                            0,
                            "#0d0887"
                          ],
                          [
                            0.1111111111111111,
                            "#46039f"
                          ],
                          [
                            0.2222222222222222,
                            "#7201a8"
                          ],
                          [
                            0.3333333333333333,
                            "#9c179e"
                          ],
                          [
                            0.4444444444444444,
                            "#bd3786"
                          ],
                          [
                            0.5555555555555556,
                            "#d8576b"
                          ],
                          [
                            0.6666666666666666,
                            "#ed7953"
                          ],
                          [
                            0.7777777777777778,
                            "#fb9f3a"
                          ],
                          [
                            0.8888888888888888,
                            "#fdca26"
                          ],
                          [
                            1,
                            "#f0f921"
                          ]
                        ],
                        "type": "contour"
                      }
                    ],
                    "contourcarpet": [
                      {
                        "colorbar": {
                          "outlinewidth": 0,
                          "ticks": ""
                        },
                        "type": "contourcarpet"
                      }
                    ],
                    "heatmap": [
                      {
                        "colorbar": {
                          "outlinewidth": 0,
                          "ticks": ""
                        },
                        "colorscale": [
                          [
                            0,
                            "#0d0887"
                          ],
                          [
                            0.1111111111111111,
                            "#46039f"
                          ],
                          [
                            0.2222222222222222,
                            "#7201a8"
                          ],
                          [
                            0.3333333333333333,
                            "#9c179e"
                          ],
                          [
                            0.4444444444444444,
                            "#bd3786"
                          ],
                          [
                            0.5555555555555556,
                            "#d8576b"
                          ],
                          [
                            0.6666666666666666,
                            "#ed7953"
                          ],
                          [
                            0.7777777777777778,
                            "#fb9f3a"
                          ],
                          [
                            0.8888888888888888,
                            "#fdca26"
                          ],
                          [
                            1,
                            "#f0f921"
                          ]
                        ],
                        "type": "heatmap"
                      }
                    ],
                    "histogram": [
                      {
                        "marker": {
                          "pattern": {
                            "fillmode": "overlay",
                            "size": 10,
                            "solidity": 0.2
                          }
                        },
                        "type": "histogram"
                      }
                    ],
                    "histogram2d": [
                      {
                        "colorbar": {
                          "outlinewidth": 0,
                          "ticks": ""
                        },
                        "colorscale": [
                          [
                            0,
                            "#0d0887"
                          ],
                          [
                            0.1111111111111111,
                            "#46039f"
                          ],
                          [
                            0.2222222222222222,
                            "#7201a8"
                          ],
                          [
                            0.3333333333333333,
                            "#9c179e"
                          ],
                          [
                            0.4444444444444444,
                            "#bd3786"
                          ],
                          [
                            0.5555555555555556,
                            "#d8576b"
                          ],
                          [
                            0.6666666666666666,
                            "#ed7953"
                          ],
                          [
                            0.7777777777777778,
                            "#fb9f3a"
                          ],
                          [
                            0.8888888888888888,
                            "#fdca26"
                          ],
                          [
                            1,
                            "#f0f921"
                          ]
                        ],
                        "type": "histogram2d"
                      }
                    ],
                    "histogram2dcontour": [
                      {
                        "colorbar": {
                          "outlinewidth": 0,
                          "ticks": ""
                        },
                        "colorscale": [
                          [
                            0,
                            "#0d0887"
                          ],
                          [
                            0.1111111111111111,
                            "#46039f"
                          ],
                          [
                            0.2222222222222222,
                            "#7201a8"
                          ],
                          [
                            0.3333333333333333,
                            "#9c179e"
                          ],
                          [
                            0.4444444444444444,
                            "#bd3786"
                          ],
                          [
                            0.5555555555555556,
                            "#d8576b"
                          ],
                          [
                            0.6666666666666666,
                            "#ed7953"
                          ],
                          [
                            0.7777777777777778,
                            "#fb9f3a"
                          ],
                          [
                            0.8888888888888888,
                            "#fdca26"
                          ],
                          [
                            1,
                            "#f0f921"
                          ]
                        ],
                        "type": "histogram2dcontour"
                      }
                    ],
                    "mesh3d": [
                      {
                        "colorbar": {
                          "outlinewidth": 0,
                          "ticks": ""
                        },
                        "type": "mesh3d"
                      }
                    ],
                    "parcoords": [
                      {
                        "line": {
                          "colorbar": {
                            "outlinewidth": 0,
                            "ticks": ""
                          }
                        },
                        "type": "parcoords"
                      }
                    ],
                    "pie": [
                      {
                        "automargin": true,
                        "type": "pie"
                      }
                    ],
                    "scatter": [
                      {
                        "fillpattern": {
                          "fillmode": "overlay",
                          "size": 10,
                          "solidity": 0.2
                        },
                        "type": "scatter"
                      }
                    ],
                    "scatter3d": [
                      {
                        "line": {
                          "colorbar": {
                            "outlinewidth": 0,
                            "ticks": ""
                          }
                        },
                        "marker": {
                          "colorbar": {
                            "outlinewidth": 0,
                            "ticks": ""
                          }
                        },
                        "type": "scatter3d"
                      }
                    ],
                    "scattercarpet": [
                      {
                        "marker": {
                          "colorbar": {
                            "outlinewidth": 0,
                            "ticks": ""
                          }
                        },
                        "type": "scattercarpet"
                      }
                    ],
                    "scattergeo": [
                      {
                        "marker": {
                          "colorbar": {
                            "outlinewidth": 0,
                            "ticks": ""
                          }
                        },
                        "type": "scattergeo"
                      }
                    ],
                    "scattergl": [
                      {
                        "marker": {
                          "colorbar": {
                            "outlinewidth": 0,
                            "ticks": ""
                          }
                        },
                        "type": "scattergl"
                      }
                    ],
                    "scattermap": [
                      {
                        "marker": {
                          "colorbar": {
                            "outlinewidth": 0,
                            "ticks": ""
                          }
                        },
                        "type": "scattermap"
                      }
                    ],
                    "scattermapbox": [
                      {
                        "marker": {
                          "colorbar": {
                            "outlinewidth": 0,
                            "ticks": ""
                          }
                        },
                        "type": "scattermapbox"
                      }
                    ],
                    "scatterpolar": [
                      {
                        "marker": {
                          "colorbar": {
                            "outlinewidth": 0,
                            "ticks": ""
                          }
                        },
                        "type": "scatterpolar"
                      }
                    ],
                    "scatterpolargl": [
                      {
                        "marker": {
                          "colorbar": {
                            "outlinewidth": 0,
                            "ticks": ""
                          }
                        },
                        "type": "scatterpolargl"
                      }
                    ],
                    "scatterternary": [
                      {
                        "marker": {
                          "colorbar": {
                            "outlinewidth": 0,
                            "ticks": ""
                          }
                        },
                        "type": "scatterternary"
                      }
                    ],
                    "surface": [
                      {
                        "colorbar": {
                          "outlinewidth": 0,
                          "ticks": ""
                        },
                        "colorscale": [
                          [
                            0,
                            "#0d0887"
                          ],
                          [
                            0.1111111111111111,
                            "#46039f"
                          ],
                          [
                            0.2222222222222222,
                            "#7201a8"
                          ],
                          [
                            0.3333333333333333,
                            "#9c179e"
                          ],
                          [
                            0.4444444444444444,
                            "#bd3786"
                          ],
                          [
                            0.5555555555555556,
                            "#d8576b"
                          ],
                          [
                            0.6666666666666666,
                            "#ed7953"
                          ],
                          [
                            0.7777777777777778,
                            "#fb9f3a"
                          ],
                          [
                            0.8888888888888888,
                            "#fdca26"
                          ],
                          [
                            1,
                            "#f0f921"
                          ]
                        ],
                        "type": "surface"
                      }
                    ],
                    "table": [
                      {
                        "cells": {
                          "fill": {
                            "color": "#EBF0F8"
                          },
                          "line": {
                            "color": "white"
                          }
                        },
                        "header": {
                          "fill": {
                            "color": "#C8D4E3"
                          },
                          "line": {
                            "color": "white"
                          }
                        },
                        "type": "table"
                      }
                    ]
                  },
                  "layout": {
                    "annotationdefaults": {
                      "arrowcolor": "#2a3f5f",
                      "arrowhead": 0,
                      "arrowwidth": 1
                    },
                    "autotypenumbers": "strict",
                    "coloraxis": {
                      "colorbar": {
                        "outlinewidth": 0,
                        "ticks": ""
                      }
                    },
                    "colorscale": {
                      "diverging": [
                        [
                          0,
                          "#8e0152"
                        ],
                        [
                          0.1,
                          "#c51b7d"
                        ],
                        [
                          0.2,
                          "#de77ae"
                        ],
                        [
                          0.3,
                          "#f1b6da"
                        ],
                        [
                          0.4,
                          "#fde0ef"
                        ],
                        [
                          0.5,
                          "#f7f7f7"
                        ],
                        [
                          0.6,
                          "#e6f5d0"
                        ],
                        [
                          0.7,
                          "#b8e186"
                        ],
                        [
                          0.8,
                          "#7fbc41"
                        ],
                        [
                          0.9,
                          "#4d9221"
                        ],
                        [
                          1,
                          "#276419"
                        ]
                      ],
                      "sequential": [
                        [
                          0,
                          "#0d0887"
                        ],
                        [
                          0.1111111111111111,
                          "#46039f"
                        ],
                        [
                          0.2222222222222222,
                          "#7201a8"
                        ],
                        [
                          0.3333333333333333,
                          "#9c179e"
                        ],
                        [
                          0.4444444444444444,
                          "#bd3786"
                        ],
                        [
                          0.5555555555555556,
                          "#d8576b"
                        ],
                        [
                          0.6666666666666666,
                          "#ed7953"
                        ],
                        [
                          0.7777777777777778,
                          "#fb9f3a"
                        ],
                        [
                          0.8888888888888888,
                          "#fdca26"
                        ],
                        [
                          1,
                          "#f0f921"
                        ]
                      ],
                      "sequentialminus": [
                        [
                          0,
                          "#0d0887"
                        ],
                        [
                          0.1111111111111111,
                          "#46039f"
                        ],
                        [
                          0.2222222222222222,
                          "#7201a8"
                        ],
                        [
                          0.3333333333333333,
                          "#9c179e"
                        ],
                        [
                          0.4444444444444444,
                          "#bd3786"
                        ],
                        [
                          0.5555555555555556,
                          "#d8576b"
                        ],
                        [
                          0.6666666666666666,
                          "#ed7953"
                        ],
                        [
                          0.7777777777777778,
                          "#fb9f3a"
                        ],
                        [
                          0.8888888888888888,
                          "#fdca26"
                        ],
                        [
                          1,
                          "#f0f921"
                        ]
                      ]
                    },
                    "colorway": [
                      "#636efa",
                      "#EF553B",
                      "#00cc96",
                      "#ab63fa",
                      "#FFA15A",
                      "#19d3f3",
                      "#FF6692",
                      "#B6E880",
                      "#FF97FF",
                      "#FECB52"
                    ],
                    "font": {
                      "color": "#2a3f5f"
                    },
                    "geo": {
                      "bgcolor": "white",
                      "lakecolor": "white",
                      "landcolor": "#E5ECF6",
                      "showlakes": true,
                      "showland": true,
                      "subunitcolor": "white"
                    },
                    "hoverlabel": {
                      "align": "left"
                    },
                    "hovermode": "closest",
                    "mapbox": {
                      "style": "light"
                    },
                    "paper_bgcolor": "white",
                    "plot_bgcolor": "#E5ECF6",
                    "polar": {
                      "angularaxis": {
                        "gridcolor": "white",
                        "linecolor": "white",
                        "ticks": ""
                      },
                      "bgcolor": "#E5ECF6",
                      "radialaxis": {
                        "gridcolor": "white",
                        "linecolor": "white",
                        "ticks": ""
                      }
                    },
                    "scene": {
                      "xaxis": {
                        "backgroundcolor": "#E5ECF6",
                        "gridcolor": "white",
                        "gridwidth": 2,
                        "linecolor": "white",
                        "showbackground": true,
                        "ticks": "",
                        "zerolinecolor": "white"
                      },
                      "yaxis": {
                        "backgroundcolor": "#E5ECF6",
                        "gridcolor": "white",
                        "gridwidth": 2,
                        "linecolor": "white",
                        "showbackground": true,
                        "ticks": "",
                        "zerolinecolor": "white"
                      },
                      "zaxis": {
                        "backgroundcolor": "#E5ECF6",
                        "gridcolor": "white",
                        "gridwidth": 2,
                        "linecolor": "white",
                        "showbackground": true,
                        "ticks": "",
                        "zerolinecolor": "white"
                      }
                    },
                    "shapedefaults": {
                      "line": {
                        "color": "#2a3f5f"
                      }
                    },
                    "ternary": {
                      "aaxis": {
                        "gridcolor": "white",
                        "linecolor": "white",
                        "ticks": ""
                      },
                      "baxis": {
                        "gridcolor": "white",
                        "linecolor": "white",
                        "ticks": ""
                      },
                      "bgcolor": "#E5ECF6",
                      "caxis": {
                        "gridcolor": "white",
                        "linecolor": "white",
                        "ticks": ""
                      }
                    },
                    "title": {
                      "x": 0.05
                    },
                    "xaxis": {
                      "automargin": true,
                      "gridcolor": "white",
                      "linecolor": "white",
                      "ticks": "",
                      "title": {
                        "standoff": 15
                      },
                      "zerolinecolor": "white",
                      "zerolinewidth": 2
                    },
                    "yaxis": {
                      "automargin": true,
                      "gridcolor": "white",
                      "linecolor": "white",
                      "ticks": "",
                      "title": {
                        "standoff": 15
                      },
                      "zerolinecolor": "white",
                      "zerolinewidth": 2
                    }
                  }
                },
                "title": {
                  "text": "꽃잎 길이와 너비의 관계"
                },
                "xaxis": {
                  "anchor": "y",
                  "domain": [
                    0,
                    1
                  ],
                  "title": {
                    "text": "petal_length"
                  }
                },
                "yaxis": {
                  "anchor": "x",
                  "domain": [
                    0,
                    1
                  ],
                  "title": {
                    "text": "petal_width"
                  }
                }
              }
            }
          },
          "metadata": {},
          "output_type": "display_data"
        }
      ],
      "source": [
        "# 연습 문제 3번 풀이 공간\n",
        "fig_iris_scatter = px.scatter(iris_df,\n",
        "                              x='petal_length',\n",
        "                              y='petal_width',\n",
        "                              title='꽃잎 길이와 너비의 관계',\n",
        "                              trendline='ols') # 이 곳에 코드를 작성하고 fig_iris_scatter.show() 로 확인하세요.\n",
        "\n",
        "fig_iris_scatter.show()"
      ]
    },
    {
      "cell_type": "markdown",
      "metadata": {
        "id": "fWANTBvb1x-k"
      },
      "source": [
        "#### 문제 4: Iris 데이터셋 수치형 변수 전체 상관계수 히트맵 그리기\n",
        "\n",
        "  * 문제 1에서 계산한 `iris_corr` 상관계수 행렬을 `plotly.express.imshow`를 사용하여 히트맵으로 시각화하세요.\n",
        "  * 히트맵의 각 셀에 상관계수 값을 텍스트로 표시하세요.\n",
        "  * 그래프의 제목은 \"Iris 데이터셋 수치형 변수 간 상관계수 히트맵\"으로 설정하세요.\n",
        "  * 색상 스케일은 `'coolwarm'` 또는 `'RdBu_r'` 등을 사용하고, 색상 값의 범위(`zmin`, `zmax`)를 -1에서 1로 설정하여 일관성을 유지하세요."
      ]
    },
    {
      "cell_type": "code",
      "execution_count": 24,
      "metadata": {},
      "outputs": [
        {
          "data": {
            "text/html": [
              "<div>\n",
              "<style scoped>\n",
              "    .dataframe tbody tr th:only-of-type {\n",
              "        vertical-align: middle;\n",
              "    }\n",
              "\n",
              "    .dataframe tbody tr th {\n",
              "        vertical-align: top;\n",
              "    }\n",
              "\n",
              "    .dataframe thead th {\n",
              "        text-align: right;\n",
              "    }\n",
              "</style>\n",
              "<table border=\"1\" class=\"dataframe\">\n",
              "  <thead>\n",
              "    <tr style=\"text-align: right;\">\n",
              "      <th></th>\n",
              "      <th>sepal_length</th>\n",
              "      <th>sepal_width</th>\n",
              "      <th>petal_length</th>\n",
              "      <th>petal_width</th>\n",
              "      <th>species_id</th>\n",
              "    </tr>\n",
              "  </thead>\n",
              "  <tbody>\n",
              "    <tr>\n",
              "      <th>sepal_length</th>\n",
              "      <td>1.000000</td>\n",
              "      <td>-0.109369</td>\n",
              "      <td>0.871754</td>\n",
              "      <td>0.817954</td>\n",
              "      <td>0.782561</td>\n",
              "    </tr>\n",
              "    <tr>\n",
              "      <th>sepal_width</th>\n",
              "      <td>-0.109369</td>\n",
              "      <td>1.000000</td>\n",
              "      <td>-0.420516</td>\n",
              "      <td>-0.356544</td>\n",
              "      <td>-0.419446</td>\n",
              "    </tr>\n",
              "    <tr>\n",
              "      <th>petal_length</th>\n",
              "      <td>0.871754</td>\n",
              "      <td>-0.420516</td>\n",
              "      <td>1.000000</td>\n",
              "      <td>0.962757</td>\n",
              "      <td>0.949043</td>\n",
              "    </tr>\n",
              "    <tr>\n",
              "      <th>petal_width</th>\n",
              "      <td>0.817954</td>\n",
              "      <td>-0.356544</td>\n",
              "      <td>0.962757</td>\n",
              "      <td>1.000000</td>\n",
              "      <td>0.956464</td>\n",
              "    </tr>\n",
              "    <tr>\n",
              "      <th>species_id</th>\n",
              "      <td>0.782561</td>\n",
              "      <td>-0.419446</td>\n",
              "      <td>0.949043</td>\n",
              "      <td>0.956464</td>\n",
              "      <td>1.000000</td>\n",
              "    </tr>\n",
              "  </tbody>\n",
              "</table>\n",
              "</div>"
            ],
            "text/plain": [
              "              sepal_length  sepal_width  petal_length  petal_width  species_id\n",
              "sepal_length      1.000000    -0.109369      0.871754     0.817954    0.782561\n",
              "sepal_width      -0.109369     1.000000     -0.420516    -0.356544   -0.419446\n",
              "petal_length      0.871754    -0.420516      1.000000     0.962757    0.949043\n",
              "petal_width       0.817954    -0.356544      0.962757     1.000000    0.956464\n",
              "species_id        0.782561    -0.419446      0.949043     0.956464    1.000000"
            ]
          },
          "execution_count": 24,
          "metadata": {},
          "output_type": "execute_result"
        }
      ],
      "source": [
        "iris_corr = iris_df.corr(numeric_only=True)\n",
        "iris_corr"
      ]
    },
    {
      "cell_type": "code",
      "execution_count": 25,
      "metadata": {
        "id": "fN1D-s9K1x-k"
      },
      "outputs": [
        {
          "data": {
            "application/vnd.plotly.v1+json": {
              "config": {
                "plotlyServerURL": "https://plot.ly"
              },
              "data": [
                {
                  "coloraxis": "coloraxis",
                  "hovertemplate": "x: %{x}<br>y: %{y}<br>color: %{z}<extra></extra>",
                  "name": "0",
                  "texttemplate": "%{z}",
                  "type": "heatmap",
                  "x": [
                    "sepal_length",
                    "sepal_width",
                    "petal_length",
                    "petal_width",
                    "species_id"
                  ],
                  "xaxis": "x",
                  "y": [
                    "sepal_length",
                    "sepal_width",
                    "petal_length",
                    "petal_width",
                    "species_id"
                  ],
                  "yaxis": "y",
                  "z": {
                    "bdata": "AAAAAAAA8D/u4LmHn/+7v8nYePlo5es/vuAeGa0s6j+jvDfavQrpP+7guYef/7u/AAAAAAAA8D+xAl9YvOnav/VLHk2e0da/Dhcj4DTY2r/J2Hj5aOXrP7ECX1i86dq/AAAAAAAA8D/wbLr4587uP4nolHiOXu4/vuAeGa0s6j/1Sx5NntHWv/Bsuvjnzu4/AAAAAAAA8D8rH2EFWpvuP6O8N9q9Cuk/Dhcj4DTY2r+J6JR4jl7uPysfYQVam+4/AAAAAAAA8D8=",
                    "dtype": "f8",
                    "shape": "5, 5"
                  }
                }
              ],
              "layout": {
                "coloraxis": {
                  "colorscale": [
                    [
                      0,
                      "rgb(5,48,97)"
                    ],
                    [
                      0.1,
                      "rgb(33,102,172)"
                    ],
                    [
                      0.2,
                      "rgb(67,147,195)"
                    ],
                    [
                      0.3,
                      "rgb(146,197,222)"
                    ],
                    [
                      0.4,
                      "rgb(209,229,240)"
                    ],
                    [
                      0.5,
                      "rgb(247,247,247)"
                    ],
                    [
                      0.6,
                      "rgb(253,219,199)"
                    ],
                    [
                      0.7,
                      "rgb(244,165,130)"
                    ],
                    [
                      0.8,
                      "rgb(214,96,77)"
                    ],
                    [
                      0.9,
                      "rgb(178,24,43)"
                    ],
                    [
                      1,
                      "rgb(103,0,31)"
                    ]
                  ]
                },
                "template": {
                  "data": {
                    "bar": [
                      {
                        "error_x": {
                          "color": "#2a3f5f"
                        },
                        "error_y": {
                          "color": "#2a3f5f"
                        },
                        "marker": {
                          "line": {
                            "color": "#E5ECF6",
                            "width": 0.5
                          },
                          "pattern": {
                            "fillmode": "overlay",
                            "size": 10,
                            "solidity": 0.2
                          }
                        },
                        "type": "bar"
                      }
                    ],
                    "barpolar": [
                      {
                        "marker": {
                          "line": {
                            "color": "#E5ECF6",
                            "width": 0.5
                          },
                          "pattern": {
                            "fillmode": "overlay",
                            "size": 10,
                            "solidity": 0.2
                          }
                        },
                        "type": "barpolar"
                      }
                    ],
                    "carpet": [
                      {
                        "aaxis": {
                          "endlinecolor": "#2a3f5f",
                          "gridcolor": "white",
                          "linecolor": "white",
                          "minorgridcolor": "white",
                          "startlinecolor": "#2a3f5f"
                        },
                        "baxis": {
                          "endlinecolor": "#2a3f5f",
                          "gridcolor": "white",
                          "linecolor": "white",
                          "minorgridcolor": "white",
                          "startlinecolor": "#2a3f5f"
                        },
                        "type": "carpet"
                      }
                    ],
                    "choropleth": [
                      {
                        "colorbar": {
                          "outlinewidth": 0,
                          "ticks": ""
                        },
                        "type": "choropleth"
                      }
                    ],
                    "contour": [
                      {
                        "colorbar": {
                          "outlinewidth": 0,
                          "ticks": ""
                        },
                        "colorscale": [
                          [
                            0,
                            "#0d0887"
                          ],
                          [
                            0.1111111111111111,
                            "#46039f"
                          ],
                          [
                            0.2222222222222222,
                            "#7201a8"
                          ],
                          [
                            0.3333333333333333,
                            "#9c179e"
                          ],
                          [
                            0.4444444444444444,
                            "#bd3786"
                          ],
                          [
                            0.5555555555555556,
                            "#d8576b"
                          ],
                          [
                            0.6666666666666666,
                            "#ed7953"
                          ],
                          [
                            0.7777777777777778,
                            "#fb9f3a"
                          ],
                          [
                            0.8888888888888888,
                            "#fdca26"
                          ],
                          [
                            1,
                            "#f0f921"
                          ]
                        ],
                        "type": "contour"
                      }
                    ],
                    "contourcarpet": [
                      {
                        "colorbar": {
                          "outlinewidth": 0,
                          "ticks": ""
                        },
                        "type": "contourcarpet"
                      }
                    ],
                    "heatmap": [
                      {
                        "colorbar": {
                          "outlinewidth": 0,
                          "ticks": ""
                        },
                        "colorscale": [
                          [
                            0,
                            "#0d0887"
                          ],
                          [
                            0.1111111111111111,
                            "#46039f"
                          ],
                          [
                            0.2222222222222222,
                            "#7201a8"
                          ],
                          [
                            0.3333333333333333,
                            "#9c179e"
                          ],
                          [
                            0.4444444444444444,
                            "#bd3786"
                          ],
                          [
                            0.5555555555555556,
                            "#d8576b"
                          ],
                          [
                            0.6666666666666666,
                            "#ed7953"
                          ],
                          [
                            0.7777777777777778,
                            "#fb9f3a"
                          ],
                          [
                            0.8888888888888888,
                            "#fdca26"
                          ],
                          [
                            1,
                            "#f0f921"
                          ]
                        ],
                        "type": "heatmap"
                      }
                    ],
                    "histogram": [
                      {
                        "marker": {
                          "pattern": {
                            "fillmode": "overlay",
                            "size": 10,
                            "solidity": 0.2
                          }
                        },
                        "type": "histogram"
                      }
                    ],
                    "histogram2d": [
                      {
                        "colorbar": {
                          "outlinewidth": 0,
                          "ticks": ""
                        },
                        "colorscale": [
                          [
                            0,
                            "#0d0887"
                          ],
                          [
                            0.1111111111111111,
                            "#46039f"
                          ],
                          [
                            0.2222222222222222,
                            "#7201a8"
                          ],
                          [
                            0.3333333333333333,
                            "#9c179e"
                          ],
                          [
                            0.4444444444444444,
                            "#bd3786"
                          ],
                          [
                            0.5555555555555556,
                            "#d8576b"
                          ],
                          [
                            0.6666666666666666,
                            "#ed7953"
                          ],
                          [
                            0.7777777777777778,
                            "#fb9f3a"
                          ],
                          [
                            0.8888888888888888,
                            "#fdca26"
                          ],
                          [
                            1,
                            "#f0f921"
                          ]
                        ],
                        "type": "histogram2d"
                      }
                    ],
                    "histogram2dcontour": [
                      {
                        "colorbar": {
                          "outlinewidth": 0,
                          "ticks": ""
                        },
                        "colorscale": [
                          [
                            0,
                            "#0d0887"
                          ],
                          [
                            0.1111111111111111,
                            "#46039f"
                          ],
                          [
                            0.2222222222222222,
                            "#7201a8"
                          ],
                          [
                            0.3333333333333333,
                            "#9c179e"
                          ],
                          [
                            0.4444444444444444,
                            "#bd3786"
                          ],
                          [
                            0.5555555555555556,
                            "#d8576b"
                          ],
                          [
                            0.6666666666666666,
                            "#ed7953"
                          ],
                          [
                            0.7777777777777778,
                            "#fb9f3a"
                          ],
                          [
                            0.8888888888888888,
                            "#fdca26"
                          ],
                          [
                            1,
                            "#f0f921"
                          ]
                        ],
                        "type": "histogram2dcontour"
                      }
                    ],
                    "mesh3d": [
                      {
                        "colorbar": {
                          "outlinewidth": 0,
                          "ticks": ""
                        },
                        "type": "mesh3d"
                      }
                    ],
                    "parcoords": [
                      {
                        "line": {
                          "colorbar": {
                            "outlinewidth": 0,
                            "ticks": ""
                          }
                        },
                        "type": "parcoords"
                      }
                    ],
                    "pie": [
                      {
                        "automargin": true,
                        "type": "pie"
                      }
                    ],
                    "scatter": [
                      {
                        "fillpattern": {
                          "fillmode": "overlay",
                          "size": 10,
                          "solidity": 0.2
                        },
                        "type": "scatter"
                      }
                    ],
                    "scatter3d": [
                      {
                        "line": {
                          "colorbar": {
                            "outlinewidth": 0,
                            "ticks": ""
                          }
                        },
                        "marker": {
                          "colorbar": {
                            "outlinewidth": 0,
                            "ticks": ""
                          }
                        },
                        "type": "scatter3d"
                      }
                    ],
                    "scattercarpet": [
                      {
                        "marker": {
                          "colorbar": {
                            "outlinewidth": 0,
                            "ticks": ""
                          }
                        },
                        "type": "scattercarpet"
                      }
                    ],
                    "scattergeo": [
                      {
                        "marker": {
                          "colorbar": {
                            "outlinewidth": 0,
                            "ticks": ""
                          }
                        },
                        "type": "scattergeo"
                      }
                    ],
                    "scattergl": [
                      {
                        "marker": {
                          "colorbar": {
                            "outlinewidth": 0,
                            "ticks": ""
                          }
                        },
                        "type": "scattergl"
                      }
                    ],
                    "scattermap": [
                      {
                        "marker": {
                          "colorbar": {
                            "outlinewidth": 0,
                            "ticks": ""
                          }
                        },
                        "type": "scattermap"
                      }
                    ],
                    "scattermapbox": [
                      {
                        "marker": {
                          "colorbar": {
                            "outlinewidth": 0,
                            "ticks": ""
                          }
                        },
                        "type": "scattermapbox"
                      }
                    ],
                    "scatterpolar": [
                      {
                        "marker": {
                          "colorbar": {
                            "outlinewidth": 0,
                            "ticks": ""
                          }
                        },
                        "type": "scatterpolar"
                      }
                    ],
                    "scatterpolargl": [
                      {
                        "marker": {
                          "colorbar": {
                            "outlinewidth": 0,
                            "ticks": ""
                          }
                        },
                        "type": "scatterpolargl"
                      }
                    ],
                    "scatterternary": [
                      {
                        "marker": {
                          "colorbar": {
                            "outlinewidth": 0,
                            "ticks": ""
                          }
                        },
                        "type": "scatterternary"
                      }
                    ],
                    "surface": [
                      {
                        "colorbar": {
                          "outlinewidth": 0,
                          "ticks": ""
                        },
                        "colorscale": [
                          [
                            0,
                            "#0d0887"
                          ],
                          [
                            0.1111111111111111,
                            "#46039f"
                          ],
                          [
                            0.2222222222222222,
                            "#7201a8"
                          ],
                          [
                            0.3333333333333333,
                            "#9c179e"
                          ],
                          [
                            0.4444444444444444,
                            "#bd3786"
                          ],
                          [
                            0.5555555555555556,
                            "#d8576b"
                          ],
                          [
                            0.6666666666666666,
                            "#ed7953"
                          ],
                          [
                            0.7777777777777778,
                            "#fb9f3a"
                          ],
                          [
                            0.8888888888888888,
                            "#fdca26"
                          ],
                          [
                            1,
                            "#f0f921"
                          ]
                        ],
                        "type": "surface"
                      }
                    ],
                    "table": [
                      {
                        "cells": {
                          "fill": {
                            "color": "#EBF0F8"
                          },
                          "line": {
                            "color": "white"
                          }
                        },
                        "header": {
                          "fill": {
                            "color": "#C8D4E3"
                          },
                          "line": {
                            "color": "white"
                          }
                        },
                        "type": "table"
                      }
                    ]
                  },
                  "layout": {
                    "annotationdefaults": {
                      "arrowcolor": "#2a3f5f",
                      "arrowhead": 0,
                      "arrowwidth": 1
                    },
                    "autotypenumbers": "strict",
                    "coloraxis": {
                      "colorbar": {
                        "outlinewidth": 0,
                        "ticks": ""
                      }
                    },
                    "colorscale": {
                      "diverging": [
                        [
                          0,
                          "#8e0152"
                        ],
                        [
                          0.1,
                          "#c51b7d"
                        ],
                        [
                          0.2,
                          "#de77ae"
                        ],
                        [
                          0.3,
                          "#f1b6da"
                        ],
                        [
                          0.4,
                          "#fde0ef"
                        ],
                        [
                          0.5,
                          "#f7f7f7"
                        ],
                        [
                          0.6,
                          "#e6f5d0"
                        ],
                        [
                          0.7,
                          "#b8e186"
                        ],
                        [
                          0.8,
                          "#7fbc41"
                        ],
                        [
                          0.9,
                          "#4d9221"
                        ],
                        [
                          1,
                          "#276419"
                        ]
                      ],
                      "sequential": [
                        [
                          0,
                          "#0d0887"
                        ],
                        [
                          0.1111111111111111,
                          "#46039f"
                        ],
                        [
                          0.2222222222222222,
                          "#7201a8"
                        ],
                        [
                          0.3333333333333333,
                          "#9c179e"
                        ],
                        [
                          0.4444444444444444,
                          "#bd3786"
                        ],
                        [
                          0.5555555555555556,
                          "#d8576b"
                        ],
                        [
                          0.6666666666666666,
                          "#ed7953"
                        ],
                        [
                          0.7777777777777778,
                          "#fb9f3a"
                        ],
                        [
                          0.8888888888888888,
                          "#fdca26"
                        ],
                        [
                          1,
                          "#f0f921"
                        ]
                      ],
                      "sequentialminus": [
                        [
                          0,
                          "#0d0887"
                        ],
                        [
                          0.1111111111111111,
                          "#46039f"
                        ],
                        [
                          0.2222222222222222,
                          "#7201a8"
                        ],
                        [
                          0.3333333333333333,
                          "#9c179e"
                        ],
                        [
                          0.4444444444444444,
                          "#bd3786"
                        ],
                        [
                          0.5555555555555556,
                          "#d8576b"
                        ],
                        [
                          0.6666666666666666,
                          "#ed7953"
                        ],
                        [
                          0.7777777777777778,
                          "#fb9f3a"
                        ],
                        [
                          0.8888888888888888,
                          "#fdca26"
                        ],
                        [
                          1,
                          "#f0f921"
                        ]
                      ]
                    },
                    "colorway": [
                      "#636efa",
                      "#EF553B",
                      "#00cc96",
                      "#ab63fa",
                      "#FFA15A",
                      "#19d3f3",
                      "#FF6692",
                      "#B6E880",
                      "#FF97FF",
                      "#FECB52"
                    ],
                    "font": {
                      "color": "#2a3f5f"
                    },
                    "geo": {
                      "bgcolor": "white",
                      "lakecolor": "white",
                      "landcolor": "#E5ECF6",
                      "showlakes": true,
                      "showland": true,
                      "subunitcolor": "white"
                    },
                    "hoverlabel": {
                      "align": "left"
                    },
                    "hovermode": "closest",
                    "mapbox": {
                      "style": "light"
                    },
                    "paper_bgcolor": "white",
                    "plot_bgcolor": "#E5ECF6",
                    "polar": {
                      "angularaxis": {
                        "gridcolor": "white",
                        "linecolor": "white",
                        "ticks": ""
                      },
                      "bgcolor": "#E5ECF6",
                      "radialaxis": {
                        "gridcolor": "white",
                        "linecolor": "white",
                        "ticks": ""
                      }
                    },
                    "scene": {
                      "xaxis": {
                        "backgroundcolor": "#E5ECF6",
                        "gridcolor": "white",
                        "gridwidth": 2,
                        "linecolor": "white",
                        "showbackground": true,
                        "ticks": "",
                        "zerolinecolor": "white"
                      },
                      "yaxis": {
                        "backgroundcolor": "#E5ECF6",
                        "gridcolor": "white",
                        "gridwidth": 2,
                        "linecolor": "white",
                        "showbackground": true,
                        "ticks": "",
                        "zerolinecolor": "white"
                      },
                      "zaxis": {
                        "backgroundcolor": "#E5ECF6",
                        "gridcolor": "white",
                        "gridwidth": 2,
                        "linecolor": "white",
                        "showbackground": true,
                        "ticks": "",
                        "zerolinecolor": "white"
                      }
                    },
                    "shapedefaults": {
                      "line": {
                        "color": "#2a3f5f"
                      }
                    },
                    "ternary": {
                      "aaxis": {
                        "gridcolor": "white",
                        "linecolor": "white",
                        "ticks": ""
                      },
                      "baxis": {
                        "gridcolor": "white",
                        "linecolor": "white",
                        "ticks": ""
                      },
                      "bgcolor": "#E5ECF6",
                      "caxis": {
                        "gridcolor": "white",
                        "linecolor": "white",
                        "ticks": ""
                      }
                    },
                    "title": {
                      "x": 0.05
                    },
                    "xaxis": {
                      "automargin": true,
                      "gridcolor": "white",
                      "linecolor": "white",
                      "ticks": "",
                      "title": {
                        "standoff": 15
                      },
                      "zerolinecolor": "white",
                      "zerolinewidth": 2
                    },
                    "yaxis": {
                      "automargin": true,
                      "gridcolor": "white",
                      "linecolor": "white",
                      "ticks": "",
                      "title": {
                        "standoff": 15
                      },
                      "zerolinecolor": "white",
                      "zerolinewidth": 2
                    }
                  }
                },
                "title": {
                  "text": "상관계수 히트맵"
                },
                "xaxis": {
                  "anchor": "y",
                  "constrain": "domain",
                  "domain": [
                    0,
                    1
                  ],
                  "scaleanchor": "y"
                },
                "yaxis": {
                  "anchor": "x",
                  "autorange": "reversed",
                  "constrain": "domain",
                  "domain": [
                    0,
                    1
                  ]
                }
              }
            }
          },
          "metadata": {},
          "output_type": "display_data"
        }
      ],
      "source": [
        "# 연습 문제 4번 풀이 공간\n",
        "fig_iris_heatmap = px.imshow(iris_corr, color_continuous_scale='RdBu_r', title='상관계수 히트맵', text_auto=True) # 이 곳에 코드를 작성하고 fig_iris_heatmap.show() 로 확인하세요.\n",
        "fig_iris_heatmap.show()"
      ]
    },
    {
      "cell_type": "markdown",
      "metadata": {},
      "source": [
        "### ✏️ 미니 실습 PJT 과제"
      ]
    },
    {
      "cell_type": "markdown",
      "metadata": {},
      "source": [
        "#### 과제 1: 슈퍼마켓 데이터셋 상관분석 (sample_superstore2.csv 파일 사용)\n",
        "\n",
        "* 데이터셋 정보 확인\n",
        "* 데이터셋 기술통계량 확인\n",
        "* 데이터셋 상관계수 행렬 계산\n",
        "* 데이터셋 상관계수 행렬 시각화\n",
        "* 주요 변수 간의 산점도 시각화\n",
        "* 데이터셋 상관계수 행렬 해석"
      ]
    },
    {
      "cell_type": "code",
      "execution_count": 94,
      "metadata": {},
      "outputs": [
        {
          "data": {
            "text/html": [
              "<div>\n",
              "<style scoped>\n",
              "    .dataframe tbody tr th:only-of-type {\n",
              "        vertical-align: middle;\n",
              "    }\n",
              "\n",
              "    .dataframe tbody tr th {\n",
              "        vertical-align: top;\n",
              "    }\n",
              "\n",
              "    .dataframe thead th {\n",
              "        text-align: right;\n",
              "    }\n",
              "</style>\n",
              "<table border=\"1\" class=\"dataframe\">\n",
              "  <thead>\n",
              "    <tr style=\"text-align: right;\">\n",
              "      <th></th>\n",
              "      <th>주문일</th>\n",
              "      <th>배송방식</th>\n",
              "      <th>고객명</th>\n",
              "      <th>고객분류</th>\n",
              "      <th>시군구</th>\n",
              "      <th>시도</th>\n",
              "      <th>지역</th>\n",
              "      <th>제품대분류</th>\n",
              "      <th>제품소분류</th>\n",
              "      <th>이름</th>\n",
              "      <th>매출</th>\n",
              "      <th>수량</th>\n",
              "      <th>할인율</th>\n",
              "      <th>이익</th>\n",
              "    </tr>\n",
              "  </thead>\n",
              "  <tbody>\n",
              "    <tr>\n",
              "      <th>0</th>\n",
              "      <td>2020.11.9</td>\n",
              "      <td>2등급</td>\n",
              "      <td>Claire Gute</td>\n",
              "      <td>개인고객</td>\n",
              "      <td>천안시</td>\n",
              "      <td>충청남도</td>\n",
              "      <td>충청</td>\n",
              "      <td>가구</td>\n",
              "      <td>책장</td>\n",
              "      <td>Bush Somerset Collection Bookcase</td>\n",
              "      <td>261.9600</td>\n",
              "      <td>2</td>\n",
              "      <td>0.00</td>\n",
              "      <td>41.9136</td>\n",
              "    </tr>\n",
              "    <tr>\n",
              "      <th>1</th>\n",
              "      <td>2020.11.9</td>\n",
              "      <td>2등급</td>\n",
              "      <td>Claire Gute</td>\n",
              "      <td>개인고객</td>\n",
              "      <td>천안시</td>\n",
              "      <td>충청남도</td>\n",
              "      <td>충청</td>\n",
              "      <td>가구</td>\n",
              "      <td>의자</td>\n",
              "      <td>Hon Deluxe Fabric Upholstered Stacking Chairs,...</td>\n",
              "      <td>731.9400</td>\n",
              "      <td>3</td>\n",
              "      <td>0.00</td>\n",
              "      <td>219.5820</td>\n",
              "    </tr>\n",
              "    <tr>\n",
              "      <th>2</th>\n",
              "      <td>2020.6.13</td>\n",
              "      <td>2등급</td>\n",
              "      <td>Darrin Van Huff</td>\n",
              "      <td>기업고객</td>\n",
              "      <td>송파구</td>\n",
              "      <td>서울</td>\n",
              "      <td>수도권</td>\n",
              "      <td>사무용품</td>\n",
              "      <td>라벨</td>\n",
              "      <td>Self-Adhesive Address Labels for Typewriters b...</td>\n",
              "      <td>14.6200</td>\n",
              "      <td>2</td>\n",
              "      <td>0.00</td>\n",
              "      <td>6.8714</td>\n",
              "    </tr>\n",
              "    <tr>\n",
              "      <th>3</th>\n",
              "      <td>2020.10.11</td>\n",
              "      <td>표준등급</td>\n",
              "      <td>Sean O'Donnell</td>\n",
              "      <td>개인고객</td>\n",
              "      <td>영광군</td>\n",
              "      <td>전라남도</td>\n",
              "      <td>전라</td>\n",
              "      <td>가구</td>\n",
              "      <td>테이블</td>\n",
              "      <td>Bretford CR4500 Series Slim Rectangular Table</td>\n",
              "      <td>957.5775</td>\n",
              "      <td>5</td>\n",
              "      <td>0.45</td>\n",
              "      <td>-383.0310</td>\n",
              "    </tr>\n",
              "    <tr>\n",
              "      <th>4</th>\n",
              "      <td>2020.10.11</td>\n",
              "      <td>표준등급</td>\n",
              "      <td>Sean O'Donnell</td>\n",
              "      <td>개인고객</td>\n",
              "      <td>영광군</td>\n",
              "      <td>전라남도</td>\n",
              "      <td>전라</td>\n",
              "      <td>사무용품</td>\n",
              "      <td>저장고</td>\n",
              "      <td>Eldon Fold 'N Roll Cart System</td>\n",
              "      <td>22.3680</td>\n",
              "      <td>2</td>\n",
              "      <td>0.20</td>\n",
              "      <td>2.5164</td>\n",
              "    </tr>\n",
              "  </tbody>\n",
              "</table>\n",
              "</div>"
            ],
            "text/plain": [
              "          주문일  배송방식              고객명  고객분류  시군구    시도   지역 제품대분류 제품소분류  \\\n",
              "0   2020.11.9   2등급      Claire Gute  개인고객  천안시  충청남도   충청    가구    책장   \n",
              "1   2020.11.9   2등급      Claire Gute  개인고객  천안시  충청남도   충청    가구    의자   \n",
              "2   2020.6.13   2등급  Darrin Van Huff  기업고객  송파구    서울  수도권  사무용품    라벨   \n",
              "3  2020.10.11  표준등급   Sean O'Donnell  개인고객  영광군  전라남도   전라    가구   테이블   \n",
              "4  2020.10.11  표준등급   Sean O'Donnell  개인고객  영광군  전라남도   전라  사무용품   저장고   \n",
              "\n",
              "                                                  이름        매출  수량   할인율  \\\n",
              "0                  Bush Somerset Collection Bookcase  261.9600   2  0.00   \n",
              "1  Hon Deluxe Fabric Upholstered Stacking Chairs,...  731.9400   3  0.00   \n",
              "2  Self-Adhesive Address Labels for Typewriters b...   14.6200   2  0.00   \n",
              "3      Bretford CR4500 Series Slim Rectangular Table  957.5775   5  0.45   \n",
              "4                     Eldon Fold 'N Roll Cart System   22.3680   2  0.20   \n",
              "\n",
              "         이익  \n",
              "0   41.9136  \n",
              "1  219.5820  \n",
              "2    6.8714  \n",
              "3 -383.0310  \n",
              "4    2.5164  "
            ]
          },
          "execution_count": 94,
          "metadata": {},
          "output_type": "execute_result"
        }
      ],
      "source": [
        "df = pd.read_csv('../datasets/sample_superstore2.csv')\n",
        "df.head()"
      ]
    },
    {
      "cell_type": "code",
      "execution_count": 95,
      "metadata": {},
      "outputs": [
        {
          "name": "stdout",
          "output_type": "stream",
          "text": [
            "<class 'pandas.core.frame.DataFrame'>\n",
            "RangeIndex: 8193 entries, 0 to 8192\n",
            "Data columns (total 14 columns):\n",
            " #   Column  Non-Null Count  Dtype  \n",
            "---  ------  --------------  -----  \n",
            " 0   주문일     8193 non-null   object \n",
            " 1   배송방식    8193 non-null   object \n",
            " 2   고객명     8193 non-null   object \n",
            " 3   고객분류    8193 non-null   object \n",
            " 4   시군구     8193 non-null   object \n",
            " 5   시도      8193 non-null   object \n",
            " 6   지역      8193 non-null   object \n",
            " 7   제품대분류   8193 non-null   object \n",
            " 8   제품소분류   8193 non-null   object \n",
            " 9   이름      8193 non-null   object \n",
            " 10  매출      8193 non-null   float64\n",
            " 11  수량      8193 non-null   int64  \n",
            " 12  할인율     8193 non-null   float64\n",
            " 13  이익      8193 non-null   float64\n",
            "dtypes: float64(3), int64(1), object(10)\n",
            "memory usage: 896.2+ KB\n"
          ]
        }
      ],
      "source": [
        "# 데이터셋 정보 확인\n",
        "df.info()"
      ]
    },
    {
      "cell_type": "code",
      "execution_count": 96,
      "metadata": {},
      "outputs": [
        {
          "data": {
            "text/html": [
              "<div>\n",
              "<style scoped>\n",
              "    .dataframe tbody tr th:only-of-type {\n",
              "        vertical-align: middle;\n",
              "    }\n",
              "\n",
              "    .dataframe tbody tr th {\n",
              "        vertical-align: top;\n",
              "    }\n",
              "\n",
              "    .dataframe thead th {\n",
              "        text-align: right;\n",
              "    }\n",
              "</style>\n",
              "<table border=\"1\" class=\"dataframe\">\n",
              "  <thead>\n",
              "    <tr style=\"text-align: right;\">\n",
              "      <th></th>\n",
              "      <th>매출</th>\n",
              "      <th>수량</th>\n",
              "      <th>할인율</th>\n",
              "      <th>이익</th>\n",
              "    </tr>\n",
              "  </thead>\n",
              "  <tbody>\n",
              "    <tr>\n",
              "      <th>count</th>\n",
              "      <td>8193.000000</td>\n",
              "      <td>8193.000000</td>\n",
              "      <td>8193.000000</td>\n",
              "      <td>8193.000000</td>\n",
              "    </tr>\n",
              "    <tr>\n",
              "      <th>mean</th>\n",
              "      <td>230.117066</td>\n",
              "      <td>3.781155</td>\n",
              "      <td>0.170120</td>\n",
              "      <td>25.083446</td>\n",
              "    </tr>\n",
              "    <tr>\n",
              "      <th>std</th>\n",
              "      <td>638.228711</td>\n",
              "      <td>2.234774</td>\n",
              "      <td>0.210732</td>\n",
              "      <td>232.751439</td>\n",
              "    </tr>\n",
              "    <tr>\n",
              "      <th>min</th>\n",
              "      <td>0.444000</td>\n",
              "      <td>1.000000</td>\n",
              "      <td>0.000000</td>\n",
              "      <td>-6599.978000</td>\n",
              "    </tr>\n",
              "    <tr>\n",
              "      <th>25%</th>\n",
              "      <td>16.980000</td>\n",
              "      <td>2.000000</td>\n",
              "      <td>0.000000</td>\n",
              "      <td>1.336500</td>\n",
              "    </tr>\n",
              "    <tr>\n",
              "      <th>50%</th>\n",
              "      <td>53.920000</td>\n",
              "      <td>3.000000</td>\n",
              "      <td>0.200000</td>\n",
              "      <td>7.920000</td>\n",
              "    </tr>\n",
              "    <tr>\n",
              "      <th>75%</th>\n",
              "      <td>209.700000</td>\n",
              "      <td>5.000000</td>\n",
              "      <td>0.200000</td>\n",
              "      <td>27.735000</td>\n",
              "    </tr>\n",
              "    <tr>\n",
              "      <th>max</th>\n",
              "      <td>22638.480000</td>\n",
              "      <td>14.000000</td>\n",
              "      <td>0.800000</td>\n",
              "      <td>8399.976000</td>\n",
              "    </tr>\n",
              "  </tbody>\n",
              "</table>\n",
              "</div>"
            ],
            "text/plain": [
              "                 매출           수량          할인율           이익\n",
              "count   8193.000000  8193.000000  8193.000000  8193.000000\n",
              "mean     230.117066     3.781155     0.170120    25.083446\n",
              "std      638.228711     2.234774     0.210732   232.751439\n",
              "min        0.444000     1.000000     0.000000 -6599.978000\n",
              "25%       16.980000     2.000000     0.000000     1.336500\n",
              "50%       53.920000     3.000000     0.200000     7.920000\n",
              "75%      209.700000     5.000000     0.200000    27.735000\n",
              "max    22638.480000    14.000000     0.800000  8399.976000"
            ]
          },
          "execution_count": 96,
          "metadata": {},
          "output_type": "execute_result"
        }
      ],
      "source": [
        "# 데이터셋 기술통계량 확인\n",
        "df.describe()"
      ]
    },
    {
      "cell_type": "code",
      "execution_count": 97,
      "metadata": {},
      "outputs": [
        {
          "data": {
            "text/html": [
              "<div>\n",
              "<style scoped>\n",
              "    .dataframe tbody tr th:only-of-type {\n",
              "        vertical-align: middle;\n",
              "    }\n",
              "\n",
              "    .dataframe tbody tr th {\n",
              "        vertical-align: top;\n",
              "    }\n",
              "\n",
              "    .dataframe thead th {\n",
              "        text-align: right;\n",
              "    }\n",
              "</style>\n",
              "<table border=\"1\" class=\"dataframe\">\n",
              "  <thead>\n",
              "    <tr style=\"text-align: right;\">\n",
              "      <th></th>\n",
              "      <th>매출</th>\n",
              "      <th>수량</th>\n",
              "      <th>할인율</th>\n",
              "      <th>이익</th>\n",
              "    </tr>\n",
              "  </thead>\n",
              "  <tbody>\n",
              "    <tr>\n",
              "      <th>매출</th>\n",
              "      <td>1.000000</td>\n",
              "      <td>0.201690</td>\n",
              "      <td>-0.025881</td>\n",
              "      <td>0.436122</td>\n",
              "    </tr>\n",
              "    <tr>\n",
              "      <th>수량</th>\n",
              "      <td>0.201690</td>\n",
              "      <td>1.000000</td>\n",
              "      <td>0.012653</td>\n",
              "      <td>0.061752</td>\n",
              "    </tr>\n",
              "    <tr>\n",
              "      <th>할인율</th>\n",
              "      <td>-0.025881</td>\n",
              "      <td>0.012653</td>\n",
              "      <td>1.000000</td>\n",
              "      <td>-0.215953</td>\n",
              "    </tr>\n",
              "    <tr>\n",
              "      <th>이익</th>\n",
              "      <td>0.436122</td>\n",
              "      <td>0.061752</td>\n",
              "      <td>-0.215953</td>\n",
              "      <td>1.000000</td>\n",
              "    </tr>\n",
              "  </tbody>\n",
              "</table>\n",
              "</div>"
            ],
            "text/plain": [
              "           매출        수량       할인율        이익\n",
              "매출   1.000000  0.201690 -0.025881  0.436122\n",
              "수량   0.201690  1.000000  0.012653  0.061752\n",
              "할인율 -0.025881  0.012653  1.000000 -0.215953\n",
              "이익   0.436122  0.061752 -0.215953  1.000000"
            ]
          },
          "execution_count": 97,
          "metadata": {},
          "output_type": "execute_result"
        }
      ],
      "source": [
        "# 데이터셋 상관계수 행렬 계산\n",
        "corr_matrix = df.corr(numeric_only=True)\n",
        "corr_matrix"
      ]
    },
    {
      "cell_type": "code",
      "execution_count": 98,
      "metadata": {},
      "outputs": [
        {
          "data": {
            "application/vnd.plotly.v1+json": {
              "config": {
                "plotlyServerURL": "https://plot.ly"
              },
              "data": [
                {
                  "coloraxis": "coloraxis",
                  "hovertemplate": "x: %{x}<br>y: %{y}<br>color: %{z}<extra></extra>",
                  "name": "0",
                  "texttemplate": "%{z}",
                  "type": "heatmap",
                  "x": [
                    "매출",
                    "수량",
                    "할인율",
                    "이익"
                  ],
                  "xaxis": "x",
                  "y": [
                    "매출",
                    "수량",
                    "할인율",
                    "이익"
                  ],
                  "yaxis": "y",
                  "z": {
                    "bdata": "AAAAAAAA8D9wPfpz+NDJP1171SeigJq/V6dw4mzp2z9wPfpz+NDJPwAAAAAAAPA/8I/WJ9LpiT/R+KC9952vP1171SeigJq/8I/WJ9LpiT8AAAAAAADwP/UBYfFbpMu/V6dw4mzp2z/R+KC9952vP/UBYfFbpMu/AAAAAAAA8D8=",
                    "dtype": "f8",
                    "shape": "4, 4"
                  }
                }
              ],
              "layout": {
                "coloraxis": {
                  "cmax": 1,
                  "cmin": 1,
                  "colorscale": [
                    [
                      0,
                      "#440154"
                    ],
                    [
                      0.1111111111111111,
                      "#482878"
                    ],
                    [
                      0.2222222222222222,
                      "#3e4989"
                    ],
                    [
                      0.3333333333333333,
                      "#31688e"
                    ],
                    [
                      0.4444444444444444,
                      "#26828e"
                    ],
                    [
                      0.5555555555555556,
                      "#1f9e89"
                    ],
                    [
                      0.6666666666666666,
                      "#35b779"
                    ],
                    [
                      0.7777777777777778,
                      "#6ece58"
                    ],
                    [
                      0.8888888888888888,
                      "#b5de2b"
                    ],
                    [
                      1,
                      "#fde725"
                    ]
                  ]
                },
                "template": {
                  "data": {
                    "bar": [
                      {
                        "error_x": {
                          "color": "#2a3f5f"
                        },
                        "error_y": {
                          "color": "#2a3f5f"
                        },
                        "marker": {
                          "line": {
                            "color": "#E5ECF6",
                            "width": 0.5
                          },
                          "pattern": {
                            "fillmode": "overlay",
                            "size": 10,
                            "solidity": 0.2
                          }
                        },
                        "type": "bar"
                      }
                    ],
                    "barpolar": [
                      {
                        "marker": {
                          "line": {
                            "color": "#E5ECF6",
                            "width": 0.5
                          },
                          "pattern": {
                            "fillmode": "overlay",
                            "size": 10,
                            "solidity": 0.2
                          }
                        },
                        "type": "barpolar"
                      }
                    ],
                    "carpet": [
                      {
                        "aaxis": {
                          "endlinecolor": "#2a3f5f",
                          "gridcolor": "white",
                          "linecolor": "white",
                          "minorgridcolor": "white",
                          "startlinecolor": "#2a3f5f"
                        },
                        "baxis": {
                          "endlinecolor": "#2a3f5f",
                          "gridcolor": "white",
                          "linecolor": "white",
                          "minorgridcolor": "white",
                          "startlinecolor": "#2a3f5f"
                        },
                        "type": "carpet"
                      }
                    ],
                    "choropleth": [
                      {
                        "colorbar": {
                          "outlinewidth": 0,
                          "ticks": ""
                        },
                        "type": "choropleth"
                      }
                    ],
                    "contour": [
                      {
                        "colorbar": {
                          "outlinewidth": 0,
                          "ticks": ""
                        },
                        "colorscale": [
                          [
                            0,
                            "#0d0887"
                          ],
                          [
                            0.1111111111111111,
                            "#46039f"
                          ],
                          [
                            0.2222222222222222,
                            "#7201a8"
                          ],
                          [
                            0.3333333333333333,
                            "#9c179e"
                          ],
                          [
                            0.4444444444444444,
                            "#bd3786"
                          ],
                          [
                            0.5555555555555556,
                            "#d8576b"
                          ],
                          [
                            0.6666666666666666,
                            "#ed7953"
                          ],
                          [
                            0.7777777777777778,
                            "#fb9f3a"
                          ],
                          [
                            0.8888888888888888,
                            "#fdca26"
                          ],
                          [
                            1,
                            "#f0f921"
                          ]
                        ],
                        "type": "contour"
                      }
                    ],
                    "contourcarpet": [
                      {
                        "colorbar": {
                          "outlinewidth": 0,
                          "ticks": ""
                        },
                        "type": "contourcarpet"
                      }
                    ],
                    "heatmap": [
                      {
                        "colorbar": {
                          "outlinewidth": 0,
                          "ticks": ""
                        },
                        "colorscale": [
                          [
                            0,
                            "#0d0887"
                          ],
                          [
                            0.1111111111111111,
                            "#46039f"
                          ],
                          [
                            0.2222222222222222,
                            "#7201a8"
                          ],
                          [
                            0.3333333333333333,
                            "#9c179e"
                          ],
                          [
                            0.4444444444444444,
                            "#bd3786"
                          ],
                          [
                            0.5555555555555556,
                            "#d8576b"
                          ],
                          [
                            0.6666666666666666,
                            "#ed7953"
                          ],
                          [
                            0.7777777777777778,
                            "#fb9f3a"
                          ],
                          [
                            0.8888888888888888,
                            "#fdca26"
                          ],
                          [
                            1,
                            "#f0f921"
                          ]
                        ],
                        "type": "heatmap"
                      }
                    ],
                    "histogram": [
                      {
                        "marker": {
                          "pattern": {
                            "fillmode": "overlay",
                            "size": 10,
                            "solidity": 0.2
                          }
                        },
                        "type": "histogram"
                      }
                    ],
                    "histogram2d": [
                      {
                        "colorbar": {
                          "outlinewidth": 0,
                          "ticks": ""
                        },
                        "colorscale": [
                          [
                            0,
                            "#0d0887"
                          ],
                          [
                            0.1111111111111111,
                            "#46039f"
                          ],
                          [
                            0.2222222222222222,
                            "#7201a8"
                          ],
                          [
                            0.3333333333333333,
                            "#9c179e"
                          ],
                          [
                            0.4444444444444444,
                            "#bd3786"
                          ],
                          [
                            0.5555555555555556,
                            "#d8576b"
                          ],
                          [
                            0.6666666666666666,
                            "#ed7953"
                          ],
                          [
                            0.7777777777777778,
                            "#fb9f3a"
                          ],
                          [
                            0.8888888888888888,
                            "#fdca26"
                          ],
                          [
                            1,
                            "#f0f921"
                          ]
                        ],
                        "type": "histogram2d"
                      }
                    ],
                    "histogram2dcontour": [
                      {
                        "colorbar": {
                          "outlinewidth": 0,
                          "ticks": ""
                        },
                        "colorscale": [
                          [
                            0,
                            "#0d0887"
                          ],
                          [
                            0.1111111111111111,
                            "#46039f"
                          ],
                          [
                            0.2222222222222222,
                            "#7201a8"
                          ],
                          [
                            0.3333333333333333,
                            "#9c179e"
                          ],
                          [
                            0.4444444444444444,
                            "#bd3786"
                          ],
                          [
                            0.5555555555555556,
                            "#d8576b"
                          ],
                          [
                            0.6666666666666666,
                            "#ed7953"
                          ],
                          [
                            0.7777777777777778,
                            "#fb9f3a"
                          ],
                          [
                            0.8888888888888888,
                            "#fdca26"
                          ],
                          [
                            1,
                            "#f0f921"
                          ]
                        ],
                        "type": "histogram2dcontour"
                      }
                    ],
                    "mesh3d": [
                      {
                        "colorbar": {
                          "outlinewidth": 0,
                          "ticks": ""
                        },
                        "type": "mesh3d"
                      }
                    ],
                    "parcoords": [
                      {
                        "line": {
                          "colorbar": {
                            "outlinewidth": 0,
                            "ticks": ""
                          }
                        },
                        "type": "parcoords"
                      }
                    ],
                    "pie": [
                      {
                        "automargin": true,
                        "type": "pie"
                      }
                    ],
                    "scatter": [
                      {
                        "fillpattern": {
                          "fillmode": "overlay",
                          "size": 10,
                          "solidity": 0.2
                        },
                        "type": "scatter"
                      }
                    ],
                    "scatter3d": [
                      {
                        "line": {
                          "colorbar": {
                            "outlinewidth": 0,
                            "ticks": ""
                          }
                        },
                        "marker": {
                          "colorbar": {
                            "outlinewidth": 0,
                            "ticks": ""
                          }
                        },
                        "type": "scatter3d"
                      }
                    ],
                    "scattercarpet": [
                      {
                        "marker": {
                          "colorbar": {
                            "outlinewidth": 0,
                            "ticks": ""
                          }
                        },
                        "type": "scattercarpet"
                      }
                    ],
                    "scattergeo": [
                      {
                        "marker": {
                          "colorbar": {
                            "outlinewidth": 0,
                            "ticks": ""
                          }
                        },
                        "type": "scattergeo"
                      }
                    ],
                    "scattergl": [
                      {
                        "marker": {
                          "colorbar": {
                            "outlinewidth": 0,
                            "ticks": ""
                          }
                        },
                        "type": "scattergl"
                      }
                    ],
                    "scattermap": [
                      {
                        "marker": {
                          "colorbar": {
                            "outlinewidth": 0,
                            "ticks": ""
                          }
                        },
                        "type": "scattermap"
                      }
                    ],
                    "scattermapbox": [
                      {
                        "marker": {
                          "colorbar": {
                            "outlinewidth": 0,
                            "ticks": ""
                          }
                        },
                        "type": "scattermapbox"
                      }
                    ],
                    "scatterpolar": [
                      {
                        "marker": {
                          "colorbar": {
                            "outlinewidth": 0,
                            "ticks": ""
                          }
                        },
                        "type": "scatterpolar"
                      }
                    ],
                    "scatterpolargl": [
                      {
                        "marker": {
                          "colorbar": {
                            "outlinewidth": 0,
                            "ticks": ""
                          }
                        },
                        "type": "scatterpolargl"
                      }
                    ],
                    "scatterternary": [
                      {
                        "marker": {
                          "colorbar": {
                            "outlinewidth": 0,
                            "ticks": ""
                          }
                        },
                        "type": "scatterternary"
                      }
                    ],
                    "surface": [
                      {
                        "colorbar": {
                          "outlinewidth": 0,
                          "ticks": ""
                        },
                        "colorscale": [
                          [
                            0,
                            "#0d0887"
                          ],
                          [
                            0.1111111111111111,
                            "#46039f"
                          ],
                          [
                            0.2222222222222222,
                            "#7201a8"
                          ],
                          [
                            0.3333333333333333,
                            "#9c179e"
                          ],
                          [
                            0.4444444444444444,
                            "#bd3786"
                          ],
                          [
                            0.5555555555555556,
                            "#d8576b"
                          ],
                          [
                            0.6666666666666666,
                            "#ed7953"
                          ],
                          [
                            0.7777777777777778,
                            "#fb9f3a"
                          ],
                          [
                            0.8888888888888888,
                            "#fdca26"
                          ],
                          [
                            1,
                            "#f0f921"
                          ]
                        ],
                        "type": "surface"
                      }
                    ],
                    "table": [
                      {
                        "cells": {
                          "fill": {
                            "color": "#EBF0F8"
                          },
                          "line": {
                            "color": "white"
                          }
                        },
                        "header": {
                          "fill": {
                            "color": "#C8D4E3"
                          },
                          "line": {
                            "color": "white"
                          }
                        },
                        "type": "table"
                      }
                    ]
                  },
                  "layout": {
                    "annotationdefaults": {
                      "arrowcolor": "#2a3f5f",
                      "arrowhead": 0,
                      "arrowwidth": 1
                    },
                    "autotypenumbers": "strict",
                    "coloraxis": {
                      "colorbar": {
                        "outlinewidth": 0,
                        "ticks": ""
                      }
                    },
                    "colorscale": {
                      "diverging": [
                        [
                          0,
                          "#8e0152"
                        ],
                        [
                          0.1,
                          "#c51b7d"
                        ],
                        [
                          0.2,
                          "#de77ae"
                        ],
                        [
                          0.3,
                          "#f1b6da"
                        ],
                        [
                          0.4,
                          "#fde0ef"
                        ],
                        [
                          0.5,
                          "#f7f7f7"
                        ],
                        [
                          0.6,
                          "#e6f5d0"
                        ],
                        [
                          0.7,
                          "#b8e186"
                        ],
                        [
                          0.8,
                          "#7fbc41"
                        ],
                        [
                          0.9,
                          "#4d9221"
                        ],
                        [
                          1,
                          "#276419"
                        ]
                      ],
                      "sequential": [
                        [
                          0,
                          "#0d0887"
                        ],
                        [
                          0.1111111111111111,
                          "#46039f"
                        ],
                        [
                          0.2222222222222222,
                          "#7201a8"
                        ],
                        [
                          0.3333333333333333,
                          "#9c179e"
                        ],
                        [
                          0.4444444444444444,
                          "#bd3786"
                        ],
                        [
                          0.5555555555555556,
                          "#d8576b"
                        ],
                        [
                          0.6666666666666666,
                          "#ed7953"
                        ],
                        [
                          0.7777777777777778,
                          "#fb9f3a"
                        ],
                        [
                          0.8888888888888888,
                          "#fdca26"
                        ],
                        [
                          1,
                          "#f0f921"
                        ]
                      ],
                      "sequentialminus": [
                        [
                          0,
                          "#0d0887"
                        ],
                        [
                          0.1111111111111111,
                          "#46039f"
                        ],
                        [
                          0.2222222222222222,
                          "#7201a8"
                        ],
                        [
                          0.3333333333333333,
                          "#9c179e"
                        ],
                        [
                          0.4444444444444444,
                          "#bd3786"
                        ],
                        [
                          0.5555555555555556,
                          "#d8576b"
                        ],
                        [
                          0.6666666666666666,
                          "#ed7953"
                        ],
                        [
                          0.7777777777777778,
                          "#fb9f3a"
                        ],
                        [
                          0.8888888888888888,
                          "#fdca26"
                        ],
                        [
                          1,
                          "#f0f921"
                        ]
                      ]
                    },
                    "colorway": [
                      "#636efa",
                      "#EF553B",
                      "#00cc96",
                      "#ab63fa",
                      "#FFA15A",
                      "#19d3f3",
                      "#FF6692",
                      "#B6E880",
                      "#FF97FF",
                      "#FECB52"
                    ],
                    "font": {
                      "color": "#2a3f5f"
                    },
                    "geo": {
                      "bgcolor": "white",
                      "lakecolor": "white",
                      "landcolor": "#E5ECF6",
                      "showlakes": true,
                      "showland": true,
                      "subunitcolor": "white"
                    },
                    "hoverlabel": {
                      "align": "left"
                    },
                    "hovermode": "closest",
                    "mapbox": {
                      "style": "light"
                    },
                    "paper_bgcolor": "white",
                    "plot_bgcolor": "#E5ECF6",
                    "polar": {
                      "angularaxis": {
                        "gridcolor": "white",
                        "linecolor": "white",
                        "ticks": ""
                      },
                      "bgcolor": "#E5ECF6",
                      "radialaxis": {
                        "gridcolor": "white",
                        "linecolor": "white",
                        "ticks": ""
                      }
                    },
                    "scene": {
                      "xaxis": {
                        "backgroundcolor": "#E5ECF6",
                        "gridcolor": "white",
                        "gridwidth": 2,
                        "linecolor": "white",
                        "showbackground": true,
                        "ticks": "",
                        "zerolinecolor": "white"
                      },
                      "yaxis": {
                        "backgroundcolor": "#E5ECF6",
                        "gridcolor": "white",
                        "gridwidth": 2,
                        "linecolor": "white",
                        "showbackground": true,
                        "ticks": "",
                        "zerolinecolor": "white"
                      },
                      "zaxis": {
                        "backgroundcolor": "#E5ECF6",
                        "gridcolor": "white",
                        "gridwidth": 2,
                        "linecolor": "white",
                        "showbackground": true,
                        "ticks": "",
                        "zerolinecolor": "white"
                      }
                    },
                    "shapedefaults": {
                      "line": {
                        "color": "#2a3f5f"
                      }
                    },
                    "ternary": {
                      "aaxis": {
                        "gridcolor": "white",
                        "linecolor": "white",
                        "ticks": ""
                      },
                      "baxis": {
                        "gridcolor": "white",
                        "linecolor": "white",
                        "ticks": ""
                      },
                      "bgcolor": "#E5ECF6",
                      "caxis": {
                        "gridcolor": "white",
                        "linecolor": "white",
                        "ticks": ""
                      }
                    },
                    "title": {
                      "x": 0.05
                    },
                    "xaxis": {
                      "automargin": true,
                      "gridcolor": "white",
                      "linecolor": "white",
                      "ticks": "",
                      "title": {
                        "standoff": 15
                      },
                      "zerolinecolor": "white",
                      "zerolinewidth": 2
                    },
                    "yaxis": {
                      "automargin": true,
                      "gridcolor": "white",
                      "linecolor": "white",
                      "ticks": "",
                      "title": {
                        "standoff": 15
                      },
                      "zerolinecolor": "white",
                      "zerolinewidth": 2
                    }
                  }
                },
                "title": {
                  "text": "상관계수 히트맵"
                },
                "xaxis": {
                  "anchor": "y",
                  "domain": [
                    0,
                    1
                  ],
                  "side": "top"
                },
                "yaxis": {
                  "anchor": "x",
                  "autorange": "reversed",
                  "domain": [
                    0,
                    1
                  ]
                }
              }
            }
          },
          "metadata": {},
          "output_type": "display_data"
        }
      ],
      "source": [
        "# 데이터셋 상관계수 행렬 시각화\n",
        "fig_heatmap = px.imshow(corr_matrix,\n",
        "                        text_auto=True,\n",
        "                        aspect='auto',\n",
        "                        title='상관계수 히트맵',\n",
        "                        color_continuous_scale='Viridis',\n",
        "                        zmin=1, zmax=1)\n",
        "fig_heatmap.update_xaxes(side='top')\n",
        "fig_heatmap.show()"
      ]
    },
    {
      "cell_type": "code",
      "execution_count": 100,
      "metadata": {},
      "outputs": [
        {
          "data": {
            "application/vnd.plotly.v1+json": {
              "config": {
                "plotlyServerURL": "https://plot.ly"
              },
              "data": [
                {
                  "hovertemplate": "매출=%{x}<br>이익=%{y}<extra></extra>",
                  "legendgroup": "",
                  "marker": {
                    "color": "#636efa",
                    "symbol": "circle"
                  },
                  "mode": "markers",
                  "name": "",
                  "showlegend": false,
                  "type": "scattergl",
                  "x": {
                    "bdata": "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",
                    "dtype": "f8"
                  },
                  "xaxis": "x",
                  "y": {
                    "bdata": "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",
                    "dtype": "f8"
                  },
                  "yaxis": "y"
                },
                {
                  "hovertemplate": "<b>OLS trendline</b><br>이익 = 0.159047 * 매출 + -11.5159<br>R<sup>2</sup>=0.190203<br><br>매출=%{x}<br>이익=%{y} <b>(trend)</b><extra></extra>",
                  "legendgroup": "",
                  "marker": {
                    "color": "#636efa",
                    "symbol": "circle"
                  },
                  "mode": "lines",
                  "name": "",
                  "showlegend": false,
                  "type": "scattergl",
                  "x": {
                    "bdata": "0SLb+X5q3D+YbhKDwMrhP42XbhKDwOo/3SQGgZVD6z/VeOkmMQjsPyPb+X5qvOw/sHJoke187z+uR+F6FK7vP05iEFg5tPA/SOF6FK5H8T+YbhKDwMrxP3npJjEIrPI/NV66SQwC8z81XrpJDALzP99PjZduEvM/WDm0yHa+8z/Xo3A9CtfzPyuHFtnO9/M/K4cW2c738z8nMQisHFr0Pxsv3SQGgfU/Gy/dJAaB9T8bL90kBoH1Pxsv3SQGgfU/mG4Sg8DK9T/Xo3A9Ctf1PxKDwMqhRfY/ukkMAiuH9j+6SQwCK4f2PwrXo3A9Cvc/XrpJDAIr9z8EVg4tsp33PwRWDi2ynfc/qvHSTWIQ+D/8qfHSTWL4P0w3iUFg5fg/Rrbz/dR4+T+WQ4ts5/v5P+kmMQisHPo/qMZLN4lB+j/hehSuR+H6P+F6FK5H4fo/iUFg5dAi+z+F61G4HoX7P9nO91Pjpfs/2c73U+Ol+z/ZzvdT46X7P4GVQ4ts5/s/1XjpJjEI/D97FK5H4Xr8P8/3U+Olm/w/z/dT46Wb/D/P91PjpZv8P83MzMzMzPw/9ihcj8L1/D/2KFyPwvX8P8l2vp8aL/0/gZVDi2zn/T/ByqFFtvP9PxKDwMqhRf4/ukkMAiuH/j+6SQwCK4f+PwwCK4cW2f4/dZMYBFYO/z+0yHa+nxr/PwaBlUOLbP8/BoGVQ4ts/z+uR+F6FK7/P1g5tMh2vv8/AiuHFtnO/z9WDi2yne//PzMzMzMzMwBAqMZLN4lBAEDy0k1iEFgAQFCNl24SgwBAJQaBlUOLAED6fmq8dJMAQKRwPQrXowBATmIQWDm0AEBMN4lBYOUAQNv5fmq8dAFAmpmZmZmZAUAEVg4tsp0BQK5H4XoUrgFAg8DKoUW2AUDpJjEIrBwCQH0/NV66SQJAfT81XrpJAkCR7Xw/NV4CQJHtfD81XgJAO99PjZduAkA730+Nl24CQDvfT42XbgJAEFg5tMh2AkAbL90kBoECQDm0yHa+nwJAObTIdr6fAkB56SYxCKwCQIts5/up8QJAi2zn+6nxAkA1XrpJDAIDQDVeukkMAgNAtMh2vp8aA0D0/dR46SYDQLKd76fGSwNAg8DKoUW2A0DXo3A9CtcDQCuHFtnO9wNAarx0kxgEBEBqvHSTGAQEQGq8dJMYBARAf2q8dJMYBEApXI/C9SgEQClcj8L1KARAJzEIrBxaBECmm8QgsHIEQOF6FK5H4QRA4XoUrkfhBEDhehSuR+EEQMuhRbbz/QRAy6FFtvP9BEDLoUW28/0EQMuhRbbz/QRAoBov3SQGBUB1kxgEVg4FQD0K16NwPQVAx0s3iUFgBUDHSzeJQWAFQBsv3SQGgQVAGy/dJAaBBUAbL90kBoEFQBsv3SQGgQVAWmQ730+NBUBaZDvfT40FQMUgsHJokQVAmG4Sg8DKBUCYbhKDwMoFQJhuEoPAygVA7FG4HoXrBUCTGARWDi0GQD0K16NwPQZAPQrXo3A9BkA9CtejcD0GQD0K16NwPQZAEoPAyqFFBkAQWDm0yHYGQBBYObTIdgZAukkMAiuHBkC4HoXrUbgGQEw3iUFg5QZAtvP91HjpBkAK16NwPQoHQArXo3A9CgdACtejcD0KB0AK16NwPQoHQArXo3A9CgdACtejcD0KB0AfhetRuB4HQB+F61G4HgdAiUFg5dAiB0CJQWDl0CIHQF66SQwCKwdAXrpJDAIrB0BeukkMAisHQF66SQwCKwdAqMZLN4lBB0BI4XoUrkcHQLKd76fGSwdAsp3vp8ZLB0Bcj8L1KFwHQFyPwvUoXAdARrbz/dR4B0BGtvP91HgHQIXrUbgehQdAWmQ730+NB0DFILByaJEHQMUgsHJokQdAxSCwcmiRB0AEVg4tsp0HQARWDi2ynQdArkfhehSuB0CuR+F6FK4HQK5H4XoUrgdAw/UoXI/CB0DD9Shcj8IHQFYOLbKd7wdAVg4tsp3vB0AAAAAAAAAIQKrx0k1iEAhAqvHSTWIQCEB9PzVeukkIQH0/NV66SQhAUrgehetRCED8qfHSTWIIQPyp8dJNYghApHA9CtejCECiRbbz/dQIQHWTGARWDglASgwCK4cWCUAzMzMzMzMJQDMzMzMzMwlAMzMzMzMzCUCe76fGSzcJQEjhehSuRwlA8tJNYhBYCUDy0k1iEFgJQPLSTWIQWAlA8tJNYhBYCUDy0k1iEFgJQJqZmZmZmQlAbxKDwMqhCUBEi2zn+6kJQOxRuB6F6wlA6SYxCKwcCkDpJjEIrBwKQMl2vp8aLwpAPQrXo3A9CkA9CtejcD0KQD0K16NwPQpAqMZLN4lBCkCoxks3iUEKQFK4HoXrUQpAO99PjZduCkA730+Nl24KQOXQItv5fgpAJQaBlUOLCkAlBoGVQ4sKQDm0yHa+nwpAObTIdr6fCkDhehSuR+EKQOF6FK5H4QpAIbByaJHtCkAK16NwPQoLQIlBYOXQIgtAMQisHFpkC0AxCKwcWmQLQBsv3SQGgQtAhetRuB6FC0BaZDvfT40LQFpkO99PjQtA16NwPQrXC0AX2c73U+MLQIGVQ4ts5wtAgZVDi2znC0CBlUOLbOcLQClcj8L1KAxAKVyPwvUoDEApXI/C9SgMQClcj8L1KAxA001iEFg5DEB9PzVeukkMQFK4HoXrUQxA0SLb+X5qDEDRItv5fmoMQNEi2/l+agxAUI2XbhKDDEBQjZduEoMMQFCNl24SgwxAUI2XbhKDDEDP91PjpZsMQCPb+X5qvAxAI9v5fmq8DEAj2/l+arwMQM3MzMzMzAxA9ihcj8L1DEAfhetRuB4NQB+F61G4Hg1AH4XrUbgeDUDJdr6fGi8NQMl2vp8aLw1Ac2iR7Xw/DUBxPQrXo3ANQIXrUbgehQ1AwcqhRbbzDUDByqFFtvMNQAAAAAAAAA5AFK5H4XoUDkAUrkfhehQOQBSuR+F6FA5AFK5H4XoUDkB/arx0kxgOQH9qvHSTGA5Avp8aL90kDkD8qfHSTWIOQPyp8dJNYg5A/Knx0k1iDkAQWDm0yHYOQLpJDAIrhw5AObTIdr6fDkB1kxgEVg4PQHWTGARWDg9AdZMYBFYOD0AfhetRuB4PQDMzMzMzMw9AMzMzMzMzD0Cyne+nxksPQLKd76fGSw9Asp3vp8ZLD0AGgZVDi2wPQK5H4XoUrg9ArkfhehSuD0CuR+F6FK4PQK5H4XoUrg9A16NwPQrXD0CsHFpkO98PQKwcWmQ73w9ArBxaZDvfD0CsHFpkO98PQKwcWmQ73w9AFK5H4XoUEEAUrkfhehQQQFTjpZvEIBBAkxgEVg4tEECoxks3iUEQQFK4HoXrURBA8tJNYhBYEEDhehSuR2EQQIXrUbgehRBAhetRuB6FEED6fmq8dJMQQKRwPQrXoxBApHA9CtejEEBOYhBYObQQQLgehetRuBBAzczMzMzMEEBMN4lBYOUQQPYoXI/C9RBACtejcD0KEUBKDAIrhxYRQLTIdr6fGhFAH4XrUbgeEUCe76fGSzcRQHNoke18PxFAc2iR7Xw/EUBI4XoUrkcRQMdLN4lBYBFAx0s3iUFgEUAGgZVDi2wRQHE9CtejcBFAcT0K16NwEUBxPQrXo3ARQHE9CtejcBFARrbz/dR4EUBGtvP91HgRQEa28/3UeBFAtMh2vp+aEUCkcD0K16MRQESLbOf7qRFAkxgEVg6tEUCTGARWDq0RQIPAyqFFthFAmG4Sg8DKEUCYbhKDwMoRQJhuEoPAyhFAmG4Sg8DKEUCYbhKDwMoRQEJg5dAi2xFAQmDl0CLbEUBCYOXQItsRQOF6FK5H4RFAwcqhRbbzEUBQjZduEgMSQL6fGi/dJBJAKVyPwvUoEkCTGARWDi0SQJ7vp8ZLNxJAfT81XrpJEkBmZmZmZmYSQDvfT42XbhJAO99PjZduEkA730+Nl24SQDvfT42XbhJAO99PjZduEkA730+Nl24SQBBYObTIdhJA5dAi2/l+EkDl0CLb+X4SQOXQItv5fhJAGy/dJAaBEkA5tMh2vp8SQKRwPQrXoxJA2c73U+OlEkDjpZvEILASQOOlm8QgsBJA46WbxCCwEkAMAiuHFtkSQAwCK4cW2RJA4XoUrkfhEkDsUbgehesSQDVeukkMAhNANV66SQwCE0A1XrpJDAITQN9PjZduEhNA30+Nl24SE0DfT42XbhITQN9PjZduEhNAiUFg5dAiE0D0/dR46SYTQHNoke18PxNAsp3vp8ZLE0CHFtnO91MTQPLSTWIQWBNAke18PzVeE0CR7Xw/NV4TQHE9CtejcBNAj8L1KFyPE0Av3SQGgZUTQC/dJAaBlRNAL90kBoGVE0CkcD0K16MTQKRwPQrXoxNA2c73U+OlE0CuR+F6FK4TQP7UeOkmsRNAg8DKoUW2E0CDwMqhRbYTQIPAyqFFthNAg8DKoUW2E0CDwMqhRbYTQIPAyqFFthNAjZduEoPAE0DNzMzMzMwTQM3MzMzMzBNAbef7qfHSE0DXo3A9CtcTQOxRuB6F6xNA7FG4HoXrE0BWDi2yne8TQCuHFtnO9xNAK4cW2c73E0ArhxbZzvcTQAAAAAAAABRAKVyPwvUoFEApXI/C9SgUQClcj8L1KBRAKVyPwvUoFEApXI/C9SgUQClcj8L1KBRAKVyPwvUoFEApXI/C9SgUQClcj8L1KBRAUrgehetRFEDRItv5fmoUQNEi2/l+ahRApHA9CtejFECkcD0K16MUQE5iEFg5tBRAuB6F61G4FEAj2/l+arwUQCPb+X5qvBRAI9v5fmq8FEAj2/l+arwUQCPb+X5qvBRAI9v5fmq8FEAj2/l+arwUQCPb+X5qvBRAI9v5fmq8FEASg8DKocUUQM3MzMzMzBRAQmDl0CLbFEBCYOXQItsUQOF6FK5H4RRA4XoUrkfhFEDRItv5fuoUQCGwcmiR7RRAIbByaJHtFEDByqFFtvMUQMuhRbbz/RRAy6FFtvP9FEDLoUW28/0UQMuhRbbz/RRAy6FFtvP9FEDLoUW28/0UQB+F61G4HhVAH4XrUbgeFUAfhetRuB4VQB+F61G4HhVAH4XrUbgeFUAfhetRuB4VQJ7vp8ZLNxVAc2iR7Xw/FUBI4XoUrkcVQB1aZDvfTxVAx0s3iUFgFUDHSzeJQWAVQMdLN4lBYBVAx0s3iUFgFUDHSzeJQWAVQMdLN4lBYBVA/Knx0k1iFUCcxCCwcmgVQFpkO99PjRVAuB6F61G4FUDufD81XroVQNejcD0K1xVA16NwPQrXFUDXo3A9CtcVQOF6FK5H4RVAF9nO91PjFUAX2c73U+MVQOxRuB6F6xVAVg4tsp3vFUCTGARWDi0WQGiR7Xw/NRZAaJHtfD81FkCDwMqhRTYWQD0K16NwPRZAPQrXo3A9FkA9CtejcD0WQD0K16NwPRZAPQrXo3A9FkA9CtejcD0WQD0K16NwPRZAPQrXo3A9FkA9CtejcD0WQD0K16NwPRZAUrgehetRFkBSuB6F61EWQFK4HoXrURZAvHSTGARWFkC8dJMYBFYWQCcxCKwcWhZAIbByaJFtFkAhsHJokW0WQI/C9ShcjxZAj8L1KFyPFkCuR+F6FK4WQK5H4XoUrhZAuB6F61G4FkC4HoXrUbgWQM3MzMzMzBZAXI/C9SjcFkBcj8L1KNwWQFyPwvUo3BZAtvP91HjpFkArhxbZzvcWQArXo3A9ChdACtejcD0KF0AK16NwPQoXQArXo3A9ChdACtejcD0KF0AK16NwPQoXQArXo3A9ChdACtejcD0KF0AK16NwPQoXQArXo3A9ChdA30+Nl24SF0AfhetRuB4XQB+F61G4HhdAH4XrUbgeF0AfhetRuB4XQF66SQwCKxdAMzMzMzMzF0AzMzMzMzMXQEjhehSuRxdAXI/C9ShcF0Bcj8L1KFwXQFyPwvUoXBdAsHJoke18F0CF61G4HoUXQIXrUbgehRdAhetRuB6FF0CF61G4HoUXQIXrUbgehRdAWmQ730+NF0DFILByaJEXQARWDi2ynRdABFYOLbKdF0AEVg4tsp0XQARWDi2ynRdABFYOLbKdF0AEVg4tsp0XQK5H4XoUrhdAWDm0yHa+F0DD9Shcj8IXQMP1KFyPwhdAw/UoXI/CF0DD9Shcj8IXQM3MzMzMzBdAAiuHFtnOF0DXo3A9CtcXQNejcD0K1xdA4XoUrkfhF0DsUbgehesXQOxRuB6F6xdA7FG4HoXrF0DsUbgehesXQOxRuB6F6xdAVg4tsp3vF0BWDi2yne8XQFYOLbKd7xdAAAAAAAAAGEAAAAAAAAAYQAAAAAAAABhAH4XrUbgeGED+1HjpJjEYQP7UeOkmMRhA/tR46SYxGEBSuB6F61EYQFK4HoXrURhAUrgehetRGEBSuB6F61EYQPyp8dJNYhhA/Knx0k1iGED8qfHSTWIYQPyp8dJNYhhA/Knx0k1iGEDRItv5fmoYQHsUrkfhehhApHA9CtejGECkcD0K16MYQKRwPQrXoxhApHA9CtejGECkcD0K16MYQKRwPQrXoxhA+FPjpZvEGECiRbbz/dQYQHe+nxov3RhAd76fGi/dGEDsUbgehesYQPYoXI/C9RhA9ihcj8L1GED2KFyPwvUYQPYoXI/C9RhA1XjpJjEIGUB1kxgEVg4ZQHWTGARWDhlAdZMYBFYOGUAUrkfhehQZQB+F61G4HhlAH4XrUbgeGUC+nxov3SQZQJMYBFYOLRlAMzMzMzMzGUAzMzMzMzMZQN0kBoGVQxlAUrgehetRGUBxPQrXo3AZQEa28/3UeBlARrbz/dR4GUBGtvP91HgZQEa28/3UeBlARrbz/dR4GUB7FK5H4XoZQPCnxks3iRlAbxKDwMqhGUBvEoPAyqEZQG8Sg8DKoRlAQmDl0CLbGUDhehSuR+EZQOxRuB6F6xlA7FG4HoXrGUDsUbgehesZQOxRuB6F6xlA7FG4HoXrGUDsUbgehesZQOxRuB6F6xlA7FG4HoXrGUDsUbgehesZQOxRuB6F6xlA7FG4HoXrGUDsUbgehesZQOxRuB6F6xlA7FG4HoXrGUDsUbgehesZQOxRuB6F6xlA6SYxCKwcGkApXI/C9SgaQClcj8L1KBpAPQrXo3A9GkA9CtejcD0aQD0K16NwPRpAPQrXo3A9GkBI4XoUrkcaQEjhehSuRxpA5/up8dJNGkBSuB6F61EaQCcxCKwcWhpAZmZmZmZmGkA730+Nl24aQDvfT42XbhpAhetRuB6FGkCF61G4HoUaQIXrUbgehRpAhetRuB6FGkCF61G4HoUaQMUgsHJokRpA46WbxCCwGkDjpZvEILAaQOOlm8QgsBpA46WbxCCwGkC4HoXrUbgaQLgehetRuBpAjZduEoPAGkCNl24Sg8AaQMP1KFyPwhpAYhBYObTIGkDhehSuR+EaQOF6FK5H4RpA4XoUrkfhGkDhehSuR+EaQCGwcmiR7RpAYOXQItv5GkApXI/C9SgbQN0kBoGVQxtAXI/C9ShcG0AxCKwcWmQbQDEIrBxaZBtAMQisHFpkG0AxCKwcWmQbQDEIrBxaZBtAMQisHFpkG0A730+Nl24bQOXQItv5fhtAhetRuB6FG0BaZDvfT40bQFpkO99PjRtAmpmZmZmZG0DZzvdT46UbQNnO91PjpRtA2c73U+OlG0DZzvdT46UbQNnO91PjpRtA2c73U+OlG0AZBFYOLbIbQIPAyqFFthtAWDm0yHa+G0DXo3A9CtcbQIGVQ4ts5xtAgZVDi2znG0DsUbgehesbQFYOLbKd7xtAVg4tsp3vG0D2KFyPwvUbQPYoXI/C9RtAK4cW2c73G0ApXI/C9SgcQClcj8L1KBxAKVyPwvUoHEDTTWIQWDkcQNNNYhBYORxA001iEFg5HEASg8DKoUUcQH0/NV66SRxAUrgehetRHEBSuB6F61EcQNEi2/l+ahxA0SLb+X5qHEB7FK5H4XocQM/3U+OlmxxAz/dT46WbHECkcD0K16McQKRwPQrXoxxApHA9CtejHECkcD0K16McQHnpJjEIrBxAI9v5fmq8HEAj2/l+arwcQCPb+X5qvBxAd76fGi/dHECsHFpkO98cQKwcWmQ73xxA7FG4HoXrHEDsUbgehescQIts5/up8RxA9ihcj8L1HEAfhetRuB4dQB+F61G4Hh1AMzMzMzMzHUAzMzMzMzMdQDMzMzMzMx1AMzMzMzMzHUA9CtejcD0dQD0K16NwPR1Ac2iR7Xw/HUBzaJHtfD8dQHNoke18Px1AcT0K16NwHUBxPQrXo3AdQIXrUbgehR1AhetRuB6FHUCF61G4HoUdQIXrUbgehR1AhetRuB6FHUCF61G4HoUdQIXrUbgehR1AmpmZmZmZHUBvEoPAyqEdQG8Sg8DKoR1ArkfhehSuHUAj2/l+arwdQMP1KFyPwh1AgZVDi2znHUDByqFFtvMdQAAAAAAAAB5AoBov3SQGHkDfT42XbhIeQBSuR+F6FB5AFK5H4XoUHkC+nxov3SQeQD0K16NwPR5APQrXo3A9HkA9CtejcD0eQFK4HoXrUR5AvHSTGARWHkBxPQrXo3AeQHE9CtejcB5AukkMAiuHHkCPwvUoXI8eQPp+arx0kx5AObTIdr6fHkA5tMh2vp8eQDm0yHa+nx5AuB6F61G4HkD4U+Olm8QeQM3MzMzMzB5ADAIrhxbZHkAMAiuHFtkeQAwCK4cW2R5ADAIrhxbZHkAMAiuHFtkeQDVeukkMAh9ANV66SQwCH0AK16NwPQofQArXo3A9Ch9AdZMYBFYOH0AUrkfhehQfQB+F61G4Hh9AH4XrUbgeH0AfhetRuB4fQDMzMzMzMx9Asp3vp8ZLH0Cyne+nxksfQFK4HoXrUR9AUrgehetRH0BSuB6F61EfQAaBlUOLbB9AIbByaJFtH0BxPQrXo3AfQHE9CtejcB9AsHJoke18H0CwcmiR7XwfQLByaJHtfB9AsHJoke18H0CwcmiR7XwfQLByaJHtfB9AhetRuB6FH0CF61G4HoUfQI/C9Shcjx9AL90kBoGVH0CamZmZmZkfQJqZmZmZmR9ABFYOLbKdH0CuR+F6FK4fQK5H4XoUrh9ArkfhehSuH0CuR+F6FK4fQK5H4XoUrh9A16NwPQrXH0DXo3A9CtcfQKwcWmQ73x9ArBxaZDvfH0CsHFpkO98fQKwcWmQ73x9ArBxaZDvfH0CsHFpkO98fQKwcWmQ73x9ArBxaZDvfH0DsUbgehesfQOxRuB6F6x9A7FG4HoXrH0DsUbgehesfQOxRuB6F6x9AK4cW2c73H0ArhxbZzvcfQCuHFtnO9x9AK4cW2c73H0ArhxbZzvcfQJZDi2zn+x9AAAAAAAAAIEAAAAAAAAAgQAAAAAAAACBAjZduEoMAIEDVeOkmMQggQNV46SYxCCBA1XjpJjEIIEDVeOkmMQggQNV46SYxCCBACtejcD0KIEAUrkfhehQgQBSuR+F6FCBA/tR46SYxIECoxks3iUEgQPhT46WbRCBAUrgehetRIEDByqFFtnMgQMHKoUW2cyBAUI2XbhKDIECF61G4HoUgQIXrUbgehSBAhetRuB6FIECF61G4HoUgQIXrUbgehSBAhetRuB6FIEAlBoGVQ4sgQI/C9ShcjyBA+n5qvHSTIECkcD0K16MgQKRwPQrXoyBApHA9CtejIECuR+F6FK4gQK5H4XoUriBArkfhehSuIEC4HoXrUbggQI2XbhKDwCBAjZduEoPAIED4U+Olm8QgQEjhehSuxyBAzczMzMzMIEDNzMzMzMwgQEw3iUFg5SBATDeJQWDlIEBMN4lBYOUgQEw3iUFg5SBATDeJQWDlIEBMN4lBYOUgQEw3iUFg5SBATDeJQWDlIEAK16NwPQohQEoMAiuHFiFASgwCK4cWIUBKDAIrhxYhQEoMAiuHFiFASgwCK4cWIUBKDAIrhxYhQLTIdr6fGiFAke18PzUeIUAfhetRuB4hQB+F61G4HiFAH4XrUbgeIUAfhetRuB4hQB+F61G4HiFAH4XrUbgeIUAfhetRuB4hQB+F61G4HiFAiUFg5dAiIUCJQWDl0CIhQKRwPQrXIyFAcT0K16MwIUCe76fGSzchQJ7vp8ZLNyFAPQrXo3A9IUBzaJHtfD8hQEjhehSuRyFASOF6FK5HIUBI4XoUrkchQEjhehSuRyFASOF6FK5HIUBI4XoUrkchQEjhehSuRyFASOF6FK5HIUBI4XoUrkchQOf7qfHSTSFA16NwPQpXIUDXo3A9ClchQNejcD0KVyFAd76fGi9dIUDHSzeJQWAhQOF6FK5HYSFAZmZmZmZmIUCcxCCwcmghQAaBlUOLbCFAcT0K16NwIUBxPQrXo3AhQHE9CtejcCFAcT0K16NwIUBxPQrXo3AhQPYoXI/CdSFA9ihcj8J1IUBGtvP91HghQHsUrkfheiFAexSuR+F6IUAAAAAAAIAhQBsv3SQGgSFAhetRuB6FIUCPwvUoXI8hQMUgsHJokSFAL90kBoGVIUCamZmZmZkhQJqZmZmZmSFABFYOLbKdIUCkcD0K16MhQKRwPQrXoyFApHA9CtejIUCkcD0K16MhQKRwPQrXoyFApHA9CtejIUCuR+F6FK4hQDMzMzMzsyFAg8DKoUW2IUCDwMqhRbYhQIPAyqFFtiFAg8DKoUW2IUCDwMqhRbYhQIPAyqFFtiFAWDm0yHa+IUDD9Shcj8IhQJhuEoPAyiFAAiuHFtnOIUACK4cW2c4hQNejcD0K1yFAQmDl0CLbIUBCYOXQItshQEJg5dAi2yFAQmDl0CLbIUBCYOXQItshQOF6FK5H4SFA4XoUrkfhIUDhehSuR+EhQIGVQ4ts5yFAgZVDi2znIUDsUbgeheshQOxRuB6F6yFA7FG4HoXrIUAAAAAAAAAiQFCNl24SAyJACtejcD0KIkA/NV66SQwiQClcj8L1KCJAkxgEVg4tIkCuR+F6FC4iQP7UeOkmMSJAuB6F61E4IkA9CtejcD0iQEjhehSuRyJAfT81XrpJIkB9PzVeukkiQH0/NV66SSJAHVpkO99PIkAdWmQ7308iQJHtfD81XiJAke18PzVeIkCR7Xw/NV4iQOxRuB6FayJA7FG4HoVrIkA730+Nl24iQDvfT42XbiJAO99PjZduIkB7FK5H4XoiQHsUrkfheiJAexSuR+F6IkB7FK5H4XoiQHsUrkfheiJA5dAi2/l+IkDl0CLb+X4iQOXQItv5fiJA5dAi2/l+IkDl0CLb+X4iQIXrUbgehSJAhetRuB6FIkC6SQwCK4ciQLpJDAIrhyJAj8L1KFyPIkBkO99PjZciQGQ730+NlyJApHA9CtejIkCkcD0K16MiQNnO91PjpSJADi2yne+nIkB56SYxCKwiQOOlm8QgsCJA46WbxCCwIkDjpZvEILAiQOOlm8QgsCJA46WbxCCwIkBxPQrXo7AiQLgehetRuCJAYhBYObTIIkBiEFg5tMgiQJhuEoPAyiJAzczMzMzMIkA3iUFg5dAiQDeJQWDl0CJA16NwPQrXIkDXo3A9CtciQNejcD0K1yJAZmZmZmbmIkBmZmZmZuYiQGZmZmZm5iJA7FG4HoXrIkD2KFyPwvUiQCUGgZVDCyNAtMh2vp8aI0C0yHa+nxojQLTIdr6fGiNAXI/C9SgcI0CJQWDl0CIjQIlBYOXQIiNAiUFg5dAiI0BeukkMAisjQJMYBFYOLSNAI9v5fmo8I0BI4XoUrkcjQEjhehSuRyNAsp3vp8ZLI0Cyne+nxksjQIcW2c73UyNAXI/C9ShcI0CBlUOLbGcjQNEi2/l+aiNA2/l+arx0I0Db+X5qvHQjQKAaL90khiNAj8L1KFyPI0CPwvUoXI8jQB+F61G4niNApHA9CtejI0CkcD0K16MjQKRwPQrXoyNApHA9CtejI0CkcD0K16MjQKRwPQrXoyNArkfhehSuI0CuR+F6FK4jQK5H4XoUriNArkfhehSuI0CuR+F6FK4jQIPAyqFFtiNAPQrXo3C9I0BYObTIdr4jQC2yne+nxiNAbef7qfHSI0Bt5/up8dIjQG3n+6nx0iNAbef7qfHSI0Bt5/up8dIjQKwcWmQ73yNA4XoUrkfhI0DhehSuR+EjQIGVQ4ts5yNA7FG4HoXrI0DsUbgehesjQOxRuB6F6yNA7FG4HoXrI0DsUbgehesjQOxRuB6F6yNA7FG4HoXrI0DsUbgehesjQOxRuB6F6yNA9ihcj8L1I0D2KFyPwvUjQCuHFtnO9yNAexSuR+H6I0AK16NwPQokQArXo3A9CiRAPzVeukkMJEB/arx0kxgkQH9qvHSTGCRAKVyPwvUoJEApXI/C9SgkQClcj8L1KCRAuB6F61E4JEC4HoXrUTgkQKjGSzeJQSRAUrgehetRJED8qfHSTWIkQPyp8dJNYiRA9ihcj8J1JEAlBoGVQ4skQCUGgZVDiyRAJQaBlUOLJEAlBoGVQ4skQCUGgZVDiyRAJQaBlUOLJEAlBoGVQ4skQCUGgZVDiyRAJQaBlUOLJEAlBoGVQ4skQCUGgZVDiyRAJQaBlUOLJEDP91PjpZskQDm0yHa+nyRARIts5/upJEBEi2zn+6kkQESLbOf7qSRAI9v5fmq8JEAj2/l+arwkQCPb+X5qvCRAI9v5fmq8JEAj2/l+arwkQCPb+X5qvCRAI9v5fmq8JEAj2/l+arwkQCPb+X5qvCRAI9v5fmq8JEAj2/l+arwkQCPb+X5qvCRAI9v5fmq8JEAj2/l+arwkQCPb+X5qvCRAI9v5fmq8JEAj2/l+arwkQCPb+X5qvCRAI9v5fmq8JEAj2/l+arwkQCPb+X5qvCRAI9v5fmq8JEAj2/l+arwkQCPb+X5qvCRAI9v5fmq8JEAj2/l+arwkQCPb+X5qvCRAI9v5fmq8JEAj2/l+arwkQCPb+X5qvCRAI9v5fmq8JEAj2/l+arwkQCPb+X5qvCRAw/UoXI/CJED4U+Olm8QkQM3MzMzMzCRAokW28/3UJEBCYOXQItskQFyPwvUo3CRAXI/C9SjcJEDhehSuR+EkQOF6FK5H4SRA4XoUrkfhJEAhsHJoke0kQHE9Ctej8CRAwcqhRbbzJEDByqFFtvMkQPYoXI/C9SRAy6FFtvP9JEAAAAAAAAAlQKAaL90kBiVAdZMYBFYOJUB1kxgEVg4lQHWTGARWDiVAH4XrUbgeJUAfhetRuB4lQB+F61G4HiVAH4XrUbgeJUAfhetRuB4lQF66SQwCKyVAXrpJDAIrJUBeukkMAislQJ7vp8ZLNyVASOF6FK5HJUBI4XoUrkclQM3MzMzMTCVAzczMzMxMJUDXo3A9ClclQFyPwvUoXCVAx0s3iUFgJUDHSzeJQWAlQMdLN4lBYCVAx0s3iUFgJUDHSzeJQWAlQMdLN4lBYCVAx0s3iUFgJUDsUbgehWslQHE9CtejcCVAexSuR+F6JUB7FK5H4XolQLByaJHtfCVAsHJoke18JUAAAAAAAIAlQBsv3SQGgSVAWmQ730+NJUBaZDvfT40lQI/C9ShcjyVAj8L1KFyPJUCq8dJNYpAlQMUgsHJokSVAbxKDwMqhJUDZzvdT46UlQBkEVg4tsiVAuB6F61G4JUC4HoXrUbglQLgehetRuCVAuB6F61G4JUBI4XoUrsclQJhuEoPAyiVAmG4Sg8DKJUCYbhKDwMolQJhuEoPAyiVAzczMzMzMJUDNzMzMzMwlQM3MzMzMzCVAzczMzMzMJUDXo3A9CtclQNejcD0K1yVAZmZmZmbmJUBmZmZmZuYlQGZmZmZm5iVAZmZmZmbmJUDsUbgeheslQPYoXI/C9SVAK4cW2c73JUB7FK5H4folQJqZmZmZGSZAH4XrUbgeJkCkcD0K1yMmQKRwPQrXIyZApHA9CtcjJkCTGARWDi0mQJMYBFYOLSZArkfhehQuJkA9CtejcD0mQD0K16NwPSZAPQrXo3A9JkA9CtejcD0mQFK4HoXrUSZAUrgehetRJkBSuB6F61EmQLx0kxgEViZAvHSTGARWJkC8dJMYBFYmQJHtfD81XiZAZmZmZmZmJkDsUbgehWsmQOxRuB6FayZABoGVQ4tsJkAhsHJokW0mQHE9CtejcCZAcT0K16NwJkDb+X5qvHQmQBBYObTIdiZAEFg5tMh2JkAQWDm0yHYmQLpJDAIrhyZAukkMAiuHJkC6SQwCK4cmQK5H4XoUriZArkfhehSuJkCuR+F6FK4mQE5iEFg5tCZATmIQWDm0JkBOYhBYObQmQLgehetRuCZAuB6F61G4JkC4HoXrUbgmQLgehetRuCZAuB6F61G4JkC4HoXrUbgmQO58PzVeuiZA7nw/NV66JkCNl24Sg8AmQH0/NV66ySZAokW28/3UJkAMAiuHFtkmQAwCK4cW2SZACtejcD0KJ0AK16NwPQonQArXo3A9CidACtejcD0KJ0AK16NwPQonQArXo3A9CidACtejcD0KJ0AK16NwPQonQArXo3A9CidACtejcD0KJ0AK16NwPQonQArXo3A9CidAFK5H4XoUJ0AUrkfhehQnQB+F61G4HidAH4XrUbgeJ0AfhetRuB4nQB+F61G4HidAH4XrUbgeJ0AfhetRuB4nQB+F61G4HidAH4XrUbgeJ0AfhetRuB4nQIlBYOXQIidAiUFg5dAiJ0C4HoXrUTgnQD0K16NwPSdA3SQGgZVDJ0CYbhKDwEonQLKd76fGSydAsp3vp8ZLJ0Cyne+nxksnQLKd76fGSydAsp3vp8ZLJ0DXo3A9ClcnQPLSTWIQWCdAf2q8dJNYJ0Bcj8L1KFwnQFyPwvUoXCdAXI/C9ShcJ0Bcj8L1KFwnQFyPwvUoXCdAXI/C9ShcJ0DHSzeJQWAnQDEIrBxaZCdAMQisHFpkJ0BGtvP91HgnQLByaJHtfCdAhetRuB6FJ0CF61G4HoUnQIXrUbgehSdAhetRuB6FJ0CF61G4HoUnQIXrUbgehSdAhetRuB6FJ0CF61G4HoUnQIXrUbgehSdAxSCwcmiRJ0DFILByaJEnQMUgsHJokSdAxSCwcmiRJ0CamZmZmZknQARWDi2ynSdABFYOLbKdJ0AEVg4tsp0nQARWDi2ynSdABFYOLbKdJ0AEVg4tsp0nQKRwPQrXoydA2c73U+OlJ0CuR+F6FK4nQK5H4XoUridAw/UoXI/CJ0BSuB6F69EnQOF6FK5H4SdAgZVDi2znJ0CBlUOLbOcnQIGVQ4ts5ydAgZVDi2znJ0CBlUOLbOcnQIGVQ4ts5ydAgZVDi2znJ0CBlUOLbOcnQIGVQ4ts5ydA7FG4HoXrJ0DsUbgehesnQOxRuB6F6ydA7FG4HoXrJ0DsUbgehesnQOxRuB6F6ydA7FG4HoXrJ0DsUbgehesnQPYoXI/C9SdAlkOLbOf7J0Cq8dJNYhAoQB+F61G4HihApHA9CtcjKED+1HjpJjEoQD0K16NwPShAqMZLN4lBKEDdJAaBlUMoQFK4HoXrUShAJzEIrBxaKEAnMQisHFooQCcxCKwcWihAXI/C9ShcKED8qfHSTWIoQPyp8dJNYihA9P3UeOlmKEBxPQrXo3AoQIts5/upcShAppvEILByKECmm8QgsHIoQKabxCCwcihAppvEILByKEB7FK5H4XooQEoMAiuHlihASgwCK4eWKECkcD0K16MoQKRwPQrXoyhAMzMzMzOzKEAzMzMzM7MoQPhT46WbxChASOF6FK7HKEBI4XoUrscoQEjhehSuxyhASOF6FK7HKEBI4XoUrscoQEjhehSuxyhASOF6FK7HKEDXo3A9CtcoQNejcD0K1yhA16NwPQrXKEDXo3A9CtcoQNejcD0K1yhATDeJQWDlKEAGgZVDi+woQPYoXI/C9ShAj8L1KFwPKUAUrkfhehQpQEoMAiuHFilASgwCK4cWKUAfhetRuB4pQB+F61G4HilAH4XrUbgeKUD0/dR46SYpQOxRuB6FKylAkxgEVg4tKUAzMzMzMzMpQDMzMzMzMylAMzMzMzMzKUAzMzMzMzMpQDMzMzMzMylAc2iR7Xw/KUBzaJHtfD8pQHNoke18PylACtejcD1KKUDy0k1iEFgpQPLSTWIQWClA8tJNYhBYKUDy0k1iEFgpQPLSTWIQWClA8tJNYhBYKUDy0k1iEFgpQHE9CtejcClAcT0K16NwKUBGtvP91HgpQHsUrkfheilAhetRuB6FKUDwp8ZLN4kpQPCnxks3iSlA8KfGSzeJKUCPwvUoXI8pQI/C9ShcjylAbxKDwMqhKUBvEoPAyqEpQA4tsp3vpylADi2yne+nKUBEi2zn+6kpQK5H4XoUrilArkfhehSuKUCuR+F6FK4pQK5H4XoUrilArkfhehSuKUCuR+F6FK4pQFYOLbKdrylA7nw/NV66KUDNzMzMzMwpQG3n+6nx0ilARIts5/vpKUDsUbgehespQOxRuB6F6ylA7FG4HoXrKUDsUbgehespQOxRuB6F6ylA7FG4HoXrKUDsUbgehespQOxRuB6F6ylA7FG4HoXrKUDsUbgehespQOxRuB6F6ylA7FG4HoXrKUDsUbgehespQOxRuB6F6ylA7FG4HoXrKUDsUbgehespQOxRuB6F6ylA7FG4HoXrKUDsUbgehespQOxRuB6F6ylA7FG4HoXrKUDsUbgehespQOxRuB6F6ylA7FG4HoXrKUDsUbgehespQOxRuB6F6ylA7FG4HoXrKUDsUbgehespQOxRuB6F6ylA7FG4HoXrKUDsUbgehespQOxRuB6F6ylA7FG4HoXrKUDsUbgehespQOxRuB6F6ylA7FG4HoXrKUDsUbgehespQOxRuB6F6ylA7FG4HoXrKUDsUbgehespQOxRuB6F6ylA9ihcj8L1KUArhxbZzvcpQHsUrkfh+ilAexSuR+H6KUB7FK5H4fopQJZDi2zn+ylAlkOLbOf7KUAAAAAAAAAqQMP1KFyPAipACtejcD0KKkCyne+nxgsqQBSuR+F6FCpAFK5H4XoUKkCamZmZmRkqQClcj8L1KCpAyXa+nxovKkDJdr6fGi8qQLgehetROCpAPQrXo3A9KkA9CtejcD0qQD0K16NwPSpAPQrXo3A9KkA9CtejcD0qQD0K16NwPSpAPQrXo3A9KkA9CtejcD0qQKjGSzeJQSpAqMZLN4lBKkCoxks3iUEqQEjhehSuRypAUrgehetRKkC8dJMYBFYqQJHtfD81XipAF9nO91NjKkDRItv5fmoqQDvfT42XbipAO99PjZduKkA730+Nl24qQPYoXI/CdSpA5dAi2/l+KkDl0CLb+X4qQCUGgZVDiypAJQaBlUOLKkCPwvUoXI8qQI/C9ShcjypA46WbxCCwKkDjpZvEILAqQLgehetRuCpAuB6F61G4KkC4HoXrUbgqQLgehetRuCpAuB6F61G4KkC4HoXrUbgqQLgehetRuCpAuB6F61G4KkCNl24Sg8AqQMP1KFyPwipAYhBYObTIKkBiEFg5tMgqQGIQWDm0yCpAYhBYObTIKkBiEFg5tMgqQGIQWDm0yCpA4XoUrkfhKkC28/3UeOkqQFYOLbKd7ypA9ihcj8L1KkD2KFyPwvUqQPYoXI/C9SpAsHJoke38KkAK16NwPQorQArXo3A9CitAiUFg5dAiK0BeukkMAisrQMl2vp8aLytACKwcWmQ7K0A9CtejcD0rQN0kBoGVQytAXI/C9ShcK0BMN4lBYGUrQOxRuB6FaytABoGVQ4tsK0BxPQrXo3ArQOXQItv5fitAhetRuB6FK0CF61G4HoUrQIXrUbgehStAhetRuB6FK0CgGi/dJIYrQFpkO99PjStAWmQ730+NK0CuR+F6FK4rQBkEVg4tsitAuB6F61G4K0BYObTIdr4rQFg5tMh2vitAWDm0yHa+K0BI4XoUrscrQJhuEoPAyitAzczMzMzMK0DNzMzMzMwrQM3MzMzMzCtAzczMzMzMK0ACK4cW2c4rQAIrhxbZzitAAiuHFtnOK0ACK4cW2c4rQAIrhxbZzitA16NwPQrXK0DXo3A9CtcrQNejcD0K1ytAF9nO91PjK0DsUbgehesrQOxRuB6F6ytA7FG4HoXrK0DsUbgehesrQHE9Ctej8CtA9ihcj8L1K0D2KFyPwvUrQPYoXI/C9StA9ihcj8L1K0D2KFyPwvUrQPYoXI/C9StAK4cW2c73K0AAAAAAAAAsQNV46SYxCCxA1XjpJjEILEDVeOkmMQgsQNV46SYxCCxAj8L1KFwPLECPwvUoXA8sQBSuR+F6FCxAFK5H4XoULECkcD0K1yMsQJMYBFYOLSxA001iEFg5LEDTTWIQWDksQMP1KFyPQixAEoPAyqFFLEBSuB6F61EsQFK4HoXrUSxA4XoUrkdhLEBmZmZmZmYsQGZmZmZmZixAppvEILByLEBQjZduEoMsQCUGgZVDiyxAj8L1KFyPLECPwvUoXI8sQI/C9ShcjyxAJzEIrByaLEDP91PjpZssQM/3U+OlmyxApHA9CtejLEB56SYxCKwsQE5iEFg5tCxATmIQWDm0LEBOYhBYObQsQE5iEFg5tCxATmIQWDm0LEBOYhBYObQsQE5iEFg5tCxATmIQWDm0LEAj2/l+arwsQCPb+X5qvCxAI9v5fmq8LEAj2/l+arwsQI2XbhKDwCxAzczMzMzMLEDNzMzMzMwsQM3MzMzMzCxAzczMzMzMLEC0yHa+n9osQHe+nxov3SxAZmZmZmbmLEDsUbgehessQPYoXI/C9SxA9ihcj8L1LEDLoUW28/0sQArXo3A9Ci1ACtejcD0KLUAfhetRuB4tQB+F61G4Hi1AH4XrUbgeLUAfhetRuB4tQPT91HjpJi1AyXa+nxovLUDJdr6fGi8tQD0K16NwPS1APQrXo3A9LUA9CtejcD0tQD0K16NwPS1APQrXo3A9LUA9CtejcD0tQD0K16NwPS1Ac2iR7Xw/LUBzaJHtfD8tQHNoke18Py1A16NwPQpXLUDXo3A9ClctQGZmZmZmZi1AZmZmZmZmLUBmZmZmZmYtQGZmZmZmZi1AZmZmZmZmLUBxPQrXo3AtQPYoXI/CdS1A9ihcj8J1LUD2KFyPwnUtQPYoXI/CdS1A9ihcj8J1LUAAAAAAAIAtQIXrUbgehS1AhetRuB6FLUCF61G4HoUtQIXrUbgehS1Aj8L1KFyPLUCamZmZmZktQKRwPQrXoy1ARIts5/upLUAzMzMzM7MtQDMzMzMzsy1Aw/UoXI/CLUDD9Shcj8ItQEjhehSuxy1AzczMzMzMLUDNzMzMzMwtQM3MzMzMzC1AzczMzMzMLUBSuB6F69EtQFK4HoXr0S1A4XoUrkfhLUDhehSuR+EtQOF6FK5H4S1A4XoUrkfhLUDhehSuR+EtQOF6FK5H4S1A4XoUrkfhLUDhehSuR+EtQOF6FK5H4S1AgZVDi2znLUCBlUOLbOctQIGVQ4ts5y1A7FG4HoXrLUBxPQrXo/AtQMHKoUW28y1AwcqhRbbzLUD2KFyPwvUtQPYoXI/C9S1A9ihcj8L1LUAAAAAAAAAuQAAAAAAAAC5Aarx0kxgELkBqvHSTGAQuQGq8dJMYBC5ACtejcD0KLkC+nxov3SQuQL6fGi/dJC5AKVyPwvUoLkA9CtejcD0uQD0K16NwPS5APQrXo3A9LkBI4XoUrkcuQLx0kxgEVi5AXI/C9ShcLkD8qfHSTWIuQDvfT42Xbi5AppvEILByLkCmm8QgsHIuQBBYObTIdi5AEFg5tMh2LkB7FK5H4XouQHsUrkfhei5AexSuR+F6LkB7FK5H4XouQHsUrkfhei5AAAAAAACALkCF61G4HoUuQIXrUbgehS5Aj8L1KFyPLkCPwvUoXI8uQI/C9Shcjy5Aj8L1KFyPLkC4HoXrUbguQPhT46WbxC5A16NwPQrXLkAMAiuHFtkuQPYoXI/C9S5AhetRuB4FL0CF61G4HgUvQIXrUbgeBS9ACtejcD0KL0AK16NwPQovQHWTGARWDi9AdZMYBFYOL0AUrkfhehQvQLTIdr6fGi9AtMh2vp8aL0C0yHa+nxovQLTIdr6fGi9AtMh2vp8aL0C0yHa+nxovQLTIdr6fGi9AtMh2vp8aL0C0yHa+nxovQLTIdr6fGi9AtMh2vp8aL0C0yHa+nxovQLTIdr6fGi9AtMh2vp8aL0C0yHa+nxovQLTIdr6fGi9AtMh2vp8aL0C0yHa+nxovQLTIdr6fGi9AtMh2vp8aL0C0yHa+nxovQLTIdr6fGi9AtMh2vp8aL0C0yHa+nxovQLTIdr6fGi9AtMh2vp8aL0C0yHa+nxovQLTIdr6fGi9AtMh2vp8aL0C0yHa+nxovQLTIdr6fGi9AtMh2vp8aL0C0yHa+nxovQLTIdr6fGi9AH4XrUbgeL0AfhetRuB4vQB+F61G4Hi9ApHA9CtcjL0CkcD0K1yMvQPT91HjpJi9AKVyPwvUoL0CTGARWDi0vQDMzMzMzMy9Ac2iR7Xw/L0Cyne+nxksvQFK4HoXrUS9AMQisHFpkL0AxCKwcWmQvQDEIrBxaZC9AZmZmZmZmL0BmZmZmZmYvQAaBlUOLbC9ABoGVQ4tsL0AGgZVDi2wvQAaBlUOLbC9AAAAAAACAL0CF61G4HoUvQIXrUbgehS9Aj8L1KFyPL0CamZmZmZkvQJqZmZmZmS9ABFYOLbKdL0CuR+F6FK4vQK5H4XoUri9ArkfhehSuL0CuR+F6FK4vQK5H4XoUri9ArkfhehSuL0BYObTIdr4vQFg5tMh2vi9Aw/UoXI/CL0DD9Shcj8IvQNejcD0K1y9A16NwPQrXL0DXo3A9CtcvQNejcD0K1y9A16NwPQrXL0DXo3A9CtcvQNejcD0K1y9ArBxaZDvfL0CsHFpkO98vQKwcWmQ73y9ArBxaZDvfL0CsHFpkO98vQKwcWmQ73y9A7FG4HoXrL0DsUbgehesvQFYOLbKd7y9AK4cW2c73L0ArhxbZzvcvQCuHFtnO9y9AK4cW2c73L0ArhxbZzvcvQJZDi2zn+y9AlkOLbOf7L0AAAAAAAAAwQAAAAAAAADBAhetRuB4FMECF61G4HgUwQEjhehSuBzBA1XjpJjEIMEDVeOkmMQgwQNV46SYxCDBAdZMYBFYOMEB1kxgEVg4wQI/C9ShcDzBAf2q8dJMYMEBMN4lBYCUwQA4tsp3vJzBAkxgEVg4tMED+1HjpJjEwQP7UeOkmMTBA001iEFg5MEB7FK5H4TowQKjGSzeJQTBAhetRuB5FMEASg8DKoUUwQBKDwMqhRTBASOF6FK5HMEDXo3A9ClcwQFyPwvUoXDBA4XoUrkdhMEAxCKwcWmQwQGZmZmZmZjBAZmZmZmZmMEBmZmZmZmYwQKabxCCwcjBAppvEILByMEAQWDm0yHYwQBBYObTIdjBAhetRuB6FMECF61G4HoUwQIXrUbgehTBAhetRuB6FMECF61G4HoUwQIXrUbgehTBAhetRuB6FMECF61G4HoUwQI/C9ShcjzBAj8L1KFyPMECPwvUoXI8wQNejcD0KlzBADi2yne+nMEAOLbKd76cwQK5H4XoUrjBArkfhehSuMECuR+F6FK4wQOOlm8QgsDBATmIQWDm0MEA9CtejcL0wQD0K16NwvTBAPQrXo3C9MEA9CtejcL0wQD0K16NwvTBAjZduEoPAMED4U+Olm8QwQPhT46WbxDBALbKd76fGMEAtsp3vp8YwQEjhehSuxzBAYhBYObTIMEBiEFg5tMgwQGIQWDm0yDBATDeJQWDlMEBmZmZmZuYwQGZmZmZm5jBAKVyPwvXoMEAzMzMzM/MwQHsUrkfh+jBAPQrXo3D9MEA9CtejcP0wQAAAAAAAADFAoBov3SQGMUAK16NwPQoxQArXo3A9CjFACtejcD0KMUDNzMzMzAwxQEoMAiuHFjFASgwCK4cWMUBKDAIrhxYxQEoMAiuHFjFASgwCK4cWMUAfhetRuB4xQB+F61G4HjFAH4XrUbgeMUAfhetRuB4xQB+F61G4HjFAH4XrUbgeMUCkcD0K1yMxQGZmZmZmJjFAyXa+nxovMUCe76fGSzcxQLgehetRODFAuB6F61E4MUA9CtejcD0xQHNoke18PzFAc2iR7Xw/MUBI4XoUrkcxQM3MzMzMTDFAj8L1KFxPMUCPwvUoXE8xQNejcD0KVzFA16NwPQpXMUDhehSuR2ExQOF6FK5HYTFArkfhehRuMUBxPQrXo3AxQDMzMzMzczFA2/l+arx0MUDb+X5qvHQxQPYoXI/CdTFA9ihcj8J1MUD2KFyPwnUxQPYoXI/CdTFARrbz/dR4MUBGtvP91HgxQEa28/3UeDFARrbz/dR4MUBGtvP91HgxQHsUrkfhejFAexSuR+F6MUB7FK5H4XoxQHsUrkfhejFAexSuR+F6MUB7FK5H4XoxQHsUrkfhejFA5dAi2/l+MUDl0CLb+X4xQIXrUbgehTFAhetRuB6FMUCF61G4HoUxQIXrUbgehTFAhetRuB6FMUAlBoGVQ4sxQCUGgZVDizFAxSCwcmiRMUDFILByaJExQFyPwvUonDFABFYOLbKdMUCkcD0K16MxQKRwPQrXozFAg8DKoUW2MUCDwMqhRbYxQIPAyqFFtjFAw/UoXI/CMUDD9Shcj8IxQMP1KFyPwjFAQmDl0CLbMUBCYOXQItsxQEJg5dAi2zFAQmDl0CLbMUDhehSuR+ExQOF6FK5H4TFAZmZmZmbmMUBmZmZmZuYxQGZmZmZm5jFAZmZmZmbmMUBmZmZmZuYxQGZmZmZm5jFAgZVDi2znMUCBlUOLbOcxQOxRuB6F6zFA7FG4HoXrMUDsUbgehesxQHE9Ctej8DFAcT0K16PwMUBxPQrXo/AxQHE9Ctej8DFAcT0K16PwMUBxPQrXo/AxQHE9Ctej8DFAcT0K16PwMUBxPQrXo/AxQHE9Ctej8DFAcT0K16PwMUBxPQrXo/AxQHE9Ctej8DFAcT0K16PwMUBxPQrXo/AxQHE9Ctej8DFAcT0K16PwMUD2KFyPwvUxQLgehetR+DFAAAAAAAAAMkAAAAAAAAAyQEoMAiuHFjJASgwCK4cWMkApXI/C9SgyQClcj8L1KDJAKVyPwvUoMkCTGARWDi0yQJMYBFYOLTJArkfhehQuMkD+1HjpJjEyQDMzMzMzMzJAPQrXo3A9MkA9CtejcD0yQD0K16NwPTJAPQrXo3A9MkA9CtejcD0yQD0K16NwPTJA3SQGgZVDMkDdJAaBlUMyQN0kBoGVQzJAEoPAyqFFMkBI4XoUrkcyQEjhehSuRzJASOF6FK5HMkB9PzVeukkyQH0/NV66STJAHVpkO99PMkAdWmQ7308yQFK4HoXrUTJAvHSTGARWMkC8dJMYBFYyQJHtfD81XjJAke18PzVeMkAxCKwcWmQyQDvfT42XbjJAMzMzMzNzMkAQWDm0yHYyQBBYObTIdjJAexSuR+F6MkDl0CLb+X4yQOXQItv5fjJA5dAi2/l+MkDl0CLb+X4yQBsv3SQGgTJAukkMAiuHMkC6SQwCK4cyQArXo3A9ijJACtejcD2KMkAK16NwPYoyQArXo3A9ijJAJQaBlUOLMkCPwvUoXI8yQEoMAiuHljJASgwCK4eWMkAfhetRuJ4yQDm0yHa+nzJA2c73U+OlMkAOLbKd76cyQA4tsp3vpzJA46WbxCCwMkBxPQrXo7AyQHE9CtejsDJAcT0K16OwMkDFILByaLEyQDMzMzMzszJATmIQWDm0MkC4HoXrUbgyQLgehetRuDJAAAAAAADAMkAAAAAAAMAyQAAAAAAAwDJAw/UoXI/CMkDD9Shcj8IyQNejcD0K1zJA16NwPQrXMkDXo3A9CtcyQNejcD0K1zJA16NwPQrXMkDXo3A9CtcyQHe+nxov3TJAZmZmZmbmMkBmZmZmZuYyQGZmZmZm5jJAZmZmZmbmMkBmZmZmZuYyQGZmZmZm5jJAZmZmZmbmMkBWDi2yne8yQFYOLbKd7zJAVg4tsp3vMkBxPQrXo/AyQPYoXI/C9TJA9ihcj8L1MkD2KFyPwvUyQPYoXI/C9TJAuB6F61H4MkB7FK5H4foyQAAAAAAAADNANV66SQwCM0A1XrpJDAIzQArXo3A9CjNACtejcD0KM0AK16NwPQozQM3MzMzMDDNAzczMzMwMM0DNzMzMzAwzQH9qvHSTGDNAtMh2vp8aM0CJQWDl0CIzQIlBYOXQIjNAiUFg5dAiM0D0/dR46SYzQPT91HjpJjNAXrpJDAIrM0CLbOf7qTEzQMuhRbbzPTNAsp3vp8ZLM0Cyne+nxkszQLKd76fGSzNAzczMzMxMM0DNzMzMzEwzQB1aZDvfTzNAmpmZmZlZM0Bcj8L1KFwzQFyPwvUoXDNAZmZmZmZmM0A730+Nl24zQHE9CtejcDNAcT0K16NwM0BxPQrXo3AzQHE9CtejcDNAcT0K16NwM0BxPQrXo3AzQHE9CtejcDNAcT0K16NwM0BxPQrXo3AzQHE9CtejcDNAcT0K16NwM0BxPQrXo3AzQHE9CtejcDNAcT0K16NwM0BxPQrXo3AzQHE9CtejcDNAcT0K16NwM0BxPQrXo3AzQHE9CtejcDNAcT0K16NwM0BxPQrXo3AzQHE9CtejcDNAcT0K16NwM0BxPQrXo3AzQHE9CtejcDNAcT0K16NwM0BxPQrXo3AzQNv5fmq8dDNA2/l+arx0M0Db+X5qvHQzQNv5fmq8dDNA9ihcj8J1M0CF61G4HoUzQPCnxks3iTNACtejcD2KM0CPwvUoXI8zQMUgsHJokTNAmpmZmZmZM0DZzvdT46UzQNnO91PjpTNAZmZmZmamM0BmZmZmZqYzQK5H4XoUrjNArkfhehSuM0CuR+F6FK4zQK5H4XoUrjNA7nw/NV66M0AAAAAAAMAzQI2XbhKDwDNAw/UoXI/CM0DD9Shcj8IzQC2yne+nxjNAzczMzMzMM0Bt5/up8dIzQG3n+6nx0jNAFK5H4XrUM0CsHFpkO98zQGZmZmZm5jNAZmZmZmbmM0BmZmZmZuYzQGZmZmZm5jNA7FG4HoXrM0DsUbgeheszQOxRuB6F6zNA7FG4HoXrM0DsUbgeheszQOxRuB6F6zNAVg4tsp3vM0BWDi2yne8zQFYOLbKd7zNA9ihcj8L1M0B7FK5H4fozQHsUrkfh+jNAexSuR+H6M0B7FK5H4fozQD0K16Nw/TNAPQrXo3D9M0AAAAAAAAA0QGq8dJMYBDRAarx0kxgENEBqvHSTGAQ0QArXo3A9CjRACtejcD0KNEAK16NwPQo0QArXo3A9CjRACtejcD0KNEAK16NwPQo0QKrx0k1iEDRAf2q8dJMYNECamZmZmRk0QLTIdr6fGjRAtMh2vp8aNEAfhetRuB40QIlBYOXQIjRAKVyPwvUoNEApXI/C9Sg0QAisHFpkOzRACKwcWmQ7NEA9CtejcD00QD0K16NwPTRAUrgehetRNEBSuB6F61E0QFK4HoXrUTRA16NwPQpXNEDXo3A9Clc0QJHtfD81XjRAH4XrUbheNEAX2c73U2M0QHE9CtejcDRA9ihcj8J1NEAlBoGVQ4s0QCUGgZVDizRAj8L1KFyPNEDFILByaJE0QBSuR+F6lDRAz/dT46WbNEAfhetRuJ40QKRwPQrXozRAZmZmZmamNEBmZmZmZqY0QGZmZmZmpjRARIts5/upNEAzMzMzM7M0QDMzMzMzszRAMzMzMzOzNEAzMzMzM7M0QDMzMzMzszRAMzMzMzOzNEAzMzMzM7M0QE5iEFg5tDRAuB6F61G4NEDTTWIQWLk0QNNNYhBYuTRAI9v5fmq8NEAj2/l+arw0QCPb+X5qvDRAI9v5fmq8NEAj2/l+arw0QCPb+X5qvDRAI9v5fmq8NEAj2/l+arw0QCPb+X5qvDRAI9v5fmq8NEAj2/l+arw0QCPb+X5qvDRAI9v5fmq8NEAj2/l+arw0QCPb+X5qvDRA+FPjpZvENEBiEFg5tMg0QGIQWDm0yDRAzczMzMzMNEACK4cW2c40QAIrhxbZzjRAUrgehevRNEBCYOXQIts0QFyPwvUo3DRA4XoUrkfhNEAhsHJoke00QCGwcmiR7TRAVg4tsp3vNEBxPQrXo/A0QHE9Ctej8DRAcT0K16PwNEDByqFFtvM0QPYoXI/C9TRA9ihcj8L1NEC4HoXrUfg0QMuhRbbz/TRAAAAAAAAANUDfT42XbhI1QB+F61G4HjVAH4XrUbgeNUAfhetRuB41QF66SQwCKzVAyXa+nxovNUDJdr6fGi81QE5iEFg5NDVA9ihcj8I1NUA9CtejcD01QHNoke18PzVAzczMzMxMNUDNzMzMzEw1QB1aZDvfTzVAvHSTGARWNUDXo3A9Clc1QFyPwvUoXDVAXI/C9ShcNUBcj8L1KFw1QMdLN4lBYDVA4XoUrkdhNUCkcD0K12M1QDEIrBxaZDVAZmZmZmZmNUBmZmZmZmY1QGZmZmZmZjVAZmZmZmZmNUBmZmZmZmY1QGZmZmZmZjVA2/l+arx0NUB7FK5H4Xo1QHsUrkfhejVAexSuR+F6NUCwcmiR7Xw1QFpkO99PjTVAj8L1KFyPNUCPwvUoXI81QI/C9ShcjzVAj8L1KFyPNUDFILByaJE1QJqZmZmZmTVAGQRWDi2yNUC4HoXrUbg1QLgehetRuDVA7nw/NV66NUBYObTIdr41QFg5tMh2vjVASOF6FK7HNUCYbhKDwMo1QM3MzMzMzDVAj8L1KFzPNUDXo3A9Ctc1QNejcD0K1zVAd76fGi/dNUDhehSuR+E1QOF6FK5H4TVAZmZmZmbmNUDsUbgehes1QK5H4XoU7jVArkfhehTuNUBWDi2yne81QFYOLbKd7zVA9ihcj8L1NUD2KFyPwvU1QCuHFtnO9zVAexSuR+H6NUB7FK5H4fo1QJZDi2zn+zVAPQrXo3D9NUA9CtejcP01QAAAAAAAADZAAAAAAAAANkAAAAAAAAA2QM3MzMzMDDZAzczMzMwMNkCkcD0K1yM2QKRwPQrXIzZApHA9CtcjNkCuR+F6FC42QDMzMzMzMzZAexSuR+E6NkB7FK5H4To2QD0K16NwPTZAc2iR7Xw/NkB9PzVeukk2QH0/NV66STZAUrgehetRNkBSuB6F61E2QLx0kxgEVjZA8tJNYhBYNkCR7Xw/NV42QJHtfD81XjZAke18PzVeNkDhehSuR2E2QIlBYOXQYjZABoGVQ4tsNkAhsHJokW02QHsUrkfhejZAAAAAAACANkBQjZduEoM2QM3MzMzMjDZAFK5H4XqUNkAUrkfhepQ2QBSuR+F6lDZAFK5H4XqUNkDP91PjpZs2QM/3U+OlmzZAz/dT46WbNkDP91PjpZs2QClcj8L1qDZArkfhehSuNkBOYhBYObQ2QE5iEFg5tDZAuB6F61G4NkC4HoXrUbg2QLgehetRuDZAuB6F61G4NkC4HoXrUbg2QLgehetRuDZAAAAAAADANkCNl24Sg8A2QIXrUbgexTZAFK5H4XrUNkAUrkfhetQ2QAwCK4cW2TZADAIrhxbZNkDwp8ZLN+k2QOxRuB6F6zZA7FG4HoXrNkDsUbgehes2QOxRuB6F6zZA9ihcj8L1NkD2KFyPwvU2QPYoXI/C9TZA9ihcj8L1NkD2KFyPwvU2QPYoXI/C9TZA9ihcj8L1NkB7FK5H4fo2QAAAAAAAADdACtejcD0KN0AK16NwPQo3QArXo3A9CjdA+n5qvHQTN0AUrkfhehQ3QJqZmZmZGTdAmpmZmZkZN0CamZmZmRk3QB+F61G4HjdAH4XrUbgeN0AfhetRuB43QB+F61G4HjdAiUFg5dAiN0ApXI/C9Sg3QClcj8L1KDdAXrpJDAIrN0AzMzMzMzM3QDMzMzMzMzdAPQrXo3A9N0BSuB6F61E3QFK4HoXrUTdA16NwPQpXN0Dy0k1iEFg3QFyPwvUoXDdAXI/C9ShcN0Bcj8L1KFw3QFyPwvUoXDdARrbz/dR4N0BGtvP91Hg3QEa28/3UeDdAexSuR+F6N0CF61G4HoU3QI/C9ShcjzdABFYOLbKdN0AEVg4tsp03QKRwPQrXozdAZmZmZmamN0ApXI/C9ag3QOxRuB6FqzdArkfhehSuN0CuR+F6FK43QK5H4XoUrjdArkfhehSuN0CuR+F6FK43QK5H4XoUrjdA46WbxCCwN0AZBFYOLbI3QBkEVg4tsjdAWDm0yHa+N0DD9Shcj8I3QKJFtvP91DdAokW28/3UN0DXo3A9Ctc3QNejcD0K1zdAmpmZmZnZN0DhehSuR+E3QOF6FK5H4TdA4XoUrkfhN0CBlUOLbOc3QLbz/dR46TdA7FG4HoXrN0DsUbgehes3QOxRuB6F6zdA7FG4HoXrN0DsUbgehes3QOxRuB6F6zdAwcqhRbbzN0ArhxbZzvc3QCuHFtnO9zdAK4cW2c73N0Bg5dAi2/k3QGDl0CLb+TdAYOXQItv5N0Bg5dAi2/k3QGDl0CLb+TdAsHJoke38N0CwcmiR7fw3QLByaJHt/DdAPQrXo3D9N0A9CtejcP03QD0K16Nw/TdAy6FFtvP9N0AAAAAAAAA4QAAAAAAAADhAAAAAAAAAOEDVeOkmMQg4QD81XrpJDDhAmpmZmZkZOECamZmZmRk4QJqZmZmZGThApHA9CtcjOED+1HjpJjE4QDMzMzMzMzhA001iEFg5OECF61G4HkU4QH0/NV66SThAUrgehetROEBSuB6F61E4QJHtfD81XjhAZmZmZmZmOEBmZmZmZmY4QAaBlUOLbDhABoGVQ4tsOECmm8QgsHI4QKabxCCwcjhAppvEILByOECmm8QgsHI4QKabxCCwcjhARrbz/dR4OEDNzMzMzIw4QI/C9ShcjzhAj8L1KFyPOECPwvUoXI84QI/C9ShcjzhAj8L1KFyPOECPwvUoXI84QI/C9ShcjzhASgwCK4eWOEBKDAIrh5Y4QEoMAiuHljhAeekmMQisOEB56SYxCKw4QHnpJjEIrDhAMzMzMzOzOEAzMzMzM7M4QE5iEFg5tDhAAAAAAADAOEBiEFg5tMg4QDeJQWDl0DhAN4lBYOXQOEA3iUFg5dA4QDeJQWDl0DhA16NwPQrXOECamZmZmdk4QJqZmZmZ2ThA4XoUrkfhOEBMN4lBYOU4QGZmZmZm5jhAZmZmZmbmOEBmZmZmZuY4QPYoXI/C9ThA9ihcj8L1OECF61G4HgU5QNV46SYxCDlA1XjpJjEIOUDVeOkmMQg5QI/C9ShcDzlAj8L1KFwPOUCPwvUoXA85QI/C9ShcDzlAj8L1KFwPOUAUrkfhehQ5QFyPwvUoHDlAH4XrUbgeOUAfhetRuB45QFTjpZvEIDlAKVyPwvUoOUCTGARWDi05QJMYBFYOLTlAc2iR7Xw/OUBzaJHtfD85QM3MzMzMTDlAUrgehetROUBSuB6F61E5QPLSTWIQWDlA8tJNYhBYOUDy0k1iEFg5QPLSTWIQWDlA8tJNYhBYOUDy0k1iEFg5QPLSTWIQWDlAmpmZmZlZOUCamZmZmVk5QGZmZmZmZjlAZmZmZmZmOUBxPQrXo3A5QHE9CtejcDlARrbz/dR4OUCwcmiR7Xw5QLByaJHtfDlAsHJoke18OUAAAAAAAIA5QI/C9ShcjzlAL90kBoGVOUAv3SQGgZU5QG8Sg8DKoTlArkfhehSuOUCuR+F6FK45QK5H4XoUrjlAGQRWDi2yOUD2KFyPwrU5QPYoXI/CtTlAw/UoXI/COUDD9Shcj8I5QEjhehSuxzlAbef7qfHSOUBt5/up8dI5QBSuR+F61DlAFK5H4XrUOUBcj8L1KNw5QFyPwvUo3DlA7FG4HoXrOUDsUbgehes5QOxRuB6F6zlA7FG4HoXrOUDsUbgehes5QOxRuB6F6zlA7FG4HoXrOUDsUbgehes5QOxRuB6F6zlA7FG4HoXrOUDsUbgehes5QOxRuB6F6zlA7FG4HoXrOUDsUbgehes5QOxRuB6F6zlA7FG4HoXrOUDsUbgehes5QOxRuB6F6zlA7FG4HoXrOUDsUbgehes5QOxRuB6F6zlA7FG4HoXrOUDsUbgehes5QOxRuB6F6zlAexSuR+H6OUB7FK5H4fo5QJZDi2zn+zlAlkOLbOf7OUCWQ4ts5/s5QD0K16Nw/TlAPQrXo3D9OUAAAAAAAAA6QAAAAAAAADpAw/UoXI8COkDVeOkmMQg6QLKd76fGCzpAsp3vp8YLOkCq8dJNYhA6QIlBYOXQIjpAKVyPwvUoOkCTGARWDi06QJMYBFYOLTpAMzMzMzMzOkAAAAAAAEA6QAAAAAAAQDpAvHSTGARWOkAnMQisHFo6QMdLN4lBYDpA4XoUrkdhOkDhehSuR2E6QBfZzvdTYzpAZmZmZmZmOkBmZmZmZmY6QGZmZmZmZjpAZmZmZmZmOkBmZmZmZmY6QGZmZmZmZjpAZmZmZmZmOkAOLbKd72c6QAaBlUOLbDpAO99PjZduOkD2KFyPwnU6QHsUrkfhejpAPQrXo3B9OkDNzMzMzIw6QG8Sg8DKoTpApHA9CtejOkC4HoXrUbg6QLgehetRuDpAuB6F61G4OkC4HoXrUbg6QMP1KFyPwjpAzczMzMzMOkCamZmZmdk6QFyPwvUo3DpA4XoUrkfhOkDhehSuR+E6QOF6FK5H4TpAcT0K16PwOkD2KFyPwvU6QPYoXI/C9TpAYOXQItv5OkBg5dAi2/k6QAisHFpk+zpA+FPjpZsEO0B1kxgEVg47QH9qvHSTGDtAH4XrUbgeO0BmZmZmZiY7QF66SQwCKztAXrpJDAIrO0BeukkMAis7QK5H4XoULjtAyXa+nxovO0D+1HjpJjE7QDMzMzMzMztAnu+nxks3O0Ce76fGSzc7QD0K16NwPTtAPQrXo3A9O0DdJAaBlUM7QB1aZDvfTztAXI/C9ShcO0Bcj8L1KFw7QPyp8dJNYjtATDeJQWBlO0BMN4lBYGU7QESLbOf7aTtA7FG4HoVrO0DsUbgehWs7QHE9CtejcDtAcT0K16NwO0D2KFyPwnU7QOXQItv5fjtAhetRuB6FO0BaZDvfT407QBSuR+F6lDtAmpmZmZmZO0CuR+F6FK47QBkEVg4tsjtAuB6F61G4O0C4HoXrUbg7QLgehetRuDtAWDm0yHa+O0DD9Shcj8I7QI/C9ShczztAN4lBYOXQO0Bcj8L1KNw7QOF6FK5H4TtAbxKDwMrhO0BmZmZmZuY7QOxRuB6F6ztA7FG4HoXrO0CuR+F6FO47QK5H4XoU7jtAVg4tsp3vO0BWDi2yne87QPYoXI/C9TtA9ihcj8L1O0ArhxbZzvc7QCuHFtnO9ztAy6FFtvP9O0AAAAAAAAA8QNV46SYxCDxAPzVeukkMPEAUrkfhehQ8QKRwPQrXIzxApHA9CtcjPEApXI/C9Sg8QBKDwMqhRTxASOF6FK5HPECamZmZmVk8QCcxCKwcWjxAZmZmZmZmPEBmZmZmZmY8QGZmZmZmZjxAcT0K16NwPEBxPQrXo3A8QFyPwvUofDxAeekmMQisPEDufD81Xro8QI2XbhKDwDxAjZduEoPAPECNl24Sg8A8QI2XbhKDwDxA1XjpJjHIPEBiEFg5tMg8QJhuEoPAyjxAzczMzMzMPEDNzMzMzMw8QNejcD0K1zxAtMh2vp/aPEBmZmZmZuY8QClcj8L16DxAKVyPwvXoPEA9CtejcP08QB+F61G4Hj1AH4XrUbgePUAfhetRuB49QClcj8L1KD1AMzMzMzMzPUAzMzMzMzM9QLgehetROD1APQrXo3A9PUA9CtejcD09QD0K16NwPT1ACtejcD1KPUAdWmQ73089QFK4HoXrUT1A16NwPQpXPUDXo3A9Clc9QNejcD0KVz1A16NwPQpXPUBcj8L1KFw9QKwcWmQ7Xz1AukkMAitnPUD2KFyPwnU9QEa28/3UeD1AhetRuB6FPUCF61G4HoU9QI/C9Shcjz1AZDvfT42XPUCamZmZmZk9QJqZmZmZmT1AmpmZmZmZPUCamZmZmZk9QFyPwvUonD1ARIts5/upPUAzMzMzM7M9QDMzMzMzsz1AMzMzMzOzPUArhxbZzrc9QD0K16NwvT1Aw/UoXI/CPUBI4XoUrsc9QArXo3A9yj1ACtejcD3KPUDNzMzMzMw9QM3MzMzMzD1AzczMzMzMPUACK4cW2c49QNejcD0K1z1AZmZmZmbmPUBmZmZmZuY9QGZmZmZm5j1AZmZmZmbmPUA730+Nl+49QHE9Ctej8D1AMzMzMzPzPUAzMzMzM/M9QPYoXI/C9T1AuB6F61H4PUC4HoXrUfg9QLgehetR+D1AexSuR+H6PUA9CtejcP09QAAAAAAAAD5AAAAAAAAAPkBqvHSTGAQ+QN9PjZduEj5AFK5H4XoUPkAUrkfhehQ+QL6fGi/dJD5Avp8aL90kPkCuR+F6FC4+QK5H4XoULj5A/tR46SYxPkBI4XoUrkc+QLx0kxgEVj5AvHSTGARWPkDy0k1iEFg+QLgehetRWD5AJzEIrBxaPkBcj8L1KFw+QPyp8dJNYj5AZmZmZmZmPkBxPQrXo3A+QHsUrkfhej5AexSuR+F6PkB7FK5H4Xo+QLpJDAIrhz5ASOF6FK6HPkCPwvUoXI8+QI/C9Shcjz5Aj8L1KFyPPkCPwvUoXI8+QI/C9Shcjz5A+n5qvHSTPkB56SYxCKw+QPhT46WbxD5AzczMzMzMPkA3iUFg5dA+QDeJQWDl0D5AN4lBYOXQPkCHFtnO99M+QNejcD0K1z5A16NwPQrXPkDXo3A9Ctc+QB+F61G43j5A4XoUrkfhPkCuR+F6FO4+QPYoXI/C9T5A9ihcj8L1PkD2KFyPwvU+QPYoXI/C9T5AYOXQItv5PkB7FK5H4fo+QHsUrkfh+j5Ay6FFtvP9PkA1XrpJDAI/QIXrUbgeBT9AzczMzMwMP0DNzMzMzAw/QM3MzMzMDD9AFK5H4XoUP0C8dJMYBBY/QLTIdr6fGj9AtMh2vp8aP0C0yHa+nxo/QLTIdr6fGj9AtMh2vp8aP0C0yHa+nxo/QLTIdr6fGj9AtMh2vp8aP0C0yHa+nxo/QB+F61G4Hj9AH4XrUbgeP0BU46WbxCA/QEjhehSuJz9AkxgEVg4tP0CTGARWDi0/QDMzMzMzMz9Ac2iR7Xw/P0BmZmZmZmY/QGZmZmZmZj9AcT0K16NwP0BxPQrXo3A/QHE9CtejcD9AcT0K16NwP0BxPQrXo3A/QAAAAAAAgD9AAAAAAACAP0AbL90kBoE/QBsv3SQGgT9Aj8L1KFyPP0CPwvUoXI8/QI/C9Shcjz9Aj8L1KFyPP0CuR+F6FK4/QK5H4XoUrj9ArkfhehSuP0CuR+F6FK4/QK5H4XoUrj9AWDm0yHa+P0BYObTIdr4/QFg5tMh2vj9ALbKd76fGP0Atsp3vp8Y/QM3MzMzMzD9A16NwPQrXP0Bcj8L1KNw/QFyPwvUo3D9ArBxaZDvfP0DsUbgehes/QOxRuB6F6z9A7FG4HoXrP0DsUbgehes/QDMzMzMz8z9A9ihcj8L1P0D2KFyPwvU/QCuHFtnO9z9AK4cW2c73P0CWQ4ts5/s/QJZDi2zn+z9AlkOLbOf7P0CWQ4ts5/s/QJZDi2zn+z9AlkOLbOf7P0CWQ4ts5/s/QJZDi2zn+z9Ay6FFtvP9P0CF61G4HgVAQIXrUbgeBUBASOF6FK4HQEDVeOkmMQhAQNV46SYxCEBA1XjpJjEIQEApXI/C9QhAQCUGgZVDC0BAcT0K16MQQEB/arx0kxhAQARWDi2yHUBA7FG4HoUrQECuR+F6FC5AQMl2vp8aL0BAN4lBYOUwQEAzMzMzMzNAQDMzMzMzM0BAMzMzMzMzQEAzMzMzMzNAQDMzMzMzM0BAMzMzMzMzQEAzMzMzMzNAQDMzMzMzM0BAMzMzMzMzQEAzMzMzMzNAQDMzMzMzM0BAMzMzMzMzQEAzMzMzMzNAQDMzMzMzM0BAMzMzMzMzQEAzMzMzMzNAQDMzMzMzM0BAMzMzMzMzQEAzMzMzMzNAQDMzMzMzM0BAMzMzMzMzQEAzMzMzMzNAQNNNYhBYOUBAPQrXo3A9QEA9CtejcD1AQIXrUbgeRUBAEoPAyqFFQEASg8DKoUVAQEjhehSuR0BAsp3vp8ZLQED2KFyPwlVAQJqZmZmZWUBAQmDl0CJbQEAAAAAAAGBAQOF6FK5HYUBAF9nO91NjQEAxCKwcWmRAQDEIrBxaZEBAppvEILByQECmm8QgsHJAQLgehetReEBAYOXQItt5QEB7FK5H4XpAQFyPwvUofEBArkfhehR+QEAAAAAAAIBAQMP1KFyPgkBAUI2XbhKDQECF61G4HoVAQK5H4XoUjkBArkfhehSOQECPwvUoXI9AQNejcD0Kl0BAbxKDwMqhQECkcD0K16NAQGq8dJMYpEBAhetRuB6lQECuR+F6FK5AQK5H4XoUrkBArkfhehSuQEDjpZvEILBAQDMzMzMzs0BAMzMzMzOzQEAzMzMzM7NAQDMzMzMzs0BAuB6F61G4QECamZmZmblAQD0K16NwvUBAPQrXo3C9QEBYObTIdr5AQFg5tMh2vkBAWDm0yHa+QEDD9Shcj8JAQN0kBoGVw0BALbKd76fGQEBiEFg5tMhAQGIQWDm0yEBAYhBYObTIQEBiEFg5tMhAQGIQWDm0yEBAYhBYObTIQEBiEFg5tMhAQClcj8L1yEBAj8L1KFzPQEBxPQrXo9BAQHE9Ctej0EBAXI/C9SjcQEBMN4lBYOVAQGZmZmZm5kBAKVyPwvXoQECPwvUoXO9AQDMzMzMz80BAMzMzMzPzQEDXo3A9CvdAQLgehetR+EBAexSuR+H6QEB7FK5H4fpAQMP1KFyPAkFAw/UoXI8CQUBmZmZmZgZBQGZmZmZmBkFACtejcD0KQUBKDAIrhxZBQJqZmZmZGUFAH4XrUbgeQUAfhetRuB5BQB+F61G4HkFAH4XrUbgeQUA5tMh2vh9BQDm0yHa+H0FAiUFg5dAiQUCuR+F6FC5BQI/C9ShcL0FA/tR46SYxQUAzMzMzMzNBQDMzMzMzM0FAuB6F61E4QUC4HoXrUThBQD0K16NwPUFAAAAAAABAQUCNl24Sg0BBQI2XbhKDQEFAhetRuB5FQUAK16NwPUpBQArXo3A9SkFAzczMzMxMQUAzMzMzM1NBQDMzMzMzU0FAMzMzMzNTQUCHFtnO91NBQNejcD0KV0FA16NwPQpXQUCamZmZmVlBQJqZmZmZWUFAH4XrUbheQUAAAAAAAGBBQOF6FK5HYUFA4XoUrkdhQUDD9Shcj2JBQIXrUbgeZUFAZmZmZmZmQUAGgZVDi2xBQAaBlUOLbEFArkfhehRuQUCuR+F6FG5BQK5H4XoUbkFA9ihcj8J1QUBGtvP91HhBQEa28/3UeEFAAAAAAACAQUAAAAAAAIBBQBsv3SQGgUFANV66SQyCQUCF61G4HoVBQIXrUbgehUFASOF6FK6HQUBI4XoUrodBQEjhehSuh0FAzczMzMyMQUDNzMzMzIxBQI/C9Shcj0FAj8L1KFyPQUAv3SQGgZVBQC/dJAaBlUFAL90kBoGVQUAv3SQGgZVBQC/dJAaBlUFAL90kBoGVQUBkO99PjZdBQJqZmZmZmUFAz/dT46WbQUAEVg4tsp1BQARWDi2ynUFApHA9CtejQUCkcD0K16NBQOxRuB6Fq0FA7FG4HoWrQUCTGARWDq1BQK5H4XoUrkFAMzMzMzOzQUAzMzMzM7NBQDMzMzMzs0FAuB6F61G4QUC4HoXrUbhBQClcj8L1uEFA001iEFi5QUA9CtejcL1BQB+F61G4vkFAw/UoXI/CQUDD9Shcj8JBQBKDwMqhxUFASOF6FK7HQUBI4XoUrsdBQGIQWDm0yEFAQmDl0CLbQUDhehSuR+FBQDEIrBxa5EFAgZVDi2znQUApXI/C9ehBQCGwcmiR7UFAcT0K16PwQUBxPQrXo/BBQHE9Ctej8EFAcT0K16PwQUBSuB6F6/FBQBSuR+F69EFAFK5H4Xr0QUAUrkfhevRBQPYoXI/C9UFAYOXQItv5QUB7FK5H4fpBQHsUrkfh+kFAXI/C9Sj8QUBcj8L1KPxBQMuhRbbz/UFAAAAAAAAAQkAAAAAAAABCQFCNl24SA0JAoBov3SQGQkB1kxgEVg5CQH9qvHSTGEJAH4XrUbgeQkAfhetRuB5CQB+F61G4HkJAH4XrUbgeQkDD9ShcjyJCQL6fGi/dJEJAvp8aL90kQkC+nxov3SRCQL6fGi/dJEJAvp8aL90kQkC+nxov3SRCQL6fGi/dJEJAKVyPwvUoQkBeukkMAitCQJMYBFYOLUJArkfhehQuQkAzMzMzMzNCQDMzMzMzM0JAMzMzMzMzQkAzMzMzMzNCQDMzMzMzM0JAuB6F61E4QkC4HoXrUThCQD0K16NwPUJA4XoUrkdBQkASg8DKoUVCQEjhehSuR0JASOF6FK5HQkDNzMzMzExCQM3MzMzMTEJAHVpkO99PQkAdWmQ7309CQHE9CtejUEJAcT0K16NQQkBxPQrXo1BCQHE9CtejUEJAvHSTGARWQkC8dJMYBFZCQFg5tMh2XkJArBxaZDtfQkAxCKwcWmRCQDEIrBxaZEJAMQisHFpkQkBMN4lBYGVCQEw3iUFgZUJA7FG4HoVrQkDsUbgehWtCQHsUrkfhekJAH4XrUbh+QkAAAAAAAIBCQBsv3SQGgUJAZmZmZmaGQkC6SQwCK4dCQLpJDAIrh0JA9ihcj8KVQkD2KFyPwpVCQLTIdr6fmkJA6SYxCKycQkDZzvdT46VCQA4tsp3vp0JAKVyPwvWoQkDjpZvEILBCQOOlm8QgsEJAGQRWDi2yQkBOYhBYObRCQE5iEFg5tEJAZmZmZma2QkC4HoXrUbhCQLgehetRuEJAuB6F61G4QkAIrBxaZLtCQMP1KFyPwkJAw/UoXI/CQkDD9Shcj8JCQOxRuB6Fy0JAzczMzMzMQkDn+6nx0s1CQNejcD0K10JA16NwPQrXQkAfhetRuN5CQB+F61G43kJAx0s3iUHgQkDhehSuR+FCQG8Sg8DK4UJA7FG4HoXrQkCmm8QgsPJCQBSuR+F69EJA16NwPQr3QkC4HoXrUfhCQLgehetR+EJAuB6F61H4QkC4HoXrUfhCQLgehetR+EJAuB6F61H4QkC4HoXrUfhCQDVeukkMAkNACtejcD0KQ0AlBoGVQwtDQMUgsHJoEUNAuB6F61EYQ0Bcj8L1KBxDQB+F61G4HkNAiUFg5dAiQ0CkcD0K1yNDQIXrUbgeJUNA7FG4HoUrQ0DsUbgehStDQOOlm8QgMENAi2zn+6kxQ0Ce76fGSzdDQMP1KFyPQkNAw/UoXI9CQ0DD9Shcj0JDQHsUrkfhWkNAMQisHFpkQ0ApXI/C9WhDQClcj8L1aENAO99PjZduQ0A730+Nl25DQHE9CtejcENAcT0K16NwQ0BxPQrXo3BDQHE9CtejcENAcT0K16NwQ0BxPQrXo3BDQHE9CtejcENAcT0K16NwQ0BxPQrXo3BDQHE9CtejcENAMzMzMzNzQ0CwcmiR7XxDQLByaJHtfENAsHJoke18Q0AAAAAAAIBDQAAAAAAAgENA8KfGSzeJQ0AK16NwPYpDQPp+arx0k0NAbxKDwMqhQ0CkcD0K16NDQNnO91PjpUNADi2yne+nQ0Atsp3vp8ZDQNEi2/l+ykNAeekmMQjMQ0AdWmQ7389DQB1aZDvfz0NA16NwPQrXQ0DXo3A9CtdDQNejcD0K10NAXI/C9SjcQ0DhehSuR+FDQOF6FK5H4UNAgZVDi2znQ0CcxCCwcuhDQOxRuB6F60NAVg4tsp3vQ0CNl24Sg/BDQHE9Ctej8ENAcT0K16PwQ0BxPQrXo/BDQFK4HoXr8UNA9ihcj8L1Q0D2KFyPwvVDQPYoXI/C9UNA9ihcj8L1Q0D2KFyPwvVDQCuHFtnO90NAexSuR+H6Q0B7FK5H4fpDQHsUrkfh+kNAexSuR+H6Q0B7FK5H4fpDQHsUrkfh+kNAexSuR+H6Q0B7FK5H4fpDQHsUrkfh+kNAPQrXo3D9Q0A9CtejcP1DQD0K16Nw/UNAPQrXo3D9Q0DLoUW28/1DQMuhRbbz/UNAH4XrUbj+Q0Dl0CLb+f5DQOXQItv5/kNA5dAi2/n+Q0AAAAAAAABEQGq8dJMYBERAarx0kxgEREBmZmZmZgZEQD81XrpJDERAPzVeukkMREBSuB6F6xFEQEoMAiuHFkRASgwCK4cWRECamZmZmRlEQJqZmZmZGURAVOOlm8QgRECF61G4HiVEQLgehetROERAexSuR+E6REA9CtejcD1EQD0K16NwPURAPQrXo3A9REA9CtejcD1EQIXrUbgeRURASOF6FK5HRED2KFyPwlVEQNejcD0KV0RA16NwPQpXREDXo3A9CldEQNejcD0KV0RAmpmZmZlZRECamZmZmVlEQEJg5dAiW0RAke18PzVeREAfhetRuF5EQB+F61G4XkRAH4XrUbheREAfhetRuF5EQMdLN4lBYERAF9nO91NjREAX2c73U2NEQDEIrBxaZERAMQisHFpkREBxPQrXo3BEQPYoXI/CdURAlkOLbOd7REBcj8L1KHxEQD0K16NwfURAH4XrUbh+REAfhetRuH5EQIXrUbgehURAXI/C9SicREAfhetRuJ5EQFTjpZvEoERApHA9CtejRECkcD0K16NEQKRwPQrXo0RARIts5/upRECuR+F6FK5EQOOlm8QgsERA46WbxCCwREAzMzMzM7NEQDMzMzMzs0RAMzMzMzOzREAzMzMzM7NEQIPAyqFFtkRAg8DKoUW2REAj2/l+arxEQCPb+X5qvERAI9v5fmq8REAj2/l+arxEQIXrUbgexURALbKd76fGREBiEFg5tMhEQGIQWDm0yERAYhBYObTIRECYbhKDwMpEQM3MzMzMzERAzczMzMzMRECamZmZmdlEQFyPwvUo3ERAXI/C9SjcREDNzMzMzOxEQK5H4XoU7kRArkfhehTuRECuR+F6FO5EQK5H4XoU7kRArkfhehTuREBxPQrXo/BEQHE9Ctej8ERAMzMzMzPzREAzMzMzM/NEQDMzMzMz80RAwcqhRbbzREDByqFFtvNEQBSuR+F69ERA9ihcj8L1RED2KFyPwvVEQLgehetR+ERAuB6F61H4RECamZmZmflEQLTIdr6f+kRAexSuR+H6REB7FK5H4fpEQHsUrkfh+kRAexSuR+H6REB7FK5H4fpEQHsUrkfh+kRAWDm0yHb+RECgGi/dJAZFQB+F61G4HkVAH4XrUbgeRUDJdr6fGi9FQP7UeOkmMUVATmIQWDk0RUDNzMzMzExFQM3MzMzMTEVAzczMzMxMRUACK4cW2U5FQAIrhxbZTkVAHVpkO99PRUDhehSuR2FFQOF6FK5HYUVAMQisHFpkRUBmZmZmZmZFQM3MzMzMbEVA16NwPQp3RUCamZmZmXlFQLByaJHtfEVAw/UoXI+CRUCF61G4HoVFQLpJDAIrh0VAzczMzMyMRUDNzMzMzIxFQI/C9Shcj0VAj8L1KFyPRUBxPQrXo5BFQHE9CtejkEVASgwCK4eWRUBKDAIrh5ZFQEoMAiuHlkVA8tJNYhCYRUDhehSuR6FFQOF6FK5HoUVApHA9CtejRUDZzvdT46VFQEjhehSup0VAKVyPwvWoRUBWDi2yna9FQBSuR+F6tEVAAAAAAADARUBI4XoUrsdFQEjhehSux0VAKVyPwvXIRUCYbhKDwMpFQJhuEoPAykVAzczMzMzMRUDNzMzMzMxFQM3MzMzMzEVAzczMzMzMRUDXo3A9CtdFQNejcD0K10VAmpmZmZnZRUCuR+F6FO5FQFYOLbKd70VA9ihcj8L1RUD2KFyPwvVFQPYoXI/C9UVA9ihcj8L1RUD2KFyPwvVFQCuHFtnO90VAexSuR+H6RUB7FK5H4fpFQMP1KFyPAkZAqvHSTWIQRkDjpZvEIDBGQP7UeOkmMUZAMzMzMzMzRkAzMzMzMzNGQDMzMzMzM0ZAMzMzMzMzRkAzMzMzMzNGQDMzMzMzM0ZAaJHtfD81RkDXo3A9CjdGQHsUrkfhOkZAexSuR+E6RkB7FK5H4TpGQHsUrkfhOkZA9ihcj8JVRkD2KFyPwlVGQLx0kxgEVkZA8tJNYhBYRkDy0k1iEFhGQJHtfD81XkZAAAAAAABgRkAAAAAAAGBGQAAAAAAAYEZAMQisHFpkRkAxCKwcWmRGQDEIrBxaZEZAKVyPwvVoRkDsUbgehWtGQAaBlUOLbEZAIbByaJFtRkAUrkfhenRGQLgehetReEZAAAAAAACARkAAAAAAAIBGQAAAAAAAgEZAhetRuB6FRkCF61G4HoVGQLpJDAIrh0ZAj8L1KFyPRkDP91PjpZtGQM/3U+Olm0ZAObTIdr6fRkA5tMh2vp9GQKRwPQrXo0ZArkfhehSuRkCuR+F6FK5GQK5H4XoUrkZArkfhehSuRkCuR+F6FK5GQK5H4XoUrkZArkfhehSuRkCuR+F6FK5GQK5H4XoUrkZArkfhehSuRkCuR+F6FK5GQDMzMzMzs0ZAPQrXo3C9RkA9CtejcL1GQN0kBoGVw0ZA3SQGgZXDRkDdJAaBlcNGQGIQWDm0yEZAfT81XrrJRkCYbhKDwMpGQBSuR+F61EZA16NwPQrXRkDXo3A9CtdGQNejcD0K10ZADAIrhxbZRkAMAiuHFtlGQIts5/up8UZA30+Nl27yRkD2KFyPwvVGQPYoXI/C9UZA9ihcj8L1RkB7FK5H4fpGQHsUrkfh+kZAPQrXo3D9RkA9CtejcP1GQB+F61G4/kZAAAAAAAAAR0D6fmq8dBNHQJqZmZmZGUdAmpmZmZkZR0CamZmZmRlHQB+F61G4HkdA4XoUrkchR0ApXI/C9ShHQHnpJjEILEdAzczMzMwsR0DNzMzMzCxHQK5H4XoULkdA/tR46SYxR0D+1HjpJjFHQLgehetROEdA4XoUrkdBR0CkcD0K10NHQKRwPQrXQ0dApHA9CtdDR0CPwvUoXE9HQFK4HoXrUUdAvHSTGARWR0C8dJMYBFZHQPLSTWIQWEdAXI/C9ShcR0Bcj8L1KFxHQB+F61G4XkdAH4XrUbheR0DhehSuR2FHQOF6FK5HYUdAZmZmZmZmR0BmZmZmZmZHQOxRuB6Fa0dAO99PjZduR0BWDi2ynW9HQDMzMzMzc0dAuB6F61F4R0B7FK5H4XpHQOF6FK5HgUdAhetRuB6FR0CF61G4HoVHQI/C9Shcj0dAj8L1KFyPR0C4HoXrUZhHQLTIdr6fmkdAZmZmZmamR0BmZmZmZqZHQK5H4XoUrkdArkfhehSuR0AzMzMzM7NHQDMzMzMzs0dAc2iR7Xy/R0A1XrpJDMJHQMP1KFyPwkdAw/UoXI/CR0CYbhKDwMpHQAIrhxbZzkdAAiuHFtnOR0ACK4cW2c5HQKwcWmQ730dAhetRuB7lR0CBlUOLbOdHQClcj8L16EdAMzMzMzPzR0AzMzMzM/NHQMHKoUW280dA9ihcj8L1R0C4HoXrUfhHQGDl0CLb+UdAYOXQItv5R0Bg5dAi2/lHQGDl0CLb+UdAYOXQItv5R0Bg5dAi2/lHQHsUrkfh+kdAexSuR+H6R0CWQ4ts5/tHQFyPwvUo/EdAsHJoke38R0CwcmiR7fxHQLByaJHt/EdAsHJoke38R0A9CtejcP1HQD0K16Nw/UdAy6FFtvP9R0DLoUW28/1HQMuhRbbz/UdAy6FFtvP9R0DLoUW28/1HQMuhRbbz/UdAy6FFtvP9R0DLoUW28/1HQMuhRbbz/UdA5dAi2/n+R0Dl0CLb+f5HQOXQItv5/kdA5dAi2/n+R0BqvHSTGARIQK5H4XoULkhAPQrXo3A9SEB9PzVeuklIQArXo3A9SkhAN4lBYOVQSEBSuB6F61FIQKJFtvP9VEhAvHSTGARWSEBCYOXQIltIQFyPwvUoXEhAMQisHFpkSEAxCKwcWmRIQEw3iUFgZUhASOF6FK5nSECcxCCwcmhIQOxRuB6Fa0hABoGVQ4tsSECuR+F6FG5IQK5H4XoUbkhAj8L1KFxvSECmm8QgsHJIQKabxCCwckhAFK5H4Xp0SEC4HoXrUXhIQLgehetReEhAuB6F61F4SEBGtvP91HhIQArXo3A9ikhAj8L1KFyPSECPwvUoXI9IQI/C9Shcj0hAj8L1KFyPSECPwvUoXI9IQI/C9Shcj0hATmIQWDm0SEC4HoXrUbhIQAAAAAAAwEhA+FPjpZvESED4U+Olm8RIQEjhehSux0hAYhBYObTISEBiEFg5tMhIQGIQWDm0yEhAYhBYObTISEBiEFg5tMhIQGIQWDm0yEhAAiuHFtnOSEA3iUFg5dBIQDeJQWDl0EhAN4lBYOXQSEAzMzMzM9NIQOF6FK5H4UhATDeJQWDlSEAGgZVDi+xIQAaBlUOL7EhAPQrXo3D9SEAAAAAAAABJQAAAAAAAAElAAAAAAAAASUCF61G4HgVJQHWTGARWDklAj8L1KFwPSUCPwvUoXA9JQI/C9ShcD0lAxSCwcmgRSUBcj8L1KBxJQARWDi2yHUlAKVyPwvUoSUCTGARWDi1JQJMYBFYOLUlAkxgEVg4tSUCTGARWDi1JQCcxCKwcOklAc2iR7Xw/SUAxCKwcWmRJQGZmZmZmZklAcT0K16NwSUB7FK5H4XpJQHsUrkfheklAXI/C9Sh8SUBcj8L1KHxJQFYOLbKdf0lANV66SQyCSUDwp8ZLN4lJQI/C9Shcj0lAMzMzMzOTSUAv3SQGgZVJQC/dJAaBlUlAZDvfT42XSUBkO99PjZdJQG8Sg8DKoUlADi2yne+nSUAOLbKd76dJQA4tsp3vp0lAXrpJDAKrSUCamZmZmblJQJqZmZmZuUlA7FG4HoW7SUDD9Shcj8JJQMP1KFyPwklAZmZmZmbGSUBmZmZmZsZJQEjhehSux0lASOF6FK7HSUAlBoGVQ8tJQG3n+6nx0klAQmDl0CLbSUAAAAAAAOBJQAAAAAAA4ElAAAAAAADgSUAAAAAAAOBJQAAAAAAA4ElAAAAAAADgSUBU46WbxOBJQOxRuB6F60lA7FG4HoXrSUDsUbgehetJQOxRuB6F60lAiUFg5dDySUC4HoXrUfhJQJZDi2zn+0lAlkOLbOf7SUCWQ4ts5/tJQJZDi2zn+0lAPQrXo3D9SUDLoUW28/1JQNV46SYxCEpAPzVeukkMSkDFILByaBFKQIlBYOXQIkpAiUFg5dAiSkCF61G4HiVKQOxRuB6FK0pAuB6F61E4SkDTTWIQWDlKQKjGSzeJQUpAqMZLN4lBSkBI4XoUrkdKQNejcD0KV0pA16NwPQpXSkDHSzeJQWBKQOF6FK5HYUpA4XoUrkdhSkAX2c73U2NKQEw3iUFgZUpATDeJQWBlSkA9CtejcH1KQB+F61G4fkpAhetRuB6FSkAlBoGVQ4tKQJqZmZmZmUpAObTIdr6fSkAAAAAAAKBKQAAAAAAAoEpAnMQgsHKoSkCDwMqhRbZKQGIQWDm0yEpAXI/C9SjcSkBcj8L1KNxKQClcj8L16EpAcT0K16PwSkD2KFyPwvVKQLgehetR+EpAYOXQItv5SkBcj8L1KPxKQARWDi2y/UpAy6FFtvP9SkB/arx0kxhLQLTIdr6fGktA6SYxCKwcS0DpJjEIrBxLQClcj8L1KEtAKVyPwvUoS0BeukkMAitLQMl2vp8aL0tA/tR46SYxS0DdJAaBlUNLQBSuR+F6VEtAQmDl0CJbS0D8qfHSTWJLQEw3iUFgZUtAnMQgsHJoS0CcxCCwcmhLQJzEILByaEtAppvEILByS0AzMzMzM3NLQDMzMzMzc0tAMzMzMzNzS0AzMzMzM3NLQDMzMzMzc0tA9ihcj8J1S0B7FK5H4XpLQHsUrkfhektA5dAi2/l+S0AbL90kBoFLQC/dJAaBlUtASgwCK4eWS0BKDAIrh5ZLQEoMAiuHlktA8tJNYhCYS0CamZmZmZlLQG8Sg8DKoUtARIts5/upS0CuR+F6FK5LQK5H4XoUrktAg8DKoUW2S0C4HoXrUbhLQFyPwvUovEtAPQrXo3C9S0A9CtejcL1LQD0K16NwvUtAPQrXo3C9S0CYbhKDwMpLQM3MzMzMzEtAzczMzMzMS0ACK4cW2c5LQOF6FK5H4UtArkfhehTuS0D2KFyPwvVLQPYoXI/C9UtARrbz/dT4S0CWQ4ts5/tLQD0K16Nw/UtAPQrXo3D9S0DLoUW28/1LQMuhRbbz/UtAy6FFtvP9S0Dl0CLb+f5LQOXQItv5/ktA1XjpJjEITEDVeOkmMQhMQClcj8L1CExAFK5H4XoUTECkcD0K1yNMQGZmZmZmJkxAZmZmZmYmTEBEi2zn+ylMQDMzMzMzM0xAmpmZmZk5TEDD9Shcj0JMQMP1KFyPQkxAw/UoXI9CTEBI4XoUrkdMQEjhehSuR0xAYhBYObRITEAzMzMzM1NMQCuHFtnOV0xAK4cW2c5XTECamZmZmVlMQJqZmZmZWUxAJzEIrBxaTEAnMQisHFpMQCcxCKwcWkxAMQisHFpkTEApXI/C9WhMQBSuR+F6dExAexSuR+F6TEA9CtejcH1MQEjhehSuh0xAPQrXo3CdTEBOYhBYObRMQPYoXI/CtUxAjZduEoPATEBiEFg5tMhMQH0/NV66yUxAfT81XrrJTEDRItv5fspMQJhuEoPAykxAmG4Sg8DKTEB56SYxCMxMQNejcD0K10xAAAAAAADgTEAAAAAAAOBMQDMzMzMz80xA16NwPQr3TEB7FK5H4fpMQGZmZmZmBk1AZmZmZmYGTUB1kxgEVg5NQHWTGARWDk1A9ihcj8IVTUCamZmZmRlNQB+F61G4Hk1AH4XrUbgeTUA5tMh2vh9NQClcj8L1KE1AKVyPwvUoTUApXI/C9ShNQOxRuB6FK01ArkfhehQuTUDJdr6fGi9NQHE9CtejME1ATmIQWDk0TUBoke18PzVNQGiR7Xw/NU1ACKwcWmQ7TUA9CtejcD1NQD0K16NwPU1A16NwPQpXTUBcj8L1KFxNQD0K16NwXU1Ag8DKoUV2TUDNzMzMzIxNQGQ730+Nl01AmpmZmZmZTUA9CtejcL1NQMP1KFyPwk1Aw/UoXI/CTUDD9Shcj8JNQMP1KFyPwk1Aw/UoXI/CTUDD9Shcj8JNQMP1KFyPwk1Aw/UoXI/CTUCamZmZmdlNQJqZmZmZ2U1AQmDl0CLbTUDHSzeJQeBNQOF6FK5H4U1AgZVDi2znTUAzMzMzM/NNQMHKoUW2801AwcqhRbbzTUC+nxov3fRNQPYoXI/C9U1A9ihcj8L1TUC4HoXrUfhNQLgehetR+E1AexSuR+H6TUBcj8L1KPxNQFyPwvUo/E1AXI/C9Sj8TUBcj8L1KPxNQLByaJHt/E1APQrXo3D9TUA9CtejcP1NQB+F61G4/k1ArBxaZDv/TUCPwvUoXA9OQI/C9ShcD05Aj8L1KFwPTkDfT42XbhJOQL6fGi/dJE5ADi2yne8nTkAOLbKd7ydOQM3MzMzMLE5AaJHtfD81TkBoke18PzVOQJqZmZmZOU5AmpmZmZk5TkDNzMzMzExOQFK4HoXrUU5AvHSTGARWTkC8dJMYBFZOQLgehetRWE5AXI/C9ShcTkCR7Xw/NV5OQPyp8dJNYk5ASOF6FK5nTkDsUbgehWtOQOxRuB6Fa05A7FG4HoVrTkA730+Nl25OQAAAAAAAgE5Aw/UoXI+CTkBI4XoUrodOQEjhehSuh05AzczMzMyMTkCPwvUoXI9OQI/C9Shcj05Af2q8dJOYTkBxPQrXo7BOQDMzMzMzs05AMzMzMzOzTkC4HoXrUbhOQLgehetRuE5AuB6F61G4TkC4HoXrUbhOQEw3iUFgxU5AEoPAyqHFTkBiEFg5tMhOQGIQWDm0yE5AmG4Sg8DKTkDXo3A9CtdOQNejcD0K105AF9nO91PjTkBMN4lBYOVOQEw3iUFg5U5A9P3UeOn2TkB7FK5H4fpOQHsUrkfh+k5AexSuR+H6TkB7FK5H4fpOQHsUrkfh+k5AexSuR+H6TkB7FK5H4fpOQHsUrkfh+k5ANV66SQwCT0A1XrpJDAJPQIXrUbgeBU9AzczMzMwMT0DXo3A9ChdPQNejcD0KF09Af2q8dJMYT0AfhetRuB5PQB+F61G4Hk9ApHA9CtcjT0DZzvdT4yVPQEjhehSuJ09ASOF6FK4nT0BI4XoUridPQEjhehSuJ09AkxgEVg4tT0DjpZvEIDBPQDMzMzMzM09Ac2iR7Xw/T0Cyne+nxktPQDMzMzMzU09AMzMzMzNTT0Bcj8L1KFxPQIXrUbgeZU9AZmZmZmZmT0CBlUOLbGdPQClcj8L1aE9AKVyPwvVoT0DNzMzMzGxPQHE9CtejcE9A9ihcj8J1T0C4HoXrUXhPQLTIdr6fek9AtMh2vp96T0B7FK5H4XpPQARWDi2yfU9AmpmZmZmZT0AOLbKd76dPQA4tsp3vp09ADi2yne+nT0Bcj8L1KLxPQFg5tMh2vk9ALbKd76fGT0Atsp3vp8ZPQEjhehSux09A16NwPQrXT0ArhxbZztdPQCuHFtnO109Aw/UoXI/iT0C28/3UeOlPQOxRuB6F609A7FG4HoXrT0A3iUFg5fBPQDMzMzMz809AMzMzMzPzT0D2KFyPwvVPQPYoXI/C9U9Ag8DKoUX2T0ArhxbZzvdPQLgehetR+E9AexSuR+H6T0B7FK5H4fpPQJZDi2zn+09AlkOLbOf7T0DLoUW28/1PQOXQItv5/k9A4XoUrkcBUEBI4XoUrgdQQClcj8L1CFBAKVyPwvUIUEB7FK5H4QpQQM3MzMzMDFBAzczMzMwMUEB/arx0kxhQQH9qvHSTGFBAmpmZmZkZUEAOLbKd7ydQQOxRuB6FK1BAkxgEVg4tUECTGARWDi1QQI/C9ShcL1BAAAAAAAAwUEAZBFYOLTJQQBkEVg4tMlBAGQRWDi0yUEAZBFYOLTJQQBkEVg4tMlBAnu+nxks3UEAj2/l+ajxQQD0K16NwPVBAPQrXo3A9UEA9CtejcD1QQD0K16NwPVBAPQrXo3A9UEA9CtejcD1QQD0K16NwPVBAPQrXo3A9UEA9CtejcD1QQEjhehSuR1BAAiuHFtlOUED2KFyPwlVQQEJg5dAiW1BAXI/C9ShcUEDhehSuR2FQQDEIrBxaZFBAMQisHFpkUEBMN4lBYGVQQEw3iUFgZVBATDeJQWBlUEBSuB6F63FQQMP1KFyPclBAuB6F61F4UEBcj8L1KHxQQFyPwvUofFBAj8L1KFx/UECPwvUoXH9QQFK4HoXrgVBAukkMAiuHUEC6SQwCK4dQQLpJDAIrh1BAcT0K16OQUEAZBFYOLZJQQDMzMzMzk1BA16NwPQqXUEDXo3A9CpdQQMP1KFyPolBAhetRuB6lUEDhehSuR6lQQHnpJjEIrFBAPQrXo3C9UEA9CtejcL1QQFg5tMh2vlBAAAAAAADAUEBiEFg5tMhQQGIQWDm0yFBA8KfGSzfJUECamZmZmclQQCUGgZVDy1BAJQaBlUPLUEC8dJMYBNZQQNejcD0K11BAmpmZmZnZUED8qfHSTeJQQKRwPQrX41BAKVyPwvXoUEA9CtejcO1QQFK4HoXr8VBAMzMzMzPzUEAzMzMzM/NQQDMzMzMz81BAMzMzMzPzUEAzMzMzM/NQQPYoXI/C9VBA9ihcj8L1UEDXo3A9CvdQQLgehetR+FBAmpmZmZn5UECamZmZmflQQD0K16Nw/VBAc2iR7Xz/UEDImLuWkP9QQLpJDAIrB1FAukkMAisHUUAK16NwPQpRQKwcWmQ7D1FA6SYxCKwcUUA9CtejcB1RQD0K16NwHVFAPQrXo3AdUUCR7Xw/NR5RQB+F61G4HlFA4XoUrkchUUDhehSuRyFRQOF6FK5HIVFAtMh2vp8iUUBmZmZmZiZRQGZmZmZmJlFAKVyPwvUoUUCTGARWDi1RQK5H4XoULlFAc2iR7XwvUUCkcD0K1zNRQFyPwvUoPFFAzczMzMw8UUCuR+F6FD5RQI2XbhKDQFFAhetRuB5FUUBI4XoUrkdRQDeJQWDlUFFAMzMzMzNTUUAAAAAAAFhRQHe+nxovXVFAd76fGi9dUUB3vp8aL11RQB+F61G4XlFAAAAAAABgUUAAAAAAAGBRQOF6FK5HYVFA4XoUrkdhUUDhehSuR2FRQCGwcmiRbVFARrbz/dR4UUCamZmZmXlRQOxRuB6Fe1FAH4XrUbh+UUCPwvUoXH9RQI2XbhKDgFFAjZduEoOAUUCF61G4HoVRQIXrUbgehVFASOF6FK6HUUBI4XoUrodRQHE9CtejkFFAcT0K16OQUUBkO99PjZdRQGQ730+Nl1FAZDvfT42XUUDpJjEIrJxRQARWDi2ynVFApHA9CtejUUDsUbgehatRQJZDi2znq1FAPQrXo3CtUUCuR+F6FK5RQLgehetRuFFAuB6F61G4UUDNzMzMzLxRQM3MzMzMvFFAzczMzMy8UUDNzMzMzLxRQK5H4XoUvlFAH4XrUbi+UUAfhetRuL5RQB+F61G4vlFAAAAAAADAUUASg8DKocVRQBKDwMqhxVFAEoPAyqHFUUBI4XoUrsdRQEjhehSux1FAObTIdr7PUUBSuB6F69FRQFK4HoXr0VFAK4cW2c7XUUDy0k1iENhRQGZmZmZm5lFAcT0K16PwUUC4HoXrUfhRQLgehetR+FFAexSuR+H6UUAIrBxaZPtRQLByaJHt/FFAPQrXo3D9UUA9CtejcP1RQD0K16Nw/VFAPQrXo3D9UUCuR+F6FP5RQK5H4XoU/lFAWDm0yHb+UUBYObTIdv5RQFg5tMh2/lFAWDm0yHb+UUBYObTIdv5RQFg5tMh2/lFAWDm0yHb+UUBYObTIdv5RQFg5tMh2/lFAWDm0yHb+UUAfhetRuP5RQB+F61G4/lFA5dAi2/n+UUBzaJHtfP9RQAAAAAAAAFJAAAAAAAAAUkB1kxgEVg5SQM3MzMzMHFJAH4XrUbgeUkASg8DKoSVSQBKDwMqhJVJAZmZmZmYmUkApXI/C9ShSQClcj8L1KFJAkxgEVg4tUkBWDi2ynS9SQFK4HoXrMVJAGQRWDi0yUkAZBFYOLTJSQDMzMzMzM1JAmpmZmZk5UkA9CtejcD1SQI2XbhKDQFJA0SLb+X5KUkAlBoGVQ0tSQM3MzMzMTFJAUrgehetRUkC8dJMYBFZSQPyp8dJNYlJAMQisHFpkUkBMN4lBYGVSQEw3iUFgZVJA7FG4HoVrUkAZBFYOLXJSQMP1KFyPelJAH4XrUbh+UkAfhetRuH5SQAAAAAAAgFJAukkMAiuHUkCPwvUoXI9SQEoMAiuHllJASgwCK4eWUkBKDAIrh5ZSQEoMAiuHllJASgwCK4eWUkBKDAIrh5ZSQEoMAiuHllJASgwCK4eWUkBKDAIrh5ZSQLTIdr6fmlJAzczMzMycUkDhehSuR6FSQNnO91PjpVJAcT0K16OwUkBcj8L1KLxSQM3MzMzMvFJAAAAAAADAUkDD9Shcj8JSQKRwPQrXw1JA7FG4HoXLUkDsUbgehctSQOxRuB6Fy1JAhetRuB7VUkDXo3A9CtdSQH9qvHST2FJAH4XrUbjeUkBmZmZmZuZSQKabxCCw8lJA9ihcj8L1UkC4HoXrUfhSQLgehetR+FJAuB6F61H4UkBI4XoUrgdTQEjhehSuB1NASOF6FK4HU0ApXI/C9QhTQCUGgZVDC1NAMzMzMzMTU0CF61G4HiVTQClcj8L1KFNAKVyPwvUoU0A730+Nly5TQOOlm8QgMFNAi2zn+6kxU0CLbOf7qTFTQKabxCCwMlNAnu+nxks3U0Ce76fGSzdTQHsUrkfhOlNARIts5/tBU0CPwvUoXE9TQOF6FK5HYVNA4XoUrkdhU0AzMzMzM2NTQGZmZmZmZlNAZmZmZmZmU0BmZmZmZmZTQK5H4XoUblNAO99PjZduU0C4HoXrUXhTQLgehetReFNAexSuR+F6U0CwcmiR7XxTQLByaJHtfFNAsHJoke18U0CwcmiR7XxTQJqZmZmZiVNAqvHSTWKQU0DFILByaJFTQPp+arx0k1NA+n5qvHSTU0D6fmq8dJNTQPp+arx0k1NAZmZmZmaWU0BmZmZmZpZTQGZmZmZmplNACtejcD2qU0B/arx0k7BTQDMzMzMzs1NA2IFzRpS2U0DdJAaBlcNTQEjhehSux1NAKVyPwvXIU0ApXI/C9chTQNejcD0K11NA16NwPQrXU0DXo3A9CtdTQH9qvHST2FNAmpmZmZnZU0Bcj8L1KNxTQFyPwvUo3FNArkfhehTeU0BU46WbxOBTQFTjpZvE4FNAcT0K16PwU0BSuB6F6/FTQCuHFtnO91NAmpmZmZn5U0B7FK5H4fpTQHsUrkfh+lNAexSuR+H6U0B7FK5H4fpTQM3MzMzM/FNAPQrXo3D9U0A9CtejcP1TQD0K16Nw/VNAPQrXo3D9U0A9CtejcP1TQD0K16Nw/VNAy6FFtvP9U0B1kxgEVv5TQB+F61G4/lNA5dAi2/n+U0Dl0CLb+f5TQI/C9Shc/1NAj8L1KFz/U0CPwvUoXP9TQHNoke18/1NAUrgehesRVEAzMzMzMxNUQB+F61G4HlRAhetRuB4lVEC4HoXrUThUQLgehetROFRAPQrXo3A9VEA9CtejcD1UQB+F61G4PlRAH4XrUbg+VECBlUOLbD9UQIXrUbgeRVRAEoPAyqFFVEDNzMzMzExUQNejcD0KV1RAmpmZmZlZVEBCYOXQIltUQEJg5dAiW1RAeekmMQhcVEAX2c73U2NUQDEIrBxaZFRAvp8aL91kVECmm8QgsHJUQHsUrkfhelRAexSuR+F6VEA9CtejcH1UQD0K16NwfVRAPQrXo3B9VEAfhetRuH5UQB+F61G4flRAH4XrUbh+VEAfhetRuH5UQHE9CtejkFRAcT0K16OQVEC8dJMYBJZUQGQ730+Nl1RAZDvfT42XVEBkO99PjZdUQLgehetRmFRAqMZLN4mhVECkcD0K16NUQClcj8L1qFRAKVyPwvWoVEBEi2zn+6lUQDVeukkMslRAMzMzMzOzVEAzMzMzM7NUQNNNYhBYuVRAzczMzMy8VEDNzMzMzLxUQAAAAAAA0FRA16NwPQrXVEB7FK5H4dpUQKRwPQrX41RAzczMzMzsVEDNzMzMzOxUQK5H4XoU7lRAcT0K16PwVEDD9Shcj/JUQPYoXI/C9VRA9ihcj8L1VEC4HoXrUfhUQLgehetR+FRAmpmZmZn5VEB7FK5H4fpUQHsUrkfh+lRAexSuR+H6VEB7FK5H4fpUQHsUrkfh+lRAexSuR+H6VEB7FK5H4fpUQHsUrkfh+lRAsHJoke38VECuR+F6FP5UQFg5tMh2/lRAWDm0yHb+VEDl0CLb+f5UQOXQItv5/lRArBxaZDv/VEDdJAaBlQNVQMUgsHJoEVVAtMh2vp8aVUAZBFYOLTJVQBkEVg4tMlVAGQRWDi0yVUAZBFYOLTJVQPYoXI/CNVVAzczMzMw8VUAfhetRuD5VQI/C9ShcP1VA3SQGgZVDVUDdJAaBlUNVQN0kBoGVQ1VAKVyPwvVIVUDNzMzMzExVQHWTGARWTlVAAiuHFtlOVUA5tMh2vk9VQDm0yHa+T1VAObTIdr5PVUBcj8L1KFxVQOF6FK5HYVVAmpmZmZl5VUBxPQrXo5BVQMUgsHJokVVA+n5qvHSTVUD6fmq8dJNVQEoMAiuHllVASgwCK4eWVUBKDAIrh5ZVQPLSTWIQmFVA8tJNYhCYVUCuR+F6FL5VQK5H4XoUvlVAmG4Sg8DKVUCYbhKDwMpVQD0K16NwzVVA16NwPQrXVUCamZmZmdlVQCPb+X5q3FVAw/UoXI/iVUA9CtejcO1VQD0K16Nw7VVAPQrXo3DtVUA9CtejcO1VQDMzMzMz81VAMzMzMzPzVUD2KFyPwvVVQHsUrkfh+lVAexSuR+H6VUB7FK5H4fpVQHsUrkfh+lVAexSuR+H6VUB7FK5H4fpVQD0K16Nw/VVA4XoUrkcBVkDD9ShcjwJWQMP1KFyPAlZAmpmZmZkZVkDjpZvEIDBWQOOlm8QgMFZA46WbxCAwVkD+1HjpJjFWQP7UeOkmMVZAi2zn+6kxVkCLbOf7qTFWQIts5/upMVZAi2zn+6kxVkAzMzMzMzNWQDMzMzMzM1ZAaJHtfD81VkAVHcnlP0RWQPYoXI/CVVZA4XoUrkdhVkCJQWDl0GJWQDEIrBxaZFZAMQisHFpkVkAxCKwcWmRWQEw3iUFgZVZATDeJQWBlVkAGgZVDi2xWQCGwcmiRbVZA/tR46SZxVkAQWDm0yHZWQJqZmZmZeVZAzczMzMx8VkCuR+F6FH5WQK5H4XoUflZArkfhehR+VkCuR+F6FH5WQK5H4XoUflZArkfhehR+VkAfhetRuH5WQKwcWmQ7f1ZAj8L1KFx/VkAAAAAAAIBWQAAAAAAAgFZApHA9CteDVkCPwvUoXI9WQB+F61G4nlZAH4XrUbieVkAfhetRuJ5WQBSuR+F6pFZAFK5H4XqkVkAlBoGVQ7NWQNejcD0Kt1ZAnMQgsHK4VkDsUbgehbtWQI/C9Shcv1ZAjZduEoPAVkA1XrpJDMJWQN0kBoGVw1ZAzczMzMzMVkCamZmZmdFWQNejcD0K11ZA16NwPQrXVkDXo3A9CtdWQAwCK4cW2VZA9ihcj8LlVkBmZmZmZuZWQOxRuB6F61ZA9ihcj8L1VkB7FK5H4fpWQD0K16Nw/VZAPQrXo3D9VkA9CtejcP1WQD0K16Nw/VZAPQrXo3D9VkCPwvUoXP9WQGq8dJMYBFdA4XoUrkchV0DhehSuRyFXQOF6FK5HIVdAuB6F61E4V0Bcj8L1KDxXQFyPwvUoPFdAXI/C9Sg8V0Bcj8L1KDxXQD0K16NwPVdA4XoUrkdBV0Coxks3iUFXQKjGSzeJQVdANV66SQxCV0CkcD0K10NXQJqZmZmZSVdAHVpkO99PV0C8dJMYBFZXQNejcD0KV1dAd76fGi9dV0DsUbgehWtXQEa28/3UeFdAH4XrUbh+V0A/NV66SYxXQM3MzMzMjFdACKwcWmSbV0BmZmZmZqZXQOxRuB6Fq1dAj8L1KFyvV0BmZmZmZrZXQGZmZmZmtldAexSuR+G6V0CPwvUoXL9XQHNoke18v1dAZmZmZmbGV0BmZmZmZsZXQM3MzMzMzFdAAiuHFtnOV0CBlUOLbOdXQLbz/dR46VdA7FG4HoXrV0DJdr6fGu9XQHE9Ctej8FdA9ihcj8L1V0D2KFyPwvVXQPYoXI/C9VdAuB6F61H4V0B7FK5H4fpXQFyPwvUo/FdAXI/C9Sj8V0CwcmiR7fxXQMuhRbbz/VdAy6FFtvP9V0DLoUW28/1XQMuhRbbz/VdArkfhehT+V0BYObTIdv5XQFg5tMh2/ldAWDm0yHb+V0Dl0CLb+f5XQOXQItv5/ldA5dAi2/n+V0BzaJHtfP9XQFYOLbKd/1dAhetRuB4FWECF61G4HgVYQKrx0k1iEFhA16NwPQoXWEBSuB6F6yFYQBkEVg4tMlhAPQrXo3A9WEAK16NwPUpYQLKd76fGS1hAsp3vp8ZLWEA3iUFg5VBYQDMzMzMzU1hAXI/C9ShcWEAxCKwcWmRYQDEIrBxaZFhABoGVQ4tsWEAUrkfhenRYQBSuR+F6dFhAFK5H4Xp0WEAUrkfhenRYQPYoXI/CdVhA9ihcj8J1WEC4HoXrUXhYQMuhRbbzfVhAH4XrUbh+WEDl0CLb+X5YQLpJDAIrh1hACtejcD2KWEAK16NwPYpYQArXo3A9ilhASgwCK4eWWEBKDAIrh5ZYQEoMAiuHllhA8tJNYhCYWEDy0k1iEJhYQAwCK4cWmVhAYhBYObTIWEBiEFg5tMhYQGIQWDm0yFhAzczMzMzMWEDNzMzMzMxYQM3MzMzMzFhAzczMzMzMWEBSuB6F69FYQDMzMzMz01hAK4cW2c7XWEArhxbZztdYQCuHFtnO11hAKVyPwvXYWEApXI/C9dhYQKwcWmQ731hAw/UoXI/iWEAxCKwcWuRYQBKDwMqh5VhA2c73U+PlWEBmZmZmZuZYQGZmZmZm5lhA7FG4HoXrWEAGgZVDi+xYQKAaL90k9lhASOF6FK73WEBI4XoUrvdYQEjhehSu91hAmpmZmZn5WECamZmZmflYQJhuEoPA+lhAzczMzMz8WEAfhetRuP5YQB+F61G4/lhAH4XrUbj+WEAfhetRuP5YQB+F61G4/lhAj8L1KFz/WECPwvUoXP9YQI/C9Shc/1hAAAAAAAAAWUAAAAAAAABZQAAAAAAAAFlAj8L1KFwPWUCPwvUoXA9ZQJMYBFYOLVlAkxgEVg4tWUCTGARWDi1ZQKabxCCwMllAppvEILAyWUAzMzMzMzNZQDMzMzMzM1lAMzMzMzMzWUBI4XoUrkdZQPYoXI/CVVlAmpmZmZlZWUDNzMzMzGxZQPYoXI/CdVlAuB6F61F4WUBcj8L1KHxZQFyPwvUofFlAXI/C9Sh8WUCsHFpkO39ZQFYOLbKdf1lAuB6F61GIWUCPwvUoXI9ZQDMzMzMzk1lAL90kBoGVWUDXo3A9CpdZQGQ730+Nl1lAeekmMQicWUBoke18P6VZQNnO91PjpVlADi2yne+nWUBaZDvfT7VZQOxRuB6Fu1lAPQrXo3C9WUDdJAaBlcNZQEjhehSux1lAPzVeuknMWUAQWDm0yN5ZQAAAAAAA4FlAZmZmZmbmWUBmZmZmZuZZQHsUrkfh+llAlkOLbOf7WUDLoUW28/1ZQHE9CtejAFpAsp3vp8YLWkAfhetRuA5aQFK4HoXrEVpAUrgehesRWkCF61G4HiVaQIXrUbgeJVpA7FG4HoUrWkAGgZVDiyxaQAAAAAAAMFpAw/UoXI8yWkAzMzMzMzNaQGZmZmZmNlpAZmZmZmY2WkBmZmZmZjZaQGZmZmZmNlpAZmZmZmY2WkC4HoXrUThaQJqZmZmZOVpA7FG4HoU7WkAfhetRuD5aQOF6FK5HYVpA4XoUrkdhWkDhehSuR2FaQOF6FK5HYVpAF9nO91NjWkBMN4lBYGVaQEw3iUFgZVpATDeJQWBlWkCWQ4ts52taQD0K16NwfVpAH4XrUbh+WkAfhetRuH5aQDMzMzMzg1pAhetRuB6FWkACK4cW2Y5aQBSuR+F6lFpAFK5H4XqUWkC8dJMYBJZaQOxRuB6Fq1pAAAAAAACwWkAzMzMzM7NaQFYOLbKdt1pAPQrXo3C9WkA9CtejcL1aQGQ730+Nx1pAQmDl0CLbWkBCYOXQIttaQFyPwvUo3FpAXI/C9SjcWkBSuB6F6+FaQLbz/dR46VpAtvP91HjpWkDFILByaPFaQMUgsHJo8VpAuB6F61H4WkC4HoXrUfhaQFyPwvUo/FpArkfhehT+WkCuR+F6FP5aQFg5tMh2/lpAAiuHFtn+WkACK4cW2f5aQOXQItv5/lpAL90kBoEVW0CamZmZmRlbQJqZmZmZGVtAvp8aL90kW0D0/dR46SZbQK5H4XoULltA/tR46SYxW0AZBFYOLTJbQHsUrkfhOltAMzMzMzM7W0A9CtejcD1bQD0K16NwPVtAH4XrUbheW0BSuB6F62FbQNnO91PjZVtAN4lBYOVwW0AzMzMzM3NbQJqZmZmZeVtAmpmZmZl5W0B7FK5H4XpbQHsUrkfheltAexSuR+F6W0DNzMzMzHxbQKAaL90khltA16NwPQqHW0BKDAIrh5ZbQEoMAiuHlltA8tJNYhCYW0Dy0k1iEJhbQJqZmZmZmVtAbxKDwMqhW0A9CtejcL1bQD0K16NwvVtAPQrXo3C9W0A9CtejcL1bQK5H4XoUvltAAAAAAADAW0DD9Shcj8JbQC2yne+nxltAmpmZmZnJW0BeukkMAutbQMP1KFyP8ltARrbz/dT4W0CamZmZmflbQD0K16Nw/VtAPQrXo3D9W0A9CtejcP1bQD0K16Nw/VtAH4XrUbj+W0Dl0CLb+f5bQEjhehSuB1xAtvP91HgpXEBmZmZmZkZcQKJFtvP9VFxAK4cW2c5XXEArhxbZzldcQOF6FK5HYVxAF9nO91NjXEAxCKwcWmRcQDEIrBxaZFxAMQisHFpkXEAxCKwcWmRcQGZmZmZmZlxAcT0K16NwXEDD9Shcj3JcQBSuR+F6dFxARrbz/dR4XEBGtvP91HhcQEa28/3UeFxAexSuR+F6XEBcj8L1KHxcQFyPwvUofFxAXI/C9Sh8XEDNzMzMzIxcQM3MzMzMjFxAzczMzMyMXEA9CtejcJ1cQOF6FK5HoVxAg8DKoUW2XECamZmZmblcQJqZmZmZuVxAzczMzMy8XEBiEFg5tMhcQG3n+6nx0lxAbef7qfHSXEBt5/up8dJcQNejcD0K11xA16NwPQrXXEBcj8L1KNxcQD0K16Nw/VxAPQrXo3D9XEAAAAAAAABdQFK4HoXrEV1AUrgehesRXUCHFtnO9xNdQJqZmZmZGV1AcT0K16MwXUAZBFYOLTJdQBSuR+F6NF1AaJHtfD81XUAfhetRuD5dQPCnxks3SV1A16NwPQpXXUB3vp8aL11dQKwcWmQ7X11ArBxaZDtfXUC+nxov3WRdQJzEILByeF1APQrXo3B9XUAAAAAAAIBdQArXo3A9il1ACtejcD2KXUAAAAAAAJBdQJqZmZmZqV1ANV66SQyyXUA1XrpJDLJdQI/C9Shcv11A4XoUrkfBXUDD9Shcj8JdQMP1KFyPwl1A6SYxCKzcXUCkcD0K1+NdQIGVQ4ts511AgZVDi2znXUDNzMzMzOxdQDMzMzMz811AWmQ730/1XUBaZDvfT/VdQJqZmZmZ+V1AYOXQItv5XUBcj8L1KPxdQFyPwvUo/F1AXI/C9Sj8XUA9CtejcP1dQD0K16Nw/V1APQrXo3D9XUA9CtejcP1dQD0K16Nw/V1APQrXo3D9XUA9CtejcP1dQFg5tMh2/l1AWDm0yHb+XUBYObTIdv5dQB+F61G4/l1AH4XrUbj+XUAAAAAAAABeQAAAAAAAAF5AAAAAAAAAXkCamZmZmQleQIXrUbgeFV5Avp8aL90kXkC0yHa+nypeQLTIdr6fKl5AIbByaJEtXkAZBFYOLTJeQB+F61G4Pl5ALbKd76dGXkAtsp3vp0ZeQC2yne+nRl5AMzMzMzNTXkDy0k1iEFheQPyp8dJNYl5AZmZmZmZmXkDsUbgehWteQFK4HoXrcV5AppvEILByXkCmm8QgsHJeQFyPwvUofF5APQrXo3B9XkBI4XoUrodeQEjhehSuh15AYhBYObSIXkCiRbbz/ZReQEoMAiuHll5ASgwCK4eWXkBKDAIrh5ZeQEoMAiuHll5AnMQgsHKYXkCcxCCwcpheQB+F61G4nl5AeekmMQisXkA9CtejcK1eQArXo3A9ul5AexSuR+G6XkBcj8L1KLxeQFyPwvUovF5ArkfhehS+XkCuR+F6FL5eQK5H4XoUvl5AYhBYObTIXkDwp8ZLN8leQKrx0k1i0F5AF9nO91PjXkD0/dR46fZeQHsUrkfh+l5AexSuR+H6XkB7FK5H4fpeQHsUrkfh+l5AexSuR+H6XkB7FK5H4fpeQHsUrkfh+l5APQrXo3D9XkA1XrpJDAJfQNejcD0KB19AzczMzMwMX0DNzMzMzAxfQAAAAAAAEF9A16NwPQoXX0DXo3A9ChdfQGDl0CLbGV9APQrXo3AdX0D0/dR46SZfQAAAAAAAMF9AppvEILAyX0Cmm8QgsDJfQM3MzMzMPF9A16NwPQpXX0DNzMzMzGxfQHE9CtejcF9AuB6F61F4X0DsUbgehXtfQFg5tMh2fl9Aj8L1KFx/X0CPwvUoXH9fQIXrUbgehV9AMzMzMzOTX0AOLbKd76dfQC2yne+nxl9AF9nO91PTX0ArhxbZztdfQGIQWDm02F9A+n5qvHTjX0A3iUFg5fBfQDeJQWDl8F9AN4lBYOXwX0AK16NwPfJfQFYOLbKd919AuB6F61H4X0C4HoXrUfhfQGDl0CLb+V9AexSuR+H6X0CWQ4ts5/tfQM3MzMzM/F9AzczMzMz8X0Dl0CLb+f5fQOXQItv5/l9A5dAi2/n+X0Bg5dAi2wFgQGDl0CLbAWBAhxbZzvcDYEB7FK5H4QpgQM3MzMzMDGBAK4cW2c4XYEArhxbZzhdgQArXo3A9GmBAMzMzMzMbYEDNzMzMzBxgQJqZmZmZKWBAmpmZmZkpYEAUrkfheixgQGZmZmZmLmBAi2zn+6kxYECLbOf7qTFgQBkEVg4tMmBAGQRWDi0yYEAZBFYOLTJgQCPb+X5qPGBAPQrXo3A9YEA9CtejcD1gQD0K16NwPWBAPQrXo3A9YED2KFyPwj1gQPYoXI/CPWBAj8L1KFw/YEDdJAaBlUNgQAIrhxbZTmBAH4XrUbhWYECPwvUoXF9gQDEIrBxaZGBAeekmMQhsYEAzMzMzM3NgQFyPwvUofGBAXI/C9Sh8YECwcmiR7XxgQI/C9Shcf2BAj8L1KFx/YECF61G4HoVgQHE9CtejkGBAcT0K16OQYEBxPQrXo5BgQDMzMzMzk2BAg8DKoUWWYEDhehSuR5lgQKRwPQrXo2BAZmZmZmamYECPwvUoXL9gQGIQWDm0yGBA8KfGSzfJYEB56SYxCMxgQI/C9Shcz2BAmpmZmZnZYEAzMzMzM9tgQNejcD0K32BAexSuR+HiYECamZmZmelgQI2XbhKD8GBA16NwPQr3YECamZmZmflgQE5iEFg5/GBAzczMzMz8YEBmZmZmZv5gQHNoke18/2BASOF6FK7/YEBI4XoUrv9gQLgehetRCGFAAiuHFtkOYUApXI/C9RBhQAwCK4cWGWFAPQrXo3AdYUAfhetRuB5hQEjhehSuH2FASOF6FK4nYUBI4XoUridhQCUGgZVDK2FA4XoUrkcxYUCuR+F6FD5hQAAAAAAAQGFAUrgehetRYUCJQWDl0FJhQOF6FK5HYWFArkfhehRuYUDD9Shcj3JhQJqZmZmZeWFA7FG4HoV7YUA9CtejcH1hQD0K16NwfWFA9ihcj8J9YUBmZmZmZn5hQB+F61G4fmFAH4XrUbh+YUAfhetRuH5hQD0K16NwlWFAZDvfT42XYUBkO99PjZdhQAAAAAAAmGFAAAAAAACYYUBSuB6F65lhQNejcD0Kn2FAlkOLbOerYUCWQ4ts56thQM3MzMzMrGFAzczMzMysYUA9CtejcK1hQIts5/upsWFAH4XrUbi+YUAfhetRuL5hQB+F61G4vmFA4XoUrkfBYUDn+6nx0sVhQOxRuB6Fy2FAzczMzMzMYUBWDi2ync9hQEa28/3U2GFA7FG4HoXbYUBqvHSTGORhQOf7qfHS7WFAZmZmZmb2YUBmZmZmZvZhQGZmZmZm9mFAZmZmZmb2YUCe76fGS/dhQI/C9Shc92FACKwcWmT7YUBYObTIdv5hQFg5tMh2/mFAH4XrUbj+YUAfhetRuP5hQKwcWmQ7/2FArBxaZDv/YUCBlUOLbP9hQKRwPQrXA2JApHA9CtcDYkCkcD0K1wNiQDMzMzMzE2JADAIrhxYZYkBmZmZmZh5iQB+F61G4HmJAxSCwcmgxYkAZBFYOLTJiQJzEILByOGJAnMQgsHI4YkDNzMzMzDxiQM3MzMzMPGJAj8L1KFw/YkDhehSuR0FiQDEIrBxaRGJAEoPAyqFFYkAlBoGVQ0tiQCUGgZVDS2JAJQaBlUNLYkBmZmZmZk5iQLx0kxgEVmJAvHSTGARWYkCPwvUoXFdiQI/C9ShcV2JAj8L1KFxXYkCPwvUoXFdiQI/C9ShcV2JAuB6F61FYYkAK16NwPVpiQArXo3A9WmJACtejcD1aYkDsUbgehVtiQEw3iUFgZWJA2c73U+NlYkDZzvdT42ViQNnO91PjZWJAGQRWDi1yYkA9CtejcH1iQD0K16NwfWJAcT0K16OAYkBOYhBYOYhiQPCnxks3iWJACtejcD2KYkCPwvUoXI9iQI/C9Shcj2JAj8L1KFyPYkCPwvUoXI9iQIGVQ4tsp2JAJQaBlUOrYkAlBoGVQ6tiQMUgsHJosWJAj8L1KFy3YkDNzMzMzLxiQGZmZmZmvmJAZmZmZma+YkBmZmZmZr5iQGZmZmZmvmJAZmZmZma+YkDXo3A9Cr9iQNejcD0Kv2JA16NwPQq/YkA/NV66ScxiQJMYBFYOzWJAhetRuB7VYkCamZmZmdliQG8Sg8DK4WJAvHSTGATmYkCgGi/dJOZiQGZmZmZm5mJAZmZmZmbmYkCkcD0K1/NiQNejcD0K92JAPQrXo3D9YkAfhetRuP5iQB+F61G4/mJASOF6FK4HY0DNzMzMzBRjQLx0kxgEFmNAmpmZmZkZY0CF61G4Hh1jQK5H4XoUHmNArkfhehQeY0DByqFFth9jQIts5/upMWNAi2zn+6kxY0AZBFYOLTJjQKabxCCwMmNAppvEILAyY0Cmm8QgsDJjQJ7vp8ZLN2NAKVyPwvU4Y0DufD81XjpjQEjhehSuR2NArkfhehROY0CuR+F6FE5jQJzEILByWGNAnMQgsHJYY0CcxCCwclhjQM3MzMzMXGNAzczMzMxcY0DNzMzMzFxjQM3MzMzMXGNAzczMzMxcY0BmZmZmZl5jQOF6FK5HYWNApHA9CtdjY0AAAAAAAGhjQHsUrkfhamNAMzMzMzNrY0CkcD0K12tjQJZDi2zna2NAlkOLbOdrY0CWQ4ts52tjQDvfT42XbmNACtejcD16Y0AK16NwPXpjQFyPwvUofGNAXf5D+u2LY0Cq8dJNYpBjQKrx0k1ikGNA001iEFiZY0BI4XoUrrdjQM3MzMzMvGNAPQrXo3C9Y0Bcj8L1KMRjQFyPwvUoxGNAKVyPwvXIY0Cyne+nxstjQHnpJjEIzGNAeekmMQjMY0B56SYxCMxjQHnpJjEIzGNAeekmMQjMY0DNzMzMzNxjQARWDi2y3WNABFYOLbLdY0DhehSuR+FjQFK4HoXr8WNAUrgehevxY0AAAAAAAPhjQJqZmZmZ+WNAexSuR+H6Y0Bcj8L1KPxjQB+F61G4/mNAH4XrUbj+Y0Dl0CLb+f5jQI/C9Shc/2NAj8L1KFz/Y0CPwvUoXP9jQI/C9Shc/2NAj8L1KFz/Y0BzaJHtfP9jQHNoke18/2NAc2iR7Xz/Y0BzaJHtfP9jQAAAAAAAAGRACtejcD0KZEAK16NwPQpkQNejcD0KF2RARrbz/dQYZED2KFyPwh1kQB+F61G4HmRAj8L1KFwfZEApXI/C9ShkQHnpJjEILGRAGQRWDi0yZEAZBFYOLTJkQBkEVg4tMmRAGQRWDi0yZEDsUbgehTNkQArXo3A9OmRArkfhehQ+ZECuR+F6FD5kQDMzMzMzU2RAFK5H4XpUZEAUrkfhelxkQDEIrBxaZGRArkfhehRuZECcxCCwcnhkQFyPwvUofGRAXI/C9Sh8ZEAfhetRuH5kQB+F61G4fmRAH4XrUbh+ZEAj2/l+aoxkQOkmMQislGRAvHSTGASWZEBkO99PjZdkQNNNYhBYmWRAMzMzMzObZEBcj8L1KJxkQEjhehSun2RAqMZLN4mhZEApXI/C9ahkQDMzMzMzs2RAMzMzMzOzZEAzMzMzM7NkQI/C9Shcv2RAhetRuB7FZEBI4XoUrsdkQEjhehSux2RArkfhehTOZECuR+F6FM5kQK5H4XoUzmRAZmZmZmbOZEAAAAAAANBkQAAAAAAA0GRA16NwPQrXZEB7FK5H4dpkQD0K16Nw3WRA001iEFjpZECuR+F6FO5kQIXrUbge8WRAuB6F61H4ZEB7FK5H4fpkQOxRuB6F+2RAI9v5fmr8ZECuR+F6FP5kQK5H4XoU/mRArkfhehT+ZECR7Xw/Nf5kQFg5tMh2/mRAH4XrUbj+ZEAfhetRuP5kQOXQItv5/mRA5dAi2/n+ZEDXo3A9Cv9kQNejcD0K/2RArBxaZDv/ZEAzMzMzMwNlQDMzMzMzA2VAAiuHFtkOZUBmZmZmZi5lQGZmZmZmLmVAGQRWDi0yZUD2KFyPwjVlQEjhehSuP2VAYOXQIttBZUD8qfHSTUJlQDEIrBxaRGVASOF6FK5HZUAlBoGVQ0tlQCUGgZVDS2VAJQaBlUNLZUD+1HjpJlllQFyPwvUoXGVA4XoUrkdhZUBmZmZmZmZlQPCnxks3aWVA8KfGSzdpZUCamZmZmXFlQB+F61G4fmVAH4XrUbh+ZUDsUbgehYNlQMuhRbbzhWVASgwCK4eWZUBkO99PjZdlQPLSTWIQmGVAnMQgsHKYZUCcxCCwcphlQC2yne+npmVAVg4tsp2vZUBWDi2yna9lQFYOLbKdr2VAokW28/20ZUCuR+F6FL5lQB1aZDvfwWVA/tR46SbJZUA9CtejcM1lQGZmZmZm3mVAZmZmZmbeZUCPwvUoXOdlQK5H4XoU7mVAlkOLbOf7ZUA9CtejcP1lQOF6FK5HAWZAYhBYObQYZkAMAiuHFhlmQJqZmZmZGWZAAAAAAAAgZkBmZmZmZiZmQGZmZmZmJmZAMzMzMzMnZkBmZmZmZi5mQI/C9ShcL2ZAj8L1KFwvZkCPwvUoXC9mQI/C9ShcL2ZAmpmZmZkxZkAZBFYOLTJmQBkEVg4tMmZA2/l+arw0ZkD2KFyPwjVmQI/C9ShcP2ZA7FG4HoVDZkA/NV66SUxmQD0K16NwXWZAZmZmZmZ2ZkAK16NwPXpmQDEIrBxafGZAzczMzMx8ZkCuR+F6FH5mQK5H4XoUfmZAZmZmZmZ+ZkDXo3A9Cn9mQNejcD0Kf2ZA16NwPQp/ZkCNl24Sg4BmQIXrUbgelWZAH4XrUbieZkAfhetRuJ5mQB+F61G4nmZAH4XrUbieZkAfhetRuJ5mQB+F61G4nmZAj8L1KFyfZkAzMzMzM6tmQNejcD0Kr2ZAnMQgsHK4ZkDsUbgehbtmQOxRuB6Fu2ZAZDvfT42/ZkBkO99Pjb9mQN0kBoGVw2ZA16NwPQrHZkAlBoGVQ8tmQJqZmZmZ0WZAPQrXo3DVZkDXo3A9CtdmQNejcD0K12ZA16NwPQrXZkCF61G4Ht1mQK5H4XoU3mZArkfhehTeZkArhxbZzt9mQCuHFtnO32ZAlkOLbOfrZkCWQ4ts5+tmQHsUrkfh+mZAPQrXo3D9ZkAfhetRuP5mQOXQItv5/mZAhetRuB4VZ0CF61G4HhVnQEoMAiuHFmdA8tJNYhAYZ0Dy0k1iEBhnQPLSTWIQGGdAeekmMQgsZ0B56SYxCCxnQHnpJjEILGdAN4lBYOUwZ0DD9ShcjzJnQFyPwvUoPGdAPQrXo3A9Z0Coxks3iUFnQKjGSzeJQWdA+FPjpZtEZ0DNzMzMzERnQH0/NV66SWdA4XoUrkdRZ0DhehSuR1FnQOF6FK5HUWdA4XoUrkdRZ0CuR+F6FFZnQIGVQ4tsV2dAd76fGi9dZ0BvEoPAymFnQLgehetReGdAuB6F61F4Z0CPwvUoXH9nQIts5/upkWdAAAAAAACgZ0DfT42XbrJnQIlBYOXQsmdAZmZmZma2Z0BmZmZmZr5nQNejcD0K12dAQmDl0CLbZ0DsUbgehdtnQOkmMQis3GdAPQrXo3DdZ0Bg5dAi2+FnQEoMAiuH4mdAyXa+nxrvZ0DRItv5fvBnQDMzMzMz82dAMzMzMzPzZ0DpJjEIrPRnQArXo3A9+mdACtejcD36Z0AK16NwPfpnQFyPwvUo/GdAH4XrUbj+Z0AfhetRuP5nQOXQItv5/mdA5dAi2/n+Z0Dl0CLb+f5nQKwcWmQ7/2dArBxaZDv/Z0CsHFpkO/9nQI/C9Shc/2dAj8L1KFz/Z0BzaJHtfP9nQIXrUbgeBWhAhetRuB4FaECF61G4HgVoQMuhRbbzBWhA16NwPQoHaEDXo3A9ChdoQJqZmZmZGWhAw9MrZRkiaECamZmZmTloQOxRuB6FO2hAZmZmZmY+aEBmZmZmZj5oQArXo3A9SmhACtejcD1KaEAlBoGVQ0toQCUGgZVDS2hAJQaBlUNLaEA3iUFg5VBoQGZmZmZmVmhAQmDl0CJbaEBCYOXQIltoQK5H4XoUXmhAF9nO91NjaEAxCKwcWmRoQDEIrBxaZGhA2c73U+NlaED0/dR46W5oQBSuR+F6dGhAFK5H4Xp0aEAUrkfhenRoQPYoXI/CdWhAuB6F61F4aEAfhetRuH5oQB+F61G4fmhAH4XrUbiGaECkcD0K15NoQKRwPQrXk2hASgwCK4eWaEBGtvP91JhoQEa28/3UmGhARrbz/dSYaEAMAiuHFploQAwCK4cWmWhAlkOLbOeraEDD9Shcj7JoQNejcD0Kt2hA16NwPQq/aEDXo3A9Cr9oQNejcD0Kv2hAYhBYObTIaEBiEFg5tMhoQGIQWDm0yGhAH4XrUbjOaEAfhetRuM5oQCuHFtnO12hAK4cW2c7XaEB9PzVeuuloQEjhehSu92hAAAAAAAD4aECcxCCwcvhoQJqZmZmZ+WhAzczMzMz8aEDNzMzMzPxoQGZmZmZm/mhAZmZmZmb+aEBmZmZmZv5oQB+F61G4/mhAH4XrUbj+aEAfhetRuP5oQI/C9Shc/2hAj8L1KFz/aECPwvUoXP9oQI/C9Shc/2hAj8L1KFz/aECPwvUoXP9oQEjhehSu/2hANV66SQwCaUA9CtejcBlpQNejcD0KH2lAc2iR7XwfaUBzaJHtfB9pQOF6FK5HIWlA5/up8dItaUAZBFYOLTJpQKabxCCwMmlAppvEILAyaUCmm8QgsDJpQKabxCCwMmlAppvEILAyaUAfhetRuD5pQNnO91PjZWlAcT0K16NwaUA9CtejcH1pQD0K16NwfWlArBxaZDt/aUD6fmq8dH9pQDMzMzMzk2lAMzMzMzOTaUC+wRcmU5VpQDMzMzMzm2lAMzMzMzObaUDNzMzMzJxpQGZmZmZmnmlAZmZmZmaeaUBmZmZmZp5pQGiR7Xw/pWlAEoPAyqGlaUB7gy9MpqppQFpkO99PtWlAWmQ730+1aUA9CtejcL1pQDm0yHa+v2lAOUVHcvm/aUAzMzMzM8NpQDMzMzMzw2lA3SQGgZXDaUAlBoGVQ8tpQD81XrpJzGlA9ihcj8LNaUAQWDm0yN5pQMHKoUW232lAAAAAAADgaUAAAAAAAOBpQPhT46Wb5GlA2c73U+PlaUBI4XoUrudpQDMzMzMz62lAj8L1KFzvaUBQjZduEvtpQFCNl24S+2lAc2iR7Xz/aUBzaJHtfP9pQIXrUbgeBWpArkfhehQOakBSuB6F6xFqQNv5fmq8JGpAmpmZmZkpakAzMzMzMzNqQDMzMzMzM2pAPQrXo3A1akBmZmZmZjZqQGZmZmZmNmpAZmZmZmY2akBcj8L1KDxqQFyPwvUoPGpA9ihcj8I9akCuR+F6FD5qQNejcD0KP2pA16NwPQo/akDXo3A9Cj9qQBfZzvdTP2pAZDvfT40/akDHSzeJQUBqQAaBlUOLTGpANV66SQxSakDD9Shcj1JqQPYoXI/CVWpAexSuR+FaakCPwvUoXF9qQOF6FK5HYWpATDeJQWBlakBMN4lBYGVqQEw3iUFgZWpATDeJQWBlakAdWmQ732dqQA4tsp3vZ2pAlkOLbOdrakB7FK5H4XpqQB+F61G4fmpAH4XrUbh+akBg5dAi24FqQFyPwvUohGpAFK5H4XqUakAUrkfhepRqQJqZmZmZmWpAXI/C9SicakCuR+F6FJ5qQK5H4XoUnmpASOF6FK6jakAxCKwcWqRqQPT91HjppmpA9ihcj8KtakCPwvUoXK9qQD0K16NwvWpA7FG4HoXDakBmZmZmZtZqQM3MzMzM3GpAZmZmZmbeakDb+X5qvORqQMUgsHJo8WpAbef7qfHyakDNzMzMzPRqQOXQItv5/mpArBxaZDv/akCsHFpkO/9qQKwcWmQ7/2pAzczMzMwMa0BvEoPAyiFrQKabxCCwMmtAppvEILAya0Cmm8QgsDJrQDMzMzMzO2tAJQaBlUNLa0AlBoGVQ0trQCUGgZVDS2tAZmZmZmZia0BMN4lBYGVrQNnO91PjZWtA2c73U+Nla0CamZmZmXlrQHsUrkfhemtAexSuR+F6a0B7FK5H4XprQDVeukkMgmtAKjqSy3+Ia0BKDAIrh5ZrQPLSTWIQmGtARrbz/dSYa0AfhetRuJ5rQFTjpZvEoGtAVOOlm8Sga0BU46WbxKBrQG8Sg8DKoWtATmIQWDmsa0CamZmZmbFrQD0K16NwvWtAPQrXo3C9a0AfhetRuL5rQArXo3A9ymtAJQaBlUPLa0A/NV66ScxrQD81XrpJzGtAPzVeuknMa0A/NV66ScxrQFpkO99P1WtAbxKDwMrha0DD9Shcj/JrQCPb+X5q/GtAPQrXo3D9a0A9CtejcP1rQB+F61G4/mtARIts5/sdbEC28/3UeClsQLbz/dR4KWxAtvP91HgpbEAZBFYOLTJsQN9PjZduMmxAZmZmZmZGbEBSuB6F61FsQDEIrBxaZGxAKVyPwvVobEDsUbgehWtsQB+F61G4bmxAH4XrUbh+bECsHFpkO39sQKwcWmQ7f2xAPQrXo3CdbEA9CtejcJ1sQMUgsHJosWxAxSCwcmixbECuR+F6FL5sQClcj8L1yGxAKVyPwvXIbEApXI/C9chsQHnpJjEIzGxAeekmMQjMbEB56SYxCMxsQNejcD0K92xA16NwPQr3bEA9CtejcP1sQD0K16Nw/WxAzczMzMwMbUDNzMzMzAxtQFyPwvUoHG1AH4XrUbgebUBg5dAi2yFtQOxRuB6FO21AZmZmZmZObUBmZmZmZl5tQL6fGi/dZG1AvHSTGARmbUA9CtejcH1tQJHtfD81fm1AZmZmZmZ+bUAAAAAAAIBtQAAAAAAAkG1AN4lBYOWQbUBcj8L1KJxtQFCNl24So21AAAAAAADAbUAAAAAAAMBtQL6fGi/dxG1AUrgehevRbUCkcD0K19NtQKRwPQrX021ApHA9CtfjbUBI4XoUrudtQPp+arx0621AO99PjZfubUBaZDvfT/VtQFpkO99P9W1AzczMzMz8bUCuR+F6FP5tQFg5tMh2/m1AH4XrUbj+bUAfhetRuP5tQB+F61G4/m1A16NwPQr/bUDXo3A9Cv9tQNejcD0K/21A16NwPQr/bUDXo3A9Cv9tQNejcD0K/21A16NwPQr/bUDXo3A9Cv9tQNejcD0K/21ArBxaZDv/bUCsHFpkO/9tQKwcWmQ7/21ArBxaZDv/bUCsHFpkO/9tQI/C9Shc/21Ac2iR7Xz/bUBzaJHtfP9tQHNoke18/21ApHA9CtcLbkAMAiuHFhluQAwCK4cWGW5APQrXo3AlbkASg8DKoSVuQLTIdr6fKm5AIbByaJEtbkCuR+F6FC5uQK5H4XoULm5AAAAAAAAwbkAZBFYOLTJuQBkEVg4tMm5AGQRWDi0ybkAZBFYOLTJuQD0K16NwPW5AH4XrUbg+bkAfhetRuD5uQB+F61G4Pm5AMQisHFpEbkASg8DKoUVuQCUGgZVDS25AJQaBlUNLbkAlBoGVQ0tuQIcW2c73U25AzczMzMxcbkCuR+F6FF5uQK5H4XoUXm5ArkfhehRebkCuR+F6FF5uQK5H4XoUXm5AhetRuB5lbkBcj8L1KHxuQD0K16NwfW5AObTIdr5/bkA5tMh2vn9uQNV46SYxgG5A1XjpJjGAbkCamZmZmZFuQJqZmZmZkW5AmpmZmZmRbkCamZmZmZFuQJqZmZmZkW5Af2q8dJOYbkB/arx0k5huQOkmMQistG5AXI/C9Si8bkCPwvUoXL9uQBUdyeU/xG5ATDeJQWDFbkBMN4lBYMVuQD81XrpJzG5AF9nO91PjbkC8dJMYBOZuQPT91Hjp9m5AmpmZmZn5bkCamZmZmfluQHsUrkfh+m5Aw/UoXI8Cb0D2KFyPwg1vQArXo3A9Em9AMzMzMzMbb0Cmm8QgsDJvQKabxCCwMm9AppvEILAyb0Cmm8QgsDJvQAAAAAAAOG9AZmZmZmY+b0BmZmZmZj5vQGZmZmZmPm9AuB6F61FIb0BiEFg5tEhvQNV46SYxYG9AcT0K16Nwb0DD9Shcj3JvQBSuR+F6dG9AFK5H4Xp0b0DhehSuR3lvQIXrUbgefW9AhetRuB59b0CR7Xw/NX5vQAIrhxbZfm9AAAAAAACAb0AMAiuHFplvQJqZmZmZmW9AEoPAyqGlb0CWQ4ts56tvQJzEILByuG9AYOXQItvBb0Bg5dAi28FvQEjhehSux29AJQaBlUPLb0AlBoGVQ8tvQCUGgZVDy29ARrbz/dTQb0AX2c73U9NvQCuHFtnO129AzczMzMzcb0DNzMzMzNxvQNejcD0K329A16NwPQrfb0B3vp8aL99vQPp+arx0429A9ihcj8L1b0C4HoXrUfhvQMuhRbbz/W9A5dAi2/n+b0Dl0CLb+f5vQOXQItv5/m9Ac2iR7Xz/b0AGgZVDiwxwQESLbOf7F3BADAIrhxYZcEAK16NwPRpwQNejcD0KH3BASOF6FK4fcEBI4XoUrh9wQP7UeOkmIXBAWDm0yHYkcECcxCCwcihwQPCnxks3KXBA8KfGSzcpcEBCYOXQIitwQEJg5dAiK3BAAAAAAAAscEAZBFYOLTJwQBkEVg4tMnBAGQRWDi0ycEAzMzMzMztwQHWTGARWPnBAdZMYBFY+cEAfhetRuD5wQI/C9ShcP3BApHA9CtdbcECPwvUoXF9wQKRwPQrXY3BATDeJQWBlcEDn+6nx0m1wQK5H4XoUfnBArkfhehR+cECPwvUoXH9wQI/C9Shcf3BAj8L1KFx/cECPwvUoXH9wQIXrUbgehXBAhetRuB6FcECamZmZmZdwQPYoXI/CnXBA9ihcj8KdcEB7FK5H4Z5wQBKDwMqhpXBAEoPAyqGlcECPwvUoXL9wQKRwPQrXw3BA8KfGSzfJcEAlBoGVQ8twQClcj8L1znBA9ihcj8LVcECkcD0K19dwQMP1KFyP3nBA7FG4HoXfcEBI4XoUrt9wQMHKoUW233BAAAAAAADgcEA9CtejcOVwQFK4HoXr6XBA7FG4HoXrcEDXo3A9CvdwQNejcD0K93BATmIQWDn8cEBOYhBYOfxwQE5iEFg5/HBAj8L1KFz/cECPwvUoXP9wQI/C9Shc/3BAc2iR7Xz/cEA5tMh2vv9wQB1aZDvf/3BAZmZmZmYGcUD2KFyPwglxQHWTGARWCnFAsp3vp8YLcUCyne+nxgtxQCGwcmiRDXFA16NwPQoPcUDXo3A9Cg9xQNejcD0KD3FA16NwPQoPcUApXI/C9RBxQEa28/3UGHFADAIrhxYZcUAMAiuHFhlxQC2yne+nGnFAdZMYBFYecUAfhetRuB5xQI/C9ShcH3FAj8L1KFwfcUAbL90kBiFxQGDl0CLbJ3FAuB6F61EscUDNzMzMzCxxQArXo3A9LnFAsHJoke0wcUCkcD0K1zNxQK5H4XoUPnFAAiuHFtk+cUDXo3A9Cj9xQKwcWmQ7P3FAFK5H4XpEcUDXo3A9CktxQNejcD0KS3FABoGVQ4tMcUAGgZVDi0xxQAaBlUOLTHFABoGVQ4tMcUBmZmZmZlZxQJ7vp8ZLd3FA9ihcj8J9cUD2KFyPwn1xQGZmZmZmfnFAZmZmZmZ+cUDJdr6fGn9xQI/C9Shcf3FAj8L1KFx/cUCPwvUoXH9xQI2XbhKDjHFAjZduEoOMcUDpJjEIrIxxQD0K16NwlXFAy6FFtvOVcUDLoUW285VxQBBYObTIlnFAWDm0yHaecUDsUbgehZ9xQD0K16NwrXFAke18PzWucUAK16NwPbJxQClcj8L1uHFAH4XrUbi+cUAfhetRuL5xQB+F61G4vnFA4XoUrkfBcUDn+6nx0sVxQOf7qfHSxXFAhetRuB7NcUDsUbgehc9xQEjhehSu13FARrbz/dTYcUDwp8ZLN9lxQGq8dJMY5HFAL90kBoHlcUCuR+F6FOZxQGZmZmZm5nFAcT0K16PscUCamZmZme1xQHsUrkfh7nFAexSuR+HucUC4HoXrUfhxQK5H4XoU/nFArkfhehT+cUDD9Shcj/5xQMP1KFyP/nFAH4XrUbj+cUDXo3A9Cv9xQHNoke18/3FAc2iR7Xz/cUDsUbgehf9xQOxRuB6F/3FA7FG4HoX/cUBWDi2ynf9xQAAAAAAAAHJAMzMzMzMTckCkcD0K1xNyQAwCK4cWGXJAzczMzMwcckBMN4lBYCVyQBKDwMqhJXJALbKd76cqckAtsp3vpypyQO58PzVeLnJASOF6FK4vckAZBFYOLTJyQI/C9ShcP3JAmpmZmZlBckCamZmZmUFyQDEIrBxaRHJAd76fGi9TckC4HoXrUVhyQFK4HoXraXJAexSuR+FuckBmZmZmZnZyQJ7vp8ZLd3JAUrgeheuFckBSuB6F64VyQAisHFpki3JAzczMzMyYckDwp8ZLN5lyQGDl0CLboXJAgZVDi2ynckAj2/l+aqxyQGZmZmZmvnJAZmZmZma+ckDXo3A9Cr9yQI/C9Shcv3JA7FG4HoW/ckDsUbgehb9yQJqZmZmZv3JASOF6FK6/ckBI4XoUrr9yQKRwPQrXv3JA8fRKWYbIckBYObTIds5yQFg5tMh2znJAexSuR+HOckBI4XoUrs9yQOxRuB6F13JA7FG4HoXXckCPwvUoXN9yQI/C9Shc33JAj8L1KFzfckC8dJMYBOZyQLx0kxgE5nJAvHSTGATmckC8dJMYBOZyQLx0kxgE5nJAvHSTGATmckCgGi/dJOZyQKAaL90k5nJAMzMzMzPnckAfhetRuOpyQOxRuB6F63JA16NwPQrvckDXo3A9Cu9yQNejcD0K73JA16NwPQrvckAAAAAAAPRyQD0K16Nw/XJAH4XrUbj+ckBI4XoUrgNzQDMzMzMzB3NAZmZmZmYOc0BmZmZmZg5zQKRwPQrXD3NAXI/C9SgQc0Bcj8L1KBBzQKJFtvP9FHNAO99PjZcfc0BmZmZmZi5zQBkEVg4tMnNAGQRWDi0yc0Cmm8QgsDJzQBsv3SQGNXNALbKd76c6c0Atsp3vpzpzQCPb+X5qPHNAH4XrUbg+c0BI4XoUrj9zQEjhehSuP3NASOF6FK4/c0BEi2zn+0dzQJ7vp8ZLV3NA8KfGSzdZc0BSuB6F62FzQFK4HoXrYXNAg8DKoUVmc0BeukkMAmtzQJZDi2zna3NArkfhehRuc0CuR+F6FG5zQGZmZmZmcnNAVg4tsp1/c0BWDi2ynX9zQBSuR+F6gHNARrbz/dSIc0Cq8dJNYpBzQIlBYOXQknNAiUFg5dCSc0ArhxbZzpdzQGQ730+Nm3NAxSCwcmihc0ASg8DKoaVzQBKDwMqhpXNAEoPAyqGlc0CNl24Sg6hzQM3MzMzMqHNAzczMzMyoc0DNzMzMzKhzQM3MzMzMqHNAmpmZmZmpc0AzMzMzM7NzQCPb+X5qvHNASOF6FK6/c0AAAAAAAMBzQAAAAAAAwHNAsHJoke3Qc0CwcmiR7dBzQLByaJHt0HNAsHJoke3Qc0DhehSuR+FzQGZmZmZm5nNAexSuR+Hmc0B7FK5H4eZzQI/C9Shc73NAw/UoXI/2c0BmZmZmZv5zQB+F61G4/nNAj8L1KFz/c0BzaJHtfP9zQHNoke18/3NAc2iR7Xz/c0A5tMh2vv9zQDm0yHa+/3NArkfhehQOdEBGtvP91Bh0QAwCK4cWGXRADAIrhxYZdEAMAiuHFhl0QB+F61G4HnRAUI2XbhIjdEA9CtejcCl0QJqZmZmZMXRAmpmZmZkxdECamZmZmTF0QBkEVg4tMnRAGQRWDi0ydEBSuB6F6zV0QFYOLbKdP3RAVg4tsp0/dEBWDi2ynT90QMHKoUW2P3RAlkOLbOdLdEBmZmZmZk50QGZmZmZmTnRAJzEIrBxadEB1kxgEVmp0QBsv3SQGeXRAJCh+jLl7dEBcj8L1KHx0QFyPwvUofHRADi2yne9/dEDdJAaBlYN0QAMJih9jhnRAPQrXo3CJdEAj2/l+aox0QNNNYhBYmXRAK4cW2c6fdEBmZmZmZqZ0QGZmZmZmpnRAxSCwcmipdEDFILByaKl0QO58PzVesHRAf2q8dJO4dEB/arx0k7h0QJzEILBywHRAJQaBlUPLdEBaZDvfT810QNejcD0Kz3RA16NwPQrPdEDXo3A9Cs90QAAAAAAA0HRA8KfGSzfZdEDwp8ZLN9l0QPCnxks32XRARIts5/vfdEA/NV66Sex0QK5H4XoU7nRAuB6F61H4dEC4HoXrUfh0QLgehetR+HRA7FG4HoX7dECWQ4ts5/t0QMl2vp8a/3RAXI/C9SgIdUDFILByaBF1QIlBYOXQEnVASOF6FK4fdUBxPQrXoyB1QBkEVg4tMnVAH4XrUbg+dUCPwvUoXD91QI/C9ShcP3VAj8L1KFw/dUBg5dAi20F1QPyp8dJNQnVA9P3UeOlCdUAlBoGVQ0t1QB+F61G4TnVAH4XrUbhOdUArhxbZzld1QI/C9ShcX3VAYOXQIttfdUBSuB6F62V1QOf7qfHSbXVAMzMzMzNzdUAfhetRuH51QOxRuB6Fg3VA7FG4HoWDdUDLoUW284V1QMuhRbbzhXVAJQaBlUOLdUDD9Shcj451QMP1KFyPjnVAw/UoXI+OdUDD9Shcj451QARWDi2yj3VAAAAAAACQdUAAAAAAAJB1QLKd76fGtXVA4XoUrke5dUBGtvP91Lx1QEa28/3UvHVA7FG4HoW/dUAX2c73U8N1QCuHFtnOx3VAKVyPwvXIdUA9CtejcM11QAIrhxbZznVAMzMzMzPfdUA9CtejcN91QBKDwMqh5XVAIbByaJHvdUD6fmq8dPN1QK5H4XoUBnZArkfhehQGdkAzMzMzMwd2QAwCK4cWGXZADAIrhxYZdkCuR+F6FB52QGZmZmZmLnZAZmZmZmYudkBmZmZmZi52QIXrUbgeNXZA4XoUrkc3dkBxPQrXo0x2QJqZmZmZTXZA16NwPQpPdkAAAAAAAFB2QHsUrkfhXnZAMzMzMzNjdkCwcmiR7XB2QLByaJHtcHZAhetRuB51dkCF61G4HnV2QESLbOf7d3ZARIts5/t3dkAxCKwcWnx2QK5H4XoUfnZA7FG4HoV/dkDsUbgehX92QOxRuB6Ff3ZAVg4tsp1/dkBWDi2ynX92QEjhehSuf3ZAAAAAAACAdkAAAAAAAIB2QK5H4XoUhnZACKwcWmSLdkC8dJMYBJZ2QLx0kxgElnZATmIQWDmcdkAfhetRuJ52QI/C9Shcn3ZAGQRWDi2idkAAAAAAAKR2QBKDwMqhpXZAEoPAyqGldkAfhetRuK52QB+F61G4rnZA7nw/NV66dkAfhetRuL52QB+F61G4vnZA4XoUrkfBdkDD9Shcj8Z2QCUGgZVDy3ZApHA9CtfLdkAj2/l+asx2QM3MzMzMzHZAlkOLbOfrdkCWQ4ts5+t2QH9qvHST7HZAw/UoXI8Od0DD9Shcjw53QMP1KFyPDndA7FG4HoUPd0DsUbgehQ93QMP1KFyPEndA0NVW7C8Td0BiEFg5tBh3QGIQWDm0GHdA8KfGSzcZd0A730+Nlx53QI2XbhKDLHdAppvEILAyd0AzMzMzMzN3QOxRuB6FP3dA7FG4HoU/d0BWDi2ynT93QPyp8dJNQndA4XoUrkdRd0DsUbgehVd3QLx0kxgEZndAPQrXo3B1d0A9CtejcHV3QLgehetRd3dAoBov3SSId0CkcD0K14t3QGDl0CLbjXdAAiuHFtmed0DsUbgehZ93QOxRuB6Fn3dA7FG4HoWfd0DLoUW287V3QGZmZmZmtndAj8L1KFy/d0CwcmiR7cB3QOf7qfHSzXdA9ihcj8LVd0DXo3A9Ctd3QPCnxks32XdA7FG4HoXbd0Bg5dAi2+F3QDeJQWDl7HdAXrpJDAL3d0BIUPwYc/d3QMHKoUW2+XdAwcqhRbb5d0AK16NwPfp3QM3MzMzM/HdAPQrXo3D9d0CsHFpkO/93QKwcWmQ7/3dAj8L1KFz/d0CPwvUoXP93QFYOLbKd/3dAVg4tsp3/d0AQWDm0yAJ4QDMzMzMzB3hAtvP91HgJeEA/NV66SQx4QMl2vp8aD3hAmpmZmZkZeEDNzMzMzBx4QD0K16NwJXhAexSuR+EqeEDD9Shcjy54QBkEVg4tMnhAGQRWDi0yeEAZBFYOLTJ4QOxRuB6FO3hAexSuR+FGeEAlBoGVQ0t4QCUGgZVDS3hAN4lBYOVQeEDsUbgehV94QOxRuB6FX3hA7FG4HoVfeEDsUbgehV94QDEIrBxaZHhAAAAAAABseEBI4XoUrn94QNejcD0Kj3hA16NwPQqPeEBxPQrXo5J4QHE9CtejknhAAAAAAACUeEBxPQrXo5h4QAwCK4cWmXhAkxgEVg6teEAAAAAAALB4QNejcD0Kv3hAAAAAAADAeEBGtvP91Mx4QB+F61G4znhAH4XrUbjOeEASg8DKoeV4QBKDwMqh5XhAEoPAyqHleEBmZmZmZuZ4QGQ730+N73hAcT0K16P4eEBxPQrXo/h4QJhuEoPA+nhAmG4Sg8D6eEAzMzMzM/94QI/C9Shc/3hAjZduEoMAeUAGgZVDiwx5QM3MzMzMDHlAPQrXo3AZeUApXI/C9Th5QHsUrkfhOnlACtejcD1aeUD2KFyPwl15QJqZmZmZaXlAmpmZmZlpeUBWDi2ynX95QGq8dJMYgHlAarx0kxiAeUCYbhKDwIZ5QJhuEoPAhnlAlkOLbOeLeUCWQ4ts54t5QJZDi2zni3lAMQisHFqUeUA9CtejcJl5QJyiI7n8n3lAEoPAyqGleUBaZDvfT7V5QFpkO99PtXlAzczMzMy8eUDNzMzMzLx5QEjhehSuv3lAAAAAAADgeUCPwvUoXO95QIlBYOXQ8nlAy6FFtvP9eUBzaJHtfP95QNv5fmq8JHpAhetRuB4lekDNzMzMzCx6QBkEVg4tMnpAGQRWDi0yekBmZmZmZjZ6QGZmZmZmNnpAZmZmZmY2ekBmZmZmZjZ6QHsUrkfhOnpAZmZmZmY+ekDJdr6fGj96QMl2vp8aP3pAmpmZmZlRekDLoUW281V6QLByaJHtYHpAAAAAAABqekAEVg4tsm16QBSuR+F6dHpAYOXQItuBekAxCKwcWoR6QLgehetRj3pAF9nO91OdekAfhetRuLZ6QPyp8dJNunpAZmZmZmbGekB7FK5H4cp6QJqZmZmZ2XpArkfhehTuekAZBFYOLfJ6QMP1KFyP8npAAiuHFtn+ekDXo3A9Cv96QHNoke18/3pAVg4tsp3/ekBWDi2ynf96QFYOLbKd/3pAVg4tsp3/ekBWDi2ynf96QJ7vp8ZLB3tADAIrhxYZe0ASg8DKoSV7QHWTGARWKntAppvEILAye0Cmm8QgsDJ7QFyPwvUoNHtA8tJNYhA4e0Dy0k1iEDh7QD0K16NwPXtARIts5/s/e0BEi2zn+z97QCUGgZVDS3tAJQaBlUNLe0BkO99PjVd7QJqZmZmZXXtATDeJQWBle0DZzvdT42V7QM3MzMzMfHtAHVpkO99/e0DXo3A9CoN7QMP1KFyPjntAH4XrUbiee0DLoUW286V7QGZmZmZmpntATmIQWDmse0AfhetRuL57QB+F61G4vntAPzVeuknMe0DXo3A9Ctd7QEa28/3U3HtAj8L1KFzfe0CPwvUoXN97QEJg5dAi+3tAPQrXo3D9e0A9CtejcP17QHsUrkfh/ntAyXa+nxr/e0BzaJHtfP97QJqZmZmZEXxAZmZmZmYSfEBmZmZmZhJ8QMuhRbbzFXxADAIrhxYZfEAMAiuHFhl8QMP1KFyPHnxAAAAAAAAgfEBxPQrXoyB8QBkEVg4tMnxA30+Nl24yfEDfT42XbjJ8QDMzMzMzR3xAzczMzMxIfEDXo3A9Ck98QPCnxks3WXxA8KfGSzdZfECamZmZmVl8QDEIrBxaZHxAKVyPwvVofED2KFyPwm18QGZmZmZmbnxAPQrXo3BvfECamZmZmXF8QAisHFpke3xA7FG4HoV/fEDsUbgehX98QMUgsHJoiXxA9ihcj8KXfEAMAiuHFpl8QHsUrkfhpnxAexSuR+GmfECuR+F6FL58QB+F61G4vnxAMzMzMzO/fEAbL90kBul8QIcW2c7383xAAAAAAAAAfUDpJjEIrAR9QJqZmZmZDX1Aw/UoXI8SfUB7FK5H4RJ9QEoMAiuHIn1AhetRuB4lfUCPwvUoXDd9QOxRuB6FP31AZmZmZmZOfUBmZmZmZk59QDMzMzMzX31ApHA9CtdffUAUrkfhemJ9QEa28/3UZH1AvHSTGARmfUC8dJMYBGZ9QLx0kxgEZn1AH4XrUbh+fUAfhetRuH59QD81XrpJiH1AexSuR+GmfUAzMzMzM699QMl2vp8av31AzczMzMzMfUCamZmZmdl9QC2yne+n2n1A4XoUrkfhfUCkcD0K1+N9QEjhehSu531AcT0K16PwfUDsUbgehft9QB+F61G4/n1A16NwPQr/fUCsHFpkO/99QKwcWmQ7/31A7FG4HoX/fUDsUbgehf99QOxRuB6F/31A7FG4HoX/fUBWDi2ynf99QFYOLbKd/31AObTIdr7/fUA5tMh2vv99QDm0yHa+/31AObTIdr7/fUA5tMh2vv99QDm0yHa+/31AK4cW2c7/fUArhxbZzv99QAAAAAAAAH5ApHA9CtcLfkCPwvUoXA9+QIlBYOXQEn5AhetRuB4VfkCF61G4HhV+QIXrUbgeFX5ADAIrhxYZfkA9CtejcCV+QLTIdr6fKn5A16NwPQovfkAZBFYOLTJ+QGZmZmZmSn5AJQaBlUNLfkDhehSuR01+QK5H4XoUXn5ArkfhehRefkDXo3A9Cl9+QNnO91PjZX5AH4XrUbh+fkCPwvUoXH9+QDm0yHa+f35AObTIdr5/fkB1kxgEVop+QEjhehSuk35AH4XrUbiefkCF61G4HqV+QM3MzMzMuH5APzVeuknMfkCPwvUoXM1+QHsUrkfh1n5AvHSTGATmfkC8dJMYBOZ+QOxRuB6F735AwcqhRbbvfkD2KFyPwg1/QNejcD0KH39AXI/C9Sgkf0Cmm8QgsDJ/QNNNYhBYOX9AMzMzMzM/f0BI4XoUrj9/QKRwPQrXQ39AKVyPwvVcf0ApXI/C9Vx/QCuHFtnOZ39Aj8L1KFx/f0CPwvUoXH9/QI/C9Shcf39Aj8L1KFx/f0BmZmZmZo5/QIlBYOXQkn9AhetRuB6Vf0AUrkfheqR/QD81XrpJzH9AK4cW2c7Xf0C4HoXrUd9/QOxRuB6F339ApHA9Ctfjf0AAAAAAAPh/QOxRuB6FAYBAvp8aL90CgECiRbbz/QOAQOxRuB6FB4BASOF6FK4HgEDVeOkmMQiAQLgehetREYBA16NwPQofgECWQ4ts5yOAQEjhehSuJ4BACtejcD0rgEAzMzMzMy+AQBkEVg4tMoBAPQrXo3A9gEB1kxgEVj6AQEjhehSuP4BAZmZmZmZAgEDByqFFtkOAQMHKoUW2Q4BASOF6FK5PgEBI4XoUrk+AQAAAAAAAWoBArkfhehRagEBCYOXQIluAQKRwPQrXW4BAJzEIrBxegEAnMQisHF6AQI/C9ShcX4BAj8L1KFxfgECYbhKDwHKAQJqZmZmZc4BAmpmZmZlzgECPwvUoXH+AQD0K16Nwg4BAPQrXo3CDgEA9CtejcIOAQDMzMzMzj4BAH4XrUbiSgECBBMWPMaOAQBKDwMqhpYBAEoPAyqGlgED2KFyPwqWAQOxRuB6Fr4BA4XoUrke7gEDhehSuR7uAQOF6FK5Hu4BAMQisHFrMgEAxCKwcWsyAQGQ730+N0YBAj8L1KFzXgEAlBoGVQ92AQOF6FK5H34BAj8L1KFzfgEDByqFFtt+AQMHKoUW234BA9ihcj8LfgED2KFyPwt+AQKrx0k1i4IBAqvHSTWLggEDD9Shcj+SAQMP1KFyP5IBAUrgehevpgEDsUbgeheuAQLpJDAIr9YBA7FG4HoX3gEDsUbgehfeAQI/C9Shc/4BAj8L1KFz/gEDy0k1iEACBQNejcD0KA4FAF9nO91MPgUAUrkfhehCBQOF6FK5HFYFADAIrhxYZgUAMAiuHFhmBQGZmZmZmGoFApHA9CtcvgUBSuB6F6y+BQHsUrkfhP4FAAAAAAABAgUAUrkfhekSBQEjhehSuWYFASOF6FK5fgUC4HoXrUWWBQLgehetRZYFASOF6FK5sgUDn+6nx0m2BQDMzMzMzc4FAMzMzMzNzgUApXI/C9XyBQEjhehSufYFAj8L1KFx/gUA9CtejcH+BQA4tsp3vf4FABoGVQ4uMgUCkcD0KV5KBQNV46SYxmIFAUrgeheuZgUAzMzMzM5uBQDMzMzMzm4FAPQrXo3CbgUBYObTIdp6BQFg5tMh2noFAj8L1KFyfgUDsUbgehZ+BQClcj8L1uIFA5/up8dLFgUDn+6nx0sWBQFg5tMh2yIFAPzVeuknMgUAGgZVDi8yBQIXrUbgezYFAUrgehevPgUDsUbgehduBQOF6FK5H4YFA4XoUrkfhgUBxPQrXo+SBQK5H4XoU5oFACKwcWmTpgUDn+6nx0u2BQOF6FK5H94FAj8L1KFz/gUCPwvUoXP+BQIGVQ4ts/4FAObTIdr7/gUDpJjEIrAyCQCcxCKwcDoJADAIrhxYZgkBmZmZmZhqCQK5H4XoUHIJATmIQWDkcgkCamZmZmR+CQEw3iUFgJYJASOF6FK4vgkBmZmZmZj6CQMP1KFyPRoJAI9v5fmpMgkAj2/l+akyCQHe+nxovU4JA9ihcj8JfgkD2KFyPwl+CQPYoXI/CX4JAg8DKoUVmgkDhehSuR2uCQOF6FK5Ha4JAiUFg5dBygkCJQWDl0HKCQMP1KFyPeoJASgwCK4eWgkAAAAAAAJiCQNejcD0Km4JA16NwPQqbgkAAAAAAAKiCQJMYBFYOqYJAi2zn+6mzgkC4HoXrUbmCQHWTGARWuoJAMzMzMzO/gkD2KFyPwr+CQKRwPQrXv4JAexSuR+G/gkAK16NwPcSCQFg5tMh2xIJAWDm0yHbEgkBYObTIdsSCQGZmZmZmyoJA9ihcj8LLgkA/NV66ScyCQD81XrpJzIJAMzMzMzPNgkCR7Xw/NdWCQI/C9Shc34JAj8L1KFzfgkCPwvUoXN+CQGiR7Xw/5YJAvHSTGATmgkC8dJMYBOaCQKAaL90k5oJApHA9CtcPg0CkcD0K1w+DQFg5tMh2GINAJQaBlUMvg0BO0ZFc/i+DQBkEVg4tMoNARIts5/tHg0CamZmZmU2DQPYoXI/CT4NA9ihcj8JPg0ArhxbZzk+DQCuHFtnOT4NA8KfGSzdZg0CamZmZmV+DQJqZmZmZX4NAmpmZmZlfg0Aj2/l+6mSDQK5H4XoUboNAmpmZmZlzg0By+Q/pt3uDQEjhehSuf4NASOF6FK5/g0BSuB6F64+DQM3MzMzMkINAiUFg5dCSg0CJQWDl0JKDQNNNYhBYmYNA001iEFiZg0CNl24Sg6iDQM3MzMzMqINAzczMzMyog0CF61G4Hq2DQD0K16Nwr4NAmpmZmZmvg0CamZmZma+DQIts5/upr4NA1XjpJjGwg0DFILByaLmDQMdLN4lBvoNAx0s3iUG+g0BI4XoUrr+DQEjhehSuv4NAsHJoke3Qg0BI4XoUrt+DQOxRuB6F64NAukkMAivvg0D8qfHSTfKDQKRwPQrX9YNAObTIdr7/g0BI4XoUrg+EQPhT46WbIIRAmpmZmZkxhEAZBFYOLTKEQJHtfD81NoRAH4XrUbg+hEAfhetRuD6EQKwcWmQ7P4RAmpmZmZljhEApXI/C9WeEQGZmZmZmbIRAZmZmZmZshEB56SYxCIyEQCPb+X5qjIRAPQrXo3CPhEA9CtejcI+EQD0K16Nwj4RAhxbZzveVhEDTTWIQWJmEQDMzMzMzn4RAMzMzMzOfhEArhxbZzp+EQCuHFtnOn4RAlkOLbOefhEDFILByaKmEQB+F61G4toRAf2q8dJO4hECPwvUoXL+EQHNoke18v4RAukkMAivBhEAlBoGVQ8uEQNejcD0Kz4RA16NwPQrPhEBEi2zn+9GEQJhuEoPA0oRAMzMzMzPThEDhehSuR+GEQLx0kxgE9oRAMQisHFr8hEA9CtejcP+EQD0K16Nw/4RAHVpkO9//hEAGgZVDiwyFQAaBlUOLDIVAWDm0yHYQhUCJQWDl0BKFQBSuR+F6GIVAKVyPwvUYhUBI4XoUrh+FQGZmZmZmJIVAcT0K16MshUBxPQrXoyyFQEjhehSuP4VArkfhehRAhUAlBoGVQ0uFQCUGgZVDS4VA/tR46SZZhUAtsp3vp1qFQFYOLbKdX4VAlkOLbOdfhUDD9Shcj3KFQDMzMzMzc4VAMzMzMzN7hUAlBoGVQ4uFQJqZmZmZvYVAmpmZmZm9hUDhehSuR8mFQIlBYOXQ0oVAiUFg5dDShUCJQWDl0NKFQKRwPQrX34VApHA9CtffhUDwp8ZLN+GFQOXQItv56oVASOF6FK7vhUBI4XoUru+FQDm0yHa+/4VAAAAAAAAChkCuR+F6FAaGQDMzMzMzB4ZAMQisHFoMhkB7FK5H4RaGQNejcD0KH4ZALbKd76c2hkDXo3A9Ck+GQGZmZmZmUoZAhetRuB5dhkApXI/C9WiGQPYoXI/CbYZA9ihcj8JthkCwcmiR7XCGQFYOLbKdf4ZASOF6FK5/hkArhxbZzn+GQK5H4XoUhoZArkfhehSGhkAAAAAAAI+GQIlBYOXQkoZAiUFg5dCShkCPwvUoXJ+GQI/C9Shcn4ZAcT0K16OghkCYbhKDwKqGQB+F61G4roZAH4XrUbiuhkDufD81XrqGQMP1KFyPxoZAIbByaJHHhkCamZmZmdGGQOxRuB6F34ZAmpmZmZnvhkCkcD0K1/+GQKRwPQrX/4ZAppvEILAyh0CWQ4ts5z+HQM3MzMzMQIdAWDm0yHZch0C8dJMYBGaHQB1aZDvff4dAmpmZmZmTh0BkO99PjZ+HQEjhehSun4dAZmZmZmamh0BmZmZmZqaHQIlBYOXQsodAsHJoke3Ah0CkcD0K18eHQDEIrBxazIdAmG4Sg8DUh0AK16NwPdqHQOxRuB6F24dAL90kBoHlh0AAAAAAAO2HQMHKoUW2+YdAVg4tsp3/h0C28/3UeAmIQJqZmZmZD4hAiUFg5dASiED2KFyPwiOIQPYoXI/CI4hAPQrXo3AliEA9CtejcCWIQD0K16NwJYhA7FG4HoUviEDn+6nx0j2IQM3MzMzMRohASOF6FK5JiEDufD81Xl6IQPT91HjpbohASOF6FK5/iEBI4XoUrn+IQEjhehSuf4hApHA9CteTiEDLoUW285WIQArXo3A9nIhA16NwPQq/iEDByqFFtr+IQCUGgZVD24hApHA9CtfbiEBmZmZmZuOIQGQ730+N74hAZDvfT43viEAUrkfhevyIQI/C9Shc/4hASOF6FK7/iEAdWmQ73/+IQAaBlUOLDIlABoGVQ4sMiUAGgZVDiwyJQM3MzMzMDIlASOF6FK4PiUCmm8QgsDKJQAAAAAAAPolACtejcD1aiUDZzvdT42WJQHWTGARWeolAXrpJDAKTiUBmZmZmZqqJQNejcD0Kr4lASOF6FK6/iUBI4XoUrr+JQPYoXI/Cx4lACKwcWmTJiUAAAAAAANCJQHsUrkfh0IlAzczMzMzkiUAfhetRuOaJQJqZmZmZ+YlA7FG4HoUPikCPwvUoXBmKQNv5fmq8JIpAzczMzMwsikDNzMzMzCyKQJZDi2znP4pABoGVQ4tMikAGgZVDi0yKQIlBYOXQUopAXrpJDAJTikD2KFyPwlWKQOxRuB6FV4pAMzMzMzNfikAzMzMzM1+KQLByaJHtYIpAsHJoke1gikCWQ4ts52uKQDEIrBxahIpAAAAAAACUikDb+X5qvKiKQD0K16Nwr4pAPQrXo3CvikDsUbgehbeKQGiR7Xw/xYpAUrgehevRikCamZmZmdmKQJqZmZmZ2YpAPQrXo3DnikCuR+F6FO6KQJhuEoPA8opAGy/dJAb5ikAbL90kBvmKQIXrUbge/YpA16NwPQr/ikCBlUOLbP+KQDMzMzMzE4tAukkMAisVi0AzMzMzMzuLQOxRuB6FR4tA7FG4HoVHi0BmZmZmZmKLQB1aZDvff4tAHVpkO99/i0A9CtejcI+LQB+F61G4notAj8L1KFyfi0BOYhBYOayLQOf7qfHSuItAukkMAiu6i0C6SQwCK7qLQD81XrpJzItAfT81XrrWi0AMAiuHFuGLQG8Sg8DK4YtAbxKDwMrhi0DNzMzMzOKLQKRwPQrX54tAj8L1KFz/i0CPwvUoXP+LQI/C9Shc/4tAj8L1KFz/i0BkO99Pjf+LQLTIdr6fAoxAUrgehesHjEBSuB6F6weMQAwCK4cWGYxADAIrhxYZjEA9CtejcBuMQD0K16NwG4xA4XoUrkcfjEDhehSuRx+MQJqZmZmZH4xAYOXQItsfjEBxPQrXoyCMQARWDi2yNYxABFYOLbI1jEAzMzMzM0eMQPCnxks3WYxAKVyPwvVojED2KFyPwm2MQAisHFpke4xAPQrXo3CLjEA9CtejcIuMQPYoXI/Cl4xADAIrhxaZjEAMAiuHFpmMQNnO91Njr4xA4XoUrke2jEDFILByaBmNQMUgsHJoGY1Aarx0kxgqjUAlBoGVQyuNQD81XrpJLI1Ag8DKoUV2jUA/NV66SYiNQJhuEoPAko1AmG4Sg8CSjUAnMQisHJaNQI/C9ShcmY1ADJOpglHljUAMk6mCUeWNQIXrUbie7I1AObTIdr7/jUAdWmQ73/+NQB1aZDvf/41AHVpkO9//jUCkcD0K1wuOQHE9CtejEI5ADAIrhxYZjkDNzMzMzC6OQJqZmZmZNY5Ay6FFtvNFjkDXo3A9Cl+OQJZDi2znd45Aj8L1KFx/jkCPwvUoXH+OQHWTGARWio5AH4XrUbiWjkCamZmZmZ+OQJqZmZmZn45A5dAi2/mqjkD2KFyPwu+OQJqZmZmZ+Y5AJzEIrBz+jkDD9ShcjzaPQM3MzMzMNo9A+n5qvHQ7j0BI4XoUrj+PQKRwPQrXP49ApHA9Ctc/j0Bcj8L1KECPQFyPwvUoQI9A6SYxCKxMj0DpJjEIrEyPQClcj8L1XI9A1XjpJjFgj0ArhxbZzmePQJzEILBycI9AYOXQItt5j0BkO99PjX+PQEa28/3Uf49APQrXo3Clj0CWQ4ts56uPQC2yne+nro9AdZMYBFbGj0BGtvP91NCPQPYoXI/C949ALbKd76f6j0BzaJHtfP+PQL6fGi/dApBAzczMzMwXkEAzMzMzMy+QQNEi2/l+MpBA0SLb+X4ykECPwvUoXDuQQPT91HjpPpBAhxbZzvc/kEAzMzMzM0OQQOxRuB6FUpBAZmZmZmZhkEDNzMzMzGSQQPYoXI/CZZBAH4XrUbhnkEB7FK5H4WeQQD0K16Nwg5BAFK5H4XqMkEAAAAAAALyQQPyp8dJNvpBAMQisHFrMkEAlBoGVQ92QQGZmZmZm35BAlkOLbOffkECq8dJNYuCQQFK4HoXr6ZBASOF6FK71kEBI4XoUrvWQQEjhehSu9ZBAObTIdr7/kEC6SQwCKwORQAAAAAAAB5FA46WbxCALkUDpJjEIrAyRQOkmMQisDJFAH4XrUbgPkUAZBFYOLSaRQAAAAAAALpFApHA9CtcvkUCkcD0K1y+RQFK4HoXrNZFAexSuR+E/kUBxPQrXo0uRQPYoXI/CY5FAarx0kxhkkUC8dJMYBGaRQAwCK4cWaZFAmpmZmZlpkUBI4XoUrmyRQHE9Ctejb5FASOF6FK53kUBI4XoUrneRQEjhehSud5FAZDvfT41/kUAOLbKd73+RQIPAyqFFhpFASOF6FK6PkUDLoUW285WRQK5H4XoUmJFAlkOLbOefkUAAAAAAAMeRQEjhehSuz5FAexSuR+HVkUCYbhKDwNeRQGZmZmZm5pFAFK5H4XoYkkAUrkfhehiSQE5iEFg5HJJASOF6FK47kkCyne+nxkaSQAAAAAAAkJJAXI/C9aiokkA9CtejcLOSQLgehetRuZJAMzMzMzO/kkCkcD0K17+SQJZDi2znv5JAlkOLbOe/kkCWQ4ts57+SQJZDi2znv5JA9ihcj8LLkkCPwvUoXN+SQAisHFpk85JApHA9CtfzkkCkcD0K1/OSQGZmZmZm+5JAg8DKoUUGk0CDwMqhRQaTQD0K16PwCpNApHA9CtcPk0BO0ZFc/i+TQI/C9SjcMZNAmpmZmZlrk0A9CtejcHeTQMP1KFyPfpNAw/UoXI9+k0CJQWDl0JKTQHsUrkfhoJNAexSuR+Gvk0C4HoXrUbWTQDMzMzMzvZNAZmZmZmbHk0A9CtejcMuTQJqZmZmZzpNAKVyPwvXbk0DsUbgeheKTQFyPwvWo/JNAHVpkO9//k0BxPQrXowmUQM3MzMzMHZRAzczMzMwdlEDLoUW28zWUQIXrUbgeP5RAj8L1KFw/lEC28/3UeEWUQDMzMzMzSpRAcT0K16NOlEApXI/C9U+UQIcW2c73lZRAMzMzMzOflEDFILByaKmUQB+F61G4q5RA16NwPQq3lEBmZmZmZreUQB+F61G43pRAiUFg5VDjlEA9Ctej8AWVQK5H4XoUDpVAiUFg5dASlUBmZmZmZheVQHE9CtejF5VAFK5H4XoYlUDjpZvEICCVQI9TdCSXIZVApHA9Ctc/lUCamZmZmUuVQKRwPQrXT5VApHA9CtdPlUCPwvUoXF+VQJMYBFYOZ5VAXI/C9SjOlUAfhetRuN+VQB+F61G435VAsp3vp8bflUBSuB6F69+VQEjhehSu75VASOF6FK7vlUDXo3A9Ch+WQC2yne+nNpZALbKd76c2lkCamZmZmUOWQAAAAAAAYJZAHVpkO99/lkAdWmQ733+WQJZDi2znf5ZAsHJoke1/lkAzMzMzM4WWQKRwPQrXj5ZAmpmZmZmelkDhehSuR6OWQClcj8L1uZZAmpmZmZm7lkCamZmZmcqWQKRwPQrX/5ZAZmZmZmYEl0CR7Xw/NQuXQAwCK4cWGZdAXI/C9Sg8l0CWQ4ts5z+XQHE9CtejYJdAi2zn+6lml0B7FK5H4W+XQC/dJAaBeZdAzczMzMywl0BkO99PjcqXQJhuEoPA1JdACtejcD3al0Ce76fGSwSYQClcj8L1M5hA5/up8VJDmEA5tMh2vkuYQOxRuB6Fd5hAPQrXo3CCmEDLoUW285WYQMP1KFyPnJhA9ihcj8KnmEBEi2zn+66YQPYoXI/CyphArkfhehTcmEBI4XoUrv+YQAaBlUOLDJlAFK5H4XpJmUBxPQrXo0+ZQFTjpZvEaJlA4XoUrkdzmUCYbhKDwISZQM3MzMzMoplAzczMzMyimUAAAAAAAMeZQM3MzMzMx5lAzczMzMzHmUD2KFyPwtOZQPYoXI/C05lA2/l+arwkmkDsUbgehTOaQKRwPQrXP5pAXrpJDAJTmkAzMzMzM1+aQBSuR+F6mJpACtejcD2imkDD9Shcj6OaQNv5fmq8qJpAmpmZmZnZmkAK16NwPTCbQAAAAAAATZtAfT81XrrWm0BSuB6F6wecQAAAAAAAH5xAexSuR+EfnEB7FK5H4R+cQOXQItv5H5xASgwCK4cmnEBKDAIrhyacQEoMAiuHJpxA9ihcj8IAnUDsUbgehT+dQKRwPQrXX51ApHA9CtdfnUAQWDm0yIedQClcj8L1h51AmpmZmZnlnUCWQ4ts5/+dQJZDi2zn/51AcT0K16MQnkDsUbgehReeQIXrUbgeI55AXI/C9SgsnkBGtvP91C+eQI/C9Shcf55AzczMzMzunkDD9Shcj++eQMHKoUW2755ApHA9Ctc/n0DpJjEIrEyfQK5H4XoUTp9ASOF6FK5Pn0BI4XoUrk+fQAwCK4cWmZ9APQrXo3Cln0B1kxgEVsafQD0K16Nw059ABoGVQ4sMoEBzaJHtfBmgQHE9CtejIqBAmpmZmRlxoEBkO99PjdGgQM3MzMzM1aBAukkMAisDoUApXI/C9YihQLgehevRk6FAuB6F69GcoUAAAAAAAMehQFK4HoXrz6FAzczMzEwLokDNzMzMzCOiQHE9CtejWaJA5dAi2/lqokBmZmZmZraiQKMjufyHuKJAMzMzMzO/okBSuB6F67+iQFK4HoXrv6JAxSCwcmjJokBmZmZmZsqiQI/C9SjcKqNAFK5H4XqRo0CuR+F6lKyjQCPb+X7qr6NAhetRuB7po0AnMQisHAakQHE9CtejG6RA2c73U+MfpECF61G4Hj+kQKAaL92keqRAH4XrUfiBpEAK16NwPYKkQArXo3A906RA001iEFjppEB7FK5H4e2kQD0K16PwBaVAj8L1KNw3pUCWQ4ts51+lQJMYBFYO06VA2c73U+PfpUBSuB6F69+lQFK4HoXr36VAUrgehevfpUBSuB6F69+lQKRwPQrX56VApHA9CtfnpUBI4XoUru+lQJZDi2znf6ZAJzEIrByOpkAv3SQGQZCmQI/C9Sjc96ZAcT0K16M6p0BmZmZm5m+nQGDl0CLbn6dAmG4Sg8DUp0BYObTI9uenQFg5tMj256dAAAAAAAAQqECPwvUo3BaoQI/C9Sjcm6hAmG4Sg8CEqUAK16NwvSaqQDMzMzMzO6pAlkOLbOc/qkCPwvUoXIOqQAAAAAAAmapAF9nO91OdqkCPwvUo3FerQM3MzMzMYatABFYOLbI1rEDdJAaBlZKtQD0K16Pwya1AoBov3SS0rkApXI/C9S+vQGZmZmbmP69ASOF6FK5Pr0D0/dR46T6wQM3MzMwMRLBAYhBYObSEsECgGi/dpMmwQGQ730+N0bBAukkMAisDsUA3iUFg5Q+xQIGVQ4ssQLFAzczMzMx8sUCPwvUo/JOxQMP1KFzPxLFAzczMzMwjskDb+X5qvDeyQESLbOf7v7JASOF6FO4js0CkcD0KlzCzQClcj8L127NAKVyPwvVPtEApXI/C9UO1QDMzMzPz0rhAKVyPwvVXu0AUrkfh+j+/QMuhRbbz379AZmZmZqb7v0BzaJHt/GfAQJqZmZn5FsFApHA9CvfFwUCF61G4XlLDQESLbOf738VAFK5H4fpXy0DNzMzM/BbRQIXrUbieG9ZA",
                    "dtype": "f8"
                  },
                  "xaxis": "x",
                  "y": {
                    "bdata": "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",
                    "dtype": "f8"
                  },
                  "yaxis": "y"
                }
              ],
              "layout": {
                "legend": {
                  "tracegroupgap": 0
                },
                "template": {
                  "data": {
                    "bar": [
                      {
                        "error_x": {
                          "color": "#2a3f5f"
                        },
                        "error_y": {
                          "color": "#2a3f5f"
                        },
                        "marker": {
                          "line": {
                            "color": "#E5ECF6",
                            "width": 0.5
                          },
                          "pattern": {
                            "fillmode": "overlay",
                            "size": 10,
                            "solidity": 0.2
                          }
                        },
                        "type": "bar"
                      }
                    ],
                    "barpolar": [
                      {
                        "marker": {
                          "line": {
                            "color": "#E5ECF6",
                            "width": 0.5
                          },
                          "pattern": {
                            "fillmode": "overlay",
                            "size": 10,
                            "solidity": 0.2
                          }
                        },
                        "type": "barpolar"
                      }
                    ],
                    "carpet": [
                      {
                        "aaxis": {
                          "endlinecolor": "#2a3f5f",
                          "gridcolor": "white",
                          "linecolor": "white",
                          "minorgridcolor": "white",
                          "startlinecolor": "#2a3f5f"
                        },
                        "baxis": {
                          "endlinecolor": "#2a3f5f",
                          "gridcolor": "white",
                          "linecolor": "white",
                          "minorgridcolor": "white",
                          "startlinecolor": "#2a3f5f"
                        },
                        "type": "carpet"
                      }
                    ],
                    "choropleth": [
                      {
                        "colorbar": {
                          "outlinewidth": 0,
                          "ticks": ""
                        },
                        "type": "choropleth"
                      }
                    ],
                    "contour": [
                      {
                        "colorbar": {
                          "outlinewidth": 0,
                          "ticks": ""
                        },
                        "colorscale": [
                          [
                            0,
                            "#0d0887"
                          ],
                          [
                            0.1111111111111111,
                            "#46039f"
                          ],
                          [
                            0.2222222222222222,
                            "#7201a8"
                          ],
                          [
                            0.3333333333333333,
                            "#9c179e"
                          ],
                          [
                            0.4444444444444444,
                            "#bd3786"
                          ],
                          [
                            0.5555555555555556,
                            "#d8576b"
                          ],
                          [
                            0.6666666666666666,
                            "#ed7953"
                          ],
                          [
                            0.7777777777777778,
                            "#fb9f3a"
                          ],
                          [
                            0.8888888888888888,
                            "#fdca26"
                          ],
                          [
                            1,
                            "#f0f921"
                          ]
                        ],
                        "type": "contour"
                      }
                    ],
                    "contourcarpet": [
                      {
                        "colorbar": {
                          "outlinewidth": 0,
                          "ticks": ""
                        },
                        "type": "contourcarpet"
                      }
                    ],
                    "heatmap": [
                      {
                        "colorbar": {
                          "outlinewidth": 0,
                          "ticks": ""
                        },
                        "colorscale": [
                          [
                            0,
                            "#0d0887"
                          ],
                          [
                            0.1111111111111111,
                            "#46039f"
                          ],
                          [
                            0.2222222222222222,
                            "#7201a8"
                          ],
                          [
                            0.3333333333333333,
                            "#9c179e"
                          ],
                          [
                            0.4444444444444444,
                            "#bd3786"
                          ],
                          [
                            0.5555555555555556,
                            "#d8576b"
                          ],
                          [
                            0.6666666666666666,
                            "#ed7953"
                          ],
                          [
                            0.7777777777777778,
                            "#fb9f3a"
                          ],
                          [
                            0.8888888888888888,
                            "#fdca26"
                          ],
                          [
                            1,
                            "#f0f921"
                          ]
                        ],
                        "type": "heatmap"
                      }
                    ],
                    "histogram": [
                      {
                        "marker": {
                          "pattern": {
                            "fillmode": "overlay",
                            "size": 10,
                            "solidity": 0.2
                          }
                        },
                        "type": "histogram"
                      }
                    ],
                    "histogram2d": [
                      {
                        "colorbar": {
                          "outlinewidth": 0,
                          "ticks": ""
                        },
                        "colorscale": [
                          [
                            0,
                            "#0d0887"
                          ],
                          [
                            0.1111111111111111,
                            "#46039f"
                          ],
                          [
                            0.2222222222222222,
                            "#7201a8"
                          ],
                          [
                            0.3333333333333333,
                            "#9c179e"
                          ],
                          [
                            0.4444444444444444,
                            "#bd3786"
                          ],
                          [
                            0.5555555555555556,
                            "#d8576b"
                          ],
                          [
                            0.6666666666666666,
                            "#ed7953"
                          ],
                          [
                            0.7777777777777778,
                            "#fb9f3a"
                          ],
                          [
                            0.8888888888888888,
                            "#fdca26"
                          ],
                          [
                            1,
                            "#f0f921"
                          ]
                        ],
                        "type": "histogram2d"
                      }
                    ],
                    "histogram2dcontour": [
                      {
                        "colorbar": {
                          "outlinewidth": 0,
                          "ticks": ""
                        },
                        "colorscale": [
                          [
                            0,
                            "#0d0887"
                          ],
                          [
                            0.1111111111111111,
                            "#46039f"
                          ],
                          [
                            0.2222222222222222,
                            "#7201a8"
                          ],
                          [
                            0.3333333333333333,
                            "#9c179e"
                          ],
                          [
                            0.4444444444444444,
                            "#bd3786"
                          ],
                          [
                            0.5555555555555556,
                            "#d8576b"
                          ],
                          [
                            0.6666666666666666,
                            "#ed7953"
                          ],
                          [
                            0.7777777777777778,
                            "#fb9f3a"
                          ],
                          [
                            0.8888888888888888,
                            "#fdca26"
                          ],
                          [
                            1,
                            "#f0f921"
                          ]
                        ],
                        "type": "histogram2dcontour"
                      }
                    ],
                    "mesh3d": [
                      {
                        "colorbar": {
                          "outlinewidth": 0,
                          "ticks": ""
                        },
                        "type": "mesh3d"
                      }
                    ],
                    "parcoords": [
                      {
                        "line": {
                          "colorbar": {
                            "outlinewidth": 0,
                            "ticks": ""
                          }
                        },
                        "type": "parcoords"
                      }
                    ],
                    "pie": [
                      {
                        "automargin": true,
                        "type": "pie"
                      }
                    ],
                    "scatter": [
                      {
                        "fillpattern": {
                          "fillmode": "overlay",
                          "size": 10,
                          "solidity": 0.2
                        },
                        "type": "scatter"
                      }
                    ],
                    "scatter3d": [
                      {
                        "line": {
                          "colorbar": {
                            "outlinewidth": 0,
                            "ticks": ""
                          }
                        },
                        "marker": {
                          "colorbar": {
                            "outlinewidth": 0,
                            "ticks": ""
                          }
                        },
                        "type": "scatter3d"
                      }
                    ],
                    "scattercarpet": [
                      {
                        "marker": {
                          "colorbar": {
                            "outlinewidth": 0,
                            "ticks": ""
                          }
                        },
                        "type": "scattercarpet"
                      }
                    ],
                    "scattergeo": [
                      {
                        "marker": {
                          "colorbar": {
                            "outlinewidth": 0,
                            "ticks": ""
                          }
                        },
                        "type": "scattergeo"
                      }
                    ],
                    "scattergl": [
                      {
                        "marker": {
                          "colorbar": {
                            "outlinewidth": 0,
                            "ticks": ""
                          }
                        },
                        "type": "scattergl"
                      }
                    ],
                    "scattermap": [
                      {
                        "marker": {
                          "colorbar": {
                            "outlinewidth": 0,
                            "ticks": ""
                          }
                        },
                        "type": "scattermap"
                      }
                    ],
                    "scattermapbox": [
                      {
                        "marker": {
                          "colorbar": {
                            "outlinewidth": 0,
                            "ticks": ""
                          }
                        },
                        "type": "scattermapbox"
                      }
                    ],
                    "scatterpolar": [
                      {
                        "marker": {
                          "colorbar": {
                            "outlinewidth": 0,
                            "ticks": ""
                          }
                        },
                        "type": "scatterpolar"
                      }
                    ],
                    "scatterpolargl": [
                      {
                        "marker": {
                          "colorbar": {
                            "outlinewidth": 0,
                            "ticks": ""
                          }
                        },
                        "type": "scatterpolargl"
                      }
                    ],
                    "scatterternary": [
                      {
                        "marker": {
                          "colorbar": {
                            "outlinewidth": 0,
                            "ticks": ""
                          }
                        },
                        "type": "scatterternary"
                      }
                    ],
                    "surface": [
                      {
                        "colorbar": {
                          "outlinewidth": 0,
                          "ticks": ""
                        },
                        "colorscale": [
                          [
                            0,
                            "#0d0887"
                          ],
                          [
                            0.1111111111111111,
                            "#46039f"
                          ],
                          [
                            0.2222222222222222,
                            "#7201a8"
                          ],
                          [
                            0.3333333333333333,
                            "#9c179e"
                          ],
                          [
                            0.4444444444444444,
                            "#bd3786"
                          ],
                          [
                            0.5555555555555556,
                            "#d8576b"
                          ],
                          [
                            0.6666666666666666,
                            "#ed7953"
                          ],
                          [
                            0.7777777777777778,
                            "#fb9f3a"
                          ],
                          [
                            0.8888888888888888,
                            "#fdca26"
                          ],
                          [
                            1,
                            "#f0f921"
                          ]
                        ],
                        "type": "surface"
                      }
                    ],
                    "table": [
                      {
                        "cells": {
                          "fill": {
                            "color": "#EBF0F8"
                          },
                          "line": {
                            "color": "white"
                          }
                        },
                        "header": {
                          "fill": {
                            "color": "#C8D4E3"
                          },
                          "line": {
                            "color": "white"
                          }
                        },
                        "type": "table"
                      }
                    ]
                  },
                  "layout": {
                    "annotationdefaults": {
                      "arrowcolor": "#2a3f5f",
                      "arrowhead": 0,
                      "arrowwidth": 1
                    },
                    "autotypenumbers": "strict",
                    "coloraxis": {
                      "colorbar": {
                        "outlinewidth": 0,
                        "ticks": ""
                      }
                    },
                    "colorscale": {
                      "diverging": [
                        [
                          0,
                          "#8e0152"
                        ],
                        [
                          0.1,
                          "#c51b7d"
                        ],
                        [
                          0.2,
                          "#de77ae"
                        ],
                        [
                          0.3,
                          "#f1b6da"
                        ],
                        [
                          0.4,
                          "#fde0ef"
                        ],
                        [
                          0.5,
                          "#f7f7f7"
                        ],
                        [
                          0.6,
                          "#e6f5d0"
                        ],
                        [
                          0.7,
                          "#b8e186"
                        ],
                        [
                          0.8,
                          "#7fbc41"
                        ],
                        [
                          0.9,
                          "#4d9221"
                        ],
                        [
                          1,
                          "#276419"
                        ]
                      ],
                      "sequential": [
                        [
                          0,
                          "#0d0887"
                        ],
                        [
                          0.1111111111111111,
                          "#46039f"
                        ],
                        [
                          0.2222222222222222,
                          "#7201a8"
                        ],
                        [
                          0.3333333333333333,
                          "#9c179e"
                        ],
                        [
                          0.4444444444444444,
                          "#bd3786"
                        ],
                        [
                          0.5555555555555556,
                          "#d8576b"
                        ],
                        [
                          0.6666666666666666,
                          "#ed7953"
                        ],
                        [
                          0.7777777777777778,
                          "#fb9f3a"
                        ],
                        [
                          0.8888888888888888,
                          "#fdca26"
                        ],
                        [
                          1,
                          "#f0f921"
                        ]
                      ],
                      "sequentialminus": [
                        [
                          0,
                          "#0d0887"
                        ],
                        [
                          0.1111111111111111,
                          "#46039f"
                        ],
                        [
                          0.2222222222222222,
                          "#7201a8"
                        ],
                        [
                          0.3333333333333333,
                          "#9c179e"
                        ],
                        [
                          0.4444444444444444,
                          "#bd3786"
                        ],
                        [
                          0.5555555555555556,
                          "#d8576b"
                        ],
                        [
                          0.6666666666666666,
                          "#ed7953"
                        ],
                        [
                          0.7777777777777778,
                          "#fb9f3a"
                        ],
                        [
                          0.8888888888888888,
                          "#fdca26"
                        ],
                        [
                          1,
                          "#f0f921"
                        ]
                      ]
                    },
                    "colorway": [
                      "#636efa",
                      "#EF553B",
                      "#00cc96",
                      "#ab63fa",
                      "#FFA15A",
                      "#19d3f3",
                      "#FF6692",
                      "#B6E880",
                      "#FF97FF",
                      "#FECB52"
                    ],
                    "font": {
                      "color": "#2a3f5f"
                    },
                    "geo": {
                      "bgcolor": "white",
                      "lakecolor": "white",
                      "landcolor": "#E5ECF6",
                      "showlakes": true,
                      "showland": true,
                      "subunitcolor": "white"
                    },
                    "hoverlabel": {
                      "align": "left"
                    },
                    "hovermode": "closest",
                    "mapbox": {
                      "style": "light"
                    },
                    "paper_bgcolor": "white",
                    "plot_bgcolor": "#E5ECF6",
                    "polar": {
                      "angularaxis": {
                        "gridcolor": "white",
                        "linecolor": "white",
                        "ticks": ""
                      },
                      "bgcolor": "#E5ECF6",
                      "radialaxis": {
                        "gridcolor": "white",
                        "linecolor": "white",
                        "ticks": ""
                      }
                    },
                    "scene": {
                      "xaxis": {
                        "backgroundcolor": "#E5ECF6",
                        "gridcolor": "white",
                        "gridwidth": 2,
                        "linecolor": "white",
                        "showbackground": true,
                        "ticks": "",
                        "zerolinecolor": "white"
                      },
                      "yaxis": {
                        "backgroundcolor": "#E5ECF6",
                        "gridcolor": "white",
                        "gridwidth": 2,
                        "linecolor": "white",
                        "showbackground": true,
                        "ticks": "",
                        "zerolinecolor": "white"
                      },
                      "zaxis": {
                        "backgroundcolor": "#E5ECF6",
                        "gridcolor": "white",
                        "gridwidth": 2,
                        "linecolor": "white",
                        "showbackground": true,
                        "ticks": "",
                        "zerolinecolor": "white"
                      }
                    },
                    "shapedefaults": {
                      "line": {
                        "color": "#2a3f5f"
                      }
                    },
                    "ternary": {
                      "aaxis": {
                        "gridcolor": "white",
                        "linecolor": "white",
                        "ticks": ""
                      },
                      "baxis": {
                        "gridcolor": "white",
                        "linecolor": "white",
                        "ticks": ""
                      },
                      "bgcolor": "#E5ECF6",
                      "caxis": {
                        "gridcolor": "white",
                        "linecolor": "white",
                        "ticks": ""
                      }
                    },
                    "title": {
                      "x": 0.05
                    },
                    "xaxis": {
                      "automargin": true,
                      "gridcolor": "white",
                      "linecolor": "white",
                      "ticks": "",
                      "title": {
                        "standoff": 15
                      },
                      "zerolinecolor": "white",
                      "zerolinewidth": 2
                    },
                    "yaxis": {
                      "automargin": true,
                      "gridcolor": "white",
                      "linecolor": "white",
                      "ticks": "",
                      "title": {
                        "standoff": 15
                      },
                      "zerolinecolor": "white",
                      "zerolinewidth": 2
                    }
                  }
                },
                "title": {
                  "text": "매출과 이익의 관계"
                },
                "xaxis": {
                  "anchor": "y",
                  "domain": [
                    0,
                    1
                  ],
                  "title": {
                    "text": "매출"
                  }
                },
                "yaxis": {
                  "anchor": "x",
                  "domain": [
                    0,
                    1
                  ],
                  "title": {
                    "text": "이익"
                  }
                }
              }
            }
          },
          "metadata": {},
          "output_type": "display_data"
        }
      ],
      "source": [
        "# 주요 변수 간의 산점도 시각화\n",
        "fig_scatter = px.scatter(df,\n",
        "                         x='매출',\n",
        "                         y='이익',\n",
        "                         title='매출과 이익의 관계',\n",
        "                         trendline='ols')\n",
        "fig_scatter.show()"
      ]
    },
    {
      "cell_type": "code",
      "execution_count": 47,
      "metadata": {},
      "outputs": [],
      "source": [
        "# 데이터셋 상관계수 행렬 해석\n",
        "\n",
        "# 매출과 이익은 양의 상관관계\n",
        "# 매출이 증가할수록 이익도 증가하는 경향이 있으나, 상관성이 매우 강하지는 않음\n",
        "# 이는 할인율이나 다른 요인들이 이익에 영향을 미치기 때문으로 해석됨\n",
        "\n",
        "# 할인율과 이익은 -0.216의 음의 상관관계\n",
        "# 할인율이 높아질수록 이익이 감소하는 경향이 있음을 의미\n",
        "# 그러나 상관계수가 크지 않아 강한 상관관계는 아님\n",
        "\n",
        "# 수량은 매출(0.202), 이익(0.062)과 약한 양의 상관관계를 보임\n",
        "# 할인율(0.013)과는 거의 상관관계가 없음\n",
        "# 판매 수량이 증가한다고 해서 반드시 매출이나 이익이 크게 증가하지는 않음을 시사\n",
        "\n",
        "# 전반적으로 변수들 간의 상관관계는 강하지 않은 편이며,\n",
        "# 이는 슈퍼마켓 매출과 이익이 여러 복합적인 요인에 의해 결정됨을 시사함"
      ]
    },
    {
      "cell_type": "markdown",
      "metadata": {},
      "source": [
        "#### 과제 2: 서울시 따릉이 자전거 이용현황 데이터 + (서울 열린데이터 ) 상관분석 -> 발표자 3명 선정\n",
        " - 자전거 이용현황 데이터(일별) : https://data.seoul.go.kr/dataList/OA-14994/F/1/datasetView.do\n",
        " - 분석 준비 \n",
        "   - https://data.seoul.go.kr 에 회원가입\n",
        "   - 일별 데이터셋 중 자전거 이용현황과 영향을 미치거나 상관성이 있을것으로 사료되는 데이터셋 검색\n",
        "   - 데이터을 다운로드 받은 후, datasets 폴더에 저장\n",
        "   - 데이터셋 확인후, pandas 로 2개의 데이터셋을 로드하여 병합\n",
        "   - 자전거 이용현황과 상관관계가 뚜렷한 특징변수를 탐색\n",
        " - 꼭 담겨야할 분석 내용\n",
        "    * 데이터셋 정보 확인\n",
        "    * 데이터셋 기술통계량 확인\n",
        "    * 데이터셋 pandas 전처리 (결측치 처리, 데이터 타입 변환, 데이터 정렬, 병합 등)\n",
        "    * 데이터셋 상관계수 행렬 계산\n",
        "    * 데이터셋 상관계수 행렬 시각화\n",
        "    * 주요 변수 간의 산점도 시각화\n",
        "    * 데이터셋 상관계수 행렬 해석"
      ]
    },
    {
      "cell_type": "code",
      "execution_count": null,
      "metadata": {},
      "outputs": [],
      "source": [
        "# matplotlib 사용 시 한글 설정 자동 라이브러리"
      ]
    },
    {
      "cell_type": "code",
      "execution_count": null,
      "metadata": {},
      "outputs": [],
      "source": [
        "!pip install koreanize-matplotlib\n",
        "\n",
        "import koreanize_matplotlib"
      ]
    },
    {
      "cell_type": "code",
      "execution_count": 49,
      "metadata": {},
      "outputs": [],
      "source": [
        "# 두 개의 데이터를 pandas로 로드 후 날짜 조인 등 결합\n",
        "# 새로 찾은 특징 변수와 자전거 이용현황의 상관성 분석"
      ]
    },
    {
      "cell_type": "code",
      "execution_count": 101,
      "metadata": {},
      "outputs": [
        {
          "name": "stderr",
          "output_type": "stream",
          "text": [
            "<>:2: SyntaxWarning:\n",
            "\n",
            "invalid escape sequence '\\d'\n",
            "\n",
            "<>:2: SyntaxWarning:\n",
            "\n",
            "invalid escape sequence '\\d'\n",
            "\n",
            "C:\\Users\\Admin\\AppData\\Local\\Temp\\ipykernel_7960\\4121280173.py:2: SyntaxWarning:\n",
            "\n",
            "invalid escape sequence '\\d'\n",
            "\n"
          ]
        },
        {
          "data": {
            "text/html": [
              "<div>\n",
              "<style scoped>\n",
              "    .dataframe tbody tr th:only-of-type {\n",
              "        vertical-align: middle;\n",
              "    }\n",
              "\n",
              "    .dataframe tbody tr th {\n",
              "        vertical-align: top;\n",
              "    }\n",
              "\n",
              "    .dataframe thead th {\n",
              "        text-align: right;\n",
              "    }\n",
              "</style>\n",
              "<table border=\"1\" class=\"dataframe\">\n",
              "  <thead>\n",
              "    <tr style=\"text-align: right;\">\n",
              "      <th></th>\n",
              "      <th>Date</th>\n",
              "      <th>Rental</th>\n",
              "    </tr>\n",
              "  </thead>\n",
              "  <tbody>\n",
              "    <tr>\n",
              "      <th>0</th>\n",
              "      <td>2024-07-01</td>\n",
              "      <td>182412</td>\n",
              "    </tr>\n",
              "    <tr>\n",
              "      <th>1</th>\n",
              "      <td>2024-07-02</td>\n",
              "      <td>39425</td>\n",
              "    </tr>\n",
              "    <tr>\n",
              "      <th>2</th>\n",
              "      <td>2024-07-03</td>\n",
              "      <td>164923</td>\n",
              "    </tr>\n",
              "    <tr>\n",
              "      <th>3</th>\n",
              "      <td>2024-07-04</td>\n",
              "      <td>158343</td>\n",
              "    </tr>\n",
              "    <tr>\n",
              "      <th>4</th>\n",
              "      <td>2024-07-05</td>\n",
              "      <td>170995</td>\n",
              "    </tr>\n",
              "  </tbody>\n",
              "</table>\n",
              "</div>"
            ],
            "text/plain": [
              "         Date  Rental\n",
              "0  2024-07-01  182412\n",
              "1  2024-07-02   39425\n",
              "2  2024-07-03  164923\n",
              "3  2024-07-04  158343\n",
              "4  2024-07-05  170995"
            ]
          },
          "execution_count": 101,
          "metadata": {},
          "output_type": "execute_result"
        }
      ],
      "source": [
        "# 따릉이 데이터 로드\n",
        "bicycle_df = pd.read_csv('..\\datasets\\seoul_bicycles.csv')\n",
        "\n",
        "# 전처리\n",
        "bicycle_df['Date'] = pd.to_datetime(bicycle_df['Date']).dt.date\n",
        "\n",
        "bicycle_df['Rental'] = bicycle_df['Rental'].astype(int)\n",
        "\n",
        "bicycle_df.head()"
      ]
    },
    {
      "cell_type": "code",
      "execution_count": 119,
      "metadata": {},
      "outputs": [
        {
          "data": {
            "text/html": [
              "<div>\n",
              "<style scoped>\n",
              "    .dataframe tbody tr th:only-of-type {\n",
              "        vertical-align: middle;\n",
              "    }\n",
              "\n",
              "    .dataframe tbody tr th {\n",
              "        vertical-align: top;\n",
              "    }\n",
              "\n",
              "    .dataframe thead th {\n",
              "        text-align: right;\n",
              "    }\n",
              "</style>\n",
              "<table border=\"1\" class=\"dataframe\">\n",
              "  <thead>\n",
              "    <tr style=\"text-align: right;\">\n",
              "      <th></th>\n",
              "      <th>Date</th>\n",
              "      <th>PM10</th>\n",
              "      <th>PM2.5</th>\n",
              "    </tr>\n",
              "  </thead>\n",
              "  <tbody>\n",
              "    <tr>\n",
              "      <th>0</th>\n",
              "      <td>2024-01-01</td>\n",
              "      <td>24.301020</td>\n",
              "      <td>19.209936</td>\n",
              "    </tr>\n",
              "    <tr>\n",
              "      <th>1</th>\n",
              "      <td>2024-01-02</td>\n",
              "      <td>39.689034</td>\n",
              "      <td>29.108414</td>\n",
              "    </tr>\n",
              "    <tr>\n",
              "      <th>2</th>\n",
              "      <td>2024-01-03</td>\n",
              "      <td>41.122150</td>\n",
              "      <td>28.804560</td>\n",
              "    </tr>\n",
              "    <tr>\n",
              "      <th>3</th>\n",
              "      <td>2024-01-04</td>\n",
              "      <td>51.803252</td>\n",
              "      <td>35.972085</td>\n",
              "    </tr>\n",
              "    <tr>\n",
              "      <th>4</th>\n",
              "      <td>2024-01-05</td>\n",
              "      <td>80.811382</td>\n",
              "      <td>56.395695</td>\n",
              "    </tr>\n",
              "  </tbody>\n",
              "</table>\n",
              "</div>"
            ],
            "text/plain": [
              "         Date       PM10      PM2.5\n",
              "0  2024-01-01  24.301020  19.209936\n",
              "1  2024-01-02  39.689034  29.108414\n",
              "2  2024-01-03  41.122150  28.804560\n",
              "3  2024-01-04  51.803252  35.972085\n",
              "4  2024-01-05  80.811382  56.395695"
            ]
          },
          "execution_count": 119,
          "metadata": {},
          "output_type": "execute_result"
        }
      ],
      "source": [
        "# 대기질 데이터 로드\n",
        "air_df = pd.read_csv('../datasets/seoul_air_quality_2024.csv', encoding='cp949')\n",
        "\n",
        "# 전처리\n",
        "air_df['일시'] = pd.to_datetime(air_df['일시'])\n",
        "\n",
        "# 일자별 평균 -> 일자로 병합\n",
        "daily_air_df = air_df.groupby(air_df['일시'].dt.date).agg({\n",
        "    '미세먼지(PM10)': 'mean',\n",
        "    '초미세먼지(PM25)': 'mean'\n",
        "}).reset_index()\n",
        "\n",
        "daily_air_df.columns = ['Date', 'PM10', 'PM2.5']\n",
        "\n",
        "daily_air_df.head()"
      ]
    },
    {
      "cell_type": "code",
      "execution_count": 120,
      "metadata": {},
      "outputs": [
        {
          "data": {
            "text/html": [
              "<div>\n",
              "<style scoped>\n",
              "    .dataframe tbody tr th:only-of-type {\n",
              "        vertical-align: middle;\n",
              "    }\n",
              "\n",
              "    .dataframe tbody tr th {\n",
              "        vertical-align: top;\n",
              "    }\n",
              "\n",
              "    .dataframe thead th {\n",
              "        text-align: right;\n",
              "    }\n",
              "</style>\n",
              "<table border=\"1\" class=\"dataframe\">\n",
              "  <thead>\n",
              "    <tr style=\"text-align: right;\">\n",
              "      <th></th>\n",
              "      <th>Date</th>\n",
              "      <th>Rental</th>\n",
              "      <th>PM10</th>\n",
              "      <th>PM2.5</th>\n",
              "    </tr>\n",
              "  </thead>\n",
              "  <tbody>\n",
              "    <tr>\n",
              "      <th>0</th>\n",
              "      <td>2024-07-01</td>\n",
              "      <td>182412</td>\n",
              "      <td>26.344828</td>\n",
              "      <td>15.690164</td>\n",
              "    </tr>\n",
              "    <tr>\n",
              "      <th>1</th>\n",
              "      <td>2024-07-02</td>\n",
              "      <td>39425</td>\n",
              "      <td>17.300826</td>\n",
              "      <td>9.949675</td>\n",
              "    </tr>\n",
              "    <tr>\n",
              "      <th>2</th>\n",
              "      <td>2024-07-03</td>\n",
              "      <td>164923</td>\n",
              "      <td>25.059625</td>\n",
              "      <td>14.492512</td>\n",
              "    </tr>\n",
              "    <tr>\n",
              "      <th>3</th>\n",
              "      <td>2024-07-04</td>\n",
              "      <td>158343</td>\n",
              "      <td>38.686747</td>\n",
              "      <td>30.401626</td>\n",
              "    </tr>\n",
              "    <tr>\n",
              "      <th>4</th>\n",
              "      <td>2024-07-05</td>\n",
              "      <td>170995</td>\n",
              "      <td>18.470785</td>\n",
              "      <td>10.885993</td>\n",
              "    </tr>\n",
              "  </tbody>\n",
              "</table>\n",
              "</div>"
            ],
            "text/plain": [
              "         Date  Rental       PM10      PM2.5\n",
              "0  2024-07-01  182412  26.344828  15.690164\n",
              "1  2024-07-02   39425  17.300826   9.949675\n",
              "2  2024-07-03  164923  25.059625  14.492512\n",
              "3  2024-07-04  158343  38.686747  30.401626\n",
              "4  2024-07-05  170995  18.470785  10.885993"
            ]
          },
          "execution_count": 120,
          "metadata": {},
          "output_type": "execute_result"
        }
      ],
      "source": [
        "# 두 데이터프레임 병합\n",
        "merged_df = pd.merge(bicycle_df, daily_air_df, on='Date', how='inner')\n",
        "merged_df.head()"
      ]
    },
    {
      "cell_type": "code",
      "execution_count": 121,
      "metadata": {},
      "outputs": [
        {
          "name": "stdout",
          "output_type": "stream",
          "text": [
            "<class 'pandas.core.frame.DataFrame'>\n",
            "RangeIndex: 184 entries, 0 to 183\n",
            "Data columns (total 4 columns):\n",
            " #   Column  Non-Null Count  Dtype  \n",
            "---  ------  --------------  -----  \n",
            " 0   Date    184 non-null    object \n",
            " 1   Rental  184 non-null    int64  \n",
            " 2   PM10    184 non-null    float64\n",
            " 3   PM2.5   184 non-null    float64\n",
            "dtypes: float64(2), int64(1), object(1)\n",
            "memory usage: 5.9+ KB\n"
          ]
        }
      ],
      "source": [
        "# 데이터셋 정보 확인\n",
        "merged_df.info()"
      ]
    },
    {
      "cell_type": "code",
      "execution_count": 122,
      "metadata": {},
      "outputs": [
        {
          "data": {
            "text/plain": [
              "Date      0\n",
              "Rental    0\n",
              "PM10      0\n",
              "PM2.5     0\n",
              "dtype: int64"
            ]
          },
          "execution_count": 122,
          "metadata": {},
          "output_type": "execute_result"
        }
      ],
      "source": [
        "merged_df.isnull().sum()"
      ]
    },
    {
      "cell_type": "code",
      "execution_count": 123,
      "metadata": {},
      "outputs": [
        {
          "data": {
            "text/html": [
              "<div>\n",
              "<style scoped>\n",
              "    .dataframe tbody tr th:only-of-type {\n",
              "        vertical-align: middle;\n",
              "    }\n",
              "\n",
              "    .dataframe tbody tr th {\n",
              "        vertical-align: top;\n",
              "    }\n",
              "\n",
              "    .dataframe thead th {\n",
              "        text-align: right;\n",
              "    }\n",
              "</style>\n",
              "<table border=\"1\" class=\"dataframe\">\n",
              "  <thead>\n",
              "    <tr style=\"text-align: right;\">\n",
              "      <th></th>\n",
              "      <th>Rental</th>\n",
              "      <th>PM10</th>\n",
              "      <th>PM2.5</th>\n",
              "    </tr>\n",
              "  </thead>\n",
              "  <tbody>\n",
              "    <tr>\n",
              "      <th>count</th>\n",
              "      <td>184.000000</td>\n",
              "      <td>184.000000</td>\n",
              "      <td>184.000000</td>\n",
              "    </tr>\n",
              "    <tr>\n",
              "      <th>mean</th>\n",
              "      <td>121936.858696</td>\n",
              "      <td>24.516299</td>\n",
              "      <td>14.513325</td>\n",
              "    </tr>\n",
              "    <tr>\n",
              "      <th>std</th>\n",
              "      <td>42261.932676</td>\n",
              "      <td>11.290397</td>\n",
              "      <td>8.125477</td>\n",
              "    </tr>\n",
              "    <tr>\n",
              "      <th>min</th>\n",
              "      <td>20902.000000</td>\n",
              "      <td>4.548957</td>\n",
              "      <td>1.351702</td>\n",
              "    </tr>\n",
              "    <tr>\n",
              "      <th>25%</th>\n",
              "      <td>89503.500000</td>\n",
              "      <td>15.377810</td>\n",
              "      <td>7.874583</td>\n",
              "    </tr>\n",
              "    <tr>\n",
              "      <th>50%</th>\n",
              "      <td>130946.000000</td>\n",
              "      <td>22.937198</td>\n",
              "      <td>13.239506</td>\n",
              "    </tr>\n",
              "    <tr>\n",
              "      <th>75%</th>\n",
              "      <td>155524.000000</td>\n",
              "      <td>30.777806</td>\n",
              "      <td>19.847791</td>\n",
              "    </tr>\n",
              "    <tr>\n",
              "      <th>max</th>\n",
              "      <td>191573.000000</td>\n",
              "      <td>64.720517</td>\n",
              "      <td>39.884176</td>\n",
              "    </tr>\n",
              "  </tbody>\n",
              "</table>\n",
              "</div>"
            ],
            "text/plain": [
              "              Rental        PM10       PM2.5\n",
              "count     184.000000  184.000000  184.000000\n",
              "mean   121936.858696   24.516299   14.513325\n",
              "std     42261.932676   11.290397    8.125477\n",
              "min     20902.000000    4.548957    1.351702\n",
              "25%     89503.500000   15.377810    7.874583\n",
              "50%    130946.000000   22.937198   13.239506\n",
              "75%    155524.000000   30.777806   19.847791\n",
              "max    191573.000000   64.720517   39.884176"
            ]
          },
          "execution_count": 123,
          "metadata": {},
          "output_type": "execute_result"
        }
      ],
      "source": [
        "# 기술통계량 확인\n",
        "merged_df.describe()"
      ]
    },
    {
      "cell_type": "code",
      "execution_count": 124,
      "metadata": {},
      "outputs": [
        {
          "data": {
            "text/html": [
              "<div>\n",
              "<style scoped>\n",
              "    .dataframe tbody tr th:only-of-type {\n",
              "        vertical-align: middle;\n",
              "    }\n",
              "\n",
              "    .dataframe tbody tr th {\n",
              "        vertical-align: top;\n",
              "    }\n",
              "\n",
              "    .dataframe thead th {\n",
              "        text-align: right;\n",
              "    }\n",
              "</style>\n",
              "<table border=\"1\" class=\"dataframe\">\n",
              "  <thead>\n",
              "    <tr style=\"text-align: right;\">\n",
              "      <th></th>\n",
              "      <th>Rental</th>\n",
              "      <th>PM10</th>\n",
              "      <th>PM2.5</th>\n",
              "    </tr>\n",
              "  </thead>\n",
              "  <tbody>\n",
              "    <tr>\n",
              "      <th>Rental</th>\n",
              "      <td>1.000000</td>\n",
              "      <td>-0.027065</td>\n",
              "      <td>-0.004342</td>\n",
              "    </tr>\n",
              "    <tr>\n",
              "      <th>PM10</th>\n",
              "      <td>-0.027065</td>\n",
              "      <td>1.000000</td>\n",
              "      <td>0.947334</td>\n",
              "    </tr>\n",
              "    <tr>\n",
              "      <th>PM2.5</th>\n",
              "      <td>-0.004342</td>\n",
              "      <td>0.947334</td>\n",
              "      <td>1.000000</td>\n",
              "    </tr>\n",
              "  </tbody>\n",
              "</table>\n",
              "</div>"
            ],
            "text/plain": [
              "          Rental      PM10     PM2.5\n",
              "Rental  1.000000 -0.027065 -0.004342\n",
              "PM10   -0.027065  1.000000  0.947334\n",
              "PM2.5  -0.004342  0.947334  1.000000"
            ]
          },
          "execution_count": 124,
          "metadata": {},
          "output_type": "execute_result"
        }
      ],
      "source": [
        "# 상관계수 행렬 계산\n",
        "corr_matrix = merged_df[['Rental', 'PM10', 'PM2.5']].corr()\n",
        "corr_matrix"
      ]
    },
    {
      "cell_type": "code",
      "execution_count": 125,
      "metadata": {},
      "outputs": [
        {
          "data": {
            "application/vnd.plotly.v1+json": {
              "config": {
                "plotlyServerURL": "https://plot.ly"
              },
              "data": [
                {
                  "coloraxis": "coloraxis",
                  "hovertemplate": "x: %{x}<br>y: %{y}<br>color: %{z}<extra></extra>",
                  "name": "0",
                  "texttemplate": "%{z}",
                  "type": "heatmap",
                  "x": [
                    "Rental",
                    "PM10",
                    "PM2.5"
                  ],
                  "xaxis": "x",
                  "y": [
                    "Rental",
                    "PM10",
                    "PM2.5"
                  ],
                  "yaxis": "y",
                  "z": {
                    "bdata": "AAAAAAAA8D/srjZDCrebvwhwt7IlyXG/7K42Qwq3m78AAAAAAADwPw9HR8SOUO4/CHC3siXJcb8PR0fEjlDuPwAAAAAAAPA/",
                    "dtype": "f8",
                    "shape": "3, 3"
                  }
                }
              ],
              "layout": {
                "coloraxis": {
                  "cmax": 1,
                  "cmin": 1,
                  "colorscale": [
                    [
                      0,
                      "#440154"
                    ],
                    [
                      0.1111111111111111,
                      "#482878"
                    ],
                    [
                      0.2222222222222222,
                      "#3e4989"
                    ],
                    [
                      0.3333333333333333,
                      "#31688e"
                    ],
                    [
                      0.4444444444444444,
                      "#26828e"
                    ],
                    [
                      0.5555555555555556,
                      "#1f9e89"
                    ],
                    [
                      0.6666666666666666,
                      "#35b779"
                    ],
                    [
                      0.7777777777777778,
                      "#6ece58"
                    ],
                    [
                      0.8888888888888888,
                      "#b5de2b"
                    ],
                    [
                      1,
                      "#fde725"
                    ]
                  ]
                },
                "template": {
                  "data": {
                    "bar": [
                      {
                        "error_x": {
                          "color": "#2a3f5f"
                        },
                        "error_y": {
                          "color": "#2a3f5f"
                        },
                        "marker": {
                          "line": {
                            "color": "#E5ECF6",
                            "width": 0.5
                          },
                          "pattern": {
                            "fillmode": "overlay",
                            "size": 10,
                            "solidity": 0.2
                          }
                        },
                        "type": "bar"
                      }
                    ],
                    "barpolar": [
                      {
                        "marker": {
                          "line": {
                            "color": "#E5ECF6",
                            "width": 0.5
                          },
                          "pattern": {
                            "fillmode": "overlay",
                            "size": 10,
                            "solidity": 0.2
                          }
                        },
                        "type": "barpolar"
                      }
                    ],
                    "carpet": [
                      {
                        "aaxis": {
                          "endlinecolor": "#2a3f5f",
                          "gridcolor": "white",
                          "linecolor": "white",
                          "minorgridcolor": "white",
                          "startlinecolor": "#2a3f5f"
                        },
                        "baxis": {
                          "endlinecolor": "#2a3f5f",
                          "gridcolor": "white",
                          "linecolor": "white",
                          "minorgridcolor": "white",
                          "startlinecolor": "#2a3f5f"
                        },
                        "type": "carpet"
                      }
                    ],
                    "choropleth": [
                      {
                        "colorbar": {
                          "outlinewidth": 0,
                          "ticks": ""
                        },
                        "type": "choropleth"
                      }
                    ],
                    "contour": [
                      {
                        "colorbar": {
                          "outlinewidth": 0,
                          "ticks": ""
                        },
                        "colorscale": [
                          [
                            0,
                            "#0d0887"
                          ],
                          [
                            0.1111111111111111,
                            "#46039f"
                          ],
                          [
                            0.2222222222222222,
                            "#7201a8"
                          ],
                          [
                            0.3333333333333333,
                            "#9c179e"
                          ],
                          [
                            0.4444444444444444,
                            "#bd3786"
                          ],
                          [
                            0.5555555555555556,
                            "#d8576b"
                          ],
                          [
                            0.6666666666666666,
                            "#ed7953"
                          ],
                          [
                            0.7777777777777778,
                            "#fb9f3a"
                          ],
                          [
                            0.8888888888888888,
                            "#fdca26"
                          ],
                          [
                            1,
                            "#f0f921"
                          ]
                        ],
                        "type": "contour"
                      }
                    ],
                    "contourcarpet": [
                      {
                        "colorbar": {
                          "outlinewidth": 0,
                          "ticks": ""
                        },
                        "type": "contourcarpet"
                      }
                    ],
                    "heatmap": [
                      {
                        "colorbar": {
                          "outlinewidth": 0,
                          "ticks": ""
                        },
                        "colorscale": [
                          [
                            0,
                            "#0d0887"
                          ],
                          [
                            0.1111111111111111,
                            "#46039f"
                          ],
                          [
                            0.2222222222222222,
                            "#7201a8"
                          ],
                          [
                            0.3333333333333333,
                            "#9c179e"
                          ],
                          [
                            0.4444444444444444,
                            "#bd3786"
                          ],
                          [
                            0.5555555555555556,
                            "#d8576b"
                          ],
                          [
                            0.6666666666666666,
                            "#ed7953"
                          ],
                          [
                            0.7777777777777778,
                            "#fb9f3a"
                          ],
                          [
                            0.8888888888888888,
                            "#fdca26"
                          ],
                          [
                            1,
                            "#f0f921"
                          ]
                        ],
                        "type": "heatmap"
                      }
                    ],
                    "histogram": [
                      {
                        "marker": {
                          "pattern": {
                            "fillmode": "overlay",
                            "size": 10,
                            "solidity": 0.2
                          }
                        },
                        "type": "histogram"
                      }
                    ],
                    "histogram2d": [
                      {
                        "colorbar": {
                          "outlinewidth": 0,
                          "ticks": ""
                        },
                        "colorscale": [
                          [
                            0,
                            "#0d0887"
                          ],
                          [
                            0.1111111111111111,
                            "#46039f"
                          ],
                          [
                            0.2222222222222222,
                            "#7201a8"
                          ],
                          [
                            0.3333333333333333,
                            "#9c179e"
                          ],
                          [
                            0.4444444444444444,
                            "#bd3786"
                          ],
                          [
                            0.5555555555555556,
                            "#d8576b"
                          ],
                          [
                            0.6666666666666666,
                            "#ed7953"
                          ],
                          [
                            0.7777777777777778,
                            "#fb9f3a"
                          ],
                          [
                            0.8888888888888888,
                            "#fdca26"
                          ],
                          [
                            1,
                            "#f0f921"
                          ]
                        ],
                        "type": "histogram2d"
                      }
                    ],
                    "histogram2dcontour": [
                      {
                        "colorbar": {
                          "outlinewidth": 0,
                          "ticks": ""
                        },
                        "colorscale": [
                          [
                            0,
                            "#0d0887"
                          ],
                          [
                            0.1111111111111111,
                            "#46039f"
                          ],
                          [
                            0.2222222222222222,
                            "#7201a8"
                          ],
                          [
                            0.3333333333333333,
                            "#9c179e"
                          ],
                          [
                            0.4444444444444444,
                            "#bd3786"
                          ],
                          [
                            0.5555555555555556,
                            "#d8576b"
                          ],
                          [
                            0.6666666666666666,
                            "#ed7953"
                          ],
                          [
                            0.7777777777777778,
                            "#fb9f3a"
                          ],
                          [
                            0.8888888888888888,
                            "#fdca26"
                          ],
                          [
                            1,
                            "#f0f921"
                          ]
                        ],
                        "type": "histogram2dcontour"
                      }
                    ],
                    "mesh3d": [
                      {
                        "colorbar": {
                          "outlinewidth": 0,
                          "ticks": ""
                        },
                        "type": "mesh3d"
                      }
                    ],
                    "parcoords": [
                      {
                        "line": {
                          "colorbar": {
                            "outlinewidth": 0,
                            "ticks": ""
                          }
                        },
                        "type": "parcoords"
                      }
                    ],
                    "pie": [
                      {
                        "automargin": true,
                        "type": "pie"
                      }
                    ],
                    "scatter": [
                      {
                        "fillpattern": {
                          "fillmode": "overlay",
                          "size": 10,
                          "solidity": 0.2
                        },
                        "type": "scatter"
                      }
                    ],
                    "scatter3d": [
                      {
                        "line": {
                          "colorbar": {
                            "outlinewidth": 0,
                            "ticks": ""
                          }
                        },
                        "marker": {
                          "colorbar": {
                            "outlinewidth": 0,
                            "ticks": ""
                          }
                        },
                        "type": "scatter3d"
                      }
                    ],
                    "scattercarpet": [
                      {
                        "marker": {
                          "colorbar": {
                            "outlinewidth": 0,
                            "ticks": ""
                          }
                        },
                        "type": "scattercarpet"
                      }
                    ],
                    "scattergeo": [
                      {
                        "marker": {
                          "colorbar": {
                            "outlinewidth": 0,
                            "ticks": ""
                          }
                        },
                        "type": "scattergeo"
                      }
                    ],
                    "scattergl": [
                      {
                        "marker": {
                          "colorbar": {
                            "outlinewidth": 0,
                            "ticks": ""
                          }
                        },
                        "type": "scattergl"
                      }
                    ],
                    "scattermap": [
                      {
                        "marker": {
                          "colorbar": {
                            "outlinewidth": 0,
                            "ticks": ""
                          }
                        },
                        "type": "scattermap"
                      }
                    ],
                    "scattermapbox": [
                      {
                        "marker": {
                          "colorbar": {
                            "outlinewidth": 0,
                            "ticks": ""
                          }
                        },
                        "type": "scattermapbox"
                      }
                    ],
                    "scatterpolar": [
                      {
                        "marker": {
                          "colorbar": {
                            "outlinewidth": 0,
                            "ticks": ""
                          }
                        },
                        "type": "scatterpolar"
                      }
                    ],
                    "scatterpolargl": [
                      {
                        "marker": {
                          "colorbar": {
                            "outlinewidth": 0,
                            "ticks": ""
                          }
                        },
                        "type": "scatterpolargl"
                      }
                    ],
                    "scatterternary": [
                      {
                        "marker": {
                          "colorbar": {
                            "outlinewidth": 0,
                            "ticks": ""
                          }
                        },
                        "type": "scatterternary"
                      }
                    ],
                    "surface": [
                      {
                        "colorbar": {
                          "outlinewidth": 0,
                          "ticks": ""
                        },
                        "colorscale": [
                          [
                            0,
                            "#0d0887"
                          ],
                          [
                            0.1111111111111111,
                            "#46039f"
                          ],
                          [
                            0.2222222222222222,
                            "#7201a8"
                          ],
                          [
                            0.3333333333333333,
                            "#9c179e"
                          ],
                          [
                            0.4444444444444444,
                            "#bd3786"
                          ],
                          [
                            0.5555555555555556,
                            "#d8576b"
                          ],
                          [
                            0.6666666666666666,
                            "#ed7953"
                          ],
                          [
                            0.7777777777777778,
                            "#fb9f3a"
                          ],
                          [
                            0.8888888888888888,
                            "#fdca26"
                          ],
                          [
                            1,
                            "#f0f921"
                          ]
                        ],
                        "type": "surface"
                      }
                    ],
                    "table": [
                      {
                        "cells": {
                          "fill": {
                            "color": "#EBF0F8"
                          },
                          "line": {
                            "color": "white"
                          }
                        },
                        "header": {
                          "fill": {
                            "color": "#C8D4E3"
                          },
                          "line": {
                            "color": "white"
                          }
                        },
                        "type": "table"
                      }
                    ]
                  },
                  "layout": {
                    "annotationdefaults": {
                      "arrowcolor": "#2a3f5f",
                      "arrowhead": 0,
                      "arrowwidth": 1
                    },
                    "autotypenumbers": "strict",
                    "coloraxis": {
                      "colorbar": {
                        "outlinewidth": 0,
                        "ticks": ""
                      }
                    },
                    "colorscale": {
                      "diverging": [
                        [
                          0,
                          "#8e0152"
                        ],
                        [
                          0.1,
                          "#c51b7d"
                        ],
                        [
                          0.2,
                          "#de77ae"
                        ],
                        [
                          0.3,
                          "#f1b6da"
                        ],
                        [
                          0.4,
                          "#fde0ef"
                        ],
                        [
                          0.5,
                          "#f7f7f7"
                        ],
                        [
                          0.6,
                          "#e6f5d0"
                        ],
                        [
                          0.7,
                          "#b8e186"
                        ],
                        [
                          0.8,
                          "#7fbc41"
                        ],
                        [
                          0.9,
                          "#4d9221"
                        ],
                        [
                          1,
                          "#276419"
                        ]
                      ],
                      "sequential": [
                        [
                          0,
                          "#0d0887"
                        ],
                        [
                          0.1111111111111111,
                          "#46039f"
                        ],
                        [
                          0.2222222222222222,
                          "#7201a8"
                        ],
                        [
                          0.3333333333333333,
                          "#9c179e"
                        ],
                        [
                          0.4444444444444444,
                          "#bd3786"
                        ],
                        [
                          0.5555555555555556,
                          "#d8576b"
                        ],
                        [
                          0.6666666666666666,
                          "#ed7953"
                        ],
                        [
                          0.7777777777777778,
                          "#fb9f3a"
                        ],
                        [
                          0.8888888888888888,
                          "#fdca26"
                        ],
                        [
                          1,
                          "#f0f921"
                        ]
                      ],
                      "sequentialminus": [
                        [
                          0,
                          "#0d0887"
                        ],
                        [
                          0.1111111111111111,
                          "#46039f"
                        ],
                        [
                          0.2222222222222222,
                          "#7201a8"
                        ],
                        [
                          0.3333333333333333,
                          "#9c179e"
                        ],
                        [
                          0.4444444444444444,
                          "#bd3786"
                        ],
                        [
                          0.5555555555555556,
                          "#d8576b"
                        ],
                        [
                          0.6666666666666666,
                          "#ed7953"
                        ],
                        [
                          0.7777777777777778,
                          "#fb9f3a"
                        ],
                        [
                          0.8888888888888888,
                          "#fdca26"
                        ],
                        [
                          1,
                          "#f0f921"
                        ]
                      ]
                    },
                    "colorway": [
                      "#636efa",
                      "#EF553B",
                      "#00cc96",
                      "#ab63fa",
                      "#FFA15A",
                      "#19d3f3",
                      "#FF6692",
                      "#B6E880",
                      "#FF97FF",
                      "#FECB52"
                    ],
                    "font": {
                      "color": "#2a3f5f"
                    },
                    "geo": {
                      "bgcolor": "white",
                      "lakecolor": "white",
                      "landcolor": "#E5ECF6",
                      "showlakes": true,
                      "showland": true,
                      "subunitcolor": "white"
                    },
                    "hoverlabel": {
                      "align": "left"
                    },
                    "hovermode": "closest",
                    "mapbox": {
                      "style": "light"
                    },
                    "paper_bgcolor": "white",
                    "plot_bgcolor": "#E5ECF6",
                    "polar": {
                      "angularaxis": {
                        "gridcolor": "white",
                        "linecolor": "white",
                        "ticks": ""
                      },
                      "bgcolor": "#E5ECF6",
                      "radialaxis": {
                        "gridcolor": "white",
                        "linecolor": "white",
                        "ticks": ""
                      }
                    },
                    "scene": {
                      "xaxis": {
                        "backgroundcolor": "#E5ECF6",
                        "gridcolor": "white",
                        "gridwidth": 2,
                        "linecolor": "white",
                        "showbackground": true,
                        "ticks": "",
                        "zerolinecolor": "white"
                      },
                      "yaxis": {
                        "backgroundcolor": "#E5ECF6",
                        "gridcolor": "white",
                        "gridwidth": 2,
                        "linecolor": "white",
                        "showbackground": true,
                        "ticks": "",
                        "zerolinecolor": "white"
                      },
                      "zaxis": {
                        "backgroundcolor": "#E5ECF6",
                        "gridcolor": "white",
                        "gridwidth": 2,
                        "linecolor": "white",
                        "showbackground": true,
                        "ticks": "",
                        "zerolinecolor": "white"
                      }
                    },
                    "shapedefaults": {
                      "line": {
                        "color": "#2a3f5f"
                      }
                    },
                    "ternary": {
                      "aaxis": {
                        "gridcolor": "white",
                        "linecolor": "white",
                        "ticks": ""
                      },
                      "baxis": {
                        "gridcolor": "white",
                        "linecolor": "white",
                        "ticks": ""
                      },
                      "bgcolor": "#E5ECF6",
                      "caxis": {
                        "gridcolor": "white",
                        "linecolor": "white",
                        "ticks": ""
                      }
                    },
                    "title": {
                      "x": 0.05
                    },
                    "xaxis": {
                      "automargin": true,
                      "gridcolor": "white",
                      "linecolor": "white",
                      "ticks": "",
                      "title": {
                        "standoff": 15
                      },
                      "zerolinecolor": "white",
                      "zerolinewidth": 2
                    },
                    "yaxis": {
                      "automargin": true,
                      "gridcolor": "white",
                      "linecolor": "white",
                      "ticks": "",
                      "title": {
                        "standoff": 15
                      },
                      "zerolinecolor": "white",
                      "zerolinewidth": 2
                    }
                  }
                },
                "title": {
                  "text": "상관계수 히트맵"
                },
                "xaxis": {
                  "anchor": "y",
                  "domain": [
                    0,
                    1
                  ],
                  "side": "top"
                },
                "yaxis": {
                  "anchor": "x",
                  "autorange": "reversed",
                  "domain": [
                    0,
                    1
                  ]
                }
              }
            }
          },
          "metadata": {},
          "output_type": "display_data"
        }
      ],
      "source": [
        "# 데이터셋 상관계수 행렬 시각화\n",
        "fig_heatmap = px.imshow(corr_matrix,\n",
        "                        text_auto=True,\n",
        "                        aspect='auto',\n",
        "                        title='상관계수 히트맵',\n",
        "                        color_continuous_scale='Viridis',\n",
        "                        zmin=1, zmax=1)\n",
        "fig_heatmap.update_xaxes(side='top')\n",
        "fig_heatmap.show()"
      ]
    },
    {
      "cell_type": "code",
      "execution_count": 142,
      "metadata": {},
      "outputs": [
        {
          "data": {
            "application/vnd.plotly.v1+json": {
              "config": {
                "plotlyServerURL": "https://plot.ly"
              },
              "data": [
                {
                  "hovertemplate": "PM10 농도=%{x}<br>자전거 대여량=%{y}<extra></extra>",
                  "legendgroup": "",
                  "marker": {
                    "color": "#636efa",
                    "symbol": "circle"
                  },
                  "mode": "markers",
                  "name": "",
                  "orientation": "v",
                  "showlegend": false,
                  "type": "scatter",
                  "x": {
                    "bdata": "aoTlnkZYOkB8jET2Ak0xQA6gE5lDDzlAlPBGU+dXQ0Ac2ZxXhXgyQHew32pj6DtAOdPak39nNUAOGKrpmEsmQGZmZmZmZi5Ag1Jh4v3IJ0ATtStRu5JBQOs2caa1p0JAZGpg75gqSEBFDD9nfKI/QJD8eZXFGSZALIdtFJXNKUC06WO7H94kQLyfsXc/YyFAfsPaN6x9N0C/rPfLer8uQH/KRqZ6bTJA30mWOkJsK0DAblx/3bgmQO/zXVumJyxAUV5DeQ2tM0CQimTHLCUtQG0XwmwXwi5A55xzzjmnMEDX4jNr7oQ0QP9Aj5SQUzhAZsuWLVu2MEBtA/Qp7UEyQIfyGsprKDpAwhT5rBsMQEDbp86qdbc8QLejzyzbkjxAtUK6DsLAL0DH7N1auGkyQLj0qs017jNAdv29S7EBO0Bl+UuWv+Q/QFT+s33XTDxA5LNuMEUOO0DtoE0qfQM5QMA5dbgaeThApsoTpsoTNkAKeFMKeFM1QBXFXW6GXDVAxOh3B77GM0AgRuN9hT44QDAJosxeWTlA3WhreUYuKUAd/Di8jJouQInalahdiTtAtGrd7bSNQ0AGkQeuop1CQOe8KsRTJEJAUZP/0l3ZNUCRz7rBFLkrQJe10/EPLiNAh/Iayms4K0CkQRqkQeJBQB6cJnL4WD5AFfmsG0zBM0CapDxMsMcnQHO6oerwizJAvjFchaWGN0BqV6J2JWouQBzHcRzHcTVAo56zSlcYPUAYePGtPw08QJrI4WPZjT1A2FBeQ3mlPkBjaXAAifgkQBC7I4vVhCxA75lE75nEJ0DZUqxwmCgpQBkZGRkZGRtA1oAr1oCrKECvX+4kFGgwQHsUrkfh+jJAgSbprak7K0AtHVeUWToSQBEZ7bEhMhJAKK+hvIZSH0AGPl3g0wUoQNbV1dXV1TBAOHqCoyf4MUBtF8JsFwIxQK6C78enbShARhdddNGFIUA5wrndhH4rQLAk453lPy1A7pFrhSDDLUDsxE7sxM4tQMj2cVDAhy5AntiJndhpNkBiJ3ZiJ5Y1QKrHs2tGH0JAYR8X9nGBQ0AKmFK5EzApQN4PbwlCzjJA4ZcF4ZeFQEAwWEv4mqFCQEYK3H3HRTtAw0CXNCPrM0Cd0Rmd0RkzQCAYki2iOUFA9xwc7jk4QkA+k+g9kyg1QEqKaAdBVx5AO7ETO7HTJkCNOuH3pLIuQJlcQUyuoCdAVN7tCRnmK0CgBBWObpk5QPtm1fQQRTpA7FS6rLH1NUAu3/It36I5QFRcMgTrqEBA1pQ1ZU1ZK0DfrmBaycE6QJ8u8OkCn0BAntiJndj5QkBIgzRIgwRAQPBiUBFuqThAjBgxYsSoOUA7/qtpGxY6QB2zd2vhJjpAX7169eqlREDYAMJM9shBQKuqqqqqAkBAuHzLt3zrOEBdn65P1ydJQECD30RPZ0NAY2NjY2NjQ0CsEZW7GtFAQOQ4juM47jtAafew9W0ANkDotIFOG4gzQLR72Po2oDBAG8prKK+ROEApF1hBpkpDQF9/8Na1WktAxqHKv354QUCMQUW4pWY3QMGbtE49njFAkBvmZRwMNkBbpDZbpDYlQAiU/57ZhCNAQPuayR1LMUA1sHdMDSw/QEaJn1HiZzlAip3YiZ0wQECwv2JCYNhFQCouGYJ1NDFAB1yxBlwxNkAr/63y3yo2QN16+yS69ThAy+QJiM5XNkB9dY+0Mnk2QKZnYXoWJkBAaVyOxuVoREAAAAAAAABOQJ+F6VmYnkRAoMCDFocqPED5lm/5lj88QN/yLd/yHTRA6aKLLrrIPEBsRl/550g5QK+hvIbycj5AJspcUAOMSkAymLA/srNMQCuTJyA630hAip3YiZ0YNEC9qDglcsQ7QIfyGsprIEBAkAZpkAYBQEAD6C3zHC5QQFFeQ3kN1T1AAAAAAABgPUDSIA3SIF04QC+66KKLLkpA1DXT4qhrSkA=",
                    "dtype": "f8"
                  },
                  "xaxis": "x",
                  "y": {
                    "bdata": "jMgCAAGaAAA7hAIAh2oCAPObAgCJdAEAHkIBAMG/AADn/wEAnGUCAPeyAgAuuQIA0AMCALHHAQBhigIAM28BACLLAAB0pwAAoWsCAA5KAQDHfAEAr04BAKi6AQAp7wEAegACAM/KAQBxKgEAlI4BAEIeAgDxSwIAbUkCAFE4AgB8IwIACJsBAA5eAQAV4QEAYBUCAPImAgC1GAIA3SACAGS/AQAvhQEAfi8CAL8LAgB8BgIAC5ABADMmAgDtnQEARW0BAJwuAgDpPAIAjB0BALbrAQAMTwIAKpwBAFuNAQCeKwIATkYCAGKJAgAKiwIApY0CAJENAgDy6AEAxFgCAN26AgDZsgIAjCwCAAxMAgDyRQIAagECACGaAgD/lwIA41kCAEfyAAAyKAEAxMQBAOqRAQDMXAEAKjYBAPeLAQBjXwIA6r8AAO61AQBPbwIAjN8CAMDqAgBW3QIA568CAFXsAgAolAIAyVsCAL7YAgCmAgIAyrICAJxZAgDMxgIAZ4YCAF+oAQBCpwIAmskCAFdyAgCcvwIAZOMCAJd3AgBWKwIAMp0CAOdfAgBswwIArcMCAF0zAQAd/wEAe94BAC5bAgDEaAAAQjECAJJuAgA6igIAWTgCAG2xAQAzbgIAh1sCALePAgCJjwIA54kCAMs7AgAGBgIAk1YCAOQ4AgCiHgIAkCQCAM88AgCZ6wEA8cMBAMBeAgBdagIAm3wCAAsZAgB2bAIA+jkBABYzAQB0rAEA/eYBAMLkAQDv8QEAwPEBAG1zAQCTTwEAHf4BADmKAACmUQAA0acAALwgAQBP4AAAQeUAAD2IAQADcgEAX3wBAIhGAQB3agEAyQMBANvDAAD0XQEAkHQBAAeBAQBIZwEA5l0BAPv7AAAtyAAA8DABAN1FAQBsKQEACDYBAFY5AQAfmgAAWpQAAHIpAQDXLwEAv7AAAPkNAQDtCgEApLIAAF6qAAB6NgEA8RwBAA==",
                    "dtype": "i4"
                  },
                  "yaxis": "y"
                },
                {
                  "hovertemplate": "<b>OLS trendline</b><br>Rental = -101.311 * PM10 + 124421<br>R<sup>2</sup>=0.000733<br><br>PM10 농도=%{x}<br>자전거 대여량=%{y} <b>(trend)</b><extra></extra>",
                  "legendgroup": "",
                  "marker": {
                    "color": "#636efa",
                    "symbol": "circle"
                  },
                  "mode": "lines",
                  "name": "",
                  "showlegend": false,
                  "type": "scatter",
                  "x": {
                    "bdata": "ERntsSEyEkAtHVeUWToSQBkZGRkZGRtASopoB0FXHkAor6G8hlIfQLyfsXc/YyFARhdddNGFIUCXtdPxDy4jQAiU/57ZhCNAtOljux/eJEBjaXAAifgkQFukNlukNiVAkPx5lcUZJkAOGKrpmEsmQMBuXH/duCZAO7ETO7HTJkCZXEFMrqAnQO+ZRO+ZxCdAmqQ8TLDHJ0CDUmHi/cgnQAY+XeDTBShAroLvx6dtKEDWgCvWgKsoQNlSrHCYKClA3WhreUYuKUAKmFK5EzApQCyHbRSVzSlAh/Iayms4K0CBJumtqTsrQNaUNWVNWStA30mWOkJsK0A5wrndhH4rQJHPusEUuStAVN7tCRnmK0Dv811bpicsQBC7I4vVhCxAkIpkxywlLUCwJOOd5T8tQO6Ra4Ugwy1A7MRO7MTOLUBmZmZmZmYuQGpXonYlai5AyPZxUMCHLkAd/Di8jJouQI064feksi5Av6z3y3q/LkBtF8JsF8IuQLVCug7CwC9Ar1/uJBRoMEC0e9j6NqAwQOecc845pzBAZsuWLVu2MEDW1dXV1dUwQG0XwmwXAjFAKi4ZgnU0MUBA+5rJHUsxQHyMRPYCTTFAwZu0Tj2eMUA4eoKjJ/gxQG0D9CntQTJAx+zdWrhpMkB/ykamem0yQBzZnFeFeDJAc7qh6vCLMkDeD28JQs4yQHsUrkfh+jJAndEZndEZM0DotIFOG4gzQFFeQ3kNrTNAFfmsG0zBM0DE6HcHvsYzQMNAlzQj6zNAuPSqzTXuM0CKndiJnRg0QN/yLd/yHTRA1+Iza+6ENEA+k+g9kyg1QAp4Uwp4UzVAFcVdboZcNUA509qTf2c1QBzHcRzHcTVAYid2YieWNUBRk//SXdk1QOxUuqyx9TVAafew9W0ANkCQG+ZlHAw2QKbKE6bKEzZAK/+t8t8qNkAHXLEGXDE2QMvkCYjOVzZAntiJndhpNkB9dY+0Mnk2QIxBRbilZjdAfsPaN6x9N0C+MVyFpYY3QCBG432FPjhA/0CPlJBTOEDSIA3SIF04QMA5dbgaeThAG8prKK+ROEDwYlARbqk4QLh8y7d86zhA3Xr7JLr1OEDtoE0qfQM5QA6gE5lDDzlAbEZf+edIOUAwCaLMXlk5QEaJn1HiZzlAoAQVjm6ZOUAu3/It36I5QIwYMWLEqDlAO/6raRsWOkAds3dr4SY6QIfyGsprKDpA+2bV9BBFOkBqhOWeRlg6QN+uYFrJwTpAdv29S7EBO0Dks24wRQ47QEYK3H3HRTtAidqVqF2JO0C9qDglcsQ7QHew32pj6DtA5DiO4zjuO0AYePGtPw08QKDAgxaHKjxA+ZZv+ZY/PEBU/rN910w8QLejzyzbkjxA26fOqnW3PEDpoosuusg8QKOes0pXGD1AAAAAAABgPUCayOFj2Y09QFFeQ3kN1T1AHpwmcvhYPkCvobyG8nI+QNhQXkN5pT5ANbB3TA0sP0BFDD9nfKI/QGX5S5a/5D9AkAZpkAYBQECrqqqqqgJAQEiDNEiDBEBAwhT5rBsMQECH8hrKayBAQKZnYXoWJkBAip3YiZ0wQEDhlwXhl4VAQJ8u8OkCn0BAVFwyBOuoQECsEZW7GtFAQCAYki2iOUFAxqHKv354QUATtStRu5JBQNgAwkz2yEFApEEapEHiQUCqx7NrRh9CQOe8KsRTJEJA9xwc7jk4QkAGkQeuop1CQDBYS/iaoUJA6zZxprWnQkCe2Imd2PlCQCkXWEGmSkNAlPBGU+dXQ0BjY2NjY2NDQECD30RPZ0NAYR8X9nGBQ0C0at3ttI1DQGlcjsblaERAn4XpWZieREBfvXr16qVEQLC/YkJg2EVAZGpg75gqSEArkycgOt9IQF2frk/XJ0lAL7rooosuSkDUNdPiqGtKQCbKXFADjEpAX3/w1rVaS0AymLA/srNMQAAAAAAAAE5AA+gt8xwuUEA=",
                    "dtype": "f8"
                  },
                  "xaxis": "x",
                  "y": {
                    "bdata": "Dif1NHxD/kDbpY0yb0P+QBbWx6ZkNf5A0cQ/iEIw/kD4dQXGtC7+QNeW83c9Kf5AtuJEBdAo/kCkh73hkCP+QGyHhR1+Iv5A1Ygw/jge/kAPFUxg5R3+QHvjnb8gHf5ALY5MqlEa/kB/aHjrsxn+QHDndPtZGP5AyFWBDAUY/kBRsVcQfBX+QKD9WFcKFf5AhmoXkQAV/kDAhvhw/BT+QK7DX9Y7FP5Abc+GH/MS/kDW9L5QLxL+QCULYUejEP5Auf/3S5EQ/kAwDKyXixD+QKZi+e+YDv5AcQeaNBwK/kDxpTTxEQr+QHvI0Rq0Cf5AvXj0FngJ/kC+kEBHPgn+QPFjkN+ECP5ANF8tWvYH/kAs3jzRJgf+QH9Cu8z/Bf5A/BTuKgQE/kC11CCRrwP+QOruFhkQAv5AZY9DPesB/kBKZ8guCwD+QKnIbVL///1ADgUcmKH//UBfcDAUZv/9QFhk08sZ//1AG1YIKfH+/UCBOS/k6P79QKEAwKDC+/1AxCCgY2f4/UCPgLfwA/f9QAYMB4zX9v1AWfYqvnf2/UDgkG9rsPX9QLVAcDGY9P1AJgszRVnz/UDb9VLOyfL9QE+aPc698v1AAMI2ervw/UChIxkkgu79QFMmjwav7P1ARb8hDrPr/UAt5/ZAm+v9QDsrllZV6/1ASEQAX9rq/UA7t1F1Nun9QN6xUOob6P1ABaJvA1jn/UCU8ReuneT9QIfSyL2z4/1Aj7vIjTPj/UB7MJgTEeP9QI7jBqAq4v1AgAVbKxfi/UBSssOpCuH9QAEEl+To4P1A7Vna0Fze/UCBgA+jUNr9QN0SlAlB2f1AK6W5sQfZ/UCK6HI2wtj9QBtfzR+B2P1AkkpHy5rX/UB8BZE18dX9QOZFd9c91f1AhRiP3fnU/UAfolvmr9T9QEDMOUR/1P1Aa7ILG+3T/UDIZpILxNP9QPNvqpnQ0v1ASs1ZYF7S/UAsC1sr/dH9QGZ3JqkdzP1Afhuw3YvL/UC5vVwLU8v9QD+cpcPGxv1AZ3MPhUHG/UCl+gL3BMb9QNNHeNJTxf1AlK5KL7jE/UCF/ibUIcT9QINXWo9/wv1A/AO0uD7C/UBtODyV58H9QLGNGgadwf1AkSz8CTDA/UCa9RHKx7/9QFR9t+Nrv/1AzFQ2KDK+/UBPAVpi9r39QPMiMw7Rvf1AejJiuRy7/UDrrRiEsrr9QD4s+8Kouv1AYvX9YfO5/UBhicK/ebn9QBCjGardtv1ACmxVBEm1/UAqOD5g+bT9QGEO0eWZs/1Aiq738e2x/UBmzwDbd7D9QNi7VEWUr/1AbArMVG+v/UCEArnfqq79QK8Ib3vxrf1AEbR3Hmyt/UDMMVc1GK39QOITGeJcq/1ADEXwHHWq/UAEuJ3GB6r9QEhGKasPqP1A9n4H7kmm/UB/hN+dJ6X9QPbdMsNko/1AYmxGeCGg/UCDE4j8fJ/9QH3I4A49nv1AcPeE6+ia/UAmJYcB+5f9QDNLF3BXlv1AZ4P45J2V/UBvBN0ciZX9QJkVvrtxlf1A2b1FjBGV/UDgeOpOEJT9QNZ/pIvIk/1AZiHbOUOT/UAZl5YUD4/9QLcpmzDNjf1An6XVu0+N/UA13vHRUov9QEDS4RQnhv1A3V9MAwuD/UA4QNPBvoH9QBLcF/4Pf/1AvFJ5q899/UDSyZPwynr9QO573vWKev1A4qs+9o55/UCfIrq7inT9QEMpmnVYdP1AMMwVKAt0/UD4siz++m/9QGoSwLb7a/1AxwV93VNr/UC8EQhtwmr9QKBLDsSQav1Ao25EykVp/UDkhemCqmj9QMDRXrfSXf1AA0sTsypb/UC0z1z3zVr9QJy2HAilS/1AlKTA6T8u/UAqjS5zUCX9QIqi5eC4If1A1nrkCLoU/UCutRwYtBH9QBS82mAaEP1A6HhNzOAF/UDnGFL0z/T8QN2Fdrdf5PxAh3Yy5nvG/EA=",
                    "dtype": "f8"
                  },
                  "yaxis": "y"
                }
              ],
              "layout": {
                "legend": {
                  "tracegroupgap": 0
                },
                "template": {
                  "data": {
                    "bar": [
                      {
                        "error_x": {
                          "color": "#2a3f5f"
                        },
                        "error_y": {
                          "color": "#2a3f5f"
                        },
                        "marker": {
                          "line": {
                            "color": "#E5ECF6",
                            "width": 0.5
                          },
                          "pattern": {
                            "fillmode": "overlay",
                            "size": 10,
                            "solidity": 0.2
                          }
                        },
                        "type": "bar"
                      }
                    ],
                    "barpolar": [
                      {
                        "marker": {
                          "line": {
                            "color": "#E5ECF6",
                            "width": 0.5
                          },
                          "pattern": {
                            "fillmode": "overlay",
                            "size": 10,
                            "solidity": 0.2
                          }
                        },
                        "type": "barpolar"
                      }
                    ],
                    "carpet": [
                      {
                        "aaxis": {
                          "endlinecolor": "#2a3f5f",
                          "gridcolor": "white",
                          "linecolor": "white",
                          "minorgridcolor": "white",
                          "startlinecolor": "#2a3f5f"
                        },
                        "baxis": {
                          "endlinecolor": "#2a3f5f",
                          "gridcolor": "white",
                          "linecolor": "white",
                          "minorgridcolor": "white",
                          "startlinecolor": "#2a3f5f"
                        },
                        "type": "carpet"
                      }
                    ],
                    "choropleth": [
                      {
                        "colorbar": {
                          "outlinewidth": 0,
                          "ticks": ""
                        },
                        "type": "choropleth"
                      }
                    ],
                    "contour": [
                      {
                        "colorbar": {
                          "outlinewidth": 0,
                          "ticks": ""
                        },
                        "colorscale": [
                          [
                            0,
                            "#0d0887"
                          ],
                          [
                            0.1111111111111111,
                            "#46039f"
                          ],
                          [
                            0.2222222222222222,
                            "#7201a8"
                          ],
                          [
                            0.3333333333333333,
                            "#9c179e"
                          ],
                          [
                            0.4444444444444444,
                            "#bd3786"
                          ],
                          [
                            0.5555555555555556,
                            "#d8576b"
                          ],
                          [
                            0.6666666666666666,
                            "#ed7953"
                          ],
                          [
                            0.7777777777777778,
                            "#fb9f3a"
                          ],
                          [
                            0.8888888888888888,
                            "#fdca26"
                          ],
                          [
                            1,
                            "#f0f921"
                          ]
                        ],
                        "type": "contour"
                      }
                    ],
                    "contourcarpet": [
                      {
                        "colorbar": {
                          "outlinewidth": 0,
                          "ticks": ""
                        },
                        "type": "contourcarpet"
                      }
                    ],
                    "heatmap": [
                      {
                        "colorbar": {
                          "outlinewidth": 0,
                          "ticks": ""
                        },
                        "colorscale": [
                          [
                            0,
                            "#0d0887"
                          ],
                          [
                            0.1111111111111111,
                            "#46039f"
                          ],
                          [
                            0.2222222222222222,
                            "#7201a8"
                          ],
                          [
                            0.3333333333333333,
                            "#9c179e"
                          ],
                          [
                            0.4444444444444444,
                            "#bd3786"
                          ],
                          [
                            0.5555555555555556,
                            "#d8576b"
                          ],
                          [
                            0.6666666666666666,
                            "#ed7953"
                          ],
                          [
                            0.7777777777777778,
                            "#fb9f3a"
                          ],
                          [
                            0.8888888888888888,
                            "#fdca26"
                          ],
                          [
                            1,
                            "#f0f921"
                          ]
                        ],
                        "type": "heatmap"
                      }
                    ],
                    "histogram": [
                      {
                        "marker": {
                          "pattern": {
                            "fillmode": "overlay",
                            "size": 10,
                            "solidity": 0.2
                          }
                        },
                        "type": "histogram"
                      }
                    ],
                    "histogram2d": [
                      {
                        "colorbar": {
                          "outlinewidth": 0,
                          "ticks": ""
                        },
                        "colorscale": [
                          [
                            0,
                            "#0d0887"
                          ],
                          [
                            0.1111111111111111,
                            "#46039f"
                          ],
                          [
                            0.2222222222222222,
                            "#7201a8"
                          ],
                          [
                            0.3333333333333333,
                            "#9c179e"
                          ],
                          [
                            0.4444444444444444,
                            "#bd3786"
                          ],
                          [
                            0.5555555555555556,
                            "#d8576b"
                          ],
                          [
                            0.6666666666666666,
                            "#ed7953"
                          ],
                          [
                            0.7777777777777778,
                            "#fb9f3a"
                          ],
                          [
                            0.8888888888888888,
                            "#fdca26"
                          ],
                          [
                            1,
                            "#f0f921"
                          ]
                        ],
                        "type": "histogram2d"
                      }
                    ],
                    "histogram2dcontour": [
                      {
                        "colorbar": {
                          "outlinewidth": 0,
                          "ticks": ""
                        },
                        "colorscale": [
                          [
                            0,
                            "#0d0887"
                          ],
                          [
                            0.1111111111111111,
                            "#46039f"
                          ],
                          [
                            0.2222222222222222,
                            "#7201a8"
                          ],
                          [
                            0.3333333333333333,
                            "#9c179e"
                          ],
                          [
                            0.4444444444444444,
                            "#bd3786"
                          ],
                          [
                            0.5555555555555556,
                            "#d8576b"
                          ],
                          [
                            0.6666666666666666,
                            "#ed7953"
                          ],
                          [
                            0.7777777777777778,
                            "#fb9f3a"
                          ],
                          [
                            0.8888888888888888,
                            "#fdca26"
                          ],
                          [
                            1,
                            "#f0f921"
                          ]
                        ],
                        "type": "histogram2dcontour"
                      }
                    ],
                    "mesh3d": [
                      {
                        "colorbar": {
                          "outlinewidth": 0,
                          "ticks": ""
                        },
                        "type": "mesh3d"
                      }
                    ],
                    "parcoords": [
                      {
                        "line": {
                          "colorbar": {
                            "outlinewidth": 0,
                            "ticks": ""
                          }
                        },
                        "type": "parcoords"
                      }
                    ],
                    "pie": [
                      {
                        "automargin": true,
                        "type": "pie"
                      }
                    ],
                    "scatter": [
                      {
                        "fillpattern": {
                          "fillmode": "overlay",
                          "size": 10,
                          "solidity": 0.2
                        },
                        "type": "scatter"
                      }
                    ],
                    "scatter3d": [
                      {
                        "line": {
                          "colorbar": {
                            "outlinewidth": 0,
                            "ticks": ""
                          }
                        },
                        "marker": {
                          "colorbar": {
                            "outlinewidth": 0,
                            "ticks": ""
                          }
                        },
                        "type": "scatter3d"
                      }
                    ],
                    "scattercarpet": [
                      {
                        "marker": {
                          "colorbar": {
                            "outlinewidth": 0,
                            "ticks": ""
                          }
                        },
                        "type": "scattercarpet"
                      }
                    ],
                    "scattergeo": [
                      {
                        "marker": {
                          "colorbar": {
                            "outlinewidth": 0,
                            "ticks": ""
                          }
                        },
                        "type": "scattergeo"
                      }
                    ],
                    "scattergl": [
                      {
                        "marker": {
                          "colorbar": {
                            "outlinewidth": 0,
                            "ticks": ""
                          }
                        },
                        "type": "scattergl"
                      }
                    ],
                    "scattermap": [
                      {
                        "marker": {
                          "colorbar": {
                            "outlinewidth": 0,
                            "ticks": ""
                          }
                        },
                        "type": "scattermap"
                      }
                    ],
                    "scattermapbox": [
                      {
                        "marker": {
                          "colorbar": {
                            "outlinewidth": 0,
                            "ticks": ""
                          }
                        },
                        "type": "scattermapbox"
                      }
                    ],
                    "scatterpolar": [
                      {
                        "marker": {
                          "colorbar": {
                            "outlinewidth": 0,
                            "ticks": ""
                          }
                        },
                        "type": "scatterpolar"
                      }
                    ],
                    "scatterpolargl": [
                      {
                        "marker": {
                          "colorbar": {
                            "outlinewidth": 0,
                            "ticks": ""
                          }
                        },
                        "type": "scatterpolargl"
                      }
                    ],
                    "scatterternary": [
                      {
                        "marker": {
                          "colorbar": {
                            "outlinewidth": 0,
                            "ticks": ""
                          }
                        },
                        "type": "scatterternary"
                      }
                    ],
                    "surface": [
                      {
                        "colorbar": {
                          "outlinewidth": 0,
                          "ticks": ""
                        },
                        "colorscale": [
                          [
                            0,
                            "#0d0887"
                          ],
                          [
                            0.1111111111111111,
                            "#46039f"
                          ],
                          [
                            0.2222222222222222,
                            "#7201a8"
                          ],
                          [
                            0.3333333333333333,
                            "#9c179e"
                          ],
                          [
                            0.4444444444444444,
                            "#bd3786"
                          ],
                          [
                            0.5555555555555556,
                            "#d8576b"
                          ],
                          [
                            0.6666666666666666,
                            "#ed7953"
                          ],
                          [
                            0.7777777777777778,
                            "#fb9f3a"
                          ],
                          [
                            0.8888888888888888,
                            "#fdca26"
                          ],
                          [
                            1,
                            "#f0f921"
                          ]
                        ],
                        "type": "surface"
                      }
                    ],
                    "table": [
                      {
                        "cells": {
                          "fill": {
                            "color": "#EBF0F8"
                          },
                          "line": {
                            "color": "white"
                          }
                        },
                        "header": {
                          "fill": {
                            "color": "#C8D4E3"
                          },
                          "line": {
                            "color": "white"
                          }
                        },
                        "type": "table"
                      }
                    ]
                  },
                  "layout": {
                    "annotationdefaults": {
                      "arrowcolor": "#2a3f5f",
                      "arrowhead": 0,
                      "arrowwidth": 1
                    },
                    "autotypenumbers": "strict",
                    "coloraxis": {
                      "colorbar": {
                        "outlinewidth": 0,
                        "ticks": ""
                      }
                    },
                    "colorscale": {
                      "diverging": [
                        [
                          0,
                          "#8e0152"
                        ],
                        [
                          0.1,
                          "#c51b7d"
                        ],
                        [
                          0.2,
                          "#de77ae"
                        ],
                        [
                          0.3,
                          "#f1b6da"
                        ],
                        [
                          0.4,
                          "#fde0ef"
                        ],
                        [
                          0.5,
                          "#f7f7f7"
                        ],
                        [
                          0.6,
                          "#e6f5d0"
                        ],
                        [
                          0.7,
                          "#b8e186"
                        ],
                        [
                          0.8,
                          "#7fbc41"
                        ],
                        [
                          0.9,
                          "#4d9221"
                        ],
                        [
                          1,
                          "#276419"
                        ]
                      ],
                      "sequential": [
                        [
                          0,
                          "#0d0887"
                        ],
                        [
                          0.1111111111111111,
                          "#46039f"
                        ],
                        [
                          0.2222222222222222,
                          "#7201a8"
                        ],
                        [
                          0.3333333333333333,
                          "#9c179e"
                        ],
                        [
                          0.4444444444444444,
                          "#bd3786"
                        ],
                        [
                          0.5555555555555556,
                          "#d8576b"
                        ],
                        [
                          0.6666666666666666,
                          "#ed7953"
                        ],
                        [
                          0.7777777777777778,
                          "#fb9f3a"
                        ],
                        [
                          0.8888888888888888,
                          "#fdca26"
                        ],
                        [
                          1,
                          "#f0f921"
                        ]
                      ],
                      "sequentialminus": [
                        [
                          0,
                          "#0d0887"
                        ],
                        [
                          0.1111111111111111,
                          "#46039f"
                        ],
                        [
                          0.2222222222222222,
                          "#7201a8"
                        ],
                        [
                          0.3333333333333333,
                          "#9c179e"
                        ],
                        [
                          0.4444444444444444,
                          "#bd3786"
                        ],
                        [
                          0.5555555555555556,
                          "#d8576b"
                        ],
                        [
                          0.6666666666666666,
                          "#ed7953"
                        ],
                        [
                          0.7777777777777778,
                          "#fb9f3a"
                        ],
                        [
                          0.8888888888888888,
                          "#fdca26"
                        ],
                        [
                          1,
                          "#f0f921"
                        ]
                      ]
                    },
                    "colorway": [
                      "#636efa",
                      "#EF553B",
                      "#00cc96",
                      "#ab63fa",
                      "#FFA15A",
                      "#19d3f3",
                      "#FF6692",
                      "#B6E880",
                      "#FF97FF",
                      "#FECB52"
                    ],
                    "font": {
                      "color": "#2a3f5f"
                    },
                    "geo": {
                      "bgcolor": "white",
                      "lakecolor": "white",
                      "landcolor": "#E5ECF6",
                      "showlakes": true,
                      "showland": true,
                      "subunitcolor": "white"
                    },
                    "hoverlabel": {
                      "align": "left"
                    },
                    "hovermode": "closest",
                    "mapbox": {
                      "style": "light"
                    },
                    "paper_bgcolor": "white",
                    "plot_bgcolor": "#E5ECF6",
                    "polar": {
                      "angularaxis": {
                        "gridcolor": "white",
                        "linecolor": "white",
                        "ticks": ""
                      },
                      "bgcolor": "#E5ECF6",
                      "radialaxis": {
                        "gridcolor": "white",
                        "linecolor": "white",
                        "ticks": ""
                      }
                    },
                    "scene": {
                      "xaxis": {
                        "backgroundcolor": "#E5ECF6",
                        "gridcolor": "white",
                        "gridwidth": 2,
                        "linecolor": "white",
                        "showbackground": true,
                        "ticks": "",
                        "zerolinecolor": "white"
                      },
                      "yaxis": {
                        "backgroundcolor": "#E5ECF6",
                        "gridcolor": "white",
                        "gridwidth": 2,
                        "linecolor": "white",
                        "showbackground": true,
                        "ticks": "",
                        "zerolinecolor": "white"
                      },
                      "zaxis": {
                        "backgroundcolor": "#E5ECF6",
                        "gridcolor": "white",
                        "gridwidth": 2,
                        "linecolor": "white",
                        "showbackground": true,
                        "ticks": "",
                        "zerolinecolor": "white"
                      }
                    },
                    "shapedefaults": {
                      "line": {
                        "color": "#2a3f5f"
                      }
                    },
                    "ternary": {
                      "aaxis": {
                        "gridcolor": "white",
                        "linecolor": "white",
                        "ticks": ""
                      },
                      "baxis": {
                        "gridcolor": "white",
                        "linecolor": "white",
                        "ticks": ""
                      },
                      "bgcolor": "#E5ECF6",
                      "caxis": {
                        "gridcolor": "white",
                        "linecolor": "white",
                        "ticks": ""
                      }
                    },
                    "title": {
                      "x": 0.05
                    },
                    "xaxis": {
                      "automargin": true,
                      "gridcolor": "white",
                      "linecolor": "white",
                      "ticks": "",
                      "title": {
                        "standoff": 15
                      },
                      "zerolinecolor": "white",
                      "zerolinewidth": 2
                    },
                    "yaxis": {
                      "automargin": true,
                      "gridcolor": "white",
                      "linecolor": "white",
                      "ticks": "",
                      "title": {
                        "standoff": 15
                      },
                      "zerolinecolor": "white",
                      "zerolinewidth": 2
                    }
                  }
                },
                "title": {
                  "text": "PM10과 자전거 대여량 산점도"
                },
                "xaxis": {
                  "anchor": "y",
                  "domain": [
                    0,
                    1
                  ],
                  "title": {
                    "text": "PM10 농도"
                  }
                },
                "yaxis": {
                  "anchor": "x",
                  "domain": [
                    0,
                    1
                  ],
                  "title": {
                    "text": "자전거 대여량"
                  }
                }
              }
            }
          },
          "metadata": {},
          "output_type": "display_data"
        },
        {
          "data": {
            "application/vnd.plotly.v1+json": {
              "config": {
                "plotlyServerURL": "https://plot.ly"
              },
              "data": [
                {
                  "hovertemplate": "PM2.5 농도=%{x}<br>자전거 대여량=%{y}<extra></extra>",
                  "legendgroup": "",
                  "marker": {
                    "color": "#636efa",
                    "symbol": "circle"
                  },
                  "mode": "markers",
                  "name": "",
                  "orientation": "v",
                  "showlegend": false,
                  "type": "scatter",
                  "x": {
                    "bdata": "i3rOKl1hL0DvmBrYO+YjQEwVfpgq/CxAZw9t9tBmPkCsBijwoMUlQOACF7jABTFAzUPVF5qHKkC7PJCWRYUYQC9eldiGgyFA8z7FJUOwFEAV7Uzp9Rc5QOfOnTt3bjpA2Ymd2IntQkBK5U7AlMo4QNAX9AV9QRdAt0euFYIMHUCrqqqqqqoQQK6JQK6JQA5A3zdP2yNXMEC4Uep987QiQLAmN6tQUiJAP8UlQ7COGEBRXkN5DcUVQG7zyco0FhlAXzpeNUCBIkBtHfrN1qEfQBljjDHGGB9A+7iwjwv7G0DNs4oaIwUgQERzZYVbbClApXsDysQVIEDWEr5mmOohQPs2YKim4y5AGqRBGqRROECegCmVOwE2QPE1w1RXTjZAkv/86mz6IkBaMJASRWAnQP1jrHhUbitAWCnZmCqSMkCGfVzYx4U3QELQlQbI2zVAH4XrUbh+M0DU+pUCtf4wQHJQwIcUpTBATm1qU5vaLkDDr8ZEeqAsQGnKSWHkbi1An+DoCY6eLEDhJRNeMuEwQKIdBF1pADJAA0K0Tv7TF0DjjHYPW98WQIuNhu6DdTNAFmWWjivKPkC+5Vu+5Zs9QGLI+AI7bztAV2GpoWvxKUDaIXBjGZQeQL3FkM5bDBFAZ5WuMKZaGEAAAAAAABAzQFy+5Vu+5TRAthQrHCbKKEAs59aPCOISQNdfN66/biJAY8kvlvziKkAcIC1UySggQGIOc5jDHCpA7MRO7MQONkD5QTkGSdAzQDpk0Il+/TRAIOIH5RgkNkC9nwQVjm4ZQMGDFocq/xxAjNC9CN2LGEAhhBBCCCEZQB0JwZu0TgVAqoG9Y2pgGEAe7LfaGJokQC7jlnHLOChAYzw9mKGKIEDxg3IMkqD1P2bONYAv7/c/Nzmrbiu4A0D5cj57Am4SQLrCmGpRzx1AkAv7uLCPJEByBTG5gpgiQOl8dY+0MhVATGgvob2EDkDZnFeFeIoYQE/sxE7sxBpAYswjxjxiGECxEzuxE7saQH/UKX/UKRxApEEapEEaKEAN0iAN0iAqQBvAiZSK4jVAYraVQt37N0DhRqn3zdMYQOqhHuqhHiRA4Cnv9oQMNUBlxF6XI/k3QCLQDx2kgDFAB1Pks24QJUCh6vKZfaAoQOQ4juM4fjZAduP668b1NUC6g/1WG0MoQA3SIA3SIAxA2Ymd2IkdDEDXBpBpn+0UQP16Yd0VKBhATwSDKGkWGEAk1wpBhiUuQD3Wk0YLgS1AuKVmw/4uKED5lm/5lq8uQMMpbLn0fjZA5lXnsPCZGUC22hLRz7AuQFK2JmVrUjRAWzTlpDByN0A1SIM0SPMzQB4EXWmAvC1AqFChQoWKKkDEdAuuceYjQM/XFRsN3SdAe/Xq1av3NUA79/BTa5M1QPSjH/3oRzNA8y3f8i2/LkD72WJl+MY9QPCb6OncXjhAYKN3ReZLNUDaBwobBpYxQPlPaFDjSTBAJiizEadtKkDxNcNUV84iQC3OaPew9RpAh6Efaz4UKEB1MhJ8fDk3QJwEx9cfPEJAw5Jwo9T7M0Ce2Imd2IkrQHtt3SW+LyVA8cBKycZUKUAAAAAAAMATQJ6xKfrcLRdAw8T7kdN8J0DYO6YG9s4xQMVO7MROTC9AQhqkQRrUNkC+xvm2L4U7QHkN5TWUVxxAIrB99bhIJUB+87Q9cq0lQLL8JctfsiFApCc4eoKjJkDmW77lW/4nQNHnbpmYkzBAVQNINYBUOkDdUHX4RRNDQAf2jqmBnTZArRBkWBJuL0AAAAAAACAuQCd2Yid2IiNAXm6GXPmPL0Avi/gEUsksQBvKayivQS9A0k99s2p6PkBLXlScEjlDQAVRZq8s8UNATWtP/p3LI0AAAAAAALAwQD/sp2xkqjJAl2/5lm8JNUAzz+Ea/dRAQMprKK+hXCpAT+zETuwkK0B9y7d8yxcsQFCIs/IT4j5A9OjDfsrGM0A=",
                    "dtype": "f8"
                  },
                  "xaxis": "x",
                  "y": {
                    "bdata": "jMgCAAGaAAA7hAIAh2oCAPObAgCJdAEAHkIBAMG/AADn/wEAnGUCAPeyAgAuuQIA0AMCALHHAQBhigIAM28BACLLAAB0pwAAoWsCAA5KAQDHfAEAr04BAKi6AQAp7wEAegACAM/KAQBxKgEAlI4BAEIeAgDxSwIAbUkCAFE4AgB8IwIACJsBAA5eAQAV4QEAYBUCAPImAgC1GAIA3SACAGS/AQAvhQEAfi8CAL8LAgB8BgIAC5ABADMmAgDtnQEARW0BAJwuAgDpPAIAjB0BALbrAQAMTwIAKpwBAFuNAQCeKwIATkYCAGKJAgAKiwIApY0CAJENAgDy6AEAxFgCAN26AgDZsgIAjCwCAAxMAgDyRQIAagECACGaAgD/lwIA41kCAEfyAAAyKAEAxMQBAOqRAQDMXAEAKjYBAPeLAQBjXwIA6r8AAO61AQBPbwIAjN8CAMDqAgBW3QIA568CAFXsAgAolAIAyVsCAL7YAgCmAgIAyrICAJxZAgDMxgIAZ4YCAF+oAQBCpwIAmskCAFdyAgCcvwIAZOMCAJd3AgBWKwIAMp0CAOdfAgBswwIArcMCAF0zAQAd/wEAe94BAC5bAgDEaAAAQjECAJJuAgA6igIAWTgCAG2xAQAzbgIAh1sCALePAgCJjwIA54kCAMs7AgAGBgIAk1YCAOQ4AgCiHgIAkCQCAM88AgCZ6wEA8cMBAMBeAgBdagIAm3wCAAsZAgB2bAIA+jkBABYzAQB0rAEA/eYBAMLkAQDv8QEAwPEBAG1zAQCTTwEAHf4BADmKAACmUQAA0acAALwgAQBP4AAAQeUAAD2IAQADcgEAX3wBAIhGAQB3agEAyQMBANvDAAD0XQEAkHQBAAeBAQBIZwEA5l0BAPv7AAAtyAAA8DABAN1FAQBsKQEACDYBAFY5AQAfmgAAWpQAAHIpAQDXLwEAv7AAAPkNAQDtCgEApLIAAF6qAAB6NgEA8RwBAA==",
                    "dtype": "i4"
                  },
                  "yaxis": "y"
                },
                {
                  "hovertemplate": "<b>OLS trendline</b><br>Rental = -22.5846 * PM2.5 + 122265<br>R<sup>2</sup>=0.000019<br><br>PM2.5 농도=%{x}<br>자전거 대여량=%{y} <b>(trend)</b><extra></extra>",
                  "legendgroup": "",
                  "marker": {
                    "color": "#636efa",
                    "symbol": "circle"
                  },
                  "mode": "lines",
                  "name": "",
                  "showlegend": false,
                  "type": "scatter",
                  "x": {
                    "bdata": "8YNyDJKg9T9mzjWAL+/3Pzc5q24ruANAHQnBm7ROBUDZiZ3YiR0MQA3SIA3SIAxArolArolADkBMaC+hvYQOQKuqqqqqqhBAvcWQzlsMEUD5cj57Am4SQCzn1o8I4hJAAAAAAADAE0DzPsUlQ7AUQNcGkGmf7RRA6Xx1j7QyFUBRXkN5DcUVQOOMdg9b3xZAnrEp+twtF0DQF/QFfUEXQANCtE7+0xdATwSDKGkWGED9emHdFSgYQGeVrjCmWhhAqoG9Y2pgGEBizCPGPGIYQLs8kJZFhRhA2ZxXhXiKGECM0L0I3YsYQD/FJUOwjhhA4Uap983TGEBu88nKNBYZQCGEEEIIIRlAvZ8EFY5uGUDmVeew8JkZQLETO7ETuxpAT+zETuzEGkAtzmj3sPUaQPu4sI8L+xtAf9Qpf9QpHEB5DeU1lFccQMGDFocq/xxAt0euFYIMHUC6wphqUc8dQNohcGMZlB5AGWOMMcYYH0BtHfrN1qEfQM2zihojBSBApXsDysQVIEAcIC1UySggQGM8PZihiiBAL16V2IaDIUCy/CXLX7IhQNYSvmaY6iFAsCY3q1BSIkDXXzeuv24iQF86XjVAgSJAcgUxuYKYIkC4Uep987QiQPE1w1RXziJAkv/86mz6IkAndmIndiIjQE1rT/6dyyNA75ga2DvmI0DEdAuuceYjQOqhHuqhHiRAkAv7uLCPJEAe7LfaGJokQAdT5LNuECVAe23dJb4vJUAisH31uEglQH7ztD1yrSVArAYo8KDFJUCkJzh6gqMmQFowkBJFYCdAw8T7kdN8J0DP1xUbDd0nQOZbvuVb/idAh6Efaz4UKECkQRqkQRooQLilZsP+LihALuOWccs4KEC6g/1WG0MoQKHq8pl9oChAthQrHCbKKEDxwErJxlQpQERzZYVbbClAV2GpoWvxKUBiDnOYwxwqQA3SIA3SICpAymsor6FcKkAmKLMRp20qQM1D1ReahypAqFChQoWKKkBjyS+W/OIqQE/sxE7sJCtA/WOseFRuK0Ce2Imd2IkrQH3Lt3zLFyxAn+DoCY6eLEDDr8ZEeqAsQC+L+ARSySxATBV+mCr8LEBpyklh5G4tQD3Wk0YLgS1AHgRdaYC8LUAAAAAAACAuQCTXCkGGJS5A+ZZv+ZavLkC22hLRz7AuQPMt3/Itvy5ATm1qU5vaLkD7NmCopuMuQBvKayivQS9AxU7sxE5ML0CLes4qXWEvQK0QZFgSbi9AXm6GXPmPL0D5T2hQ40kwQN83T9sjVzBA0edumZiTMEByUMCHFKUwQAAAAAAAsDBA4SUTXjLhMEDU+pUCtf4wQOACF7jABTFAItAPHaSAMUDaBwobBpYxQNg7pgb2zjFAoh0EXWkAMkBYKdmYKpIyQD/sp2xkqjJAAAAAAAAQM0D0ox/96EczQIuNhu6DdTNAH4XrUbh+M0D06MN+ysYzQPlBOQZJ0DNANUiDNEjzM0DDknCj1PszQFK2JmVrUjRAXL7lW77lNEA6ZNCJfv00QJdv+ZZvCTVA4Cnv9oQMNUBgo3dF5ks1QDv38FNrkzVAQtCVBsjbNUAbwImUiuI1QHbj+uvG9TVAe/Xq1av3NUCegCmVOwE2QOzETuzEDjZAIOIH5RgkNkDxNcNUV042QOQ4juM4fjZAwylsufR+NkAH9o6pgZ02QEIapEEa1DZAdTISfHw5N0BbNOWkMHI3QIZ9XNjHhTdAZcRelyP5N0BitpVC3fs3QBqkQRqkUThA8Jvo6dxeOEBK5U7AlMo4QBXtTOn1FzlAVQNINYBUOkDnzp07d246QGLI+AI7bztAvsb5ti+FO0C+5Vu+5Zs9QPvZYmX4xj1AZw9t9tBmPkDST32zano+QBZllo4ryj5AUIiz8hPiPkAzz+Ea/dRAQJwEx9cfPEJA2Ymd2IntQkDdUHX4RRNDQEteVJwSOUNABVFmryzxQ0A=",
                    "dtype": "f8"
                  },
                  "xaxis": "x",
                  "y": {
                    "bdata": "oaLlvKHX/UDUnxiibdf9QJoZX3gP1v1AeVN6vcfV/UCzLiE7lNT9QLrM4aaT1P1AJQmdtzPU/UA1VfGuJ9T9QHxqXIqo0/1AuFcHEYbT/UAgBcRECdP9QCRbXlPg0v1AC1RF/5HS/UAjm102PdL9QJB/Ko8n0v1AY/laLg/S/UAynJOJ29H9QMigxup30f1A/n6JNlzR/UCnV6FJVdH9QDTwmpYh0f1ANwmRJgrR/UCIZ97pA9H9QDMXBRLy0P1A4qEXCfDQ/UDqOYNk79D9QKEijwfj0P1AB9bkMeHQ/UCMARa04ND9QDPA3rTf0P1ANjEKUcfQ/UAuAGzir9D9QFdGahCs0P1A88oitZDQ/UAWzMllgdD9QDeMpV0b0P1AXEAp5BfQ/UCceYWuBtD9QOJ1PHSqz/1AHpXD8ZnP/UCgZeLMic/9QJrOVKlOz/1AkfAI9EnP/UCr5zk1Bc/9QJl7VsS/zv1ArjOx8pDO/UC7HnmUYM79QMZL+Lk7zv1AsYgH/S/O/UApnPeQIs79QK1esILdzf1ANY4O2S3N/UAWys/IDM39QB819hrlzP1ACNk055vM/UDrrOjVh8z9QBY1BMd6zP1A7M6BXGrM/UBVPPhJVsz9QLVpll5EzP1AP0eTQSXM/UB6p/z/CMz9QMS2f52Ry/1ABFB/1H7L/UDAc4Cufsv9QNyyjwZXy/1ATD2jOwfL/UDRkWDj/8r9QGeL7l6syv1A5vbhRZbK/UD9S6CkhMr9QJ1cL449yv1Av1f8fCzK/UAH5T7kj8n9QDyFrasKyf1Aw44ohPbI/UBWcZWassj9QOlzpBibyP1AsyuPpovI/UC6cDloh8j9QNt9NsV4yP1A2kSq2nHI/UDMbIKTasj9QLPPOKsoyP1AvA6MRAvI/UBXacFtqcf9QDnMN8mYx/1AExTX3zrH/UAoYKhIHMf9QOqPv2sZx/1AkIFHNe/G/UAmXfkx48b9QJ9kieHQxv1AKqg10s7G/UALW3BikMb9QIk9Q9lhxv1A3jNYCi7G/UB9Ks+eGsb9QKb0+W+2xf1A1dP7U1fF/UAtUpX4VcX9QHhEPiU5xf1A1JaNQhXF/UBacEhKxMT9QFtwpnq3xP1ATBgNhI3E/UDjTwFLR8T9QAR83mRDxP1AF1at8+HD/UAWAOIW4cP9QIwQ+fLWw/1ASXmBl8PD/UCS1mo1vcP9QGzFzdd6w/1ArjxjWHPD/UCqpwN8ZMP9QOgEBoRbw/1AQpmllkPD/UBghH86jML9QFhjzIV5wv1AAEvNLyTC/UAm/9uBC8L9QEE88xf8wf1AOn+IprbB/UCB9t/+jMH9QDlo3wyDwf1AoDPFltXA/UDOAgdot8D9QCE2kwlnwP1APWBzPCHA/UCs3W9/U7/9QGfaU00xv/1A3wsG4aG+/UDyfrX1Ur79QHYEGJYSvv1A1+D2lwW+/UAljNvcn739QARYE3aSvf1AMAXcD2G9/UB5/c3+VL39QKLumsXavP1AZNWI0Qq8/UBhwSJL6bv9QHuJ/m/Yu/1AMS3DFdS7/UB/0yOferv9QHA1OqsVu/1AeNvthq+6/UBM7y/8pbr9QJziS9WKuv1AnpTSKIi6/UChn7yperr9QMq+R45nuv1AketTc0m6/UDoe1nSDbr9QFIbWjzKuf1AHB83M8m5/UBPz6sTnrn9QFqoMANRuf1AcYHV58G4/UCRgrzdcbj9QNkSmDZWuP1AJlJwYbO3/UDeQaeIr7f9QLS67nQ2t/1AfmIlyyO3/UBzDtS+i7b9QNLCdoUetv1AijCMtl+0/UCMjAYQO7T9QDBnLqHQsv1AI6pZo7Gy/UAJYKTfvq/9QCryHBOCr/1Arxg3cqCu/UChun3HhK79QDJ1VzQUrv1AA70udfKt/UA2j9KVBar9QFqT8bcPpv1AtueM3Rqk/UD2b01WsKP9QIDubaBFo/1AMmq75D2h/UA=",
                    "dtype": "f8"
                  },
                  "yaxis": "y"
                }
              ],
              "layout": {
                "legend": {
                  "tracegroupgap": 0
                },
                "template": {
                  "data": {
                    "bar": [
                      {
                        "error_x": {
                          "color": "#2a3f5f"
                        },
                        "error_y": {
                          "color": "#2a3f5f"
                        },
                        "marker": {
                          "line": {
                            "color": "#E5ECF6",
                            "width": 0.5
                          },
                          "pattern": {
                            "fillmode": "overlay",
                            "size": 10,
                            "solidity": 0.2
                          }
                        },
                        "type": "bar"
                      }
                    ],
                    "barpolar": [
                      {
                        "marker": {
                          "line": {
                            "color": "#E5ECF6",
                            "width": 0.5
                          },
                          "pattern": {
                            "fillmode": "overlay",
                            "size": 10,
                            "solidity": 0.2
                          }
                        },
                        "type": "barpolar"
                      }
                    ],
                    "carpet": [
                      {
                        "aaxis": {
                          "endlinecolor": "#2a3f5f",
                          "gridcolor": "white",
                          "linecolor": "white",
                          "minorgridcolor": "white",
                          "startlinecolor": "#2a3f5f"
                        },
                        "baxis": {
                          "endlinecolor": "#2a3f5f",
                          "gridcolor": "white",
                          "linecolor": "white",
                          "minorgridcolor": "white",
                          "startlinecolor": "#2a3f5f"
                        },
                        "type": "carpet"
                      }
                    ],
                    "choropleth": [
                      {
                        "colorbar": {
                          "outlinewidth": 0,
                          "ticks": ""
                        },
                        "type": "choropleth"
                      }
                    ],
                    "contour": [
                      {
                        "colorbar": {
                          "outlinewidth": 0,
                          "ticks": ""
                        },
                        "colorscale": [
                          [
                            0,
                            "#0d0887"
                          ],
                          [
                            0.1111111111111111,
                            "#46039f"
                          ],
                          [
                            0.2222222222222222,
                            "#7201a8"
                          ],
                          [
                            0.3333333333333333,
                            "#9c179e"
                          ],
                          [
                            0.4444444444444444,
                            "#bd3786"
                          ],
                          [
                            0.5555555555555556,
                            "#d8576b"
                          ],
                          [
                            0.6666666666666666,
                            "#ed7953"
                          ],
                          [
                            0.7777777777777778,
                            "#fb9f3a"
                          ],
                          [
                            0.8888888888888888,
                            "#fdca26"
                          ],
                          [
                            1,
                            "#f0f921"
                          ]
                        ],
                        "type": "contour"
                      }
                    ],
                    "contourcarpet": [
                      {
                        "colorbar": {
                          "outlinewidth": 0,
                          "ticks": ""
                        },
                        "type": "contourcarpet"
                      }
                    ],
                    "heatmap": [
                      {
                        "colorbar": {
                          "outlinewidth": 0,
                          "ticks": ""
                        },
                        "colorscale": [
                          [
                            0,
                            "#0d0887"
                          ],
                          [
                            0.1111111111111111,
                            "#46039f"
                          ],
                          [
                            0.2222222222222222,
                            "#7201a8"
                          ],
                          [
                            0.3333333333333333,
                            "#9c179e"
                          ],
                          [
                            0.4444444444444444,
                            "#bd3786"
                          ],
                          [
                            0.5555555555555556,
                            "#d8576b"
                          ],
                          [
                            0.6666666666666666,
                            "#ed7953"
                          ],
                          [
                            0.7777777777777778,
                            "#fb9f3a"
                          ],
                          [
                            0.8888888888888888,
                            "#fdca26"
                          ],
                          [
                            1,
                            "#f0f921"
                          ]
                        ],
                        "type": "heatmap"
                      }
                    ],
                    "histogram": [
                      {
                        "marker": {
                          "pattern": {
                            "fillmode": "overlay",
                            "size": 10,
                            "solidity": 0.2
                          }
                        },
                        "type": "histogram"
                      }
                    ],
                    "histogram2d": [
                      {
                        "colorbar": {
                          "outlinewidth": 0,
                          "ticks": ""
                        },
                        "colorscale": [
                          [
                            0,
                            "#0d0887"
                          ],
                          [
                            0.1111111111111111,
                            "#46039f"
                          ],
                          [
                            0.2222222222222222,
                            "#7201a8"
                          ],
                          [
                            0.3333333333333333,
                            "#9c179e"
                          ],
                          [
                            0.4444444444444444,
                            "#bd3786"
                          ],
                          [
                            0.5555555555555556,
                            "#d8576b"
                          ],
                          [
                            0.6666666666666666,
                            "#ed7953"
                          ],
                          [
                            0.7777777777777778,
                            "#fb9f3a"
                          ],
                          [
                            0.8888888888888888,
                            "#fdca26"
                          ],
                          [
                            1,
                            "#f0f921"
                          ]
                        ],
                        "type": "histogram2d"
                      }
                    ],
                    "histogram2dcontour": [
                      {
                        "colorbar": {
                          "outlinewidth": 0,
                          "ticks": ""
                        },
                        "colorscale": [
                          [
                            0,
                            "#0d0887"
                          ],
                          [
                            0.1111111111111111,
                            "#46039f"
                          ],
                          [
                            0.2222222222222222,
                            "#7201a8"
                          ],
                          [
                            0.3333333333333333,
                            "#9c179e"
                          ],
                          [
                            0.4444444444444444,
                            "#bd3786"
                          ],
                          [
                            0.5555555555555556,
                            "#d8576b"
                          ],
                          [
                            0.6666666666666666,
                            "#ed7953"
                          ],
                          [
                            0.7777777777777778,
                            "#fb9f3a"
                          ],
                          [
                            0.8888888888888888,
                            "#fdca26"
                          ],
                          [
                            1,
                            "#f0f921"
                          ]
                        ],
                        "type": "histogram2dcontour"
                      }
                    ],
                    "mesh3d": [
                      {
                        "colorbar": {
                          "outlinewidth": 0,
                          "ticks": ""
                        },
                        "type": "mesh3d"
                      }
                    ],
                    "parcoords": [
                      {
                        "line": {
                          "colorbar": {
                            "outlinewidth": 0,
                            "ticks": ""
                          }
                        },
                        "type": "parcoords"
                      }
                    ],
                    "pie": [
                      {
                        "automargin": true,
                        "type": "pie"
                      }
                    ],
                    "scatter": [
                      {
                        "fillpattern": {
                          "fillmode": "overlay",
                          "size": 10,
                          "solidity": 0.2
                        },
                        "type": "scatter"
                      }
                    ],
                    "scatter3d": [
                      {
                        "line": {
                          "colorbar": {
                            "outlinewidth": 0,
                            "ticks": ""
                          }
                        },
                        "marker": {
                          "colorbar": {
                            "outlinewidth": 0,
                            "ticks": ""
                          }
                        },
                        "type": "scatter3d"
                      }
                    ],
                    "scattercarpet": [
                      {
                        "marker": {
                          "colorbar": {
                            "outlinewidth": 0,
                            "ticks": ""
                          }
                        },
                        "type": "scattercarpet"
                      }
                    ],
                    "scattergeo": [
                      {
                        "marker": {
                          "colorbar": {
                            "outlinewidth": 0,
                            "ticks": ""
                          }
                        },
                        "type": "scattergeo"
                      }
                    ],
                    "scattergl": [
                      {
                        "marker": {
                          "colorbar": {
                            "outlinewidth": 0,
                            "ticks": ""
                          }
                        },
                        "type": "scattergl"
                      }
                    ],
                    "scattermap": [
                      {
                        "marker": {
                          "colorbar": {
                            "outlinewidth": 0,
                            "ticks": ""
                          }
                        },
                        "type": "scattermap"
                      }
                    ],
                    "scattermapbox": [
                      {
                        "marker": {
                          "colorbar": {
                            "outlinewidth": 0,
                            "ticks": ""
                          }
                        },
                        "type": "scattermapbox"
                      }
                    ],
                    "scatterpolar": [
                      {
                        "marker": {
                          "colorbar": {
                            "outlinewidth": 0,
                            "ticks": ""
                          }
                        },
                        "type": "scatterpolar"
                      }
                    ],
                    "scatterpolargl": [
                      {
                        "marker": {
                          "colorbar": {
                            "outlinewidth": 0,
                            "ticks": ""
                          }
                        },
                        "type": "scatterpolargl"
                      }
                    ],
                    "scatterternary": [
                      {
                        "marker": {
                          "colorbar": {
                            "outlinewidth": 0,
                            "ticks": ""
                          }
                        },
                        "type": "scatterternary"
                      }
                    ],
                    "surface": [
                      {
                        "colorbar": {
                          "outlinewidth": 0,
                          "ticks": ""
                        },
                        "colorscale": [
                          [
                            0,
                            "#0d0887"
                          ],
                          [
                            0.1111111111111111,
                            "#46039f"
                          ],
                          [
                            0.2222222222222222,
                            "#7201a8"
                          ],
                          [
                            0.3333333333333333,
                            "#9c179e"
                          ],
                          [
                            0.4444444444444444,
                            "#bd3786"
                          ],
                          [
                            0.5555555555555556,
                            "#d8576b"
                          ],
                          [
                            0.6666666666666666,
                            "#ed7953"
                          ],
                          [
                            0.7777777777777778,
                            "#fb9f3a"
                          ],
                          [
                            0.8888888888888888,
                            "#fdca26"
                          ],
                          [
                            1,
                            "#f0f921"
                          ]
                        ],
                        "type": "surface"
                      }
                    ],
                    "table": [
                      {
                        "cells": {
                          "fill": {
                            "color": "#EBF0F8"
                          },
                          "line": {
                            "color": "white"
                          }
                        },
                        "header": {
                          "fill": {
                            "color": "#C8D4E3"
                          },
                          "line": {
                            "color": "white"
                          }
                        },
                        "type": "table"
                      }
                    ]
                  },
                  "layout": {
                    "annotationdefaults": {
                      "arrowcolor": "#2a3f5f",
                      "arrowhead": 0,
                      "arrowwidth": 1
                    },
                    "autotypenumbers": "strict",
                    "coloraxis": {
                      "colorbar": {
                        "outlinewidth": 0,
                        "ticks": ""
                      }
                    },
                    "colorscale": {
                      "diverging": [
                        [
                          0,
                          "#8e0152"
                        ],
                        [
                          0.1,
                          "#c51b7d"
                        ],
                        [
                          0.2,
                          "#de77ae"
                        ],
                        [
                          0.3,
                          "#f1b6da"
                        ],
                        [
                          0.4,
                          "#fde0ef"
                        ],
                        [
                          0.5,
                          "#f7f7f7"
                        ],
                        [
                          0.6,
                          "#e6f5d0"
                        ],
                        [
                          0.7,
                          "#b8e186"
                        ],
                        [
                          0.8,
                          "#7fbc41"
                        ],
                        [
                          0.9,
                          "#4d9221"
                        ],
                        [
                          1,
                          "#276419"
                        ]
                      ],
                      "sequential": [
                        [
                          0,
                          "#0d0887"
                        ],
                        [
                          0.1111111111111111,
                          "#46039f"
                        ],
                        [
                          0.2222222222222222,
                          "#7201a8"
                        ],
                        [
                          0.3333333333333333,
                          "#9c179e"
                        ],
                        [
                          0.4444444444444444,
                          "#bd3786"
                        ],
                        [
                          0.5555555555555556,
                          "#d8576b"
                        ],
                        [
                          0.6666666666666666,
                          "#ed7953"
                        ],
                        [
                          0.7777777777777778,
                          "#fb9f3a"
                        ],
                        [
                          0.8888888888888888,
                          "#fdca26"
                        ],
                        [
                          1,
                          "#f0f921"
                        ]
                      ],
                      "sequentialminus": [
                        [
                          0,
                          "#0d0887"
                        ],
                        [
                          0.1111111111111111,
                          "#46039f"
                        ],
                        [
                          0.2222222222222222,
                          "#7201a8"
                        ],
                        [
                          0.3333333333333333,
                          "#9c179e"
                        ],
                        [
                          0.4444444444444444,
                          "#bd3786"
                        ],
                        [
                          0.5555555555555556,
                          "#d8576b"
                        ],
                        [
                          0.6666666666666666,
                          "#ed7953"
                        ],
                        [
                          0.7777777777777778,
                          "#fb9f3a"
                        ],
                        [
                          0.8888888888888888,
                          "#fdca26"
                        ],
                        [
                          1,
                          "#f0f921"
                        ]
                      ]
                    },
                    "colorway": [
                      "#636efa",
                      "#EF553B",
                      "#00cc96",
                      "#ab63fa",
                      "#FFA15A",
                      "#19d3f3",
                      "#FF6692",
                      "#B6E880",
                      "#FF97FF",
                      "#FECB52"
                    ],
                    "font": {
                      "color": "#2a3f5f"
                    },
                    "geo": {
                      "bgcolor": "white",
                      "lakecolor": "white",
                      "landcolor": "#E5ECF6",
                      "showlakes": true,
                      "showland": true,
                      "subunitcolor": "white"
                    },
                    "hoverlabel": {
                      "align": "left"
                    },
                    "hovermode": "closest",
                    "mapbox": {
                      "style": "light"
                    },
                    "paper_bgcolor": "white",
                    "plot_bgcolor": "#E5ECF6",
                    "polar": {
                      "angularaxis": {
                        "gridcolor": "white",
                        "linecolor": "white",
                        "ticks": ""
                      },
                      "bgcolor": "#E5ECF6",
                      "radialaxis": {
                        "gridcolor": "white",
                        "linecolor": "white",
                        "ticks": ""
                      }
                    },
                    "scene": {
                      "xaxis": {
                        "backgroundcolor": "#E5ECF6",
                        "gridcolor": "white",
                        "gridwidth": 2,
                        "linecolor": "white",
                        "showbackground": true,
                        "ticks": "",
                        "zerolinecolor": "white"
                      },
                      "yaxis": {
                        "backgroundcolor": "#E5ECF6",
                        "gridcolor": "white",
                        "gridwidth": 2,
                        "linecolor": "white",
                        "showbackground": true,
                        "ticks": "",
                        "zerolinecolor": "white"
                      },
                      "zaxis": {
                        "backgroundcolor": "#E5ECF6",
                        "gridcolor": "white",
                        "gridwidth": 2,
                        "linecolor": "white",
                        "showbackground": true,
                        "ticks": "",
                        "zerolinecolor": "white"
                      }
                    },
                    "shapedefaults": {
                      "line": {
                        "color": "#2a3f5f"
                      }
                    },
                    "ternary": {
                      "aaxis": {
                        "gridcolor": "white",
                        "linecolor": "white",
                        "ticks": ""
                      },
                      "baxis": {
                        "gridcolor": "white",
                        "linecolor": "white",
                        "ticks": ""
                      },
                      "bgcolor": "#E5ECF6",
                      "caxis": {
                        "gridcolor": "white",
                        "linecolor": "white",
                        "ticks": ""
                      }
                    },
                    "title": {
                      "x": 0.05
                    },
                    "xaxis": {
                      "automargin": true,
                      "gridcolor": "white",
                      "linecolor": "white",
                      "ticks": "",
                      "title": {
                        "standoff": 15
                      },
                      "zerolinecolor": "white",
                      "zerolinewidth": 2
                    },
                    "yaxis": {
                      "automargin": true,
                      "gridcolor": "white",
                      "linecolor": "white",
                      "ticks": "",
                      "title": {
                        "standoff": 15
                      },
                      "zerolinecolor": "white",
                      "zerolinewidth": 2
                    }
                  }
                },
                "title": {
                  "text": "PM2.5와 자전거 대여량 산점도"
                },
                "xaxis": {
                  "anchor": "y",
                  "domain": [
                    0,
                    1
                  ],
                  "title": {
                    "text": "PM2.5 농도"
                  }
                },
                "yaxis": {
                  "anchor": "x",
                  "domain": [
                    0,
                    1
                  ],
                  "title": {
                    "text": "자전거 대여량"
                  }
                }
              }
            }
          },
          "metadata": {},
          "output_type": "display_data"
        }
      ],
      "source": [
        "# PM10과 Rental 산점도\n",
        "fig_scatter1 = px.scatter(merged_df, \n",
        "                         x='PM10', \n",
        "                         y='Rental',\n",
        "                         title='PM10과 자전거 대여량 산점도',\n",
        "                         trendline='ols',\n",
        "                         labels={'PM10': 'PM10 농도', 'Rental': '자전거 대여량'})\n",
        "\n",
        "fig_scatter1.show()\n",
        "\n",
        "# PM2.5와 Rental 산점도 \n",
        "fig_scatter2 = px.scatter(merged_df,\n",
        "                         x='PM2.5',\n",
        "                         y='Rental', \n",
        "                         title='PM2.5와 자전거 대여량 산점도',\n",
        "                         trendline='ols',\n",
        "                         labels={'PM2.5': 'PM2.5 농도', 'Rental': '자전거 대여량'})\n",
        "\n",
        "fig_scatter2.show()"
      ]
    },
    {
      "cell_type": "code",
      "execution_count": 139,
      "metadata": {},
      "outputs": [
        {
          "data": {
            "application/vnd.plotly.v1+json": {
              "config": {
                "plotlyServerURL": "https://plot.ly"
              },
              "data": [
                {
                  "line": {
                    "color": "blue"
                  },
                  "mode": "lines",
                  "name": "PM10",
                  "type": "scatter",
                  "x": [
                    "2024-07-01",
                    "2024-07-02",
                    "2024-07-03",
                    "2024-07-04",
                    "2024-07-05",
                    "2024-07-06",
                    "2024-07-07",
                    "2024-07-08",
                    "2024-07-09",
                    "2024-07-10",
                    "2024-07-11",
                    "2024-07-12",
                    "2024-07-13",
                    "2024-07-14",
                    "2024-07-15",
                    "2024-07-16",
                    "2024-07-17",
                    "2024-07-18",
                    "2024-07-19",
                    "2024-07-20",
                    "2024-07-21",
                    "2024-07-22",
                    "2024-07-23",
                    "2024-07-24",
                    "2024-07-25",
                    "2024-07-26",
                    "2024-07-27",
                    "2024-07-28",
                    "2024-07-29",
                    "2024-07-30",
                    "2024-07-31",
                    "2024-08-01",
                    "2024-08-02",
                    "2024-08-03",
                    "2024-08-04",
                    "2024-08-05",
                    "2024-08-06",
                    "2024-08-07",
                    "2024-08-08",
                    "2024-08-09",
                    "2024-08-10",
                    "2024-08-11",
                    "2024-08-12",
                    "2024-08-13",
                    "2024-08-14",
                    "2024-08-15",
                    "2024-08-16",
                    "2024-08-17",
                    "2024-08-18",
                    "2024-08-19",
                    "2024-08-20",
                    "2024-08-21",
                    "2024-08-22",
                    "2024-08-23",
                    "2024-08-24",
                    "2024-08-25",
                    "2024-08-26",
                    "2024-08-27",
                    "2024-08-28",
                    "2024-08-29",
                    "2024-08-30",
                    "2024-08-31",
                    "2024-09-01",
                    "2024-09-02",
                    "2024-09-03",
                    "2024-09-04",
                    "2024-09-05",
                    "2024-09-06",
                    "2024-09-07",
                    "2024-09-08",
                    "2024-09-09",
                    "2024-09-10",
                    "2024-09-11",
                    "2024-09-12",
                    "2024-09-13",
                    "2024-09-14",
                    "2024-09-15",
                    "2024-09-16",
                    "2024-09-17",
                    "2024-09-18",
                    "2024-09-19",
                    "2024-09-20",
                    "2024-09-21",
                    "2024-09-22",
                    "2024-09-23",
                    "2024-09-24",
                    "2024-09-25",
                    "2024-09-26",
                    "2024-09-27",
                    "2024-09-28",
                    "2024-09-29",
                    "2024-09-30",
                    "2024-10-01",
                    "2024-10-02",
                    "2024-10-03",
                    "2024-10-04",
                    "2024-10-05",
                    "2024-10-06",
                    "2024-10-07",
                    "2024-10-08",
                    "2024-10-09",
                    "2024-10-10",
                    "2024-10-11",
                    "2024-10-12",
                    "2024-10-13",
                    "2024-10-14",
                    "2024-10-15",
                    "2024-10-16",
                    "2024-10-17",
                    "2024-10-18",
                    "2024-10-19",
                    "2024-10-20",
                    "2024-10-21",
                    "2024-10-22",
                    "2024-10-23",
                    "2024-10-24",
                    "2024-10-25",
                    "2024-10-26",
                    "2024-10-27",
                    "2024-10-28",
                    "2024-10-29",
                    "2024-10-30",
                    "2024-10-31",
                    "2024-11-01",
                    "2024-11-02",
                    "2024-11-03",
                    "2024-11-04",
                    "2024-11-05",
                    "2024-11-06",
                    "2024-11-07",
                    "2024-11-08",
                    "2024-11-09",
                    "2024-11-10",
                    "2024-11-11",
                    "2024-11-12",
                    "2024-11-13",
                    "2024-11-14",
                    "2024-11-15",
                    "2024-11-16",
                    "2024-11-17",
                    "2024-11-18",
                    "2024-11-19",
                    "2024-11-20",
                    "2024-11-21",
                    "2024-11-22",
                    "2024-11-23",
                    "2024-11-24",
                    "2024-11-25",
                    "2024-11-26",
                    "2024-11-27",
                    "2024-11-28",
                    "2024-11-29",
                    "2024-11-30",
                    "2024-12-01",
                    "2024-12-02",
                    "2024-12-03",
                    "2024-12-04",
                    "2024-12-05",
                    "2024-12-06",
                    "2024-12-07",
                    "2024-12-08",
                    "2024-12-09",
                    "2024-12-10",
                    "2024-12-11",
                    "2024-12-12",
                    "2024-12-13",
                    "2024-12-14",
                    "2024-12-15",
                    "2024-12-16",
                    "2024-12-17",
                    "2024-12-18",
                    "2024-12-19",
                    "2024-12-20",
                    "2024-12-21",
                    "2024-12-22",
                    "2024-12-23",
                    "2024-12-24",
                    "2024-12-25",
                    "2024-12-26",
                    "2024-12-27",
                    "2024-12-28",
                    "2024-12-29",
                    "2024-12-30",
                    "2024-12-31"
                  ],
                  "xaxis": "x",
                  "y": {
                    "bdata": "aoTlnkZYOkB8jET2Ak0xQA6gE5lDDzlAlPBGU+dXQ0Ac2ZxXhXgyQHew32pj6DtAOdPak39nNUAOGKrpmEsmQGZmZmZmZi5Ag1Jh4v3IJ0ATtStRu5JBQOs2caa1p0JAZGpg75gqSEBFDD9nfKI/QJD8eZXFGSZALIdtFJXNKUC06WO7H94kQLyfsXc/YyFAfsPaN6x9N0C/rPfLer8uQH/KRqZ6bTJA30mWOkJsK0DAblx/3bgmQO/zXVumJyxAUV5DeQ2tM0CQimTHLCUtQG0XwmwXwi5A55xzzjmnMEDX4jNr7oQ0QP9Aj5SQUzhAZsuWLVu2MEBtA/Qp7UEyQIfyGsprKDpAwhT5rBsMQEDbp86qdbc8QLejzyzbkjxAtUK6DsLAL0DH7N1auGkyQLj0qs017jNAdv29S7EBO0Bl+UuWv+Q/QFT+s33XTDxA5LNuMEUOO0DtoE0qfQM5QMA5dbgaeThApsoTpsoTNkAKeFMKeFM1QBXFXW6GXDVAxOh3B77GM0AgRuN9hT44QDAJosxeWTlA3WhreUYuKUAd/Di8jJouQInalahdiTtAtGrd7bSNQ0AGkQeuop1CQOe8KsRTJEJAUZP/0l3ZNUCRz7rBFLkrQJe10/EPLiNAh/Iayms4K0CkQRqkQeJBQB6cJnL4WD5AFfmsG0zBM0CapDxMsMcnQHO6oerwizJAvjFchaWGN0BqV6J2JWouQBzHcRzHcTVAo56zSlcYPUAYePGtPw08QJrI4WPZjT1A2FBeQ3mlPkBjaXAAifgkQBC7I4vVhCxA75lE75nEJ0DZUqxwmCgpQBkZGRkZGRtA1oAr1oCrKECvX+4kFGgwQHsUrkfh+jJAgSbprak7K0AtHVeUWToSQBEZ7bEhMhJAKK+hvIZSH0AGPl3g0wUoQNbV1dXV1TBAOHqCoyf4MUBtF8JsFwIxQK6C78enbShARhdddNGFIUA5wrndhH4rQLAk453lPy1A7pFrhSDDLUDsxE7sxM4tQMj2cVDAhy5AntiJndhpNkBiJ3ZiJ5Y1QKrHs2tGH0JAYR8X9nGBQ0AKmFK5EzApQN4PbwlCzjJA4ZcF4ZeFQEAwWEv4mqFCQEYK3H3HRTtAw0CXNCPrM0Cd0Rmd0RkzQCAYki2iOUFA9xwc7jk4QkA+k+g9kyg1QEqKaAdBVx5AO7ETO7HTJkCNOuH3pLIuQJlcQUyuoCdAVN7tCRnmK0CgBBWObpk5QPtm1fQQRTpA7FS6rLH1NUAu3/It36I5QFRcMgTrqEBA1pQ1ZU1ZK0DfrmBaycE6QJ8u8OkCn0BAntiJndj5QkBIgzRIgwRAQPBiUBFuqThAjBgxYsSoOUA7/qtpGxY6QB2zd2vhJjpAX7169eqlREDYAMJM9shBQKuqqqqqAkBAuHzLt3zrOEBdn65P1ydJQECD30RPZ0NAY2NjY2NjQ0CsEZW7GtFAQOQ4juM47jtAafew9W0ANkDotIFOG4gzQLR72Po2oDBAG8prKK+ROEApF1hBpkpDQF9/8Na1WktAxqHKv354QUCMQUW4pWY3QMGbtE49njFAkBvmZRwMNkBbpDZbpDYlQAiU/57ZhCNAQPuayR1LMUA1sHdMDSw/QEaJn1HiZzlAip3YiZ0wQECwv2JCYNhFQCouGYJ1NDFAB1yxBlwxNkAr/63y3yo2QN16+yS69ThAy+QJiM5XNkB9dY+0Mnk2QKZnYXoWJkBAaVyOxuVoREAAAAAAAABOQJ+F6VmYnkRAoMCDFocqPED5lm/5lj88QN/yLd/yHTRA6aKLLrrIPEBsRl/550g5QK+hvIbycj5AJspcUAOMSkAymLA/srNMQCuTJyA630hAip3YiZ0YNEC9qDglcsQ7QIfyGsprIEBAkAZpkAYBQEAD6C3zHC5QQFFeQ3kN1T1AAAAAAABgPUDSIA3SIF04QC+66KKLLkpA1DXT4qhrSkA=",
                    "dtype": "f8"
                  },
                  "yaxis": "y"
                },
                {
                  "line": {
                    "color": "green"
                  },
                  "mode": "lines",
                  "name": "PM2.5",
                  "type": "scatter",
                  "x": [
                    "2024-07-01",
                    "2024-07-02",
                    "2024-07-03",
                    "2024-07-04",
                    "2024-07-05",
                    "2024-07-06",
                    "2024-07-07",
                    "2024-07-08",
                    "2024-07-09",
                    "2024-07-10",
                    "2024-07-11",
                    "2024-07-12",
                    "2024-07-13",
                    "2024-07-14",
                    "2024-07-15",
                    "2024-07-16",
                    "2024-07-17",
                    "2024-07-18",
                    "2024-07-19",
                    "2024-07-20",
                    "2024-07-21",
                    "2024-07-22",
                    "2024-07-23",
                    "2024-07-24",
                    "2024-07-25",
                    "2024-07-26",
                    "2024-07-27",
                    "2024-07-28",
                    "2024-07-29",
                    "2024-07-30",
                    "2024-07-31",
                    "2024-08-01",
                    "2024-08-02",
                    "2024-08-03",
                    "2024-08-04",
                    "2024-08-05",
                    "2024-08-06",
                    "2024-08-07",
                    "2024-08-08",
                    "2024-08-09",
                    "2024-08-10",
                    "2024-08-11",
                    "2024-08-12",
                    "2024-08-13",
                    "2024-08-14",
                    "2024-08-15",
                    "2024-08-16",
                    "2024-08-17",
                    "2024-08-18",
                    "2024-08-19",
                    "2024-08-20",
                    "2024-08-21",
                    "2024-08-22",
                    "2024-08-23",
                    "2024-08-24",
                    "2024-08-25",
                    "2024-08-26",
                    "2024-08-27",
                    "2024-08-28",
                    "2024-08-29",
                    "2024-08-30",
                    "2024-08-31",
                    "2024-09-01",
                    "2024-09-02",
                    "2024-09-03",
                    "2024-09-04",
                    "2024-09-05",
                    "2024-09-06",
                    "2024-09-07",
                    "2024-09-08",
                    "2024-09-09",
                    "2024-09-10",
                    "2024-09-11",
                    "2024-09-12",
                    "2024-09-13",
                    "2024-09-14",
                    "2024-09-15",
                    "2024-09-16",
                    "2024-09-17",
                    "2024-09-18",
                    "2024-09-19",
                    "2024-09-20",
                    "2024-09-21",
                    "2024-09-22",
                    "2024-09-23",
                    "2024-09-24",
                    "2024-09-25",
                    "2024-09-26",
                    "2024-09-27",
                    "2024-09-28",
                    "2024-09-29",
                    "2024-09-30",
                    "2024-10-01",
                    "2024-10-02",
                    "2024-10-03",
                    "2024-10-04",
                    "2024-10-05",
                    "2024-10-06",
                    "2024-10-07",
                    "2024-10-08",
                    "2024-10-09",
                    "2024-10-10",
                    "2024-10-11",
                    "2024-10-12",
                    "2024-10-13",
                    "2024-10-14",
                    "2024-10-15",
                    "2024-10-16",
                    "2024-10-17",
                    "2024-10-18",
                    "2024-10-19",
                    "2024-10-20",
                    "2024-10-21",
                    "2024-10-22",
                    "2024-10-23",
                    "2024-10-24",
                    "2024-10-25",
                    "2024-10-26",
                    "2024-10-27",
                    "2024-10-28",
                    "2024-10-29",
                    "2024-10-30",
                    "2024-10-31",
                    "2024-11-01",
                    "2024-11-02",
                    "2024-11-03",
                    "2024-11-04",
                    "2024-11-05",
                    "2024-11-06",
                    "2024-11-07",
                    "2024-11-08",
                    "2024-11-09",
                    "2024-11-10",
                    "2024-11-11",
                    "2024-11-12",
                    "2024-11-13",
                    "2024-11-14",
                    "2024-11-15",
                    "2024-11-16",
                    "2024-11-17",
                    "2024-11-18",
                    "2024-11-19",
                    "2024-11-20",
                    "2024-11-21",
                    "2024-11-22",
                    "2024-11-23",
                    "2024-11-24",
                    "2024-11-25",
                    "2024-11-26",
                    "2024-11-27",
                    "2024-11-28",
                    "2024-11-29",
                    "2024-11-30",
                    "2024-12-01",
                    "2024-12-02",
                    "2024-12-03",
                    "2024-12-04",
                    "2024-12-05",
                    "2024-12-06",
                    "2024-12-07",
                    "2024-12-08",
                    "2024-12-09",
                    "2024-12-10",
                    "2024-12-11",
                    "2024-12-12",
                    "2024-12-13",
                    "2024-12-14",
                    "2024-12-15",
                    "2024-12-16",
                    "2024-12-17",
                    "2024-12-18",
                    "2024-12-19",
                    "2024-12-20",
                    "2024-12-21",
                    "2024-12-22",
                    "2024-12-23",
                    "2024-12-24",
                    "2024-12-25",
                    "2024-12-26",
                    "2024-12-27",
                    "2024-12-28",
                    "2024-12-29",
                    "2024-12-30",
                    "2024-12-31"
                  ],
                  "xaxis": "x",
                  "y": {
                    "bdata": "i3rOKl1hL0DvmBrYO+YjQEwVfpgq/CxAZw9t9tBmPkCsBijwoMUlQOACF7jABTFAzUPVF5qHKkC7PJCWRYUYQC9eldiGgyFA8z7FJUOwFEAV7Uzp9Rc5QOfOnTt3bjpA2Ymd2IntQkBK5U7AlMo4QNAX9AV9QRdAt0euFYIMHUCrqqqqqqoQQK6JQK6JQA5A3zdP2yNXMEC4Uep987QiQLAmN6tQUiJAP8UlQ7COGEBRXkN5DcUVQG7zyco0FhlAXzpeNUCBIkBtHfrN1qEfQBljjDHGGB9A+7iwjwv7G0DNs4oaIwUgQERzZYVbbClApXsDysQVIEDWEr5mmOohQPs2YKim4y5AGqRBGqRROECegCmVOwE2QPE1w1RXTjZAkv/86mz6IkBaMJASRWAnQP1jrHhUbitAWCnZmCqSMkCGfVzYx4U3QELQlQbI2zVAH4XrUbh+M0DU+pUCtf4wQHJQwIcUpTBATm1qU5vaLkDDr8ZEeqAsQGnKSWHkbi1An+DoCY6eLEDhJRNeMuEwQKIdBF1pADJAA0K0Tv7TF0DjjHYPW98WQIuNhu6DdTNAFmWWjivKPkC+5Vu+5Zs9QGLI+AI7bztAV2GpoWvxKUDaIXBjGZQeQL3FkM5bDBFAZ5WuMKZaGEAAAAAAABAzQFy+5Vu+5TRAthQrHCbKKEAs59aPCOISQNdfN66/biJAY8kvlvziKkAcIC1UySggQGIOc5jDHCpA7MRO7MQONkD5QTkGSdAzQDpk0Il+/TRAIOIH5RgkNkC9nwQVjm4ZQMGDFocq/xxAjNC9CN2LGEAhhBBCCCEZQB0JwZu0TgVAqoG9Y2pgGEAe7LfaGJokQC7jlnHLOChAYzw9mKGKIEDxg3IMkqD1P2bONYAv7/c/Nzmrbiu4A0D5cj57Am4SQLrCmGpRzx1AkAv7uLCPJEByBTG5gpgiQOl8dY+0MhVATGgvob2EDkDZnFeFeIoYQE/sxE7sxBpAYswjxjxiGECxEzuxE7saQH/UKX/UKRxApEEapEEaKEAN0iAN0iAqQBvAiZSK4jVAYraVQt37N0DhRqn3zdMYQOqhHuqhHiRA4Cnv9oQMNUBlxF6XI/k3QCLQDx2kgDFAB1Pks24QJUCh6vKZfaAoQOQ4juM4fjZAduP668b1NUC6g/1WG0MoQA3SIA3SIAxA2Ymd2IkdDEDXBpBpn+0UQP16Yd0VKBhATwSDKGkWGEAk1wpBhiUuQD3Wk0YLgS1AuKVmw/4uKED5lm/5lq8uQMMpbLn0fjZA5lXnsPCZGUC22hLRz7AuQFK2JmVrUjRAWzTlpDByN0A1SIM0SPMzQB4EXWmAvC1AqFChQoWKKkDEdAuuceYjQM/XFRsN3SdAe/Xq1av3NUA79/BTa5M1QPSjH/3oRzNA8y3f8i2/LkD72WJl+MY9QPCb6OncXjhAYKN3ReZLNUDaBwobBpYxQPlPaFDjSTBAJiizEadtKkDxNcNUV84iQC3OaPew9RpAh6Efaz4UKEB1MhJ8fDk3QJwEx9cfPEJAw5Jwo9T7M0Ce2Imd2IkrQHtt3SW+LyVA8cBKycZUKUAAAAAAAMATQJ6xKfrcLRdAw8T7kdN8J0DYO6YG9s4xQMVO7MROTC9AQhqkQRrUNkC+xvm2L4U7QHkN5TWUVxxAIrB99bhIJUB+87Q9cq0lQLL8JctfsiFApCc4eoKjJkDmW77lW/4nQNHnbpmYkzBAVQNINYBUOkDdUHX4RRNDQAf2jqmBnTZArRBkWBJuL0AAAAAAACAuQCd2Yid2IiNAXm6GXPmPL0Avi/gEUsksQBvKayivQS9A0k99s2p6PkBLXlScEjlDQAVRZq8s8UNATWtP/p3LI0AAAAAAALAwQD/sp2xkqjJAl2/5lm8JNUAzz+Ea/dRAQMprKK+hXCpAT+zETuwkK0B9y7d8yxcsQFCIs/IT4j5A9OjDfsrGM0A=",
                    "dtype": "f8"
                  },
                  "yaxis": "y"
                },
                {
                  "line": {
                    "color": "orange"
                  },
                  "mode": "lines",
                  "name": "Rental",
                  "type": "scatter",
                  "x": [
                    "2024-07-01",
                    "2024-07-02",
                    "2024-07-03",
                    "2024-07-04",
                    "2024-07-05",
                    "2024-07-06",
                    "2024-07-07",
                    "2024-07-08",
                    "2024-07-09",
                    "2024-07-10",
                    "2024-07-11",
                    "2024-07-12",
                    "2024-07-13",
                    "2024-07-14",
                    "2024-07-15",
                    "2024-07-16",
                    "2024-07-17",
                    "2024-07-18",
                    "2024-07-19",
                    "2024-07-20",
                    "2024-07-21",
                    "2024-07-22",
                    "2024-07-23",
                    "2024-07-24",
                    "2024-07-25",
                    "2024-07-26",
                    "2024-07-27",
                    "2024-07-28",
                    "2024-07-29",
                    "2024-07-30",
                    "2024-07-31",
                    "2024-08-01",
                    "2024-08-02",
                    "2024-08-03",
                    "2024-08-04",
                    "2024-08-05",
                    "2024-08-06",
                    "2024-08-07",
                    "2024-08-08",
                    "2024-08-09",
                    "2024-08-10",
                    "2024-08-11",
                    "2024-08-12",
                    "2024-08-13",
                    "2024-08-14",
                    "2024-08-15",
                    "2024-08-16",
                    "2024-08-17",
                    "2024-08-18",
                    "2024-08-19",
                    "2024-08-20",
                    "2024-08-21",
                    "2024-08-22",
                    "2024-08-23",
                    "2024-08-24",
                    "2024-08-25",
                    "2024-08-26",
                    "2024-08-27",
                    "2024-08-28",
                    "2024-08-29",
                    "2024-08-30",
                    "2024-08-31",
                    "2024-09-01",
                    "2024-09-02",
                    "2024-09-03",
                    "2024-09-04",
                    "2024-09-05",
                    "2024-09-06",
                    "2024-09-07",
                    "2024-09-08",
                    "2024-09-09",
                    "2024-09-10",
                    "2024-09-11",
                    "2024-09-12",
                    "2024-09-13",
                    "2024-09-14",
                    "2024-09-15",
                    "2024-09-16",
                    "2024-09-17",
                    "2024-09-18",
                    "2024-09-19",
                    "2024-09-20",
                    "2024-09-21",
                    "2024-09-22",
                    "2024-09-23",
                    "2024-09-24",
                    "2024-09-25",
                    "2024-09-26",
                    "2024-09-27",
                    "2024-09-28",
                    "2024-09-29",
                    "2024-09-30",
                    "2024-10-01",
                    "2024-10-02",
                    "2024-10-03",
                    "2024-10-04",
                    "2024-10-05",
                    "2024-10-06",
                    "2024-10-07",
                    "2024-10-08",
                    "2024-10-09",
                    "2024-10-10",
                    "2024-10-11",
                    "2024-10-12",
                    "2024-10-13",
                    "2024-10-14",
                    "2024-10-15",
                    "2024-10-16",
                    "2024-10-17",
                    "2024-10-18",
                    "2024-10-19",
                    "2024-10-20",
                    "2024-10-21",
                    "2024-10-22",
                    "2024-10-23",
                    "2024-10-24",
                    "2024-10-25",
                    "2024-10-26",
                    "2024-10-27",
                    "2024-10-28",
                    "2024-10-29",
                    "2024-10-30",
                    "2024-10-31",
                    "2024-11-01",
                    "2024-11-02",
                    "2024-11-03",
                    "2024-11-04",
                    "2024-11-05",
                    "2024-11-06",
                    "2024-11-07",
                    "2024-11-08",
                    "2024-11-09",
                    "2024-11-10",
                    "2024-11-11",
                    "2024-11-12",
                    "2024-11-13",
                    "2024-11-14",
                    "2024-11-15",
                    "2024-11-16",
                    "2024-11-17",
                    "2024-11-18",
                    "2024-11-19",
                    "2024-11-20",
                    "2024-11-21",
                    "2024-11-22",
                    "2024-11-23",
                    "2024-11-24",
                    "2024-11-25",
                    "2024-11-26",
                    "2024-11-27",
                    "2024-11-28",
                    "2024-11-29",
                    "2024-11-30",
                    "2024-12-01",
                    "2024-12-02",
                    "2024-12-03",
                    "2024-12-04",
                    "2024-12-05",
                    "2024-12-06",
                    "2024-12-07",
                    "2024-12-08",
                    "2024-12-09",
                    "2024-12-10",
                    "2024-12-11",
                    "2024-12-12",
                    "2024-12-13",
                    "2024-12-14",
                    "2024-12-15",
                    "2024-12-16",
                    "2024-12-17",
                    "2024-12-18",
                    "2024-12-19",
                    "2024-12-20",
                    "2024-12-21",
                    "2024-12-22",
                    "2024-12-23",
                    "2024-12-24",
                    "2024-12-25",
                    "2024-12-26",
                    "2024-12-27",
                    "2024-12-28",
                    "2024-12-29",
                    "2024-12-30",
                    "2024-12-31"
                  ],
                  "xaxis": "x2",
                  "y": {
                    "bdata": "jMgCAAGaAAA7hAIAh2oCAPObAgCJdAEAHkIBAMG/AADn/wEAnGUCAPeyAgAuuQIA0AMCALHHAQBhigIAM28BACLLAAB0pwAAoWsCAA5KAQDHfAEAr04BAKi6AQAp7wEAegACAM/KAQBxKgEAlI4BAEIeAgDxSwIAbUkCAFE4AgB8IwIACJsBAA5eAQAV4QEAYBUCAPImAgC1GAIA3SACAGS/AQAvhQEAfi8CAL8LAgB8BgIAC5ABADMmAgDtnQEARW0BAJwuAgDpPAIAjB0BALbrAQAMTwIAKpwBAFuNAQCeKwIATkYCAGKJAgAKiwIApY0CAJENAgDy6AEAxFgCAN26AgDZsgIAjCwCAAxMAgDyRQIAagECACGaAgD/lwIA41kCAEfyAAAyKAEAxMQBAOqRAQDMXAEAKjYBAPeLAQBjXwIA6r8AAO61AQBPbwIAjN8CAMDqAgBW3QIA568CAFXsAgAolAIAyVsCAL7YAgCmAgIAyrICAJxZAgDMxgIAZ4YCAF+oAQBCpwIAmskCAFdyAgCcvwIAZOMCAJd3AgBWKwIAMp0CAOdfAgBswwIArcMCAF0zAQAd/wEAe94BAC5bAgDEaAAAQjECAJJuAgA6igIAWTgCAG2xAQAzbgIAh1sCALePAgCJjwIA54kCAMs7AgAGBgIAk1YCAOQ4AgCiHgIAkCQCAM88AgCZ6wEA8cMBAMBeAgBdagIAm3wCAAsZAgB2bAIA+jkBABYzAQB0rAEA/eYBAMLkAQDv8QEAwPEBAG1zAQCTTwEAHf4BADmKAACmUQAA0acAALwgAQBP4AAAQeUAAD2IAQADcgEAX3wBAIhGAQB3agEAyQMBANvDAAD0XQEAkHQBAAeBAQBIZwEA5l0BAPv7AAAtyAAA8DABAN1FAQBsKQEACDYBAFY5AQAfmgAAWpQAAHIpAQDXLwEAv7AAAPkNAQDtCgEApLIAAF6qAAB6NgEA8RwBAA==",
                    "dtype": "i4"
                  },
                  "yaxis": "y2"
                }
              ],
              "layout": {
                "annotations": [
                  {
                    "font": {
                      "size": 16
                    },
                    "showarrow": false,
                    "text": "대기질 분포",
                    "x": 0.5,
                    "xanchor": "center",
                    "xref": "paper",
                    "y": 1,
                    "yanchor": "bottom",
                    "yref": "paper"
                  },
                  {
                    "font": {
                      "size": 16
                    },
                    "showarrow": false,
                    "text": "대여량 분포",
                    "x": 0.5,
                    "xanchor": "center",
                    "xref": "paper",
                    "y": 0.425,
                    "yanchor": "bottom",
                    "yref": "paper"
                  }
                ],
                "height": 600,
                "showlegend": true,
                "template": {
                  "data": {
                    "bar": [
                      {
                        "error_x": {
                          "color": "#2a3f5f"
                        },
                        "error_y": {
                          "color": "#2a3f5f"
                        },
                        "marker": {
                          "line": {
                            "color": "#E5ECF6",
                            "width": 0.5
                          },
                          "pattern": {
                            "fillmode": "overlay",
                            "size": 10,
                            "solidity": 0.2
                          }
                        },
                        "type": "bar"
                      }
                    ],
                    "barpolar": [
                      {
                        "marker": {
                          "line": {
                            "color": "#E5ECF6",
                            "width": 0.5
                          },
                          "pattern": {
                            "fillmode": "overlay",
                            "size": 10,
                            "solidity": 0.2
                          }
                        },
                        "type": "barpolar"
                      }
                    ],
                    "carpet": [
                      {
                        "aaxis": {
                          "endlinecolor": "#2a3f5f",
                          "gridcolor": "white",
                          "linecolor": "white",
                          "minorgridcolor": "white",
                          "startlinecolor": "#2a3f5f"
                        },
                        "baxis": {
                          "endlinecolor": "#2a3f5f",
                          "gridcolor": "white",
                          "linecolor": "white",
                          "minorgridcolor": "white",
                          "startlinecolor": "#2a3f5f"
                        },
                        "type": "carpet"
                      }
                    ],
                    "choropleth": [
                      {
                        "colorbar": {
                          "outlinewidth": 0,
                          "ticks": ""
                        },
                        "type": "choropleth"
                      }
                    ],
                    "contour": [
                      {
                        "colorbar": {
                          "outlinewidth": 0,
                          "ticks": ""
                        },
                        "colorscale": [
                          [
                            0,
                            "#0d0887"
                          ],
                          [
                            0.1111111111111111,
                            "#46039f"
                          ],
                          [
                            0.2222222222222222,
                            "#7201a8"
                          ],
                          [
                            0.3333333333333333,
                            "#9c179e"
                          ],
                          [
                            0.4444444444444444,
                            "#bd3786"
                          ],
                          [
                            0.5555555555555556,
                            "#d8576b"
                          ],
                          [
                            0.6666666666666666,
                            "#ed7953"
                          ],
                          [
                            0.7777777777777778,
                            "#fb9f3a"
                          ],
                          [
                            0.8888888888888888,
                            "#fdca26"
                          ],
                          [
                            1,
                            "#f0f921"
                          ]
                        ],
                        "type": "contour"
                      }
                    ],
                    "contourcarpet": [
                      {
                        "colorbar": {
                          "outlinewidth": 0,
                          "ticks": ""
                        },
                        "type": "contourcarpet"
                      }
                    ],
                    "heatmap": [
                      {
                        "colorbar": {
                          "outlinewidth": 0,
                          "ticks": ""
                        },
                        "colorscale": [
                          [
                            0,
                            "#0d0887"
                          ],
                          [
                            0.1111111111111111,
                            "#46039f"
                          ],
                          [
                            0.2222222222222222,
                            "#7201a8"
                          ],
                          [
                            0.3333333333333333,
                            "#9c179e"
                          ],
                          [
                            0.4444444444444444,
                            "#bd3786"
                          ],
                          [
                            0.5555555555555556,
                            "#d8576b"
                          ],
                          [
                            0.6666666666666666,
                            "#ed7953"
                          ],
                          [
                            0.7777777777777778,
                            "#fb9f3a"
                          ],
                          [
                            0.8888888888888888,
                            "#fdca26"
                          ],
                          [
                            1,
                            "#f0f921"
                          ]
                        ],
                        "type": "heatmap"
                      }
                    ],
                    "histogram": [
                      {
                        "marker": {
                          "pattern": {
                            "fillmode": "overlay",
                            "size": 10,
                            "solidity": 0.2
                          }
                        },
                        "type": "histogram"
                      }
                    ],
                    "histogram2d": [
                      {
                        "colorbar": {
                          "outlinewidth": 0,
                          "ticks": ""
                        },
                        "colorscale": [
                          [
                            0,
                            "#0d0887"
                          ],
                          [
                            0.1111111111111111,
                            "#46039f"
                          ],
                          [
                            0.2222222222222222,
                            "#7201a8"
                          ],
                          [
                            0.3333333333333333,
                            "#9c179e"
                          ],
                          [
                            0.4444444444444444,
                            "#bd3786"
                          ],
                          [
                            0.5555555555555556,
                            "#d8576b"
                          ],
                          [
                            0.6666666666666666,
                            "#ed7953"
                          ],
                          [
                            0.7777777777777778,
                            "#fb9f3a"
                          ],
                          [
                            0.8888888888888888,
                            "#fdca26"
                          ],
                          [
                            1,
                            "#f0f921"
                          ]
                        ],
                        "type": "histogram2d"
                      }
                    ],
                    "histogram2dcontour": [
                      {
                        "colorbar": {
                          "outlinewidth": 0,
                          "ticks": ""
                        },
                        "colorscale": [
                          [
                            0,
                            "#0d0887"
                          ],
                          [
                            0.1111111111111111,
                            "#46039f"
                          ],
                          [
                            0.2222222222222222,
                            "#7201a8"
                          ],
                          [
                            0.3333333333333333,
                            "#9c179e"
                          ],
                          [
                            0.4444444444444444,
                            "#bd3786"
                          ],
                          [
                            0.5555555555555556,
                            "#d8576b"
                          ],
                          [
                            0.6666666666666666,
                            "#ed7953"
                          ],
                          [
                            0.7777777777777778,
                            "#fb9f3a"
                          ],
                          [
                            0.8888888888888888,
                            "#fdca26"
                          ],
                          [
                            1,
                            "#f0f921"
                          ]
                        ],
                        "type": "histogram2dcontour"
                      }
                    ],
                    "mesh3d": [
                      {
                        "colorbar": {
                          "outlinewidth": 0,
                          "ticks": ""
                        },
                        "type": "mesh3d"
                      }
                    ],
                    "parcoords": [
                      {
                        "line": {
                          "colorbar": {
                            "outlinewidth": 0,
                            "ticks": ""
                          }
                        },
                        "type": "parcoords"
                      }
                    ],
                    "pie": [
                      {
                        "automargin": true,
                        "type": "pie"
                      }
                    ],
                    "scatter": [
                      {
                        "fillpattern": {
                          "fillmode": "overlay",
                          "size": 10,
                          "solidity": 0.2
                        },
                        "type": "scatter"
                      }
                    ],
                    "scatter3d": [
                      {
                        "line": {
                          "colorbar": {
                            "outlinewidth": 0,
                            "ticks": ""
                          }
                        },
                        "marker": {
                          "colorbar": {
                            "outlinewidth": 0,
                            "ticks": ""
                          }
                        },
                        "type": "scatter3d"
                      }
                    ],
                    "scattercarpet": [
                      {
                        "marker": {
                          "colorbar": {
                            "outlinewidth": 0,
                            "ticks": ""
                          }
                        },
                        "type": "scattercarpet"
                      }
                    ],
                    "scattergeo": [
                      {
                        "marker": {
                          "colorbar": {
                            "outlinewidth": 0,
                            "ticks": ""
                          }
                        },
                        "type": "scattergeo"
                      }
                    ],
                    "scattergl": [
                      {
                        "marker": {
                          "colorbar": {
                            "outlinewidth": 0,
                            "ticks": ""
                          }
                        },
                        "type": "scattergl"
                      }
                    ],
                    "scattermap": [
                      {
                        "marker": {
                          "colorbar": {
                            "outlinewidth": 0,
                            "ticks": ""
                          }
                        },
                        "type": "scattermap"
                      }
                    ],
                    "scattermapbox": [
                      {
                        "marker": {
                          "colorbar": {
                            "outlinewidth": 0,
                            "ticks": ""
                          }
                        },
                        "type": "scattermapbox"
                      }
                    ],
                    "scatterpolar": [
                      {
                        "marker": {
                          "colorbar": {
                            "outlinewidth": 0,
                            "ticks": ""
                          }
                        },
                        "type": "scatterpolar"
                      }
                    ],
                    "scatterpolargl": [
                      {
                        "marker": {
                          "colorbar": {
                            "outlinewidth": 0,
                            "ticks": ""
                          }
                        },
                        "type": "scatterpolargl"
                      }
                    ],
                    "scatterternary": [
                      {
                        "marker": {
                          "colorbar": {
                            "outlinewidth": 0,
                            "ticks": ""
                          }
                        },
                        "type": "scatterternary"
                      }
                    ],
                    "surface": [
                      {
                        "colorbar": {
                          "outlinewidth": 0,
                          "ticks": ""
                        },
                        "colorscale": [
                          [
                            0,
                            "#0d0887"
                          ],
                          [
                            0.1111111111111111,
                            "#46039f"
                          ],
                          [
                            0.2222222222222222,
                            "#7201a8"
                          ],
                          [
                            0.3333333333333333,
                            "#9c179e"
                          ],
                          [
                            0.4444444444444444,
                            "#bd3786"
                          ],
                          [
                            0.5555555555555556,
                            "#d8576b"
                          ],
                          [
                            0.6666666666666666,
                            "#ed7953"
                          ],
                          [
                            0.7777777777777778,
                            "#fb9f3a"
                          ],
                          [
                            0.8888888888888888,
                            "#fdca26"
                          ],
                          [
                            1,
                            "#f0f921"
                          ]
                        ],
                        "type": "surface"
                      }
                    ],
                    "table": [
                      {
                        "cells": {
                          "fill": {
                            "color": "#EBF0F8"
                          },
                          "line": {
                            "color": "white"
                          }
                        },
                        "header": {
                          "fill": {
                            "color": "#C8D4E3"
                          },
                          "line": {
                            "color": "white"
                          }
                        },
                        "type": "table"
                      }
                    ]
                  },
                  "layout": {
                    "annotationdefaults": {
                      "arrowcolor": "#2a3f5f",
                      "arrowhead": 0,
                      "arrowwidth": 1
                    },
                    "autotypenumbers": "strict",
                    "coloraxis": {
                      "colorbar": {
                        "outlinewidth": 0,
                        "ticks": ""
                      }
                    },
                    "colorscale": {
                      "diverging": [
                        [
                          0,
                          "#8e0152"
                        ],
                        [
                          0.1,
                          "#c51b7d"
                        ],
                        [
                          0.2,
                          "#de77ae"
                        ],
                        [
                          0.3,
                          "#f1b6da"
                        ],
                        [
                          0.4,
                          "#fde0ef"
                        ],
                        [
                          0.5,
                          "#f7f7f7"
                        ],
                        [
                          0.6,
                          "#e6f5d0"
                        ],
                        [
                          0.7,
                          "#b8e186"
                        ],
                        [
                          0.8,
                          "#7fbc41"
                        ],
                        [
                          0.9,
                          "#4d9221"
                        ],
                        [
                          1,
                          "#276419"
                        ]
                      ],
                      "sequential": [
                        [
                          0,
                          "#0d0887"
                        ],
                        [
                          0.1111111111111111,
                          "#46039f"
                        ],
                        [
                          0.2222222222222222,
                          "#7201a8"
                        ],
                        [
                          0.3333333333333333,
                          "#9c179e"
                        ],
                        [
                          0.4444444444444444,
                          "#bd3786"
                        ],
                        [
                          0.5555555555555556,
                          "#d8576b"
                        ],
                        [
                          0.6666666666666666,
                          "#ed7953"
                        ],
                        [
                          0.7777777777777778,
                          "#fb9f3a"
                        ],
                        [
                          0.8888888888888888,
                          "#fdca26"
                        ],
                        [
                          1,
                          "#f0f921"
                        ]
                      ],
                      "sequentialminus": [
                        [
                          0,
                          "#0d0887"
                        ],
                        [
                          0.1111111111111111,
                          "#46039f"
                        ],
                        [
                          0.2222222222222222,
                          "#7201a8"
                        ],
                        [
                          0.3333333333333333,
                          "#9c179e"
                        ],
                        [
                          0.4444444444444444,
                          "#bd3786"
                        ],
                        [
                          0.5555555555555556,
                          "#d8576b"
                        ],
                        [
                          0.6666666666666666,
                          "#ed7953"
                        ],
                        [
                          0.7777777777777778,
                          "#fb9f3a"
                        ],
                        [
                          0.8888888888888888,
                          "#fdca26"
                        ],
                        [
                          1,
                          "#f0f921"
                        ]
                      ]
                    },
                    "colorway": [
                      "#636efa",
                      "#EF553B",
                      "#00cc96",
                      "#ab63fa",
                      "#FFA15A",
                      "#19d3f3",
                      "#FF6692",
                      "#B6E880",
                      "#FF97FF",
                      "#FECB52"
                    ],
                    "font": {
                      "color": "#2a3f5f"
                    },
                    "geo": {
                      "bgcolor": "white",
                      "lakecolor": "white",
                      "landcolor": "#E5ECF6",
                      "showlakes": true,
                      "showland": true,
                      "subunitcolor": "white"
                    },
                    "hoverlabel": {
                      "align": "left"
                    },
                    "hovermode": "closest",
                    "mapbox": {
                      "style": "light"
                    },
                    "paper_bgcolor": "white",
                    "plot_bgcolor": "#E5ECF6",
                    "polar": {
                      "angularaxis": {
                        "gridcolor": "white",
                        "linecolor": "white",
                        "ticks": ""
                      },
                      "bgcolor": "#E5ECF6",
                      "radialaxis": {
                        "gridcolor": "white",
                        "linecolor": "white",
                        "ticks": ""
                      }
                    },
                    "scene": {
                      "xaxis": {
                        "backgroundcolor": "#E5ECF6",
                        "gridcolor": "white",
                        "gridwidth": 2,
                        "linecolor": "white",
                        "showbackground": true,
                        "ticks": "",
                        "zerolinecolor": "white"
                      },
                      "yaxis": {
                        "backgroundcolor": "#E5ECF6",
                        "gridcolor": "white",
                        "gridwidth": 2,
                        "linecolor": "white",
                        "showbackground": true,
                        "ticks": "",
                        "zerolinecolor": "white"
                      },
                      "zaxis": {
                        "backgroundcolor": "#E5ECF6",
                        "gridcolor": "white",
                        "gridwidth": 2,
                        "linecolor": "white",
                        "showbackground": true,
                        "ticks": "",
                        "zerolinecolor": "white"
                      }
                    },
                    "shapedefaults": {
                      "line": {
                        "color": "#2a3f5f"
                      }
                    },
                    "ternary": {
                      "aaxis": {
                        "gridcolor": "white",
                        "linecolor": "white",
                        "ticks": ""
                      },
                      "baxis": {
                        "gridcolor": "white",
                        "linecolor": "white",
                        "ticks": ""
                      },
                      "bgcolor": "#E5ECF6",
                      "caxis": {
                        "gridcolor": "white",
                        "linecolor": "white",
                        "ticks": ""
                      }
                    },
                    "title": {
                      "x": 0.05
                    },
                    "xaxis": {
                      "automargin": true,
                      "gridcolor": "white",
                      "linecolor": "white",
                      "ticks": "",
                      "title": {
                        "standoff": 15
                      },
                      "zerolinecolor": "white",
                      "zerolinewidth": 2
                    },
                    "yaxis": {
                      "automargin": true,
                      "gridcolor": "white",
                      "linecolor": "white",
                      "ticks": "",
                      "title": {
                        "standoff": 15
                      },
                      "zerolinecolor": "white",
                      "zerolinewidth": 2
                    }
                  }
                },
                "title": {
                  "text": "대기질, 대여량 분포 시각화"
                },
                "width": 900,
                "xaxis": {
                  "anchor": "y",
                  "domain": [
                    0,
                    1
                  ],
                  "showticklabels": false
                },
                "xaxis2": {
                  "anchor": "y2",
                  "domain": [
                    0,
                    1
                  ],
                  "title": {
                    "text": "날짜"
                  }
                },
                "yaxis": {
                  "anchor": "x",
                  "domain": [
                    0.575,
                    1
                  ],
                  "title": {
                    "text": "대기질"
                  }
                },
                "yaxis2": {
                  "anchor": "x2",
                  "domain": [
                    0,
                    0.425
                  ],
                  "title": {
                    "text": "대여량"
                  }
                }
              }
            }
          },
          "metadata": {},
          "output_type": "display_data"
        }
      ],
      "source": [
        "from plotly.subplots import make_subplots\n",
        "import plotly.graph_objects as go\n",
        "\n",
        "fig = make_subplots(\n",
        "    rows=2, cols=1,\n",
        "    subplot_titles=(\"대기질 분포\", \"대여량 분포\"),\n",
        "    vertical_spacing=0.15  # 세로 subplot이므로 vertical_spacing 사용\n",
        ")\n",
        "\n",
        "# 첫 번째 subplot: PM10과 PM2.5\n",
        "fig.add_trace(\n",
        "    go.Scatter(\n",
        "        x=merged_df['Date'],\n",
        "        y=merged_df['PM10'],\n",
        "        mode='lines',\n",
        "        name='PM10',\n",
        "        line=dict(color='blue')\n",
        "    ),\n",
        "    row=1, col=1\n",
        ")\n",
        "\n",
        "fig.add_trace(\n",
        "    go.Scatter(\n",
        "        x=merged_df['Date'],\n",
        "        y=merged_df['PM2.5'],\n",
        "        mode='lines',\n",
        "        name='PM2.5',\n",
        "        line=dict(color='green')\n",
        "    ),\n",
        "    row=1, col=1\n",
        ")\n",
        "\n",
        "# 두 번째 subplot: Rental\n",
        "fig.add_trace(\n",
        "    go.Scatter(\n",
        "        x=merged_df['Date'],\n",
        "        y=merged_df['Rental'],\n",
        "        mode='lines',\n",
        "        name='Rental',\n",
        "        line=dict(color='orange')\n",
        "    ),\n",
        "    row=2, col=1\n",
        ")\n",
        "\n",
        "fig.update_layout(\n",
        "    title_text=\"대기질, 대여량 분포 시각화\",\n",
        "    height=600,\n",
        "    width=900,\n",
        "    showlegend=True\n",
        ")\n",
        "\n",
        "fig.update_yaxes(title_text=\"대기질\", row=1, col=1)\n",
        "fig.update_yaxes(title_text=\"대여량\", row=2, col=1)\n",
        "\n",
        "# 첫 subplot만 날짜 라벨 숨기고, 두 번째 subplot에는 보이게 함\n",
        "fig.update_xaxes(showticklabels=False, row=1, col=1)\n",
        "fig.update_xaxes(title_text=\"날짜\", row=2, col=1)\n",
        "\n",
        "fig.show()\n"
      ]
    },
    {
      "cell_type": "code",
      "execution_count": null,
      "metadata": {},
      "outputs": [],
      "source": [
        "# 상관계수 해석\n",
        "\n",
        "# 따릉이 대여량(Rental)과 미세먼지(PM10) : -0.27 약한 음의 상관관계\n",
        "# 미세먼지 농도가 따릉이 대여량에 거의 영향을 미치지 않음\n",
        "\n",
        "# 따릉이 대여량(Rental)과 초미세먼지(PM2.5) : 거의 0에 가까운 상관관계\n",
        "# 초미세먼지 농도가 따릉이 대여량과 거의 무관함\n",
        "\n",
        "# 미세먼지/초미세먼지 농도는 따릉이 대여량에 유의미한 영향을 미치지 않음\n",
        "# 미세먼지와 초미세먼지는 매우 강한 상관관계"
      ]
    },
    {
      "cell_type": "markdown",
      "metadata": {},
      "source": [
        "# 마크다운으로 내용 정리\n",
        "- 분석 내용\n",
        "- 분석 목표\n",
        "- 결과\n",
        "- 배운점\n",
        "    - 시계열 데이터별 추가 분석\n",
        "    - 기상 데이터와의 상관관계 분석"
      ]
    }
  ],
  "metadata": {
    "colab": {
      "provenance": []
    },
    "kernelspec": {
      "display_name": "Python 3",
      "name": "python3"
    },
    "language_info": {
      "codemirror_mode": {
        "name": "ipython",
        "version": 3
      },
      "file_extension": ".py",
      "mimetype": "text/x-python",
      "name": "python",
      "nbconvert_exporter": "python",
      "pygments_lexer": "ipython3",
      "version": "3.13.3"
    }
  },
  "nbformat": 4,
  "nbformat_minor": 0
}
