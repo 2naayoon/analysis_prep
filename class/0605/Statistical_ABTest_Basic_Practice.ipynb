{
  "cells": [
    {
      "cell_type": "markdown",
      "metadata": {
        "id": "w3sJBbEQ_zvh"
      },
      "source": [
        "## 🐍 Online Practical AB Test\n",
        "\n",
        "### 1. 온라인 A/B 테스트의 중요성\n",
        "\n",
        "### 💡 개념 (Concept)\n",
        "\n",
        ">온라인 비즈니스에서 사용자가 외부 광고 노출부터 최종 구매(또는 목표 행동)에 이르기까지의 과정을 **퍼널(Funnel)** 이라고 합니다. \n",
        ">\n",
        ">각 퍼널 단계(예: 서비스 진입, 상품 조회, 장바구니 추가, 결제 등)에서 사용자 경험(UX), 상품 구성, 문구 등을 최적화하는 것은 매우 중요합니다.\n",
        ">\n",
        ">온라인 A/B 테스트는 이러한 최적화 과정에서 직관이나 감에 의존하는 대신, **통계적 실험 설계** 를 통해 데이터에 기반한 의사결정을 내릴 수 있도록 돕습니다.\n",
        ">\n",
        ">즉, 두 가지 이상의 버전(A안, B안 등)을 사용자 그룹에게 무작위로 노출시켜 어떤 버전이 더 나은 성과를 보이는지 객관적으로 검증하는 방법입니다.\n",
        "\n",
        "### 💭 생각해볼 점\n",
        "\n",
        "> 우리 서비스의 주요 퍼널은 어떻게 구성되어 있나요?\n",
        "> \n",
        "> 각 퍼널 단계에서 어떤 지표를 개선하고 싶나요?\n",
        "> \n",
        "> A/B 테스트를 통해 어떤 가설을 검증해볼 수 있을까요?\n",
        "---\n",
        "### 2. 빅테크 기업들의 A/B 테스트 사례\n",
        "\n",
        "글로벌 빅테크 기업들은 A/B 테스트를 적극적으로 활용하여 서비스를 개선하고 비즈니스 성과를 극대화하고 있습니다. 이러한 사례들은 A/B 테스트의 강력한 효과와 다양한 활용 가능성을 보여줍니다.\n",
        "\n",
        "> **시장 동향**: 글로벌 A/B 테스트 도구 시장은 빠르게 성장하고 있으며, 2033년에는 203억 달러 규모에 이를 것으로 예상됩니다 (연평균 성장률 11.5%).\n",
        "> \n",
        "> **Google**: 검색 결과 UI, 광고 문구, 링크 색상 등 다양한 요소를 테스트하여 사용자 경험을 최적화하고 수익을 증대시킵니다. (예: 파란색 링크 색상 변경으로 연간 2억 달러 추가 수익)\n",
        "> \n",
        "> **Meta (Facebook)**: Mean2.0 회귀 조정과 같은 고급 방법론을 도입하여 테스트 결과의 신뢰도를 높이고 의사결정 속도를 개선합니다.\n",
        "> \n",
        "> **YouTube**: 썸네일, 제목, 설명 등을 동시에 테스트하는 기능을 도입하여 콘텐츠 클릭률(CTR)과 시청 시간을 최적화합니다.\n",
        "> \n",
        "> **Netflix**: UI, 개인화, 페이지 로딩 시간, CTA 버튼 문구 등 서비스 전반에 걸쳐 A/B 테스트를 수행하여 사용자 경험과 전환율을 향상시킵니다. (예: 'TRY IT NOW' 버튼 문구 효과)\n",
        "> \n",
        "> **Booking.com**: 연간 2만 5천 개 이상의 A/B 테스트를 실행하며, 온보딩 과정, 팝업 문구 등을 최적화합니다.\n",
        "> \n",
        "> **Amazon**: 페이지 레이아웃(예: 너비 고정) 테스트를 통해 콘텐츠 가독성을 높이고 구매 전환율을 개선합니다.\n",
        "> \n",
        "> **현대자동차**: VWO와 같은 도구를 활용하여 시승 신청 페이지의 다변량 테스트를 진행, 클릭률을 크게 향상시킨 사례가 있습니다.\n",
        "> \n",
        "\n",
        "**최신 동향**: 단순 UI 비교를 넘어 사용자 행동 패턴 분석, 고급 통계 기법 활용으로 진화하고 있으며, 디지털 비즈니스의 핵심 성장 전략으로 자리매김하고 있습니다."
      ]
    },
    {
      "cell_type": "markdown",
      "metadata": {
        "id": "fOk1SRIf_zvk"
      },
      "source": [
        "---\n",
        "\n",
        "## 3. 퍼널 단계별 A/B 테스트 아이디어 예시\n",
        "\n",
        "### 💡 개념 (Concept)\n",
        "\n",
        "A/B 테스트는 퍼널의 각 단계에서 다양한 아이디어를 검증하는 데 사용될 수 있습니다. 다음은 몇 가지 예시입니다.\n",
        "\n",
        "* **(외부 광고 노출)** SEO 설정 변경(예: 페이지 타이틀, 메타 설명)에 따른 자연 검색 유입률 차이 분석.\n",
        "\n",
        "* **(서비스 진입)** ATF(Above The Fold, 화면 상단) 영역에 프로모션 배너를 노출하는 것과 베스트셀러 상품 리스트를 보여주는 것 중 어느 것이 초기 이탈률 감소에 효과적인가?\n",
        "* **(카테고리 조회 / 검색)** 모바일 앱에서 카테고리 메뉴를 햄버거 메뉴 안에 숨기는 것과 하단 탭 바에 항상 노출하는 것 중 어느 방식이 카테고리 탐색을 더 활성화시키는가?\n",
        "* **(상품 목록 조회)** 상품 정렬 알고리즘(예: 인기순, 최신순, AI 추천순) 변경이 상품 상세 페이지 조회 수에 미치는 영향.\n",
        "* **(상품 상세 정보)** 상품 상세 페이지에 고객 후기를 상단에 배치하는 것과 하단에 배치하는 것 중 구매 전환율에 더 긍정적인 영향을 미치는 것은?\n",
        "* **(장바구니 추가)** '장바구니 담기' 버튼의 색상이나 문구 변경(예: '지금 담기' vs '장바구니에 추가')이 장바구니 추가율에 미치는 영향.\n",
        "* **(결제 페이지 진입)** 장바구니 페이지에서 '바로 구매' 버튼을 강조하는 것과 '쇼핑 계속하기' 옵션을 함께 제공하는 것 중 결제 페이지 진입률에 더 효과적인 것은?\n",
        "* **(결제 수단 선택)** 간편 결제 옵션(예: 카카오페이, 네이버페이)을 기본 결제 수단 위에 표시하는 것이 결제 완료율을 높이는가?\n",
        "* **(결제 완료)** 결제 완료 후, 관련 상품 추천과 할인 쿠폰 제공 중 어느 것이 추가 구매 또는 재방문율을 높이는가?\n",
        "* **(결제 취소/환불)** 결제 취소 시, 취소 사유를 상세히 묻는 것과 즉시 취소 처리 후 설문조사를 통해 피드백을 받는 것 중 어느 것이 사용자 만족도 유지에 더 나은가?\n",
        "\n",
        "\n",
        "\n"
      ]
    },
    {
      "cell_type": "markdown",
      "metadata": {},
      "source": [
        "\n",
        "### ✏️ 연습 문제 (Practice Problems)\n",
        "\n",
        "1.  자신이 자주 사용하는 온라인 서비스 하나를 선택하고, 해당 서비스의 특정 퍼널 단계에서 개선하고 싶은 부분을 정의한 후, 이를 검증하기 위한 A/B 테스트 아이디어를 구체적으로 작성해 보세요.\n",
        " (가설, 실험군(B안) 내용, 측정 지표 포함)"
      ]
    },
    {
      "cell_type": "markdown",
      "metadata": {},
      "source": [
        "\n",
        "### 쿠팡의 포장 시스템 : \"합포장\" vs \"개별포장\"\n",
        "- 개선안 : 기존 개별 포장에서 합포장으로 변경\n",
        "- 가설 : 합포장 여부에 따라 고객 만족도와 장기 충성도, 재구매율에 영향을 줄 것이다\n",
        "\n",
        "- 추가 테스트 : 합포장 여부를 사용자가 직접 선택하게 하고, 선호율 및 재구매율 비교"
      ]
    },
    {
      "cell_type": "markdown",
      "metadata": {},
      "source": [
        "|항목|합포장|개별포장|\n",
        "|:---|:---:|:---:|\n",
        "|고객 노출 메시지|\"환경을 위해 함께 포장해드려요\"|기존처럼 별도 메시지 X|\n",
        "|고객 타깃|패턴이 비교적 안정된 사용자||"
      ]
    },
    {
      "cell_type": "markdown",
      "metadata": {
        "id": "bRtkX2md_zvk"
      },
      "source": [
        "---\n",
        "\n",
        "## 4. A/B 테스트 설계 시 고려사항\n",
        "\n",
        "### 💡 개념 (Concept)\n",
        "\n",
        "성공적인 A/B 테스트를 위해서는 실험 설계 단계에서 여러 요소를 신중하게 고려해야 합니다.\n",
        "\n",
        "**실험 설계 (Experimental Design)**\n",
        "\n",
        "* **실험 대상 규모**\n",
        "  *  얼마나 많은 사용자를 대상으로 실험을 진행해야 통계적으로 유의미한 결과를 얻을 수 있을까요?  \n",
        "  *  (이는 최소 감지 효과, 통계적 검정력 등과 관련됩니다.)\n",
        "  \n",
        "* **실험 기간**\n",
        "  *  seasonality(계절성), 요일 효과 등을 고려하여 얼마나 오랫동안 실험을 진행해야 할까요? \n",
        "  *  너무 짧으면 우연한 결과에 휘둘릴 수 있고, 너무 길면 다른 외부 요인의 영향을 받을 수 있습니다.\n",
        "* **실험군과 대조군 (Control Group vs. Treatment Group)**\n",
        "  *  일반적으로 하나의 대조군(A)과 하나 이상의 실험군(B, C, ...)을 설정합니다. \n",
        "  *  그룹 수는 테스트하고자 하는 아이디어의 수에 따라 달라집니다.\n",
        "* **사용자 할당 (User Assignment)**\n",
        "  *  사용자를 각 그룹에 어떻게 무작위로, 그리고 일관되게 배정할 것인가? \n",
        "  *  (예: 쿠키 기반, 사용자 ID 기반) 동일 사용자가 여러 그룹에 중복 노출되지 않도록 주의해야 합니다.\n",
        "* **핵심 지표 (Key Metrics)**\n",
        "  *  실험의 성공 여부를 판단할 주요 지표(Primary Metric)와 보조 지표(Secondary Metrics)는 무엇으로 할 것인가? \n",
        "  *  (예: 전환율, 클릭률, 평균 구매액, 이탈률 등) 지표는 가설과 직접적으로 연결되어야 합니다.\n",
        "* **통계적 검정 방법 (Statistical Test Algorithm)**\n",
        "  *  수집된 데이터를 분석하고 가설을 검증하기 위해 어떤 통계적 방법을 사용할 것인가? \n",
        "  *  (예: t-test, z-test, Chi-squared test 등. 이는 지표의 종류에 따라 달라집니다.)\n",
        "  \n",
        "\n",
        "**결과 분석 (Result Analysis)**\n",
        "\n",
        "* **결과 해석**\n",
        "  *  p-value, 신뢰 구간(Confidence Interval) 등을 바탕으로 실험 결과를 어떻게 해석하고, 어떤 결정을 내릴 것인가? \n",
        "  *  통계적 유의성뿐만 아니라 실제 비즈니스 임팩트도 고려해야 합니다.\n",
        "  \n",
        "* **결론 도출 실패 시**\n",
        "  *  실험 결과가 명확하지 않거나 통계적으로 유의미하지 않을 경우, 실험을 폐기할 것인가, 아니면 가설을 수정하여 다시 시도할 것인가?\n",
        "* **부정적 영향 발생 시**\n",
        "  *  실험군이 대조군보다 현저히 낮은 성과를 보이거나 비즈니스에 손실을 초래할 경우, 언제 실험을 중단해야 하는가? (Early Stopping)"
      ]
    },
    {
      "cell_type": "markdown",
      "metadata": {},
      "source": [
        "\n",
        "### ✏️ 연습 문제 (Practice Problems)\n",
        "\n",
        "1.  만약 특정 기능 변경에 대한 A/B 테스트를 일주일간 진행했는데, p-value가 0.2로 나왔습니다. 이 결과를 어떻게 해석해야 할까요? 다음 액션은 무엇이 될 수 있을까요?\n"
      ]
    },
    {
      "cell_type": "markdown",
      "metadata": {
        "id": "eVmbOfnG_zvk"
      },
      "source": [
        "> p-value가 0.2로 나온 경우, 이는 통계적으로 유의미한 결과를 얻지 못했다는 것을 의미합니다. \n",
        "> 일반적인 유의수준(α=0.05)보다 큰 p-value이므로 귀무가설을 기각할 수 없습니다.\n",
        "> \n",
        "> 다음 액션으로 고려할 수 있는 사항들\n",
        "> 1. 실험 기간을 늘려 더 많은 데이터를 수집\n",
        ">\n",
        "> 2. 실험군의 크기를 늘려 통계적 검정력 향상\n",
        ">\n",
        "> 3. 효과 크기(Effect Size)를 재검토하여 실질적인 비즈니스 임팩트가 있는지 확인\n",
        ">\n",
        "> 4. 실험 설계를 재검토하여 다른 변수들의 영향을 최소화"
      ]
    },
    {
      "cell_type": "markdown",
      "metadata": {},
      "source": [
        "2.  새로운 추천 알고리즘(B안)이 기존 알고리즘(A안)보다 클릭률은 높였지만, 사용자의 세션당 페이지뷰 수는 감소시켰습니다. 이 경우 어떤 결정을 내릴 수 있을까요? 고려해야 할 점은 무엇일까요?"
      ]
    },
    {
      "cell_type": "markdown",
      "metadata": {},
      "source": [
        "> 이는 복합적인 결과를 보여주는 경우로, 다음과 같은 관점에서 분석이 필요합니다\n",
        "> \n",
        "> 1. 비즈니스 목표 관점\n",
        ">    - 클릭률 향상이 비즈니스 목표에 얼마나 중요한지\n",
        ">    - 페이지뷰 감소가 수익에 미치는 영향\n",
        "> \n",
        "> 2. 사용자 경험 관점\n",
        ">    - 클릭률이 높아진 것이 사용자의 의도된 행동인지\n",
        ">    - 페이지뷰 감소가 사용자 만족도에 미치는 영향\n",
        "> \n",
        "> 3. 장기적 영향\n",
        ">    - 이러한 변화가 사용자 행동에 장기적으로 어떤 영향을 미칠지\n",
        ">    - 수익 모델에 미치는 영향\n",
        "> \n",
        "> 4. 추가 분석 필요사항\n",
        ">    - 다른 지표들(예: 체류시간, 전환율 등)의 변화 확인\n",
        ">    - 사용자 세그먼트별 차이 분석"
      ]
    },
    {
      "cell_type": "markdown",
      "metadata": {
        "id": "FSPUKxrv_zvk"
      },
      "source": [
        "---\n",
        "\n",
        "## 5. A/B 테스트 기본 단계 및 핵심 통계 개념\n",
        "\n",
        "### 💡 개념 (Concept)\n",
        "\n",
        "A/B 테스트는 다음과 같은 기본 단계를 따르며, 몇 가지 중요한 통계적 개념에 기반합니다.\n",
        "\n",
        "**A/B 테스트 기본 단계**\n",
        "\n",
        "1.  **목표 설정 (Goal Setting)**: 테스트의 목적을 명확히 하고, 측정할 핵심 지표(KPI)를 결정합니다. (예: 웹페이지 클릭률 5% 향상)\n",
        "2.  **가설 수립 (Hypothesis Formulation)**: \"B안은 A안보다 \\[측정 지표]에서 더 나은 성과를 보일 것이다\"와 같이 검증 가능한 가설을 설정합니다. (귀무 가설 $H_0$, 대립 가설 $H_1$)\n",
        "3.  **대상 그룹 분할 (Audience Segmentation)**: 사용자를 무작위로 두 개 이상의 그룹(A, B 등)으로 나누어 각 그룹에게 다른 버전을 제공합니다. 무작위 배정은 외부 요인의 영향을 최소화합니다.\n",
        "4.  **실험 실행 (Experiment Execution)**: 설정된 기간 동안 두 버전을 동시에 운영하며 데이터를 수집합니다. 충분한 데이터가 모일 때까지 진행합니다.\n",
        "5.  **데이터 분석 (Data Analysis)**: 수집된 데이터를 통계적으로 분석하여 어느 버전이 더 나은 성과를 보이는지 검증합니다.\n",
        "\n",
        "**실험 변수의 타입에 따른 통계 검정**\n",
        "\n",
        "* **이산형 변수 (Discrete/Categorical Variable)**: 구매 여부(Yes/No), 클릭 여부(Clicked/Not Clicked), 재방문 여부 등 범주형 데이터.\n",
        "    * 통계 검정 방법: 비율 검정 (z-test for proportions), 카이제곱 검정 ($\\chi^2$-test), 피셔의 정확 검정 (Fisher's Exact Test).\n",
        "* **연속형 변수 (Continuous Variable)**: 구매 금액, 체류 시간, 객단가(Average Order Value) 등 수치형 데이터.\n",
        "    * 통계 검정 방법: t-검정 (t-test), 분산 분석 (ANOVA), 다변량 분산 분석 (MANOVA).\n",
        "\n",
        "**중심극한정리 (Central Limit Theorem, CLT) 와 대수의 법칙 (Law of Large Numbers, LLN):**\n",
        "\n",
        "* **CLT**: 표본의 크기가 충분히 크다면(일반적으로 n ≥ 30), 원래 모집단의 분포 형태와 관계없이 표본 평균의 분포는 정규분포에 가까워집니다. 이는 A/B 테스트에서 정규분포 기반의 통계적 추론(p-value 계산, 신뢰구간 추정 등)을 가능하게 하는 중요한 이론입니다.\n",
        "* **LLN**: 표본의 크기가 커질수록 표본 평균이 모집단의 실제 평균(기대값)에 가까워집니다. 즉, 더 많은 데이터를 모을수록 테스트 결과가 실제 효과(예: 실제 전환율)에 더 근접하게 됩니다.\n",
        "\n",
        "**최소 감지 효과 (Minimum Detectable Effect, MDE)**\n",
        "\n",
        "* 실험에서 통계적으로 유의미한 차이를 감지하고자 하는 **최소한의 효과 크기**를 의미합니다.\n",
        "* MDE는 실험에 필요한 **샘플 사이즈**를 결정하는 데 중요한 요소입니다. MDE가 작을수록 (즉, 더 미세한 차이를 감지하고 싶을수록) 더 많은 샘플이 필요합니다.\n",
        "* MDE 설정은 비즈니스 목표, 이전 데이터 분석, 리소스 제약 등을 고려하여 결정됩니다.\n",
        "* **효과 크기 (Effect Size)**는 두 집단 간 차이의 크기를 나타내는 표준화된 지표입니다.\n",
        "    * 이산형 변수 (비율 차이): Cohen's h  ($h = 2 \\cdot \\arcsin(\\sqrt{p_1}) - 2 \\cdot \\arcsin(\\sqrt{p_2})$)\n",
        "    * 연속형 변수 (평균 차이): Cohen's d ($d = \\frac{\\mu_1 - \\mu_2}{\\sigma_{pooled}}$)\n",
        "\n",
        "**유의수준 (Significance Level, $\\alpha$)**\n",
        "\n",
        "* 귀무 가설($H_0$)이 실제로 참인데도 불구하고 이를 잘못 기각할 확률의 최댓값입니다. 즉, **1종 오류 (Type I Error)**를 범할 확률입니다.\n",
        "* 일반적으로 $\\alpha = 0.05$ (5%) 또는 $\\alpha = 0.01$ (1%)로 설정됩니다.\n",
        "* $\\alpha = 0.05$는 \"실제로는 차이가 없는데, 우연히 차이가 있는 것처럼 보여서 잘못된 결론을 내릴 확률을 5% 이내로 제어하겠다\"는 의미입니다.\n",
        "\n",
        "**통계적 검정력 (Statistical Power, $1-\\beta$):**\n",
        "\n",
        "* 귀무 가설($H_0$)이 실제로 거짓일 때 이를 올바르게 기각할 확률입니다. 즉, **실제 효과가 있을 때 이를 제대로 감지해낼 능력**을 의미합니다.\n",
        "* $beta$ ($\\beta$)는 **2종 오류 (Type II Error)**를 범할 확률 (실제 효과가 있는데 없다고 잘못 판단할 확률)입니다.\n",
        "* 일반적으로 검정력은 $0.8$ (80%) 이상으로 설정하는 것을 목표로 합니다.\n",
        "* 검정력은 표본 크기(n), 효과 크기(MDE), 유의수준($\\alpha$)에 의해 영향을 받습니다.\n",
        "    * 표본 크기가 클수록 검정력 증가\n",
        "    * 효과 크기가 클수록 검정력 증가\n",
        "    * 유의수준이 클수록 (덜 엄격할수록) 검정력 증가 (하지만 1종 오류 위험도 커짐)\n",
        "\n",
        "**p-value**\n",
        "\n",
        "* 귀무 가설($H_0$)이 참이라고 가정했을 때, 현재 관찰된 데이터 또는 그보다 더 극단적인 데이터가 나타날 확률입니다.\n",
        "* p-value가 유의수준($\\alpha$)보다 작으면 (p < $\\alpha$), 귀무 가설을 기각하고 대립 가설($H_1$)을 채택합니다. 이는 관찰된 차이가 통계적으로 유의미하다고 해석합니다.\n",
        "* p-value가 크다고 해서 귀무 가설이 참이라는 증거는 아닙니다. 단지 귀무 가설을 기각할 만큼 충분한 증거가 없다는 의미입니다.\n",
        "\n",
        "**단측 검정 (One-tailed Test) vs. 양측 검정 (Two-tailed Test)**\n",
        "\n",
        "* **양측 검정**: \"A와 B는 차이가 있는가?\" (같지 않다)를 검정. 효과의 방향성을 특정하지 않음 ($H_1: \\mu_A \\neq \\mu_B$).\n",
        "* **단측 검정**: \"B가 A보다 큰가?\" 또는 \"B가 A보다 작은가?\"와 같이 효과의 특정 방향성을 검정 ($H_1: \\mu_B > \\mu_A$ 또는 $H_1: \\mu_B < \\mu_A$).\n",
        "    * **비열등성 테스트 (Non-inferiority Test)**: 새로운 안(B)이 기존 안(A)보다 특정 마진($-\\Delta$) 이상으로 나쁘지 않음을 보이는 단측 검정의 한 형태 ($H_1: \\mu_B - \\mu_A > -\\Delta$). 비용 절감이나 효율성 개선을 위한 변경 시 주로 사용됩니다."
      ]
    },
    {
      "cell_type": "markdown",
      "metadata": {},
      "source": [
        "**비열등성 테스트 (Non-inferiority Test)**\n",
        "\n",
        "* 비열등성 테스트는 새로운 치료법이 기존의 치료법에 비해 통계적으로 유의미하게 열등하지 않음을 증명하기 위해 사용됩니다.\n",
        "\n",
        "* **샘플 사이즈 계산**\n",
        "    * 비열등성 마진과 해당 실험에서 필요로 하는 검정력과 유의 수준을 기반으로 계산됩니다.\n",
        "    * 마진이란? 마진 아래로 차이나는 것은 차이가 없다고 간주합니다.\n",
        "    * 트리트먼트가 기존보다 열등하지 않다는 것을 증명하기 위해 필요한 증거의 수준(통계적 검정력)이 매우 중요하므로, 비교적 큰 샘플 사이즈가 필요합니다.\n",
        "    * 검정력이 충분하지 않으면, 실제로 차이가 있음에도 불구하고 이를 감지하지 못할 위험이 발생합니다.\n",
        "\n",
        "* **통계적 구조**\n",
        "    | 요소 | 설명 |\n",
        "    |------|------|\n",
        "    | 귀무가설(H₀) | 새로운 것이 더 나쁘다 (효과 차이 ≤ −Δ) |\n",
        "    | 대립가설(H₁) | 새로운 것이 비열등하다 (효과 차이 > −Δ) |\n",
        "    | Δ: 비열등성 마진 | 허용 가능한 최대 차이. 예: -5%, -0.1 등 |\n",
        "    | 검정 방식 | → 오른쪽 한쪽 꼬리만 보는 단측 검정입니다. |\n",
        "\n",
        "* **사례**\n",
        "    * 특정 UI의 복잡성을 낮추기 위해, 디자인 요소를 덜어내는 작업을 한 뒤, 비즈니스 메트릭에 유해한 영향이 없는지 판단\n",
        "    * 특정 서비스를 유지하기 위한 비용을 절감하기 위해, 일부 서비스를 중단해도 비즈니스에 악영향이 없는지 판단하고 싶을 때\n",
        "\n",
        "* **장점**: 테스트 설계 비용이 거의 들어가지 않아, 자주 테스트가 가능합니다.\n",
        "\n",
        "**요약비교**\n",
        "\n",
        "| 테스트 유형 | 귀무가설 | 대립가설 | 꼬리 방향 |\n",
        "|------------|----------|----------|------------|\n",
        "| 양측 검정 | 차이 = 0 | 차이 ≠ 0 | 양측 |\n",
        "| 단측 검정 | 차이 ≤ 0 or ≥ 0 | 차이 > 0 or < 0 | 한쪽 |\n",
        "| 비열등성 검정 | 차이 ≤ −Δ | 차이 > −Δ | 오른쪽 단측 |\n",
        "| 동등성 검정 | 차이 ≥ Δ | 차이 < Δ | 양측 |\n"
      ]
    },
    {
      "cell_type": "markdown",
      "metadata": {},
      "source": [
        "### 메트릭별 상관관계\n",
        "___\n",
        "\n",
        "| 변경 변수      | 샘플사이즈  ↑ | 샘플사이즈 ↓  | 표준편차  ↑ | 표준편차 ↓  | 유의수준  ↑ | 유의수준 ↓  | 최소감지효과 ↓  | 최소감지효과  ↑ |\n",
        "|-------------|----------------|----------------|---------------|---------------|--------------|--------------|-------------------|-------------------|\n",
        "| **검정력**    | ↑             | ↓             | ↓            | ↑            | ↓          | ↑          | ↑                 | ↓                 |\n",
        "| **샘플사이즈** | -              | -              | ↑            | ↓            | ↓          | ↑          | ↓                 | ↑                 |\n",
        "| **표준편차**  | ↓             | ↑             | -             | -             | ↓          | ↑          | -                 | -                 |\n",
        "| **유의수준**  | ↑             | ↓             | ↑            | ↓            | -          | -          | -                 | -                 |\n",
        "| **최소감지효과** | ↓             | ↑             | ↓            | ↑            | -          | -          | -                 | -                 |\n"
      ]
    },
    {
      "cell_type": "markdown",
      "metadata": {},
      "source": [
        "\n",
        "### 💻 예시 코드 (Example Code)\n",
        "\n",
        "**1. 이산형 변수 샘플 사이즈 계산 (비율)**\n",
        "\n",
        "현재 웹사이트의 구매 전환율(Control)이 2%라고 가정하고, \n",
        "\n",
        "새로운 디자인(Experiment)을 통해 전환율을 2.5%로 0.5%p (상대적으로 25% 증가) 개선하는 것을 목표로 할 때 필요한 샘플 사이즈를 계산합니다. \n",
        "\n",
        "(유의수준 $\\alpha=0.05$, 검정력 $1-\\beta=0.8$)"
      ]
    },
    {
      "cell_type": "code",
      "execution_count": null,
      "metadata": {
        "id": "f8Y_iGDc_zvl"
      },
      "outputs": [
        {
          "name": "stdout",
          "output_type": "stream",
          "text": [
            "계산된 효과 크기 (Cohen's h): -0.0338\n",
            "각 그룹에 필요한 최소 표본 크기: 13768\n",
            "총 필요한 최소 표본 크기: 27536\n"
          ]
        }
      ],
      "source": [
        "import statsmodels.stats.power as smp\n",
        "from statsmodels.stats.proportion import proportion_effectsize\n",
        "import numpy as np\n",
        "\n",
        "# 현재 전환율 (대조군)\n",
        "control_rate = 0.02\n",
        "# 목표 전환율 (실험군)\n",
        "experiment_rate = 0.025\n",
        "\n",
        "# 효과 크기 계산 (Cohen's h)\n",
        "# h = 2 * arcsin(sqrt(p1)) - 2 * arcsin(sqrt(p2))\n",
        "effect_size_h = proportion_effectsize(control_rate, experiment_rate)\n",
        "# 또는 직접 계산:\n",
        "# effect_size_h_manual = 2 * (np.arcsin(np.sqrt(experiment_rate)) - np.arcsin(np.sqrt(control_rate)))\n",
        "\n",
        "# 유의 수준 및 검정력 설정\n",
        "alpha = 0.05\n",
        "power = 0.8\n",
        "\n",
        "# 양측 검정을 위한 샘플 사이즈 계산 (각 그룹당)\n",
        "sample_size_prop = smp.NormalIndPower().solve_power(\n",
        "    effect_size=effect_size_h,\n",
        "    alpha=alpha,\n",
        "    power=power,\n",
        "    ratio=1, # 실험군과 대조군의 샘플 크기 비율 (1:1)\n",
        "    alternative='two-sided' # 양측 검정\n",
        ")\n",
        "\n",
        "# # 양측 검정을 위한 샘플 사이즈 계산 (각 그룹당)\n",
        "# power = smp.NormalIndPower().solve_power(\n",
        "#     effect_size=effect_size_h,\n",
        "#     alpha=alpha,\n",
        "#     ratio=1, # 실험군과 대조군의 샘플 크기 비율 (1:1)\n",
        "#     alternative='two-sided' # 양측 검정\n",
        "# )\n",
        "\n",
        "# # 양측 검정을 위한 샘플 사이즈 계산 (각 그룹당)\n",
        "# effect_size = smp.NormalIndPower().solve_power(\n",
        "#     alpha=alpha,\n",
        "#     power=power,\n",
        "#     ratio=1, # 실험군과 대조군의 샘플 크기 비율 (1:1)\n",
        "#     alternative='two-sided' # 양측 검정\n",
        "# )\n",
        "\n",
        "print(f\"계산된 효과 크기 (Cohen's h): {effect_size_h:.4f}\")\n",
        "print(f\"각 그룹에 필요한 최소 표본 크기: {np.ceil(sample_size_prop):.0f}\")\n",
        "print(f\"총 필요한 최소 표본 크기: {np.ceil(sample_size_prop * 2):.0f}\")"
      ]
    },
    {
      "cell_type": "markdown",
      "metadata": {
        "id": "ujgoizua_zvl"
      },
      "source": [
        "**2. 연속형 변수 샘플 사이즈 계산 (평균)**\n",
        "\n",
        "현재 사용자의 평균 구매 금액(Control)이 50달러이고, 새로운 추천 알고리즘(Experiment)을 통해 이를 55달러로 5달러 증가시키는 것을 목표로 합니다. \n",
        "\n",
        "과거 데이터 분석 결과, 구매 금액의 표준편차는 10달러로 가정합니다. \n",
        "\n",
        "(유의수준 $\\alpha=0.05$, 검정력 $1-\\beta=0.8$)"
      ]
    },
    {
      "cell_type": "code",
      "execution_count": 2,
      "metadata": {
        "id": "bGBsEh2A_zvl"
      },
      "outputs": [
        {
          "name": "stdout",
          "output_type": "stream",
          "text": [
            "계산된 효과 크기 (Cohen's d): 0.5000\n",
            "각 그룹에 필요한 최소 표본 크기: 64\n",
            "총 필요한 최소 표본 크기: 128\n"
          ]
        }
      ],
      "source": [
        "import statsmodels.stats.power as smp\n",
        "import numpy as np\n",
        "\n",
        "# 현재 평균 구매 금액 (대조군)\n",
        "control_mean = 50\n",
        "# 목표 평균 구매 금액 (실험군)\n",
        "experiment_mean = 55\n",
        "# 표준 편차 (가정)\n",
        "std_dev = 10\n",
        "\n",
        "# 효과 크기 계산 (Cohen's d)\n",
        "# d = (mean1 - mean2) / std_dev_pooled\n",
        "effect_size_d = (experiment_mean - control_mean) / std_dev\n",
        "\n",
        "# 유의 수준 및 검정력 설정\n",
        "alpha = 0.05\n",
        "power = 0.8\n",
        "\n",
        "# 양측 검정을 위한 샘플 사이즈 계산 (각 그룹당)\n",
        "# TTestIndPower는 t-test를 기반으로 하므로, 정규분포 가정이 필요합니다.\n",
        "sample_size_mean = smp.TTestIndPower().solve_power(\n",
        "    effect_size=effect_size_d,\n",
        "    alpha=alpha,\n",
        "    power=power,\n",
        "    ratio=1,\n",
        "    alternative='two-sided' # 'larger' 또는 'smaller'로 단측 검정 가능\n",
        ")\n",
        "\n",
        "print(f\"계산된 효과 크기 (Cohen's d): {effect_size_d:.4f}\")\n",
        "print(f\"각 그룹에 필요한 최소 표본 크기: {np.ceil(sample_size_mean):.0f}\")\n",
        "print(f\"총 필요한 최소 표본 크기: {np.ceil(sample_size_mean * 2):.0f}\")"
      ]
    },
    {
      "cell_type": "markdown",
      "metadata": {},
      "source": [
        "**3. 비열등성 테스트를 위한 샘플 사이즈 계산 (평균)**\n",
        " \n",
        "현재 사용자의 평균 구매 금액(Control)이 50달러이고, 새로운 추천 알고리즘(Experiment)이 기존 대비 최소 2달러 이상의 개선을 보장해야 합니다. \n",
        "\n",
        "과거 데이터 분석 결과, 구매 금액의 표준편차는 10달러로 가정합니다. \n",
        "\n",
        "비열등성 마진은 2달러로 설정하며, 유의수준 $\\alpha=0.05$, 검정력 $1-\\beta=0.8$로 설정합니다."
      ]
    },
    {
      "cell_type": "code",
      "execution_count": 3,
      "metadata": {},
      "outputs": [
        {
          "name": "stdout",
          "output_type": "stream",
          "text": [
            "기본 효과 크기 (Cohen's d): 0.5000\n",
            "비열등성 테스트 효과 크기: 0.3000\n",
            "각 그룹에 필요한 최소 표본 크기: 176\n",
            "총 필요한 최소 표본 크기: 351\n"
          ]
        }
      ],
      "source": [
        "from statsmodels.stats.power import TTestIndPower\n",
        "import numpy as np\n",
        "\n",
        "# 비열등성 테스트를 위한 설정\n",
        "control_mean = 50  # 대조군 평균\n",
        "experiment_mean = 55  # 실험군 평균\n",
        "std_dev = 10  # 표준편차\n",
        "non_inferiority_margin = 2  # 비열등성 마진 (예: 2달러)\n",
        "\n",
        "# 기본 효과 크기 계산 (Cohen's d)\n",
        "effect_size_d = (experiment_mean - control_mean) / std_dev\n",
        "\n",
        "# 비열등성 테스트를 위한 효과 크기 조정\n",
        "effect_size_non_inferiority = effect_size_d - (non_inferiority_margin / std_dev)\n",
        "\n",
        "# 유의 수준 및 검정력 설정\n",
        "alpha = 0.05\n",
        "power = 0.8\n",
        "\n",
        "# 비열등성 테스트를 위한 샘플 사이즈 계산\n",
        "sample_size_non_inferiority = TTestIndPower().solve_power(\n",
        "    effect_size=effect_size_non_inferiority,\n",
        "    alpha=alpha,\n",
        "    power=power,\n",
        "    ratio=1,\n",
        "    alternative='two-sided'\n",
        ")\n",
        "\n",
        "print(f\"기본 효과 크기 (Cohen's d): {effect_size_d:.4f}\")\n",
        "print(f\"비열등성 테스트 효과 크기: {effect_size_non_inferiority:.4f}\")\n",
        "print(f\"각 그룹에 필요한 최소 표본 크기: {np.ceil(sample_size_non_inferiority):.0f}\")\n",
        "print(f\"총 필요한 최소 표본 크기: {np.ceil(sample_size_non_inferiority * 2):.0f}\")\n"
      ]
    },
    {
      "cell_type": "markdown",
      "metadata": {
        "id": "pSDy5D3w_zvm"
      },
      "source": [
        "**3. 중심극한정리(CLT) 시각화 예시 (이항분포의 정규분포 근사)**\n",
        "\n",
        "구매 확률이 0.3인 이항 분포에서 샘플 크기를 늘려갈 때, 표본 합(또는 평균)의 분포가 어떻게 정규분포에 가까워지는지 시각화합니다."
      ]
    },
    {
      "cell_type": "code",
      "execution_count": null,
      "metadata": {
        "id": "z33-6J3a_zvm"
      },
      "outputs": [
        {
          "data": {
            "application/vnd.plotly.v1+json": {
              "config": {
                "plotlyServerURL": "https://plot.ly"
              },
              "data": [
                {
                  "marker": {
                    "color": "blue"
                  },
                  "name": "이항분포 샘플",
                  "opacity": 0.7,
                  "type": "bar",
                  "x": {
                    "bdata": "ERERERERwT+amZmZmZnZP1ZVVVVVVeU/3t3d3d3d7T8zMzMzMzPzP3h3d3d3d/c/vLu7u7u7+z8AAAAAAAAAQCIiIiIiIgJAREREREREBEBmZmZmZmYGQIiIiIiIiAhAq6qqqqqqCkDNzMzMzMwMQO/u7u7u7g5AiIiIiIiIEECamZmZmZkRQKqqqqqqqhJAvLu7u7u7E0DMzMzMzMwUQN7d3d3d3RVA7u7u7u7uFkAAAAAAAAAYQBERERERERlAIiIiIiIiGkA0MzMzMzMbQERERERERBxAVlVVVVVVHUBmZmZmZmYeQHh3d3d3dx9A",
                    "dtype": "f8"
                  },
                  "y": {
                    "bdata": "5/up8dJNuj8AAAAAAAAAAAAAAAAAAAAAANV46SYx3j8AAAAAAAAAAAAAAAAAAAAAAAAAAAAAAACbmZmZmZnrPwAAAAAAAAAAAAAAAAAAAAAAAAAAAAAAAKWd76fGS+8/AAAAAAAAAAAAAAAAAAAAAAAAAAAAAAAAXo/C9Shc6D8AAAAAAAAAAAAAAAAAAAAAMwisHFpk2T8AAAAAAAAAAAAAAAAAAAAAAAAAAAAAAACAarx0kxjCPwAAAAAAAAAAAAAAAAAAAAAAAAAAAAAAAL50kxgEVp4/AAAAAAAAAAAAAAAAAAAAAPt+arx0k3g/",
                    "dtype": "f8"
                  }
                },
                {
                  "line": {
                    "color": "red",
                    "dash": "dash"
                  },
                  "mode": "lines",
                  "name": "정규근사",
                  "type": "scatter",
                  "x": {
                    "bdata": "ERERERERwT+amZmZmZnZP1ZVVVVVVeU/3t3d3d3d7T8zMzMzMzPzP3h3d3d3d/c/vLu7u7u7+z8AAAAAAAAAQCIiIiIiIgJAREREREREBEBmZmZmZmYGQIiIiIiIiAhAq6qqqqqqCkDNzMzMzMwMQO/u7u7u7g5AiIiIiIiIEECamZmZmZkRQKqqqqqqqhJAvLu7u7u7E0DMzMzMzMwUQN7d3d3d3RVA7u7u7u7uFkAAAAAAAAAYQBERERERERlAIiIiIiIiGkA0MzMzMzMbQERERERERBxAVlVVVVVVHUBmZmZmZmYeQHh3d3d3dx9A",
                    "dtype": "f8"
                  },
                  "y": {
                    "bdata": "Pfb/yuzroz8EsTWyGzCsP9/+IeA2R7M/vgb12ch9uT8soggv1krAPw3M24/qIcQ/CwctTqkMyD+8TmvioMXLPygvdwS+AM8/dFNaIYq60D/KFkrFs3PRP+lUbEGvmdE/cZJhA7Io0T9R4vo/8yvQP55eoWCsd80/semOlRL0yT8drPgL6hjGPywnpFEPMMI/9fpHh17xvD9Xm/U+HkO2Px7Z+zetjbA/98UUYCrMpz/teml2TYmgP0piXPNbN5Y/fBO+EnPajD/ocnqy3RyCPwA1RJjH+3U/vrdeBQjLaT9Jjuk4VkFdP/iD/1XjCVA/",
                    "dtype": "f8"
                  }
                }
              ],
              "frames": [
                {
                  "data": [
                    {
                      "marker": {
                        "color": "blue"
                      },
                      "name": "이항분포 샘플",
                      "opacity": 0.7,
                      "type": "bar",
                      "x": {
                        "bdata": "MzMzMzMzwz/MzMzMzMzcPwAAAAAAAOg/zMzMzMzM8D+amZmZmZn1P2ZmZmZmZvo/MzMzMzMz/z8AAAAAAAACQGZmZmZmZgRAzMzMzMzMBkAzMzMzMzMJQJmZmZmZmQtAAAAAAAAADkAzMzMzMzMQQGZmZmZmZhFAmpmZmZmZEkDMzMzMzMwTQAAAAAAAABVAMzMzMzMzFkBmZmZmZmYXQJqZmZmZmRhAzMzMzMzMGUAAAAAAAAAbQDIzMzMzMxxAZmZmZmZmHUCamZmZmZkeQMzMzMzMzB9AAAAAAACAIECamZmZmRkhQDMzMzMzsyFA",
                        "dtype": "f8"
                      },
                      "y": {
                        "bdata": "hTJ6W9bquD8AAAAAAAAAAAAAAAAAAAAAtIFOG+i02T8AAAAAAAAAAAAAAAAAAAAAGrByaJHt6D8AAAAAAAAAAAAAAAAAAAAAAAAAAAAAAAC4D59hV4DsPwAAAAAAAAAAAAAAAAAAAAD6Riijt2XlPwAAAAAAAAAAAAAAAAAAAADIILByaJHVPwAAAAAAAAAAAAAAAAAAAAAAAAAAAAAAAIP4DLsC5L4/AAAAAAAAAAAAAAAAAAAAAIldAXKvuaA/AAAAAAAAAAAAAAAAAAAAAKni7MNn2HU/AAAAAAAAAAAAAAAAAAAAAJfi7MNn2DU/",
                        "dtype": "f8"
                      }
                    },
                    {
                      "line": {
                        "color": "red",
                        "dash": "dash"
                      },
                      "mode": "lines",
                      "name": "정규근사",
                      "type": "scatter",
                      "x": {
                        "bdata": "MzMzMzMzwz/MzMzMzMzcPwAAAAAAAOg/zMzMzMzM8D+amZmZmZn1P2ZmZmZmZvo/MzMzMzMz/z8AAAAAAAACQGZmZmZmZgRAzMzMzMzMBkAzMzMzMzMJQJmZmZmZmQtAAAAAAAAADkAzMzMzMzMQQGZmZmZmZhFAmpmZmZmZEkDMzMzMzMwTQAAAAAAAABVAMzMzMzMzFkBmZmZmZmYXQJqZmZmZmRhAzMzMzMzMGUAAAAAAAAAbQDIzMzMzMxxAZmZmZmZmHUCamZmZmZkeQMzMzMzMzB9AAAAAAACAIECamZmZmRkhQDMzMzMzsyFA",
                        "dtype": "f8"
                      },
                      "y": {
                        "bdata": "8zGRoPBgpD+AI1UzXvitPwT3UvUOHbU/cZ6S0xCAvD/lwna6vm3CP+hA7/ks1cY/VZyhQjgayz/tS09xKdLOP3S5nl0lytA/KTEBQ1uG0T8pMQFDW4bRP3S5nl0lytA/7UtPcSnSzj9WnKFCOBrLP+tA7/ks1cY/48J2ur5twj94npLTEIC8PwT3UvUOHbU/gCNVM174rT/1MZGg8GCkP4zJhnEJjZo/fD4dWBmSkD9WuFOC79CDPz4Nyt3+s3Y/KNpdsGHraD+rIyenZzRaP4Cy4Rp0Zko/97puNTt7OT/Ql+IsD5AnP/zybHfe3xQ/",
                        "dtype": "f8"
                      }
                    }
                  ],
                  "name": "n=10"
                },
                {
                  "data": [
                    {
                      "marker": {
                        "color": "blue"
                      },
                      "name": "이항분포 샘플",
                      "opacity": 0.7,
                      "type": "bar",
                      "x": {
                        "bdata": "3t3d3d3dzT9mZmZmZmbmP6qqqqqqqvI/IiIiIiIi+j/NzMzMzMwAQIiIiIiIiARARERERERECEAAAAAAAAAMQLy7u7u7uw9AvLu7u7u7EUCamZmZmZkTQHh3d3d3dxVAVVVVVVVVF0AzMzMzMzMZQBERERERERtA7+7u7u7uHEDNzMzMzMweQFZVVVVVVSBAREREREREIUA0MzMzMzMiQCIiIiIiIiNAEhERERERJEAAAAAAAAAlQO/u7u7u7iVA3t3d3d3dJkDMzMzMzMwnQLy7u7u7uyhAqqqqqqqqKUCamZmZmZkqQIiIiIiIiCtA",
                        "dtype": "f8"
                      },
                      "y": {
                        "bdata": "RH8nq+WNYT8AAAAAAAAAANvO91PjpYs/AAAAAAAAAABQgVIy/GawPwAAAAAAAAAAMrlVUT5Bwz8AAAAAAAAAAEkMAiuHFtE/AAAAAAAAAAB7PzVeuknYPwAAAAAAAAAAYgQT/Z2s2j8AAAAAAAAAAAAAAAAAAAAACVGBUjL81j8AAAAAAAAAALP/QhGPBc8/AAAAAAAAAAA8CtejcD3CPwAAAAAAAAAAQwVKyfCbsT8AAAAAAAAAAPPmgcwP3ps/AAAAAAAAAAC/vlwJoNd9PwAAAAAAAAAArX6tzQOZXz8AAAAAAAAAANP+C0U8Fiw/",
                        "dtype": "f8"
                      }
                    },
                    {
                      "line": {
                        "color": "red",
                        "dash": "dash"
                      },
                      "mode": "lines",
                      "name": "정규근사",
                      "type": "scatter",
                      "x": {
                        "bdata": "3t3d3d3dzT9mZmZmZmbmP6qqqqqqqvI/IiIiIiIi+j/NzMzMzMwAQIiIiIiIiARARERERERECEAAAAAAAAAMQLy7u7u7uw9AvLu7u7u7EUCamZmZmZkTQHh3d3d3dxVAVVVVVVVVF0AzMzMzMzMZQBERERERERtA7+7u7u7uHEDNzMzMzMweQFZVVVVVVSBAREREREREIUA0MzMzMzMiQCIiIiIiIiNAEhERERERJEAAAAAAAAAlQO/u7u7u7iVA3t3d3d3dJkDMzMzMzMwnQLy7u7u7uyhAqqqqqqqqKUCamZmZmZkqQIiIiIiIiCtA",
                        "dtype": "f8"
                      },
                      "y": {
                        "bdata": "6G49/y1vbj9DdUNSKyR8P2ME6WfItIg/iE6nQyiYlD8pKD7PpkygP/iWnmElf6g/fKHA7mB6sT9GBkzBMK63PyynEk9vdr4/V/2lz4Oawj+I1QT+A5PFP0Xn6KJPwcc/L0CbErDVyD9ygw6OxKbIPzqk9EypO8c/lCrzgTPKxD/6RQjb3KnBP8ELlX99f7w/cO/7nNLTtT+R9hcvN7+vP7PwagOr66U/fGe+YeO9nD/ew2ff/+ORP9ZP7bChJYU/Z2VjSKe7dz9bPzpzFUppP1c8of0Mllk/XCI3VgyUSD/np4icymo2P5/be1GyaSM/",
                        "dtype": "f8"
                      }
                    }
                  ],
                  "name": "n=20"
                },
                {
                  "data": [
                    {
                      "marker": {
                        "color": "blue"
                      },
                      "name": "이항분포 샘플",
                      "opacity": 0.7,
                      "type": "bar",
                      "x": {
                        "bdata": "ERERERER9T8zMzMzMzP/P6qqqqqqqgRAvLu7u7u7CUDMzMzMzMwOQO7u7u7u7hFAeHd3d3d3FEAAAAAAAAAXQIiIiIiIiBlAEBERERERHECamZmZmZkeQBERERERkSBAVVVVVVXVIUCamZmZmRkjQN7d3d3dXSRAIiIiIiKiJUBmZmZmZuYmQKqqqqqqKihA7u7u7u5uKUAzMzMzM7MqQHd3d3d39ytAvLu7u7s7LUAAAAAAAIAuQERERERExC9ARERERESEMEBmZmZmZiYxQIiIiIiIyDFAqqqqqqpqMkDNzMzMzAwzQO/u7u7urjNA",
                        "dtype": "f8"
                      },
                      "y": {
                        "bdata": "xbs+dhGyRD/Fuz52EbJkPwAAAAAAAAAA+n5qvHSTiD+D8+t1diOhPwAAAAAAAAAAa5uywa2ssj9xQde1zz/APwAAAAAAAAAAuhbrLfoZyT8AAAAAAAAAAMN0kxgEVs4/Hust+hn5zz8AAAAAAAAAAJ8Qapi2jsw/umMFwkg7xj8AAAAAAAAAAC5DZ67ib74/ZO7Euz52sT8AAAAAAAAAAHKbssGtrKI/AAAAAAAAAABQ5HZHzxuSP910HEgFOXk/AAAAAAAAAABQ5HZHzxtiP8m7PnYRskQ/AAAAAAAAAADJuz52EbI0P8m7PnYRsiQ/",
                        "dtype": "f8"
                      }
                    },
                    {
                      "line": {
                        "color": "red",
                        "dash": "dash"
                      },
                      "mode": "lines",
                      "name": "정규근사",
                      "type": "scatter",
                      "x": {
                        "bdata": "ERERERER9T8zMzMzMzP/P6qqqqqqqgRAvLu7u7u7CUDMzMzMzMwOQO7u7u7u7hFAeHd3d3d3FEAAAAAAAAAXQIiIiIiIiBlAEBERERERHECamZmZmZkeQBERERERkSBAVVVVVVXVIUCamZmZmRkjQN7d3d3dXSRAIiIiIiKiJUBmZmZmZuYmQKqqqqqqKihA7u7u7u5uKUAzMzMzM7MqQHd3d3d39ytAvLu7u7s7LUAAAAAAAIAuQERERERExC9ARERERESEMEBmZmZmZiYxQIiIiIiIyDFAqqqqqqpqMkDNzMzMzAwzQO/u7u7urjNA",
                        "dtype": "f8"
                      },
                      "y": {
                        "bdata": "uuqiucAJWD/KrMs/kzRpPzc1S3KPzHg/htq0Pe7khj/i87qy/9STP/Z5Ix2kHqA/hG7kuo+WqD/+tmAekpixP58obaKDobc/Udg8nDDHvT+h2zgE15rBP0AWwiAxiMM/ebVs61pVxD9XSnjWrNzDP0uX7u9rNMI/LEh92ihQvz9NS/H610S5Px30WQgyIrM/ftuLeT8wqz8W1IugJyCiP9Nvdq86rZY/sWBGG9aeij8za27yjVJ9PyRiR15zTm4/i2JlJitkXT+JLNQV275KP9gwkOQw1jY/zouWVdxLIj/uzZH9SoILP+CS1w6QZ/M+",
                        "dtype": "f8"
                      }
                    }
                  ],
                  "name": "n=30"
                },
                {
                  "data": [
                    {
                      "marker": {
                        "color": "blue"
                      },
                      "name": "이항분포 샘플",
                      "opacity": 0.7,
                      "type": "bar",
                      "x": {
                        "bdata": "zczMzMzMAkBmZmZmZmYIQAAAAAAAAA5AzMzMzMzMEUCamZmZmZkUQGZmZmZmZhdAMjMzMzMzGkAAAAAAAAAdQM3MzMzMzB9AzczMzMxMIUAzMzMzM7MiQJmZmZmZGSRAAAAAAACAJUBmZmZmZuYmQMzMzMzMTChAMzMzMzOzKUCZmZmZmRkrQAAAAAAAgCxAZmZmZmbmLUDMzMzMzEwvQJqZmZmZWTBAzMzMzMwMMUAAAAAAAMAxQDIzMzMzczJAZmZmZmYmM0CamZmZmdkzQMzMzMzMjDRAAAAAAABANUAyMzMzM/M1QGZmZmZmpjZA",
                        "dtype": "f8"
                      },
                      "y": {
                        "bdata": "0/4LRTwWPD8h/8gzrRBVP/x+arx0k2g/AAAAAAAAAACMVF2DfbmCP7ipNOTcZ5c/AAAAAAAAAAABH0LawrKnP9P5fmq8dLM/AAAAAAAAAAAnyPzgvSW9P9ChRbbz/cQ/97CpNOTcxz8AAAAAAAAAAJi/k9Xyxsg/sXf1a20eyD8AAAAAAAAAAIbOOmVyq8I/g93h9PGPvD8AAAAAAAAAADRjRySMo7M/A2fgQ0hbqD8cX/EVX/GVPwAAAAAAAAAAbSnWbKTqij+BFK5H4Xp0PwAAAAAAAAAA3P4LRTwWTD/c/gtFPBZMP3hUXYN9uTI/",
                        "dtype": "f8"
                      }
                    },
                    {
                      "line": {
                        "color": "red",
                        "dash": "dash"
                      },
                      "mode": "lines",
                      "name": "정규근사",
                      "type": "scatter",
                      "x": {
                        "bdata": "zczMzMzMAkBmZmZmZmYIQAAAAAAAAA5AzMzMzMzMEUCamZmZmZkUQGZmZmZmZhdAMjMzMzMzGkAAAAAAAAAdQM3MzMzMzB9AzczMzMxMIUAzMzMzM7MiQJmZmZmZGSRAAAAAAACAJUBmZmZmZuYmQMzMzMzMTChAMzMzMzOzKUCZmZmZmRkrQAAAAAAAgCxAZmZmZmbmLUDMzMzMzEwvQJqZmZmZWTBAzMzMzMwMMUAAAAAAAMAxQDIzMzMzczJAZmZmZmYmM0CamZmZmdkzQMzMzMzMjDRAAAAAAABANUAyMzMzM/M1QGZmZmZmpjZA",
                        "dtype": "f8"
                      },
                      "y": {
                        "bdata": "EkGalUKoQT+n33wL0ilTPyJZ1weSnmM/mvTpXrnycj+pdiw8TEOBPwsGYfMxrI0/cXHinYAOmD8Y1ZE+/mWiP9vXcOggjKo/D1X+eUoRsj8YtR65/TK3PzGdWL6zGbw/DZH+ct8NwD+2LZCA903BPwbXIRVrmME/A8pSLZfgwD/rdQ4t3Yq+P6kimAjpEbo/Cv/URdL9tD9dsa4dnOOvPwtgkGd72aY/7ql+cqzjnj+ynb3CJ7KTP+kDblyvsYc/gPJrUoHjej92ke8Z88hsP+N775WfEV0/IKM40i2xSz/L2Ao1v+I4P6pn9/K1GCU/",
                        "dtype": "f8"
                      }
                    }
                  ],
                  "name": "n=40"
                },
                {
                  "data": [
                    {
                      "marker": {
                        "color": "blue"
                      },
                      "name": "이항분포 샘플",
                      "opacity": 0.7,
                      "type": "bar",
                      "x": {
                        "bdata": "mpmZmZmZEUDMzMzMzMwUQAAAAAAAABhANDMzMzMzG0BmZmZmZmYeQM3MzMzMzCBAZ2ZmZmZmIkAAAAAAAAAkQJqZmZmZmSVAMzMzMzMzJ0DNzMzMzMwoQGdmZmZmZipAAAAAAAAALECamZmZmZktQDQzMzMzMy9AZmZmZmZmMEA0MzMzMzMxQAAAAAAAADJAzczMzMzMMkCamZmZmZkzQGZmZmZmZjRANDMzMzMzNUAAAAAAAAA2QM7MzMzMzDZAmpmZmZmZN0BmZmZmZmY4QDQzMzMzMzlAAAAAAAAAOkDOzMzMzMw6QJqZmZmZmTtA",
                        "dtype": "f8"
                      },
                      "y": {
                        "bdata": "/anx0k1iQD/7fmq8dJM4P/ip8dJNYmA/apHtfD81fj8AAAAAAAAAAIvtfD81Xoo/J7Kd76fGmz9HCtejcD2qPxYtsp3vp7I/AAAAAAAAAADnfD81Xrq5P/4qhxbZzsE/up3vp8ZLwz/9KocW2c7DPwAAAAAAAAAAIAaBlUOLwj/T+X5qvHS/P24OLbKd77c/19JNYhBYsT8AAAAAAAAAAAXXo3A9Cqc/NwrXo3A9mj9MjZduEoOQP1A5tMh2vn8/AAAAAAAAAABQObTIdr5vP/ip8dJNYmA/9H5qvHSTSD/4qfHSTWIwPwyq8dJNYiA/",
                        "dtype": "f8"
                      }
                    },
                    {
                      "line": {
                        "color": "red",
                        "dash": "dash"
                      },
                      "mode": "lines",
                      "name": "정규근사",
                      "type": "scatter",
                      "x": {
                        "bdata": "mpmZmZmZEUDMzMzMzMwUQAAAAAAAABhANDMzMzMzG0BmZmZmZmYeQM3MzMzMzCBAZ2ZmZmZmIkAAAAAAAAAkQJqZmZmZmSVAMzMzMzMzJ0DNzMzMzMwoQGdmZmZmZipAAAAAAAAALECamZmZmZktQDQzMzMzMy9AZmZmZmZmMEA0MzMzMzMxQAAAAAAAADJAzczMzMzMMkCamZmZmZkzQGZmZmZmZjRANDMzMzMzNUAAAAAAAAA2QM7MzMzMzDZAmpmZmZmZN0BmZmZmZmY4QDQzMzMzMzlAAAAAAAAAOkDOzMzMzMw6QJqZmZmZmTtA",
                        "dtype": "f8"
                      },
                      "y": {
                        "bdata": "fa5FvG4lQz/fVv2n6tJUP7K/Uk4vT2U/+ndfJUGEdD91Fkmr2ZWCP2vyOjVBro8/fB7gjKVnmT83N/386CqjP47RXLONNqs/SM3SO+4ssj89Ym+J0de2P4ZtUb32Ars/PLUr0lUNvj/DDvt2MXW/P/HR0Xto+74/3fjxu461vD+a9+wOrge5P5kDtbQqiLQ/pJSNV0axrz9nupZYcgOnP9j/Vg4ycp8/8gwZyMA2lD8dhR0cYnOIP+OPUbik03s/L5S2zNbLbT+MDeBJvwReP//8341GdEw/6r0V/2JgOT95Z8LSH0slPxJJQUySzxA/",
                        "dtype": "f8"
                      }
                    }
                  ],
                  "name": "n=50"
                },
                {
                  "data": [
                    {
                      "marker": {
                        "color": "blue"
                      },
                      "name": "이항분포 샘플",
                      "opacity": 0.7,
                      "type": "bar",
                      "x": {
                        "bdata": "zczMzMzMGUBmZmZmZmYdQAAAAAAAgCBAzMzMzMxMIkCamZmZmRkkQGZmZmZm5iVANDMzMzOzJ0AAAAAAAIApQMzMzMzMTCtAmpmZmZkZLUBmZmZmZuYuQJqZmZmZWTBAAAAAAABAMUBnZmZmZiYyQM3MzMzMDDNAMzMzMzPzM0CamZmZmdk0QAAAAAAAwDVAZmZmZmamNkDNzMzMzIw3QDQzMzMzczhAmpmZmZlZOUAAAAAAAEA6QGZmZmZmJjtAzczMzMwMPEA0MzMzM/M8QJqZmZmZ2T1AAAAAAADAPkBmZmZmZqY/QGZmZmZmRkBA",
                        "dtype": "f8"
                      },
                      "y": {
                        "bdata": "Ly6RWoogHT83LpFaiiBNP6ni7MNn2EU/2ZETYn1lej/VNmNcIrWEP25j7xTULI8/sVtp3bf4nz/R3imoWT6mPw8REREREbE/AAAAAAAAAABcTTwrGgm4P6RUnH34DLs/lYc8vgwowD9EPXfkhFi/PztrdUzwYL4/JLiLksw5uj/mb4Qyelu2P+t/tobw87A/QpI5R7uVpj8AAAAAAAAAAEy/6+SqPZ0/VoNTvcBdlD89WRhxY++EP3n1lWlwqnc/k/WVaXCqZz+1z0MeXwZUP6/i7MNn2DU/Py6RWoogLT8eLpFaiiAdPz8ukVqKIB0/",
                        "dtype": "f8"
                      }
                    },
                    {
                      "line": {
                        "color": "red",
                        "dash": "dash"
                      },
                      "mode": "lines",
                      "name": "정규근사",
                      "type": "scatter",
                      "x": {
                        "bdata": "zczMzMzMGUBmZmZmZmYdQAAAAAAAgCBAzMzMzMxMIkCamZmZmRkkQGZmZmZm5iVANDMzMzOzJ0AAAAAAAIApQMzMzMzMTCtAmpmZmZkZLUBmZmZmZuYuQJqZmZmZWTBAAAAAAABAMUBnZmZmZiYyQM3MzMzMDDNAMzMzMzPzM0CamZmZmdk0QAAAAAAAwDVAZmZmZmamNkDNzMzMzIw3QDQzMzMzczhAmpmZmZlZOUAAAAAAAEA6QGZmZmZmJjtAzczMzMwMPEA0MzMzM/M8QJqZmZmZ2T1AAAAAAADAPkBmZmZmZqY/QGZmZmZmRkBA",
                        "dtype": "f8"
                      },
                      "y": {
                        "bdata": "YmLqzoZ/Qj8hJ55uDHBUP4HUpDu2LGU/beLyjn+SdD/Toxa/F76CP4a2caksA5A/kg/REgiomT+3wZyTS0ajP+BBgu1CKKs/mAiUbM7wsT8rRv8rYTq2P3lWASFH07k/TOSFQ/QivD9YAYQC+L68P4bnw0M/irs/I6yJUuy9uD/IRvllFNi0PxWijXCJd7A/u3cNn+RlqD/Mr0bo+fKgP0Uo5TkoFZY/1xX93sj6ij8xRhgoA+l+Pw9qMSmvmnA/ukI3lmW6YD/dTISwcZtPP2DAIRdNADw/ELErLRRDJz8lAXJWKh8SP5mCJMcGevo+",
                        "dtype": "f8"
                      }
                    }
                  ],
                  "name": "n=60"
                },
                {
                  "data": [
                    {
                      "marker": {
                        "color": "blue"
                      },
                      "name": "이항분포 샘플",
                      "opacity": 0.7,
                      "type": "bar",
                      "x": {
                        "bdata": "ERERERERIUAzMzMzMzMjQFVVVVVVVSVAd3d3d3d3J0CZmZmZmZkpQLy7u7u7uytA3t3d3d3dLUAAAAAAAAAwQBERERERETFAIiIiIiIiMkAzMzMzMzMzQERERERERDRAVlVVVVVVNUBmZmZmZmY2QHh3d3d3dzdAiIiIiIiIOECamZmZmZk5QKqqqqqqqjpAvLu7u7u7O0DMzMzMzMw8QN7d3d3d3T1A7u7u7u7uPkAAAAAAAABAQIiIiIiIiEBAEhERERERQUCamZmZmZlBQCIiIiIiIkJAqqqqqqqqQkA0MzMzMzNDQLy7u7u7u0NA",
                        "dtype": "f8"
                      },
                      "y": {
                        "bdata": "+35qvHSTOD/bzvdT46VLPzQzMzMzM2M/EC2yne+ndj/xp8ZLN4mJPyWyne+nxpM/PwrXo3A9nj9Qi2zn+6mnP2VqvHSTGK4/Q90kBoGVsz+9Itv5fmq2PwDVeOkmMbg/Elg5tMh2uT99FK5H4Xq1P16PwvUoXLU/NTMzMzMzvz9cZDvfT42lP2Ll0CLb+Zo/SOF6FK5HkT/fJAaBlUOLP64cWmQ7338/yna+nxovbT/7fmq8dJNoP54ehetRuE4/K99PjZduMj/XHoXrUbg+PxJ/arx0kxg/AAAAAAAAAAAAAAAAAAAAABJ/arx0kxg/",
                        "dtype": "f8"
                      }
                    },
                    {
                      "line": {
                        "color": "red",
                        "dash": "dash"
                      },
                      "mode": "lines",
                      "name": "정규근사",
                      "type": "scatter",
                      "x": {
                        "bdata": "ERERERERIUAzMzMzMzMjQFVVVVVVVSVAd3d3d3d3J0CZmZmZmZkpQLy7u7u7uytA3t3d3d3dLUAAAAAAAAAwQBERERERETFAIiIiIiIiMkAzMzMzMzMzQERERERERDRAVlVVVVVVNUBmZmZmZmY2QHh3d3d3dzdAiIiIiIiIOECamZmZmZk5QKqqqqqqqjpAvLu7u7u7O0DMzMzMzMw8QN7d3d3d3T1A7u7u7u7uPkAAAAAAAABAQIiIiIiIiEBAEhERERERQUCamZmZmZlBQCIiIiIiIkJAqqqqqqqqQkA0MzMzMzNDQLy7u7u7u0NA",
                        "dtype": "f8"
                      },
                      "y": {
                        "bdata": "fXxDTvJAQT9CdKu66oFUP0JGNtg3j2Y/95Rfteb3dj95xB5dm6SFP68Ib6oJ4JI/HavVCHB4nj9kJSfIPsOmP7KrbSLtea8/9O6/ME8ktD+ZXMuVmNu3P3IpZfyQJ7o/VZLXrnGJuj+PDdreYOu4P4mavFdfqLU/myBPK8RrsT/Qi87oS/CpP6RJG/ZJ36E/hVXM3FPLlj/lLtY/EuiKP3o0/8YoZX0/A9X5cdu4bT+65QcWedBbP4KrOEUkF0g/xYIsjp1PMz/B94O9WqccP/NOp1fIrAM/yNHsisgB6T5gdeIQr2rNPhQDTzluA7A+",
                        "dtype": "f8"
                      }
                    }
                  ],
                  "name": "n=70"
                },
                {
                  "data": [
                    {
                      "marker": {
                        "color": "blue"
                      },
                      "name": "이항분포 샘플",
                      "opacity": 0.7,
                      "type": "bar",
                      "x": {
                        "bdata": "ZmZmZmZmGkA0MzMzMzMfQAAAAAAAACJAZmZmZmZmJEDNzMzMzMwmQDMzMzMzMylAmpmZmZmZK0AAAAAAAAAuQDMzMzMzMzBAZmZmZmZmMUCamZmZmZkyQMzMzMzMzDNAAAAAAAAANUA0MzMzMzM2QGZmZmZmZjdAmpmZmZmZOEDMzMzMzMw5QAAAAAAAADtAMzMzMzMzPEBmZmZmZmY9QJqZmZmZmT5AzMzMzMzMP0AAAAAAAIBAQJmZmZmZGUFAMzMzMzOzQUDNzMzMzExCQGZmZmZm5kJAAAAAAACAQ0CamZmZmRlEQDMzMzMzs0RA",
                        "dtype": "f8"
                      },
                      "y": {
                        "bdata": "peLsw2fYFT8AAAAAAAAAAAAAAAAAAAAAoOLsw2fYJT+p4uzDZ9gVP2mtjgkezGM/hlBGb8tabT+zALnXXEh6PxfXo3A9Coc/TPKLJb9Ykj+JXQFyr7mwP5btfD81Xqo/eTJ6W9bqsD/1iyW/WPKzP0lvy1odE7Q/zlodEzyYwz85XrpJDAKzPwlWDi2yna8/8iqHFtnOpz9HRERERESkP2YQWDm0yKY/KU2pOPvwiT9dN4lBYOWAP+Ngnqh/I3Q/UYIH80T9az8aeDBP1L9hP2RGb8taHUM/8anx0k1iMD+74uzDZ9gVP5fi7MNn2CU/",
                        "dtype": "f8"
                      }
                    },
                    {
                      "line": {
                        "color": "red",
                        "dash": "dash"
                      },
                      "mode": "lines",
                      "name": "정규근사",
                      "type": "scatter",
                      "x": {
                        "bdata": "ZmZmZmZmGkA0MzMzMzMfQAAAAAAAACJAZmZmZmZmJEDNzMzMzMwmQDMzMzMzMylAmpmZmZmZK0AAAAAAAAAuQDMzMzMzMzBAZmZmZmZmMUCamZmZmZkyQMzMzMzMzDNAAAAAAAAANUA0MzMzMzM2QGZmZmZmZjdAmpmZmZmZOEDMzMzMzMw5QAAAAAAAADtAMzMzMzMzPEBmZmZmZmY9QJqZmZmZmT5AzMzMzMzMP0AAAAAAAIBAQJmZmZmZGUFAMzMzMzOzQUDNzMzMzExCQGZmZmZm5kJAAAAAAACAQ0CamZmZmRlEQDMzMzMzs0RA",
                        "dtype": "f8"
                      },
                      "y": {
                        "bdata": "hcQuPgTs6D7HPuOpma8EP/z0PafhhB8/nLTHBE0KNj9iP/C4wUpMPw3yNcu9qmA/Dw7fQisGcj/ew2ff/+OBPycoPs+mTJA/HpJdIIZCmz9wJEWqPOykP9LGxX3Deq0/fE18nNkPsz8TOlH8YKC2P3GDDo7Eprg/cYMOjsSmuD8TOlH8YKC2P3xNfJzZD7M/2MbFfcN6rT9wJEWqPOykPx6SXSCGQps/Lyg+z6ZMkD/ew2ff/+OBPxYO30IrBnI/EfI1y72qYD9UP/C4wUpMP6y0xwRNCjY//PQ9p+GEHz+yPuOpma8EP4XELj4E7Og+",
                        "dtype": "f8"
                      }
                    }
                  ],
                  "name": "n=80"
                },
                {
                  "data": [
                    {
                      "marker": {
                        "color": "blue"
                      },
                      "name": "이항분포 샘플",
                      "opacity": 0.7,
                      "type": "bar",
                      "x": {
                        "bdata": "ERERERERJ0AzMzMzMzMpQFVVVVVVVStAd3d3d3d3LUCZmZmZmZkvQN7d3d3d3TBA7+7u7u7uMUAAAAAAAAAzQBERERERETRAIiIiIiIiNUAzMzMzMzM2QERERERERDdAVlVVVVVVOEBmZmZmZmY5QHh3d3d3dzpAiIiIiIiIO0CamZmZmZk8QKqqqqqqqj1AvLu7u7u7PkDMzMzMzMw/QO7u7u7ubkBAeHd3d3f3QEAAAAAAAIBBQIiIiIiICEJAEhERERGRQkCamZmZmRlDQCIiIiIiokNAqqqqqqoqREA0MzMzM7NEQLy7u7u7O0VA",
                        "dtype": "f8"
                      },
                      "y": {
                        "bdata": "+35qvHSTKD8830+Nl24yP9vO91PjpUs/2873U+OlWz/rJjEIrBxqPwiBlUOLbHc//Vc5tMh2hj/TyqFFtvORP2TpJjEIrJg/mBbZzvdToT/GzvdT46WlP8YgsHJoka0/iBbZzvdTsT+UGARWDi2zP9VNYhBYObY/HlpkO99PxT9svHSTGAS0P/LSTWIQWLA/k+18PzVerD+eFtnO91OnP4HC9Shcj6A/VLx0kxgEmj/eyqFFtvONPwYEVg4tsoU/MmDl0CLbgT/XHoXrUbhuPzAv3SQGgWU/nh6F61G4Tj/lfmq8dJNIP9cehetRuD4/",
                        "dtype": "f8"
                      }
                    },
                    {
                      "line": {
                        "color": "red",
                        "dash": "dash"
                      },
                      "mode": "lines",
                      "name": "정규근사",
                      "type": "scatter",
                      "x": {
                        "bdata": "ERERERERJ0AzMzMzMzMpQFVVVVVVVStAd3d3d3d3LUCZmZmZmZkvQN7d3d3d3TBA7+7u7u7uMUAAAAAAAAAzQBERERERETRAIiIiIiIiNUAzMzMzMzM2QERERERERDdAVlVVVVVVOEBmZmZmZmY5QHh3d3d3dzpAiIiIiIiIO0CamZmZmZk8QKqqqqqqqj1AvLu7u7u7PkDMzMzMzMw/QO7u7u7ubkBAeHd3d3f3QEAAAAAAAIBBQIiIiIiICEJAEhERERGRQkCamZmZmRlDQCIiIiIiokNAqqqqqqoqREA0MzMzM7NEQLy7u7u7O0VA",
                        "dtype": "f8"
                      },
                      "y": {
                        "bdata": "JgS+R0t3JT/yLWHiZO44P+POIOKeQ0s/HGPHu8wSXD91T9wqyTdrPwYmh6PE2Hg/3xT1NWNbhT+hhKEu7EiRPzrmG9P9V5o/a5lRB/vmoj/t9L3PeIqpPwWHVm5WP7A/MKc2Pp52sz8FnGvuIfS1PxzEpebaULc/HMSl5tpQtz8FnGvuIfS1PzCnNj6edrM/BYdWblY/sD/19L3PeIqpP3aZUQf75qI/MOYb0/1Xmj+hhKEu7EiRP+oU9TVjW4U/5yWHo8TYeD9vT9wqyTdrPyhjx7vMElw/984g4p5DSz/hLWHiZO44PxwEvkdLdyU/",
                        "dtype": "f8"
                      }
                    }
                  ],
                  "name": "n=90"
                },
                {
                  "data": [
                    {
                      "marker": {
                        "color": "blue"
                      },
                      "name": "이항분포 샘플",
                      "opacity": 0.7,
                      "type": "bar",
                      "x": {
                        "bdata": "IiIiIiIiK0BmZmZmZmYtQKqqqqqqqi9Ad3d3d3f3MECZmZmZmRkyQLy7u7u7OzNA3t3d3d1dNEAAAAAAAIA1QCIiIiIiojZARERERETEN0BmZmZmZuY4QImIiIiICDpAq6qqqqoqO0DNzMzMzEw8QO/u7u7ubj1AERERERGRPkAzMzMzM7M/QKqqqqqqakBAvLu7u7v7QEDMzMzMzIxBQN7d3d3dHUJA7+7u7u6uQkAAAAAAAEBDQBERERER0UNAIiIiIiJiREAzMzMzM/NEQEREREREhEVAVVVVVVUVRkBmZmZmZqZGQHh3d3d3N0dA",
                        "dtype": "f8"
                      },
                      "y": {
                        "bdata": "wneWGwdZMT/Cd5YbB1kxPw3hhPUyPUQ/OYY+XeLNTz9v3Rol/J9gPya3y3nBom0/gRexSuR9dz/tJjEIrByaPw3Xo3A9Cpc/FJeC1IyroD8Jqmxii+emP7N8SRbjr6w/MecFi3bIsD/7F52I2pKxPxE3kyLl2rM/FrgoZnBHwz9WXjXZSYexPzBfksX4K68/moy1EaFjqT+yFXziSK+lP3rSYSQaQ58/0n5qvHSTmD91t8t5waKdP67rwmbXFH8/LLD32FNodj9dUUdwzFtuPzQSEhISEmI/L0pzz14hRz/uHFCDtuk8P8J3lhsHWTE/",
                        "dtype": "f8"
                      }
                    },
                    {
                      "line": {
                        "color": "red",
                        "dash": "dash"
                      },
                      "mode": "lines",
                      "name": "정규근사",
                      "type": "scatter",
                      "x": {
                        "bdata": "IiIiIiIiK0BmZmZmZmYtQKqqqqqqqi9Ad3d3d3f3MECZmZmZmRkyQLy7u7u7OzNA3t3d3d1dNEAAAAAAAIA1QCIiIiIiojZARERERETEN0BmZmZmZuY4QImIiIiICDpAq6qqqqoqO0DNzMzMzEw8QO/u7u7ubj1AERERERGRPkAzMzMzM7M/QKqqqqqqakBAvLu7u7v7QEDMzMzMzIxBQN7d3d3dHUJA7+7u7u6uQkAAAAAAAEBDQBERERER0UNAIiIiIiJiREAzMzMzM/NEQEREREREhEVAVVVVVVUVRkBmZmZmZqZGQHh3d3d3N0dA",
                        "dtype": "f8"
                      },
                      "y": {
                        "bdata": "adkdnMtmIj+/f2YYm6k1P+uFgU0F/Uc/CfPpA+T8WD+qUrjiEnxoPykmxMdykXY/CmwHU0aRgz/U6xYcGeuPP4mtdM/rfJg/trJXuTOsoT9AtAxjrv6nP45MaGNSpa4/6O6TxLRosj+uuRAo8s20PyVxKOjeHbY/JXEo6N4dtj+uuRAo8s20P+zuk8S0aLI/iUxoY1Klrj9NtAxjrv6nP7ayV7kzrKE/ia10z+t8mD/U6xYcGeuPPwpsB1NGkYM/KSbEx3KRdj+5UrjiEnxoPxDz6QPk/Fg/94WBTQX9Rz/Jf2YYm6k1P1/ZHZzLZiI/",
                        "dtype": "f8"
                      }
                    }
                  ],
                  "name": "n=100"
                },
                {
                  "data": [
                    {
                      "marker": {
                        "color": "blue"
                      },
                      "name": "이항분포 샘플",
                      "opacity": 0.7,
                      "type": "bar",
                      "x": {
                        "bdata": "VlVVVVWVMEAAAAAAAMAxQKqqqqqq6jJAVlVVVVUVNEAAAAAAAEA1QKuqqqqqajZAVlVVVVWVN0AAAAAAAMA4QKuqqqqq6jlAVlVVVVUVO0AAAAAAAEA8QKuqqqqqaj1AVlVVVVWVPkAAAAAAAMA/QFZVVVVVdUBAq6qqqqoKQUAAAAAAAKBBQFZVVVVVNUJAq6qqqqrKQkAAAAAAAGBDQFZVVVVV9UNAq6qqqqqKREAAAAAAACBFQFZVVVVVtUVAq6qqqqpKRkAAAAAAAOBGQFZVVVVVdUdAq6qqqqoKSEAAAAAAAKBIQFZVVVVVNUlA",
                        "dtype": "f8"
                      },
                      "y": {
                        "bdata": "4ZhtKSTaMD/vmG0pJNpAP1JlJD42R0k/18s8NzB4Vj+UmLA6s99nP+rLPDcweHY//kubrmj1kj/JiNLe4AuTPx2SwCNrj5s/pn6tzQOZnz9Skn0S3ImkPxjC1BTE/6s/tI0G8BZIwD8NsBmfR4ixP+jsUM+/nrE/lDXNO07RsT/ApZBoQ4CwPzSNjBI1U64/XyHc4t1Qtj8rFJiPJhugP0ESH5ujDJg/f/UdALKSkz+XWAH/FqGJP3bSLE54yII/qRgPsutchD9imPNLQuVeP6PLf0i/fV0/SzJVMCqpQz9tMlUwKqlDP20yVTAqqUM/",
                        "dtype": "f8"
                      }
                    },
                    {
                      "line": {
                        "color": "red",
                        "dash": "dash"
                      },
                      "mode": "lines",
                      "name": "정규근사",
                      "type": "scatter",
                      "x": {
                        "bdata": "VlVVVVWVMEAAAAAAAMAxQKqqqqqq6jJAVlVVVVUVNEAAAAAAAEA1QKuqqqqqajZAVlVVVVWVN0AAAAAAAMA4QKuqqqqq6jlAVlVVVVUVO0AAAAAAAEA8QKuqqqqqaj1AVlVVVVWVPkAAAAAAAMA/QFZVVVVVdUBAq6qqqqoKQUAAAAAAAKBBQFZVVVVVNUJAq6qqqqrKQkAAAAAAAGBDQFZVVVVV9UNAq6qqqqqKREAAAAAAACBFQFZVVVVVtUVAq6qqqqpKRkAAAAAAAOBGQFZVVVVVdUdAq6qqqqoKSEAAAAAAAKBIQFZVVVVVNUlA",
                        "dtype": "f8"
                      },
                      "y": {
                        "bdata": "WG0hCaHaLz9dGPh4lrdBP22MfwKslFI/Z3Z0chZfYj8xGAPkBiBxPysAyJyMGX4/rRdMcFDwiD8oXUqj83qTP9qtS5gTsZw/j0mWhp7roz8yhLk0DBSqP3Qbt4TZF7A/Zy/SH9e5sj9AmpfS6Yq0P89ASe/+PrU/uYuG/V23tD9Q8rBVOguzP+i0xQQ2gbA/QonHUKj4qj8lhumR1MakP78AzEaRLZ4/C8ZyEKCplD/pWmFOCq2KPyFpx/P9O4A/Hn41fQehcj+lHOI7WydkP4W5+Ig/jlQ/7MVnexTEQz/vo2F8Q+sxP964O/RWoR4/",
                        "dtype": "f8"
                      }
                    }
                  ],
                  "name": "n=110"
                },
                {
                  "data": [
                    {
                      "marker": {
                        "color": "blue"
                      },
                      "name": "이항분포 샘플",
                      "opacity": 0.7,
                      "type": "bar",
                      "x": {
                        "bdata": "IiIiIiKiMkBmZmZmZuYzQKqqqqqqKjVA7+7u7u5uNkAzMzMzM7M3QHh3d3d39zhAvLu7u7s7OkAAAAAAAIA7QERERERExDxAiIiIiIgIPkDMzMzMzEw/QImIiIiISEBAq6qqqqrqQEDNzMzMzIxBQO/u7u7uLkJAERERERHRQkAzMzMzM3NDQFVVVVVVFURAd3d3d3e3RECZmZmZmVlFQLu7u7u7+0VA3t3d3d2dRkAAAAAAAEBHQCIiIiIi4kdARERERESESEBmZmZmZiZJQIiIiIiIyElAqqqqqqpqSkDNzMzMzAxLQO/u7u7urktA",
                        "dtype": "f8"
                      },
                      "y": {
                        "bdata": "ybs+dhGyJD+tGV4xGgsvP7m7PnYRsiQ/NUKWAth0bD9knVQZw6JmP6i2F7zZBHU/pP056uV9gD+T+BIwrtCgP1SYLV+L9ZY/rVZESrnvoD+G/9tB+3OkP+wrWMLjybk/vMSp33NLrD9P+qIowQCvP2SSvihKMLA//twSp37PvT8RMX98G3epP+7MVfzNr6c/vwhZCmDTsT/cGkE8J8yWP8kOUXCie5M/pG/1jc2LiT+MDxC9qrCPP7UCYaQdK3A/Q5MGpVNIZz+Gp6KNMv1VP8m7PnYRslQ/qLs+dhGyND/Juz52EbI0P8m7PnYRshQ/",
                        "dtype": "f8"
                      }
                    },
                    {
                      "line": {
                        "color": "red",
                        "dash": "dash"
                      },
                      "mode": "lines",
                      "name": "정규근사",
                      "type": "scatter",
                      "x": {
                        "bdata": "IiIiIiKiMkBmZmZmZuYzQKqqqqqqKjVA7+7u7u5uNkAzMzMzM7M3QHh3d3d39zhAvLu7u7s7OkAAAAAAAIA7QERERERExDxAiIiIiIgIPkDMzMzMzEw/QImIiIiISEBAq6qqqqrqQEDNzMzMzIxBQO/u7u7uLkJAERERERHRQkAzMzMzM3NDQFVVVVVVFURAd3d3d3e3RECZmZmZmVlFQLu7u7u7+0VA3t3d3d2dRkAAAAAAAEBHQCIiIiIi4kdARERERESESEBmZmZmZiZJQIiIiIiIyElAqqqqqqpqSkDNzMzMzAxLQO/u7u7urktA",
                        "dtype": "f8"
                      },
                      "y": {
                        "bdata": "U2b8yXk7Kj+TQ/w1Q2o+P+5DN3J1i1A/HOEQp6fjYD9wNPQVby1wP0eyifVlFH0/PAbcVxeGiD9AoqgY7GeTP4APvLxc0Zw/y2mi580TpD957+GpB0CqP3fM9QERGrA/XwdqvwSJsj+Tp8m1MAW0PxyuYKVZSrQ/jOy3NbZLsz+lxh7iyjexP0eeVBoU1aw/PeLANcumpj/IcPG3sLKgP0fvjJeVGZc/GsszUTL8jT9fsynoxUKCPwO0FDqe3nQ/fpdE+DxhZj9l2Q4y3IRWP/KcI7TkQkU/3ntEmuvVMj8YRi6plVAfP6f4HybZbAg/",
                        "dtype": "f8"
                      }
                    }
                  ],
                  "name": "n=120"
                },
                {
                  "data": [
                    {
                      "marker": {
                        "color": "blue"
                      },
                      "name": "이항분포 샘플",
                      "opacity": 0.7,
                      "type": "bar",
                      "x": {
                        "bdata": "IiIiIiKiNEBmZmZmZuY1QKqqqqqqKjdA7+7u7u5uOEAzMzMzM7M5QHh3d3d39zpAvLu7u7s7PEAAAAAAAIA9QERERERExD5AREREREQEQEBmZmZmZqZAQImIiIiISEFAq6qqqqrqQUDNzMzMzIxCQO/u7u7uLkNAERERERHRQ0AzMzMzM3NEQFVVVVVVFUVAd3d3d3e3RUCZmZmZmVlGQLu7u7u7+0ZA3t3d3d2dR0AAAAAAAEBIQCIiIiIi4khARERERESESUBmZmZmZiZKQIiIiIiIyEpAqqqqqqpqS0DNzMzMzAxMQO/u7u7urkxA",
                        "dtype": "f8"
                      },
                      "y": {
                        "bdata": "ybs+dhGyJD+tGV4xGgsvP6dqztOV3jk/8i36Gfm/XT8N0Npe8GZjP8p0HEgFOWk/Z1ELMX98ez92T2nZaYaXP5b/20H7c5Q/VfIIa2limT+1YJK+KEqgP1tESrnvMLY/GYqJ3O7oqT/52RZ0XfusPzaccQ624a4/BzYdB1JBvj9fpe7WGkGsPzxBxVbNeao/OOAgOaJptD+cZ0lxcyeeP8zCB4heVZg/3HehqifwlD+IAX6ZEGqYPz6FdIG5AYA/pP056uV9cD+osfABoldlP/9+arx0k2g/NOR2R88bQj+tGV4xGgsvP7xqztOV3jk/",
                        "dtype": "f8"
                      }
                    },
                    {
                      "line": {
                        "color": "red",
                        "dash": "dash"
                      },
                      "mode": "lines",
                      "name": "정규근사",
                      "type": "scatter",
                      "x": {
                        "bdata": "IiIiIiKiNEBmZmZmZuY1QKqqqqqqKjdA7+7u7u5uOEAzMzMzM7M5QHh3d3d39zpAvLu7u7s7PEAAAAAAAIA9QERERERExD5AREREREQEQEBmZmZmZqZAQImIiIiISEFAq6qqqqrqQUDNzMzMzIxCQO/u7u7uLkNAERERERHRQ0AzMzMzM3NEQFVVVVVVFUVAd3d3d3e3RUCZmZmZmVlGQLu7u7u7+0ZA3t3d3d2dR0AAAAAAAEBIQCIiIiIi4khARERERESESUBmZmZmZiZKQIiIiIiIyEpAqqqqqqpqS0DNzMzMzAxMQO/u7u7urkxA",
                        "dtype": "f8"
                      },
                      "y": {
                        "bdata": "tHO35YbBJD82g7vqC6E3P63r+xFTXUk/0qTaOmSsWT+7xBZEuIBoP6Nozc0BDXY/iE2Puia2gj9Z0EBHfvGNP9aSR5lRl5Y/zL77Dz8SoD9UY70NoI+lP82nSKZnRqs/IGkQGVhEsD9XoIi5wUuyPxvMFlxGZ7M/G8wWXEZnsz9XoIi5wUuyPyBpEBlYRLA/zadIpmdGqz9fY70NoI+lP9S++w8/EqA/1pJHmVGXlj9Z0EBHfvGNP4hNj7omtoI/o2jNzQENdj/LxBZEuIBoP+Wk2jpkrFk/zev7EVNdST82g7vqC6E3P7Rzt+WGwSQ/",
                        "dtype": "f8"
                      }
                    }
                  ],
                  "name": "n=130"
                },
                {
                  "data": [
                    {
                      "marker": {
                        "color": "blue"
                      },
                      "name": "이항분포 샘플",
                      "opacity": 0.7,
                      "type": "bar",
                      "x": {
                        "bdata": "vLu7u7u7NkAzMzMzMzM4QKqqqqqqqjlAIiIiIiIiO0CamZmZmZk8QBARERERET5AiIiIiIiIP0AAAAAAAIBAQLy7u7u7O0FAeHd3d3f3QUAzMzMzM7NCQO7u7u7ubkNAqqqqqqoqREBmZmZmZuZEQCIiIiIiokVA3t3d3d1dRkCamZmZmRlHQFVVVVVV1UdAEBERERGRSEDMzMzMzExJQIiIiIiICEpARERERETESkAAAAAAAIBLQLy7u7u7O0xAd3d3d3f3TEAzMzMzM7NNQO7u7u7ubk5AqqqqqqoqT0BmZmZmZuZPQBERERERUVBA",
                        "dtype": "f8"
                      },
                      "y": {
                        "bdata": "GEWTt5rfMT+S51wTaM8qP6TnXBNoz0o/1bhBwU5HTz8YRZO3mt9xP1Oz42dusWk/7VbzOwKMkD+gSvEQe3WHP9LxM7fYDKU/AnC5ZP2xnD/wS5jyt1yyP48EGOEZq6c/B/fPPcypuD8ebzW/I8CoP6iVpPTi46g/HtCeNSCNtj93eQxjlP2iP/KxPIYxyq4/UGYF/e9pmT+1yqFFtvOdP9NSnS3V2YI/Meqq1uGdgD8130+Nl25iP45NoD1rQGo/rq2FDo4bVD9PFnhlgVc2PyRFk7ea3yE/DUWTt5rfIT8AAAAAAAAAAA1Fk7ea3xE/",
                        "dtype": "f8"
                      }
                    },
                    {
                      "line": {
                        "color": "red",
                        "dash": "dash"
                      },
                      "mode": "lines",
                      "name": "정규근사",
                      "type": "scatter",
                      "x": {
                        "bdata": "vLu7u7u7NkAzMzMzMzM4QKqqqqqqqjlAIiIiIiIiO0CamZmZmZk8QBARERERET5AiIiIiIiIP0AAAAAAAIBAQLy7u7u7O0FAeHd3d3f3QUAzMzMzM7NCQO7u7u7ubkNAqqqqqqoqREBmZmZmZuZEQCIiIiIiokVA3t3d3d1dRkCamZmZmRlHQFVVVVVV1UdAEBERERGRSEDMzMzMzExJQIiIiIiICEpARERERETESkAAAAAAAIBLQLy7u7u7O0xAd3d3d3f3TEAzMzMzM7NNQO7u7u7ubk5AqqqqqqoqT0BmZmZmZuZPQBERERERUVBA",
                        "dtype": "f8"
                      },
                      "y": {
                        "bdata": "KJE9h+p6IT+Bc1NlHwg2P8l1dSEuz0k/OQlpdfQZXD94fjzZMnBsP5Ephwerv3o/Zb4kzmdihz/6GBwzOQCTPznLhNgUs5w/nFYvlCclpD+ADrgxI0mqPx1kETDM4K8/HsH/lWL3sT8Tu52lmdKyP0ASGQcWVLI/qj5fsImWsD8DkGKjReirP2PP1l+q0aU/41RCkfC1nz9fna2K52qVPzaZq9fR44o/507m4eVgfz8el4cxNgRxPzKqeL5dJ2E/wuQpQnkSUD/gWl6iGf47Py2iDpM7qCY/htFPIXgLET9JGeedANb3PhGwVE4p+94+",
                        "dtype": "f8"
                      }
                    }
                  ],
                  "name": "n=140"
                },
                {
                  "data": [
                    {
                      "marker": {
                        "color": "blue"
                      },
                      "name": "이항분포 샘플",
                      "opacity": 0.7,
                      "type": "bar",
                      "x": {
                        "bdata": "MzMzMzOzOUCamZmZmRk7QAAAAAAAgDxAZmZmZmbmPUDNzMzMzEw/QJqZmZmZWUBAzMzMzMwMQUAAAAAAAMBBQDQzMzMzc0JAZmZmZmYmQ0CamZmZmdlDQMzMzMzMjERAAAAAAABARUAzMzMzM/NFQGZmZmZmpkZAmpmZmZlZR0DMzMzMzAxIQAAAAAAAwEhAMzMzMzNzSUBmZmZmZiZKQJqZmZmZ2UpAzMzMzMyMS0AAAAAAAEBMQDIzMzMz80xAZmZmZmamTUCamZmZmVlOQMzMzMzMDE9A//////+/T0CZmZmZmTlQQDMzMzMzk1BA",
                        "dtype": "f8"
                      },
                      "y": {
                        "bdata": "k1Rdg325Ij+nqTTk3Gc3P2+pd/VrbU4/p6k05NxnVz/c/gtFPBZcP05PE7qMHYE/i4n+TlbLez/T3pKeJnSZP6WUDL8Z+JA/oZmZmZmZmT/6a20eyPywP4EUrkfheqQ/PXzFV3zFtz8a9xwXU6ypPxyogzqog6o/TDwWHOCGuT8dU6zZSNWlP8rJanljBLM/Cc/3U+Olmz/3jgUHuGGWP71OmdyqKJ8/Ks+0QlSghD8KH0LawrKHP6405NxnF3A/+9NBHdRBXT+4fq3NA5lfPwGq8dJNYlA/GKrx0k1iQD94VF2DfbkSP7X+C0U8Fiw/",
                        "dtype": "f8"
                      }
                    },
                    {
                      "line": {
                        "color": "red",
                        "dash": "dash"
                      },
                      "mode": "lines",
                      "name": "정규근사",
                      "type": "scatter",
                      "x": {
                        "bdata": "MzMzMzOzOUCamZmZmRk7QAAAAAAAgDxAZmZmZmbmPUDNzMzMzEw/QJqZmZmZWUBAzMzMzMwMQUAAAAAAAMBBQDQzMzMzc0JAZmZmZmYmQ0CamZmZmdlDQMzMzMzMjERAAAAAAABARUAzMzMzM/NFQGZmZmZmpkZAmpmZmZlZR0DMzMzMzAxIQAAAAAAAwEhAMzMzMzNzSUBmZmZmZiZKQJqZmZmZ2UpAzMzMzMyMS0AAAAAAAEBMQDIzMzMz80xAZmZmZmamTUCamZmZmVlOQMzMzMzMDE9A//////+/T0CZmZmZmTlQQDMzMzMzk1BA",
                        "dtype": "f8"
                      },
                      "y": {
                        "bdata": "WQAxjWY0KT/2sgCVFc48P3dspDsI704/Cveiizk3Xz8y+8k9mpltP8h0oHbsX3o/1AsskUcVhj9v0Yzo2l+RP8jZgzCzsJk/LOvqHunYoT8TWCp/MU2nP26t7oJblqw/NZI+2Wt6sD+rdHvfwtmxP3eDvlS6K7I/q8jS6YJhsT+YIpyLqj6vP/31IgayY6o/msEEkqrxpD97dUxnLT2fP8JOBkVL5JU/fVjIdvPUjD8FJuq8NdeBP7vQT1RAv3Q/MLnihuarZj9pYlzMpEdXP1UZpcdldkY/E+9gm8ddND8GHi4iEFohP70+zyKHyAs/",
                        "dtype": "f8"
                      }
                    }
                  ],
                  "name": "n=150"
                },
                {
                  "data": [
                    {
                      "marker": {
                        "color": "blue"
                      },
                      "name": "이항분포 샘플",
                      "opacity": 0.7,
                      "type": "bar",
                      "x": {
                        "bdata": "7+7u7u6uPEDNzMzMzAw+QKuqqqqqaj9ARERERERkQEA0MzMzMxNBQCIiIiIiwkFAERERERFxQkAAAAAAACBDQO/u7u7uzkNA3t3d3d19REDNzMzMzCxFQLy7u7u720VAqqqqqqqKRkCamZmZmTlHQIiIiIiI6EdAeHd3d3eXSEBmZmZmZkZJQFZVVVVV9UlARERERESkSkA0MzMzM1NLQCIiIiIiAkxAERERERGxTEAAAAAAAGBNQO/u7u7uDk5A3t3d3d29TkDMzMzMzGxPQN7d3d3dDVBAVlVVVVVlUEDMzMzMzLxQQEREREREFFFA",
                        "dtype": "f8"
                      },
                      "y": {
                        "bdata": "+BegfwH6Nz/530yZZy4jP/pDI6aayFA/9k/zZZvFXD/5reESTmFkP7iu3h4eIYU/091VdffugD+YfHOYBFSGP8QeUoS73qE/9DHRVEaAmD+D6u/ZMdKwPxn6fW6stKM/6CM92Gsdpz9oJTfwC524PyZbk7I1Kas/NxqXo3E5qj9waokN/T63P0ps6Pe5saI/imvr6+nxoT93TvlN+0WrP3l6fHSUFJQ//mctF3AMmz/e30yZZy6DP5yyz1ou4Hg/935qvHSTeD/2T/Nlm8VcP9dJCwYbx1Y/FeBMmWcuUz8hUPNlm8UsP8xP82WbxSw/",
                        "dtype": "f8"
                      }
                    },
                    {
                      "line": {
                        "color": "red",
                        "dash": "dash"
                      },
                      "mode": "lines",
                      "name": "정규근사",
                      "type": "scatter",
                      "x": {
                        "bdata": "7+7u7u6uPEDNzMzMzAw+QKuqqqqqaj9ARERERERkQEA0MzMzMxNBQCIiIiIiwkFAERERERFxQkAAAAAAACBDQO/u7u7uzkNA3t3d3d19REDNzMzMzCxFQLy7u7u720VAqqqqqqqKRkCamZmZmTlHQIiIiIiI6EdAeHd3d3eXSEBmZmZmZkZJQFZVVVVV9UlARERERESkSkA0MzMzM1NLQCIiIiIiAkxAERERERGxTEAAAAAAAGBNQO/u7u7uDk5A3t3d3d29TkDMzMzMzGxPQN7d3d3dDVBAVlVVVVVlUEDMzMzMzLxQQEREREREFFFA",
                        "dtype": "f8"
                      },
                      "y": {
                        "bdata": "nO40eyx9MT9pixUksahCPzCkEiyv1FI/YllNmAT6YT9ehT7ftztwP9+OtOuRu3s/AHEkMX1ohj9umn7ReyCRP74IZFLZw5g/2v5PbsjvoD/N4heuwumlP0gtZLuc0ao/fZkCF0QMrz9col9ODACxP0L2uhoznLE/HDR253BBsT9vpyAf6/yvP3a1if7EC6w/ssdDt5lCpz9B17eJdj+iPxtOEG9SFZs/ITGFY/YCkz9dC5YRbT+JP+BgnQZvt38/Kn+nNBvYcj8AmEAedS5lP5kK1pF0hVY/VxIWZ66mRj+Buf8av4w1Px2i6vu4ZCM/",
                        "dtype": "f8"
                      }
                    }
                  ],
                  "name": "n=160"
                },
                {
                  "data": [
                    {
                      "marker": {
                        "color": "blue"
                      },
                      "name": "이항분포 샘플",
                      "opacity": 0.7,
                      "type": "bar",
                      "x": {
                        "bdata": "RERERETEP0BmZmZmZqZAQKuqqqqqakFA7+7u7u4uQkAzMzMzM/NCQHh3d3d3t0NAvLu7u7t7REAAAAAAAEBFQEREREREBEZAiIiIiIjIRkDNzMzMzIxHQBIRERERUUhAVlVVVVUVSUCamZmZmdlJQN7d3d3dnUpAIiIiIiJiS0BmZmZmZiZMQKuqqqqq6kxA8O7u7u6uTUA0MzMzM3NOQHh3d3d3N09AvLu7u7v7T0AAAAAAAGBQQCIiIiIiwlBARUREREQkUUBnZmZmZoZRQImIiIiI6FFAq6qqqqpKUkDNzMzMzKxSQO/u7u7uDlNA",
                        "dtype": "f8"
                      },
                      "y": {
                        "bdata": "XCBvYP+kOT/Utk7kNCpSP575VyxKTVQ/khVKQKoYcT/Hl4jmeYVvPxIF8gb2T4o/3dzwXZMLij85dEWcHwegP10bly0AGpQ/zOUen79IrT8LJq/j2UOiP7Rc6qhV2rQ/z3/fdssJpj8A43Hz1pa2PxSRudRRq6Q/LJUP435dsj/68qLuGDiuPyIv3SQGgZU/XbnH5y9Snz/5E2DL/CuGP7uzevrZUIw/GUeGlLT8bj+bgFQxIoBzP2YVSkCqGFE/XCBvYP+kWT/BpYHwKes9P5IVSkCqGCE/khVKQKoYIT8AAAAAAAAAAJIVSkCqGBE/",
                        "dtype": "f8"
                      }
                    },
                    {
                      "line": {
                        "color": "red",
                        "dash": "dash"
                      },
                      "mode": "lines",
                      "name": "정규근사",
                      "type": "scatter",
                      "x": {
                        "bdata": "RERERETEP0BmZmZmZqZAQKuqqqqqakFA7+7u7u4uQkAzMzMzM/NCQHh3d3d3t0NAvLu7u7t7REAAAAAAAEBFQEREREREBEZAiIiIiIjIRkDNzMzMzIxHQBIRERERUUhAVlVVVVUVSUCamZmZmdlJQN7d3d3dnUpAIiIiIiJiS0BmZmZmZiZMQKuqqqqq6kxA8O7u7u6uTUA0MzMzM3NOQHh3d3d3N09AvLu7u7v7T0AAAAAAAGBQQCIiIiIiwlBARUREREQkUUBnZmZmZoZRQImIiIiI6FFAq6qqqqpKUkDNzMzMzKxSQO/u7u7uDlNA",
                        "dtype": "f8"
                      },
                      "y": {
                        "bdata": "1WnNwWWaOD/T971P2DBLPwKriHimIlw/nDwIstdBaz83fsTqMbl4Pw/OD6fy/oQ/YDm4R6WxkD81+yvg19qYP0wuw5DIUqE/W3GBBOqbpj+2OwyOdKCrP/N/CbFFm68/rj2gWW7tsD+VPSVn2/mwP5N76ZMT4a8/7thSVHAGrD/x4ixVGBGnPyggw/SNxqE/Sr7djnGmmT+1VA6JuVORPxjn0YbV6oU/TdCjhef0eT9LL/c3+8dsP4pdr38J4V0/+IB1YbMKTT9F79Hqym06P2NK6l+khCY/Rs7jepb2ET8RGSLZLtX6Pr7jUrh1w+I+",
                        "dtype": "f8"
                      }
                    }
                  ],
                  "name": "n=170"
                },
                {
                  "data": [
                    {
                      "marker": {
                        "color": "blue"
                      },
                      "name": "이항분포 샘플",
                      "opacity": 0.7,
                      "type": "bar",
                      "x": {
                        "bdata": "IiIiIiJiQUBmZmZmZiZCQKuqqqqq6kJA7+7u7u6uQ0AzMzMzM3NEQHh3d3d3N0VAvLu7u7v7RUAAAAAAAMBGQEREREREhEdAiIiIiIhISEDNzMzMzAxJQBIRERER0UlAVlVVVVWVSkCamZmZmVlLQN7d3d3dHUxAIiIiIiLiTEBmZmZmZqZNQKuqqqqqak5A8O7u7u4uT0A0MzMzM/NPQLy7u7u7W1BA3t3d3d29UEAAAAAAACBRQCIiIiIiglFARURERETkUUBnZmZmZkZSQImIiIiIqFJAq6qqqqoKU0DNzMzMzGxTQO/u7u7uzlNA",
                        "dtype": "f8"
                      },
                      "y": {
                        "bdata": "khVKQKoYQT+apYHwKetNP1A8YXRfcFY/P2ZMkm+hcT+SFUpAqhhxPzq+hUY4GJA/XCBvYP+kiT8f9+uSyoehPygh5BpWG5c/+vKi7hg4rj8/ZkySb6GhP8qmKlNu67Q/3F4VMGyzoz8tVP15kom1PxSRudRRq6Q/2sIcZ862sT+h2JpPZlmsPyIv3SQGgZU/Ju1Il0fUoD94V97NaMWFP2p9gEfHpo0/7i9S31z3cj/xqFXahMRzP2/BcwSKtlo/OXRFnB8HYD9cIG9g/6Q5P8GlgfAp6z0/khVKQKoYET+SFUpAqhghP5IVSkCqGBE/",
                        "dtype": "f8"
                      }
                    },
                    {
                      "line": {
                        "color": "red",
                        "dash": "dash"
                      },
                      "mode": "lines",
                      "name": "정규근사",
                      "type": "scatter",
                      "x": {
                        "bdata": "IiIiIiJiQUBmZmZmZiZCQKuqqqqq6kJA7+7u7u6uQ0AzMzMzM3NEQHh3d3d3N0VAvLu7u7v7RUAAAAAAAMBGQEREREREhEdAiIiIiIhISEDNzMzMzAxJQBIRERER0UlAVlVVVVWVSkCamZmZmVlLQN7d3d3dHUxAIiIiIiLiTEBmZmZmZqZNQKuqqqqqak5A8O7u7u4uT0A0MzMzM/NPQLy7u7u7W1BA3t3d3d29UEAAAAAAACBRQCIiIiIiglFARURERETkUUBnZmZmZkZSQImIiIiIqFJAq6qqqqoKU0DNzMzMzGxTQO/u7u7uzlNA",
                        "dtype": "f8"
                      },
                      "y": {
                        "bdata": "Drql6HniPz+Jf9FMDtxQP4RzKlUiwWA/vktCRa9Kbz9mE98Ei3V7P/KupAqVpIY/Xd63RKKLkT8p6DiCJo2ZP/A2xEW0e6E/tws8Kop7pj9fTPVHBCurPzRZ1cSl2a4/cclSOp11sD9h0E1BBoGwPwUw0BP7Ga8/w1T6hbKJqz/lR8qzh+mmP8xvzh756aE/OcrKh6dSmj8QDOlqWSySP6TboRWNlIc/2rO3bkHAfD9KWJuahXhwP6DpSIzDu2E/j5qrkgjxUT/f0sBTsw5BP3UscflVei4/DWkfbC6WGT+1QkdkXi8EPytaBktP7e0+",
                        "dtype": "f8"
                      }
                    }
                  ],
                  "name": "n=180"
                },
                {
                  "data": [
                    {
                      "marker": {
                        "color": "blue"
                      },
                      "name": "이항분포 샘플",
                      "opacity": 0.7,
                      "type": "bar",
                      "x": {
                        "bdata": "RERERETkQUDNzMzMzKxCQFZVVVVVdUNA3t3d3d09REBmZmZmZgZFQO/u7u7uzkVAeHd3d3eXRkAAAAAAAGBHQIiIiIiIKEhAERERERHxSECamZmZmblJQCIiIiIigkpAqqqqqqpKS0A0MzMzMxNMQLy7u7u720xARERERESkTUDMzMzMzGxOQFZVVVVVNU9A3t3d3d39T0AzMzMzM2NQQHh3d3d3x1BAvLu7u7srUUAAAAAAAJBRQERERERE9FFAiIiIiIhYUkDMzMzMzLxSQBERERERIVNAVlVVVVWFU0CamZmZmelTQN7d3d3dTVRA",
                        "dtype": "f8"
                      },
                      "y": {
                        "bdata": "qeOSF1EZKT/TvU8+buo0P78qrtH80kI/D+zITwN8Zj8fQIU6ezxcPwux1nsC3YA/H0CFOns8fD8tg4XYzUSXP16kcfBGzKA/hPQSv2Xblz+Ih8hih++tP1phXRtEx6E/FZw7uJRpsz/UKjjtVNGkP+4VTgBjYLQ/NTNuJQc0sj9epHHwRsygP9xQBeKP/qo/xaigQ1B6kz/nYZnAVL2dP7DnrTOqyoc/7Rka8zcUkD8C1xlV5QuFP9O9Tz5u6mQ/GcaFdiBNYj9snHddpV9PP8EJ1vAzSE0/ieOSF1EZKT/clwxli7swP9yXDGWLuyA/",
                        "dtype": "f8"
                      }
                    },
                    {
                      "line": {
                        "color": "red",
                        "dash": "dash"
                      },
                      "mode": "lines",
                      "name": "정규근사",
                      "type": "scatter",
                      "x": {
                        "bdata": "RERERETkQUDNzMzMzKxCQFZVVVVVdUNA3t3d3d09REBmZmZmZgZFQO/u7u7uzkVAeHd3d3eXRkAAAAAAAGBHQIiIiIiIKEhAERERERHxSECamZmZmblJQCIiIiIigkpAqqqqqqpKS0A0MzMzMxNMQLy7u7u720xARERERESkTUDMzMzMzGxOQFZVVVVVNU9A3t3d3d39T0AzMzMzM2NQQHh3d3d3x1BAvLu7u7srUUAAAAAAAJBRQERERERE9FFAiIiIiIhYUkDMzMzMzLxSQBERERERIVNAVlVVVVWFU0CamZmZmelTQN7d3d3dTVRA",
                        "dtype": "f8"
                      },
                      "y": {
                        "bdata": "ZJERsjJiLT/fcriw7GJAP1GgXvmlL1E/+gqiuxDzYD82juMcBHBvPykbjTtdans/e90A1Ep7hj/cTWaD9VWRP7vfacr2I5k/NmTWE1IkoT8wznJNRPulPzyllel8gao/tJ0e7PENrj+K65mVxQWwP7AfBN2FELA/qQKDaJpKrj/ryHbL4dqqP2oxijlUY6Y/xYnqme6MoT/zsFry+d+ZP0dCIGOU75E/oHHensRhhz95AohXvKl8P/xAYFA0hXA/YRIRxkPoYT/l5ASSq0BSPzsg8MGgfkE/Zfk5fxSJLz86kK60E7oaPyNC96DRTAU/",
                        "dtype": "f8"
                      }
                    }
                  ],
                  "name": "n=190"
                },
                {
                  "data": [
                    {
                      "marker": {
                        "color": "blue"
                      },
                      "name": "이항분포 샘플",
                      "opacity": 0.7,
                      "type": "bar",
                      "x": {
                        "bdata": "ZmZmZmbmQkA0MzMzM7NDQAAAAAAAgERAzMzMzMxMRUCamZmZmRlGQGZmZmZm5kZANDMzMzOzR0AAAAAAAIBIQMzMzMzMTElAmpmZmZkZSkBmZmZmZuZKQDQzMzMzs0tAAAAAAACATEDNzMzMzExNQJqZmZmZGU5AZmZmZmbmTkA0MzMzM7NPQAAAAAAAQFBAZmZmZmamUEDNzMzMzAxRQDMzMzMzc1FAmpmZmZnZUUAAAAAAAEBSQGdmZmZmplJAzczMzMwMU0AzMzMzM3NTQJqZmZmZ2VNAAAAAAABAVEBnZmZmZqZUQM3MzMzMDFVA",
                        "dtype": "f8"
                      },
                      "y": {
                        "bdata": "+Knx0k1iID/0fmq8dJMoPwyq8dJNYiA/cukmMQisXD8VL90kBoFVP1RkO99PjXc/VGQ730+Nhz+iwvUoXI+CP5kaL90kBpk/zCLb+X5qlD/Ro3A9CtenP04OLbKd768/0J8aL90koj8H2/l+aryyPxhWDi2ynaM/1vl+arx0sz+kxks3iUGwP0Vcj8L1KJw/ETMzMzMzpz9FCKwcWmSTP5/AyqFFtps/MAwCK4cWkT+Pne+nxkt3P2TjpZvEIIA//lG4HoXrYT+BvHSTGARmP+Op8dJNYlA/46nx0k1iED+PFK5H4Xo0Pwyq8dJNYiA/",
                        "dtype": "f8"
                      }
                    },
                    {
                      "line": {
                        "color": "red",
                        "dash": "dash"
                      },
                      "mode": "lines",
                      "name": "정규근사",
                      "type": "scatter",
                      "x": {
                        "bdata": "ZmZmZmbmQkA0MzMzM7NDQAAAAAAAgERAzMzMzMxMRUCamZmZmRlGQGZmZmZm5kZANDMzMzOzR0AAAAAAAIBIQMzMzMzMTElAmpmZmZkZSkBmZmZmZuZKQDQzMzMzs0tAAAAAAACATEDNzMzMzExNQJqZmZmZGU5AZmZmZmbmTkA0MzMzM7NPQAAAAAAAQFBAZmZmZmamUEDNzMzMzAxRQDMzMzMzc1FAmpmZmZnZUUAAAAAAAEBSQGdmZmZmplJAzczMzMwMU0AzMzMzM3NTQJqZmZmZ2VNAAAAAAABAVEBnZmZmZqZUQM3MzMzMDFVA",
                        "dtype": "f8"
                      },
                      "y": {
                        "bdata": "fvwuvnbXJj/RgaoAzM45PwBAzoNUb0s/IfBbPqNwWz8kuS3PfNJpP6v7/bLo3HY/3nBqWbgLgz/HQo7IAtuNP7Vd4Iw7BJY/gJr4By2Nnj/XpSIRr/GjP2m5w0vVf6g/DKq74MJQrD8Ur1HqdcquP8ihvby0gK8/HaO+50FTrj9JLnvSLXerPyoMfVSTZ6c/L6FvV8bDoj/1IDF4aU+cP3ADKXfGF5Q/RznrI7vVij9uWS6RJdyAPxWVvlXV7nM/QtLdJissZj9CqiMpkTRXP7dicyuk2UY/mJrtNYArNT/3h5S9FnQiPyrU98HRRA4/",
                        "dtype": "f8"
                      }
                    }
                  ],
                  "name": "n=200"
                },
                {
                  "data": [
                    {
                      "marker": {
                        "color": "blue"
                      },
                      "name": "이항분포 샘플",
                      "opacity": 0.7,
                      "type": "bar",
                      "x": {
                        "bdata": "iIiIiIjoRECamZmZmblFQKqqqqqqikZAvLu7u7tbR0DMzMzMzCxIQN7d3d3d/UhA7+7u7u7OSUAAAAAAAKBKQBERERERcUtAIiIiIiJCTEAzMzMzMxNNQERERERE5E1AVlVVVVW1TkBmZmZmZoZPQLy7u7u7K1BARERERESUUEDMzMzMzPxQQFZVVVVVZVFA3t3d3d3NUUBmZmZmZjZSQO7u7u7unlJAeHd3d3cHU0AAAAAAAHBTQIiIiIiI2FNAEhERERFBVECamZmZmalUQCIiIiIiElVAqqqqqqp6VUA0MzMzM+NVQLy7u7u7S1ZA",
                        "dtype": "f8"
                      },
                      "y": {
                        "bdata": "SpGcFg8TOD/X/gtFPBZMPzG2vbm0DFA/46OLXxqNcD+ubDhi2hN5PyH/yDOtEHU/vzPIMiXekT8Cn+NiijWbP7pj3CN+TpI/IDfMUu/qpz8DET6f1pWbP509dl/kSLA/8qhOfrqasj/3bPVQSw6iP3yNA/dSW7M/aRvE3Baxrz8TgQHMy0SaP/DWo3A9Cqc/Zgd1UAd1oD/zdVGPp9OIPzsf/8gzrZA/fKPOcKmSdz9vGlfMo1V7P7X+C0U8Fmw/Hba9ubQMUD8ObfVQSw5SP5/aZH94EUY/Hba9ubQMED8tkZwWDxMoP0W2vbm0DBA/",
                        "dtype": "f8"
                      }
                    },
                    {
                      "line": {
                        "color": "red",
                        "dash": "dash"
                      },
                      "mode": "lines",
                      "name": "정규근사",
                      "type": "scatter",
                      "x": {
                        "bdata": "iIiIiIjoRECamZmZmblFQKqqqqqqikZAvLu7u7tbR0DMzMzMzCxIQN7d3d3d/UhA7+7u7u7OSUAAAAAAAKBKQBERERERcUtAIiIiIiJCTEAzMzMzMxNNQERERERE5E1AVlVVVVW1TkBmZmZmZoZPQLy7u7u7K1BARERERESUUEDMzMzMzPxQQFZVVVVVZVFA3t3d3d3NUUBmZmZmZjZSQO7u7u7unlJAeHd3d3cHU0AAAAAAAHBTQIiIiIiI2FNAEhERERFBVECamZmZmalUQCIiIiIiElVAqqqqqqp6VUA0MzMzM+NVQLy7u7u7S1ZA",
                        "dtype": "f8"
                      },
                      "y": {
                        "bdata": "lnFXg/hMOD9tTzeUadVJP1L3BjPp2Vk/wKikkqxZaD8ApHp5Epd1P+mW7mbmBII/pKJfeuBPjD9ChdXewu+UP8S6EN+zJZ0/67y40BcZoz8J6GN80o6nP/uM4ex9Wqs/c4BMIXDlrT+2Q0tn38GuP54pZPUkya0/rlF2L9Amqz+/wdgYL0ynP8xP9iYy0aI/APryZcucnD+shh8U+HmUPylWxUVilos/z1Q5/Dl+gT+d+ziJ3+F0P3c07j4Fd2c/yDkG87XRWD827UhG67VIP0JW/P6JKDc/DtjZkvltJD/SuqFF5fYQPxZ0susshfo+",
                        "dtype": "f8"
                      }
                    }
                  ],
                  "name": "n=210"
                },
                {
                  "data": [
                    {
                      "marker": {
                        "color": "blue"
                      },
                      "name": "이항분포 샘플",
                      "opacity": 0.7,
                      "type": "bar",
                      "x": {
                        "bdata": "7+7u7u5uRUDNzMzMzExGQKuqqqqqKkdAiYiIiIgISEBnZmZmZuZIQERERERExElAIiIiIiKiSkAAAAAAAIBLQN7d3d3dXUxAvLu7u7s7TUCamZmZmRlOQHd3d3d3905AVVVVVVXVT0CamZmZmVlQQIiIiIiIyFBAeHd3d3c3UUBmZmZmZqZRQFZVVVVVFVJARERERESEUkA0MzMzM/NSQCIiIiIiYlNAERERERHRU0AAAAAAAEBUQO/u7u7urlRA3t3d3d0dVUDNzMzMzIxVQLy7u7u7+1VAq6qqqqpqVkCamZmZmdlWQIiIiIiISFdA",
                        "dtype": "f8"
                      },
                      "y": {
                        "bdata": "MnXYcn+vJj+qYbTflOcyP21rRimKy1Q/9n5qvHSTSD+7iPwFandqP6H8BWp3Gng/j+rHAyjSij9TJUvbEJ2DP9iDM2FvhZk/PdYw2m/Koz8keHaQY8ioP6Z7h0QVIZ4/tcIMR4UCsD/QCAiV/jCxP/dQLmqOOKE/xZCRBJtosD89BG0sViWrP2FpG6Jz8qU/PJSLmiNOkD88Y5oMMGeZP0GLbOf7qZE/LOnh1oxShD9t9zzFfChnPw1YIpafA3E/fYj8BWp3Wj9mddhyf69GP/502HJ/rzY/iJwgmVQ/Lj9DnCCZVD8eP0OcIJlUPw4/",
                        "dtype": "f8"
                      }
                    },
                    {
                      "line": {
                        "color": "red",
                        "dash": "dash"
                      },
                      "mode": "lines",
                      "name": "정규근사",
                      "type": "scatter",
                      "x": {
                        "bdata": "7+7u7u5uRUDNzMzMzExGQKuqqqqqKkdAiYiIiIgISEBnZmZmZuZIQERERERExElAIiIiIiKiSkAAAAAAAIBLQN7d3d3dXUxAvLu7u7s7TUCamZmZmRlOQHd3d3d3905AVVVVVVXVT0CamZmZmVlQQIiIiIiIyFBAeHd3d3c3UUBmZmZmZqZRQFZVVVVVFVJARERERESEUkA0MzMzM/NSQCIiIiIiYlNAERERERHRU0AAAAAAAEBUQO/u7u7urlRA3t3d3d0dVUDNzMzMzIxVQLy7u7u7+1VAq6qqqqpqVkCamZmZmdlWQIiIiIiISFdA",
                        "dtype": "f8"
                      },
                      "y": {
                        "bdata": "GKOwylt8Jz8ARMC0dxM7P1ysAZ3yP00/ShR0isybXT978+VSrxVsP5zxU3hF9ng/CNsTASPKhD9GaZrEdTmQP2ElMJymupc/h01I141CoD/1eiLNd+GkP0KqxYZWIKk/qNyPBdxUrD/Ru3qwJO+tPyHOXnbboq0/7ND9S2d+qz8KnnNle+anP+IUnNrpd6M/ZKuBHz+4nT/hgeV1l0GVP1hyDP3PfYw/O6aenHnkgT8k+XBpzg51Pw+qtj8IOWc/InzS73H/Vz+BNVKWxDxHP4p69FKVFTU/hnp0fh3tIT8SphilKZAMP84R6bq1UvU+",
                        "dtype": "f8"
                      }
                    }
                  ],
                  "name": "n=220"
                },
                {
                  "data": [
                    {
                      "marker": {
                        "color": "blue"
                      },
                      "name": "이항분포 샘플",
                      "opacity": 0.7,
                      "type": "bar",
                      "x": {
                        "bdata": "zczMzMxsRkBmZmZmZkZHQAAAAAAAIEhAmpmZmZn5SEAzMzMzM9NJQM3MzMzMrEpAZmZmZmaGS0AAAAAAAGBMQJqZmZmZOU1AMzMzMzMTTkDNzMzMzOxOQGdmZmZmxk9AAAAAAABQUEDMzMzMzLxQQJqZmZmZKVFAZmZmZmaWUUA0MzMzMwNSQAAAAAAAcFJAzMzMzMzcUkCamZmZmUlTQGZmZmZmtlNAMzMzMzMjVEAAAAAAAJBUQMzMzMzM/FRAmpmZmZlpVUBmZmZmZtZVQDMzMzMzQ1ZAAAAAAACwVkDMzMzMzBxXQJqZmZmZiVdA",
                        "dtype": "f8"
                      },
                      "y": {
                        "bdata": "Skpzz14hJz9lSnPPXiE3P0pKc89eITc/hriZFCnXPj8A4YT1Mj1kPxZJpTT37HU/Pau/bbWWcT8igDhX3MeJP4j96DrzEZc/QhzptYJPjD+2bbWWESakP1R0ImpLxqo/E8UWz+1yrj8mntvlvGChP3i9x55Cs7A/VApSM67CsD/YBYt2yICfP9KcnJycnKw/pRV84kivpT+OqliggfyQP1U14yoMh5s/Pt0aJfyfkD/2rik+7DOFPw0YGBgYGGg/9anx0k1icD8TSNeZj7hkPxAT4Kx5RkM/gEpzz14hNz9WgQbyQ/w6P0pKc89eISc/",
                        "dtype": "f8"
                      }
                    },
                    {
                      "line": {
                        "color": "red",
                        "dash": "dash"
                      },
                      "mode": "lines",
                      "name": "정규근사",
                      "type": "scatter",
                      "x": {
                        "bdata": "zczMzMxsRkBmZmZmZkZHQAAAAAAAIEhAmpmZmZn5SEAzMzMzM9NJQM3MzMzMrEpAZmZmZmaGS0AAAAAAAGBMQJqZmZmZOU1AMzMzMzMTTkDNzMzMzOxOQGdmZmZmxk9AAAAAAABQUEDMzMzMzLxQQJqZmZmZKVFAZmZmZmaWUUA0MzMzMwNSQAAAAAAAcFJAzMzMzMzcUkCamZmZmUlTQGZmZmZmtlNAMzMzMzMjVEAAAAAAAJBUQMzMzMzM/FRAmpmZmZlpVUBmZmZmZtZVQDMzMzMzQ1ZAAAAAAACwVkDMzMzMzBxXQJqZmZmZiVdA",
                        "dtype": "f8"
                      },
                      "y": {
                        "bdata": "YjAJzq72IT9gKLkwFmU0P7Dq+SNzz0U/H7laAiz4VT86XwPnKNhkP64X0afYoHI/eyluU6Rcfz9Bjg/I1N2IPwiodBtBkpI/QLFse+Mgmj/sYug1GlChP0HWM09anKU/FAT8dadoqT8TXrZPpyOsPwO2G4VsWq0/HBkO3VbXrD+Cb8CVM7GqP2nlJdLBRKc/MLgXDSMboz+s+PsDyY2dPzVPFxuph5U/KAciURCMjT/JQi9P6RiDP+PgViKxQHc/5RbCBfyqaj8Ehyl88c5cP/auosUrUE0/2WrdFDAYPD/MeSTD0lwpP/A7qqoIkRU/",
                        "dtype": "f8"
                      }
                    }
                  ],
                  "name": "n=230"
                },
                {
                  "data": [
                    {
                      "marker": {
                        "color": "blue"
                      },
                      "name": "이항분포 샘플",
                      "opacity": 0.7,
                      "type": "bar",
                      "x": {
                        "bdata": "mpmZmZl5RkDMzMzMzGxHQAAAAAAAYEhANDMzMzNTSUBmZmZmZkZKQJqZmZmZOUtAzMzMzMwsTEAAAAAAACBNQDMzMzMzE05AZmZmZmYGT0CamZmZmflPQGZmZmZmdlBAAAAAAADwUECamZmZmWlRQDMzMzMz41FAzczMzMxcUkBmZmZmZtZSQAAAAAAAUFNAmZmZmZnJU0AzMzMzM0NUQM3MzMzMvFRAZmZmZmY2VUAAAAAAALBVQJmZmZmZKVZAMzMzMzOjVkDNzMzMzBxXQGZmZmZmlldAAAAAAAAQWECZmZmZmYlYQDMzMzMzA1lA",
                        "dtype": "f8"
                      },
                      "y": {
                        "bdata": "DaVTSBeYCz8AAAAAAAAAABZHNI0OPzE/KEc0jQ4/QT+8as7Tld5ZP/9+arx0k2g/k82LGdUBeT/5z9pe8GaDPwClyhgWtZA/qEkMAiuHhj+kV54lxc2dP6z/20H7c6Q/heyrkypjqD+jzy1x6vesP0qr5jxd6a0/DCN2iIITrT/tVfzNr9epPwsGbzZBxaY/J0xbR0bsoD/YDDhIjmiKP7r0V7CEx5M/AAgRjla7ij+1/Tnq5X2AP6mVVepurXE/IG0dGbFDZD+MGV4xGgtPP4QwSV8UJTg/AAAAAAAAAADvpFNIF5gLP++kU0gXmAs/",
                        "dtype": "f8"
                      }
                    },
                    {
                      "line": {
                        "color": "red",
                        "dash": "dash"
                      },
                      "mode": "lines",
                      "name": "정규근사",
                      "type": "scatter",
                      "x": {
                        "bdata": "mpmZmZl5RkDMzMzMzGxHQAAAAAAAYEhANDMzMzNTSUBmZmZmZkZKQJqZmZmZOUtAzMzMzMwsTEAAAAAAACBNQDMzMzMzE05AZmZmZmYGT0CamZmZmflPQGZmZmZmdlBAAAAAAADwUECamZmZmWlRQDMzMzMz41FAzczMzMxcUkBmZmZmZtZSQAAAAAAAUFNAmZmZmZnJU0AzMzMzM0NUQM3MzMzMvFRAZmZmZmY2VUAAAAAAALBVQJmZmZmZKVZAMzMzMzOjVkDNzMzMzBxXQGZmZmZmlldAAAAAAAAQWECZmZmZmYlYQDMzMzMzA1lA",
                        "dtype": "f8"
                      },
                      "y": {
                        "bdata": "8KvJnZ28BD9qIEMwILwbP8yHb2XpQzE/x6Zs9IUCRD8juhTsdZZVP0/wu9QgrmU/5xGoX55EdD+yu36OXqOBP3WGC5m6k4w/x7pIn8SMlT+Oa9FWPEGePwYkitwgxaM/tGUNvTENqD90wi0K3TyrPyFnxJ7Ctqw/HrkGfYAtrD8wuER4gb2pP7Bh5LZo46U/pHMzS4VToT9KIxKMt4iZP2fW5921g5E/rK2MtdNdhj/Noo5un5Z6PzjkbN8hbG0//MZG8tdOXj/Y1WkO7g9NP3l/lAkA8Tk/xsZCCh6OJT9vMawpKqwQP5FqS2lOAvg+",
                        "dtype": "f8"
                      }
                    }
                  ],
                  "name": "n=240"
                },
                {
                  "data": [
                    {
                      "marker": {
                        "color": "blue"
                      },
                      "name": "이항분포 샘플",
                      "opacity": 0.7,
                      "type": "bar",
                      "x": {
                        "bdata": "eHd3d3d3SUBmZmZmZmZKQFZVVVVVVUtARERERERETEA0MzMzMzNNQCIiIiIiIk5AERERERERT0AAAAAAAABQQHh3d3d3d1BA7+7u7u7uUEBmZmZmZmZRQN7d3d3d3VFAVlVVVVVVUkDMzMzMzMxSQERERERERFNAvLu7u7u7U0A0MzMzMzNUQKqqqqqqqlRAIiIiIiIiVUCamZmZmZlVQBIREREREVZAiIiIiIiIVkAAAAAAAABXQHh3d3d3d1dA7u7u7u7uV0BmZmZmZmZYQN7d3d3d3VhAVlVVVVVVWUDMzMzMzMxZQERERERERFpA",
                        "dtype": "f8"
                      },
                      "y": {
                        "bdata": "0/4LRTwWHD/T/gtFPBY8P0R/J6vljVE/LG+MYKK/Yz9S7+rX2jxwPy5XAuh1h4M/98KyF82Jiz8CL90kBoGFPxwT/Z2slpc/KruA2FQaoj8Zsak05NynP74kBoGVQ6s/3Rn4ENIWrj/jmo1UXYOtP64uIDaVhpw/yMTdnuNiqj8ojwUHuGGmP15iEFg5tKA/zwJiU2nImT85sWYjVdeQPzbzg/eW9IQ/Nuc+u4DYdD/JPruA2FRaP0U/eG9JT2M/Y+/q19o8YD8xfyer5Y1BPzF/J6vljTE/8P4LRTwWDD/w/gtFPBYMP7X+C0U8Fgw/",
                        "dtype": "f8"
                      }
                    },
                    {
                      "line": {
                        "color": "red",
                        "dash": "dash"
                      },
                      "mode": "lines",
                      "name": "정규근사",
                      "type": "scatter",
                      "x": {
                        "bdata": "eHd3d3d3SUBmZmZmZmZKQFZVVVVVVUtARERERERETEA0MzMzMzNNQCIiIiIiIk5AERERERERT0AAAAAAAABQQHh3d3d3d1BA7+7u7u7uUEBmZmZmZmZRQN7d3d3d3VFAVlVVVVVVUkDMzMzMzMxSQERERERERFNAvLu7u7u7U0A0MzMzMzNUQKqqqqqqqlRAIiIiIiIiVUCamZmZmZlVQBIREREREVZAiIiIiIiIVkAAAAAAAABXQHh3d3d3d1dA7u7u7u7uV0BmZmZmZmZYQN7d3d3d3VhAVlVVVVVVWUDMzMzMzMxZQERERERERFpA",
                        "dtype": "f8"
                      },
                      "y": {
                        "bdata": "4vkXhaoELT+eqzZaVINAPzr3nEY5llE/Ri5CVxSHYT8tIjdj0FhwP7+93UWQiHw/BNIGkqdNhz8PSZFlS8+RP7xAalRueZk/Ouf0ZX4MoT9Dq4NVxFqlP6eeDCu2B6k/UepoBVB0qz+3ccK2+i2sPw9sIdMPEas/1M21/QNUqD/vyrSVbHakP3bWrwwiG6A/vsvTHsq5lz+2mj5RX1qQP6gzmNtYGIU/VSns4gB3eT+7ggymC8RsP8A9A+NwaF4/1QplJGoUTj+M4jMIJdg7P0RrA6iuHig/nttf20eNEz9K8hW9mqn9PsMn17VNDuU+",
                        "dtype": "f8"
                      }
                    }
                  ],
                  "name": "n=250"
                },
                {
                  "data": [
                    {
                      "marker": {
                        "color": "blue"
                      },
                      "name": "이항분포 샘플",
                      "opacity": 0.7,
                      "type": "bar",
                      "x": {
                        "bdata": "VlVVVVX1SEAAAAAAAOBJQKqqqqqqykpAVlVVVVW1S0AAAAAAAKBMQKqqqqqqik1AVVVVVVV1TkAAAAAAAGBPQFVVVVVVJVBAqqqqqqqaUEAAAAAAABBRQFVVVVVVhVFAqqqqqqr6UUAAAAAAAHBSQFVVVVVV5VJAqqqqqqpaU0AAAAAAANBTQFVVVVVVRVRAqqqqqqq6VEAAAAAAADBVQFVVVVVVpVVAqqqqqqoaVkAAAAAAAJBWQFVVVVVVBVdAqqqqqqp6V0AAAAAAAPBXQFVVVVVVZVhAqqqqqqraWEAAAAAAAFBZQFVVVVVVxVlA",
                        "dtype": "f8"
                      },
                      "y": {
                        "bdata": "qB8XqblyJT8A1R6M95gMP+DUHoz3mBw/vlfRPgsWQD8QDdkhSTxXP/cM2SFJPEc/sOdcE2jPaj+DPRHj6tR+Pyd8u4+EyIU/tTXNO07RkT+GTaA9a0CaPwDTAR1viJA/9spVABUkpT8ZkOw907WnPwU/zej86K0/0WU8HrwMrj9F+BW2kpSuP7hcZrm3Tpo/DH9qvHSTqD8D3NeBc0akPwp7KdIcDp8/6wCLsSBWlT9/McNywu6MP6bJYtk2bXE/AhzWvmHtez94TjL70vpwP0zAw5X+UWI/ANUejPeYTD/AHxepuXI1P8HUHoz3mCw/",
                        "dtype": "f8"
                      }
                    },
                    {
                      "line": {
                        "color": "red",
                        "dash": "dash"
                      },
                      "mode": "lines",
                      "name": "정규근사",
                      "type": "scatter",
                      "x": {
                        "bdata": "VlVVVVX1SEAAAAAAAOBJQKqqqqqqykpAVlVVVVW1S0AAAAAAAKBMQKqqqqqqik1AVVVVVVV1TkAAAAAAAGBPQFVVVVVVJVBAqqqqqqqaUEAAAAAAABBRQFVVVVVVhVFAqqqqqqr6UUAAAAAAAHBSQFVVVVVV5VJAqqqqqqpaU0AAAAAAANBTQFVVVVVVRVRAqqqqqqq6VEAAAAAAADBVQFVVVVVVpVVAqqqqqqoaVkAAAAAAAJBWQFVVVVVVBVdAqqqqqqp6V0AAAAAAAPBXQFVVVVVVZVhAqqqqqqraWEAAAAAAAFBZQFVVVVVVxVlA",
                        "dtype": "f8"
                      },
                      "y": {
                        "bdata": "ePYMbNeqBD9EpskZfLoZP8tSEO3iHS4/cZbqeguTQD+p+ixjZSdRP4MLmkCXsWA/VYCiR0uNbj/7IJLSwkl6Pyp2pOrZRIU/O7BcgUMukD9bOVPpUCaXP+19FqyMJJ8/nfOIR32yoz9WxEMXv22nP7kvzt0NNKo/dsjNK5GOqz870P+JDECrP+wQkMSNVqk/5E4l/FAnpj+VNOSegDaiPyBlWwKUKJw/j1gGQc93lD//ULsds/qLP8j7VMtX+4E/g6X2T7i7dT/+be6e/bJoP4514SjdZFo/OHTQaG2FSj+cTlB42Q45PyrJzMkVQyY/",
                        "dtype": "f8"
                      }
                    }
                  ],
                  "name": "n=260"
                },
                {
                  "data": [
                    {
                      "marker": {
                        "color": "blue"
                      },
                      "name": "이항분포 샘플",
                      "opacity": 0.7,
                      "type": "bar",
                      "x": {
                        "bdata": "eHd3d3f3SkBmZmZmZuZLQFZVVVVV1UxARERERETETUA0MzMzM7NOQCIiIiIiok9AiIiIiIhIUEAAAAAAAMBQQHh3d3d3N1FA7+7u7u6uUUBmZmZmZiZSQN7d3d3dnVJAVlVVVVUVU0DMzMzMzIxTQEREREREBFRAvLu7u7t7VEA0MzMzM/NUQKqqqqqqalVAIiIiIiLiVUCamZmZmVlWQBIRERER0VZAiIiIiIhIV0AAAAAAAMBXQHh3d3d3N1hA7u7u7u6uWEBmZmZmZiZZQN7d3d3dnVlAVlVVVVUVWkDMzMzMzIxaQEREREREBFtA",
                        "dtype": "f8"
                      },
                      "y": {
                        "bdata": "0/4LRTwWDD8AAAAAAAAAANP+C0U8Fiw/0/4LRTwWTD8630+Nl25iP9P+C0U8Fmw/KI8FB7hhdj8k99kFxKZyP2XXYF+uBJA/5MgzrRAVmD/RZiNV12CfPxIZfjPwIaQ/B30/NV66qT/1i+bE3Z6rP6zMzMzMzJw/qqFFtvP9rD/xr7V5IPOrPw67w+njH6k/KUGj9l8ooj+ljkgYR2edPz8B9LrD6ZM/6VLv6tfajD8UhxbZzvdzPwj3HBdTrHk/z36tzQOZbz8srzucPv5hPwf/yDOtEFU/Vn8nq+WNQT9Wfyer5Y0xPwf/yDOtECU/",
                        "dtype": "f8"
                      }
                    },
                    {
                      "line": {
                        "color": "red",
                        "dash": "dash"
                      },
                      "mode": "lines",
                      "name": "정규근사",
                      "type": "scatter",
                      "x": {
                        "bdata": "eHd3d3f3SkBmZmZmZuZLQFZVVVVV1UxARERERETETUA0MzMzM7NOQCIiIiIiok9AiIiIiIhIUEAAAAAAAMBQQHh3d3d3N1FA7+7u7u6uUUBmZmZmZiZSQN7d3d3dnVJAVlVVVVUVU0DMzMzMzIxTQEREREREBFRAvLu7u7t7VEA0MzMzM/NUQKqqqqqqalVAIiIiIiLiVUCamZmZmVlWQBIRERER0VZAiIiIiIhIV0AAAAAAAMBXQHh3d3d3N1hA7u7u7u6uWEBmZmZmZiZZQN7d3d3dnVlAVlVVVVUVWkDMzMzMzIxaQEREREREBFtA",
                        "dtype": "f8"
                      },
                      "y": {
                        "bdata": "cv/PR565FT+aTFXQ160pPxTFQbYnizw/8opoWSbWTT8+eF+cQFRdPx+mjnKnHGs/O/16VYyRdz8JPKDKX0SDP1HGyXuun40/A6sRmZRqlT/ze0vhtR6dP+xo0HAJnqI/ak1GQO1ipj8x8FaQa1CpPzo9G+Yo66o/Oj0b5ijrqj8x8FaQa1CpP2pNRkDtYqY/7GjQcAmeoj/ze0vhtR6dP/KqEZmUapU/UcbJe66fjT8JPKDKX0SDPzv9elWMkXc/QaaOcqccaz8+eF+cQFRdP/KKaFkm1k0/6cRBtieLPD/NTFXQ160pP3L/z0eeuRU/",
                        "dtype": "f8"
                      }
                    }
                  ],
                  "name": "n=270"
                },
                {
                  "data": [
                    {
                      "marker": {
                        "color": "blue"
                      },
                      "name": "이항분포 샘플",
                      "opacity": 0.7,
                      "type": "bar",
                      "x": {
                        "bdata": "RERERESESkDNzMzMzIxLQFZVVVVVlUxA3t3d3d2dTUBmZmZmZqZOQPDu7u7urk9AvLu7u7tbUEAAAAAAAOBQQEREREREZFFAiIiIiIjoUUDNzMzMzGxSQBIRERER8VJAVlVVVVV1U0CamZmZmflTQN7d3d3dfVRAIiIiIiICVUBmZmZmZoZVQKuqqqqqClZA8O7u7u6OVkA0MzMzMxNXQHh3d3d3l1dAvLu7u7sbWEAAAAAAAKBYQEREREREJFlAiYiIiIioWUDOzMzMzCxaQBIRERERsVpAVlVVVVU1W0CamZmZmblbQN7d3d3dPVxA",
                        "dtype": "f8"
                      },
                      "y": {
                        "bdata": "IOZM/GdeGT8AAAAAAAAAACDmTPxnXhk/cUnD/JoyNj/6ev58tJxEP42wpTyO/VY/Rt50fedwYT9F30+Nl25yPxV3kj30pYA/hmY6BEDdiT+zCN/wVnSVP2cRkn+HX54/X5JTJTlVoj+xCboAB3KmP42rdB6xTag/Gn0pBMt1sz93sKU8jv2mP9C5LGmYX6M/qAta79Mooj8L3cXPXfycP5xTJTlVkpM/MundK3hXjD/CYBilH+uDP7UTHD3B0XM/POSW3AdjZz/Jgtb7NIpcPznmTPxnXkk/OeZM/GdeOT855kz8Z14pPznmTPxnXik/",
                        "dtype": "f8"
                      }
                    },
                    {
                      "line": {
                        "color": "red",
                        "dash": "dash"
                      },
                      "mode": "lines",
                      "name": "정규근사",
                      "type": "scatter",
                      "x": {
                        "bdata": "RERERESESkDNzMzMzIxLQFZVVVVVlUxA3t3d3d2dTUBmZmZmZqZOQPDu7u7urk9AvLu7u7tbUEAAAAAAAOBQQEREREREZFFAiIiIiIjoUUDNzMzMzGxSQBIRERER8VJAVlVVVVV1U0CamZmZmflTQN7d3d3dfVRAIiIiIiICVUBmZmZmZoZVQKuqqqqqClZA8O7u7u6OVkA0MzMzMxNXQHh3d3d3l1dAvLu7u7sbWEAAAAAAAKBYQEREREREJFlAiYiIiIioWUDOzMzMzCxaQBIRERERsVpAVlVVVVU1W0CamZmZmblbQN7d3d3dPVxA",
                        "dtype": "f8"
                      },
                      "y": {
                        "bdata": "fwRSaOte7z442WBrVHUGP1BVKcQi5x0/PKFYkEeDMj8AcEjxBFFFP654PN0401Y/yHQQlGS6Zj/eCo/9vwt1PxV2dqRwH4I/qtDnilEGjT/bBCtdKJ2VPwZhnHpq750/wzuhQRhHoz8Y8jjv4RanPyNbuYuXt6k/8VfnRBqjqj/2VE4CL6ipP/IfqEA/+6Y/3/AQd4Ykoz8ni+rQ7KedP13Wf+i1XJU/j38jPpaejD9vwu7L9tOBP1zBPSCyp3Q/ajHQEPpAZj9+exXS5UtWP+UMbMQpxkQ/rbG0fuD/MT85Z8bGdwEdP5kQAo/JuwU/",
                        "dtype": "f8"
                      }
                    }
                  ],
                  "name": "n=280"
                },
                {
                  "data": [
                    {
                      "marker": {
                        "color": "blue"
                      },
                      "name": "이항분포 샘플",
                      "opacity": 0.7,
                      "type": "bar",
                      "x": {
                        "bdata": "3t3d3d39TECamZmZmflNQFVVVVVV9U5AEBERERHxT0BmZmZmZnZQQERERERE9FBAIiIiIiJyUUAAAAAAAPBRQN7d3d3dbVJAvLu7u7vrUkCZmZmZmWlTQHd3d3d351NAVVVVVVVlVEAzMzMzM+NUQBERERERYVVA7+7u7u7eVUDNzMzMzFxWQKuqqqqq2lZAiYiIiIhYV0BmZmZmZtZXQEREREREVFhAIiIiIiLSWEAAAAAAAFBZQN7d3d3dzVlAu7u7u7tLWkCZmZmZmclaQHd3d3d3R1tAVVVVVVXFW0AzMzMzM0NcQBERERERwVxA",
                        "dtype": "f8"
                      },
                      "y": {
                        "bdata": "PB07V6GoCj9WHTtXoagaPzwdO1ehqBo/Vh07V6GoOj9G8oTWZKlQP0byhNZkqWA/zlncjPrSbj8Pz65sK1N8Pz0ITkiTA4c/9o8wJ7m2kD9vf9jtBO6ZP+5Af/JqWaA/TBuDkWA+pT+A1xGizWSoP1bOiSJTS6o/pmt+Wl+rqT9s9c8XDnapPzl+RXKci6Y/5PxW6o/Soj8OWQAq2h2cP1MvlD1OLpY/fbznVO5yjz+OkFVxkb6CP1729GHmfXs/0AUoUcI+cD/5p2h3cChdPwN9svYzKVM/5IAigrX9PT/tVWwBef4zPzwdO1ehqBo/",
                        "dtype": "f8"
                      }
                    },
                    {
                      "line": {
                        "color": "red",
                        "dash": "dash"
                      },
                      "mode": "lines",
                      "name": "정규근사",
                      "type": "scatter",
                      "x": {
                        "bdata": "3t3d3d39TECamZmZmflNQFVVVVVV9U5AEBERERHxT0BmZmZmZnZQQERERERE9FBAIiIiIiJyUUAAAAAAAPBRQN7d3d3dbVJAvLu7u7vrUkCZmZmZmWlTQHd3d3d351NAVVVVVVVlVEAzMzMzM+NUQBERERERYVVA7+7u7u7eVUDNzMzMzFxWQKuqqqqq2lZAiYiIiIhYV0BmZmZmZtZXQEREREREVFhAIiIiIiLSWEAAAAAAAFBZQN7d3d3dzVlAu7u7u7tLWkCZmZmZmclaQHd3d3d3R1tAVVVVVVXFW0AzMzMzM0NcQBERERERwVxA",
                        "dtype": "f8"
                      },
                      "y": {
                        "bdata": "GHDRWoerCj9GtlZKhnwgP6r115raIDM/K9bHAfLTRD8cwF9AcEhVP1VP7gbhaGQ/pqzgTStecj/EFpTRsgZ/P6MFiFNvl4g/MykCrMBKkj9IxJZhsYmZP0/EFp7guqA/UjGqoyqSpD/p86L4v7ynP5jXEmWbtKk/D9NOeLkfqj8FTr+bWuqoP0lTg670TKY/mWUe+1+7oj/1Q4mHQIidP2VWJuXo2JU/uwvGNtFVjj/wCELzscODP7Xez55qK3g/JdnSSeG8az9os1ghvN9dP7fWO6baMU4/Ii32MhakPD9zdtM20n4pP9vxtIJ5TBU/",
                        "dtype": "f8"
                      }
                    }
                  ],
                  "name": "n=290"
                },
                {
                  "data": [
                    {
                      "marker": {
                        "color": "blue"
                      },
                      "name": "이항분포 샘플",
                      "opacity": 0.7,
                      "type": "bar",
                      "x": {
                        "bdata": "vLu7u7t7T0CZmZmZmTlQQFVVVVVVtVBAERERERExUUDNzMzMzKxRQIiIiIiIKFJARERERESkUkAAAAAAACBTQLy7u7u7m1NAeHd3d3cXVEAzMzMzM5NUQO/u7u7uDlVAqqqqqqqKVUBmZmZmZgZWQCIiIiIiglZA3t3d3d39VkCamZmZmXlXQFZVVVVV9VdAERERERFxWEDMzMzMzOxYQIiIiIiIaFlARERERETkWUAAAAAAAGBaQLy7u7u721pAeHd3d3dXW0A0MzMzM9NbQO/u7u7uTlxAqqqqqqrKXEBmZmZmZkZdQCIiIiIiwl1A",
                        "dtype": "f8"
                      },
                      "y": {
                        "bdata": "PCK82EseGz88IrzYSx4bP1OVdWfv8kA/yrze/o/hVj/+R2RUTRFjP7sNJ/8rKXE/QuRHljDQfD/shB0uOyqKP6nu7F0eApI/MmAwG2dsmT+p6DnsV2ugP7lYP2c6PaU/rHWAXbSWqj8wevWMFJWpP5e0MuI1fZs/jgJjFgurqj+xstV+nJinPweSPnr1jKQ/hyxhoDlQoD8kCPdmnvWaP5gT2nDyv5I/MfFo4uoyhz/titCfAcF7PzHrtXAknHU/dW/N6+3/aD+cVwEl1KRSP1OVdWfv8lA/dpV1Z+/yQD8gIrzYSx4LPyAivNhLHhs/",
                        "dtype": "f8"
                      }
                    },
                    {
                      "line": {
                        "color": "red",
                        "dash": "dash"
                      },
                      "mode": "lines",
                      "name": "정규근사",
                      "type": "scatter",
                      "x": {
                        "bdata": "vLu7u7t7T0CZmZmZmTlQQFVVVVVVtVBAERERERExUUDNzMzMzKxRQIiIiIiIKFJARERERESkUkAAAAAAACBTQLy7u7u7m1NAeHd3d3cXVEAzMzMzM5NUQO/u7u7uDlVAqqqqqqqKVUBmZmZmZgZWQCIiIiIiglZA3t3d3d39VkCamZmZmXlXQFZVVVVV9VdAERERERFxWEDMzMzMzOxYQIiIiIiIaFlARERERETkWUAAAAAAAGBaQLy7u7u721pAeHd3d3dXW0A0MzMzM9NbQO/u7u7uTlxAqqqqqqrKXEBmZmZmZkZdQCIiIiIiwl1A",
                        "dtype": "f8"
                      },
                      "y": {
                        "bdata": "HjoIHffxIz8ok/7VXTE2Pws2t9N1RUc/w4Tjuh7/Vj8vWZD/fWplPw/CDSuRy3I/dGgew/8Wfz+cbFfwdDuIP+sancedzJE/ItFyBlWkmD8+WKT9MBOgPyoDPI6/w6M/s50tUL/mpj8MysKp3gGpPw3iTRbiu6k//GaNLsn0qD/tVOXCzs6mP7/lufDJpKM/0XQQDU7jnz+2ReyhIWSYP4x+VHAGlZE/f+TzEUDjhz9aQf+ry5V+PwfiY6XIc3I/uXWox3f7ZD9ih8gPHXxWP68ywdf7tEY/ue1zg0GcNT+b6tZ8y2EjP9XVR1fPYRA/",
                        "dtype": "f8"
                      }
                    }
                  ],
                  "name": "n=300"
                },
                {
                  "data": [
                    {
                      "marker": {
                        "color": "blue"
                      },
                      "name": "이항분포 샘플",
                      "opacity": 0.7,
                      "type": "bar",
                      "x": {
                        "bdata": "zczMzMx8UEBmZmZmZvZQQAAAAAAAcFFAmpmZmZnpUUAzMzMzM2NSQM3MzMzM3FJAZmZmZmZWU0AAAAAAANBTQJqZmZmZSVRAMzMzMzPDVEDNzMzMzDxVQGZmZmZmtlVAAAAAAAAwVkCamZmZmalWQDMzMzMzI1dAzczMzMycV0BmZmZmZhZYQAAAAAAAkFhAmZmZmZkJWUAzMzMzM4NZQM3MzMzM/FlAZmZmZmZ2WkAAAAAAAPBaQJmZmZmZaVtAMzMzMzPjW0DNzMzMzFxcQGZmZmZm1lxAAAAAAABQXUCZmZmZmcldQDMzMzMzQ15A",
                        "dtype": "f8"
                      },
                      "y": {
                        "bdata": "76RTSBeYGz8qpVNIF5grP1EwSV8UJUg/jIG5AZD4Uj9kgbkBkPhiP9EymKQvinI/Oss81Lmcfj/BKNNfwRKOPy6c6N60/pM/dDqX04N/hz/uqfHSTWKgPzLVARkoFKM/GY7f6hubpz/+WiOI54SpP/D3ZUKoYao/w3QcSAU5qT9GVcawqIWoP7jL6cG/C6U/6HDYmNpMoT9tW1ml7taKP/LwnDBbvpY/4B6F61G4jj9KbR0ZsUOEPxKvobyG8no/7qnx0k1icD+MHvy7UNVjP7Ye/LtQ1VM/MvbD6pJrRj/vpFNIF5gbP++kU0gXmBs/",
                        "dtype": "f8"
                      }
                    },
                    {
                      "line": {
                        "color": "red",
                        "dash": "dash"
                      },
                      "mode": "lines",
                      "name": "정규근사",
                      "type": "scatter",
                      "x": {
                        "bdata": "zczMzMx8UEBmZmZmZvZQQAAAAAAAcFFAmpmZmZnpUUAzMzMzM2NSQM3MzMzM3FJAZmZmZmZWU0AAAAAAANBTQJqZmZmZSVRAMzMzMzPDVEDNzMzMzDxVQGZmZmZmtlVAAAAAAAAwVkCamZmZmalWQDMzMzMzI1dAzczMzMycV0BmZmZmZhZYQAAAAAAAkFhAmZmZmZkJWUAzMzMzM4NZQM3MzMzM/FlAZmZmZmZ2WkAAAAAAAPBaQJmZmZmZaVtAMzMzMzPjW0DNzMzMzFxcQGZmZmZm1lxAAAAAAABQXUCZmZmZmcldQDMzMzMzQ15A",
                        "dtype": "f8"
                      },
                      "y": {
                        "bdata": "xj+AnZd+Jz/pp9JHsyk5Pwb+9jP5fkk/2XJrMqBwWD9bz7c88ylmP0s7Izb4A3M/Appw8l3efj/YcbmAHLSHPyYWsMBBOJE/deKK412rlz/i3aiNm8eePw4A7WD07qI/B/l1glAJpj9pmuOcrEOoP01tf8i9Rqk/xglw+P/oqD+82sztmTmnP/K1MB1bfKQ/St9MzkgYoT8VeEGWzv2aPwiefnbBKJQ/mFkBVgZ9jD+7WuyNKQuDP0btFrYyFng/7W7oUmnSbD87zcWeVVBgP23E+yDAeFE/AFfit82zQT+s3Ola8vcwP7cXtUyGxh4/",
                        "dtype": "f8"
                      }
                    }
                  ],
                  "name": "n=310"
                },
                {
                  "data": [
                    {
                      "marker": {
                        "color": "blue"
                      },
                      "name": "이항분포 샘플",
                      "opacity": 0.7,
                      "type": "bar",
                      "x": {
                        "bdata": "AAAAAABAUUAAAAAAAMBRQAAAAAAAQFJAAAAAAADAUkAAAAAAAEBTQAAAAAAAwFNAAAAAAABAVEAAAAAAAMBUQAAAAAAAQFVAAAAAAADAVUAAAAAAAEBWQAAAAAAAwFZAAAAAAABAV0AAAAAAAMBXQAAAAAAAQFhAAAAAAADAWEAAAAAAAEBZQAAAAAAAwFlAAAAAAABAWkAAAAAAAMBaQAAAAAAAQFtAAAAAAADAW0AAAAAAAEBcQAAAAAAAwFxAAAAAAABAXUAAAAAAAMBdQAAAAAAAQF5AAAAAAADAXkAAAAAAAEBfQAAAAAAAwF9A",
                        "dtype": "f8"
                      },
                      "y": {
                        "bdata": "YTJVMCqpIz8vbqMBvAVCP8e6uI0G8EY/rthfdk8eVj+U9gZfmExlP7pJDAIrh3Y/5j+k374OfD+amZmZmZmJP4ts5/up8ZI/hXzQs1n1mT9Ei2zn+6mhP0i/fR04Z6Q/vw6cM6K0pz94nKIjufynPyBj7lpCPqg/PSzUmuYdpz/o2az6XG2lP0jhehSuR6E/U5YhjnVxmz/D9Shcj8KVPzJVMCqpE5A/exSuR+F6hD/mP6Tfvg58P4Lix5i7lnA/O99PjZduYj/ecYqO5PJfP8e6uI0G8EY/L26jAbwFQj8tQxzr4jYaP2EyVTAqqSM/",
                        "dtype": "f8"
                      }
                    },
                    {
                      "line": {
                        "color": "red",
                        "dash": "dash"
                      },
                      "mode": "lines",
                      "name": "정규근사",
                      "type": "scatter",
                      "x": {
                        "bdata": "AAAAAABAUUAAAAAAAMBRQAAAAAAAQFJAAAAAAADAUkAAAAAAAEBTQAAAAAAAwFNAAAAAAABAVEAAAAAAAMBUQAAAAAAAQFVAAAAAAADAVUAAAAAAAEBWQAAAAAAAwFZAAAAAAABAV0AAAAAAAMBXQAAAAAAAQFhAAAAAAADAWEAAAAAAAEBZQAAAAAAAwFlAAAAAAABAWkAAAAAAAMBaQAAAAAAAQFtAAAAAAADAW0AAAAAAAEBcQAAAAAAAwFxAAAAAAABAXUAAAAAAAMBdQAAAAAAAQF5AAAAAAADAXkAAAAAAAEBfQAAAAAAAwF9A",
                        "dtype": "f8"
                      },
                      "y": {
                        "bdata": "dOr98rcfLD+9UXyRh3w+P05eOAxDI08/CD5+uBT3XT9jY8gFnCtrP2hL/iVqNnc/4+unSm+vgj8bEQMR+leMPwDpiypEQZQ/G3CpY7tGmz+4bAw0802hP5pgdrkKsKQ/xTSJGpZNpz8EARY/druoPwQBFj92u6g/xTSJGpZNpz+aYHa5CrCkP7hsDDTzTaE/G3CpY7tGmz8A6YsqREGUPxsRAxH6V4w/4+unSm+vgj9oS/4lajZ3P2NjyAWcK2s/CD5+uBT3XT9OXjgMQyNPP71RfJGHfD4/dOr98rcfLD+x4qM1+HEYP+jDOxEUBQQ/",
                        "dtype": "f8"
                      }
                    }
                  ],
                  "name": "n=320"
                },
                {
                  "data": [
                    {
                      "marker": {
                        "color": "blue"
                      },
                      "name": "이항분포 샘플",
                      "opacity": 0.7,
                      "type": "bar",
                      "x": {
                        "bdata": "mpmZmZmZTUDMzMzMzMxOQAAAAAAAAFBAmpmZmZmZUEAzMzMzMzNRQM3MzMzMzFFAZmZmZmZmUkAAAAAAAABTQJqZmZmZmVNAMzMzMzMzVEDNzMzMzMxUQGZmZmZmZlVAAAAAAAAAVkCamZmZmZlWQDMzMzMzM1dAzczMzMzMV0BmZmZmZmZYQAAAAAAAAFlAmZmZmZmZWUAzMzMzMzNaQM3MzMzMzFpAZmZmZmZmW0AAAAAAAABcQJmZmZmZmVxAMzMzMzMzXUDNzMzMzMxdQGZmZmZmZl5AAAAAAAAAX0CamZmZmZlfQJqZmZmZGWBA",
                        "dtype": "f8"
                      },
                      "y": {
                        "bdata": "qeLsw2fYBT8AAAAAAAAAAAAAAAAAAAAAAAAAAAAAAACX4uzDZ9gFP0RGb8taHTM/En9qvHSTOD+Ce82FpClVP+ewK0DuNVc/dDJ6W9bqaD87mlJx9uGDP2SpOPvwGYY/ZekmMQisnD/YWPKLJb+YP9vu7u7u7p4/PRvotIFOqz/ro3A9CtejP+RLN4lBYK0/nH8jlNHboj/sU+Olm8SgP0rHBA/miaI/gVmrY4IHkz8MqvHSTWKQP4uofyOU0Xs/Wa2OCR7Mcz8v0pSKsw9vPzh4ME/Uv1E/bRSuR+F6RD9pG+i0gU4rP/Gp8dJNYiA/",
                        "dtype": "f8"
                      }
                    },
                    {
                      "line": {
                        "color": "red",
                        "dash": "dash"
                      },
                      "mode": "lines",
                      "name": "정규근사",
                      "type": "scatter",
                      "x": {
                        "bdata": "mpmZmZmZTUDMzMzMzMxOQAAAAAAAAFBAmpmZmZmZUEAzMzMzMzNRQM3MzMzMzFFAZmZmZmZmUkAAAAAAAABTQJqZmZmZmVNAMzMzMzMzVEDNzMzMzMxUQGZmZmZmZlVAAAAAAAAAVkCamZmZmZlWQDMzMzMzM1dAzczMzMzMV0BmZmZmZmZYQAAAAAAAAFlAmZmZmZmZWUAzMzMzMzNaQM3MzMzMzFpAZmZmZmZmW0AAAAAAAABcQJmZmZmZmVxAMzMzMzMzXUDNzMzMzMxdQGZmZmZmZl5AAAAAAAAAX0CamZmZmZlfQJqZmZmZGWBA",
                        "dtype": "f8"
                      },
                      "y": {
                        "bdata": "ndIZH5J9oT4dr+UjVqXAPh81a5ItKN0+2dqRJcR/9z5fPCBbuW0RP9cDOJBryic/0JlTj5XiPT9u2CCY9UVRPx79TgcBYGI/ijxBIO/8cT/RhqSiaTSAPxqYgAAt3oo/GEVOcFF/lD+QCTuEvcecPxpXCMn3l6I/TXS2+d4bpj89eKFEJzGoP9S5CdcyXKg/OBJoiLWSpj8xNGn5sz+jP4ErywXENZ4/VF6imNXQlT/9Tng9tf6MP0Yj+21Iu4E/dVI1Khv1cz9RnMLv0qtkP9ML8+Tss1M/+6JAGDNIQT8zDNK+OeYrP7QHbf89uRQ/",
                        "dtype": "f8"
                      }
                    }
                  ],
                  "name": "n=330"
                },
                {
                  "data": [
                    {
                      "marker": {
                        "color": "blue"
                      },
                      "name": "이항분포 샘플",
                      "opacity": 0.7,
                      "type": "bar",
                      "x": {
                        "bdata": "eHd3d3dHUUBmZmZmZtZRQFZVVVVVZVJARERERET0UkA0MzMzM4NTQCIiIiIiElRAERERERGhVEAAAAAAADBVQO/u7u7uvlVA3t3d3d1NVkDNzMzMzNxWQLy7u7u7a1dAqqqqqqr6V0CamZmZmYlYQIiIiIiIGFlAeHd3d3enWUBmZmZmZjZaQFZVVVVVxVpARERERERUW0A0MzMzM+NbQCIiIiIiclxAEREREREBXUAAAAAAAJBdQO/u7u7uHl5A3t3d3d2tXkDNzMzMzDxfQLy7u7u7y19AVlVVVVUtYEDMzMzMzHRgQEREREREvGBA",
                        "dtype": "f8"
                      },
                      "y": {
                        "bdata": "rjBxv795Bz+D5JTPT5shP4PklM9PmyE/mQqDx4eKND8IbpDNHVdSP9p8Ta8vWF0/gc+Axm7oZD82z4DGbuh0P9D4lvMZyYs/b1RCqrItjz/ve0KHAaKUP1wPP5e0dJo/qqJ6TJaNqD8elH7FVUalP1OTNPj4SaQ//cOsdKGSpT8cvdOXL22kP3pRGnU/PKs/hmQRcduznD+qghtkc8eVP8aEOHG4ApE/8U57sleNkD8RzWO5Ka15P6LklM9Pm3E/bPeLy+sSYz8OfU2vL1hdP4Uwcb+/eTc/Dn1Nry9YLT/ZMHG/v3kHP4Uwcb+/eQc/",
                        "dtype": "f8"
                      }
                    },
                    {
                      "line": {
                        "color": "red",
                        "dash": "dash"
                      },
                      "mode": "lines",
                      "name": "정규근사",
                      "type": "scatter",
                      "x": {
                        "bdata": "eHd3d3dHUUBmZmZmZtZRQFZVVVVVZVJARERERET0UkA0MzMzM4NTQCIiIiIiElRAERERERGhVEAAAAAAADBVQO/u7u7uvlVA3t3d3d1NVkDNzMzMzNxWQLy7u7u7a1dAqqqqqqr6V0CamZmZmYlYQIiIiIiIGFlAeHd3d3enWUBmZmZmZjZaQFZVVVVVxVpARERERERUW0A0MzMzM+NbQCIiIiIiclxAEREREREBXUAAAAAAAJBdQO/u7u7uHl5A3t3d3d2tXkDNzMzMzDxfQLy7u7u7y19AVlVVVVUtYEDMzMzMzHRgQEREREREvGBA",
                        "dtype": "f8"
                      },
                      "y": {
                        "bdata": "Uty5Eyx5+T7fvR+9ejMRP8YeUv+3qSU/T3XxuwBxOT9YHB/v5txLPy8O7iC4dFw/CgGhYMkZaz8T/R4ljxF4P6E38d/07oM/Y55pTybKjj/cWoaYvSyWP3w09xQXyZ0/cZaXO4qnoj+/QwXcKsqlP6dkYcUPvKc/NakQ8NUbqD9UiWkIINamP1vILXD3K6Q/8RRXwaKdoD98EY8Rv4aZPzfGe67kSJI/lWK+fnVtiD+i12cypW5+PzKp43pprXE/+YuEfbAmYz8V5LlNC1lTP/qmi9dJOkI/hp2j84MDMD8yqshVJj0aP+HOf+zKCwQ/",
                        "dtype": "f8"
                      }
                    }
                  ],
                  "name": "n=340"
                },
                {
                  "data": [
                    {
                      "marker": {
                        "color": "blue"
                      },
                      "name": "이항분포 샘플",
                      "opacity": 0.7,
                      "type": "bar",
                      "x": {
                        "bdata": "ZmZmZmaGUkA0MzMzMxNTQAAAAAAAoFNAzMzMzMwsVECamZmZmblUQGZmZmZmRlVANDMzMzPTVUAAAAAAAGBWQMzMzMzM7FZAmpmZmZl5V0BmZmZmZgZYQDQzMzMzk1hAAAAAAAAgWUDNzMzMzKxZQJqZmZmZOVpAZmZmZmbGWkA0MzMzM1NbQAAAAAAA4FtAzczMzMxsXECamZmZmflcQGZmZmZmhl1ANDMzMzMTXkAAAAAAAKBeQM3MzMzMLF9AmpmZmZm5X0AzMzMzMyNgQJqZmZmZaWBAAAAAAACwYEBnZmZmZvZgQM3MzMzMPGFA",
                        "dtype": "f8"
                      },
                      "y": {
                        "bdata": "ZrEZSs7UJz9msRlKztQXPxSq8dJNYkA/DUWTt5rfQT85e9aANNpUP6kR/xrxr3E/2uPI1ycWdz9W30+Nl26CP5LnXBNoz4o/btFFF110kT/nn3uYUyGjP0+Kh9iru6A/RuA0nOdcoz92rmod3gmlP4gVk1YxaaU/GqUXH0e+rj9lJSm9+DiiP2zjpZvEIKA/Tky7LhtSmT+7ucVmKDmTPxHhGas3S5Q/hRPJOJGMgz+pE8k4kYxzPxOz42dusWk/TUPJmfoCYD+qTLsuG1JZP2HnXBNozzo/7ESTt5rfIT+RsRlKztQHP5GxGUrO1Bc/",
                        "dtype": "f8"
                      }
                    },
                    {
                      "line": {
                        "color": "red",
                        "dash": "dash"
                      },
                      "mode": "lines",
                      "name": "정규근사",
                      "type": "scatter",
                      "x": {
                        "bdata": "ZmZmZmaGUkA0MzMzMxNTQAAAAAAAoFNAzMzMzMwsVECamZmZmblUQGZmZmZmRlVANDMzMzPTVUAAAAAAAGBWQMzMzMzM7FZAmpmZmZl5V0BmZmZmZgZYQDQzMzMzk1hAAAAAAAAgWUDNzMzMzKxZQJqZmZmZOVpAZmZmZmbGWkA0MzMzM1NbQAAAAAAA4FtAzczMzMxsXECamZmZmflcQGZmZmZmhl1ANDMzMzMTXkAAAAAAAKBeQM3MzMzMLF9AmpmZmZm5X0AzMzMzMyNgQJqZmZmZaWBAAAAAAACwYEBnZmZmZvZgQM3MzMzMPGFA",
                        "dtype": "f8"
                      },
                      "y": {
                        "bdata": "M+K3WA1tEj+RzyCGqHomP3QzlooYrTk/kR4OtnV1Sz/xKBrZbH5bP0xCsSdHxmk/jV2YEnOfdj/zwcCXU5eCP7xZJKvHm4w/H0CYp+ablD+IMYPc4MybPzwWOH03jqE/G2suQFnCpD9OpKwsqfumP8W3tGHV0qc/miQgB/0epz9yNIrPWwKlPyWzF4mo36E/KC8nV1p5nD9+qKbONDyVP/00dZuep40/TCVcrwBjgz+c+oG7jrt3PzRsGi6HM2s/AWNK7aMwXT846LLc7lNNPyISh8+oljs/vPEIJGRMKD+Z6VXRbAkUP8GvRqh58P4+",
                        "dtype": "f8"
                      }
                    }
                  ],
                  "name": "n=350"
                },
                {
                  "data": [
                    {
                      "marker": {
                        "color": "blue"
                      },
                      "name": "이항분포 샘플",
                      "opacity": 0.7,
                      "type": "bar",
                      "x": {
                        "bdata": "VlVVVVXFU0AAAAAAAFBUQKqqqqqq2lRAVlVVVVVlVUAAAAAAAPBVQKqqqqqqelZAVlVVVVUFV0AAAAAAAJBXQKqqqqqqGlhAVVVVVVWlWEAAAAAAADBZQKqqqqqqullAVVVVVVVFWkAAAAAAANBaQKqqqqqqWltAVVVVVVXlW0AAAAAAAHBcQKqqqqqq+lxAVVVVVVWFXUAAAAAAABBeQKqqqqqqml5AVVVVVVUlX0AAAAAAALBfQFVVVVVVHWBAqqqqqqpiYEAAAAAAAKhgQFVVVVVV7WBAqqqqqqoyYUAAAAAAAHhhQFVVVVVVvWFA",
                        "dtype": "f8"
                      },
                      "y": {
                        "bdata": "7ZATj/8lMj9snCCZVD8uP8z63vcpvEw/+bdbtdS1WT9BPOd5H41lP8z63vcpvGw/IJS1way5hz9z57pkP/SIP4pHoDViz5I/jy22srgimj91vnXzpXGdP1+pazMgKqM/XGMvoPQcrT9NUTJ/V7OkP4tUPx5AkaY/iNVS12ZApD8uSVw7dOOhP1+kYUlzWZ0/qgk65hmSnz/M+t73KbyMP+wHvyW6XIU/XGMvoPQcfT9zpDci6u11PzauyWvf0Wc/2D1iOn/CXz9Sddhyf69GPzFZnVb/ODs/vRYaFKoyKD+9FhoUqjIYP2QWGhSqMhg/",
                        "dtype": "f8"
                      }
                    },
                    {
                      "line": {
                        "color": "red",
                        "dash": "dash"
                      },
                      "mode": "lines",
                      "name": "정규근사",
                      "type": "scatter",
                      "x": {
                        "bdata": "VlVVVVXFU0AAAAAAAFBUQKqqqqqq2lRAVlVVVVVlVUAAAAAAAPBVQKqqqqqqelZAVlVVVVUFV0AAAAAAAJBXQKqqqqqqGlhAVVVVVVWlWEAAAAAAADBZQKqqqqqqullAVVVVVVVFWkAAAAAAANBaQKqqqqqqWltAVVVVVVXlW0AAAAAAAHBcQKqqqqqq+lxAVVVVVVWFXUAAAAAAABBeQKqqqqqqml5AVVVVVVUlX0AAAAAAALBfQFVVVVVVHWBAqqqqqqpiYEAAAAAAAKhgQFVVVVVV7WBAqqqqqqoyYUAAAAAAAHhhQFVVVVVVvWFA",
                        "dtype": "f8"
                      },
                      "y": {
                        "bdata": "utIU0WTYJz84h2wRInk6PwX8ozcDn0s/MAeD9nIVWz+mIPdXPfVoP75KM8pCnXU/h4op73KXgT9WNXcLPumKP8Ooffk3WJM/JhtjC/0imj//bvTr+5egP68Mur0tzaM/hV7iz+s0pj+2nyS7m2enP8ilfE2kLqc/zT9zW06UpT99EBRxvOCiP1tEoP1mCp8/YEiACr77lz+7notNOWqRP98Qms2mxIc/aKvUWnB8fj/g9y5lz19yP1QkFTmv0GQ/ODol/h8pVj+eSm5MMCxGPzNLZHpS2TQ/gs39ZoZsIj+0AtlP/ZkOP0OVM/hJ4vc+",
                        "dtype": "f8"
                      }
                    }
                  ],
                  "name": "n=360"
                },
                {
                  "data": [
                    {
                      "marker": {
                        "color": "blue"
                      },
                      "name": "이항분포 샘플",
                      "opacity": 0.7,
                      "type": "bar",
                      "x": {
                        "bdata": "ZmZmZmZGU0A0MzMzM9NTQAAAAAAAYFRAzMzMzMzsVECamZmZmXlVQGZmZmZmBlZANDMzMzOTVkAAAAAAACBXQMzMzMzMrFdAmpmZmZk5WEBmZmZmZsZYQDQzMzMzU1lAAAAAAADgWUDNzMzMzGxaQJqZmZmZ+VpAZmZmZmaGW0A0MzMzMxNcQAAAAAAAoFxAzczMzMwsXUCamZmZmbldQGZmZmZmRl5ANDMzMzPTXkAAAAAAAGBfQM3MzMzM7F9AzczMzMw8YEAzMzMzM4NgQJqZmZmZyWBAAAAAAAAQYUBnZmZmZlZhQM3MzMzMnGFA",
                        "dtype": "f8"
                      },
                      "y": {
                        "bdata": "ZrEZSs7UBz8AAAAAAAAAAJGxGUrO1Ac/ZrEZSs7UFz9msRlKztQ3P9rjyNcnFlc/oErxEHt1Zz/zq7vw7T5yP4WEyBVVKX4/O8mZ+gIQhj+o2xy7zbGbP3ul2fEzt5g/tzYFnIbznD/2PnOLzVCiPwxHXdU6vKM/ct7L5718rj+aB4ng9m6kPwqge5hTIaM/O4RnrN4soT+Vke18PzWePw0EVg4tsp0/4lwTaM8akD9Dy2MYo+yHP52ANNoUcHo/RuA0nOdccz+i6SYxCKxsP51IJ/PamFU/O7EZSs7URz8tRZO3mt8hP/UdoNwByi0/",
                        "dtype": "f8"
                      }
                    },
                    {
                      "line": {
                        "color": "red",
                        "dash": "dash"
                      },
                      "mode": "lines",
                      "name": "정규근사",
                      "type": "scatter",
                      "x": {
                        "bdata": "ZmZmZmZGU0A0MzMzM9NTQAAAAAAAYFRAzMzMzMzsVECamZmZmXlVQGZmZmZmBlZANDMzMzOTVkAAAAAAACBXQMzMzMzMrFdAmpmZmZk5WEBmZmZmZsZYQDQzMzMzU1lAAAAAAADgWUDNzMzMzGxaQJqZmZmZ+VpAZmZmZmaGW0A0MzMzMxNcQAAAAAAAoFxAzczMzMwsXUCamZmZmbldQGZmZmZmRl5ANDMzMzPTXkAAAAAAAGBfQM3MzMzM7F9AzczMzMw8YEAzMzMzM4NgQJqZmZmZyWBAAAAAAAAQYUBnZmZmZlZhQM3MzMzMnGFA",
                        "dtype": "f8"
                      },
                      "y": {
                        "bdata": "RTElkwQm/T7xYvsH/3ESP/7hVPFK7yU/xslDp1GCOD8EynLCT7tJP9/N3SdDYlk/lEch90mHZz/PU7/g3n10P6N+TZrhxIA/75TUPrrJiT+KDW+cnqGSP4uniG21S5k/PVkPzY0ioD9F7Mw0KFejP2opkdhhyKU/fXQiKkYNpz8Tsotk8+umPyx/DM5yaqU/AHhVlu/Moj9xwOHACwSfP5lPBRPxCZg/cvCVgZSBkT/r/OJzMPWHPyZILciVzn4/5GX7umiccj9Jxx6i3iBlP46eyP+siVY/ZK5sud+WRj+HlneyEkY1PwmRsOYm0yI/",
                        "dtype": "f8"
                      }
                    }
                  ],
                  "name": "n=370"
                },
                {
                  "data": [
                    {
                      "marker": {
                        "color": "blue"
                      },
                      "name": "이항분포 샘플",
                      "opacity": 0.7,
                      "type": "bar",
                      "x": {
                        "bdata": "zczMzMwMVUBmZmZmZqZVQAAAAAAAQFZAmpmZmZnZVkAzMzMzM3NXQM3MzMzMDFhAZmZmZmamWEAAAAAAAEBZQJqZmZmZ2VlAMzMzMzNzWkDNzMzMzAxbQGZmZmZmpltAAAAAAABAXECamZmZmdlcQDMzMzMzc11AzczMzMwMXkBmZmZmZqZeQAAAAAAAQF9AmZmZmZnZX0CamZmZmTlgQGZmZmZmhmBANDMzMzPTYEAAAAAAACBhQMzMzMzMbGFAmpmZmZm5YUBmZmZmZgZiQDQzMzMzU2JAAAAAAACgYkDMzMzMzOxiQJqZmZmZOWNA",
                        "dtype": "f8"
                      },
                      "y": {
                        "bdata": "8anx0k1iID9kRm/LWh0zP2XpJjEIrEw/u+Lsw2fYVT8hlvxiyS9mP3tdAXKvuYA/gfbhM+wKgD95z7ArQO6VP+/5fmq8dJM/uhP1b4Qymj8fa3VM8GCmP3b0tqzVMaE/GYcW2c73qz/Zkl8s+cWiP3tdAXKvuaA/jjbQaQOdpj9Co7dlrY6ZP4cuJE2pOJs/GerfCGX0hj+5haQpFWd/P4+3Za2OCX4/iJmZmZmZaT8ihqQpFWdfP4+3Za2OCT4/PRvotIFOOz89G+i0gU4rPwAAAAAAAAAAAAAAAAAAAAAAAAAAAAAAAJfi7MNn2AU/",
                        "dtype": "f8"
                      }
                    },
                    {
                      "line": {
                        "color": "red",
                        "dash": "dash"
                      },
                      "mode": "lines",
                      "name": "정규근사",
                      "type": "scatter",
                      "x": {
                        "bdata": "zczMzMwMVUBmZmZmZqZVQAAAAAAAQFZAmpmZmZnZVkAzMzMzM3NXQM3MzMzMDFhAZmZmZmamWEAAAAAAAEBZQJqZmZmZ2VlAMzMzMzNzWkDNzMzMzAxbQGZmZmZmpltAAAAAAABAXECamZmZmdlcQDMzMzMzc11AzczMzMwMXkBmZmZmZqZeQAAAAAAAQF9AmZmZmZnZX0CamZmZmTlgQGZmZmZmhmBANDMzMzPTYEAAAAAAACBhQMzMzMzMbGFAmpmZmZm5YUBmZmZmZgZiQDQzMzMzU2JAAAAAAACgYkDMzMzMzOxiQJqZmZmZOWNA",
                        "dtype": "f8"
                      },
                      "y": {
                        "bdata": "3wCkTnhvJj/ncPVMZIM6P+DSlBt+Jk0/vMPqUmPRXT8gQsMfdWBsPweziK7uH3k/UhaJJz+yhD/z5y/i67iPPzqZpiRMnpY/xTAEpRQCnj++JK0RGoWiP+rtpT6NRKU/YFQ2Tvq4pj/AuXPrF5amP4lCVXEv46Q/+bCdmqL4oT8c4bHyVsWcP4CwvNkrbZU/Nwf+3vywjT/DRQ5WuyODPyAPMowE9XY/WMbY0FeeaT8n2TtlAZlaP/6KI473sEk/Ktp3jHEWNz8dJ3ihl00jP27FPw6yBw4/Ho9gRX+79T492+BQukPdPqG21sTeVMI+",
                        "dtype": "f8"
                      }
                    }
                  ],
                  "name": "n=380"
                },
                {
                  "data": [
                    {
                      "marker": {
                        "color": "blue"
                      },
                      "name": "이항분포 샘플",
                      "opacity": 0.7,
                      "type": "bar",
                      "x": {
                        "bdata": "qqqqqqoKVUAAAAAAAKBVQFZVVVVVNVZAqqqqqqrKVkAAAAAAAGBXQFZVVVVV9VdAq6qqqqqKWEAAAAAAACBZQFZVVVVVtVlAq6qqqqpKWkAAAAAAAOBaQFZVVVVVdVtAq6qqqqoKXEAAAAAAAKBcQFZVVVVVNV1Aq6qqqqrKXUAAAAAAAGBeQFZVVVVV9V5Aq6qqqqqKX0AAAAAAABBgQKuqqqqqWmBAVlVVVVWlYEAAAAAAAPBgQKuqqqqqOmFAVlVVVVWFYUAAAAAAANBhQKuqqqqqGmJAVlVVVVVlYkAAAAAAALBiQKuqqqqq+mJA",
                        "dtype": "f8"
                      },
                      "y": {
                        "bdata": "5f4LRTwWLD/Dyzw3MHgWP+rLPDcweDY/DUybrmj1Uj/tS5uuaPVSP65l4SynQWI/w8s8NzB4dj8nMphBua56P/wL7HLMtoQ/xG7PcTHFmj+48Onue1aWP02FneRL6Zs/P0FVifPyqD/YlBcb9yejP0AbqboG+6I/S3h6pSxDrD/1XBT8tE2gPweCJdknwZ0/LpexIxLGoT/L4AuTqYKRP23iCqpKnIc/HeIKqkqchz/jq8OQGtZzPzJ/arx0k2g/7Uubrmj1Yj/TmG0pJNpQPw2ZbSkk2kA/w8s8NzB4Fj/Dyzw3MHgGPxDMPDcweAY/",
                        "dtype": "f8"
                      }
                    },
                    {
                      "line": {
                        "color": "red",
                        "dash": "dash"
                      },
                      "mode": "lines",
                      "name": "정규근사",
                      "type": "scatter",
                      "x": {
                        "bdata": "qqqqqqoKVUAAAAAAAKBVQFZVVVVVNVZAqqqqqqrKVkAAAAAAAGBXQFZVVVVV9VdAq6qqqqqKWEAAAAAAACBZQFZVVVVVtVlAq6qqqqpKWkAAAAAAAOBaQFZVVVVVdVtAq6qqqqoKXEAAAAAAAKBcQFZVVVVVNV1Aq6qqqqrKXUAAAAAAAGBeQFZVVVVV9V5Aq6qqqqqKX0AAAAAAABBgQKuqqqqqWmBAVlVVVVWlYEAAAAAAAPBgQKuqqqqqOmFAVlVVVVWFYUAAAAAAANBhQKuqqqqqGmJAVlVVVVVlYkAAAAAAALBiQKuqqqqq+mJA",
                        "dtype": "f8"
                      },
                      "y": {
                        "bdata": "JL3Uvx8EED/aEuBVXb0jP7S3e4unwzY/rv44wFiQSD9OgniNDM1YPxmITPMNbmc/Zl4zCQa2dD+niR7aVCGBP+lLBHyzg4o/EA7PDDczkz/QTY/4ugSaP1caTUnNfqA/dB6wAASSoz8rjZ9JsbmlP8Ob5OQGkaY/Oyqy/8LupT+xgFABFfKjP0Ofrf7W+KA/Lb3v3Z0Gmz/7DyplPCKUPyZKdSeyEYw/TaEFFMNOgj9zDatriFh2P06t/jdBhWk/g4SRUY5FWz/hboVoyURLP9PfEnsYgzk/WSLd4GFVJj8/gPISJksSP32IKfKSCvw+",
                        "dtype": "f8"
                      }
                    }
                  ],
                  "name": "n=390"
                },
                {
                  "data": [
                    {
                      "marker": {
                        "color": "blue"
                      },
                      "name": "이항분포 샘플",
                      "opacity": 0.7,
                      "type": "bar",
                      "x": {
                        "bdata": "iIiIiIjIVkCamZmZmVlXQKqqqqqq6ldAvLu7u7t7WEDMzMzMzAxZQN7d3d3dnVlA7+7u7u4uWkAAAAAAAMBaQBERERERUVtAIiIiIiLiW0AzMzMzM3NcQEREREREBF1AVlVVVVWVXUBmZmZmZiZeQHh3d3d3t15AiIiIiIhIX0CamZmZmdlfQFZVVVVVNWBA3t3d3d19YEBmZmZmZsZgQO7u7u7uDmFAeHd3d3dXYUAAAAAAAKBhQIiIiIiI6GFAERERERExYkCamZmZmXliQCIiIiIiwmJAqqqqqqoKY0A0MzMzM1NjQLy7u7u7m2NA",
                        "dtype": "f8"
                      },
                      "y": {
                        "bdata": "DeGE9TI9ND/uHFCDtuk8P1hKc89eIUc/o7NhqYoFaj8UEhISEhJyP5FlCXq3wXg/4rnYXUmbgz88g8DKoUWWP2pv6v6s9JU/EQCFcMJ6mT/JaqiyiS2eP3A6B9Sgbao/tvD60XXmoz9K15mPuBSkP06yGH/lS6I/CfwkgRDTqD/+7xh1BMecP4qQCyDOFZc/FTESjaFPlz8216NwPQqHP1gEx7zlQYE/Ea7CcLiZdD/39ntnuXFwP+nghPUyPVQ/KH9qvHSTSD+7HFCDtuk8P4BKc89eITc/L0pzz14hFz8AAAAAAAAAAIBKc89eIQc/",
                        "dtype": "f8"
                      }
                    },
                    {
                      "line": {
                        "color": "red",
                        "dash": "dash"
                      },
                      "mode": "lines",
                      "name": "정규근사",
                      "type": "scatter",
                      "x": {
                        "bdata": "iIiIiIjIVkCamZmZmVlXQKqqqqqq6ldAvLu7u7t7WEDMzMzMzAxZQN7d3d3dnVlA7+7u7u4uWkAAAAAAAMBaQBERERERUVtAIiIiIiLiW0AzMzMzM3NcQEREREREBF1AVlVVVVWVXUBmZmZmZiZeQHh3d3d3t15AiIiIiIhIX0CamZmZmdlfQFZVVVVVNWBA3t3d3d19YEBmZmZmZsZgQO7u7u7uDmFAeHd3d3dXYUAAAAAAAKBhQIiIiIiI6GFAERERERExYkCamZmZmXliQCIiIiIiwmJAqqqqqqoKY0A0MzMzM1NjQLy7u7u7m2NA",
                        "dtype": "f8"
                      },
                      "y": {
                        "bdata": "/u1gtUYBND9Waxqg/CNFPw4R0p3fA1U/c+ABsaamYz8V2Nem/0hxPy/5pgGpmnw/JA4LF25Dhj+UGSiw1EyQP/4sR8y8c5Y/fainT1EXnT8XbunDeLqhPxiI9kVjU6Q/7nYUGcTrpT/yG7ejHD2mPx2mI1T2OKU/eriuIhYNoz9aEoMzVBagP6xuFAKSjpk/lFTuDpQYkz8v8PCmAdiKP5wxyCyCv4E/SxLAUYcTdj8cYbxWrdRpP3YI1Lo5blw/7PqmA3lvTT9+BKUl7Ko8PxEorx9uQyo//POErRqiFj8vFbNR+lgCP0+JmURf++s+",
                        "dtype": "f8"
                      }
                    }
                  ],
                  "name": "n=400"
                },
                {
                  "data": [
                    {
                      "marker": {
                        "color": "blue"
                      },
                      "name": "이항분포 샘플",
                      "opacity": 0.7,
                      "type": "bar",
                      "x": {
                        "bdata": "eHd3d3eHVkBmZmZmZhZXQFZVVVVVpVdAREREREQ0WEA0MzMzM8NYQCIiIiIiUllAERERERHhWUAAAAAAAHBaQO/u7u7u/lpA3t3d3d2NW0DNzMzMzBxcQLy7u7u7q1xAqqqqqqo6XUCamZmZmcldQIiIiIiIWF5AeHd3d3fnXkBmZmZmZnZfQKqqqqqqAmBAIiIiIiJKYECamZmZmZFgQBIRERER2WBAiIiIiIggYUAAAAAAAGhhQHh3d3d3r2FA7+7u7u72YUBmZmZmZj5iQN7d3d3dhWJAVlVVVVXNYkDMzMzMzBRjQEREREREXGNA",
                        "dtype": "f8"
                      },
                      "y": {
                        "bdata": "g+SUz0+bIT+D5JTPT5shP64wcb+/eSc/eNGd07MjQD/AH5fQaD1hPwKSYbgQC2o/3x+X0Gg9cT+Xsf9FYhd1Py2KfbNwL5A/Y4r/aBOjjz8ZiGCmK/SUPzIDIXiKIpo/EuqabNmBqD/JW+Oe3tuhP7kDquoVZaM/bSe6ejdfoz91YwZJrf2jP/xJ98pwGqk/L72U8gAnnD+phUOZ5riZP9m69S8ZeJE/bA40b4a+kT8yGUCpmYt/PzsT8D6zqHc/jUNou1vxaD9FlH7FVUZlP2PklM9Pm1E/50Nou1vxSD+i5JTPT5sxP4Uwcb+/eSc/",
                        "dtype": "f8"
                      }
                    },
                    {
                      "line": {
                        "color": "red",
                        "dash": "dash"
                      },
                      "mode": "lines",
                      "name": "정규근사",
                      "type": "scatter",
                      "x": {
                        "bdata": "eHd3d3eHVkBmZmZmZhZXQFZVVVVVpVdAREREREQ0WEA0MzMzM8NYQCIiIiIiUllAERERERHhWUAAAAAAAHBaQO/u7u7u/lpA3t3d3d2NW0DNzMzMzBxcQLy7u7u7q1xAqqqqqqo6XUCamZmZmcldQIiIiIiIWF5AeHd3d3fnXkBmZmZmZnZfQKqqqqqqAmBAIiIiIiJKYECamZmZmZFgQBIRERER2WBAiIiIiIggYUAAAAAAAGhhQHh3d3d3r2FA7+7u7u72YUBmZmZmZj5iQN7d3d3dhWJAVlVVVVXNYkDMzMzMzBRjQEREREREXGNA",
                        "dtype": "f8"
                      },
                      "y": {
                        "bdata": "CfYnW4EgFT/uzFnPjRQoP/yzy1zS5jk/SnsFLutKSj+0NqXi9i9ZP/CIumU+xWY/F5uxOEhtcz/OOHsYZEh/P6m+m2b5xIc/Q5EcyUgLkT+QF3p7RBGXP6z9D7padp0/wc//iYrBoT9z4fEoiTKkPyePWKBurqU/C20JB+P2pT/EDtherf+kP4KuINMS8qI/AgWKvZEhoD+YXIchZuyZP5W/n5pbqJM/yKB563kijD/XmEZbHACDPx9/HhsROHg/dasTDiQibT84DhJtRYlgP5ruVrYpt1E/LLP6fx/pQT8NC6CnuBYxPyprZ7MXxh4/",
                        "dtype": "f8"
                      }
                    }
                  ],
                  "name": "n=410"
                },
                {
                  "data": [
                    {
                      "marker": {
                        "color": "blue"
                      },
                      "name": "이항분포 샘플",
                      "opacity": 0.7,
                      "type": "bar",
                      "x": {
                        "bdata": "vLu7u7sLV0AzMzMzM6NXQKqqqqqqOlhAIiIiIiLSWECamZmZmWlZQBERERERAVpAiIiIiIiYWkAAAAAAADBbQHh3d3d3x1tA7+7u7u5eXEBmZmZmZvZcQN7d3d3djV1AVlVVVVUlXkDMzMzMzLxeQEREREREVF9AvLu7u7vrX0CamZmZmUFgQFZVVVVVjWBAERERERHZYEDNzMzMzCRhQIiIiIiIcGFARERERES8YUAAAAAAAAhiQLy7u7u7U2JAeHd3d3efYkAzMzMzM+tiQO/u7u7uNmNAqqqqqqqCY0BmZmZmZs5jQCIiIiIiGmRA",
                        "dtype": "f8"
                      },
                      "y": {
                        "bdata": "D8lY7isnFj+vlsLyYJ0gP1T77un2sCs/XDxzL7nERD9dI6ix0/9RP4naLMcVJ28/NnYA0H8TdD8fsQC4Px1+P+I95nayf48/QhS6Z9x1jj+ZAMcn15egPwW9LNM1Ipo/rEQfTBMpoD9VIOaC0nqqPwyNrOZJ+qE/1eWaEnEQoj+y6G7x6o2oP6+ly0QNnJo/dTBHFMO/mD/UElB4HzebP21LcykpR4c/Apg1OlpYiz9cPHMvucR0P+R+arx0k2g/EhyxDNg6aD8UdgDQfxNUPyT77un2sDs/D7CNcEZiMz8AAAAAAAAAAOrIWO4rJxY/",
                        "dtype": "f8"
                      }
                    },
                    {
                      "line": {
                        "color": "red",
                        "dash": "dash"
                      },
                      "mode": "lines",
                      "name": "정규근사",
                      "type": "scatter",
                      "x": {
                        "bdata": "vLu7u7sLV0AzMzMzM6NXQKqqqqqqOlhAIiIiIiLSWECamZmZmWlZQBERERERAVpAiIiIiIiYWkAAAAAAADBbQHh3d3d3x1tA7+7u7u5eXEBmZmZmZvZcQN7d3d3djV1AVlVVVVUlXkDMzMzMzLxeQEREREREVF9AvLu7u7vrX0CamZmZmUFgQFZVVVVVjWBAERERERHZYEDNzMzMzCRhQIiIiIiIcGFARERERES8YUAAAAAAAAhiQLy7u7u7U2JAeHd3d3efYkAzMzMzM+tiQO/u7u7uNmNAqqqqqqqCY0BmZmZmZs5jQCIiIiIiGmRA",
                        "dtype": "f8"
                      },
                      "y": {
                        "bdata": "Ak0ehjkIET85QDY1NnEkPzGMsqSDBjc/RFE6ONxWSD8YlN25IiVYPzSafySEemY/QpJ/BbSjcz/sspzZZxqAP0bxCL5GyIg/K7BJUnXlkT878hqhxUGYP+wijyLs2p4/3vvCzKhqoj/5rCJF0KGkP5AMfYsbsaU/C5ZWHRpnpT+XoSbucdGjPyE2v3nDOKE/oWafk9wWnD9DdaEzdH+VP0kE47Kx4Y4/Dg34NN7QhD9vZHb73VV6P6mVyyy2RG8/SKijO6hrYT+nYPvBczdSP/iJWg6B4EE/dXyyetV2MD+psko4zXUcP3qDOfOvFQc/",
                        "dtype": "f8"
                      }
                    }
                  ],
                  "name": "n=420"
                },
                {
                  "data": [
                    {
                      "marker": {
                        "color": "blue"
                      },
                      "name": "이항분포 샘플",
                      "opacity": 0.7,
                      "type": "bar",
                      "x": {
                        "bdata": "qqqqqqqKWEAAAAAAACBZQFZVVVVVtVlAqqqqqqpKWkAAAAAAAOBaQFZVVVVVdVtAq6qqqqoKXEAAAAAAAKBcQFZVVVVVNV1Aq6qqqqrKXUAAAAAAAGBeQFZVVVVV9V5Aq6qqqqqKX0AAAAAAABBgQKuqqqqqWmBAVlVVVVWlYEAAAAAAAPBgQKuqqqqqOmFAVlVVVVWFYUAAAAAAANBhQKuqqqqqGmJAVlVVVVVlYkAAAAAAALBiQKuqqqqq+mJAVlVVVVVFY0AAAAAAAJBjQKuqqqqq2mNAVlVVVVUlZEAAAAAAAHBkQKuqqqqqumRA",
                        "dtype": "f8"
                      },
                      "y": {
                        "bdata": "bTJVMCqpMz/Dyzw3MHg2P2KY80tC5U4/rmXhLKdBYj8Nckd9Ve1oPx+MSuoENHE/uStlGeJYhz8r/8gzrRCFP/KA47D3oZA/in6tzQOZnz/XjkgYR2edP4275P17r58/amRGOy29qT8fJ+72HBejP9BBEnhk7aE/DmYCQT/RqD/sqUqcl8ebP9dQEtEtN5c/dptrV2YNnT+/nuNiijWLP8qV9R0AsoI/DCwiCFNTgD9XGFLDemJrP2JyR31V7Wg/05htKSTaYD+1/gtFPBY8PxT/C0U8Fiw/w8s8NzB4Jj/Dyzw3MHgGPxDMPDcweCY/",
                        "dtype": "f8"
                      }
                    },
                    {
                      "line": {
                        "color": "red",
                        "dash": "dash"
                      },
                      "mode": "lines",
                      "name": "정규근사",
                      "type": "scatter",
                      "x": {
                        "bdata": "qqqqqqqKWEAAAAAAACBZQFZVVVVVtVlAqqqqqqpKWkAAAAAAAOBaQFZVVVVVdVtAq6qqqqoKXEAAAAAAAKBcQFZVVVVVNV1Aq6qqqqrKXUAAAAAAAGBeQFZVVVVV9V5Aq6qqqqqKX0AAAAAAABBgQKuqqqqqWmBAVlVVVVWlYEAAAAAAAPBgQKuqqqqqOmFAVlVVVVWFYUAAAAAAANBhQKuqqqqqGmJAVlVVVVVlYkAAAAAAALBiQKuqqqqq+mJAVlVVVVVFY0AAAAAAAJBjQKuqqqqq2mNAVlVVVVUlZEAAAAAAAHBkQKuqqqqqumRA",
                        "dtype": "f8"
                      },
                      "y": {
                        "bdata": "pY32qbh4LD9jXnVBGaQ+Pye+zLDaC08/2kNZ3MqdXT80+vglZ5lqP9Fg8+ncfXY/3TODLdXngT+l1ymmVteKPyfVnofa8JI/EjTFhugqmT+yBhtvF3yfP+NpNAqbiqI/B+u5MnaPpD9a9FFxF3elP/+6ras9GaU/IEVPgFuGoz/aRxtY4QKhP20+3GF56Js/PFtVMZeNlT9Y/Jwer1ePP11Eb+iqdIU/YTocoBOoez8q7qsjIshwP6t+kjSoLGM/EkeCzVmgVD8RrefI1eNEP1JREEJG6zM/SZSU+MThIT9f27lVSDoOP9fQVAW6Dfg+",
                        "dtype": "f8"
                      }
                    }
                  ],
                  "name": "n=430"
                },
                {
                  "data": [
                    {
                      "marker": {
                        "color": "blue"
                      },
                      "name": "이항분포 샘플",
                      "opacity": 0.7,
                      "type": "bar",
                      "x": {
                        "bdata": "3t3d3d1NWECamZmZmelYQFVVVVVVhVlAEREREREhWkDNzMzMzLxaQIiIiIiIWFtARERERET0W0AAAAAAAJBcQLy7u7u7K11AeHd3d3fHXUAzMzMzM2NeQO7u7u7u/l5AqqqqqqqaX0AzMzMzMxtgQBERERERaWBA7+7u7u62YEDNzMzMzARhQKuqqqqqUmFAiIiIiIigYUBmZmZmZu5hQEREREREPGJAIiIiIiKKYkAAAAAAANhiQN7d3d3dJWNAu7u7u7tzY0CZmZmZmcFjQHd3d3d3D2RAVVVVVVVdZEAzMzMzM6tkQBERERER+WRA",
                        "dtype": "f8"
                      },
                      "y": {
                        "bdata": "YaDiCsyLFT+FoOIKzIsFP3lImw2/7jo/hpz3jjigPT/KglU4CH9gP2gNgWg31WA/6VS8+7c6dz98XfJtHZt7P1VMholS2oI/U4e8wGJAlT89HlWusnOUPz9yv3hwS6M/c9uw4CsUnT9TXQC3YcGnP5vSPOjiSKI/Jd+ppQMmoT8JFqmRWA+pP9dQOeHULJo/dyIy4QE5oD8RZijggvuPP+8E45Qhl5E/j9v8r1Olfz8k8CPTEg12P+VQoUKFCnU/hpz3jjigXT+GnPeOOKBdP08i2MiVgUE/SfgpCNkoMD9hoOIKzIsVP2Gg4grMiyU/",
                        "dtype": "f8"
                      }
                    },
                    {
                      "line": {
                        "color": "red",
                        "dash": "dash"
                      },
                      "mode": "lines",
                      "name": "정규근사",
                      "type": "scatter",
                      "x": {
                        "bdata": "3t3d3d1NWECamZmZmelYQFVVVVVVhVlAEREREREhWkDNzMzMzLxaQIiIiIiIWFtARERERET0W0AAAAAAAJBcQLy7u7u7K11AeHd3d3fHXUAzMzMzM2NeQO7u7u7u/l5AqqqqqqqaX0AzMzMzMxtgQBERERERaWBA7+7u7u62YEDNzMzMzARhQKuqqqqqUmFAiIiIiIigYUBmZmZmZu5hQEREREREPGJAIiIiIiKKYkAAAAAAANhiQN7d3d3dJWNAu7u7u7tzY0CZmZmZmcFjQHd3d3d3D2RAVVVVVVVdZEAzMzMzM6tkQBERERER+WRA",
                        "dtype": "f8"
                      },
                      "y": {
                        "bdata": "TntQtm82Dz+4Ms8uMuMiP3XAQnWMcDU/mleMQ3jTRj9m9uz4LMtWPyqaMfc1WWU/PP9jd/rAcj/LKLEiYud+PxVJxEDa4Yc/VkbDFndPkT/nzcn5T4mXPzRyYSPmA54/FCEAGWfzoT/4tfR5byOkPyRIMDa3MKU/th7hKcHppD9jF08lwVujPy4Qg4+ZzqA/ipOzCFJfmz8bRQW+9eeUPxJNT3HZ840/Y7mX0fofhD++hmGhb115P8Ct8Kos/G0/qUtC9IqfYD/9luO+hklRP+NS+xah3EA/B7l06iHaLj8cWmHBGXkaP89MjGg6TgU/",
                        "dtype": "f8"
                      }
                    }
                  ],
                  "name": "n=440"
                },
                {
                  "data": [
                    {
                      "marker": {
                        "color": "blue"
                      },
                      "name": "이항분포 샘플",
                      "opacity": 0.7,
                      "type": "bar",
                      "x": {
                        "bdata": "7+7u7u5OWUDNzMzMzOxZQKuqqqqqilpAiYiIiIgoW0BmZmZmZsZbQEREREREZFxAIiIiIiICXUAAAAAAAKBdQN7d3d3dPV5AvLu7u7vbXkCamZmZmXlfQLy7u7u7C2BAqqqqqqpaYECamZmZmalgQIiIiIiI+GBAeHd3d3dHYUBmZmZmZpZhQFZVVVVV5WFAREREREQ0YkA0MzMzM4NiQCIiIiIi0mJAEREREREhY0AAAAAAAHBjQO/u7u7uvmNA3t3d3d0NZEDNzMzMzFxkQLy7u7u7q2RAq6qqqqr6ZECamZmZmUllQIiIiIiImGVA",
                        "dtype": "f8"
                      },
                      "y": {
                        "bdata": "/mYLEhqZMj9s48NdQkEFP/5mCxIamUI/tFjtQLs5TT85hvkkJENjP/V+arx0k2g/c5H8XX7FgD8LKogkrDp8P/5mCxIamZI/8Eg6s7qjkj+VIGUNLsCgP/AKmhGikJs/YOCKA8BDqD9mkN+p0xCgP93VaPoUNaE/fRwtwX4uqD/v7eVm7U+cP+NHHf8P76E/i1nOcGqtkz+olXAuKZiTP1P+PaChGIM/Vd0VJUIFgT8K+yIInTtrP02XyWbPjW4/IxoRG6flSz8AKS/sBUVBPyfjw11CQSU/ndw09ZKRKj9s48NdQkEFP2zjw11CQRU/",
                        "dtype": "f8"
                      }
                    },
                    {
                      "line": {
                        "color": "red",
                        "dash": "dash"
                      },
                      "mode": "lines",
                      "name": "정규근사",
                      "type": "scatter",
                      "x": {
                        "bdata": "7+7u7u5OWUDNzMzMzOxZQKuqqqqqilpAiYiIiIgoW0BmZmZmZsZbQEREREREZFxAIiIiIiICXUAAAAAAAKBdQN7d3d3dPV5AvLu7u7vbXkCamZmZmXlfQLy7u7u7C2BAqqqqqqpaYECamZmZmalgQIiIiIiI+GBAeHd3d3dHYUBmZmZmZpZhQFZVVVVV5WFAREREREQ0YkA0MzMzM4NiQCIiIiIi0mJAEREREREhY0AAAAAAAHBjQO/u7u7uvmNA3t3d3d0NZEDNzMzMzFxkQLy7u7u7q2RAq6qqqqr6ZECamZmZmUllQIiIiIiImGVA",
                        "dtype": "f8"
                      },
                      "y": {
                        "bdata": "geOYncLOGT8dEd5EhSouP7YHzhTrh0A/mtwi6u/8UD/uGfcBgl5gP28Xck4glG0/N34MhLQOeT8v114wV+eDP0QuLGvspY0/i++iSWi0lD/a1qZPbR2bPxl5YAbUpaA/nwp7vfAqoz9L6TkHaLGkP3Y5jDxU8qQ/wp/RiJLhoz/u5jK/drGhP+LkY5RFh50/u8NAnIkalz8NnbGnGPOQPyxh7FuaUYc/Q4ha9a4Ufj+DXmLfJzFyPwOJj3XGoWQ//wwoUqTwVT827lqNTOBFP9fxA8fNczQ//mo8OcvtIT87oRG+MnkNPy6YTtUUt/Y+",
                        "dtype": "f8"
                      }
                    }
                  ],
                  "name": "n=450"
                },
                {
                  "data": [
                    {
                      "marker": {
                        "color": "blue"
                      },
                      "name": "이항분포 샘플",
                      "opacity": 0.7,
                      "type": "bar",
                      "x": {
                        "bdata": "zczMzMzMWUBmZmZmZmZaQAAAAAAAAFtAmpmZmZmZW0AzMzMzMzNcQM3MzMzMzFxAZmZmZmZmXUAAAAAAAABeQJqZmZmZmV5AMzMzMzMzX0DNzMzMzMxfQDQzMzMzM2BAAAAAAACAYEDMzMzMzMxgQJqZmZmZGWFAZmZmZmZmYUA0MzMzM7NhQAAAAAAAAGJAzMzMzMxMYkCamZmZmZliQGZmZmZm5mJANDMzMzMzY0AAAAAAAIBjQMzMzMzMzGNAmpmZmZkZZEBmZmZmZmZkQDQzMzMzs2RAAAAAAAAAZUDMzMzMzExlQJqZmZmZmWVA",
                        "dtype": "f8"
                      },
                      "y": {
                        "bdata": "8anx0k1iMD+74uzDZ9gFP+l+arx0kzg/DKrx0k1iQD8aeDBP1L9RPz0b6LSBTms/gfbhM+wKcD8ehxbZzveDP2RGb8taHYM/PyrOPnyGjT+5zMzMzMycPxA+w64AuZc/cm2g0wY6pT9gdUzwYJ6gP3CGXQFyr6E/3Hw/NV66qT+f8dJNYhCgP8qmVJx9+KQ/ec+wK0DulT9hWatjggeTPzKnDXTaQJc/YVmrY4IHgz8P+n5qvHSDPz0b6LSBTms/pStA7jUXYj9tFK5H4XpkPxNNqTj78Ek/4OLsw2fYRT89G+i0gU4rP/Gp8dJNYiA/",
                        "dtype": "f8"
                      }
                    },
                    {
                      "line": {
                        "color": "red",
                        "dash": "dash"
                      },
                      "mode": "lines",
                      "name": "정규근사",
                      "type": "scatter",
                      "x": {
                        "bdata": "zczMzMzMWUBmZmZmZmZaQAAAAAAAAFtAmpmZmZmZW0AzMzMzMzNcQM3MzMzMzFxAZmZmZmZmXUAAAAAAAABeQJqZmZmZmV5AMzMzMzMzX0DNzMzMzMxfQDQzMzMzM2BAAAAAAACAYEDMzMzMzMxgQJqZmZmZGWFAZmZmZmZmYUA0MzMzM7NhQAAAAAAAAGJAzMzMzMxMYkCamZmZmZliQGZmZmZm5mJANDMzMzMzY0AAAAAAAIBjQMzMzMzMzGNAmpmZmZkZZEBmZmZmZmZkQDQzMzMzs2RAAAAAAAAAZUDMzMzMzExlQJqZmZmZmWVA",
                        "dtype": "f8"
                      },
                      "y": {
                        "bdata": "c3nemQMrFD+PSkuxmTwnP8zVA8D+ODk/wHZGDSPLST9TjO57t9lYPwhCSKdXjmY/vOUZ8NBJcz+HuFlvHxR/P1HQ68+uloc/EFq4eQvekD8wwZBh5rmWP+NO4MP72Jw/ZCf7isY/oT8mQ9RDEG+jP0W2j2a8oKQ/RbaPZrygpD8mQ9RDEG+jP2Qn+4rGP6E/407gw/vYnD8nwZBh5rmWPxpauHkL3pA/MdDrz66Whz+HuFlvHxR/P9/lGfDQSXM/9UFIp1eOZj9yjO57t9lYP4l2Rg0jy0k/zNUDwP44OT/KSkuxmTwnP1R53pkDKxQ/",
                        "dtype": "f8"
                      }
                    }
                  ],
                  "name": "n=460"
                },
                {
                  "data": [
                    {
                      "marker": {
                        "color": "blue"
                      },
                      "name": "이항분포 샘플",
                      "opacity": 0.7,
                      "type": "bar",
                      "x": {
                        "bdata": "qqqqqqoKW0AAAAAAAKBbQFZVVVVVNVxAqqqqqqrKXEAAAAAAAGBdQFZVVVVV9V1Aq6qqqqqKXkAAAAAAACBfQFZVVVVVtV9AVlVVVVUlYEAAAAAAAHBgQKqqqqqqumBAVlVVVVUFYUAAAAAAAFBhQKuqqqqqmmFAVlVVVVXlYUAAAAAAADBiQKuqqqqqemJAVlVVVVXFYkAAAAAAABBjQKuqqqqqWmNAVlVVVVWlY0AAAAAAAPBjQKuqqqqqOmRAVlVVVVWFZEAAAAAAANBkQKuqqqqqGmVAVlVVVVVlZUAAAAAAALBlQKuqqqqq+mVA",
                        "dtype": "f8"
                      },
                      "y": {
                        "bdata": "6ss8NzB4Jj/TmG0pJNowP++YbSkk2kA/i+WCtW7EVT/OsTnKgDFeP+X+C0U8Fmw//qQWi2GLfj/iKKr8LiuCP2w1EE3d1og/OX2utmJ/mT8/16NwPQqXP5KTfCl9o5o/fqT1dsn7pz/+rxmfR4ihPz2MSuoENKE/33IlgF53qD8/+y8U8VigP39VifPyeJs//6PUYjFsoT8hD2R+8N6SP6mojpaFs4w/cMt/SL99jT+vi437kzl4P6US3IkUB3E/DCwiCFNTcD/Dyzw3MHhWP5JlJD42R0k/LJjzS0LlPj/Dyzw3MHgmPxT/C0U8Fiw/",
                        "dtype": "f8"
                      }
                    },
                    {
                      "line": {
                        "color": "red",
                        "dash": "dash"
                      },
                      "mode": "lines",
                      "name": "정규근사",
                      "type": "scatter",
                      "x": {
                        "bdata": "qqqqqqoKW0AAAAAAAKBbQFZVVVVVNVxAqqqqqqrKXEAAAAAAAGBdQFZVVVVV9V1Aq6qqqqqKXkAAAAAAACBfQFZVVVVVtV9AVlVVVVUlYEAAAAAAAHBgQKqqqqqqumBAVlVVVVUFYUAAAAAAAFBhQKuqqqqqmmFAVlVVVVXlYUAAAAAAADBiQKuqqqqqemJAVlVVVVXFYkAAAAAAABBjQKuqqqqqWmNAVlVVVVWlY0AAAAAAAPBjQKuqqqqqOmRAVlVVVVWFZEAAAAAAANBkQKuqqqqqGmVAVlVVVVVlZUAAAAAAALBlQKuqqqqq+mVA",
                        "dtype": "f8"
                      },
                      "y": {
                        "bdata": "AzC/ts9cJj9NdhOxXKM3P5hUundApUc/ShoBJy1iVj9EBhldOw1kPx7dokmv/3A/nEQ6F0lGez+C3EAY7LSEP2e6m1PpwI0/gKf/+7A6lD/JR+U4/weaP2mgrFwWs58/BW6ehOZDoj8ECTX8TeujP3BD7mqZjqQ/g4QZo6UTpD8ak4yyLY6iPwXiwgmcOqA/1UlCzGXdmj9YEwKGzwqVP+0HQeKyMY8/JYmTYovhhT95ZkbOoQx9P67IHMaFP3I/tphkaBuyZT80poyoC2lYPz52X/OZ/Uk/rbbwkCUwOj+OifHii/goP1q4xw9NiBY/",
                        "dtype": "f8"
                      }
                    }
                  ],
                  "name": "n=470"
                },
                {
                  "data": [
                    {
                      "marker": {
                        "color": "blue"
                      },
                      "name": "이항분포 샘플",
                      "opacity": 0.7,
                      "type": "bar",
                      "x": {
                        "bdata": "3t3d3d1NW0CamZmZmelbQFVVVVVVhVxAEREREREhXUDNzMzMzLxdQIiIiIiIWF5ARERERET0XkAAAAAAAJBfQN7d3d3dFWBAvLu7u7tjYECamZmZmbFgQHd3d3d3/2BAVVVVVVVNYUAzMzMzM5thQBERERER6WFA7+7u7u42YkDNzMzMzIRiQKuqqqqq0mJAiIiIiIggY0BmZmZmZm5jQEREREREvGNAIiIiIiIKZEAAAAAAAFhkQN7d3d3dpWRAu7u7u7vzZECZmZmZmUFlQHd3d3d3j2VAVVVVVVXdZUAzMzMzMytmQBEREREReWZA",
                        "dtype": "f8"
                      },
                      "y": {
                        "bdata": "SfgpCNkoID+lSJsNv+4qP2fKkMuI5EY/TyLYyJWBQT/Nl6yYZithP312NEoPM2Q/Nm4uFUkXej+GnPeOOKB9P+AVt9qcNYU/X4uLqm3flD8bWfNGc7eRP6W9i28Y5aI/8lCFsPy9nD/4AKxJZhqnP9VtpL89G6E//Jt7gnHKoD/CJuU4hIunP+sm1+8/ZZs/8tZl6lmfoD/s74s0w+qQP6nS4s92kZM/9i6RVd7vgj+uuVQkXWh4P7PKkMuI5HY/0awD+cTXYT9SNy8p9C1iP270PoxFPTg/SfgpCNkoMD9hoOIKzIsFP3lImw2/7io/",
                        "dtype": "f8"
                      }
                    },
                    {
                      "line": {
                        "color": "red",
                        "dash": "dash"
                      },
                      "mode": "lines",
                      "name": "정규근사",
                      "type": "scatter",
                      "x": {
                        "bdata": "3t3d3d1NW0CamZmZmelbQFVVVVVVhVxAEREREREhXUDNzMzMzLxdQIiIiIiIWF5ARERERET0XkAAAAAAAJBfQN7d3d3dFWBAvLu7u7tjYECamZmZmbFgQHd3d3d3/2BAVVVVVVVNYUAzMzMzM5thQBERERER6WFA7+7u7u42YkDNzMzMzIRiQKuqqqqq0mJAiIiIiIggY0BmZmZmZm5jQEREREREvGNAIiIiIiIKZEAAAAAAAFhkQN7d3d3dpWRAu7u7u7vzZECZmZmZmUFlQHd3d3d3j2VAVVVVVVXdZUAzMzMzMytmQBEREREReWZA",
                        "dtype": "f8"
                      },
                      "y": {
                        "bdata": "TZvfXq/IGT8clx3cI/0sP8PKi/yUuz4/r+SRUgq5Tj8eITo68/VcP61tB7AHvmk//kw/WH+TdT8PZpiYdQ2BP6bmFHrCaok/Do/gNo3ckT85Q3P0+6uXP62eZkcYlZ0/M8OjiQxuoT+kDOy2Fl6jPx4QFA/5SqQ/PrbSWqUMpD+YIO4wxK2iP8wKbgu6aKA/Mnn6IIYvmz8Qg1eRLTyVP2OERAwNSI8/+dq2x9i5hT/o6qrvAnV8P1jjrOPWknE/JFF8wn93ZD+L41Lx+XlWP+Ws05h6Rkc/b7lJ6D26Nj9sjeD8MO0kP4r/kzNFKxI/",
                        "dtype": "f8"
                      }
                    }
                  ],
                  "name": "n=480"
                },
                {
                  "data": [
                    {
                      "marker": {
                        "color": "blue"
                      },
                      "name": "이항분포 샘플",
                      "opacity": 0.7,
                      "type": "bar",
                      "x": {
                        "bdata": "RERERETUWkDNzMzMzHxbQFZVVVVVJVxA3t3d3d3NXEBmZmZmZnZdQO/u7u7uHl5AeHd3d3fHXkAAAAAAAHBfQEREREREDGBAiIiIiIhgYEDNzMzMzLRgQBERERERCWFAVlVVVVVdYUCamZmZmbFhQN7d3d3dBWJAIiIiIiJaYkBmZmZmZq5iQKqqqqqqAmNA7+7u7u5WY0AzMzMzM6tjQHh3d3d3/2NAvLu7u7tTZEAAAAAAAKhkQERERERE/GRAiIiIiIhQZUDMzMzMzKRlQBERERER+WVAVlVVVVVNZkCamZmZmaFmQN7d3d3d9WZA",
                        "dtype": "f8"
                      },
                      "y": {
                        "bdata": "v9HxMODoAz/MumpJUN0dP6C6aklQ3S0/opfTKsRrQT/c7gA0bidFP6+dW0bCnkw/MkNqL5lJYz/e0fEw4OhzPy5h6vWG7nU/54/96QoZjj9aqkjfGb6JPyUGUkyAiZg/PSXqaKukoD9FVW4gjzWaP3fBNN/qdKY/SLNlv9OIpj/mc1+q3ECeP7u882LtuaQ/hRNLkPZjoD9xV/c5LBKRP1sKLrA8mZM/jUL5aznjgT9DtsS0EXeFP0O2xLQRd3U/3tHxMODoYz9yumpJUN1dP1VGLj0Y4zg/bZfTKsRrMT/MumpJUN0dP8y6aklQ3S0/",
                        "dtype": "f8"
                      }
                    },
                    {
                      "line": {
                        "color": "red",
                        "dash": "dash"
                      },
                      "mode": "lines",
                      "name": "정규근사",
                      "type": "scatter",
                      "x": {
                        "bdata": "RERERETUWkDNzMzMzHxbQFZVVVVVJVxA3t3d3d3NXEBmZmZmZnZdQO/u7u7uHl5AeHd3d3fHXkAAAAAAAHBfQEREREREDGBAiIiIiIhgYEDNzMzMzLRgQBERERERCWFAVlVVVVVdYUCamZmZmbFhQN7d3d3dBWJAIiIiIiJaYkBmZmZmZq5iQKqqqqqqAmNA7+7u7u5WY0AzMzMzM6tjQHh3d3d3/2NAvLu7u7tTZEAAAAAAAKhkQERERERE/GRAiIiIiIhQZUDMzMzMzKRlQBERERER+WVAVlVVVVVNZkCamZmZmaFmQN7d3d3d9WZA",
                        "dtype": "f8"
                      },
                      "y": {
                        "bdata": "3DEeF++X8z6PvyyYuyYKPy8BXmqMUCA/7qbjj4UHMz+3pjfT1b9EPzXboOd8JlU/A4Y7A3InZD8yZir4A/RxP/QoTOOa5n0/NF9jU+lGhz81gfOoi/CQPwuUrE5uDJc/bRF2JhlRnT91CK0UBm6hP/QCKXjeX6M/svsUxfYhpD/gVcnwoI6jP1r643uNwqE/z8lD714nnj/RQmvXGu6XP5PYdDfawJE/YzcTlgagiD8tOX5CRe5/Py2QIX5OWnM/kIAdwhfuZT97jO89JztXP+7clwJoAUc/QP52/yJMNT8cmsyDZm4iP61xU+iW0g0/",
                        "dtype": "f8"
                      }
                    }
                  ],
                  "name": "n=490"
                },
                {
                  "data": [
                    {
                      "marker": {
                        "color": "blue"
                      },
                      "name": "이항분포 샘플",
                      "opacity": 0.7,
                      "type": "bar",
                      "x": {
                        "bdata": "iIiIiIiYW0CamZmZmUlcQKqqqqqq+lxAvLu7u7urXUDMzMzMzFxeQN7d3d3dDV9A7+7u7u6+X0AAAAAAADhgQIiIiIiIkGBAERERERHpYECamZmZmUFhQCIiIiIimmFAqqqqqqryYUA0MzMzM0tiQLy7u7u7o2JARERERET8YkDMzMzMzFRjQFZVVVVVrWNA3t3d3d0FZEBmZmZmZl5kQO7u7u7utmRAeHd3d3cPZUAAAAAAAGhlQIiIiIiIwGVAEhEREREZZkCamZmZmXFmQCIiIiIiymZAqqqqqqoiZ0A0MzMzM3tnQLy7u7u702dA",
                        "dtype": "f8"
                      },
                      "y": {
                        "bdata": "2IMXQT7zAj8AAAAAAAAAANiDF0E+8yI/SVWAmXUOOj8/NsYpRcs+P17yzhvfYl8/fomab0PVaz9PmXen23Z5P6xkXdENsHc/REs7u8QNjj+wXPnKsj6VP9e8Tm/XM50/ZsH786CTlz9O+/U5Ve6jP8+kIlzG36U/wUi3JFAwpj++gX5/51aiP5rPclX/zJQ/HFx+yZYXnD/HcW5cMoGUP4qwuOXOiYk/s5PfTfTVdz/Uxw5PpFtyPxa4MRcMumQ/rGRd0Q2wVz9ydDoJplE1P3WT9HjWlDA/m0WjYd1sHD+9gxdBPvMCP/SDF0E+8xI/",
                        "dtype": "f8"
                      }
                    },
                    {
                      "line": {
                        "color": "red",
                        "dash": "dash"
                      },
                      "mode": "lines",
                      "name": "정규근사",
                      "type": "scatter",
                      "x": {
                        "bdata": "iIiIiIiYW0CamZmZmUlcQKqqqqqq+lxAvLu7u7urXUDMzMzMzFxeQN7d3d3dDV9A7+7u7u6+X0AAAAAAADhgQIiIiIiIkGBAERERERHpYECamZmZmUFhQCIiIiIimmFAqqqqqqryYUA0MzMzM0tiQLy7u7u7o2JARERERET8YkDMzMzMzFRjQFZVVVVVrWNA3t3d3d0FZEBmZmZmZl5kQO7u7u7utmRAeHd3d3cPZUAAAAAAAGhlQIiIiIiIwGVAEhEREREZZkCamZmZmXFmQCIiIiIiymZAqqqqqqoiZ0A0MzMzM3tnQLy7u7u702dA",
                        "dtype": "f8"
                      },
                      "y": {
                        "bdata": "EVuFCTIu9z7dkZWbdb0PP+rB/0LUMyQ/pTuNZdXoNz9tlDzCrk5KP8iAUi0f6Vo/hEuuo6aXaT/FcFgmqKB2P7RTHHCDmYI/3wRRuoBtjD9YFiUCeDKUPx7tBFlsrpo/OmZXUnRioD+qmBvmULWiPxZewmAS3KM/ebehy4eZoz9Wo69Jt/uhP+sTHxsdrp4/XrTpDa5UmD9x+c6pWfCRPxOzjKuzl4g/mDk9BgxYfz+Gb8uE7pFyP1l97P//dGQ/hP606ozzVD/Vfapg9fJDP7uOeTjFqDE/sZUCPwYRHT8oKoTLST0GP0WMdJOao+8+",
                        "dtype": "f8"
                      }
                    }
                  ],
                  "name": "n=500"
                },
                {
                  "data": [
                    {
                      "marker": {
                        "color": "blue"
                      },
                      "name": "이항분포 샘플",
                      "opacity": 0.7,
                      "type": "bar",
                      "x": {
                        "bdata": "zczMzMzcXEBmZmZmZpZdQAAAAAAAUF5AmpmZmZkJX0AzMzMzM8NfQGZmZmZmPmBANDMzMzObYEAAAAAAAPhgQMzMzMzMVGFAmpmZmZmxYUBmZmZmZg5iQDQzMzMza2JAAAAAAADIYkDMzMzMzCRjQJqZmZmZgWNAZmZmZmbeY0A0MzMzMztkQAAAAAAAmGRAzMzMzMz0ZECamZmZmVFlQGZmZmZmrmVANDMzMzMLZkAAAAAAAGhmQMzMzMzMxGZAmpmZmZkhZ0BmZmZmZn5nQDMzMzMz22dAAAAAAAA4aEDMzMzMzJRoQJqZmZmZ8WhA",
                        "dtype": "f8"
                      },
                      "y": {
                        "bdata": "FGx9kDIUAj8ubH2QMhQiPyR923xYoy8/8UKFuXU1Qz9/DUBt7a5bP+x+arx0k2g/5jsX34Fpej9ONZCWzBeHPzLZnBvR15A/MAOCNz73iz9MdlQ0o1GcP3CLIZ23GKI/C0OFuXU1oz9vFK5H4XqkP53lbGrV4qQ/SICPkBmmoD+GUJNK4NiZP4ZY1fvCX5Q/NkbVFDEhij8UhElXTG94P01q7lAWJHk/U5V1Z+/ycD8v+cMBjz9cP6PPyyrSYE0/nHSshsXbOD98fdt8WKMvP+NrfZAyFBI/AAAAAAAAAAAAAAAAAAAAABRsfZAyFAI/",
                        "dtype": "f8"
                      }
                    },
                    {
                      "line": {
                        "color": "red",
                        "dash": "dash"
                      },
                      "mode": "lines",
                      "name": "정규근사",
                      "type": "scatter",
                      "x": {
                        "bdata": "zczMzMzcXEBmZmZmZpZdQAAAAAAAUF5AmpmZmZkJX0AzMzMzM8NfQGZmZmZmPmBANDMzMzObYEAAAAAAAPhgQMzMzMzMVGFAmpmZmZmxYUBmZmZmZg5iQDQzMzMza2JAAAAAAADIYkDMzMzMzCRjQJqZmZmZgWNAZmZmZmbeY0A0MzMzMztkQAAAAAAAmGRAzMzMzMz0ZECamZmZmVFlQGZmZmZmrmVANDMzMzMLZkAAAAAAAGhmQMzMzMzMxGZAmpmZmZkhZ0BmZmZmZn5nQDMzMzMz22dAAAAAAAA4aEDMzMzMzJRoQJqZmZmZ8WhA",
                        "dtype": "f8"
                      },
                      "y": {
                        "bdata": "13VYDr/5Cz+dWu4KnpYiP2sNJMIl1jY/xNTgSdDvST+YWUcUtTtbPwKFXzZdb2o/f4yCyum4dz+O77tXKK6DPxt/rlMdMI4/hVo1DoVnlT9Sscd+ig+cP1ejMa8hAaE/r6OwP3ENoz9cbliHMLyjP7VZnnD75aI/8t+Q1vq6oD9BSJiFmGKbP544ndRVuJQ/0FlIPoT8jD+n9O0Kfb6CPwNun6k5aXY/OAsZx5DFaD/XHrVsMlBZPx+GfFPF6Uc/3cmpfGviND807ebEpNwgP9BaNIkDLAk/DOpY0qhe8T6q6pa0VSnWPmHiGYPBI7o+",
                        "dtype": "f8"
                      }
                    }
                  ],
                  "name": "n=510"
                },
                {
                  "data": [
                    {
                      "marker": {
                        "color": "blue"
                      },
                      "name": "이항분포 샘플",
                      "opacity": 0.7,
                      "type": "bar",
                      "x": {
                        "bdata": "VlVVVVUVXUAAAAAAAMBdQKqqqqqqal5AVlVVVVUVX0AAAAAAAMBfQFZVVVVVNWBAqqqqqqqKYEAAAAAAAOBgQFZVVVVVNWFAqqqqqqqKYUAAAAAAAOBhQFZVVVVVNWJAqqqqqqqKYkAAAAAAAOBiQFVVVVVVNWNAqqqqqqqKY0AAAAAAAOBjQFVVVVVVNWRAqqqqqqqKZEAAAAAAAOBkQFVVVVVVNWVAqqqqqqqKZUAAAAAAAOBlQFVVVVVVNWZAqqqqqqqKZkAAAAAAAOBmQFVVVVVVNWdAqqqqqqqKZ0AAAAAAAOBnQFVVVVVVNWhA",
                        "dtype": "f8"
                      },
                      "y": {
                        "bdata": "WDJVMCqpAz91MlUwKqkDPwAAAAAAAAAAznGKjuTyPz/IK2UZ4lhHP+GI0t7gC1M/IdejcD0KZz+bf0i/fR14PwvTTWIQWHk/w3nHKTqSiz+NrwPnjCiVP4E0gLdAgpI/dcxdS8gHoT+IRpT2Bl+kPximCkYldZo/RW6jAbwFpj8HsVBrmnekPzBUUiegiZg/fXh6pSxDoD9F1JrmHaeYP4gnDwu1pok/jM6I0t7giz8iNjy9UpaBPw3IBz2bVW8/GDQRNjy9Yj9iJXUCmghbPzoyVTAqqUM/YiV1ApoIOz91MlUwKqkjPzoyVTAqqSM/",
                        "dtype": "f8"
                      }
                    },
                    {
                      "line": {
                        "color": "red",
                        "dash": "dash"
                      },
                      "mode": "lines",
                      "name": "정규근사",
                      "type": "scatter",
                      "x": {
                        "bdata": "VlVVVVUVXUAAAAAAAMBdQKqqqqqqal5AVlVVVVUVX0AAAAAAAMBfQFZVVVVVNWBAqqqqqqqKYEAAAAAAAOBgQFZVVVVVNWFAqqqqqqqKYUAAAAAAAOBhQFZVVVVVNWJAqqqqqqqKYkAAAAAAAOBiQFVVVVVVNWNAqqqqqqqKY0AAAAAAAOBjQFVVVVVVNWRAqqqqqqqKZEAAAAAAAOBkQFVVVVVVNWVAqqqqqqqKZUAAAAAAAOBlQFVVVVVVNWZAqqqqqqqKZkAAAAAAAOBmQFVVVVVVNWdAqqqqqqqKZ0AAAAAAAOBnQFVVVVVVNWhA",
                        "dtype": "f8"
                      },
                      "y": {
                        "bdata": "b2hgbErB/T6JQZ1DD/gSP8fm8JktqSY/zev7EVNdOT8pA0NQ1plKP7iG4DuGI1o/WphBp7oQaD8d10zNccJ0Pzp0UDpjx4A/kUFJBrlpiT+C2Ja7HwiSP5NY//q7+Zc/AzOUPGjenT9GacterW6hP3eXsZKzEKM/yTvgAVuJoz9QqZ0I48GiPwIQm2C236A/0zFh5e1xnD+hjG/Vx3aWP3nRJ/JBn5A/PdN9KksMhz9Z0EBHfvF9P+pROBF4OXI/5I1TtBLJZD9TsGhCMjZWP86lutxJPUY/Hg4JHwLdND/K8+gXo1YiP5Dq6aqrNA4/",
                        "dtype": "f8"
                      }
                    }
                  ],
                  "name": "n=520"
                },
                {
                  "data": [
                    {
                      "marker": {
                        "color": "blue"
                      },
                      "name": "이항분포 샘플",
                      "opacity": 0.7,
                      "type": "bar",
                      "x": {
                        "bdata": "AAAAAADQXkAAAAAAAHBfQAAAAAAACGBAAAAAAABYYEAAAAAAAKhgQAAAAAAA+GBAAAAAAABIYUAAAAAAAJhhQAAAAAAA6GFAAAAAAAA4YkAAAAAAAIhiQAAAAAAA2GJAAAAAAAAoY0AAAAAAAHhjQAAAAAAAyGNAAAAAAAAYZEAAAAAAAGhkQAAAAAAAuGRAAAAAAAAIZUAAAAAAAFhlQAAAAAAAqGVAAAAAAAD4ZUAAAAAAAEhmQAAAAAAAmGZAAAAAAADoZkAAAAAAADhnQAAAAAAAiGdAAAAAAADYZ0AAAAAAAChoQAAAAAAAeGhA",
                        "dtype": "f8"
                      },
                      "y": {
                        "bdata": "8WjjiLX4JD8tQxzr4jYqP9L7xteeWUI/0vvG155ZQj9oHVVNEHVfP76kMVpHVWM/ibX4FADjeT8ouFhRg2l4P588LNSa5o0/JV0z+Wabiz/ZzvdT46WbP0qAmlq21pc/SNxj6UMXpD+Jzce1oWKcPz0P7s7abac/Ho8ZqIx/nz97FK5H4XqkPxDuztptF5o/dY4B2evdnz9UqdkDrcCQP+zdH+9VK5M/SFD8GHPXgj+L4H8r2bGBP7kZbsDnh3E/2ebG9IQlbj+L4H8r2bFRP7x5qkNuhks/LUMc6+I2Kj8P1v85zJc3P/Fo44i1+CQ/",
                        "dtype": "f8"
                      }
                    },
                    {
                      "line": {
                        "color": "red",
                        "dash": "dash"
                      },
                      "mode": "lines",
                      "name": "정규근사",
                      "type": "scatter",
                      "x": {
                        "bdata": "AAAAAADQXkAAAAAAAHBfQAAAAAAACGBAAAAAAABYYEAAAAAAAKhgQAAAAAAA+GBAAAAAAABIYUAAAAAAAJhhQAAAAAAA6GFAAAAAAAA4YkAAAAAAAIhiQAAAAAAA2GJAAAAAAAAoY0AAAAAAAHhjQAAAAAAAyGNAAAAAAAAYZEAAAAAAAGhkQAAAAAAAuGRAAAAAAAAIZUAAAAAAAFhlQAAAAAAAqGVAAAAAAAD4ZUAAAAAAAEhmQAAAAAAAmGZAAAAAAADoZkAAAAAAADhnQAAAAAAAiGdAAAAAAADYZ0AAAAAAAChoQAAAAAAAeGhA",
                        "dtype": "f8"
                      },
                      "y": {
                        "bdata": "VN+3pcLRHz9VUoij+0MxP+52BES8tkE/6Y618WguUT8VII5XcIJfPxBIxNLJUGs/6OHHEwNjdj9bW8MVbViBP8sTvBkyaYk/Guxyr9SYkT/ukk/8dgqXP7GmGid/hZw/99mSh1qwoD8y+BFFxnaiP7Pv+tD1T6M/tDHj5b4Yoz9vsLNsK9qhP4Fm0U0bjp8/mz9vn3Zdmj+EHieBZtOUP0QO6pOdGo8/NRGsP4H1hT8NgQ2V+099P/NRBMvtfnI/9GbxrBMRZj93q2zfreNYP17QXMREiko/kaqXo0PBOj9aZqTwqH8pP9KW7hlw+RY/",
                        "dtype": "f8"
                      }
                    }
                  ],
                  "name": "n=530"
                },
                {
                  "data": [
                    {
                      "marker": {
                        "color": "blue"
                      },
                      "name": "이항분포 샘플",
                      "opacity": 0.7,
                      "type": "bar",
                      "x": {
                        "bdata": "IiIiIiJSX0BmZmZmZvZfQFVVVVVVTWBAeHd3d3efYECamZmZmfFgQLy7u7u7Q2FA3t3d3d2VYUAAAAAAAOhhQCIiIiIiOmJARERERESMYkBmZmZmZt5iQImIiIiIMGNAq6qqqqqCY0DNzMzMzNRjQO/u7u7uJmRAERERERF5ZEAzMzMzM8tkQFVVVVVVHWVAeHd3d3dvZUCamZmZmcFlQLy7u7u7E2ZA3t3d3d1lZkAAAAAAALhmQCIiIiIiCmdARURERERcZ0BnZmZmZq5nQImIiIiIAGhAq6qqqqpSaEDNzMzMzKRoQO/u7u7u9mhA",
                        "dtype": "f8"
                      },
                      "y": {
                        "bdata": "jHPxGkNtFD8bRZO3mt8xP1Itaqjkoy4/40STt5rfUT8ZFrt2EF1dP7Whko96AG4/yRAaDKHBcD/gaiemARKDPytWarKsm4s/taGSj3oAjj9fhzQxtu6ZP/nRY29Ea5c/tOj0SDG7oj/H4UHLFj+cP+s855pAe6Y/HXd7josppj/ABCeNjaaaPzF656ns7qE/UGbC62Bkkj9o85KjCvCXP4EQXR0wx4c/w8fjbFItiD+chMgVVSl+P4Nnu4qgTGc/xYqgTBe0ZT9TXELpbiZTP+It5IXGmFA//qFPfuv6Nj+Mc/EaQ20UP1Itaqjkox4/",
                        "dtype": "f8"
                      }
                    },
                    {
                      "line": {
                        "color": "red",
                        "dash": "dash"
                      },
                      "mode": "lines",
                      "name": "정규근사",
                      "type": "scatter",
                      "x": {
                        "bdata": "IiIiIiJSX0BmZmZmZvZfQFVVVVVVTWBAeHd3d3efYECamZmZmfFgQLy7u7u7Q2FA3t3d3d2VYUAAAAAAAOhhQCIiIiIiOmJARERERESMYkBmZmZmZt5iQImIiIiIMGNAq6qqqqqCY0DNzMzMzNRjQO/u7u7uJmRAERERERF5ZEAzMzMzM8tkQFVVVVVVHWVAeHd3d3dvZUCamZmZmcFlQLy7u7u7E2ZA3t3d3d1lZkAAAAAAALhmQCIiIiIiCmdARURERERcZ0BnZmZmZq5nQImIiIiIAGhAq6qqqqpSaEDNzMzMzKRoQO/u7u7u9mhA",
                        "dtype": "f8"
                      },
                      "y": {
                        "bdata": "wR+FSl2+GT/kqVj+KbQsP9d4jX6yMj4/gv5bISD6TT8r5Pw7BhRcP319SZu70Gg/Gou9n6KxdD8+oWqMcUiAP8ElNsymLYg/Lp9ulRjwkD+kcEwyV2SWP+GaTyJ87ps/TkpoIglwoD98jKIDTUGiP288NikYIaM/ghfJq/zpoj8ccSZwTaWhP0j6U3UTEZ8/Qgzrf+TNmT+//f5qPTmUP2tk69Ye6Y0/1ClF69nehD9QC3p0Rnt7P22Wxdl7EnE/T0yyCaMDZD9Gjew2lCNWPzyZkj5xG0c/hxuJV7DBNj+B5VrBfiUlP80tVmOOihI/",
                        "dtype": "f8"
                      }
                    }
                  ],
                  "name": "n=540"
                },
                {
                  "data": [
                    {
                      "marker": {
                        "color": "blue"
                      },
                      "name": "이항분포 샘플",
                      "opacity": 0.7,
                      "type": "bar",
                      "x": {
                        "bdata": "7+7u7u6eXkDNzMzMzFxfQFZVVVVVDWBARERERERsYEA0MzMzM8tgQCIiIiIiKmFAERERERGJYUAAAAAAAOhhQO/u7u7uRmJA3t3d3d2lYkDMzMzMzARjQLy7u7u7Y2NAqqqqqqrCY0CamZmZmSFkQIiIiIiIgGRAeHd3d3ffZEBmZmZmZj5lQFZVVVVVnWVARERERET8ZUA0MzMzM1tmQCIiIiIiumZAEREREREZZ0AAAAAAAHhnQO/u7u7u1mdA3t3d3d01aEDNzMzMzJRoQLy7u7u782hAq6qqqqpSaUCamZmZmbFpQIiIiIiIEGpA",
                        "dtype": "f8"
                      },
                      "y": {
                        "bdata": "iD6abTGsAT+IPpptMawBP4g+mm0xrAE/zF1nJEqCKj+dpRpS0Lc8P3Hic4T0xlI/s6dQM+LyYT/pN1J/d/twP0S58hz+yX4/2Iv6mOj0iT9fHZfVBpuTP1XA1ftAGJo/Gfc5ZW32nz9x4nOE9MaiPz/jPMIL3aI/ON9PjZduoj9CM5wM7HagPwzSG0tA/ps/1ddsrlQglz82BQmYTQSRPzyT3XcrQ4U//wFBOw2dez8b7c1/Vu1uP7i/Ogu4el8/Zmwt4s8eUT/spRpS0Lc8PxvtzX9W7S4/uD6abTGsAT8AAAAAAAAAAIg+mm0xrAE/",
                        "dtype": "f8"
                      }
                    },
                    {
                      "line": {
                        "color": "red",
                        "dash": "dash"
                      },
                      "mode": "lines",
                      "name": "정규근사",
                      "type": "scatter",
                      "x": {
                        "bdata": "7+7u7u6eXkDNzMzMzFxfQFZVVVVVDWBARERERERsYEA0MzMzM8tgQCIiIiIiKmFAERERERGJYUAAAAAAAOhhQO/u7u7uRmJA3t3d3d2lYkDMzMzMzARjQLy7u7u7Y2NAqqqqqqrCY0CamZmZmSFkQIiIiIiIgGRAeHd3d3ffZEBmZmZmZj5lQFZVVVVVnWVARERERET8ZUA0MzMzM1tmQCIiIiIiumZAEREREREZZ0AAAAAAAHhnQO/u7u7u1mdA3t3d3d01aEDNzMzMzJRoQLy7u7u782hAq6qqqqpSaUCamZmZmbFpQIiIiIiIEGpA",
                        "dtype": "f8"
                      },
                      "y": {
                        "bdata": "dRFwguQY7z6CWGoX7E0GP7RyPi/jpR0/h5GigE5CMj9QG3RDBNdEP/OoBxxdClY/EyxkkpeZZT+qiEQne51zP2Scr/N9gYA/QcygJpu9iT/AEdeVOJmSPxAn9N5+55g/kt3Wibnmnj810NSevMOhP0qBbWox7aI/wpy0j12voj+DFHZ42hehP2f7Tf+2+pw/ql08U1rDlj/+SSH/gpGQP7yggFV1WYY/SSYoDorvez9bkX/Emy1wP5UA/isJXWE/jto70atEUT9unIvWwNM/Pw8RXEOtLSs/nhc35oGBFT8SOadOmYn/PljdCd93beU+",
                        "dtype": "f8"
                      }
                    }
                  ],
                  "name": "n=550"
                },
                {
                  "data": [
                    {
                      "marker": {
                        "color": "blue"
                      },
                      "name": "이항분포 샘플",
                      "opacity": 0.7,
                      "type": "bar",
                      "x": {
                        "bdata": "d3d3d3fXX0AzMzMzM0NgQKqqqqqqmmBAIiIiIiLyYECamZmZmUlhQBERERERoWFAiIiIiIj4YUAAAAAAAFBiQHh3d3d3p2JA7+7u7u7+YkBmZmZmZlZjQN7d3d3drWNAVlVVVVUFZEDMzMzMzFxkQEREREREtGRAvLu7u7sLZUA0MzMzM2NlQKqqqqqqumVAIiIiIiISZkCamZmZmWlmQBIRERERwWZAiIiIiIgYZ0AAAAAAAHBnQHh3d3d3x2dA7u7u7u4eaEBmZmZmZnZoQN7d3d3dzWhAVlVVVVUlaUDMzMzMzHxpQERERERE1GlA",
                        "dtype": "f8"
                      },
                      "y": {
                        "bdata": "FeBMmWcuAz/e30yZZy4TPxXgTJlnLiM/1RegfwH6Nz8egl7stJJLP83oKCkoLFw/oRyOx+F4bD/OgV7stJJrP7SRuRmZm4E/yR2I34H4jT8FU7QuReuSP2DeUoHHrpE/E8ZOK7mBnz9VRhrKCgijPzA0yHi2v5o/8Bv2jS6spT+uszE5G5OjPyxLbeQHeqE/LDp9caDkkz/1ygYY0+aXP6U5gGXQJJM/m+Q64Uethz8dRhrKCghzP5fhRrEHrnQ/GrHVQo5gZz/j3FhpJy9QP9LlNPnnLEk/IuwcWWgrPz8hUPNlm8UsP97fTJlnLhM/",
                        "dtype": "f8"
                      }
                    },
                    {
                      "line": {
                        "color": "red",
                        "dash": "dash"
                      },
                      "mode": "lines",
                      "name": "정규근사",
                      "type": "scatter",
                      "x": {
                        "bdata": "d3d3d3fXX0AzMzMzM0NgQKqqqqqqmmBAIiIiIiLyYECamZmZmUlhQBERERERoWFAiIiIiIj4YUAAAAAAAFBiQHh3d3d3p2JA7+7u7u7+YkBmZmZmZlZjQN7d3d3drWNAVlVVVVUFZEDMzMzMzFxkQEREREREtGRAvLu7u7sLZUA0MzMzM2NlQKqqqqqqumVAIiIiIiISZkCamZmZmWlmQBIRERERwWZAiIiIiIgYZ0AAAAAAAHBnQHh3d3d3x2dA7u7u7u4eaEBmZmZmZnZoQN7d3d3dzWhAVlVVVVUlaUDMzMzMzHxpQERERERE1GlA",
                        "dtype": "f8"
                      },
                      "y": {
                        "bdata": "GVahUAk+AT8EMapvjXkVPz4OtvGTGSk/PAtWhvmHOz9RUXlhzlZMP9T0kXUKYFs/z83yMPjQaD+SU0Ytohx1P5hNePjX2oA/3cf7JYRBiT+IyTuQ6MGRP3qFLyv7bpc/asKoKToFnT+DnlAAEt2gPyLeJwVoZKI/D5Ozrx/Toj+uY1Vh1RSiP60kEI9iTKA/LigeRuSSmz9ecHd8nOOVPyetw7SKTpA/pvN8e/3Mhj+UndvDHOt9P6/svzq2a3I/9PAW+3tJZT8ofMwozRVXP3qKv5yAfkc/uX2shkhwNj/ZbTPfgRwkP7PufSt76hA/",
                        "dtype": "f8"
                      }
                    }
                  ],
                  "name": "n=560"
                },
                {
                  "data": [
                    {
                      "marker": {
                        "color": "blue"
                      },
                      "name": "이항분포 샘플",
                      "opacity": 0.7,
                      "type": "bar",
                      "x": {
                        "bdata": "qqqqqqrKYEAAAAAAACBhQFZVVVVVdWFAqqqqqqrKYUAAAAAAACBiQFZVVVVVdWJAqqqqqqrKYkAAAAAAACBjQFZVVVVVdWNAqqqqqqrKY0AAAAAAACBkQFZVVVVVdWRAqqqqqqrKZEAAAAAAACBlQFVVVVVVdWVAqqqqqqrKZUAAAAAAACBmQFVVVVVVdWZAqqqqqqrKZkAAAAAAACBnQFVVVVVVdWdAqqqqqqrKZ0AAAAAAACBoQFVVVVVVdWhAqqqqqqrKaEAAAAAAACBpQFVVVVVVdWlAqqqqqqrKaUAAAAAAACBqQFVVVVVVdWpA",
                        "dtype": "f8"
                      },
                      "y": {
                        "bdata": "En9qvHSTKD9Xy39Iv30tP3UyVTAqqTM/iHh6pSxDTD/wLt0kBoFlP/qDns2qz2U/n3zQs1n1eT99glFJnYCGP8gubqMBvIU/MC/dJAaBlT9bIY51cRudPz+HFtnO95M/tLQ3+MJkoj/jGVHaG3ylP8yikjoBTZw/bFuxv+yepD/vtYR80LOhP5yxLm6jAZQ/CajGSzeJmT+4CkYldQKSPyXhehSuR4E/tt++Dpwzgj/LhHzQs1l1PzoyVTAqqWM/1x6F61G4Xj860m9fB85JP59xio7k8j8//3GKjuTyPz91MlUwKqkjP1fLf0i/fR0/",
                        "dtype": "f8"
                      }
                    },
                    {
                      "line": {
                        "color": "red",
                        "dash": "dash"
                      },
                      "mode": "lines",
                      "name": "정규근사",
                      "type": "scatter",
                      "x": {
                        "bdata": "qqqqqqrKYEAAAAAAACBhQFZVVVVVdWFAqqqqqqrKYUAAAAAAACBiQFZVVVVVdWJAqqqqqqrKYkAAAAAAACBjQFZVVVVVdWNAqqqqqqrKY0AAAAAAACBkQFZVVVVVdWRAqqqqqqrKZEAAAAAAACBlQFVVVVVVdWVAqqqqqqrKZUAAAAAAACBmQFVVVVVVdWZAqqqqqqrKZkAAAAAAACBnQFVVVVVVdWdAqqqqqqrKZ0AAAAAAACBoQFVVVVVVdWhAqqqqqqrKaEAAAAAAACBpQFVVVVVVdWlAqqqqqqrKaUAAAAAAACBqQFVVVVVVdWpA",
                        "dtype": "f8"
                      },
                      "y": {
                        "bdata": "xgyd1hhlIT+3WqWdBRwzP9guMxg9yEM//aQUbyRMUz8RWU85Ir1hPy8JCAEsu24/a4IN25YVeT80mtlbTkuDP+vzzrkY+Is/4GUDrF0akz+w4kUr95aYP/894FCh050/vr/Hps8LoT+I4YS+M1yiP/9cIL2HoqI/RUj+GKTSoT9h/NX7HRCgPyEQUHakSJs/h2BxGMDVlT+OpRvZaXeQPzIYqxhAZ4c/QZ2e7w9Yfz8ACVCkYcdzPwO/1v6phWc/dfdSDUNcWj/uDvZsWNZLP8acgH+Nszs/EYoPQuf5KT+OsqF/GPQWP7RHPqTZHAM/",
                        "dtype": "f8"
                      }
                    }
                  ],
                  "name": "n=570"
                },
                {
                  "data": [
                    {
                      "marker": {
                        "color": "blue"
                      },
                      "name": "이항분포 샘플",
                      "opacity": 0.7,
                      "type": "bar",
                      "x": {
                        "bdata": "vLu7u7szYEAzMzMzM5tgQKqqqqqqAmFAIiIiIiJqYUCamZmZmdFhQBEREREROWJAiIiIiIigYkAAAAAAAAhjQHh3d3d3b2NA7+7u7u7WY0BmZmZmZj5kQN7d3d3dpWRAVlVVVVUNZUDMzMzMzHRlQERERERE3GVAvLu7u7tDZkA0MzMzM6tmQKqqqqqqEmdAIiIiIiJ6Z0CamZmZmeFnQBIRERERSWhAiIiIiIiwaEAAAAAAABhpQHh3d3d3f2lA7u7u7u7maUBmZmZmZk5qQN7d3d3dtWpAVlVVVVUda0DMzMzMzIRrQERERERE7GtA",
                        "dtype": "f8"
                      },
                      "y": {
                        "bdata": "s8IWUhA3ED8AAAAAAAAAAAskInuYUhg/LXOcZtREJD+41KePXGBMPwxG1ALC11k/4LcAdidPZz/NBzPbGqhuP20H6T8RG4Y/NbL1BzPbij87USHOgSyUP1SKyjNnCJo/1iClD9euoz/BQrLJe+2gP9o8Ao4CM6A/cfvj+plfoD93svUHM9uaP8l5lj1XjJ0/hcM8qnV3jj+8+4jIHqaEP14TJXRfQ30/MB47UEgrdj9eHhcNpN5bP+C3AHYnT0c/Dq3qmT5nPj9x1KePXGAsPwAAAAAAAAAAs8IWUhA3AD8AAAAAAAAAAIrCFlIQNxA/",
                        "dtype": "f8"
                      }
                    },
                    {
                      "line": {
                        "color": "red",
                        "dash": "dash"
                      },
                      "mode": "lines",
                      "name": "정규근사",
                      "type": "scatter",
                      "x": {
                        "bdata": "vLu7u7szYEAzMzMzM5tgQKqqqqqqAmFAIiIiIiJqYUCamZmZmdFhQBEREREROWJAiIiIiIigYkAAAAAAAAhjQHh3d3d3b2NA7+7u7u7WY0BmZmZmZj5kQN7d3d3dpWRAVlVVVVUNZUDMzMzMzHRlQERERERE3GVAvLu7u7tDZkA0MzMzM6tmQKqqqqqqEmdAIiIiIiJ6Z0CamZmZmeFnQBIRERERSWhAiIiIiIiwaEAAAAAAABhpQHh3d3d3f2lA7u7u7u7maUBmZmZmZk5qQN7d3d3dtWpAVlVVVVUda0DMzMzMzIRrQERERERE7GtA",
                        "dtype": "f8"
                      },
                      "y": {
                        "bdata": "toFMLZpS5z7rkd5zQyUCP4ij6iez6Rk/8nUkjQz7MD+O3A34nGxEP5TfDV2si1Y/2kZ/khjXZj8eO3IkSDx1P51hlK+ZHoI/4mZJYdNgjD8i5SFDCWWUP5VL1Cwu55o/jvDMd+FIoD8Xu45bzxeiP2KVKKvccqI/GSt2xJlDoT9YdfJmQ6edP+s/EjJEX5c/8+kWf/znkD8fWHZKR3KGP7qHfvvQWXs/es75tO6Vbj9qlOozymNfP83mQhC4kE0/jUCNem+OOT9zkKr3JUYkPytadItqhQ0/acz4GqO58z5P/G36/DDYPodWqZd+Ors+",
                        "dtype": "f8"
                      }
                    }
                  ],
                  "name": "n=580"
                },
                {
                  "data": [
                    {
                      "marker": {
                        "color": "blue"
                      },
                      "name": "이항분포 샘플",
                      "opacity": 0.7,
                      "type": "bar",
                      "x": {
                        "bdata": "vLu7u7tLYUAzMzMzM6NhQKqqqqqq+mFAIiIiIiJSYkCamZmZmaliQBERERERAWNAiIiIiIhYY0AAAAAAALBjQHh3d3d3B2RA7+7u7u5eZEBmZmZmZrZkQN7d3d3dDWVAVlVVVVVlZUDMzMzMzLxlQEREREREFGZAvLu7u7trZkA0MzMzM8NmQKqqqqqqGmdAIiIiIiJyZ0CamZmZmclnQBIRERERIWhAiIiIiIh4aEAAAAAAANBoQHh3d3d3J2lA7u7u7u5+aUBmZmZmZtZpQN7d3d3dLWpAVlVVVVWFakDMzMzMzNxqQERERERENGtA",
                        "dtype": "f8"
                      },
                      "y": {
                        "bdata": "FeBMmWcuEz/e30yZZy4jPxh8dow0lDU/4kMjpprIMD8bGKB/AfpXP9UXoH8B+mc/XbPMZv6feT+W4z3Vd+12PxzmNPnnLIk/D1K3InUrkj+r2J2I3YmYPyuhR64TfpQ/lUUdvjpIoj/tsjQtS9OiP+40xYSGf5s/ZSaZzvhPoz9d8jYkb0OiP9P4tr2iDp8/cZ1WcgO/kD8qCBLrhheVP52AZNQUE4o/FeBMmWcugz9fRR2+OkhyPxOr7eINYnE/Ih6I34H4XT/eeIJc9JRSP97fTJlnLkM/FeBMmWcuIz8bGKB/AfonP8xP82WbxRw/",
                        "dtype": "f8"
                      }
                    },
                    {
                      "line": {
                        "color": "red",
                        "dash": "dash"
                      },
                      "mode": "lines",
                      "name": "정규근사",
                      "type": "scatter",
                      "x": {
                        "bdata": "vLu7u7tLYUAzMzMzM6NhQKqqqqqq+mFAIiIiIiJSYkCamZmZmaliQBERERERAWNAiIiIiIhYY0AAAAAAALBjQHh3d3d3B2RA7+7u7u5eZEBmZmZmZrZkQN7d3d3dDWVAVlVVVVVlZUDMzMzMzLxlQEREREREFGZAvLu7u7trZkA0MzMzM8NmQKqqqqqqGmdAIiIiIiJyZ0CamZmZmclnQBIRERERIWhAiIiIiIh4aEAAAAAAANBoQHh3d3d3J2lA7u7u7u5+aUBmZmZmZtZpQN7d3d3dLWpAVlVVVVWFakDMzMzMzNxqQERERERENGtA",
                        "dtype": "f8"
                      },
                      "y": {
                        "bdata": "Vq0FxY3BFj/paEr4k+MpP9AMC+rLujs/50UpYZT2Sz+EA0ukb4xaP1T7L6wFu2c/20zPLWz4cz9J2TQYLKV/P5Mhwi77moc/mekAt+qTkD/tR+tmF+yVP2dtvO8QS5s/s4WBwt/9nz/8p5mt/qahP2JG2EskV6I/qGRrhbLwoT9++SdWmYWgP013uuSJppw/VUHkfERjlz9mRvnPePmRP+67bp34Aoo/FBYxY0e4gT9h5F3P0Lp2P+3h+6swc2s/AT4UDeU1Xz8vBHRZcbRQP4OgBK7k1UA/n68yYtvyLz+XCdy2W4ocP6VpUdP+AAg/",
                        "dtype": "f8"
                      }
                    }
                  ],
                  "name": "n=590"
                },
                {
                  "data": [
                    {
                      "marker": {
                        "color": "blue"
                      },
                      "name": "이항분포 샘플",
                      "opacity": 0.7,
                      "type": "bar",
                      "x": {
                        "bdata": "3t3d3d0NYkCamZmZmWliQFVVVVVVxWJAEREREREhY0DNzMzMzHxjQIiIiIiI2GNAREREREQ0ZEAAAAAAAJBkQLy7u7u762RAeHd3d3dHZUAzMzMzM6NlQO/u7u7u/mVAqqqqqqpaZkBmZmZmZrZmQCIiIiIiEmdA3t3d3d1tZ0CamZmZmclnQFZVVVVVJWhAERERERGBaEDNzMzMzNxoQIiIiIiIOGlARERERESUaUAAAAAAAPBpQLy7u7u7S2pAeHd3d3enakA0MzMzMwNrQO/u7u7uXmtAqqqqqqq6a0BmZmZmZhZsQCIiIiIicmxA",
                        "dtype": "f8"
                      },
                      "y": {
                        "bdata": "be16FcMAMD8IBWVJBW8rP7sEZUkFb0s/fVhDhgNKYj9KjIPKnNxoP8tI9AnRJXo/gNAbSOo3hj+GItaQ4YCCP4Yi1pDhgJI/Es/3U+Olmz+hHoXrUbiePx+wc31KHKI/tb2Mi3Jloj9mfUocUryiPwOhNnsbQZc/I9nQIcZAoD+dasDId9OYP0LKkx+XZZU/gkj0CdElij+JSzM1XaWAP7MGiT0MAXY/M88AEWVKaj/36TIttdxaP1DePROUJVU/be16FcMAQD8IBWVJBW87P31YQ4YDShI/sFhDhgNKAj8AAAAAAAAAAH1YQ4YDSgI/",
                        "dtype": "f8"
                      }
                    },
                    {
                      "line": {
                        "color": "red",
                        "dash": "dash"
                      },
                      "mode": "lines",
                      "name": "정규근사",
                      "type": "scatter",
                      "x": {
                        "bdata": "3t3d3d0NYkCamZmZmWliQFVVVVVVxWJAEREREREhY0DNzMzMzHxjQIiIiIiI2GNAREREREQ0ZEAAAAAAAJBkQLy7u7u762RAeHd3d3dHZUAzMzMzM6NlQO/u7u7u/mVAqqqqqqpaZkBmZmZmZrZmQCIiIiIiEmdA3t3d3d1tZ0CamZmZmclnQFZVVVVVJWhAERERERGBaEDNzMzMzNxoQIiIiIiIOGlARERERESUaUAAAAAAAPBpQLy7u7u7S2pAeHd3d3enakA0MzMzMwNrQO/u7u7uXmtAqqqqqqq6a0BmZmZmZhZsQCIiIiIicmxA",
                        "dtype": "f8"
                      },
                      "y": {
                        "bdata": "7v62ddPFLj/x+JjTo7lAP2UHJpdTCFE/6pv4sxdAYD8KVsoN5wxtP7ZH9SKuU3g/ulDipcwVgz8HqmLFEw6MP3/611B+UZM/3aD6p8nsmD8jnGfv1SCeP6vaA6UoD6E/lkdv5kgZoj/psKN3Qv2hP+LjeQ9kwKA/iLcbE2E6nT+4v12QeeOXP2qIc6SxSpI/8ZLo0Gg+ij/iVBBIQaOBPy1f/MbzNXY/jf8rfxg0aj85EVPkTfZcP95n3r1x/U0/aBn67/gXPT8Bq2AUKHEqP2cjtIbDgxY/rsSoddT1AT9KvSF2V9jqPvV/LCi8y9I+",
                        "dtype": "f8"
                      }
                    }
                  ],
                  "name": "n=600"
                },
                {
                  "data": [
                    {
                      "marker": {
                        "color": "blue"
                      },
                      "name": "이항분포 샘플",
                      "opacity": 0.7,
                      "type": "bar",
                      "x": {
                        "bdata": "iIiIiIiwYUCamZmZmRFiQKqqqqqqcmJAvLu7u7vTYkDMzMzMzDRjQN7d3d3dlWNA7+7u7u72Y0AAAAAAAFhkQBERERERuWRAIiIiIiIaZUA0MzMzM3tlQERERERE3GVAVlVVVVU9ZkBmZmZmZp5mQHh3d3d3/2ZAiIiIiIhgZ0CamZmZmcFnQKqqqqqqImhAvLu7u7uDaEDMzMzMzORoQN7d3d3dRWlA7+7u7u6maUAAAAAAAAhqQBERERERaWpAIiIiIiLKakAzMzMzMytrQEREREREjGtAVVVVVVXta0BmZmZmZk5sQHh3d3d3r2xA",
                        "dtype": "f8"
                      },
                      "y": {
                        "bdata": "muukoMJIET+a66SgwkghPw2JufTacTM/xtfDHmeGRD+WnN2HxTlXP91N0105JWY/S/BtRb06cj+4l1f0WU19PxuLv8+fbYc/rkYE3nk3kT8GBJLYpwKWP+1Za4LzBJw/8CcOpUaToD9xNeYlVGuhP8OhYxsxJqE/JoHKxvEHoT/HvlwJoNedP7ydYPWnN5k/dgXSNPv6kD/X41tDIWaKP3rVvUOiioA/uo2CmdVjdD/uEu3Gl9hoP6F0G4QOtV0/x+ukoMJIQT/9myCZVD8+P6th9/Aj7Sk/RibOSPOaJT+a66SgwkgBP5rrpKDCSAE/",
                        "dtype": "f8"
                      }
                    },
                    {
                      "line": {
                        "color": "red",
                        "dash": "dash"
                      },
                      "mode": "lines",
                      "name": "정규근사",
                      "type": "scatter",
                      "x": {
                        "bdata": "iIiIiIiwYUCamZmZmRFiQKqqqqqqcmJAvLu7u7vTYkDMzMzMzDRjQN7d3d3dlWNA7+7u7u72Y0AAAAAAAFhkQBERERERuWRAIiIiIiIaZUA0MzMzM3tlQERERERE3GVAVlVVVVU9ZkBmZmZmZp5mQHh3d3d3/2ZAiIiIiIhgZ0CamZmZmcFnQKqqqqqqImhAvLu7u7uDaEDMzMzMzORoQN7d3d3dRWlA7+7u7u6maUAAAAAAAAhqQBERERERaWpAIiIiIiLKakAzMzMzMytrQEREREREjGtAVVVVVVXta0BmZmZmZk5sQHh3d3d3r2xA",
                        "dtype": "f8"
                      },
                      "y": {
                        "bdata": "GAvPj9FdBj98jQMb9c8cP16MfcKNRTE/Gk5HyqJFQz/ZBNukegNUP0DSwaTcV2M/Zf6iVkhmcT9sZGtZASJ9P9atKQrmsoY/q6RuDcJ1kD/qGjgOojeWP+5uA1jz6Js/bezoFcpQoD/9GvwZ38ChPwhjTPuh+qE/I8Z0WBLyoD9Jgoweq7qdP9PfJwhVRZg/YFuGgPpwkj/DybKH5xSKP/0NcuJXKoE/UaUlfkwHdT993eUdvvlnPzSHte3mcFk/9yTdQwAgST+K0PZl2Rc3Pxmvh7YnwSM/Rz/WO2R0Dz9MTxNefk73PiMeThWFEuA+",
                        "dtype": "f8"
                      }
                    }
                  ],
                  "name": "n=610"
                },
                {
                  "data": [
                    {
                      "marker": {
                        "color": "blue"
                      },
                      "name": "이항분포 샘플",
                      "opacity": 0.7,
                      "type": "bar",
                      "x": {
                        "bdata": "MzMzMzOLYkCamZmZmeFiQAAAAAAAOGNAZmZmZmaOY0DNzMzMzORjQDMzMzMzO2RAmpmZmZmRZEAAAAAAAOhkQGZmZmZmPmVAzczMzMyUZUAzMzMzM+tlQJqZmZmZQWZAAAAAAACYZkBmZmZmZu5mQM3MzMzMRGdAMzMzMzObZ0CamZmZmfFnQAAAAAAASGhAZmZmZmaeaEDNzMzMzPRoQDMzMzMzS2lAmpmZmZmhaUAAAAAAAPhpQGZmZmZmTmpAzczMzMykakAzMzMzM/tqQJqZmZmZUWtAAAAAAACoa0BnZmZmZv5rQM3MzMzMVGxA",
                        "dtype": "f8"
                      },
                      "y": {
                        "bdata": "VC6RWoogHT/+LZFaiiAtP9yccjfrjT8/f7+vfSmzSj/1vJp4VjRiPwymzGqADXI/fwUqCqb9cD9nRm/LWh2DPxYXw0y0+Yw/EXcg7Nnpiz//VC9wFyWZPzci5rqgl58/ABGvxFFWoj/Z4WSSau2aP9sQTXiSm6M/TtsqJcoZpD8EFOquYgWXP67OM7tkMJ4/LiMyhRz4lz/PQcIxkN2JP2sXw0y0+Yw/szZjXCK1hD//lTjKSrp4Pw5ZGHFj72Q/kBCJ3xMmZj84dAvnBmtTP/5zC+cGazM/f7+vfSmzOj9ULpFaiiAtP1QukVqKIB0/",
                        "dtype": "f8"
                      }
                    },
                    {
                      "line": {
                        "color": "red",
                        "dash": "dash"
                      },
                      "mode": "lines",
                      "name": "정규근사",
                      "type": "scatter",
                      "x": {
                        "bdata": "MzMzMzOLYkCamZmZmeFiQAAAAAAAOGNAZmZmZmaOY0DNzMzMzORjQDMzMzMzO2RAmpmZmZmRZEAAAAAAAOhkQGZmZmZmPmVAzczMzMyUZUAzMzMzM+tlQJqZmZmZQWZAAAAAAACYZkBmZmZmZu5mQM3MzMzMRGdAMzMzMzObZ0CamZmZmfFnQAAAAAAASGhAZmZmZmaeaEDNzMzMzPRoQDMzMzMzS2lAmpmZmZmhaUAAAAAAAPhpQGZmZmZmTmpAzczMzMykakAzMzMzM/tqQJqZmZmZUWtAAAAAAACoa0BnZmZmZv5rQM3MzMzMVGxA",
                        "dtype": "f8"
                      },
                      "y": {
                        "bdata": "kuR+p2fQIz8JDnq4AQg1P9G3J+6RG0U/E/nmOOYHVD+/ZhLuT/lhP+nDuQ31f24/d3pEOu13eD8FwPJQmI+CP1JHAqdAoIo/46yRu80Okj+yEGl89iiXP7+zOBocFpw/rkPV81saoD8KpQc0nHWhP6/MqB875qE/EK4b4eNZoT8emP8Wxc6fP3OXyjYpkZs/WciSET6Xlj8p8DZgOIGRPzwQntWCpok/OwrBkRzFgT93MSbvzUd3P6s4ZxTM1mw/Fn5jKMfjYD/DV9cDuLRSP2iAcB/clkM/RU9OALdlMz/RXCe0TikiP71JVggHFBA/",
                        "dtype": "f8"
                      }
                    }
                  ],
                  "name": "n=620"
                },
                {
                  "data": [
                    {
                      "marker": {
                        "color": "blue"
                      },
                      "name": "이항분포 샘플",
                      "opacity": 0.7,
                      "type": "bar",
                      "x": {
                        "bdata": "zczMzMysYkBmZmZmZgZjQAAAAAAAYGNAmpmZmZm5Y0AzMzMzMxNkQM3MzMzMbGRAZmZmZmbGZEAAAAAAACBlQJqZmZmZeWVAMzMzMzPTZUDNzMzMzCxmQGZmZmZmhmZAAAAAAADgZkCamZmZmTlnQDMzMzMzk2dAzczMzMzsZ0BmZmZmZkZoQAAAAAAAoGhAmpmZmZn5aEAzMzMzM1NpQM3MzMzMrGlAZmZmZmYGakAAAAAAAGBqQJmZmZmZuWpAMzMzMzMTa0DNzMzMzGxrQGZmZmZmxmtAAAAAAAAgbECZmZmZmXlsQDMzMzMz02xA",
                        "dtype": "f8"
                      },
                      "y": {
                        "bdata": "eFRdg325Aj8YqvHSTWIwP0Opd/VrbT4/j9T+C0U8Rj8H/8gzrRBVP1jpJjEIrGw/4UkMAiuHdj+PTpncqih/PwnP91PjpYs/QkyxZiNVhz+VtXkg84OXP2mcPv6RZ5o/34P3lvQ0oT8GCO8t6WmiP3qxIxLG0Zk/1eMfeaYVoj/CWLORqmugP01VlE/QqJ0/MsteNCfulj+JIec+u4CIP0aR7Xw/NY4/+hEJ4+isgz+1Wepd/Vp7P+eTkuE3A28/8r4Z+BDSVj+WqTTk3GdXP4/U/gtFPEY/Bf8LRTwWLD+1/gtFPBYcP3hUXYN9uQI/",
                        "dtype": "f8"
                      }
                    },
                    {
                      "line": {
                        "color": "red",
                        "dash": "dash"
                      },
                      "mode": "lines",
                      "name": "정규근사",
                      "type": "scatter",
                      "x": {
                        "bdata": "zczMzMysYkBmZmZmZgZjQAAAAAAAYGNAmpmZmZm5Y0AzMzMzMxNkQM3MzMzMbGRAZmZmZmbGZEAAAAAAACBlQJqZmZmZeWVAMzMzMzPTZUDNzMzMzCxmQGZmZmZmhmZAAAAAAADgZkCamZmZmTlnQDMzMzMzk2dAzczMzMzsZ0BmZmZmZkZoQAAAAAAAoGhAmpmZmZn5aEAzMzMzM1NpQM3MzMzMrGlAZmZmZmYGakAAAAAAAGBqQJmZmZmZuWpAMzMzMzMTa0DNzMzMzGxrQGZmZmZmxmtAAAAAAAAgbECZmZmZmXlsQDMzMzMz02xA",
                        "dtype": "f8"
                      },
                      "y": {
                        "bdata": "HvKrhGlBGD9sGIemZDgrP0sagkoxyjw/wzveG6WyTD+yrFWW0PVaP+P1RHLZ3mc/JNLyvjjrcz8310FBelR/PwLalIC1OIc/yLTRmaU4kD8+lJNpz1uVP7bj9CVAgZo/sena0aX/nj/xMcC7iRWhP/IVE/xcv6E/z7+dvzdgoT9ytgMdfAigP0SA5CDN4ps/4f0CwfHalj+oQ1TAgKeRPxBfQTFbtIk/0iWfhtaigT/PlnND3852P2aqZe+3zGs/pzImKCHvXz9BTx/sTklRP+/RgF1Mo0E/jIETJgn2MD+opPwVW74eP/Lws056Qgo/",
                        "dtype": "f8"
                      }
                    }
                  ],
                  "name": "n=630"
                },
                {
                  "data": [
                    {
                      "marker": {
                        "color": "blue"
                      },
                      "name": "이항분포 샘플",
                      "opacity": 0.7,
                      "type": "bar",
                      "x": {
                        "bdata": "RERERER0YkDNzMzMzNxiQFZVVVVVRWNA3t3d3d2tY0BmZmZmZhZkQO/u7u7ufmRAeHd3d3fnZEAAAAAAAFBlQIiIiIiIuGVAEREREREhZkCamZmZmYlmQCIiIiIi8mZAqqqqqqpaZ0A0MzMzM8NnQLy7u7u7K2hARERERESUaEDMzMzMzPxoQFZVVVVVZWlA3t3d3d3NaUBmZmZmZjZqQO7u7u7unmpAeHd3d3cHa0AAAAAAAHBrQIiIiIiI2GtAEhERERFBbECamZmZmalsQCIiIiIiEm1Aqqqqqqp6bUA0MzMzM+NtQLy7u7u7S25A",
                        "dtype": "f8"
                      },
                      "y": {
                        "bdata": "Hba9ubQMAD9Ftr25tAwQP7X+C0U8Fiw/Dm31UEsOQj9DSJGcFg9TP9CacjJNzWA/PePAvdTWbD/DtUPc0hd+P46K1+cJ/4I/4zWiUwuVij8CvqznnXaSP2jv6tfaPKA/iEm7m/pkoD+1bzyCpCCfP/mLAeftVKA/ua6mnExToz/wR9StpRSaP4ECikLoF5Q/5XtmnKqGkj/I+poU/62BP49sOGLaE3k/dvGB5zHucT8U9q8G4FBlP/U1X0J8j1M/8EfUraUUOj+f2mR/eBE2P0W2vbm0DDA/AAAAAAAAAAAAAAAAAAAAAEW2vbm0DAA/",
                        "dtype": "f8"
                      }
                    },
                    {
                      "line": {
                        "color": "red",
                        "dash": "dash"
                      },
                      "mode": "lines",
                      "name": "정규근사",
                      "type": "scatter",
                      "x": {
                        "bdata": "RERERER0YkDNzMzMzNxiQFZVVVVVRWNA3t3d3d2tY0BmZmZmZhZkQO/u7u7ufmRAeHd3d3fnZEAAAAAAAFBlQIiIiIiIuGVAEREREREhZkCamZmZmYlmQCIiIiIi8mZAqqqqqqpaZ0A0MzMzM8NnQLy7u7u7K2hARERERESUaEDMzMzMzPxoQFZVVVVVZWlA3t3d3d3NaUBmZmZmZjZqQO7u7u7unmpAeHd3d3cHa0AAAAAAAHBrQIiIiIiI2GtAEhERERFBbECamZmZmalsQCIiIiIiEm1Aqqqqqqp6bUA0MzMzM+NtQLy7u7u7S25A",
                        "dtype": "f8"
                      },
                      "y": {
                        "bdata": "cwX5WtPS9z7aJNMG8NMQP1BBdeNY9SU/x3pVpE93Oj+wnk1623ZNP+OB1y1nTF4/d18eFzTHbD9dC5YRbT95P9w1J4ezdYQ/EtSACemgjj/DTdEfAi2VP8t7zGbAC5s/x7s/8xfonz9my3bISGKhPzYOxPA4f6E/B8QrYzxEoD8d8izMzu+bP1k3r1SgKJY/W+09QPM7kD9gitacw/iFP74tWLehd3s/xWCdBm+3bz/ehhL98+lgP7XhdoyuqVA/R7yFujZTPj+KHqF5B30pPwJp1ly4yRM/Pxc48zNh/D4R5OHVLsziPqL+Nl05AMc+",
                        "dtype": "f8"
                      }
                    }
                  ],
                  "name": "n=640"
                },
                {
                  "data": [
                    {
                      "marker": {
                        "color": "blue"
                      },
                      "name": "이항분포 샘플",
                      "opacity": 0.7,
                      "type": "bar",
                      "x": {
                        "bdata": "iIiIiIgQY0CamZmZmXFjQKqqqqqq0mNAvLu7u7szZEDMzMzMzJRkQN7d3d3d9WRA7+7u7u5WZUAAAAAAALhlQBERERERGWZAIiIiIiJ6ZkA0MzMzM9tmQEREREREPGdAVlVVVVWdZ0BmZmZmZv5nQHh3d3d3X2hAiIiIiIjAaECamZmZmSFpQKqqqqqqgmlAvLu7u7vjaUDMzMzMzERqQN7d3d3dpWpA7+7u7u4Ga0AAAAAAAGhrQBERERERyWtAIiIiIiIqbEAzMzMzM4tsQERERERE7GxAVVVVVVVNbUBmZmZmZq5tQHh3d3d3D25A",
                        "dtype": "f8"
                      },
                      "y": {
                        "bdata": "gCbOSPOaJT+a66SgwkgRP5rrpKDCSDE/2f4LRTwWTD8Nibn02nFTP/cSqrUI02E/0M0x1XGicj+Q4Zh56299PxW1h64b7oQ/OUHBW51Qjj8dFC0j69CTP1bWg8ITjpk/4gRYVxkGnz/tP5gdc8ugPx2uuC5cAKA/3TRsSHJ2nz8F6yrD4FOfP7jNdOYAqJk/rax40ggIlT9ClIuaI06QP+TS+nlslIM/TtW9Q6KKgD9NyWgwd7BxPyz1Nuq3LGM//dfDHmeGVD+1nJp2NjRAP8frpKDCSDE/bOukoMJIIT+AJs5I85olP2Zh9/Aj7Rk/",
                        "dtype": "f8"
                      }
                    },
                    {
                      "line": {
                        "color": "red",
                        "dash": "dash"
                      },
                      "mode": "lines",
                      "name": "정규근사",
                      "type": "scatter",
                      "x": {
                        "bdata": "iIiIiIgQY0CamZmZmXFjQKqqqqqq0mNAvLu7u7szZEDMzMzMzJRkQN7d3d3d9WRA7+7u7u5WZUAAAAAAALhlQBERERERGWZAIiIiIiJ6ZkA0MzMzM9tmQEREREREPGdAVlVVVVWdZ0BmZmZmZv5nQHh3d3d3X2hAiIiIiIjAaECamZmZmSFpQKqqqqqqgmlAvLu7u7vjaUDMzMzMzERqQN7d3d3dpWpA7+7u7u4Ga0AAAAAAAGhrQBERERERyWtAIiIiIiIqbEAzMzMzM4tsQERERERE7GxAVVVVVVVNbUBmZmZmZq5tQHh3d3d3D25A",
                        "dtype": "f8"
                      },
                      "y": {
                        "bdata": "wpFdcLkVCD8F7z8/qe0dP895m2T4YTE/OozuEzjgQj/3N2ThQClTP4qQnHDOLmI/NaxdJjYhcD8zlNXBYcB6P3+dhCblvIQ/eFj+c2oOjj8HqMkJdVyUP7s8ps7VyZk/xn+9WH+Inj8hGyC/r+WgP8Nq58See6E/Bf4rVOTooD8On80FFpSePwK9qrGF2Jk/XouPpexrlD9AfQ5t9yqOP0Kzre+K1IQ/Syx/9fvjej/r1vTpwDlwP8eHtC7xTWI/S2kSO7lNUz9ZK+fnwAdDP/KEtq+ziTE/MDh/5Ms3Hj+1BA13/1UIPwmKXk5AUvI+",
                        "dtype": "f8"
                      }
                    }
                  ],
                  "name": "n=650"
                },
                {
                  "data": [
                    {
                      "marker": {
                        "color": "blue"
                      },
                      "name": "이항분포 샘플",
                      "opacity": 0.7,
                      "type": "bar",
                      "x": {
                        "bdata": "iIiIiIgQY0CamZmZmXFjQKqqqqqq0mNAvLu7u7szZEDMzMzMzJRkQN7d3d3d9WRA7+7u7u5WZUAAAAAAALhlQBERERERGWZAIiIiIiJ6ZkA0MzMzM9tmQEREREREPGdAVlVVVVWdZ0BmZmZmZv5nQHh3d3d3X2hAiIiIiIjAaECamZmZmSFpQKqqqqqqgmlAvLu7u7vjaUDMzMzMzERqQN7d3d3dpWpA7+7u7u4Ga0AAAAAAAGhrQBERERERyWtAIiIiIiIqbEAzMzMzM4tsQERERERE7GxAVVVVVVVNbUBmZmZmZq5tQHh3d3d3D25A",
                        "dtype": "f8"
                      },
                      "y": {
                        "bdata": "muukoMJIET+a66SgwkghP5rrpKDCSCE/muukoMJIMT8F6yrD4FNPP/cSqrUI01E/2Yi59NpxYz+esL4JIfxzP5i5k2Sl5Xw/3U3TXTklhj9h93/WCy6OP1xA+9wrTZU/6z67gNhUmj8AAI+yHhSePxEma4k6GaE/nruQr2nYoD9zHVytJzOhPxzgFQwJcps/azHj/8p8mT8sn6BR+y+UPxX1eftGMoo/zAOS2KcChj/tjcWqZGl7Pwv6/46yHnQ/GFgilp8DYT9ZnN2HxTlXPzLE4pwLxEc/tcPinAvENz+AJs5I85olP2Zh9/Aj7Rk/",
                        "dtype": "f8"
                      }
                    },
                    {
                      "line": {
                        "color": "red",
                        "dash": "dash"
                      },
                      "mode": "lines",
                      "name": "정규근사",
                      "type": "scatter",
                      "x": {
                        "bdata": "iIiIiIgQY0CamZmZmXFjQKqqqqqq0mNAvLu7u7szZEDMzMzMzJRkQN7d3d3d9WRA7+7u7u5WZUAAAAAAALhlQBERERERGWZAIiIiIiJ6ZkA0MzMzM9tmQEREREREPGdAVlVVVVWdZ0BmZmZmZv5nQHh3d3d3X2hAiIiIiIjAaECamZmZmSFpQKqqqqqqgmlAvLu7u7vjaUDMzMzMzERqQN7d3d3dpWpA7+7u7u4Ga0AAAAAAAGhrQBERERERyWtAIiIiIiIqbEAzMzMzM4tsQERERERE7GxAVVVVVVVNbUBmZmZmZq5tQHh3d3d3D25A",
                        "dtype": "f8"
                      },
                      "y": {
                        "bdata": "nz2C+OJk9D7ylJD07bAKP5j5VIgpWCA/fSrwjzm7Mj93y2o1jBZEP91tOmfLKFQ/98H5GXPuYj9oavwg7KJwPyprTad1XHs/m9dp9f4NhT85MsXGfVKOPw7Po06dbpQ/7+Jkn1fEmT+bdO93WmiePxGQPHQkyqA/llpxqpVZoT8dH3sKAsegP2W9OAgBXZ4/nhB07+u1mT990ECZX1+UP7sn3YA6No4/KtlbdXT2hD8CjRQZyDh7PzWAVpwjinA/ynZH1bvOYj8On15bSANUP3T5QApy7UM/S39U/m2RMj+S8YYZqzAgP3cKvJB/awo/",
                        "dtype": "f8"
                      }
                    }
                  ],
                  "name": "n=660"
                },
                {
                  "data": [
                    {
                      "marker": {
                        "color": "blue"
                      },
                      "name": "이항분포 샘플",
                      "opacity": 0.7,
                      "type": "bar",
                      "x": {
                        "bdata": "vLu7u7vTY0AzMzMzMztkQKqqqqqqomRAIiIiIiIKZUCamZmZmXFlQBERERER2WVAiIiIiIhAZkAAAAAAAKhmQHh3d3d3D2dA7+7u7u52Z0BmZmZmZt5nQN7d3d3dRWhAVlVVVVWtaEDMzMzMzBRpQEREREREfGlAvLu7u7vjaUA0MzMzM0tqQKqqqqqqsmpAIiIiIiIaa0CamZmZmYFrQBIRERER6WtAiIiIiIhQbEAAAAAAALhsQHh3d3d3H21A7u7u7u6GbUBmZmZmZu5tQN7d3d3dVW5AVlVVVVW9bkDMzMzMzCRvQEREREREjG9A",
                        "dtype": "f8"
                      },
                      "y": {
                        "bdata": "CyQie5hSGD8AAAAAAAAAAGL8ZIV6WTo/Vt+9a0VIRT+9HV+T7HdgP+PZsv1Q1Gg/NAd7YWNBcz9ckB89ZQl/P/CrxEHZJpA/VzSxoyOIkD+jzlKGXl+XPyuQsV63L5w/Fy+mNS8UpD9FdFTgi6ufPzlupKQS8Z4/aHlfToAfnD8E2nsOemeXPwskInuYUpg/aAdXHr/0iD+K+xrqcMyBP9ZcuDRLDnc/WAGUNhMacT+aQMmUzWNdP7PCFlIQN1A/CyQie5hSOD/QIyJ7mFIoP4rCFlIQNxA/AAAAAAAAAAAAAAAAAAAAAIrCFlIQNwA/",
                        "dtype": "f8"
                      }
                    },
                    {
                      "line": {
                        "color": "red",
                        "dash": "dash"
                      },
                      "mode": "lines",
                      "name": "정규근사",
                      "type": "scatter",
                      "x": {
                        "bdata": "vLu7u7vTY0AzMzMzMztkQKqqqqqqomRAIiIiIiIKZUCamZmZmXFlQBERERER2WVAiIiIiIhAZkAAAAAAAKhmQHh3d3d3D2dA7+7u7u52Z0BmZmZmZt5nQN7d3d3dRWhAVlVVVVWtaEDMzMzMzBRpQEREREREfGlAvLu7u7vjaUA0MzMzM0tqQKqqqqqqsmpAIiIiIiIaa0CamZmZmYFrQBIRERER6WtAiIiIiIhQbEAAAAAAALhsQHh3d3d3H21A7u7u7u6GbUBmZmZmZu5tQN7d3d3dVW5AVlVVVVW9bkDMzMzMzCRvQEREREREjG9A",
                        "dtype": "f8"
                      },
                      "y": {
                        "bdata": "e3v/iW/IDT+ARJn8KgAjP0G0yOb0gTY/JbS2467ASD+3VRbctEVZP+3+zKuA9Gc/uFcxmZ0UdT9QnHjZ9DiBP8Cuqu44IIo/q3Dvmp9lkj9bc96uwA2YPwXm0KWdMp0/VCYQ4q9zoD/M+/hPZjahP6T9zi78t6A/7s9suwAnnj/QbuZ6ND6ZP/XDj0CgnpM/L3+wtWNQjD82Gv3ktfeCP8K8qSzUl3c/JDWbb7k+az87uq77jzVdP82GJfuUEk0/bvT0CkzdOj8pIzL83gsnP6BcyurqWhI/fbDq0dwk+z5I3gM6IaLiPo1Q/yENwMc+",
                        "dtype": "f8"
                      }
                    }
                  ],
                  "name": "n=670"
                },
                {
                  "data": [
                    {
                      "marker": {
                        "color": "blue"
                      },
                      "name": "이항분포 샘플",
                      "opacity": 0.7,
                      "type": "bar",
                      "x": {
                        "bdata": "IiIiIiIyZEBmZmZmZpZkQKuqqqqq+mRA7+7u7u5eZUAzMzMzM8NlQHh3d3d3J2ZAvLu7u7uLZkAAAAAAAPBmQEREREREVGdAiIiIiIi4Z0DNzMzMzBxoQBERERERgWhAVlVVVVXlaECamZmZmUlpQN7d3d3drWlAIiIiIiISakBmZmZmZnZqQKqqqqqq2mpA7+7u7u4+a0AzMzMzM6NrQHh3d3d3B2xAvLu7u7trbEAAAAAAANBsQERERERENG1AiIiIiIiYbUDMzMzMzPxtQBERERERYW5AVlVVVVXFbkCamZmZmSlvQN7d3d3djW9A",
                        "dtype": "f8"
                      },
                      "y": {
                        "bdata": "yeOSF1EZGT+J45IXURkpP8njkhdRGSk/UIeg9Cb2RT/BCdbwM0hdPz+LuxCAp2Q/P9Mmp+xTbj+RIniZSnCFP5Z2IE0SNIc/GYun2c+qkD8y8ONrXC2VP1yDmQ9+QZs/pfjLLceHnD9yj4cDVVugP/fvCieAMaA/7QBkE3Hvoz8S/eZJIDmbPxgz+EBfMpQ/4vQ6LcbUjz/bZaCl/XGIPy0NtWd8A4A/8VQMxzizdT9dauMvtxxvP39u/ksQzl0/yeOSF1EZST8Yh6D0JvZFP9O9Tz5u6iQ/sZcMZYu7ED/clwxli7sAP9yXDGWLuwA/",
                        "dtype": "f8"
                      }
                    },
                    {
                      "line": {
                        "color": "red",
                        "dash": "dash"
                      },
                      "mode": "lines",
                      "name": "정규근사",
                      "type": "scatter",
                      "x": {
                        "bdata": "IiIiIiIyZEBmZmZmZpZkQKuqqqqq+mRA7+7u7u5eZUAzMzMzM8NlQHh3d3d3J2ZAvLu7u7uLZkAAAAAAAPBmQEREREREVGdAiIiIiIi4Z0DNzMzMzBxoQBERERERgWhAVlVVVVXlaECamZmZmUlpQN7d3d3drWlAIiIiIiISakBmZmZmZnZqQKqqqqqq2mpA7+7u7u4+a0AzMzMzM6NrQHh3d3d3B2xAvLu7u7trbEAAAAAAANBsQERERERENG1AiIiIiIiYbUDMzMzMzPxtQBERERERYW5AVlVVVVXFbkCamZmZmSlvQN7d3d3djW9A",
                        "dtype": "f8"
                      },
                      "y": {
                        "bdata": "U9Mka4f+Dz8eX/tJxpsjP/pTvIotcDY/doAc3GP4Rz9rkOLL1OdXPxozjEbNQWY/rh8lIGlYcz9XDFMREGV/P5aT5UI1yIc/modPi37RkD86qYyX9zSWP9vF5UauX5s/ddGv5jaAnz9ZHrKHuuugP2uLfI9r+KA/p8NU6E3Hnz+0QHVs8cabPy3v6XWXqpY/NeTUrl1EkT/GaOX2Uo+IPyUDHdBPToA/3y/hJJU2dD+PrBOYWWRnP+1bNg6lRVk/zHrDGzh9ST9IB6Dp//83P6f9+8yuGCU/ljIPLeBPET8w+Fd4cIb6Piay0B11+OI+",
                        "dtype": "f8"
                      }
                    }
                  ],
                  "name": "n=680"
                },
                {
                  "data": [
                    {
                      "marker": {
                        "color": "blue"
                      },
                      "name": "이항분포 샘플",
                      "opacity": 0.7,
                      "type": "bar",
                      "x": {
                        "bdata": "AAAAAADQZEAAAAAAADBlQAAAAAAAkGVAAAAAAADwZUAAAAAAAFBmQAAAAAAAsGZAAAAAAAAQZ0AAAAAAAHBnQAAAAAAA0GdAAAAAAAAwaEAAAAAAAJBoQAAAAAAA8GhAAAAAAABQaUAAAAAAALBpQAAAAAAAEGpAAAAAAABwakAAAAAAANBqQAAAAAAAMGtAAAAAAACQa0AAAAAAAPBrQAAAAAAAUGxAAAAAAACwbEAAAAAAABBtQAAAAAAAcG1AAAAAAADQbUAAAAAAADBuQAAAAAAAkG5AAAAAAADwbkAAAAAAAFBvQAAAAAAAsG9A",
                        "dtype": "f8"
                      },
                      "y": {
                        "bdata": "HYK9nOx5ET8dgr2c7HkxP+mShFelBzg/DZbXNx3uUD9PG+i0gU5bP4LfmePv8Ww/7Q2+MJkqeD+kupNiWq6BP/75o5Votog/ZRniWBe3kT+RD3o2qz6XP7N78rBQa5o/wRT4nTn+nj8Roo8MTIGfPxWMSuoENKE/zvQlLtr2oD/SbDFSAnWdP0IWj3if0Jg/41tFbJ2lkT+ze/KwUGuKPyrzaSjI4oE/C2tQIUQfeT/3Lrj5WT9wP5LLf0i/fV0/UEZvy1odUz+l4uzDZ9hFP3Dzs34gZjw/HYK9nOx5AT8dgr2c7HkhPx2CvZzseQE/",
                        "dtype": "f8"
                      }
                    },
                    {
                      "line": {
                        "color": "red",
                        "dash": "dash"
                      },
                      "mode": "lines",
                      "name": "정규근사",
                      "type": "scatter",
                      "x": {
                        "bdata": "AAAAAADQZEAAAAAAADBlQAAAAAAAkGVAAAAAAADwZUAAAAAAAFBmQAAAAAAAsGZAAAAAAAAQZ0AAAAAAAHBnQAAAAAAA0GdAAAAAAAAwaEAAAAAAAJBoQAAAAAAA8GhAAAAAAABQaUAAAAAAALBpQAAAAAAAEGpAAAAAAABwakAAAAAAANBqQAAAAAAAMGtAAAAAAACQa0AAAAAAAPBrQAAAAAAAUGxAAAAAAACwbEAAAAAAABBtQAAAAAAAcG1AAAAAAADQbUAAAAAAADBuQAAAAAAAkG5AAAAAAADwbkAAAAAAAFBvQAAAAAAAsG9A",
                        "dtype": "f8"
                      },
                      "y": {
                        "bdata": "bG5gCflBHj8sNG+5/PUwP7nB2ySi3kE/jsyfQX2xUT9sDLfvtHZgP6XPVv49y2w/IOkZR7ipdz8fMduidUaCP8eLbyNIh4o/xLfmc0oYkj9IUTkWwDKXP2y8Yp4p85s/6eDIpJGlnz8hR7ovXdagPyFHui9d1qA/6eDIpJGlnz9svGKeKfObP0hRORbAMpc/xLfmc0oYkj/Hi28jSIeKPx8x26J1RoI/IOkZR7ipdz+lz1b+PctsP2wMt++0dmA/jsyfQX2xUT+5wdskot5BPyw0b7n89TA/bG5gCflBHj+SIsh2Ml0JPxAvIZY++/M+",
                        "dtype": "f8"
                      }
                    }
                  ],
                  "name": "n=690"
                },
                {
                  "data": [
                    {
                      "marker": {
                        "color": "blue"
                      },
                      "name": "이항분포 샘플",
                      "opacity": 0.7,
                      "type": "bar",
                      "x": {
                        "bdata": "IiIiIiJSZEBmZmZmZrZkQKuqqqqqGmVA7+7u7u5+ZUAzMzMzM+NlQHh3d3d3R2ZAvLu7u7urZkAAAAAAABBnQEREREREdGdAiIiIiIjYZ0DNzMzMzDxoQBERERERoWhAVlVVVVUFaUCamZmZmWlpQN7d3d3dzWlAIiIiIiIyakBmZmZmZpZqQKqqqqqq+mpA7+7u7u5ea0AzMzMzM8NrQHh3d3d3J2xAvLu7u7uLbEAAAAAAAPBsQEREREREVG1AiIiIiIi4bUDMzMzMzBxuQBERERERgW5AVlVVVVXlbkCamZmZmUlvQN7d3d3drW9A",
                        "dtype": "f8"
                      },
                      "y": {
                        "bdata": "3JcMZYu7AD8AAAAAAAAAANO9Tz5u6iQ/071PPm7qND/OUPGq3wE3PwWt480JJUo/vJx3XaVfXz/6LsntVYRxP5rKyADa93g//Js7uJRpgz9vBaedKpqKP4uk+wufypI/k1Dxqt8Blz+TM5aTZy2aP+L0Oi3G1J8/6JMFgOIGpj8//fqA0DWfP/s/hTp7PJw/SvBth7Qrlz+herFNE+eTP5sN8QyN+Ys/R8aZrdBJhj9vNxNduOOCP7ycd12lX28/WmFdG0THYT9bIniZSnBVP1phXRtEx0E/nb1PPm7qND/clwxli7sgP9yXDGWLuxA/",
                        "dtype": "f8"
                      }
                    },
                    {
                      "line": {
                        "color": "red",
                        "dash": "dash"
                      },
                      "mode": "lines",
                      "name": "정규근사",
                      "type": "scatter",
                      "x": {
                        "bdata": "IiIiIiJSZEBmZmZmZrZkQKuqqqqqGmVA7+7u7u5+ZUAzMzMzM+NlQHh3d3d3R2ZAvLu7u7urZkAAAAAAABBnQEREREREdGdAiIiIiIjYZ0DNzMzMzDxoQBERERERoWhAVlVVVVUFaUCamZmZmWlpQN7d3d3dzWlAIiIiIiIyakBmZmZmZpZqQKqqqqqq+mpA7+7u7u5ea0AzMzMzM8NrQHh3d3d3J2xAvLu7u7uLbEAAAAAAAPBsQEREREREVG1AiIiIiIi4bUDMzMzMzBxuQBERERERgW5AVlVVVVXlbkCamZmZmUlvQN7d3d3drW9A",
                        "dtype": "f8"
                      },
                      "y": {
                        "bdata": "IQMXtAFh8D7kwAu898QFP8EwYGiLEBs/EPAplFh5Lz+8v2Y7WB5BP5LYMD4Va1E/dSFZSwmUYD+V1JFDyYRtP2p8N0gHlXg/xYnW/wkmgz+d4e+7nueLP9PbvQDUBJM/1fkROgxAmD8AxdYJPOycP99vxxMwIqA/twuY8hDWoD8/vWPNMW+gP7Oy5QDpAp4/pCVAhM6hmT+4v1p+OXqUP/q0siXhmo4/eKfztaFkhT88bLxrwPl7P1KTebgnHHE/u44cw7CTYz8AGUe4z/NUP3fOpiPK+UQ/rEASZnekMz8nC4l2njQhP3vJ7jrQMQw/",
                        "dtype": "f8"
                      }
                    }
                  ],
                  "name": "n=700"
                },
                {
                  "data": [
                    {
                      "marker": {
                        "color": "blue"
                      },
                      "name": "이항분포 샘플",
                      "opacity": 0.7,
                      "type": "bar",
                      "x": {
                        "bdata": "7+7u7u6uZUDNzMzMzAxmQKuqqqqqamZAiIiIiIjIZkBmZmZmZiZnQEREREREhGdAIiIiIiLiZ0AAAAAAAEBoQN7d3d3dnWhAvLu7u7v7aECamZmZmVlpQHd3d3d3t2lAVVVVVVUVakAzMzMzM3NqQBERERER0WpA7+7u7u4ua0DNzMzMzIxrQKuqqqqq6mtAiIiIiIhIbEBmZmZmZqZsQEREREREBG1AIiIiIiJibUAAAAAAAMBtQN7d3d3dHW5Au7u7u7t7bkCZmZmZmdluQHd3d3d3N29AVVVVVVWVb0AzMzMzM/NvQIiIiIiIKHBA",
                        "dtype": "f8"
                      },
                      "y": {
                        "bdata": "kudcE2jPKj+S51wTaM8qP/F+arx0k0g/OeL+uYc5VT8nfLuPhMhlP1qEZ6zeLHE/CMHt3airej/C+mN5DGOEPz/xEHt1F44/zvyOACM8kz9MIldUpXiYP5AliiZvNZ8/Qua1MSvonz/oAOUOUO6gPyvSybw2ZpU/2zSc51wToD8CCnY6+kCdPxLOc64JtJc/7q+wlaT0kj+V3AHKHaCMP31nrN4sUYQ/4xvWvmHtez/kqtbhnVBxP6XG6s0SRWM/rq2FDo4bVD+gSvEQe3VHP66thQ6OG0Q/vBAaDKHBQD+S51wTaM8aPw1Fk7ea3xE/",
                        "dtype": "f8"
                      }
                    },
                    {
                      "line": {
                        "color": "red",
                        "dash": "dash"
                      },
                      "mode": "lines",
                      "name": "정규근사",
                      "type": "scatter",
                      "x": {
                        "bdata": "7+7u7u6uZUDNzMzMzAxmQKuqqqqqamZAiIiIiIjIZkBmZmZmZiZnQEREREREhGdAIiIiIiLiZ0AAAAAAAEBoQN7d3d3dnWhAvLu7u7v7aECamZmZmVlpQHd3d3d3t2lAVVVVVVUVakAzMzMzM3NqQBERERER0WpA7+7u7u4ua0DNzMzMzIxrQKuqqqqq6mtAiIiIiIhIbEBmZmZmZqZsQEREREREBG1AIiIiIiJibUAAAAAAAMBtQN7d3d3dHW5Au7u7u7t7bkCZmZmZmdluQHd3d3d3N29AVVVVVVWVb0AzMzMzM/NvQIiIiIiIKHBA",
                        "dtype": "f8"
                      },
                      "y": {
                        "bdata": "Kmhz5GWsJj/NJwZeQPk3P2bh2I9O7Uc/y3rJ3pKKVj+DSmgXiQtkP6CIRYZg03A/NUcm8aypej8U/B154fCDPyax+3aiJ4w/FRHZj/DCkj/8TIFvHJqXP8bhwf7CBpw/8B32H/1pnz+GeBgkSZ6gP4YIk6W1mKA/QhfKcGhKnz8cf/lQ3debP7STpmrkYpc/wLj4DZSKkj/QR5D4ZMCLP5So0vyTmoM/2dXeyLMkej+OQcM7ZnRwP1uvHwg9jWM/kogJsM3tVT8Qruj4STdHP5hL7ExHMzc/zMqwYnLiJT/yBzG4X3wTPzKtStiKYAA/",
                        "dtype": "f8"
                      }
                    }
                  ],
                  "name": "n=710"
                },
                {
                  "data": [
                    {
                      "marker": {
                        "color": "blue"
                      },
                      "name": "이항분포 샘플",
                      "opacity": 0.7,
                      "type": "bar",
                      "x": {
                        "bdata": "AAAAAACQZUAAAAAAAPBlQAAAAAAAUGZAAAAAAACwZkAAAAAAABBnQAAAAAAAcGdAAAAAAADQZ0AAAAAAADBoQAAAAAAAkGhAAAAAAADwaEAAAAAAAFBpQAAAAAAAsGlAAAAAAAAQakAAAAAAAHBqQAAAAAAA0GpAAAAAAAAwa0AAAAAAAJBrQAAAAAAA8GtAAAAAAABQbEAAAAAAALBsQAAAAAAAEG1AAAAAAABwbUAAAAAAANBtQAAAAAAAMG5AAAAAAACQbkAAAAAAAPBuQAAAAAAAUG9AAAAAAACwb0AAAAAAAAhwQAAAAAAAOHBA",
                        "dtype": "f8"
                      },
                      "y": {
                        "bdata": "LUMc6+I2Gj8tQxzr4jYaP6Xi7MNn2CU/QFqJZouRQj+U9gZfmExVPzdkFrSjS2I/G1c2hhOraT/cIdjLyZ53PyL99nXgnIE/X990uEOwhz/O9CUu2vaQP7pJDAIrh5Y/0ETY8PRKmT873CHYy8meP3o2qz5XW6E/P8bctYR8oD8FMeOAcBifP0s0W4yUQJ0/rthfdk8elj/gdLhDsJeTP+Y/pN++Dow/f4/nINWdhD9jggfzRP17PxoHhMP4VnE/8oj3CY1NaD89LwJQssJaP3Dzs34gZjw/taNLEl6VPj9hMlUwKqkzPx2CvZzseRE/",
                        "dtype": "f8"
                      }
                    },
                    {
                      "line": {
                        "color": "red",
                        "dash": "dash"
                      },
                      "mode": "lines",
                      "name": "정규근사",
                      "type": "scatter",
                      "x": {
                        "bdata": "AAAAAACQZUAAAAAAAPBlQAAAAAAAUGZAAAAAAACwZkAAAAAAABBnQAAAAAAAcGdAAAAAAADQZ0AAAAAAADBoQAAAAAAAkGhAAAAAAADwaEAAAAAAAFBpQAAAAAAAsGlAAAAAAAAQakAAAAAAAHBqQAAAAAAA0GpAAAAAAAAwa0AAAAAAAJBrQAAAAAAA8GtAAAAAAABQbEAAAAAAALBsQAAAAAAAEG1AAAAAAABwbUAAAAAAANBtQAAAAAAAMG5AAAAAAACQbkAAAAAAAPBuQAAAAAAAUG9AAAAAAACwb0AAAAAAAAhwQAAAAAAAOHBA",
                        "dtype": "f8"
                      },
                      "y": {
                        "bdata": "z0FtzvpLED+m8VP3z78iP4I2qAsFUzQ/5j7QsizCRD9hKVTQDfpTP5yXha4SHWI/imSoMjjzbj8x5d+46el4PxK2rGBR5YI/AIy6OLABiz+8SsaXJy+SP587u5qZEpc/eSvzoWOVmz8F8bZ4HRKfP6wAZH/5fKA/rABkf/l8oD8F8bZ4HRKfP3kr86FjlZs/nzu7mpkSlz+8SsaXJy+SPwCMujiwAYs/ErasYFHlgj8x5d+46el4P4pkqDI4824/nJeFrhIdYj9hKVTQDfpTP+Y+0LIswkQ/gjaoCwVTND+m8VP3z78iP89Bbc76SxA/",
                        "dtype": "f8"
                      }
                    }
                  ],
                  "name": "n=720"
                },
                {
                  "data": [
                    {
                      "marker": {
                        "color": "blue"
                      },
                      "name": "이항분포 샘플",
                      "opacity": 0.7,
                      "type": "bar",
                      "x": {
                        "bdata": "ERERERERZkAzMzMzM3NmQFVVVVVV1WZAeHd3d3c3Z0CamZmZmZlnQLy7u7u7+2dA3t3d3d1daEAAAAAAAMBoQCIiIiIiImlARERERESEaUBmZmZmZuZpQImIiIiISGpAq6qqqqqqakDNzMzMzAxrQO/u7u7ubmtAERERERHRa0AzMzMzMzNsQFVVVVVVlWxAeHd3d3f3bECamZmZmVltQLy7u7u7u21A3t3d3d0dbkAAAAAAAIBuQCIiIiIi4m5ARUREREREb0BnZmZmZqZvQEREREREBHBAVlVVVVU1cEBmZmZmZmZwQHh3d3d3l3BA",
                        "dtype": "f8"
                      },
                      "y": {
                        "bdata": "khVKQKoYIT+SFUpAqhgxP8GlgfAp6z0/yUaGlLT8Tj9WLmhqrwpYP1wgb2D/pGk/GcTSM44Zcz+YigSXIJZ+Py0T6xCmtYg/2GjFlWrJjj/T8pWEndWTP/5LUV04JZo/ZwR9TJ/ZnD/U0BVxfhygP/U/dnAjNqA/SNFWg+cIpD9+CNNazIuaP1thgcnreJY/KKKTMthMkz/Q/bqk8mGMP8YU1YVTooM/WadrZdfXeD8cwImP3MlvP2gHUTb6smI/An9qvHSTWD+e+VcsSk1EP6ndZRjqgTc/khVKQKoYIT+SFUpAqhgRP5IVSkCqGBE/",
                        "dtype": "f8"
                      }
                    },
                    {
                      "line": {
                        "color": "red",
                        "dash": "dash"
                      },
                      "mode": "lines",
                      "name": "정규근사",
                      "type": "scatter",
                      "x": {
                        "bdata": "ERERERERZkAzMzMzM3NmQFVVVVVV1WZAeHd3d3c3Z0CamZmZmZlnQLy7u7u7+2dA3t3d3d1daEAAAAAAAMBoQCIiIiIiImlARERERESEaUBmZmZmZuZpQImIiIiISGpAq6qqqqqqakDNzMzMzAxrQO/u7u7ubmtAERERERHRa0AzMzMzMzNsQFVVVVVVlWxAeHd3d3f3bECamZmZmVltQLy7u7u7u21A3t3d3d0dbkAAAAAAAIBuQCIiIiIi4m5ARUREREREb0BnZmZmZqZvQEREREREBHBAVlVVVVU1cEBmZmZmZmZwQHh3d3d3l3BA",
                        "dtype": "f8"
                      },
                      "y": {
                        "bdata": "WKT6qjKPFz80qFHYArcqP6FAxXqTfTw/IXIhJIWTTD99WpwT7fRaPy/J4Zx56mc/uFK+YqD0cz/RBljIDFJ/P9gEAsLOHYc/6cKOhM8LkD/U6LVhffOUP2Kv46FOupk/PBgp3qi2nT/CUcaBLCOgPz5gZZ1FfKA/iLXFzoOtnz+lIuCU2p+cP16glAyJU5g/zKflU4Vxkz9y5x+2XzuNP+7UfzGnqoQ/lq3sjrh7ez+Je2k20y9xP2ivs/x3N2Q/utpHFptdVj/AB3cOUUVHP056gvGUxTY/dJChjCX1JD97w6aL5yMSP+DF2anhiP0+",
                        "dtype": "f8"
                      }
                    }
                  ],
                  "name": "n=730"
                },
                {
                  "data": [
                    {
                      "marker": {
                        "color": "blue"
                      },
                      "name": "이항분포 샘플",
                      "opacity": 0.7,
                      "type": "bar",
                      "x": {
                        "bdata": "vLu7u7sTZkAzMzMzM3tmQKqqqqqq4mZAIiIiIiJKZ0CamZmZmbFnQBERERERGWhAiIiIiIiAaEAAAAAAAOhoQHh3d3d3T2lA7+7u7u62aUBmZmZmZh5qQN7d3d3dhWpAVlVVVVXtakDMzMzMzFRrQEREREREvGtAvLu7u7sjbEA0MzMzM4tsQKqqqqqq8mxAIiIiIiJabUCamZmZmcFtQBIRERERKW5AiIiIiIiQbkAAAAAAAPhuQHh3d3d3X29A7u7u7u7Gb0AzMzMzMxdwQO/u7u7uSnBAqqqqqqp+cEBmZmZmZrJwQCIiIiIi5nBA",
                        "dtype": "f8"
                      },
                      "y": {
                        "bdata": "s8IWUhA3AD+KwhZSEDcgP19znGbURCQ/cdSnj1xgPD/LAXDzbs1WP9yaWVzyPWI/TEbUAsLXaT+7bZH439B3P7/26zjYC4s/aUBbth+Kij+Lj/nk/8iQP/MMmXuK1ZY/7K7TzuzwoT9lXcvgfS6eP6rlt0LIj54/w3PmAd7RnD87yUcYauuaP1S43DKDAp0/rR2WgsPkkT+HGDDiU7eJP1w6mM5zr4I/VLjcMoMCfT9x1KePXGBsPxT2oZ3OfmI/CZtZXPI9Uj+zLjhXgTpBP9AjInuYUig/28IWUhA3ID+KwhZSEDcAP4rCFlIQNwA/",
                        "dtype": "f8"
                      }
                    },
                    {
                      "line": {
                        "color": "red",
                        "dash": "dash"
                      },
                      "mode": "lines",
                      "name": "정규근사",
                      "type": "scatter",
                      "x": {
                        "bdata": "vLu7u7sTZkAzMzMzM3tmQKqqqqqq4mZAIiIiIiJKZ0CamZmZmbFnQBERERERGWhAiIiIiIiAaEAAAAAAAOhoQHh3d3d3T2lA7+7u7u62aUBmZmZmZh5qQN7d3d3dhWpAVlVVVVXtakDMzMzMzFRrQEREREREvGtAvLu7u7sjbEA0MzMzM4tsQKqqqqqq8mxAIiIiIiJabUCamZmZmcFtQBIRERERKW5AiIiIiIiQbkAAAAAAAPhuQHh3d3d3X29A7u7u7u7Gb0AzMzMzMxdwQO/u7u7uSnBAqqqqqqp+cEBmZmZmZrJwQCIiIiIi5nBA",
                        "dtype": "f8"
                      },
                      "y": {
                        "bdata": "tL10Pv83Bj/xKap14J0bP1x8L3/gCzA/gsF4NxhvQT+9/jdOi7VRPwDdNLx90WA/PE6zdcLdbT/67/PgC8t4Py3TGxQhPoM/1lqrgyDtiz8/veIdIfKSP7nrkcC2CJg/fvfUIVGBnD8eVKeVwZufP2Y4Dkx0YqA/Xm1I0SLDnz/Sr8RQhMicP1KZ9TH7Ypg/9n1pjTxRkz/Q6klRypyMP0x1UMK7z4M/0oO8inOmeT9AZCzXjQxvP8vJsMzIkWE/rxICRRKXUj9vZ+MF62NCPyTteZ1NAjE/STUY1XVqHT8ev6gpCsgHP5O6O16u+fE+",
                        "dtype": "f8"
                      }
                    }
                  ],
                  "name": "n=740"
                },
                {
                  "data": [
                    {
                      "marker": {
                        "color": "blue"
                      },
                      "name": "이항분포 샘플",
                      "opacity": 0.7,
                      "type": "bar",
                      "x": {
                        "bdata": "RERERERUZkDNzMzMzLxmQFZVVVVVJWdA3t3d3d2NZ0BmZmZmZvZnQO/u7u7uXmhAeHd3d3fHaEAAAAAAADBpQIiIiIiImGlAEREREREBakCamZmZmWlqQCIiIiIi0mpAqqqqqqo6a0A0MzMzM6NrQLy7u7u7C2xARERERER0bEDMzMzMzNxsQFZVVVVVRW1A3t3d3d2tbUBmZmZmZhZuQO7u7u7ufm5AeHd3d3fnbkAAAAAAAFBvQIiIiIiIuG9AiYiIiIgQcEDNzMzMzERwQBEREREReXBAVlVVVVWtcECamZmZmeFwQN7d3d3dFXFA",
                        "dtype": "f8"
                      },
                      "y": {
                        "bdata": "LZGcFg8TGD9Ftr25tAwAPx22vbm0DBA/Rba9ubQMQD+PbDhi2hNJP0gRPp/WlVs/pKznnXZSZz8QyHU2bZd9PwSmIm9xPoI/eNFLUqtRhj/nPOFf8p2RP95ltkRkBZs/TOJTrWF7mD+EPZGB9P6cP8SduWOm350/4at6jQP3oj+nBY5isiSaP1eCK8uvmpc/JAe4YZZ6lz/T9fIXb1aMP/U1X0J8j4M/cQP3UltzeD8LVtjokTF2P1YR+41HkGQ/k1rD9rCOUj9ySJGcFg9DP5/aZH94ETY/dCMt6OEPJD8AAAAAAAAAAGiRnBYPExg/",
                        "dtype": "f8"
                      }
                    },
                    {
                      "line": {
                        "color": "red",
                        "dash": "dash"
                      },
                      "mode": "lines",
                      "name": "정규근사",
                      "type": "scatter",
                      "x": {
                        "bdata": "RERERERUZkDNzMzMzLxmQFZVVVVVJWdA3t3d3d2NZ0BmZmZmZvZnQO/u7u7uXmhAeHd3d3fHaEAAAAAAADBpQIiIiIiImGlAEREREREBakCamZmZmWlqQCIiIiIi0mpAqqqqqqo6a0A0MzMzM6NrQLy7u7u7C2xARERERER0bEDMzMzMzNxsQFZVVVVVRW1A3t3d3d2tbUBmZmZmZhZuQO7u7u7ufm5AeHd3d3fnbkAAAAAAAFBvQIiIiIiIuG9AiYiIiIgQcEDNzMzMzERwQBEREREReXBAVlVVVVWtcECamZmZmeFwQN7d3d3dFXFA",
                        "dtype": "f8"
                      },
                      "y": {
                        "bdata": "DbFdfskaAj+f7iTxj+QWP/cWTjIRDSs/udjsm9/ePT873Dx0w9JOP/TsCPQHuV0/DbmqLrLIaj8U66Ui/I12PyN+4Wy4v4E/LPzuVLYaij8euNLXZPCRP6xjizFaCpc/Ct/CwWqnmz/pwgveWASfP431cxVHQaA/CfC6l7fXnz9i6L+PViWdP85m4FcK7pg/JdWF8ELtkz8lqVX5zcSNP/KP+y97x4Q/ZabcW7wbez/PS3x0NYZwP10WJj9S02I/v+gwB80KVD9fIc1jk/BDP6SRHpPMiTI/OefH2jIbID834JxrNicKP+p2iBW41/M+",
                        "dtype": "f8"
                      }
                    }
                  ],
                  "name": "n=750"
                },
                {
                  "data": [
                    {
                      "marker": {
                        "color": "blue"
                      },
                      "name": "이항분포 샘플",
                      "opacity": 0.7,
                      "type": "bar",
                      "x": {
                        "bdata": "3t3d3d11Z0CamZmZmeFnQFVVVVVVTWhAERERERG5aEDNzMzMzCRpQIiIiIiIkGlARERERET8aUAAAAAAAGhqQLy7u7u702pAeHd3d3c/a0AzMzMzM6trQO/u7u7uFmxAqqqqqqqCbEBmZmZmZu5sQCIiIiIiWm1A3t3d3d3FbUCamZmZmTFuQFZVVVVVnW5AEREREREJb0DMzMzMzHRvQIiIiIiI4G9AIiIiIiImcEAAAAAAAFxwQN7d3d3dkXBAvLu7u7vHcECamZmZmf1wQHd3d3d3M3FAVVVVVVVpcUAzMzMzM59xQBERERER1XFA",
                        "dtype": "f8"
                      },
                      "y": {
                        "bdata": "8Ff9kv+EMT8ZDGHu1ItAP+4VhC7q81M/5Vk7Qb+oXj/sDIDFtB1nPycEfFx/R3o/sHsKiwfMgj/srbx3P+aFP019uiO+r5U/PwmP0nAElT/iQT1DTJ+gP8ZA4kqjG50/imuyUVMDnD9wB985uiCiP0sCzMPIY5c/jX/7fUvllD/th24lqmmVP+VW2w9S4Yg/sQkglEdWgT8rnLSl1Dl8P+wfp27/W2c/8KOZNyp+Yj/wyeeJv/pSP+wfp27/Wzc/7YduJappNT95gImTVCUPPwAAAAAAAAAAAAAAAAAAAAAAAAAAAAAAAOR/iZNUJf8+",
                        "dtype": "f8"
                      }
                    },
                    {
                      "line": {
                        "color": "red",
                        "dash": "dash"
                      },
                      "mode": "lines",
                      "name": "정규근사",
                      "type": "scatter",
                      "x": {
                        "bdata": "3t3d3d11Z0CamZmZmeFnQFVVVVVVTWhAERERERG5aEDNzMzMzCRpQIiIiIiIkGlARERERET8aUAAAAAAAGhqQLy7u7u702pAeHd3d3c/a0AzMzMzM6trQO/u7u7uFmxAqqqqqqqCbEBmZmZmZu5sQCIiIiIiWm1A3t3d3d3FbUCamZmZmTFuQFZVVVVVnW5AEREREREJb0DMzMzMzHRvQIiIiIiI4G9AIiIiIiImcEAAAAAAAFxwQN7d3d3dkXBAvLu7u7vHcECamZmZmf1wQHd3d3d3M3FAVVVVVVVpcUAzMzMzM59xQBERERER1XFA",
                        "dtype": "f8"
                      },
                      "y": {
                        "bdata": "3BD6O6duKT8m4roy97k8PwtNZmgPOU4/Ha8OjRGeXT/+AynOzghrP4Et36Ek/HY/GX29Eswzgj9nATj3c9qKP9hFjwk0c5I/kaftP12dlz8q92tULyecP0nn7iY/Q58/Ojurw/wqoD+R0Y+nKCefP9ht6X+v9Js/Gd5OCvBdlz96ZQP8PjGSP4uNZEqqYoo/8lij8IfSgT996jDUGW12P3v+vrLdSGo/c0tvY+qxXD/1Zx6YxS1NP04Sk4n+ojs/Ard6qbBhKD8U3BT0CAkUP0O+ULyRq/4+iQRnvKLd5T69jf8MTQrNPhH6jUJc9rE+",
                        "dtype": "f8"
                      }
                    }
                  ],
                  "name": "n=760"
                },
                {
                  "data": [
                    {
                      "marker": {
                        "color": "blue"
                      },
                      "name": "이항분포 샘플",
                      "opacity": 0.7,
                      "type": "bar",
                      "x": {
                        "bdata": "qqqqqqpyZ0AAAAAAANhnQFZVVVVVPWhAqqqqqqqiaEAAAAAAAAhpQFZVVVVVbWlAqqqqqqrSaUAAAAAAADhqQFZVVVVVnWpAqqqqqqoCa0AAAAAAAGhrQFVVVVVVzWtAqqqqqqoybEAAAAAAAJhsQFVVVVVV/WxAqqqqqqpibUAAAAAAAMhtQFVVVVVVLW5AqqqqqqqSbkAAAAAAAPhuQFVVVVVVXW9AqqqqqqrCb0AAAAAAABRwQKqqqqqqRnBAVVVVVVV5cEAAAAAAAKxwQKqqqqqq3nBAVVVVVVURcUAAAAAAAERxQKqqqqqqdnFA",
                        "dtype": "f8"
                      },
                      "y": {
                        "bdata": "1rs+dhGyJD8blphedI4wP0WWmF50jjA/XZB06zICTj+Kas7Tld5ZP+Hireq+eGU/oaQQ1BG3fD8/6Z0BB8mBP+JNrdNXcog/9CjTX8ESjj+fYxIZR8qTP1DaDiVjo5c/iBU0MOw8oj8wX7cCFuGdPzSawl+iXJ0/X39QDnh1nT+JVjLrtimbP+A62keJYJY/hpFX9j/DlT9dunUZAQ+IP5cCYaQdK4A/XE92MGgVdT8afNgCVE1vP/H2SdOdLWQ/jJMGpVNIVz90GV4xGgs/P7AGi6VL+Sw/p+Hkja7VKD8AAAAAAAAAABuWmF50jgA/",
                        "dtype": "f8"
                      }
                    },
                    {
                      "line": {
                        "color": "red",
                        "dash": "dash"
                      },
                      "mode": "lines",
                      "name": "정규근사",
                      "type": "scatter",
                      "x": {
                        "bdata": "qqqqqqpyZ0AAAAAAANhnQFZVVVVVPWhAqqqqqqqiaEAAAAAAAAhpQFZVVVVVbWlAqqqqqqrSaUAAAAAAADhqQFZVVVVVnWpAqqqqqqoCa0AAAAAAAGhrQFVVVVVVzWtAqqqqqqoybEAAAAAAAJhsQFVVVVVV/WxAqqqqqqpibUAAAAAAAMhtQFVVVVVVLW5AqqqqqqqSbkAAAAAAAPhuQFVVVVVVXW9AqqqqqqrCb0AAAAAAABRwQKqqqqqqRnBAVVVVVVV5cEAAAAAAAKxwQKqqqqqq3nBAVVVVVVURcUAAAAAAAERxQKqqqqqqdnFA",
                        "dtype": "f8"
                      },
                      "y": {
                        "bdata": "Xh+7pcYxGD+kr6evMHIrP5R/v2c0Qz0/A2pN1bpSTT/wjh4H951bPy18m005cmg/X11RqpNWdD+gnEenXs5/P16+HdbuX4c/SOKS2zslkD9nAXpAfvaUPwqjxILAlJk/Ug8ZvO5WnT/rEOJCfKCfP/bjHSVxBaA/Kevmo/OCnj/GP3DggU6bP5SypAQM+JY/EbJYT5Qokj9pKUg8E/yKP9F7gARE2II/VKrdyua8eD+kE0mKbYVuP4PcwHE0smE/YjrFW1JJUz+9JVF+dcFDP8GwSo0CBTM/8ueb0rY1IT9euSVblEUNP5WDdC6gZfc+",
                        "dtype": "f8"
                      }
                    }
                  ],
                  "name": "n=770"
                },
                {
                  "data": [
                    {
                      "marker": {
                        "color": "blue"
                      },
                      "name": "이항분포 샘플",
                      "opacity": 0.7,
                      "type": "bar",
                      "x": {
                        "bdata": "AAAAAADwZ0AAAAAAAFBoQAAAAAAAsGhAAAAAAAAQaUAAAAAAAHBpQAAAAAAA0GlAAAAAAAAwakAAAAAAAJBqQAAAAAAA8GpAAAAAAABQa0AAAAAAALBrQAAAAAAAEGxAAAAAAABwbEAAAAAAANBsQAAAAAAAMG1AAAAAAACQbUAAAAAAAPBtQAAAAAAAUG5AAAAAAACwbkAAAAAAABBvQAAAAAAAcG9AAAAAAADQb0AAAAAAABhwQAAAAAAASHBAAAAAAAB4cEAAAAAAAKhwQAAAAAAA2HBAAAAAAAAIcUAAAAAAADhxQAAAAAAAaHFA",
                        "dtype": "f8"
                      },
                      "y": {
                        "bdata": "LUMc6+I2Kj8dgr2c7HkhP0BaiWaLkUI/6ZKEV6UHSD9zHjuV+TRUP1BGb8taHWM/dpl0bu1XdD9seHqlLEN8P0GC4seYu4Y/j1BGb8tajT9IUPwYc9eSP+UXS36x5Jc/aP1AzDggnD8eEzyYJ+qfP7GXkz0vAqA/cYdgLyd7nj/ysFBrmnecP5GjJuexU5k/rthfdk8elj+oNc07TtGRP6YKRiV1Aoo/QFqJZouRgj/6fmq8dJN4Pwkbnl4py3A/nOx5EYCSZT/pkoRXpQdYP7WjSxJelU4/LUMc6+I2Oj8dgr2c7HkxP6Xi7MNn2DU/",
                        "dtype": "f8"
                      }
                    },
                    {
                      "line": {
                        "color": "red",
                        "dash": "dash"
                      },
                      "mode": "lines",
                      "name": "정규근사",
                      "type": "scatter",
                      "x": {
                        "bdata": "AAAAAADwZ0AAAAAAAFBoQAAAAAAAsGhAAAAAAAAQaUAAAAAAAHBpQAAAAAAA0GlAAAAAAAAwakAAAAAAAJBqQAAAAAAA8GpAAAAAAABQa0AAAAAAALBrQAAAAAAAEGxAAAAAAABwbEAAAAAAANBsQAAAAAAAMG1AAAAAAACQbUAAAAAAAPBtQAAAAAAAUG5AAAAAAACwbkAAAAAAABBvQAAAAAAAcG9AAAAAAADQb0AAAAAAABhwQAAAAAAASHBAAAAAAAB4cEAAAAAAAKhwQAAAAAAA2HBAAAAAAAAIcUAAAAAAADhxQAAAAAAAaHFA",
                        "dtype": "f8"
                      },
                      "y": {
                        "bdata": "9xeabM94ID9xyOM/lXMxP9JIJhI3gEE/qginPq6cUD9BcHbMxtldPzm35lLOYmk/PETlZk9vdD9k6e9lxiN/P1SJsq4ydYY/aNf4Wjupjj8LiwKvts+TP/2M3R+wO5g/I/h1f54OnD+DGjf0bL+ePwnsziAa5Z8/NJSFUOtQnz9FXwvHmBqdP6n92pMWmpk/C8gLXzdRlT/BAm2h+8yQP2Jtm5j/EIk/GSw0DRqzgT/4RsxBzah3PwpOiTti720/R6id593sYT/eGM4f2lFUP4yc5Qh3zUU/Hz4RfZokNj+zp26xT0klP2Nus/FvXhM/",
                        "dtype": "f8"
                      }
                    }
                  ],
                  "name": "n=780"
                },
                {
                  "data": [
                    {
                      "marker": {
                        "color": "blue"
                      },
                      "name": "이항분포 샘플",
                      "opacity": 0.7,
                      "type": "bar",
                      "x": {
                        "bdata": "iIiIiIjwZ0CamZmZmVFoQKqqqqqqsmhAvLu7u7sTaUDMzMzMzHRpQN7d3d3d1WlA7+7u7u42akAAAAAAAJhqQBERERER+WpAIiIiIiJaa0A0MzMzM7trQEREREREHGxAVlVVVVV9bEBmZmZmZt5sQHh3d3d3P21AiIiIiIigbUCamZmZmQFuQKqqqqqqYm5AvLu7u7vDbkDMzMzMzCRvQN7d3d3dhW9A7+7u7u7mb0AAAAAAACRwQIiIiIiIVHBAERERERGFcECamZmZmbVwQCIiIiIi5nBAqqqqqqoWcUA0MzMzM0dxQLy7u7u7d3FA",
                        "dtype": "f8"
                      },
                      "y": {
                        "bdata": "ZmH38CPtGT+AJs5I85olP4AmzkjzmkU/4JyadjY0QD9NnCCZVD9OP6WmLMArGGI/Kxx/EI28aj/7UpwCNBd3P7PqKsPgU38/Gl/xFV/xhT9Pt9Cab++PP62seNIICJU/MvCwVkxAmT+fCJ6OMfqdP2uXV/RZTZ0/wu5w+vhHnj8CGz+0OcSfP7noJOgbWJs/HHqhF3qhlz9qsL4JIfyTP2uyB/Z0/Y4/G4u/z59thz+Rel4G65uAP3mXFOPKR3Y/+8MlrprJbj+Q18MeZ4ZkP7kmzkjzmlU//ZsgmVQ/Tj8iYffwI+05P8frpKDCSDE/",
                        "dtype": "f8"
                      }
                    },
                    {
                      "line": {
                        "color": "red",
                        "dash": "dash"
                      },
                      "mode": "lines",
                      "name": "정규근사",
                      "type": "scatter",
                      "x": {
                        "bdata": "iIiIiIjwZ0CamZmZmVFoQKqqqqqqsmhAvLu7u7sTaUDMzMzMzHRpQN7d3d3d1WlA7+7u7u42akAAAAAAAJhqQBERERER+WpAIiIiIiJaa0A0MzMzM7trQEREREREHGxAVlVVVVV9bEBmZmZmZt5sQHh3d3d3P21AiIiIiIigbUCamZmZmQFuQKqqqqqqYm5AvLu7u7vDbkDMzMzMzCRvQN7d3d3dhW9A7+7u7u7mb0AAAAAAACRwQIiIiIiIVHBAERERERGFcECamZmZmbVwQCIiIiIi5nBAqqqqqqoWcUA0MzMzM0dxQLy7u7u7d3FA",
                        "dtype": "f8"
                      },
                      "y": {
                        "bdata": "3rtyqnXTDz8WrfjOzMYhP8VTx192yTI/ZMZ4WpnIQj8nTguFWcRRP3gJRD0mzF8/wpthXTDraj8dpqCcHI91P7pwHom+VYA/IEiBVv9qhz/DOMcyz8KPP96Tyn9KYJQ/8kMt1eK7mD8ZEXSfZGecPzDE94/J254/PPX0VXK3nz9IkuRg+daePwKv3fmIXpw/3zo7wVGwmD90K2z9llOUP7VVstQRqo8/AG9vZB1Vhz+wHvsV8UOAP3V+eXNEdHU/WBtaHX7Faj+2ih4/sJpfP2moyHD1pVE/tuSGF4+lQj8yBcHNgaMyP6V4wpgioCE/",
                        "dtype": "f8"
                      }
                    }
                  ],
                  "name": "n=790"
                },
                {
                  "data": [
                    {
                      "marker": {
                        "color": "blue"
                      },
                      "name": "이항분포 샘플",
                      "opacity": 0.7,
                      "type": "bar",
                      "x": {
                        "bdata": "MzMzMzMTaECamZmZmXloQAAAAAAA4GhAZmZmZmZGaUDNzMzMzKxpQDMzMzMzE2pAmpmZmZl5akAAAAAAAOBqQGZmZmZmRmtAzczMzMysa0AzMzMzMxNsQJqZmZmZeWxAAAAAAADgbEBmZmZmZkZtQM3MzMzMrG1AMzMzMzMTbkCamZmZmXluQAAAAAAA4G5AZmZmZmZGb0DNzMzMzKxvQJqZmZmZCXBAzMzMzMw8cEAAAAAAAHBwQDQzMzMzo3BAZmZmZmbWcECamZmZmQlxQMzMzMzMPHFAAAAAAABwcUA0MzMzM6NxQGZmZmZm1nFA",
                        "dtype": "f8"
                      },
                      "y": {
                        "bdata": "DKrx0k1iED/jqfHSTWIQPxJ/arx0kxg/46nx0k1iQD9UtMh2vp9KP3c5tMh2vl8/JAwCK4cWaT/v+X5qvHRzP/oFgZVDi3w/ipMYBFYOhT+8xks3iUGUP5jIdr6fGpM/nhbZzvdTlz9Bke18PzWaPw/TTWIQWJ0/3Ha+nxovoz9ml24Sg8CaPwZSuB6F65k/oMqhRbbzlT8D001iEFiRP97MzMzMzJA/XmIQWDm0gD9vJAaBlUN7P1nhehSuR3E/jxSuR+F6ZD/XHoXrUbheP48UrkfhekQ/BukmMQisPD+PFK5H4XokPxJ/arx0kyg/",
                        "dtype": "f8"
                      }
                    },
                    {
                      "line": {
                        "color": "red",
                        "dash": "dash"
                      },
                      "mode": "lines",
                      "name": "정규근사",
                      "type": "scatter",
                      "x": {
                        "bdata": "MzMzMzMTaECamZmZmXloQAAAAAAA4GhAZmZmZmZGaUDNzMzMzKxpQDMzMzMzE2pAmpmZmZl5akAAAAAAAOBqQGZmZmZmRmtAzczMzMysa0AzMzMzMxNsQJqZmZmZeWxAAAAAAADgbEBmZmZmZkZtQM3MzMzMrG1AMzMzMzMTbkCamZmZmXluQAAAAAAA4G5AZmZmZmZGb0DNzMzMzKxvQJqZmZmZCXBAzMzMzMw8cEAAAAAAAHBwQDQzMzMzo3BAZmZmZmbWcECamZmZmQlxQMzMzMzMPHFAAAAAAABwcUA0MzMzM6NxQGZmZmZm1nFA",
                        "dtype": "f8"
                      },
                      "y": {
                        "bdata": "ImcuAKggBD/AdYflHxQYP1Qpc9EYGis/amZnQHmzPD8GLUcx5phMP/NnOGQWz1o/AVZxn3SlZz9TL8EcnJ9zPw8iLjblpH4/ZsRb6hyDhj81zEvA1R6PP87cI+b+PJQ/bLruvCXEmD8zjuq42oOcP+fWWX3W454/3SYDMuh7nz/BwN4oIzGeP+7zVdGoPZs/CatRH/cflz+KC+tgUHiSP6MJIPFwwos/o24IiYuggz/LfjOW+hx6Pw7VWJcZWHA/gbZp/ug/Yz/D9KnFv1RVP9LchP9hPUY/ouiYiOzQNT8vhWQxkyIkP5cSS7kSfBE/",
                        "dtype": "f8"
                      }
                    }
                  ],
                  "name": "n=800"
                },
                {
                  "data": [
                    {
                      "marker": {
                        "color": "blue"
                      },
                      "name": "이항분포 샘플",
                      "opacity": 0.7,
                      "type": "bar",
                      "x": {
                        "bdata": "AAAAAAD4aEAAAAAAAGhpQAAAAAAA2GlAAAAAAABIakAAAAAAALhqQAAAAAAAKGtAAAAAAACYa0AAAAAAAAhsQAAAAAAAeGxAAAAAAADobEAAAAAAAFhtQAAAAAAAyG1AAAAAAAA4bkAAAAAAAKhuQAAAAAAAGG9AAAAAAACIb0AAAAAAAPhvQAAAAAAANHBAAAAAAABscEAAAAAAAKRwQAAAAAAA3HBAAAAAAAAUcUAAAAAAAExxQAAAAAAAhHFAAAAAAAC8cUAAAAAAAPRxQAAAAAAALHJAAAAAAABkckAAAAAAAJxyQAAAAAAA1HJA",
                        "dtype": "f8"
                      },
                      "y": {
                        "bdata": "fLr7npX1HT98uvuelfUtPzUQTd3WmEQ/NRBN3daYRD9Sw3piG7RmP6E6WhbOcmo/2SfBnUhxgD9IUPwYc9eCP4qDiBXwb5E/0Ifpf/pRkT9nqXf1a22ePz+DyyZ/dZg/0Ifpf/pRoT8e01i+7YebP2p6TGP5tp8/VpNmccJDlj8i0J2hOlqWP/Hekp4mdIk/y4uN+5M5iD9o1P4LRTx2P+lpQpexI3I/Z6l39WttXj/z3MDgWQBWP93LPDcweDY/5phtKSTaMD/dyzw3MHgWP3y6+56V9f0+fLr7npX1/T4AAAAAAAAAAHy6+56V9f0+",
                        "dtype": "f8"
                      }
                    },
                    {
                      "line": {
                        "color": "red",
                        "dash": "dash"
                      },
                      "mode": "lines",
                      "name": "정규근사",
                      "type": "scatter",
                      "x": {
                        "bdata": "AAAAAAD4aEAAAAAAAGhpQAAAAAAA2GlAAAAAAABIakAAAAAAALhqQAAAAAAAKGtAAAAAAACYa0AAAAAAAAhsQAAAAAAAeGxAAAAAAADobEAAAAAAAFhtQAAAAAAAyG1AAAAAAAA4bkAAAAAAAKhuQAAAAAAAGG9AAAAAAACIb0AAAAAAAPhvQAAAAAAANHBAAAAAAABscEAAAAAAAKRwQAAAAAAA3HBAAAAAAAAUcUAAAAAAAExxQAAAAAAAhHFAAAAAAAC8cUAAAAAAAPRxQAAAAAAALHJAAAAAAABkckAAAAAAAJxyQAAAAAAA1HJA",
                        "dtype": "f8"
                      },
                      "y": {
                        "bdata": "dyCqkjVpID9SnHmj7EUzP1V4MYDOD0U/BXQ0UcRqVT+91dcl3kNkP1wxyze+13E/VXFCTpc8fT9sV7LL80mGPw+eo0N3n48/H7V/r8nflD+peloeoaSZPw0f3gQJUJ0/Pg1EvNctnz8Of+xdJdyeP+92n4X3a5w/QpfbIntbmD96hfJSemyTP2EWfrCK04w/6aK+UGrngz/JKI+MnpN5PzWXpkoVlW4/NhlzqXADYT8TMrysRp1RPy33NYgn+EA/KMibFpBsLj+WOpJs2mAZP58VrdbOsgM/e7G9im107D42+vh5qx/TPgCmm5tB67c+",
                        "dtype": "f8"
                      }
                    }
                  ],
                  "name": "n=810"
                },
                {
                  "data": [
                    {
                      "marker": {
                        "color": "blue"
                      },
                      "name": "이항분포 샘플",
                      "opacity": 0.7,
                      "type": "bar",
                      "x": {
                        "bdata": "qqqqqqryaEAAAAAAAFhpQFZVVVVVvWlAqqqqqqoiakAAAAAAAIhqQFZVVVVV7WpAqqqqqqpSa0AAAAAAALhrQFZVVVVVHWxAqqqqqqqCbEAAAAAAAOhsQFVVVVVVTW1AqqqqqqqybUAAAAAAABhuQFVVVVVVfW5AqqqqqqribkAAAAAAAEhvQFVVVVVVrW9AVlVVVVUJcEAAAAAAADxwQKqqqqqqbnBAVVVVVVWhcEAAAAAAANRwQKqqqqqqBnFAVVVVVVU5cUAAAAAAAGxxQKqqqqqqnnFAVVVVVVXRcUAAAAAAAARyQKqqqqqqNnJA",
                        "dtype": "f8"
                      },
                      "y": {
                        "bdata": "aOHkja7VGD8blphedI4QP/gGi6VL+Sw/wRleMRoLPz/MWo0B6BJRP+K4rLzwa1s/JIxK6gQ0cT9M6zICHjB4P7fy7rxsRH4/cwhUAlyciT+h5+5S80OQP35oOdN+d5M/k/nEJbh2nz8C1B4OG1ObP/Zj3rxNjp0/3Nr0dmaFnD8M+42CyBmcPy3QwLDzSJg/vBzWPD4znT8kSmkkLYaQPxD+BY7sQYo/xhpb6iPqgT/BwvowYMZ6P+9k23VXbXA/J7msvPBraz/HV/tHx8xHP0EyVTAqqUM/C7w+dhGyND+iuz52EbIkPxuWmF50jiA/",
                        "dtype": "f8"
                      }
                    },
                    {
                      "line": {
                        "color": "red",
                        "dash": "dash"
                      },
                      "mode": "lines",
                      "name": "정규근사",
                      "type": "scatter",
                      "x": {
                        "bdata": "qqqqqqryaEAAAAAAAFhpQFZVVVVVvWlAqqqqqqoiakAAAAAAAIhqQFZVVVVV7WpAqqqqqqpSa0AAAAAAALhrQFZVVVVVHWxAqqqqqqqCbEAAAAAAAOhsQFVVVVVVTW1AqqqqqqqybUAAAAAAABhuQFVVVVVVfW5AqqqqqqribkAAAAAAAEhvQFVVVVVVrW9AVlVVVVUJcEAAAAAAADxwQKqqqqqqbnBAVVVVVVWhcEAAAAAAANRwQKqqqqqqBnFAVVVVVVU5cUAAAAAAAGxxQKqqqqqqnnFAVVVVVVXRcUAAAAAAAARyQKqqqqqqNnJA",
                        "dtype": "f8"
                      },
                      "y": {
                        "bdata": "5BEoiUSXDj/p+I8zGXEhP+u6AWehwzI/w2U953sLQz8W2LzJejxSPy/bW21heWA/k9USa7AUbD8kEFGEHJR2PzMxDpufIIE/6RrtsMiDiD+uEiPuPY2QP/yeJq0QFpU/YKMAYeBXmT/x0qFPl7ycPyu+z828vZ4/+H0mbW4Gnz/wo5dpV4qdP+aor1AciZo/vgpcKu18lj8SLu46zfqRP+CniV29H4s/+OoTd1VNgz86evsL5+p5P6KVdf93anA/C3kKd26eYz9QzKA10x5WP/A0PfKth0c/W1kSuQ2dNz8PxV78UVsmP0yrfkAs+BM/",
                        "dtype": "f8"
                      }
                    }
                  ],
                  "name": "n=820"
                },
                {
                  "data": [
                    {
                      "marker": {
                        "color": "blue"
                      },
                      "name": "이항분포 샘플",
                      "opacity": 0.7,
                      "type": "bar",
                      "x": {
                        "bdata": "MzMzMzOTaUCamZmZmflpQAAAAAAAYGpAZmZmZmbGakDNzMzMzCxrQDMzMzMzk2tAmpmZmZn5a0AAAAAAAGBsQGZmZmZmxmxAzczMzMwsbUAzMzMzM5NtQJqZmZmZ+W1AAAAAAABgbkBmZmZmZsZuQM3MzMzMLG9AMzMzMzOTb0CZmZmZmflvQAAAAAAAMHBANDMzMzNjcEBmZmZmZpZwQJqZmZmZyXBAzMzMzMz8cEAAAAAAADBxQDQzMzMzY3FAZmZmZmaWcUCamZmZmclxQMzMzMzM/HFAAAAAAAAwckA0MzMzM2NyQGZmZmZmlnJA",
                        "dtype": "f8"
                      },
                      "y": {
                        "bdata": "En9qvHSTKD9O6SYxCKwsP63EILByaEE/XRSuR+F6RD9FXI/C9ShcP2q4HoXrUWg/b2zn+6nxcj+4xks3iUGAPw2HFtnO94M/uvHSTWIQkD8/MQisHFqYPxrfT42XbpY/sW4Sg8DKmT/pVzm0yHaaP+0i2/l+apw/metRuB6Foz+MaJHtfD+ZP1FwPQrXo5Q/fbx0kxgEkj+ol24Sg8CKP0myne+nxos/C9NNYhBYeT80wMqhRbZzP+/5fmq8dGM/9c73U+OlWz82BFYOLbJNP9FJDAIrhzY/KRSuR+F6JD8MqvHSTWIgPwyq8dJNYgA/",
                        "dtype": "f8"
                      }
                    },
                    {
                      "line": {
                        "color": "red",
                        "dash": "dash"
                      },
                      "mode": "lines",
                      "name": "정규근사",
                      "type": "scatter",
                      "x": {
                        "bdata": "MzMzMzOTaUCamZmZmflpQAAAAAAAYGpAZmZmZmbGakDNzMzMzCxrQDMzMzMzk2tAmpmZmZn5a0AAAAAAAGBsQGZmZmZmxmxAzczMzMwsbUAzMzMzM5NtQJqZmZmZ+W1AAAAAAABgbkBmZmZmZsZuQM3MzMzMLG9AMzMzMzOTb0CZmZmZmflvQAAAAAAAMHBANDMzMzNjcEBmZmZmZpZwQJqZmZmZyXBAzMzMzMz8cEAAAAAAADBxQDQzMzMzY3FAZmZmZmaWcUCamZmZmclxQMzMzMzM/HFAAAAAAAAwckA0MzMzM2NyQGZmZmZmlnJA",
                        "dtype": "f8"
                      },
                      "y": {
                        "bdata": "+FsMovW4Gz+R6Hect2kuP6adbVv6dT8/S3gRGB2wTj8KiW2d4DlcP2jUpy39emg/ZKPKIzkFdD8ebfIOpOB+P0B/Ov3ec4Y/cbec8zLKjj+eY02sKeiTP2slV1zDRZg/13IWySromz//YxmOOUGeP6jY3dPA7Z4/X42NrkzQnT8ckVawXBmbP+n5RrLqOZc/0JbZTGTFkj/RvX2vGZyMP6Xv5+4Fj4Q/hv9W+1Xcez8fBXvUDM1xP3ErpKH/cmU/7t9x8dheWD8lB2F+GRxKPxVp0nSJYDo/XKDXpHMgKT/st4/T65EWPzF41BHeHQM/",
                        "dtype": "f8"
                      }
                    }
                  ],
                  "name": "n=830"
                },
                {
                  "data": [
                    {
                      "marker": {
                        "color": "blue"
                      },
                      "name": "이항분포 샘플",
                      "opacity": 0.7,
                      "type": "bar",
                      "x": {
                        "bdata": "AAAAAAB4aUAAAAAAAOhpQAAAAAAAWGpAAAAAAADIakAAAAAAADhrQAAAAAAAqGtAAAAAAAAYbEAAAAAAAIhsQAAAAAAA+GxAAAAAAABobUAAAAAAANhtQAAAAAAASG5AAAAAAAC4bkAAAAAAAChvQAAAAAAAmG9AAAAAAAAEcEAAAAAAADxwQAAAAAAAdHBAAAAAAACscEAAAAAAAORwQAAAAAAAHHFAAAAAAABUcUAAAAAAAIxxQAAAAAAAxHFAAAAAAAD8cUAAAAAAADRyQAAAAAAAbHJAAAAAAACkckAAAAAAANxyQAAAAAAAFHNA",
                        "dtype": "f8"
                      },
                      "y": {
                        "bdata": "3cs8NzB4Fj98uvuelfX9Po5UXYN9uTI/1P4LRTwWPD8g/8gzrRBVP93LPDcweFY/Z6l39Wttbj+nNraaNItzPy9BSi0Ww4Y/m5iwOrPfhz+mN5/5GkWVPzBAYc4vCZU/g1u8G8rOnj+EiBXwbxGaP56sljdGMKE/ZtbQyRGwmT90GTsiYRydP9z4lQvWupE/Cu1bK53Okz+EtIVlL5qDP9NYvu2Hm4I/AHvGQNurcT9QmPNLQuVuPxYymEG5rlo/I3br+O7UTz98uvuelfU9P93LPDcweDY/fLr7npX1HT98uvuelfUNP3y6+56V9Q0/",
                        "dtype": "f8"
                      }
                    },
                    {
                      "line": {
                        "color": "red",
                        "dash": "dash"
                      },
                      "mode": "lines",
                      "name": "정규근사",
                      "type": "scatter",
                      "x": {
                        "bdata": "AAAAAAB4aUAAAAAAAOhpQAAAAAAAWGpAAAAAAADIakAAAAAAADhrQAAAAAAAqGtAAAAAAAAYbEAAAAAAAIhsQAAAAAAA+GxAAAAAAABobUAAAAAAANhtQAAAAAAASG5AAAAAAAC4bkAAAAAAAChvQAAAAAAAmG9AAAAAAAAEcEAAAAAAADxwQAAAAAAAdHBAAAAAAACscEAAAAAAAORwQAAAAAAAHHFAAAAAAABUcUAAAAAAAIxxQAAAAAAAxHFAAAAAAAD8cUAAAAAAADRyQAAAAAAAbHJAAAAAAACkckAAAAAAANxyQAAAAAAAFHNA",
                        "dtype": "f8"
                      },
                      "y": {
                        "bdata": "QDHxQN5yBT99iAJrKPsaPxfvZ97YqS8/IvvM1jBVQT9tmrIf/LNRP7PdekVE3mA/u4N8YCv9bT+4XmYvit54P5CJ8cB0PYM/NhWPLdjFiz8JpvQ3O7OSP4q0CZU4fpc/cmsrFsyImz8WKpcIGxueP5rP3C6NtZ4/69gbchs5nT89Fw8VePGZP69vqv2CfJU/k7qsXfCZkD9VVGMOyu6HP0KO4tv3F4A/neD1nDkxdD9pgvHelqJnPyt11GoYz1k/xMWFrsJKSj8zMeUlvPw4Py4InkpwJyY/ISdcQQlTEj8MrQVXm0f8Pv4bnPWbW+Q+",
                        "dtype": "f8"
                      }
                    }
                  ],
                  "name": "n=840"
                },
                {
                  "data": [
                    {
                      "marker": {
                        "color": "blue"
                      },
                      "name": "이항분포 샘플",
                      "opacity": 0.7,
                      "type": "bar",
                      "x": {
                        "bdata": "qqqqqqrCaUAAAAAAAEhqQFZVVVVVzWpAqqqqqqpSa0AAAAAAANhrQFZVVVVVXWxAqqqqqqribEAAAAAAAGhtQFZVVVVV7W1Aq6qqqqpybkAAAAAAAPhuQFZVVVVVfW9AVlVVVVUBcEAAAAAAAERwQKqqqqqqhnBAVlVVVVXJcEAAAAAAAAxxQKuqqqqqTnFAVlVVVVWRcUAAAAAAANRxQKuqqqqqFnJAVlVVVVVZckAAAAAAAJxyQKuqqqqq3nJAVlVVVVUhc0AAAAAAAGRzQKuqqqqqpnNAVlVVVVXpc0AAAAAAACx0QKuqqqqqbnRA",
                        "dtype": "f8"
                      },
                      "y": {
                        "bdata": "S6vMlNbfEj805BBxcyoJP/EAM9/BTyw/BZ27XS9NQT+joEyjycVYP68ZxAd2/Gc/6Wg50ENtez8y27+y0qSEP4Hp0VRP5o8/Ng37PbFOlT+5F3yakxeZP5pnCTICKpw/IK0UArnEoT+dfAqA8QyaP2YqNXugFZg/beLHmLuWkD8PkQvO4O+HP8s3FakwtoA/zk53nnjOdj/NRSbg10hiP7jgfyvZsVE/zk53nnjORj805BBxcyopP5TkEHFzKvk+AAAAAAAAAAAAAAAAAAAAAAAAAAAAAAAAAAAAAAAAAAAAAAAAAAAAAJTkEHFzKvk+",
                        "dtype": "f8"
                      }
                    },
                    {
                      "line": {
                        "color": "red",
                        "dash": "dash"
                      },
                      "mode": "lines",
                      "name": "정규근사",
                      "type": "scatter",
                      "x": {
                        "bdata": "qqqqqqrCaUAAAAAAAEhqQFZVVVVVzWpAqqqqqqpSa0AAAAAAANhrQFZVVVVVXWxAqqqqqqribEAAAAAAAGhtQFZVVVVV7W1Aq6qqqqpybkAAAAAAAPhuQFZVVVVVfW9AVlVVVVUBcEAAAAAAAERwQKqqqqqqhnBAVlVVVVXJcEAAAAAAAAxxQKuqqqqqTnFAVlVVVVWRcUAAAAAAANRxQKuqqqqqFnJAVlVVVVVZckAAAAAAAJxyQKuqqqqq3nJAVlVVVVUhc0AAAAAAAGRzQKuqqqqqpnNAVlVVVVXpc0AAAAAAACx0QKuqqqqqbnRA",
                        "dtype": "f8"
                      },
                      "y": {
                        "bdata": "S/88qjY4Az8S57MnmKwcP8f6nulOaDM/YFK5LA3WRz/6wxU36Y9aP5Bx3JxI22o/odMljDijeD+IFLVB1YGEPyMOoL1y+Y4/8FlljGI5lT+KSlaB+WOaP2FC89rwxZ0/EYqsN/N5nj9szvWACk6cP5rYr+cF2pc//iNolXw8kj9WTGHqJU2JP3Ul8Pyj2X8/p61LzGMwcj+M2Ic6cdliP7Dbwz8ruVE/VbAWa3U9Pj8++hKtQmgnP8dazFJqcBA/R8lk1lrz9D4ICdPhwDnYPm8+VGaTark+242Xe7QxmD40JltuceV0PrdmO0wNYFA+",
                        "dtype": "f8"
                      }
                    }
                  ],
                  "name": "n=850"
                },
                {
                  "data": [
                    {
                      "marker": {
                        "color": "blue"
                      },
                      "name": "이항분포 샘플",
                      "opacity": 0.7,
                      "type": "bar",
                      "x": {
                        "bdata": "vLu7u7t7aUAzMzMzM/NpQKqqqqqqampAIiIiIiLiakCamZmZmVlrQBERERER0WtAiIiIiIhIbEAAAAAAAMBsQHh3d3d3N21A7+7u7u6ubUBmZmZmZiZuQN7d3d3dnW5AVlVVVVUVb0DMzMzMzIxvQCIiIiIiAnBA3t3d3d09cECamZmZmXlwQFZVVVVVtXBAERERERHxcEDNzMzMzCxxQIiIiIiIaHFARERERESkcUAAAAAAAOBxQLy7u7u7G3JAeHd3d3dXckAzMzMzM5NyQO/u7u7uznJAqqqqqqoKc0BmZmZmZkZzQCIiIiIignNA",
                        "dtype": "f8"
                      },
                      "y": {
                        "bdata": "8P4LRTwW/D4AAAAAAAAAAPD+C0U8Fgw/B//IM60QFT8CP7uA2FQ6P4p+rc0DmU8/4L5cCaDXXT84N4lBYOVgPx0HuGGWenc/KcfFFGs2gj/VsOxFc+KOP5Wkpwldxo4//uisUya3mj/g9Shcj8KdP97Be0t6mpg/wJBzn11AoD+Z+rU2D2SeP0ZU46WbxJg/qGp5YwQTjT+WHoXrUbiOP2ifoFH7L4Q/zRrsy5UAej+8tm3btm1rPyEPZH7w3mI/dt9PjZduUj8xfyer5Y1BPwf/yDOtEBU/Lf8LRTwWHD8AAAAAAAAAALX+C0U8Fvw+",
                        "dtype": "f8"
                      }
                    },
                    {
                      "line": {
                        "color": "red",
                        "dash": "dash"
                      },
                      "mode": "lines",
                      "name": "정규근사",
                      "type": "scatter",
                      "x": {
                        "bdata": "vLu7u7t7aUAzMzMzM/NpQKqqqqqqampAIiIiIiLiakCamZmZmVlrQBERERER0WtAiIiIiIhIbEAAAAAAAMBsQHh3d3d3N21A7+7u7u6ubUBmZmZmZiZuQN7d3d3dnW5AVlVVVVUVb0DMzMzMzIxvQCIiIiIiAnBA3t3d3d09cECamZmZmXlwQFZVVVVVtXBAERERERHxcEDNzMzMzCxxQIiIiIiIaHFARERERESkcUAAAAAAAOBxQLy7u7u7G3JAeHd3d3dXckAzMzMzM5NyQO/u7u7uznJAqqqqqqoKc0BmZmZmZkZzQCIiIiIignNA",
                        "dtype": "f8"
                      },
                      "y": {
                        "bdata": "lW12PSen4j6lHb06zHn7Pi0V772huxI/o/SExZ6lJz8u49vZC6I7P/M97guD5E0/G3n1im/vXT9LwZc9YsBrP0Rex2vz0Hc/W+KP2MHrgj8LHxpUrtSLP2pyuOyr8pI/aLNIrl7ilz/l3dHv2d6bP65MDIFJG54/rkwMgUkbnj/l3dHv2d6bP1WzSK5e4pc/anK47Kvykj8LHxpUrtSLP23ij9jB64I/RF7Ha/PQdz9LwZc9YsBrPxt59Ypv710/wT3uC4PkTT8u49vZC6I7P6P0hMWepSc/eBXvvaG7Ej/jHb06zHn7PpVtdj0np+I+",
                        "dtype": "f8"
                      }
                    }
                  ],
                  "name": "n=860"
                },
                {
                  "data": [
                    {
                      "marker": {
                        "color": "blue"
                      },
                      "name": "이항분포 샘플",
                      "opacity": 0.7,
                      "type": "bar",
                      "x": {
                        "bdata": "mpmZmZlZaUDMzMzMzMxpQAAAAAAAQGpANDMzMzOzakBmZmZmZiZrQJqZmZmZmWtAzMzMzMwMbEAAAAAAAIBsQDQzMzMz82xAZmZmZmZmbUCamZmZmdltQMzMzMzMTG5AAAAAAADAbkA0MzMzMzNvQGZmZmZmpm9AzczMzMwMcEBmZmZmZkZwQAAAAAAAgHBAmpmZmZm5cEAzMzMzM/NwQM3MzMzMLHFAZmZmZmZmcUAAAAAAAKBxQJqZmZmZ2XFAMzMzMzMTckDNzMzMzExyQGZmZmZmhnJAAAAAAADAckCamZmZmflyQDMzMzMzM3NA",
                        "dtype": "f8"
                      },
                      "y": {
                        "bdata": "Py6RWoog/T4AAAAAAAAAAAAAAAAAAAAAPy6RWoog/T4AAAAAAAAAAHcIPw95fCk/zaS8B4Y3TD/HnYKa5WNVP4xvXk08K2o/6JETYn1laj+ByOPLgAKBPxRgUt4Dw4s/ofz1u06uij96y1odEzyYP8MjJ8T6ypQ/PUzwYJ6onz+NC7ZgC7agP+yRplScfZg/IgzcRUnmnD/3CPjm1cSTP7/LgAJRbJQ/IoakKRVnjz+PpLwHhjd8P8cyelvW6ng/HhvotIFOaz8m/M/WEH5ePwulvAeGN0w/X/WVaXCqNz8PvZp4VjQyP7+8mnhWNCI/",
                        "dtype": "f8"
                      }
                    },
                    {
                      "line": {
                        "color": "red",
                        "dash": "dash"
                      },
                      "mode": "lines",
                      "name": "정규근사",
                      "type": "scatter",
                      "x": {
                        "bdata": "mpmZmZlZaUDMzMzMzMxpQAAAAAAAQGpANDMzMzOzakBmZmZmZiZrQJqZmZmZmWtAzMzMzMwMbEAAAAAAAIBsQDQzMzMz82xAZmZmZmZmbUCamZmZmdltQMzMzMzMTG5AAAAAAADAbkA0MzMzMzNvQGZmZmZmpm9AzczMzMwMcEBmZmZmZkZwQAAAAAAAgHBAmpmZmZm5cEAzMzMzM/NwQM3MzMzMLHFAZmZmZmZmcUAAAAAAAKBxQJqZmZmZ2XFAMzMzMzMTckDNzMzMzExyQGZmZmZmhnJAAAAAAADAckCamZmZmflyQDMzMzMzM3NA",
                        "dtype": "f8"
                      },
                      "y": {
                        "bdata": "u7uGqXtTxz5CwqcW77fhPrIZVZUZE/k+mFW1lAOHED+6zkOnn0skP9aQOFg/Nzc/efehMee8SD/DXnh8AY5YP7UqLgAwtGY/a4pNOBOOcz89LNIaAWF/P/zaFUm8c4c/pm/f9tJTkD9+eF1FeS2VPzH87FFtlpk/GQWC93/MnD+EATyLhjGeP7KpTf7mfJ0/tvKQeKTTmj/gAFwJBbyWP2btydR08pE/8tkK8zJlij+W+sDUuxSCPzS17mUvE3c/HR2VhIBuaz+YjT2BtmBePwbsS64xVk8/rjBnYbwcPj9CS0APRfQqP53ikRqheRY/",
                        "dtype": "f8"
                      }
                    }
                  ],
                  "name": "n=870"
                },
                {
                  "data": [
                    {
                      "marker": {
                        "color": "blue"
                      },
                      "name": "이항분포 샘플",
                      "opacity": 0.7,
                      "type": "bar",
                      "x": {
                        "bdata": "zczMzMz8aUBmZmZmZnZqQAAAAAAA8GpAmpmZmZlpa0AzMzMzM+NrQM3MzMzMXGxAZmZmZmbWbEAAAAAAAFBtQJqZmZmZyW1AMzMzMzNDbkDNzMzMzLxuQGZmZmZmNm9AAAAAAACwb0DNzMzMzBRwQJqZmZmZUXBAZmZmZmaOcEA0MzMzM8twQAAAAAAACHFAzMzMzMxEcUCamZmZmYFxQGZmZmZmvnFANDMzMzP7cUAAAAAAADhyQMzMzMzMdHJAmpmZmZmxckBmZmZmZu5yQDQzMzMzK3NAAAAAAABoc0DMzMzMzKRzQJqZmZmZ4XNA",
                        "dtype": "f8"
                      },
                      "y": {
                        "bdata": "76RTSBeY+z4qpVNIF5gLP++kU0gXmAs/37s+dhGyFD/vpFNIF5grP6FqztOV3kk/U0KWAth0XD+0uz52EbJkP5UUrkfhenQ/1HlDAj3meD868ghraWKJP3x8kkdYS5M/enOwDfeUlj/AoGKr5jydP+DrdXYjEZc/quqSaxZQnz8ArxiNhQ+gP7X3LyWhD5k/rihKMMAvkz8T++qkyhiGP76HTPbVSYU/jBleMRoLfz+laH+OenlvPxvaKNNfwWI/qZVV6m6tUT+MHvy7UNVDP7S7PnYRsjQ/ZKVTSBeYGz/vpFNIF5gLP++kU0gXmPs+",
                        "dtype": "f8"
                      }
                    },
                    {
                      "line": {
                        "color": "red",
                        "dash": "dash"
                      },
                      "mode": "lines",
                      "name": "정규근사",
                      "type": "scatter",
                      "x": {
                        "bdata": "zczMzMz8aUBmZmZmZnZqQAAAAAAA8GpAmpmZmZlpa0AzMzMzM+NrQM3MzMzMXGxAZmZmZmbWbEAAAAAAAFBtQJqZmZmZyW1AMzMzMzNDbkDNzMzMzLxuQGZmZmZmNm9AAAAAAACwb0DNzMzMzBRwQJqZmZmZUXBAZmZmZmaOcEA0MzMzM8twQAAAAAAACHFAzMzMzMxEcUCamZmZmYFxQGZmZmZmvnFANDMzMzP7cUAAAAAAADhyQMzMzMzMdHJAmpmZmZmxckBmZmZmZu5yQDQzMzMzK3NAAAAAAABoc0DMzMzMzKRzQJqZmZmZ4XNA",
                        "dtype": "f8"
                      },
                      "y": {
                        "bdata": "U6IIwdyq2D4qzWEuAczyPjVx3/5kfgo/j6WAOIlEIT/KwfokMtE0P94HaT28NUc/LP1YqL7uVz92e5XHqtJmP2sU+JD3IHQ/9YYddxZrgD+rifNFPsWIP72Vf1IASJE/k5kMWeFMlj9Lo++iNJ2aP8Wrx/D7X50/ZeU/dTf8nT9k+EwyvE6cP/aVVh0Rt5g/aF4XLOb0kz+wLLlyZc6NP88KrGjklYQ/k2MYSxxMej/LRmVWohFvPxXAjDhA+WA/fvnOa/QmUT8Sm8KpoAdAP6njLt+utSs/L6EytVsmFj9uAhI57l8APwXuFXAVZOY+",
                        "dtype": "f8"
                      }
                    }
                  ],
                  "name": "n=880"
                },
                {
                  "data": [
                    {
                      "marker": {
                        "color": "blue"
                      },
                      "name": "이항분포 샘플",
                      "opacity": 0.7,
                      "type": "bar",
                      "x": {
                        "bdata": "RERERETUa0DNzMzMzDxsQFZVVVVVpWxA3t3d3d0NbUBmZmZmZnZtQO/u7u7u3m1AeHd3d3dHbkAAAAAAALBuQIiIiIiIGG9AERERERGBb0CamZmZmelvQBERERERKXBAVlVVVVVdcECamZmZmZFwQN7d3d3dxXBAIiIiIiL6cEBmZmZmZi5xQKqqqqqqYnFA7+7u7u6WcUAzMzMzM8txQHh3d3d3/3FAvLu7u7szckAAAAAAAGhyQEREREREnHJAiIiIiIjQckDNzMzMzARzQBEREREROXNAVlVVVVVtc0CamZmZmaFzQN7d3d3d1XNA",
                        "dtype": "f8"
                      },
                      "y": {
                        "bdata": "LZGcFg8TKD+f2mR/eBE2P49sOGLaE0k/Dm31UEsOUj8Jdg5+GM5hPzBI1K2lFGo/9TVfQnyPcz9wMXQ0XTKHP5uDVcqT8IQ/LTG3Rew3jj/XzB0z/e6SP5fcPqBeyJ4/96GkccU8mj+8LIkmPtWaP1CxFb0ktZo/IsHzGPeInz/1XccWe5uYP37bjn5cZ5M/6wQhUj/JlT+PmrVD3NKHPwxPE7qMHYE/pWMfNQ1UeT/9LEYVr89zP9CacjJNzWA/ZVrD9rCOUj9okZwWDxNIPw5t9VBLDkI/cP4LRTwWLD8AAAAAAAAAAGiRnBYPExg/",
                        "dtype": "f8"
                      }
                    },
                    {
                      "line": {
                        "color": "red",
                        "dash": "dash"
                      },
                      "mode": "lines",
                      "name": "정규근사",
                      "type": "scatter",
                      "x": {
                        "bdata": "RERERETUa0DNzMzMzDxsQFZVVVVVpWxA3t3d3d0NbUBmZmZmZnZtQO/u7u7u3m1AeHd3d3dHbkAAAAAAALBuQIiIiIiIGG9AERERERGBb0CamZmZmelvQBERERERKXBAVlVVVVVdcECamZmZmZFwQN7d3d3dxXBAIiIiIiL6cEBmZmZmZi5xQKqqqqqqYnFA7+7u7u6WcUAzMzMzM8txQHh3d3d3/3FAvLu7u7szckAAAAAAAGhyQEREREREnHJAiIiIiIjQckDNzMzMzARzQBEREREROXNAVlVVVVVtc0CamZmZmaFzQN7d3d3d1XNA",
                        "dtype": "f8"
                      },
                      "y": {
                        "bdata": "LQthRgbBIz8eITNvStg0P1u+cYh7xkQ/eek0hpCOUz9Ewk0OZGNhPzfdxj5HNG0/XtBxLewpdz/JTwkiY1qBP/dqTEOgjog//cY9CGNpkD/WY1TS+beUPyuakWdTtJg/maUx3HjSmz8E81XBMZidP6RK4JSWu50/6tn4AcM2nD/kIVqecEmZPzO2eWrgZ5U/pIhKl18dkT96SOOJV9mJPz9awZ3gb4I/R4y7rlXXeD9a9JmrwZxvPxok9LWR/2I/fFTN+WCRVT/+w2spTSBHP+ftimzBazc/AAAXxDBnJj8lTalOgD0UP2gt2aF5RQE/",
                        "dtype": "f8"
                      }
                    }
                  ],
                  "name": "n=890"
                },
                {
                  "data": [
                    {
                      "marker": {
                        "color": "blue"
                      },
                      "name": "이항분포 샘플",
                      "opacity": 0.7,
                      "type": "bar",
                      "x": {
                        "bdata": "IiIiIiKaakBmZmZmZg5rQKuqqqqqgmtA7+7u7u72a0AzMzMzM2tsQHh3d3d332xAvLu7u7tTbUAAAAAAAMhtQEREREREPG5AiIiIiIiwbkDNzMzMzCRvQBERERERmW9Aq6qqqqoGcEDNzMzMzEBwQO/u7u7uenBAERERERG1cEAzMzMzM+9wQFVVVVVVKXFAd3d3d3djcUCamZmZmZ1xQLy7u7u713FA3t3d3d0RckAAAAAAAExyQCIiIiIihnJARERERETAckBmZmZmZvpyQImIiIiINHNAq6qqqqpuc0DNzMzMzKhzQO/u7u7u4nNA",
                        "dtype": "f8"
                      },
                      "y": {
                        "bdata": "vh+6viHc/D4AAAAAAAAAAM+XC08ZpRU/vh+6viHcHD/LOfdq23I3P38fur4h3Dw/uJKb6MSQTz8XyLFaTUNiP4MJUV+n1Go/CZXTG++aej96TSiXK3B+P/xkLRC7/I0/Jt4ausdKlD80U2aKCkeTP13Cc2dubJ0/rs5aF03BoD9xcxujz32YP4HkkibT6p4/1zjClwtPmT/7DVp/toeRP0Om+eEtJpA/w5hAIunIgz+Y2NzG6HN/PzaCcHwpYHI/mN+209zPYT+UsUj70jtgP8Ws2JR+J0o/0/UfM1fXMz/H2+KGnUApP8+XC08ZpRU/",
                        "dtype": "f8"
                      }
                    },
                    {
                      "line": {
                        "color": "red",
                        "dash": "dash"
                      },
                      "mode": "lines",
                      "name": "정규근사",
                      "type": "scatter",
                      "x": {
                        "bdata": "IiIiIiKaakBmZmZmZg5rQKuqqqqqgmtA7+7u7u72a0AzMzMzM2tsQHh3d3d332xAvLu7u7tTbUAAAAAAAMhtQEREREREPG5AiIiIiIiwbkDNzMzMzCRvQBERERERmW9Aq6qqqqoGcEDNzMzMzEBwQO/u7u7uenBAERERERG1cEAzMzMzM+9wQFVVVVVVKXFAd3d3d3djcUCamZmZmZ1xQLy7u7u713FA3t3d3d0RckAAAAAAAExyQCIiIiIihnJARERERETAckBmZmZmZvpyQImIiIiINHNAq6qqqqpuc0DNzMzMzKhzQO/u7u7u4nNA",
                        "dtype": "f8"
                      },
                      "y": {
                        "bdata": "2gFJkllN1T50NLTWpeDuPkB4Cbtp3gQ/OngBujtOGj8irySX+usuP+P9nyes8kA/R8zyZx1TUT+7sfBL14NgP6uxYXy3XG0/gnO71DlXeD/6n1OEFtGCP899untOIYs/Giqk+Rs9kj89sx/9Q96WP37OdJUMvZo/vZO6ZJEnnT8CLWFh9aSdP7FjZBvgG5w/BTW3gtbamD/s64bZq36UP/4M1znehI8/urHjn/uZhj/gkxbDJzp+Px/nP/Jm2XI/SrW4ahnsZT9IBq34tsZXP+y8bPgbDEg/GSdiET+uNj9gTIRe0fIjPyroqeyeXBA/",
                        "dtype": "f8"
                      }
                    }
                  ],
                  "name": "n=900"
                },
                {
                  "data": [
                    {
                      "marker": {
                        "color": "blue"
                      },
                      "name": "이항분포 샘플",
                      "opacity": 0.7,
                      "type": "bar",
                      "x": {
                        "bdata": "7+7u7u4WbEDNzMzMzIRsQKuqqqqq8mxAiIiIiIhgbUBmZmZmZs5tQEREREREPG5AIiIiIiKqbkAAAAAAABhvQN7d3d3dhW9AvLu7u7vzb0DMzMzMzDBwQLy7u7u7Z3BAqqqqqqqecECamZmZmdVwQIiIiIiIDHFAeHd3d3dDcUBmZmZmZnpxQFZVVVVVsXFARERERETocUAzMzMzMx9yQCIiIiIiVnJAERERERGNckAAAAAAAMRyQO/u7u7u+nJA3t3d3d0xc0DMzMzMzGhzQLy7u7u7n3NAqqqqqqrWc0CamZmZmQ10QIiIiIiIRHRA",
                        "dtype": "f8"
                      },
                      "y": {
                        "bdata": "pbFIKIKKHj87hTae4ecmP6WxSCiCii4/PuGB9IWtSz9QSWUOBBxdP1+eZiWVOWA//PbLCgPVdT+pjujwhGZ0P+J2bHMZAIE/fbO7YJ0fjj/aZ8hDrSKQP4fTUP00ZZo/K1zJs0oZmD9z441gGOKfP8Gwr/QK65k/SEXmaVZSmT94n76H34KeP5cSCP5IW5M/fXxeUOJelD9kO5vjOzSHP8cX+toRuoY/9DwOHFfJdj/v/FYbQ9NtP+ybP+MxuWo/einrRz0iUj9ATIxQZ5xSP3CbP+MxuTo/B28tWZEWMz+lsUgogooOPzuFNp7h5xY/",
                        "dtype": "f8"
                      }
                    },
                    {
                      "line": {
                        "color": "red",
                        "dash": "dash"
                      },
                      "mode": "lines",
                      "name": "정규근사",
                      "type": "scatter",
                      "x": {
                        "bdata": "7+7u7u4WbEDNzMzMzIRsQKuqqqqq8mxAiIiIiIhgbUBmZmZmZs5tQEREREREPG5AIiIiIiKqbkAAAAAAABhvQN7d3d3dhW9AvLu7u7vzb0DMzMzMzDBwQLy7u7u7Z3BAqqqqqqqecECamZmZmdVwQIiIiIiIDHFAeHd3d3dDcUBmZmZmZnpxQFZVVVVVsXFARERERETocUAzMzMzMx9yQCIiIiIiVnJAERERERGNckAAAAAAAMRyQO/u7u7u+nJA3t3d3d0xc0DMzMzMzGhzQLy7u7u7n3NAqqqqqqrWc0CamZmZmQ10QIiIiIiIRHRA",
                        "dtype": "f8"
                      },
                      "y": {
                        "bdata": "B/fqnVL5ED9KkxBwuJcjP92SrZ43QzU/IAK6/cixRT9b/wikn89UP42fsrXzxGI/ueY6NqbUbz89JqwHQmB5PxjqyfMiBYM/KTeuVX3Oij+ddP8IqcKRP1Q7TYdGIJY/wmPRcHzqmT+jVbjhBoqcP5YdtedBjJ0/43Cr9SDDnD8R1kcTmVKaP9ix+p0gppY/TIAtJHpSkj8RxGQX5N6LPx9IBsz67YM/RXSHfBzMej/VBshSJ/BwP+pOQW6zIWQ/L487Vfh+Vj8JWaogXaJHP4xuZJtBWDc/sQRer++tJT8dmwb0tu0SP4lHvN6FE/8+",
                        "dtype": "f8"
                      }
                    }
                  ],
                  "name": "n=910"
                },
                {
                  "data": [
                    {
                      "marker": {
                        "color": "blue"
                      },
                      "name": "이항분포 샘플",
                      "opacity": 0.7,
                      "type": "bar",
                      "x": {
                        "bdata": "AAAAAAB4bEAAAAAAAOhsQAAAAAAAWG1AAAAAAADIbUAAAAAAADhuQAAAAAAAqG5AAAAAAAAYb0AAAAAAAIhvQAAAAAAA+G9AAAAAAAA0cEAAAAAAAGxwQAAAAAAApHBAAAAAAADccEAAAAAAABRxQAAAAAAATHFAAAAAAACEcUAAAAAAALxxQAAAAAAA9HFAAAAAAAAsckAAAAAAAGRyQAAAAAAAnHJAAAAAAADUckAAAAAAAAxzQAAAAAAARHNAAAAAAAB8c0AAAAAAALRzQAAAAAAA7HNAAAAAAAAkdEAAAAAAAFx0QAAAAAAAlHRA",
                        "dtype": "f8"
                      },
                      "y": {
                        "bdata": "fLr7npX1DT98uvuelfUtP4WHLJGJVzg/1P4LRTwWPD+FhyyRiVdYP9T+C0U8Flw/jlRdg325cj8CTJuuaPVyP82Juz3HxYQ/WWUkPjZHiT8WX/EVX/GVP0hQ/Bhz15I/JXUCmggbnj+NKO0NvjCZP9knwZ1IcaA/m5iwOrPflz8Hw71zqrmdP2rSLE54yJI/Js7L423mkj/z3MDgWQCGPyxwdb+IeYU/1imTWxXlcz8rnc6TLrxwP6ncA/LoBV0/ASEUmI8mWz8J7kSKg4hFPzUQTd3WmDQ/fLr7npX1DT8AAAAAAAAAAHy6+56V9f0+",
                        "dtype": "f8"
                      }
                    },
                    {
                      "line": {
                        "color": "red",
                        "dash": "dash"
                      },
                      "mode": "lines",
                      "name": "정규근사",
                      "type": "scatter",
                      "x": {
                        "bdata": "AAAAAAB4bEAAAAAAAOhsQAAAAAAAWG1AAAAAAADIbUAAAAAAADhuQAAAAAAAqG5AAAAAAAAYb0AAAAAAAIhvQAAAAAAA+G9AAAAAAAA0cEAAAAAAAGxwQAAAAAAApHBAAAAAAADccEAAAAAAABRxQAAAAAAATHFAAAAAAACEcUAAAAAAALxxQAAAAAAA9HFAAAAAAAAsckAAAAAAAGRyQAAAAAAAnHJAAAAAAADUckAAAAAAAAxzQAAAAAAARHNAAAAAAAB8c0AAAAAAALRzQAAAAAAA7HNAAAAAAAAkdEAAAAAAAFx0QAAAAAAAlHRA",
                        "dtype": "f8"
                      },
                      "y": {
                        "bdata": "2OQ9PH8wEj+QH5No/R0lP1MaQpGHAjc/IPssjCmIRz8K3eYuUpZWPwMWFPEyWWQ/Sh48V5A0cT9AI4q90U57PzKGxpL8VoQ/dXeRpBxwjD/cncDUpKiSP+6kvwsH+5Y/TEikEYWQmj8JMZ1bItKcP6R9z5wDWZ0/59mJTFcMnD8sdk9GyiiZP7JHaQV2LpU/mc43aqq8kD9sWaSNONOIP1VBuhueR4E/44WZgN2Tdj9nlrru9K9rP4iRaNcS3l8/0dfNbW82UT8awFOnqXNBPxuGLfFxmzA/mRRh3kSqHT95lAFeB94IP2EY9u6TkPM+",
                        "dtype": "f8"
                      }
                    }
                  ],
                  "name": "n=920"
                },
                {
                  "data": [
                    {
                      "marker": {
                        "color": "blue"
                      },
                      "name": "이항분포 샘플",
                      "opacity": 0.7,
                      "type": "bar",
                      "x": {
                        "bdata": "iIiIiIh4bECamZmZmelsQKqqqqqqWm1AvLu7u7vLbUDMzMzMzDxuQN7d3d3drW5A7+7u7u4eb0AAAAAAAJBvQIiIiIiIAHBAERERERE5cECamZmZmXFwQCIiIiIiqnBAqqqqqqricEA0MzMzMxtxQLy7u7u7U3FARERERESMcUDMzMzMzMRxQFZVVVVV/XFA3t3d3d01ckBmZmZmZm5yQO7u7u7upnJAeHd3d3ffckAAAAAAABhzQIiIiIiIUHNAERERERGJc0CamZmZmcFzQCIiIiIi+nNAqqqqqqoydEA0MzMzM2t0QLy7u7u7o3RA",
                        "dtype": "f8"
                      },
                      "y": {
                        "bdata": "Y1/c2TqtDT+euynIRIwiP3bToH6T9yk/qPWLGnGxQD+ADQPRvxxIP9aW4XLD/l8//mbzBSYoYT8ArOLWJxl1P6jp3AttOng/UvfGQ+bZiT+xJ9dAsluLP38dSsLcj5U/Gf7MJzr/kz8MB6MlcjafPxDMBarQ6Jc/Z22VhV9YoT9OTUl3EbydP6GqPJ4h2pM/QPMuYc3dlD+gesGRxEGKP04sgGtirYk/EASxe195ez+dstdy5Oh1PzJ03T2fx2I/oCV6hw6IXz8706B+k/dJP7HToH6T9zk/IF/c2TqtLT8gX9zZOq0dP6Zf3Nk6rf0+",
                        "dtype": "f8"
                      }
                    },
                    {
                      "line": {
                        "color": "red",
                        "dash": "dash"
                      },
                      "mode": "lines",
                      "name": "정규근사",
                      "type": "scatter",
                      "x": {
                        "bdata": "iIiIiIh4bECamZmZmelsQKqqqqqqWm1AvLu7u7vLbUDMzMzMzDxuQN7d3d3drW5A7+7u7u4eb0AAAAAAAJBvQIiIiIiIAHBAERERERE5cECamZmZmXFwQCIiIiIiqnBAqqqqqqricEA0MzMzMxtxQLy7u7u7U3FARERERESMcUDMzMzMzMRxQFZVVVVV/XFA3t3d3d01ckBmZmZmZm5yQO7u7u7upnJAeHd3d3ffckAAAAAAABhzQIiIiIiIUHNAERERERGJc0CamZmZmcFzQCIiIiIi+nNAqqqqqqoydEA0MzMzM2t0QLy7u7u7o3RA",
                        "dtype": "f8"
                      },
                      "y": {
                        "bdata": "KJzq45UOAj9ADRHPLhgWP7n5QtNRXCk/5yUBBJlOOz/kg3gCApVLP/93mvV5Ilo/6rIn5tM6Zz8RnQTcg15zP/4ih9LbTH4/GFevh4Q7hj/B/26X/JqOP1T1QlPnwpM/ovOPzFXwlz8LHqAUIDSbP76SxBPX/5w/vpLEE9f/nD8LHqAUIDSbP6Lzj8xV8Jc/VPVCU+fCkz/B/26X/JqOPztXr4eEO4Y//iKH0ttMfj8RnQTcg15zPwGzJ+bTOmc//3ea9XkiWj/kg3gCApVLP+clAQSZTjs/GPpC01FcKT/iDBHPLhgWPyic6uOVDgI/",
                        "dtype": "f8"
                      }
                    }
                  ],
                  "name": "n=930"
                },
                {
                  "data": [
                    {
                      "marker": {
                        "color": "blue"
                      },
                      "name": "이항분포 샘플",
                      "opacity": 0.7,
                      "type": "bar",
                      "x": {
                        "bdata": "RERERET8bEDNzMzMzHRtQFZVVVVV7W1A3t3d3d1lbkBmZmZmZt5uQO/u7u7uVm9AeHd3d3fPb0AAAAAAACRwQEREREREYHBAiIiIiIiccEDNzMzMzNhwQBERERERFXFAVlVVVVVRcUCamZmZmY1xQN7d3d3dyXFAIiIiIiIGckBmZmZmZkJyQKqqqqqqfnJA7+7u7u66ckAzMzMzM/dyQHh3d3d3M3NAvLu7u7tvc0AAAAAAAKxzQERERERE6HNAiIiIiIgkdEDNzMzMzGB0QBERERERnXRAVlVVVVXZdECamZmZmRV1QN7d3d3dUXVA",
                        "dtype": "f8"
                      },
                      "y": {
                        "bdata": "qBcF45rWGz/jFwXjmtb7PkOAE3yKIzM/qfpbAam/RT9wnbxdfDpJP+rRQyr04GQ/yS7jzSBmcT/wh4cyDDt+PxqdyK+xBIE/n5FNaLlyjj8AiTabPLCUP9mRUxHUV5o/fKACi3KQlj8ZWozAgECdPyCSTWi5cp4/05jTGYs5nT8O+bjqrRSXP+LMVD3o+ow/xNpgoIuIij8QCGhkTE2DP9yIMPIhy3g/2AQiN1b3ZT/cYcHagnxiP2gjdNhdnkY/fnSkhsdbOD/mdKSGx1soP+MXBeOa1gs/bRcF45rWCz/jFwXjmtb7PuMXBeOa1vs+",
                        "dtype": "f8"
                      }
                    },
                    {
                      "line": {
                        "color": "red",
                        "dash": "dash"
                      },
                      "mode": "lines",
                      "name": "정규근사",
                      "type": "scatter",
                      "x": {
                        "bdata": "RERERET8bEDNzMzMzHRtQFZVVVVV7W1A3t3d3d1lbkBmZmZmZt5uQO/u7u7uVm9AeHd3d3fPb0AAAAAAACRwQEREREREYHBAiIiIiIiccEDNzMzMzNhwQBERERERFXFAVlVVVVVRcUCamZmZmY1xQN7d3d3dyXFAIiIiIiIGckBmZmZmZkJyQKqqqqqqfnJA7+7u7u66ckAzMzMzM/dyQHh3d3d3M3NAvLu7u7tvc0AAAAAAAKxzQERERERE6HNAiIiIiIgkdEDNzMzMzGB0QBERERERnXRAVlVVVVXZdECamZmZmRV1QN7d3d3dUXVA",
                        "dtype": "f8"
                      },
                      "y": {
                        "bdata": "9+Gqyi6yCT8pDsf5HyAgPzuyEere1TI/Bc2+cpp5RD8w2aH3t7ZUP4Q7B1OCgGM/1id/KHcWcT+udC1IOt57P9XQAN0UJoU/yrsaXXvfjT9G2LrJhqKTPxRf/5FoBZg/RajcA2VZmz/HrN0cmPqcP3dDzTGCk5w/Fs3m9pA5mj/hpOzc3mWWP3QagXWEzZE/mc93no5Wij+RjuZqsiGCP3M9ZzGkO3c/18TS8ny0az9Pk/ftJr9eP/uQzQSAwU8/0L5QXgiGPj/HzsON7E0rPzziS6AYuxY/s0xgx2ucAT/NS0hob2XpPoxQOBalCtE+",
                        "dtype": "f8"
                      }
                    }
                  ],
                  "name": "n=940"
                },
                {
                  "data": [
                    {
                      "marker": {
                        "color": "blue"
                      },
                      "name": "이항분포 샘플",
                      "opacity": 0.7,
                      "type": "bar",
                      "x": {
                        "bdata": "VlVVVVWdbEAAAAAAABhtQKqqqqqqkm1AVlVVVVUNbkAAAAAAAIhuQKqqqqqqAm9AVlVVVVV9b0AAAAAAAPhvQFZVVVVVOXBAqqqqqqp2cEAAAAAAALRwQFZVVVVV8XBAqqqqqqoucUAAAAAAAGxxQFZVVVVVqXFAqqqqqqrmcUAAAAAAACRyQFZVVVVVYXJAq6qqqqqeckAAAAAAANxyQFZVVVVVGXNAq6qqqqpWc0AAAAAAAJRzQFZVVVVV0XNAq6qqqqoOdEAAAAAAAEx0QFZVVVVViXRAq6qqqqrGdEAAAAAAAAR1QFZVVVVVQXVA",
                        "dtype": "f8"
                      },
                      "y": {
                        "bdata": "zoh2AKpaCz8GiXYAqlr7PprmWID/gxQ/51mFQP/FLj+Y8X2gVBA9P20DZHB/FEc/51mFQP/FXj8lKnukNGxsP1JGbbiUN3k/3lVQN/KJgj+Wen32+fSMP0HJfPfxy4w/DtPkGV5Elz/qsHepDJ+bP3rR+qSwV5w/3Cx+9QEenT8F0fqksFecP1XfT42XbpI/q3XTMpZCkz8xzcWboxuQP7P5VyxKTYQ/CyBvYP+keT/I70voFIZxP049elB/NVw/b+ZYgP+DVD/F5liA/4NEP8XmWID/gzQ/XRVKQKoYIT8GiXYAqlr7PgaJdgCqWvs+",
                        "dtype": "f8"
                      }
                    },
                    {
                      "line": {
                        "color": "red",
                        "dash": "dash"
                      },
                      "mode": "lines",
                      "name": "정규근사",
                      "type": "scatter",
                      "x": {
                        "bdata": "VlVVVVWdbEAAAAAAABhtQKqqqqqqkm1AVlVVVVUNbkAAAAAAAIhuQKqqqqqqAm9AVlVVVVV9b0AAAAAAAPhvQFZVVVVVOXBAqqqqqqp2cEAAAAAAALRwQFZVVVVV8XBAqqqqqqoucUAAAAAAAGxxQFZVVVVVqXFAqqqqqqrmcUAAAAAAACRyQFZVVVVVYXJAq6qqqqqeckAAAAAAANxyQFZVVVVVGXNAq6qqqqpWc0AAAAAAAJRzQFZVVVVV0XNAq6qqqqoOdEAAAAAAAEx0QFZVVVVViXRAq6qqqqrGdEAAAAAAAAR1QFZVVVVVQXVA",
                        "dtype": "f8"
                      },
                      "y": {
                        "bdata": "2MmWLPFV5j6jNrwbGJ//PsL/7CJbyxQ/B1JrcSZoKT8UQJyrj9Y8P+DE46GTaE4/c7ViR5vJXT+I8MfzcxtrP3bEODed6nY/MvWS6HT/gT8HVJzSNEOKPyu6VQDwzJE/JIgELKtqlj+5s0s4rjmaP/4H/lqegJw/HCKlvQ7HnD98oM2H//2aPxgcOGYQhZc/D3rvKPAJkz/YxWnBaKKMPwhIbV0JAYQ/R86d8Az3eT+LwszSJU9vP/N5sp1EiWE/Cue+0sM/Uj/VFF38dKRBP33RwjOHsC8/ma/NQY5wGj+R2+2gOn4EP8i7hU8Yg+0+",
                        "dtype": "f8"
                      }
                    }
                  ],
                  "name": "n=950"
                },
                {
                  "data": [
                    {
                      "marker": {
                        "color": "blue"
                      },
                      "name": "이항분포 샘플",
                      "opacity": 0.7,
                      "type": "bar",
                      "x": {
                        "bdata": "vLu7u7u7bEAzMzMzMzNtQKqqqqqqqm1AIiIiIiIibkCamZmZmZluQBEREREREW9AiIiIiIiIb0AAAAAAAABwQLy7u7u7O3BAeHd3d3d3cEAzMzMzM7NwQO/u7u7u7nBAqqqqqqoqcUBmZmZmZmZxQCIiIiIionFA3t3d3d3dcUCamZmZmRlyQFZVVVVVVXJAERERERGRckDNzMzMzMxyQIiIiIiICHNAREREREREc0AAAAAAAIBzQLy7u7u7u3NAeHd3d3f3c0AzMzMzMzN0QO/u7u7ubnRAqqqqqqqqdEBmZmZmZuZ0QCIiIiIiInVA",
                        "dtype": "f8"
                      },
                      "y": {
                        "bdata": "8P4LRTwWDD8AAAAAAAAAADT/yDOtECU/B//IM60QFT8kvxn4ENI2PybfT42XbkI/JL8Z+BDSVj84N4lBYOVgP6h2vp8aL20/Nm/PcTHFej/9XvEVX/GFP/DWo3A9Coc/ZNv5fmq8lD/Yrn6tzQOZPwf/yDOtEJU/o92e42KKnT+Zt6SnCV2ePyqduNtzXJw/KUGj9l8okj8MVddgX66UPxfJdr6fGo8/944FB7hhhj/3jgUHuGF2Px0zMzMzM3M/V48FB7hhZj/ODqePf+RZPwf/yDOtEEU/fH8nq+WNMT/efmq8dJMoPwf/yDOtEBU/",
                        "dtype": "f8"
                      }
                    },
                    {
                      "line": {
                        "color": "red",
                        "dash": "dash"
                      },
                      "mode": "lines",
                      "name": "정규근사",
                      "type": "scatter",
                      "x": {
                        "bdata": "vLu7u7u7bEAzMzMzMzNtQKqqqqqqqm1AIiIiIiIibkCamZmZmZluQBEREREREW9AiIiIiIiIb0AAAAAAAABwQLy7u7u7O3BAeHd3d3d3cEAzMzMzM7NwQO/u7u7u7nBAqqqqqqoqcUBmZmZmZmZxQCIiIiIionFA3t3d3d3dcUCamZmZmRlyQFZVVVVVVXJAERERERGRckDNzMzMzMxyQIiIiIiICHNAREREREREc0AAAAAAAIBzQLy7u7u7u3NAeHd3d3f3c0AzMzMzMzN0QO/u7u7ubnRAqqqqqqqqdEBmZmZmZuZ0QCIiIiIiInVA",
                        "dtype": "f8"
                      },
                      "y": {
                        "bdata": "D7hi8an92j7dPNrg5SDzPvLO/g09TQk/2BmNfEY7Hz9Tfp1f6vwxPzu2qXQbVkM/WiFJZLhlUz/sEVw7oChiP3bilHIpum8/GultXJvdeT+O6GXpq62DP/vEAdw18Ys/FpWhOFSDkj/ymDd6ieSWP+JqgTvlapo/Du6VDN9ynD/G/M3O7JacP8gNvhLVz5o/QI0t/Ap3lz8ZvoCsBSqTP5aI2TRNNo0/pGIUSuTGhD+tuFWqo5R7Pyuf2NNSFXE/QH0P7bq/Yz980a+XMk5VP5CblpgDc0U/X43wj80mND+sViaF7qohP1dGoZ8X6Qw/",
                        "dtype": "f8"
                      }
                    }
                  ],
                  "name": "n=960"
                },
                {
                  "data": [
                    {
                      "marker": {
                        "color": "blue"
                      },
                      "name": "이항분포 샘플",
                      "opacity": 0.7,
                      "type": "bar",
                      "x": {
                        "bdata": "AAAAAADYbUAAAAAAAEhuQAAAAAAAuG5AAAAAAAAob0AAAAAAAJhvQAAAAAAABHBAAAAAAAA8cEAAAAAAAHRwQAAAAAAArHBAAAAAAADkcEAAAAAAABxxQAAAAAAAVHFAAAAAAACMcUAAAAAAAMRxQAAAAAAA/HFAAAAAAAA0ckAAAAAAAGxyQAAAAAAApHJAAAAAAADcckAAAAAAABRzQAAAAAAATHNAAAAAAACEc0AAAAAAALxzQAAAAAAA9HNAAAAAAAAsdEAAAAAAAGR0QAAAAAAAnHRAAAAAAADUdEAAAAAAAAx1QAAAAAAARHVA",
                        "dtype": "f8"
                      },
                      "y": {
                        "bdata": "fLr7npX1DT98uvuelfUNPy1DHOviNio/5phtKSTaMD+FhyyRiVdIP45UXYN9uVI/LUMc6+I2aj/OXGJpIYNpP5WcVLZMx34/CpSS4TcDfz/ecYqO5PKPP10JoNcdTo8/9a5+rc0DmT9bY1KAadOVP2epd/VrbZ4/rNlI1TXYlz81t4OTcc2fPyLQnaE6WpY/e+dUczs4mT+ufq3NA5mPPypF7qivqo0//Knx0k1igD9CrlI9WESAP7hL3r/3+mk/b3ao51/PaD81EE3d1phUP1llJD42R0k/5phtKSTaMD98uvuelfUtP45UXYN9uSI/",
                        "dtype": "f8"
                      }
                    },
                    {
                      "line": {
                        "color": "red",
                        "dash": "dash"
                      },
                      "mode": "lines",
                      "name": "정규근사",
                      "type": "scatter",
                      "x": {
                        "bdata": "AAAAAADYbUAAAAAAAEhuQAAAAAAAuG5AAAAAAAAob0AAAAAAAJhvQAAAAAAABHBAAAAAAAA8cEAAAAAAAHRwQAAAAAAArHBAAAAAAADkcEAAAAAAABxxQAAAAAAAVHFAAAAAAACMcUAAAAAAAMRxQAAAAAAA/HFAAAAAAAA0ckAAAAAAAGxyQAAAAAAApHJAAAAAAADcckAAAAAAABRzQAAAAAAATHNAAAAAAACEc0AAAAAAALxzQAAAAAAA9HNAAAAAAAAsdEAAAAAAAGR0QAAAAAAAnHRAAAAAAADUdEAAAAAAAAx1QAAAAAAARHVA",
                        "dtype": "f8"
                      },
                      "y": {
                        "bdata": "94g31YEEAj/ct3R1KXQVP2I0HQTlDSg/mb6zklplOT8cItTIWj9JPy1Sv56Molc/og0wJ4bVZD8BeTjNEUtxP7Avi9dlCHs/4MBmRkrlgz/PHV+OkpOLP8jA/3vs/pE/nqLhqNIdlj8QvGqzJ5iZP3I3JC7x45s/dP8zZlqenD+nFIF53aabPwpbVWmJKJk/H9/ylsONlT8WTXOsTGORP93lezu/aoo/fBQ1sWblgj8dcgxLfXR5Pxty6SMGJXA/59uZhq1IYz8caNv4cbBVP9aKRnmH+EY/SpIdooDoNj+EmcLOK4MlPz14gY/FBRM/",
                        "dtype": "f8"
                      }
                    }
                  ],
                  "name": "n=970"
                },
                {
                  "data": [
                    {
                      "marker": {
                        "color": "blue"
                      },
                      "name": "이항분포 샘플",
                      "opacity": 0.7,
                      "type": "bar",
                      "x": {
                        "bdata": "zczMzMwcbkBmZmZmZpZuQAAAAAAAEG9AmpmZmZmJb0CamZmZmQFwQGZmZmZmPnBANDMzMzN7cEAAAAAAALhwQMzMzMzM9HBAmpmZmZkxcUBmZmZmZm5xQDQzMzMzq3FAAAAAAADocUDMzMzMzCRyQJqZmZmZYXJAZmZmZmaeckA0MzMzM9tyQAAAAAAAGHNAzMzMzMxUc0CamZmZmZFzQGZmZmZmznNANDMzMzMLdEAAAAAAAEh0QMzMzMzMhHRAmpmZmZnBdEBmZmZmZv50QDQzMzMzO3VAAAAAAAB4dUDMzMzMzLR1QJqZmZmZ8XVA",
                        "dtype": "f8"
                      },
                      "y": {
                        "bdata": "tLs+dhGyFD8qpVNIF5gbP++kU0gXmAs/KqVTSBeYOz8WRzSNDj9BP1EwSV8UJVg/m9fZjURcaD/y0rLTDK94P6QCYaQdK4A//gj0mGN8gj9PPLD7l5KQP2+noo0y/ZU/tTLrtikbnD9stTSxzEOdP9UfaPZeeZY/scnQmav4mz8NyZp8pKaaP16C7x6XSpQ/Tzyw+5eSkD8VoQ+Z7KuDP4FS7juMPYM/nSMjdoiCcz8C2NmNRFxoP1tWMuu2KVs/jB78u1DVQz8C9sPqkms2P++kU0gXmCs/ZKVTSBeY+z4AAAAAAAAAAO+kU0gXmPs+",
                        "dtype": "f8"
                      }
                    },
                    {
                      "line": {
                        "color": "red",
                        "dash": "dash"
                      },
                      "mode": "lines",
                      "name": "정규근사",
                      "type": "scatter",
                      "x": {
                        "bdata": "zczMzMwcbkBmZmZmZpZuQAAAAAAAEG9AmpmZmZmJb0CamZmZmQFwQGZmZmZmPnBANDMzMzN7cEAAAAAAALhwQMzMzMzM9HBAmpmZmZkxcUBmZmZmZm5xQDQzMzMzq3FAAAAAAADocUDMzMzMzCRyQJqZmZmZYXJAZmZmZmaeckA0MzMzM9tyQAAAAAAAGHNAzMzMzMxUc0CamZmZmZFzQGZmZmZmznNANDMzMzMLdEAAAAAAAEh0QMzMzMzMhHRAmpmZmZnBdEBmZmZmZv50QDQzMzMzO3VAAAAAAAB4dUDMzMzMzLR1QJqZmZmZ8XVA",
                        "dtype": "f8"
                      },
                      "y": {
                        "bdata": "5ZkcmOjh/j4MK/ooD98TP5+0CdXx1ic/A9L/EJWpOj8PmqDjhMxLP3632vwVBVs/22avYKx7aD9KBxK8Z650Pxb/9lg6SYA/1XIq52nphz+vndWuVl2QP6PUqMWa4ZQ/eB/cTc/WmD80yXYBhIubP7q8eLDReZw/KjQe6YVxmz9FhgWQBKiYP0EJ73+1ppQ/JpjA++gfkD/vyCb6a3mHPwZ2rpm6238/cyME/0sndD9RR0bkNsVnP5BHhJD3Ilo/BH8LlIHKSj8zk1uu3pk5PyMtCP9lziY/c/QaPpzwEj9AwxTWjVP9PsZW1E16KuU+",
                        "dtype": "f8"
                      }
                    }
                  ],
                  "name": "n=980"
                },
                {
                  "data": [
                    {
                      "marker": {
                        "color": "blue"
                      },
                      "name": "이항분포 샘플",
                      "opacity": 0.7,
                      "type": "bar",
                      "x": {
                        "bdata": "3t3d3d29bUCamZmZmTluQFVVVVVVtW5AERERERExb0DNzMzMzKxvQEREREREFHBAIiIiIiJScEAAAAAAAJBwQN7d3d3dzXBAvLu7u7sLcUCamZmZmUlxQHd3d3d3h3FAVVVVVVXFcUAzMzMzMwNyQBERERERQXJA7+7u7u5+ckDNzMzMzLxyQKuqqqqq+nJAiYiIiIg4c0BmZmZmZnZzQEREREREtHNAIiIiIiLyc0AAAAAAADB0QN7d3d3dbXRAvLu7u7urdECamZmZmel0QHd3d3d3J3VAVVVVVVVldUAzMzMzM6N1QBERERER4XVA",
                        "dtype": "f8"
                      },
                      "y": {
                        "bdata": "ICK82Ese+z5YIrzYSx77PgAAAAAAAAAAICK82Ese+z6XGY3iuFY0P0RB9nlZRUo/7Wae9Vo4Uj/+XzAbZ2xZP1OVdWfv8nA/2q+9stV+fD/QY2cIYdKFP/13/OGAx48/B/ozIHjjkz/BFnUW8jyZP6DFqTwdkpM/0QlUyjfanj85tVEDacmcP4551mvhSJg/DjWQlswXlz/FgERG1RSRP2QXlDcliYo/ukzZg60Pgj/LpBI4doZwP6gehetRuG4/27VwJJwVXj/2h5myB1tPP2V2O8bhy0E/U5V1Z+/yID8gIrzYSx4LPyAivNhLHgs/",
                        "dtype": "f8"
                      }
                    },
                    {
                      "line": {
                        "color": "red",
                        "dash": "dash"
                      },
                      "mode": "lines",
                      "name": "정규근사",
                      "type": "scatter",
                      "x": {
                        "bdata": "3t3d3d29bUCamZmZmTluQFVVVVVVtW5AERERERExb0DNzMzMzKxvQEREREREFHBAIiIiIiJScEAAAAAAAJBwQN7d3d3dzXBAvLu7u7sLcUCamZmZmUlxQHd3d3d3h3FAVVVVVVXFcUAzMzMzMwNyQBERERERQXJA7+7u7u5+ckDNzMzMzLxyQKuqqqqq+nJAiYiIiIg4c0BmZmZmZnZzQEREREREtHNAIiIiIiLyc0AAAAAAADB0QN7d3d3dbXRAvLu7u7urdECamZmZmel0QHd3d3d3J3VAVVVVVVVldUAzMzMzM6N1QBERERER4XVA",
                        "dtype": "f8"
                      },
                      "y": {
                        "bdata": "j+1je6BW2j7XYBL+Hg7zPuXAj0adqAk/AzWFgpgTID9NKPlUbb8yP5K8TZSDWEQ/Kr8i3j6MVD+5ZGiM209jPwszhUQU5HA/MVDHmiF/ez/DMIUu59OEPw46B+H5XI0/6EeD5BNDkz+6QkhBlISXP4ZUM9a6uJo/Ai/RwkNBnD9fZtN6m82bP6AmKmLOdZk/xAyLnWSylT87r0Fn7zSRP6KMw/3lZYk/qzFtXZZxgT/dJESSZ0x2PxjVzKHDhmo/hYzavMpdXT+6/jbPJUFOP3RXl8+wAT0/zxCnB2XhKT9R5ThcKX0VP048qRO+mgA/",
                        "dtype": "f8"
                      }
                    }
                  ],
                  "name": "n=990"
                },
                {
                  "data": [
                    {
                      "marker": {
                        "color": "blue"
                      },
                      "name": "이항분포 샘플",
                      "opacity": 0.7,
                      "type": "bar",
                      "x": {
                        "bdata": "VlVVVVXdbkAAAAAAAFhvQKqqqqqq0m9AqqqqqqomcEAAAAAAAGRwQFZVVVVVoXBAqqqqqqrecEAAAAAAABxxQFZVVVVVWXFAqqqqqqqWcUAAAAAAANRxQFZVVVVVEXJAqqqqqqpOckAAAAAAAIxyQFZVVVVVyXJAqqqqqqoGc0AAAAAAAERzQFZVVVVVgXNAq6qqqqq+c0AAAAAAAPxzQFZVVVVVOXRAq6qqqqp2dEAAAAAAALR0QFZVVVVV8XRAq6qqqqoudUAAAAAAAGx1QFZVVVVVqXVAq6qqqqrmdUAAAAAAACR2QFZVVVVVYXZA",
                        "dtype": "f8"
                      },
                      "y": {
                        "bdata": "zoh2AKpa+z4GiXYAqlobP4AVSkCqGCE/diBvYP+kOT9/70voFIZRPzJ1Xng/zFU/mvpwCGoSaj+A01nUtLp0P8xoT+M8U4I/K2N4qBTIiz/lBE7lLAGSP6hWxfFIAJA/loFtDUJFmT+NwP5JM0CdP/kUeacc8Zs/Otd1AaIxmz/G8mcVAv2XP+XXRpovWZA/1J5Jlk/9kD8ZBmfBTMaHP4A7SJg/q4A/grdnwFTvdz8fiF0kipVlP+ClgfAp600/HfF9oFQQTT+kFUpAqhhBPwaJdgCqWhs/b+ZYgP+DFD8AAAAAAAAAAAaJdgCqWgs/",
                        "dtype": "f8"
                      }
                    },
                    {
                      "line": {
                        "color": "red",
                        "dash": "dash"
                      },
                      "mode": "lines",
                      "name": "정규근사",
                      "type": "scatter",
                      "x": {
                        "bdata": "VlVVVVXdbkAAAAAAAFhvQKqqqqqq0m9AqqqqqqomcEAAAAAAAGRwQFZVVVVVoXBAqqqqqqrecEAAAAAAABxxQFZVVVVVWXFAqqqqqqqWcUAAAAAAANRxQFZVVVVVEXJAqqqqqqpOckAAAAAAAIxyQFZVVVVVyXJAqqqqqqoGc0AAAAAAAERzQFZVVVVVgXNAq6qqqqq+c0AAAAAAAPxzQFZVVVVVOXRAq6qqqqp2dEAAAAAAALR0QFZVVVVV8XRAq6qqqqoudUAAAAAAAGx1QFZVVVVVqXVAq6qqqqrmdUAAAAAAACR2QFZVVVVVYXZA",
                        "dtype": "f8"
                      },
                      "y": {
                        "bdata": "ipyggceaAT/T7dXdGGYWPwp9n42Ykio/bKUBws1kPT+YutyXKFFOP6p9WpjzJ10/3yKzZwQlaj+0L6AvG9x1PwAlLUrBCoE/qYyxNrzGiD86/0OeDsuQP4N9T3DjOZU/1u71Vx0EmT+jFtXDf32bP7KxnS/iKpw/y5ADBTbpmj/2uJz5EvmXP43rvrSU6ZM/B89k2wLYjj+utvH3EEaGP3Z0UTHg/n0/O3LWOxPVcj/Zj2t5kgxmPz0ItqoaElg/EJIY0nWASD9wyfJ3TEE3P2BTyxqElCQ/y3Ad8mb7ED/mzMwWySH6PlrYVOFFv+I+",
                        "dtype": "f8"
                      }
                    }
                  ],
                  "name": "n=1000"
                }
              ],
              "layout": {
                "bargap": 0.1,
                "sliders": [
                  {
                    "currentvalue": {
                      "prefix": "샘플 크기(n): "
                    },
                    "pad": {
                      "t": 50
                    },
                    "steps": [
                      {
                        "args": [
                          [
                            "n=10"
                          ],
                          {
                            "frame": {
                              "duration": 0,
                              "redraw": true
                            },
                            "mode": "immediate"
                          }
                        ],
                        "label": "10",
                        "method": "animate"
                      },
                      {
                        "args": [
                          [
                            "n=20"
                          ],
                          {
                            "frame": {
                              "duration": 0,
                              "redraw": true
                            },
                            "mode": "immediate"
                          }
                        ],
                        "label": "20",
                        "method": "animate"
                      },
                      {
                        "args": [
                          [
                            "n=30"
                          ],
                          {
                            "frame": {
                              "duration": 0,
                              "redraw": true
                            },
                            "mode": "immediate"
                          }
                        ],
                        "label": "30",
                        "method": "animate"
                      },
                      {
                        "args": [
                          [
                            "n=40"
                          ],
                          {
                            "frame": {
                              "duration": 0,
                              "redraw": true
                            },
                            "mode": "immediate"
                          }
                        ],
                        "label": "40",
                        "method": "animate"
                      },
                      {
                        "args": [
                          [
                            "n=50"
                          ],
                          {
                            "frame": {
                              "duration": 0,
                              "redraw": true
                            },
                            "mode": "immediate"
                          }
                        ],
                        "label": "50",
                        "method": "animate"
                      },
                      {
                        "args": [
                          [
                            "n=60"
                          ],
                          {
                            "frame": {
                              "duration": 0,
                              "redraw": true
                            },
                            "mode": "immediate"
                          }
                        ],
                        "label": "60",
                        "method": "animate"
                      },
                      {
                        "args": [
                          [
                            "n=70"
                          ],
                          {
                            "frame": {
                              "duration": 0,
                              "redraw": true
                            },
                            "mode": "immediate"
                          }
                        ],
                        "label": "70",
                        "method": "animate"
                      },
                      {
                        "args": [
                          [
                            "n=80"
                          ],
                          {
                            "frame": {
                              "duration": 0,
                              "redraw": true
                            },
                            "mode": "immediate"
                          }
                        ],
                        "label": "80",
                        "method": "animate"
                      },
                      {
                        "args": [
                          [
                            "n=90"
                          ],
                          {
                            "frame": {
                              "duration": 0,
                              "redraw": true
                            },
                            "mode": "immediate"
                          }
                        ],
                        "label": "90",
                        "method": "animate"
                      },
                      {
                        "args": [
                          [
                            "n=100"
                          ],
                          {
                            "frame": {
                              "duration": 0,
                              "redraw": true
                            },
                            "mode": "immediate"
                          }
                        ],
                        "label": "100",
                        "method": "animate"
                      },
                      {
                        "args": [
                          [
                            "n=110"
                          ],
                          {
                            "frame": {
                              "duration": 0,
                              "redraw": true
                            },
                            "mode": "immediate"
                          }
                        ],
                        "label": "110",
                        "method": "animate"
                      },
                      {
                        "args": [
                          [
                            "n=120"
                          ],
                          {
                            "frame": {
                              "duration": 0,
                              "redraw": true
                            },
                            "mode": "immediate"
                          }
                        ],
                        "label": "120",
                        "method": "animate"
                      },
                      {
                        "args": [
                          [
                            "n=130"
                          ],
                          {
                            "frame": {
                              "duration": 0,
                              "redraw": true
                            },
                            "mode": "immediate"
                          }
                        ],
                        "label": "130",
                        "method": "animate"
                      },
                      {
                        "args": [
                          [
                            "n=140"
                          ],
                          {
                            "frame": {
                              "duration": 0,
                              "redraw": true
                            },
                            "mode": "immediate"
                          }
                        ],
                        "label": "140",
                        "method": "animate"
                      },
                      {
                        "args": [
                          [
                            "n=150"
                          ],
                          {
                            "frame": {
                              "duration": 0,
                              "redraw": true
                            },
                            "mode": "immediate"
                          }
                        ],
                        "label": "150",
                        "method": "animate"
                      },
                      {
                        "args": [
                          [
                            "n=160"
                          ],
                          {
                            "frame": {
                              "duration": 0,
                              "redraw": true
                            },
                            "mode": "immediate"
                          }
                        ],
                        "label": "160",
                        "method": "animate"
                      },
                      {
                        "args": [
                          [
                            "n=170"
                          ],
                          {
                            "frame": {
                              "duration": 0,
                              "redraw": true
                            },
                            "mode": "immediate"
                          }
                        ],
                        "label": "170",
                        "method": "animate"
                      },
                      {
                        "args": [
                          [
                            "n=180"
                          ],
                          {
                            "frame": {
                              "duration": 0,
                              "redraw": true
                            },
                            "mode": "immediate"
                          }
                        ],
                        "label": "180",
                        "method": "animate"
                      },
                      {
                        "args": [
                          [
                            "n=190"
                          ],
                          {
                            "frame": {
                              "duration": 0,
                              "redraw": true
                            },
                            "mode": "immediate"
                          }
                        ],
                        "label": "190",
                        "method": "animate"
                      },
                      {
                        "args": [
                          [
                            "n=200"
                          ],
                          {
                            "frame": {
                              "duration": 0,
                              "redraw": true
                            },
                            "mode": "immediate"
                          }
                        ],
                        "label": "200",
                        "method": "animate"
                      },
                      {
                        "args": [
                          [
                            "n=210"
                          ],
                          {
                            "frame": {
                              "duration": 0,
                              "redraw": true
                            },
                            "mode": "immediate"
                          }
                        ],
                        "label": "210",
                        "method": "animate"
                      },
                      {
                        "args": [
                          [
                            "n=220"
                          ],
                          {
                            "frame": {
                              "duration": 0,
                              "redraw": true
                            },
                            "mode": "immediate"
                          }
                        ],
                        "label": "220",
                        "method": "animate"
                      },
                      {
                        "args": [
                          [
                            "n=230"
                          ],
                          {
                            "frame": {
                              "duration": 0,
                              "redraw": true
                            },
                            "mode": "immediate"
                          }
                        ],
                        "label": "230",
                        "method": "animate"
                      },
                      {
                        "args": [
                          [
                            "n=240"
                          ],
                          {
                            "frame": {
                              "duration": 0,
                              "redraw": true
                            },
                            "mode": "immediate"
                          }
                        ],
                        "label": "240",
                        "method": "animate"
                      },
                      {
                        "args": [
                          [
                            "n=250"
                          ],
                          {
                            "frame": {
                              "duration": 0,
                              "redraw": true
                            },
                            "mode": "immediate"
                          }
                        ],
                        "label": "250",
                        "method": "animate"
                      },
                      {
                        "args": [
                          [
                            "n=260"
                          ],
                          {
                            "frame": {
                              "duration": 0,
                              "redraw": true
                            },
                            "mode": "immediate"
                          }
                        ],
                        "label": "260",
                        "method": "animate"
                      },
                      {
                        "args": [
                          [
                            "n=270"
                          ],
                          {
                            "frame": {
                              "duration": 0,
                              "redraw": true
                            },
                            "mode": "immediate"
                          }
                        ],
                        "label": "270",
                        "method": "animate"
                      },
                      {
                        "args": [
                          [
                            "n=280"
                          ],
                          {
                            "frame": {
                              "duration": 0,
                              "redraw": true
                            },
                            "mode": "immediate"
                          }
                        ],
                        "label": "280",
                        "method": "animate"
                      },
                      {
                        "args": [
                          [
                            "n=290"
                          ],
                          {
                            "frame": {
                              "duration": 0,
                              "redraw": true
                            },
                            "mode": "immediate"
                          }
                        ],
                        "label": "290",
                        "method": "animate"
                      },
                      {
                        "args": [
                          [
                            "n=300"
                          ],
                          {
                            "frame": {
                              "duration": 0,
                              "redraw": true
                            },
                            "mode": "immediate"
                          }
                        ],
                        "label": "300",
                        "method": "animate"
                      },
                      {
                        "args": [
                          [
                            "n=310"
                          ],
                          {
                            "frame": {
                              "duration": 0,
                              "redraw": true
                            },
                            "mode": "immediate"
                          }
                        ],
                        "label": "310",
                        "method": "animate"
                      },
                      {
                        "args": [
                          [
                            "n=320"
                          ],
                          {
                            "frame": {
                              "duration": 0,
                              "redraw": true
                            },
                            "mode": "immediate"
                          }
                        ],
                        "label": "320",
                        "method": "animate"
                      },
                      {
                        "args": [
                          [
                            "n=330"
                          ],
                          {
                            "frame": {
                              "duration": 0,
                              "redraw": true
                            },
                            "mode": "immediate"
                          }
                        ],
                        "label": "330",
                        "method": "animate"
                      },
                      {
                        "args": [
                          [
                            "n=340"
                          ],
                          {
                            "frame": {
                              "duration": 0,
                              "redraw": true
                            },
                            "mode": "immediate"
                          }
                        ],
                        "label": "340",
                        "method": "animate"
                      },
                      {
                        "args": [
                          [
                            "n=350"
                          ],
                          {
                            "frame": {
                              "duration": 0,
                              "redraw": true
                            },
                            "mode": "immediate"
                          }
                        ],
                        "label": "350",
                        "method": "animate"
                      },
                      {
                        "args": [
                          [
                            "n=360"
                          ],
                          {
                            "frame": {
                              "duration": 0,
                              "redraw": true
                            },
                            "mode": "immediate"
                          }
                        ],
                        "label": "360",
                        "method": "animate"
                      },
                      {
                        "args": [
                          [
                            "n=370"
                          ],
                          {
                            "frame": {
                              "duration": 0,
                              "redraw": true
                            },
                            "mode": "immediate"
                          }
                        ],
                        "label": "370",
                        "method": "animate"
                      },
                      {
                        "args": [
                          [
                            "n=380"
                          ],
                          {
                            "frame": {
                              "duration": 0,
                              "redraw": true
                            },
                            "mode": "immediate"
                          }
                        ],
                        "label": "380",
                        "method": "animate"
                      },
                      {
                        "args": [
                          [
                            "n=390"
                          ],
                          {
                            "frame": {
                              "duration": 0,
                              "redraw": true
                            },
                            "mode": "immediate"
                          }
                        ],
                        "label": "390",
                        "method": "animate"
                      },
                      {
                        "args": [
                          [
                            "n=400"
                          ],
                          {
                            "frame": {
                              "duration": 0,
                              "redraw": true
                            },
                            "mode": "immediate"
                          }
                        ],
                        "label": "400",
                        "method": "animate"
                      },
                      {
                        "args": [
                          [
                            "n=410"
                          ],
                          {
                            "frame": {
                              "duration": 0,
                              "redraw": true
                            },
                            "mode": "immediate"
                          }
                        ],
                        "label": "410",
                        "method": "animate"
                      },
                      {
                        "args": [
                          [
                            "n=420"
                          ],
                          {
                            "frame": {
                              "duration": 0,
                              "redraw": true
                            },
                            "mode": "immediate"
                          }
                        ],
                        "label": "420",
                        "method": "animate"
                      },
                      {
                        "args": [
                          [
                            "n=430"
                          ],
                          {
                            "frame": {
                              "duration": 0,
                              "redraw": true
                            },
                            "mode": "immediate"
                          }
                        ],
                        "label": "430",
                        "method": "animate"
                      },
                      {
                        "args": [
                          [
                            "n=440"
                          ],
                          {
                            "frame": {
                              "duration": 0,
                              "redraw": true
                            },
                            "mode": "immediate"
                          }
                        ],
                        "label": "440",
                        "method": "animate"
                      },
                      {
                        "args": [
                          [
                            "n=450"
                          ],
                          {
                            "frame": {
                              "duration": 0,
                              "redraw": true
                            },
                            "mode": "immediate"
                          }
                        ],
                        "label": "450",
                        "method": "animate"
                      },
                      {
                        "args": [
                          [
                            "n=460"
                          ],
                          {
                            "frame": {
                              "duration": 0,
                              "redraw": true
                            },
                            "mode": "immediate"
                          }
                        ],
                        "label": "460",
                        "method": "animate"
                      },
                      {
                        "args": [
                          [
                            "n=470"
                          ],
                          {
                            "frame": {
                              "duration": 0,
                              "redraw": true
                            },
                            "mode": "immediate"
                          }
                        ],
                        "label": "470",
                        "method": "animate"
                      },
                      {
                        "args": [
                          [
                            "n=480"
                          ],
                          {
                            "frame": {
                              "duration": 0,
                              "redraw": true
                            },
                            "mode": "immediate"
                          }
                        ],
                        "label": "480",
                        "method": "animate"
                      },
                      {
                        "args": [
                          [
                            "n=490"
                          ],
                          {
                            "frame": {
                              "duration": 0,
                              "redraw": true
                            },
                            "mode": "immediate"
                          }
                        ],
                        "label": "490",
                        "method": "animate"
                      },
                      {
                        "args": [
                          [
                            "n=500"
                          ],
                          {
                            "frame": {
                              "duration": 0,
                              "redraw": true
                            },
                            "mode": "immediate"
                          }
                        ],
                        "label": "500",
                        "method": "animate"
                      },
                      {
                        "args": [
                          [
                            "n=510"
                          ],
                          {
                            "frame": {
                              "duration": 0,
                              "redraw": true
                            },
                            "mode": "immediate"
                          }
                        ],
                        "label": "510",
                        "method": "animate"
                      },
                      {
                        "args": [
                          [
                            "n=520"
                          ],
                          {
                            "frame": {
                              "duration": 0,
                              "redraw": true
                            },
                            "mode": "immediate"
                          }
                        ],
                        "label": "520",
                        "method": "animate"
                      },
                      {
                        "args": [
                          [
                            "n=530"
                          ],
                          {
                            "frame": {
                              "duration": 0,
                              "redraw": true
                            },
                            "mode": "immediate"
                          }
                        ],
                        "label": "530",
                        "method": "animate"
                      },
                      {
                        "args": [
                          [
                            "n=540"
                          ],
                          {
                            "frame": {
                              "duration": 0,
                              "redraw": true
                            },
                            "mode": "immediate"
                          }
                        ],
                        "label": "540",
                        "method": "animate"
                      },
                      {
                        "args": [
                          [
                            "n=550"
                          ],
                          {
                            "frame": {
                              "duration": 0,
                              "redraw": true
                            },
                            "mode": "immediate"
                          }
                        ],
                        "label": "550",
                        "method": "animate"
                      },
                      {
                        "args": [
                          [
                            "n=560"
                          ],
                          {
                            "frame": {
                              "duration": 0,
                              "redraw": true
                            },
                            "mode": "immediate"
                          }
                        ],
                        "label": "560",
                        "method": "animate"
                      },
                      {
                        "args": [
                          [
                            "n=570"
                          ],
                          {
                            "frame": {
                              "duration": 0,
                              "redraw": true
                            },
                            "mode": "immediate"
                          }
                        ],
                        "label": "570",
                        "method": "animate"
                      },
                      {
                        "args": [
                          [
                            "n=580"
                          ],
                          {
                            "frame": {
                              "duration": 0,
                              "redraw": true
                            },
                            "mode": "immediate"
                          }
                        ],
                        "label": "580",
                        "method": "animate"
                      },
                      {
                        "args": [
                          [
                            "n=590"
                          ],
                          {
                            "frame": {
                              "duration": 0,
                              "redraw": true
                            },
                            "mode": "immediate"
                          }
                        ],
                        "label": "590",
                        "method": "animate"
                      },
                      {
                        "args": [
                          [
                            "n=600"
                          ],
                          {
                            "frame": {
                              "duration": 0,
                              "redraw": true
                            },
                            "mode": "immediate"
                          }
                        ],
                        "label": "600",
                        "method": "animate"
                      },
                      {
                        "args": [
                          [
                            "n=610"
                          ],
                          {
                            "frame": {
                              "duration": 0,
                              "redraw": true
                            },
                            "mode": "immediate"
                          }
                        ],
                        "label": "610",
                        "method": "animate"
                      },
                      {
                        "args": [
                          [
                            "n=620"
                          ],
                          {
                            "frame": {
                              "duration": 0,
                              "redraw": true
                            },
                            "mode": "immediate"
                          }
                        ],
                        "label": "620",
                        "method": "animate"
                      },
                      {
                        "args": [
                          [
                            "n=630"
                          ],
                          {
                            "frame": {
                              "duration": 0,
                              "redraw": true
                            },
                            "mode": "immediate"
                          }
                        ],
                        "label": "630",
                        "method": "animate"
                      },
                      {
                        "args": [
                          [
                            "n=640"
                          ],
                          {
                            "frame": {
                              "duration": 0,
                              "redraw": true
                            },
                            "mode": "immediate"
                          }
                        ],
                        "label": "640",
                        "method": "animate"
                      },
                      {
                        "args": [
                          [
                            "n=650"
                          ],
                          {
                            "frame": {
                              "duration": 0,
                              "redraw": true
                            },
                            "mode": "immediate"
                          }
                        ],
                        "label": "650",
                        "method": "animate"
                      },
                      {
                        "args": [
                          [
                            "n=660"
                          ],
                          {
                            "frame": {
                              "duration": 0,
                              "redraw": true
                            },
                            "mode": "immediate"
                          }
                        ],
                        "label": "660",
                        "method": "animate"
                      },
                      {
                        "args": [
                          [
                            "n=670"
                          ],
                          {
                            "frame": {
                              "duration": 0,
                              "redraw": true
                            },
                            "mode": "immediate"
                          }
                        ],
                        "label": "670",
                        "method": "animate"
                      },
                      {
                        "args": [
                          [
                            "n=680"
                          ],
                          {
                            "frame": {
                              "duration": 0,
                              "redraw": true
                            },
                            "mode": "immediate"
                          }
                        ],
                        "label": "680",
                        "method": "animate"
                      },
                      {
                        "args": [
                          [
                            "n=690"
                          ],
                          {
                            "frame": {
                              "duration": 0,
                              "redraw": true
                            },
                            "mode": "immediate"
                          }
                        ],
                        "label": "690",
                        "method": "animate"
                      },
                      {
                        "args": [
                          [
                            "n=700"
                          ],
                          {
                            "frame": {
                              "duration": 0,
                              "redraw": true
                            },
                            "mode": "immediate"
                          }
                        ],
                        "label": "700",
                        "method": "animate"
                      },
                      {
                        "args": [
                          [
                            "n=710"
                          ],
                          {
                            "frame": {
                              "duration": 0,
                              "redraw": true
                            },
                            "mode": "immediate"
                          }
                        ],
                        "label": "710",
                        "method": "animate"
                      },
                      {
                        "args": [
                          [
                            "n=720"
                          ],
                          {
                            "frame": {
                              "duration": 0,
                              "redraw": true
                            },
                            "mode": "immediate"
                          }
                        ],
                        "label": "720",
                        "method": "animate"
                      },
                      {
                        "args": [
                          [
                            "n=730"
                          ],
                          {
                            "frame": {
                              "duration": 0,
                              "redraw": true
                            },
                            "mode": "immediate"
                          }
                        ],
                        "label": "730",
                        "method": "animate"
                      },
                      {
                        "args": [
                          [
                            "n=740"
                          ],
                          {
                            "frame": {
                              "duration": 0,
                              "redraw": true
                            },
                            "mode": "immediate"
                          }
                        ],
                        "label": "740",
                        "method": "animate"
                      },
                      {
                        "args": [
                          [
                            "n=750"
                          ],
                          {
                            "frame": {
                              "duration": 0,
                              "redraw": true
                            },
                            "mode": "immediate"
                          }
                        ],
                        "label": "750",
                        "method": "animate"
                      },
                      {
                        "args": [
                          [
                            "n=760"
                          ],
                          {
                            "frame": {
                              "duration": 0,
                              "redraw": true
                            },
                            "mode": "immediate"
                          }
                        ],
                        "label": "760",
                        "method": "animate"
                      },
                      {
                        "args": [
                          [
                            "n=770"
                          ],
                          {
                            "frame": {
                              "duration": 0,
                              "redraw": true
                            },
                            "mode": "immediate"
                          }
                        ],
                        "label": "770",
                        "method": "animate"
                      },
                      {
                        "args": [
                          [
                            "n=780"
                          ],
                          {
                            "frame": {
                              "duration": 0,
                              "redraw": true
                            },
                            "mode": "immediate"
                          }
                        ],
                        "label": "780",
                        "method": "animate"
                      },
                      {
                        "args": [
                          [
                            "n=790"
                          ],
                          {
                            "frame": {
                              "duration": 0,
                              "redraw": true
                            },
                            "mode": "immediate"
                          }
                        ],
                        "label": "790",
                        "method": "animate"
                      },
                      {
                        "args": [
                          [
                            "n=800"
                          ],
                          {
                            "frame": {
                              "duration": 0,
                              "redraw": true
                            },
                            "mode": "immediate"
                          }
                        ],
                        "label": "800",
                        "method": "animate"
                      },
                      {
                        "args": [
                          [
                            "n=810"
                          ],
                          {
                            "frame": {
                              "duration": 0,
                              "redraw": true
                            },
                            "mode": "immediate"
                          }
                        ],
                        "label": "810",
                        "method": "animate"
                      },
                      {
                        "args": [
                          [
                            "n=820"
                          ],
                          {
                            "frame": {
                              "duration": 0,
                              "redraw": true
                            },
                            "mode": "immediate"
                          }
                        ],
                        "label": "820",
                        "method": "animate"
                      },
                      {
                        "args": [
                          [
                            "n=830"
                          ],
                          {
                            "frame": {
                              "duration": 0,
                              "redraw": true
                            },
                            "mode": "immediate"
                          }
                        ],
                        "label": "830",
                        "method": "animate"
                      },
                      {
                        "args": [
                          [
                            "n=840"
                          ],
                          {
                            "frame": {
                              "duration": 0,
                              "redraw": true
                            },
                            "mode": "immediate"
                          }
                        ],
                        "label": "840",
                        "method": "animate"
                      },
                      {
                        "args": [
                          [
                            "n=850"
                          ],
                          {
                            "frame": {
                              "duration": 0,
                              "redraw": true
                            },
                            "mode": "immediate"
                          }
                        ],
                        "label": "850",
                        "method": "animate"
                      },
                      {
                        "args": [
                          [
                            "n=860"
                          ],
                          {
                            "frame": {
                              "duration": 0,
                              "redraw": true
                            },
                            "mode": "immediate"
                          }
                        ],
                        "label": "860",
                        "method": "animate"
                      },
                      {
                        "args": [
                          [
                            "n=870"
                          ],
                          {
                            "frame": {
                              "duration": 0,
                              "redraw": true
                            },
                            "mode": "immediate"
                          }
                        ],
                        "label": "870",
                        "method": "animate"
                      },
                      {
                        "args": [
                          [
                            "n=880"
                          ],
                          {
                            "frame": {
                              "duration": 0,
                              "redraw": true
                            },
                            "mode": "immediate"
                          }
                        ],
                        "label": "880",
                        "method": "animate"
                      },
                      {
                        "args": [
                          [
                            "n=890"
                          ],
                          {
                            "frame": {
                              "duration": 0,
                              "redraw": true
                            },
                            "mode": "immediate"
                          }
                        ],
                        "label": "890",
                        "method": "animate"
                      },
                      {
                        "args": [
                          [
                            "n=900"
                          ],
                          {
                            "frame": {
                              "duration": 0,
                              "redraw": true
                            },
                            "mode": "immediate"
                          }
                        ],
                        "label": "900",
                        "method": "animate"
                      },
                      {
                        "args": [
                          [
                            "n=910"
                          ],
                          {
                            "frame": {
                              "duration": 0,
                              "redraw": true
                            },
                            "mode": "immediate"
                          }
                        ],
                        "label": "910",
                        "method": "animate"
                      },
                      {
                        "args": [
                          [
                            "n=920"
                          ],
                          {
                            "frame": {
                              "duration": 0,
                              "redraw": true
                            },
                            "mode": "immediate"
                          }
                        ],
                        "label": "920",
                        "method": "animate"
                      },
                      {
                        "args": [
                          [
                            "n=930"
                          ],
                          {
                            "frame": {
                              "duration": 0,
                              "redraw": true
                            },
                            "mode": "immediate"
                          }
                        ],
                        "label": "930",
                        "method": "animate"
                      },
                      {
                        "args": [
                          [
                            "n=940"
                          ],
                          {
                            "frame": {
                              "duration": 0,
                              "redraw": true
                            },
                            "mode": "immediate"
                          }
                        ],
                        "label": "940",
                        "method": "animate"
                      },
                      {
                        "args": [
                          [
                            "n=950"
                          ],
                          {
                            "frame": {
                              "duration": 0,
                              "redraw": true
                            },
                            "mode": "immediate"
                          }
                        ],
                        "label": "950",
                        "method": "animate"
                      },
                      {
                        "args": [
                          [
                            "n=960"
                          ],
                          {
                            "frame": {
                              "duration": 0,
                              "redraw": true
                            },
                            "mode": "immediate"
                          }
                        ],
                        "label": "960",
                        "method": "animate"
                      },
                      {
                        "args": [
                          [
                            "n=970"
                          ],
                          {
                            "frame": {
                              "duration": 0,
                              "redraw": true
                            },
                            "mode": "immediate"
                          }
                        ],
                        "label": "970",
                        "method": "animate"
                      },
                      {
                        "args": [
                          [
                            "n=980"
                          ],
                          {
                            "frame": {
                              "duration": 0,
                              "redraw": true
                            },
                            "mode": "immediate"
                          }
                        ],
                        "label": "980",
                        "method": "animate"
                      },
                      {
                        "args": [
                          [
                            "n=990"
                          ],
                          {
                            "frame": {
                              "duration": 0,
                              "redraw": true
                            },
                            "mode": "immediate"
                          }
                        ],
                        "label": "990",
                        "method": "animate"
                      },
                      {
                        "args": [
                          [
                            "n=1000"
                          ],
                          {
                            "frame": {
                              "duration": 0,
                              "redraw": true
                            },
                            "mode": "immediate"
                          }
                        ],
                        "label": "1000",
                        "method": "animate"
                      }
                    ]
                  }
                ],
                "template": {
                  "data": {
                    "bar": [
                      {
                        "error_x": {
                          "color": "#2a3f5f"
                        },
                        "error_y": {
                          "color": "#2a3f5f"
                        },
                        "marker": {
                          "line": {
                            "color": "#E5ECF6",
                            "width": 0.5
                          },
                          "pattern": {
                            "fillmode": "overlay",
                            "size": 10,
                            "solidity": 0.2
                          }
                        },
                        "type": "bar"
                      }
                    ],
                    "barpolar": [
                      {
                        "marker": {
                          "line": {
                            "color": "#E5ECF6",
                            "width": 0.5
                          },
                          "pattern": {
                            "fillmode": "overlay",
                            "size": 10,
                            "solidity": 0.2
                          }
                        },
                        "type": "barpolar"
                      }
                    ],
                    "carpet": [
                      {
                        "aaxis": {
                          "endlinecolor": "#2a3f5f",
                          "gridcolor": "white",
                          "linecolor": "white",
                          "minorgridcolor": "white",
                          "startlinecolor": "#2a3f5f"
                        },
                        "baxis": {
                          "endlinecolor": "#2a3f5f",
                          "gridcolor": "white",
                          "linecolor": "white",
                          "minorgridcolor": "white",
                          "startlinecolor": "#2a3f5f"
                        },
                        "type": "carpet"
                      }
                    ],
                    "choropleth": [
                      {
                        "colorbar": {
                          "outlinewidth": 0,
                          "ticks": ""
                        },
                        "type": "choropleth"
                      }
                    ],
                    "contour": [
                      {
                        "colorbar": {
                          "outlinewidth": 0,
                          "ticks": ""
                        },
                        "colorscale": [
                          [
                            0,
                            "#0d0887"
                          ],
                          [
                            0.1111111111111111,
                            "#46039f"
                          ],
                          [
                            0.2222222222222222,
                            "#7201a8"
                          ],
                          [
                            0.3333333333333333,
                            "#9c179e"
                          ],
                          [
                            0.4444444444444444,
                            "#bd3786"
                          ],
                          [
                            0.5555555555555556,
                            "#d8576b"
                          ],
                          [
                            0.6666666666666666,
                            "#ed7953"
                          ],
                          [
                            0.7777777777777778,
                            "#fb9f3a"
                          ],
                          [
                            0.8888888888888888,
                            "#fdca26"
                          ],
                          [
                            1,
                            "#f0f921"
                          ]
                        ],
                        "type": "contour"
                      }
                    ],
                    "contourcarpet": [
                      {
                        "colorbar": {
                          "outlinewidth": 0,
                          "ticks": ""
                        },
                        "type": "contourcarpet"
                      }
                    ],
                    "heatmap": [
                      {
                        "colorbar": {
                          "outlinewidth": 0,
                          "ticks": ""
                        },
                        "colorscale": [
                          [
                            0,
                            "#0d0887"
                          ],
                          [
                            0.1111111111111111,
                            "#46039f"
                          ],
                          [
                            0.2222222222222222,
                            "#7201a8"
                          ],
                          [
                            0.3333333333333333,
                            "#9c179e"
                          ],
                          [
                            0.4444444444444444,
                            "#bd3786"
                          ],
                          [
                            0.5555555555555556,
                            "#d8576b"
                          ],
                          [
                            0.6666666666666666,
                            "#ed7953"
                          ],
                          [
                            0.7777777777777778,
                            "#fb9f3a"
                          ],
                          [
                            0.8888888888888888,
                            "#fdca26"
                          ],
                          [
                            1,
                            "#f0f921"
                          ]
                        ],
                        "type": "heatmap"
                      }
                    ],
                    "histogram": [
                      {
                        "marker": {
                          "pattern": {
                            "fillmode": "overlay",
                            "size": 10,
                            "solidity": 0.2
                          }
                        },
                        "type": "histogram"
                      }
                    ],
                    "histogram2d": [
                      {
                        "colorbar": {
                          "outlinewidth": 0,
                          "ticks": ""
                        },
                        "colorscale": [
                          [
                            0,
                            "#0d0887"
                          ],
                          [
                            0.1111111111111111,
                            "#46039f"
                          ],
                          [
                            0.2222222222222222,
                            "#7201a8"
                          ],
                          [
                            0.3333333333333333,
                            "#9c179e"
                          ],
                          [
                            0.4444444444444444,
                            "#bd3786"
                          ],
                          [
                            0.5555555555555556,
                            "#d8576b"
                          ],
                          [
                            0.6666666666666666,
                            "#ed7953"
                          ],
                          [
                            0.7777777777777778,
                            "#fb9f3a"
                          ],
                          [
                            0.8888888888888888,
                            "#fdca26"
                          ],
                          [
                            1,
                            "#f0f921"
                          ]
                        ],
                        "type": "histogram2d"
                      }
                    ],
                    "histogram2dcontour": [
                      {
                        "colorbar": {
                          "outlinewidth": 0,
                          "ticks": ""
                        },
                        "colorscale": [
                          [
                            0,
                            "#0d0887"
                          ],
                          [
                            0.1111111111111111,
                            "#46039f"
                          ],
                          [
                            0.2222222222222222,
                            "#7201a8"
                          ],
                          [
                            0.3333333333333333,
                            "#9c179e"
                          ],
                          [
                            0.4444444444444444,
                            "#bd3786"
                          ],
                          [
                            0.5555555555555556,
                            "#d8576b"
                          ],
                          [
                            0.6666666666666666,
                            "#ed7953"
                          ],
                          [
                            0.7777777777777778,
                            "#fb9f3a"
                          ],
                          [
                            0.8888888888888888,
                            "#fdca26"
                          ],
                          [
                            1,
                            "#f0f921"
                          ]
                        ],
                        "type": "histogram2dcontour"
                      }
                    ],
                    "mesh3d": [
                      {
                        "colorbar": {
                          "outlinewidth": 0,
                          "ticks": ""
                        },
                        "type": "mesh3d"
                      }
                    ],
                    "parcoords": [
                      {
                        "line": {
                          "colorbar": {
                            "outlinewidth": 0,
                            "ticks": ""
                          }
                        },
                        "type": "parcoords"
                      }
                    ],
                    "pie": [
                      {
                        "automargin": true,
                        "type": "pie"
                      }
                    ],
                    "scatter": [
                      {
                        "fillpattern": {
                          "fillmode": "overlay",
                          "size": 10,
                          "solidity": 0.2
                        },
                        "type": "scatter"
                      }
                    ],
                    "scatter3d": [
                      {
                        "line": {
                          "colorbar": {
                            "outlinewidth": 0,
                            "ticks": ""
                          }
                        },
                        "marker": {
                          "colorbar": {
                            "outlinewidth": 0,
                            "ticks": ""
                          }
                        },
                        "type": "scatter3d"
                      }
                    ],
                    "scattercarpet": [
                      {
                        "marker": {
                          "colorbar": {
                            "outlinewidth": 0,
                            "ticks": ""
                          }
                        },
                        "type": "scattercarpet"
                      }
                    ],
                    "scattergeo": [
                      {
                        "marker": {
                          "colorbar": {
                            "outlinewidth": 0,
                            "ticks": ""
                          }
                        },
                        "type": "scattergeo"
                      }
                    ],
                    "scattergl": [
                      {
                        "marker": {
                          "colorbar": {
                            "outlinewidth": 0,
                            "ticks": ""
                          }
                        },
                        "type": "scattergl"
                      }
                    ],
                    "scattermap": [
                      {
                        "marker": {
                          "colorbar": {
                            "outlinewidth": 0,
                            "ticks": ""
                          }
                        },
                        "type": "scattermap"
                      }
                    ],
                    "scattermapbox": [
                      {
                        "marker": {
                          "colorbar": {
                            "outlinewidth": 0,
                            "ticks": ""
                          }
                        },
                        "type": "scattermapbox"
                      }
                    ],
                    "scatterpolar": [
                      {
                        "marker": {
                          "colorbar": {
                            "outlinewidth": 0,
                            "ticks": ""
                          }
                        },
                        "type": "scatterpolar"
                      }
                    ],
                    "scatterpolargl": [
                      {
                        "marker": {
                          "colorbar": {
                            "outlinewidth": 0,
                            "ticks": ""
                          }
                        },
                        "type": "scatterpolargl"
                      }
                    ],
                    "scatterternary": [
                      {
                        "marker": {
                          "colorbar": {
                            "outlinewidth": 0,
                            "ticks": ""
                          }
                        },
                        "type": "scatterternary"
                      }
                    ],
                    "surface": [
                      {
                        "colorbar": {
                          "outlinewidth": 0,
                          "ticks": ""
                        },
                        "colorscale": [
                          [
                            0,
                            "#0d0887"
                          ],
                          [
                            0.1111111111111111,
                            "#46039f"
                          ],
                          [
                            0.2222222222222222,
                            "#7201a8"
                          ],
                          [
                            0.3333333333333333,
                            "#9c179e"
                          ],
                          [
                            0.4444444444444444,
                            "#bd3786"
                          ],
                          [
                            0.5555555555555556,
                            "#d8576b"
                          ],
                          [
                            0.6666666666666666,
                            "#ed7953"
                          ],
                          [
                            0.7777777777777778,
                            "#fb9f3a"
                          ],
                          [
                            0.8888888888888888,
                            "#fdca26"
                          ],
                          [
                            1,
                            "#f0f921"
                          ]
                        ],
                        "type": "surface"
                      }
                    ],
                    "table": [
                      {
                        "cells": {
                          "fill": {
                            "color": "#EBF0F8"
                          },
                          "line": {
                            "color": "white"
                          }
                        },
                        "header": {
                          "fill": {
                            "color": "#C8D4E3"
                          },
                          "line": {
                            "color": "white"
                          }
                        },
                        "type": "table"
                      }
                    ]
                  },
                  "layout": {
                    "annotationdefaults": {
                      "arrowcolor": "#2a3f5f",
                      "arrowhead": 0,
                      "arrowwidth": 1
                    },
                    "autotypenumbers": "strict",
                    "coloraxis": {
                      "colorbar": {
                        "outlinewidth": 0,
                        "ticks": ""
                      }
                    },
                    "colorscale": {
                      "diverging": [
                        [
                          0,
                          "#8e0152"
                        ],
                        [
                          0.1,
                          "#c51b7d"
                        ],
                        [
                          0.2,
                          "#de77ae"
                        ],
                        [
                          0.3,
                          "#f1b6da"
                        ],
                        [
                          0.4,
                          "#fde0ef"
                        ],
                        [
                          0.5,
                          "#f7f7f7"
                        ],
                        [
                          0.6,
                          "#e6f5d0"
                        ],
                        [
                          0.7,
                          "#b8e186"
                        ],
                        [
                          0.8,
                          "#7fbc41"
                        ],
                        [
                          0.9,
                          "#4d9221"
                        ],
                        [
                          1,
                          "#276419"
                        ]
                      ],
                      "sequential": [
                        [
                          0,
                          "#0d0887"
                        ],
                        [
                          0.1111111111111111,
                          "#46039f"
                        ],
                        [
                          0.2222222222222222,
                          "#7201a8"
                        ],
                        [
                          0.3333333333333333,
                          "#9c179e"
                        ],
                        [
                          0.4444444444444444,
                          "#bd3786"
                        ],
                        [
                          0.5555555555555556,
                          "#d8576b"
                        ],
                        [
                          0.6666666666666666,
                          "#ed7953"
                        ],
                        [
                          0.7777777777777778,
                          "#fb9f3a"
                        ],
                        [
                          0.8888888888888888,
                          "#fdca26"
                        ],
                        [
                          1,
                          "#f0f921"
                        ]
                      ],
                      "sequentialminus": [
                        [
                          0,
                          "#0d0887"
                        ],
                        [
                          0.1111111111111111,
                          "#46039f"
                        ],
                        [
                          0.2222222222222222,
                          "#7201a8"
                        ],
                        [
                          0.3333333333333333,
                          "#9c179e"
                        ],
                        [
                          0.4444444444444444,
                          "#bd3786"
                        ],
                        [
                          0.5555555555555556,
                          "#d8576b"
                        ],
                        [
                          0.6666666666666666,
                          "#ed7953"
                        ],
                        [
                          0.7777777777777778,
                          "#fb9f3a"
                        ],
                        [
                          0.8888888888888888,
                          "#fdca26"
                        ],
                        [
                          1,
                          "#f0f921"
                        ]
                      ]
                    },
                    "colorway": [
                      "#636efa",
                      "#EF553B",
                      "#00cc96",
                      "#ab63fa",
                      "#FFA15A",
                      "#19d3f3",
                      "#FF6692",
                      "#B6E880",
                      "#FF97FF",
                      "#FECB52"
                    ],
                    "font": {
                      "color": "#2a3f5f"
                    },
                    "geo": {
                      "bgcolor": "white",
                      "lakecolor": "white",
                      "landcolor": "#E5ECF6",
                      "showlakes": true,
                      "showland": true,
                      "subunitcolor": "white"
                    },
                    "hoverlabel": {
                      "align": "left"
                    },
                    "hovermode": "closest",
                    "mapbox": {
                      "style": "light"
                    },
                    "paper_bgcolor": "white",
                    "plot_bgcolor": "#E5ECF6",
                    "polar": {
                      "angularaxis": {
                        "gridcolor": "white",
                        "linecolor": "white",
                        "ticks": ""
                      },
                      "bgcolor": "#E5ECF6",
                      "radialaxis": {
                        "gridcolor": "white",
                        "linecolor": "white",
                        "ticks": ""
                      }
                    },
                    "scene": {
                      "xaxis": {
                        "backgroundcolor": "#E5ECF6",
                        "gridcolor": "white",
                        "gridwidth": 2,
                        "linecolor": "white",
                        "showbackground": true,
                        "ticks": "",
                        "zerolinecolor": "white"
                      },
                      "yaxis": {
                        "backgroundcolor": "#E5ECF6",
                        "gridcolor": "white",
                        "gridwidth": 2,
                        "linecolor": "white",
                        "showbackground": true,
                        "ticks": "",
                        "zerolinecolor": "white"
                      },
                      "zaxis": {
                        "backgroundcolor": "#E5ECF6",
                        "gridcolor": "white",
                        "gridwidth": 2,
                        "linecolor": "white",
                        "showbackground": true,
                        "ticks": "",
                        "zerolinecolor": "white"
                      }
                    },
                    "shapedefaults": {
                      "line": {
                        "color": "#2a3f5f"
                      }
                    },
                    "ternary": {
                      "aaxis": {
                        "gridcolor": "white",
                        "linecolor": "white",
                        "ticks": ""
                      },
                      "baxis": {
                        "gridcolor": "white",
                        "linecolor": "white",
                        "ticks": ""
                      },
                      "bgcolor": "#E5ECF6",
                      "caxis": {
                        "gridcolor": "white",
                        "linecolor": "white",
                        "ticks": ""
                      }
                    },
                    "title": {
                      "x": 0.05
                    },
                    "xaxis": {
                      "automargin": true,
                      "gridcolor": "white",
                      "linecolor": "white",
                      "ticks": "",
                      "title": {
                        "standoff": 15
                      },
                      "zerolinecolor": "white",
                      "zerolinewidth": 2
                    },
                    "yaxis": {
                      "automargin": true,
                      "gridcolor": "white",
                      "linecolor": "white",
                      "ticks": "",
                      "title": {
                        "standoff": 15
                      },
                      "zerolinecolor": "white",
                      "zerolinewidth": 2
                    }
                  }
                },
                "title": {
                  "text": "이항분포 샘플과 정규근사"
                },
                "updatemenus": [
                  {
                    "buttons": [
                      {
                        "args": [
                          null,
                          {
                            "frame": {
                              "duration": 100,
                              "redraw": true
                            },
                            "fromcurrent": true,
                            "mode": "immediate"
                          }
                        ],
                        "label": "재생",
                        "method": "animate"
                      },
                      {
                        "args": [
                          [
                            null
                          ],
                          {
                            "frame": {
                              "duration": 0,
                              "redraw": true
                            },
                            "mode": "immediate",
                            "transition": {
                              "duration": 0
                            }
                          }
                        ],
                        "label": "정지",
                        "method": "animate"
                      }
                    ],
                    "direction": "left",
                    "showactive": false,
                    "type": "buttons",
                    "x": 0.1,
                    "y": 1.1
                  }
                ],
                "xaxis": {
                  "title": {
                    "text": "성공 횟수 (예: 구매 횟수)"
                  }
                },
                "yaxis": {
                  "title": {
                    "text": "확률(밀도)"
                  }
                }
              }
            }
          },
          "metadata": {},
          "output_type": "display_data"
        }
      ],
      "source": [
        "import numpy as np\n",
        "import plotly.graph_objects as go\n",
        "from plotly.subplots import make_subplots\n",
        "from scipy.stats import norm, binom\n",
        "\n",
        "# 초기 설정\n",
        "p_conversion = 0.3  # 예: 특정 행동을 할 확률\n",
        "sample_sizes_clt = np.arange(10, 1001, 10)  # 10부터 1000까지 10단위로 증가\n",
        "num_simulations = 10000  # 각 샘플 크기별 시뮬레이션 횟수\n",
        "\n",
        "# Plotly Figure 생성\n",
        "fig_clt = go.Figure()\n",
        "\n",
        "# 프레임 생성\n",
        "frames = []\n",
        "for n_sample in sample_sizes_clt:\n",
        "    # 이항분포의 평균과 표준편차\n",
        "    mu_binom = n_sample * p_conversion\n",
        "    sigma_binom = np.sqrt(n_sample * p_conversion * (1 - p_conversion))\n",
        "    \n",
        "    # 이항분포에서 샘플 생성\n",
        "    samples = binom.rvs(n=n_sample, p=p_conversion, size=num_simulations)\n",
        "    \n",
        "    # 히스토그램 데이터 생성\n",
        "    hist_values, bin_edges = np.histogram(samples, bins=30, density=True)\n",
        "    bin_centers = (bin_edges[:-1] + bin_edges[1:]) / 2\n",
        "\n",
        "    # 정규분포 근사 PDF\n",
        "    norm_approx_values = norm.pdf(bin_centers, mu_binom, sigma_binom)\n",
        "\n",
        "    frame = go.Frame(\n",
        "        data=[\n",
        "            go.Bar(x=bin_centers, y=hist_values, name='이항분포 샘플', \n",
        "                  marker_color='blue', opacity=0.7),\n",
        "            go.Scatter(x=bin_centers, y=norm_approx_values, name='정규근사',\n",
        "                      mode='lines', line=dict(color='red', dash='dash'))\n",
        "        ],\n",
        "        name=f'n={n_sample}'\n",
        "    )\n",
        "    frames.append(frame)\n",
        "\n",
        "# 초기 프레임 추가\n",
        "n_sample = sample_sizes_clt[0]\n",
        "mu_binom = n_sample * p_conversion\n",
        "sigma_binom = np.sqrt(n_sample * p_conversion * (1 - p_conversion))\n",
        "samples = binom.rvs(n=n_sample, p=p_conversion, size=num_simulations)\n",
        "hist_values, bin_edges = np.histogram(samples, bins=30, density=True)\n",
        "bin_centers = (bin_edges[:-1] + bin_edges[1:]) / 2\n",
        "norm_approx_values = norm.pdf(bin_centers, mu_binom, sigma_binom)\n",
        "\n",
        "fig_clt.add_trace(go.Bar(\n",
        "    x=bin_centers, y=hist_values,\n",
        "    name='이항분포 샘플',\n",
        "    marker_color='blue', opacity=0.7\n",
        "))\n",
        "fig_clt.add_trace(go.Scatter(\n",
        "    x=bin_centers, y=norm_approx_values,\n",
        "    name='정규근사',\n",
        "    mode='lines', line=dict(color='red', dash='dash')\n",
        "))\n",
        "\n",
        "# 애니메이션 버튼 추가\n",
        "fig_clt.update_layout(\n",
        "    updatemenus=[\n",
        "        dict(\n",
        "            type=\"buttons\",\n",
        "            direction=\"left\",\n",
        "            x=0.1,\n",
        "            y=1.1,\n",
        "            showactive=False,\n",
        "            buttons=list([\n",
        "                dict(\n",
        "                    args=[None, {\"frame\": {\"duration\": 100, \"redraw\": True},\n",
        "                                \"fromcurrent\": True, \"mode\": \"immediate\"}],\n",
        "                    label=\"재생\",\n",
        "                    method=\"animate\"\n",
        "                ),\n",
        "                dict(\n",
        "                    args=[[None], {\"frame\": {\"duration\": 0, \"redraw\": True},\n",
        "                                  \"mode\": \"immediate\",\n",
        "                                  \"transition\": {\"duration\": 0}}],\n",
        "                    label=\"정지\",\n",
        "                    method=\"animate\"\n",
        "                )\n",
        "            ])\n",
        "        )\n",
        "    ],\n",
        "    sliders=[dict(\n",
        "        currentvalue={\"prefix\": \"샘플 크기(n): \"},\n",
        "        pad={\"t\": 50},\n",
        "        steps=[dict(\n",
        "            method=\"animate\",\n",
        "            args=[[f\"n={n}\"], {\"frame\": {\"duration\": 0, \"redraw\": True},\n",
        "                              \"mode\": \"immediate\"}],\n",
        "            label=str(n)\n",
        "        ) for n in sample_sizes_clt]\n",
        "    )]\n",
        ")\n",
        "\n",
        "# 프레임 추가\n",
        "fig_clt.frames = frames\n",
        "\n",
        "# 레이아웃 업데이트\n",
        "fig_clt.update_layout(\n",
        "    title_text=\"이항분포 샘플과 정규근사\",\n",
        "    xaxis_title=\"성공 횟수 (예: 구매 횟수)\",\n",
        "    yaxis_title=\"확률(밀도)\",\n",
        "    bargap=0.1\n",
        ")\n",
        "\n",
        "fig_clt.show()\n",
        "# 샘플 사이즈가 커지며 정규분포에 근사하게 됨"
      ]
    },
    {
      "cell_type": "markdown",
      "metadata": {
        "id": "oWi7yMBq_zvm"
      },
      "source": [
        "**4. 1종 오류와 2종 오류 시각화**\n",
        "\n",
        "MDE, 유의수준, 표준편차에 따라 1종 오류($\\alpha$)와 2종 오류($\\beta$) 영역이 어떻게 변하는지 시각화합니다."
      ]
    },
    {
      "cell_type": "code",
      "execution_count": 15,
      "metadata": {
        "id": "G11n9dJr_zvm"
      },
      "outputs": [],
      "source": [
        "import plotly.graph_objects as go\n",
        "import numpy as np\n",
        "from scipy.stats import norm\n",
        "\n",
        "def plot_error_types(mu_null=0, mu_alt=1, sigma=1, alpha_level=0.05, title_suffix=\"\"):\n",
        "    x_min = min(mu_null, mu_alt) - 4 * sigma\n",
        "    x_max = max(mu_null, mu_alt) + 4 * sigma\n",
        "    x = np.linspace(x_min, x_max, 1000)\n",
        "\n",
        "    pdf_null = norm.pdf(x, mu_null, sigma)\n",
        "    pdf_alt = norm.pdf(x, mu_alt, sigma)\n",
        "\n",
        "    fig_error = go.Figure()\n",
        "\n",
        "    fig_error.add_trace(go.Scatter(x=x, y=pdf_null, mode='lines', name='H0 분포 (귀무 가설)', line=dict(color='blue')))\n",
        "    fig_error.add_trace(go.Scatter(x=x, y=pdf_alt, mode='lines', name='H1 분포 (대립 가설)', line=dict(color='red')))\n",
        "\n",
        "    # 임계값 (양측 검정의 경우, 여기서는 단측 검정 (H1: mu_alt > mu_null) 예시)\n",
        "    critical_value = norm.ppf(1 - alpha_level, mu_null, sigma)\n",
        "\n",
        "    # 1종 오류 (Alpha) 영역\n",
        "    x_alpha = np.linspace(critical_value, x_max, 200)\n",
        "    y_alpha_fill = norm.pdf(x_alpha, mu_null, sigma)\n",
        "    fig_error.add_trace(go.Scatter(x=np.concatenate([x_alpha, x_alpha[::-1]]),\n",
        "                                 y=np.concatenate([y_alpha_fill, np.zeros_like(y_alpha_fill)]),\n",
        "                                 fill='toself', fillcolor='rgba(0,0,255,0.2)', line=dict(color='rgba(255,255,255,0)'),\n",
        "                                 name=f'1종 오류 (α = {alpha_level})'))\n",
        "\n",
        "    # 2종 오류 (Beta) 영역\n",
        "    x_beta = np.linspace(x_min, critical_value, 200)\n",
        "    y_beta_fill = norm.pdf(x_beta, mu_alt, sigma)\n",
        "    fig_error.add_trace(go.Scatter(x=np.concatenate([x_beta, x_beta[::-1]]),\n",
        "                                 y=np.concatenate([y_beta_fill, np.zeros_like(y_beta_fill)]),\n",
        "                                 fill='toself', fillcolor='rgba(255,0,0,0.2)', line=dict(color='rgba(255,255,255,0)'),\n",
        "                                 name='2종 오류 (β)'))\n",
        "\n",
        "    fig_error.add_vline(x=critical_value, line_width=2, line_dash=\"dash\", line_color=\"green\", name=\"임계값\")\n",
        "\n",
        "    power_val = 1 - norm.cdf(critical_value, mu_alt, sigma) # 실제 베타값의 반대 (검정력)\n",
        "    beta_val = norm.cdf(critical_value, mu_alt, sigma)\n",
        "\n",
        "    fig_error.update_layout(\n",
        "        title_text=f'1종 및 2종 오류 시각화 {title_suffix}<br>α={alpha_level:.2f}, β={beta_val:.2f}, Power={power_val:.2f}',\n",
        "        xaxis_title='테스트 통계량',\n",
        "        yaxis_title='확률 밀도'\n",
        "    )\n",
        "    return fig_error\n"
      ]
    },
    {
      "cell_type": "code",
      "execution_count": 6,
      "metadata": {},
      "outputs": [
        {
          "data": {
            "application/vnd.plotly.v1+json": {
              "config": {
                "plotlyServerURL": "https://plot.ly"
              },
              "data": [
                {
                  "line": {
                    "color": "blue"
                  },
                  "mode": "lines",
                  "name": "H0 분포 (귀무 가설)",
                  "type": "scatter",
                  "x": {
                    "bdata": "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",
                    "dtype": "f8"
                  },
                  "y": {
                    "bdata": "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",
                    "dtype": "f8"
                  }
                },
                {
                  "line": {
                    "color": "red"
                  },
                  "mode": "lines",
                  "name": "H1 분포 (대립 가설)",
                  "type": "scatter",
                  "x": {
                    "bdata": "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",
                    "dtype": "f8"
                  },
                  "y": {
                    "bdata": "xgs9U5rC8D6vp8Ul6GnxPu8QijNmF/I+T477lUvL8j7sYw4u0YXzPg/+nrExR/Q+ruMvuakP9T7IUgLOd9/1Pqdui3jctvY+FfJHTxqW9z6TWfAFdn34PjWDD302bfk+lMj90aRl+j5sm0JvDGf7PkW2Xh27cfw+rPYAFAGG/T55AKgLMaT+PhnKsk+gzP8+6x5xaNN/AD8eDyeczx4BP12yZ31zwwE/rShxNu9tAj/KOIFrdB4DP11xQUU21QM/w4xye2mSBD+NQdhfRFYFP5GqZun+IAY/cnOyv9LyBj8U+qRG+8sHP+CXdaq1rAg/W0fp60CVCT+52tns3YUKP87/BX3Pfgs/OUkrZ1qADD8Aemt+xYoNP3FR/qtZng4/sRgx/WG7Dz/1l9rYFXEQPwdwHyWDCRE/9tm6yyGnET9CzpvkG0oSP1YTGL+c8hI/SIPi6dCgEz9HoSw75lQUPw8g9NgLDxU/Uv58QXLPFT9p3PhTS5YWPwIuXFnKYxc/suphDSQ4GD+rYb6njhMZP3rRgeVB9hk/K2arEnfgGj8aPu0TadIbP1QYonBUzBw/qUj1XHfOHT/zkT3EEdkePySEi1Nl7B8/F/w1wlqEID9Ko+/TIxchP+LnwnixriE/4TeBQShLIj/xt8m7rewiP/lF8XdokyM/+E0GD4A/JD9NuPAoHfEkP8A3roJpqCU/izyr9I9lJj84zzh5vCgnPx2WHzMc8ic/IUVQdN3BKD8It7HEL5gpPxftDOlDdSo/SC8X6ktZKz9RiJobe0QsP2PRvCMGNy0/R4VlAiMxLj/Ui8IYCTMvPwwXdph4HjA/1jDUwoqnMD9Zyibl2DQxP1OSYpmBxjE//9HWPaRcMj8KiU75YPcyPz2SQb/YljM/0t4VVC07ND9r1XBRgeQ0P9femCr4kjU/PyrnMLZGNj95r0mY4P82P5N01Xudvjc/lhpp4hODOD/ksV/Da005P97VUwvOHTo/wQzzoGT0Oj+yZeFpWtE7P4FOrU/btDw/YZbTRBSfPT9AkdNJM5A+PyBNU3JniD8/juMpdfBDQD9/hrp9aMdAP74ZJQm1TkE/zIPe4e/ZQT+Er0BpM2lCP1jzS5qa/EI/FidwDEGUQz+uVF32QjBEP7Dv2zC90EQ/z32sOc11RT99l242kR9GP7Qoj/cnzkY/PNU9+7CBRz9/ZGlwTDpIP10Vwzkb+Eg/mLnI8D67ST8wdtXo2YNKP2oEOTIPUks/aUxVnQImTD+cMcK92P9MP0hld+22300/bhT8T8PFTj/oP5zVJLJPP+zHUZ+BUlA/HLdOj0PPUD+GGc3vbE9RP/6VvOIS01E/k6Gb+EpaUj+DBSEyK+VSPw145wHKc1M/3iYbTj4GVD8QEylyn5xUP88ZcEAFN1U/3YbzA4jVVT/wCg+CQHhWP6nuK/xHH1c/f1t3MbjKVz9Mj5lgq3pYP5jRbUk8L1k/fv26LoboWT8Hc+zXpKZaP71By5K0aVs/PVs3NdIxXD+ineAeG/9cP8GB/zqt0V0/gjkNAqepXj+kCHt7J4dfPwlQtB8nNWA/EaIsvJ2pYD+mwXPyByFhP9Ggu2x2m2E/V+7yIPoYYj84FJxRpJliP5MDo46GHWM/YqwxtrKkYz9LAIP1Oi9kP2NetMkxvWQ/SESVAKpOZT+JInW5tuNlPwgu72VrfGY/7wq0ytsYZz/pKlEAHLlnP1C39XNAXWg/u+E06F0FaT9BccV1ibFpP8ZkPozYYWo/7IDQ8mAWaz+jnvzIOM9rPw2RRod2jGw/qnXk/zBObT9rQ2pffxRuPzxscS15324/uGE8TTavbz/B6Cp/50FwP7yzle6trnA/LPTR8fodcT8iOtg0249xP1pf7JJbBHI/8gbhFol7cj/KZVj7cPVyP/s7AqsgcnM/CeXWwKXxcz+mZE8IDnR0Px9Xmn1n+XQ/e6nNTcCBdT8HABXXJg12P5Sv3Kipm3Y/qC75g1ctdz9748paP8J3P28yXlFwWng/U7KHvfn1eD+2afwm65R5P2H5ZUdUN3o/D5hyCkXdej8fwuCNzYZ7P6qBhiH+M3w/gTFUR+fkfD+AnlKzmZl9P8RqnEsmUn4/Y5RSKJ4Ofz+jBIyTEs9/PyYEoITKSYA/28qVmxuugD82oVh+hRSBP37lWTURfYE/hoi14cfngT9PuBm9slSCP3+oqxnbw4I/1mnpYUo1gz+/wYgYCqmDP5b0UtgjH4Q/0nL9U6GXhD8KXP9VjBKFP/fIY8Duj4U/+M2YjNIPhj8yKTvLQZKGP+6M3qNGF4c/bHnSVOuehz85mOMyOimIP9OKGak9tog/qSBxOABGiT985ZJ3jNiJP3L8hRLtbYo/izpfyiwGiz8jc+x0VqGLP6zrW/x0P4w/YujfXpPgjD+hR06uvISNP4QfvA/8K44/qFEVu1zWjj+EC7D66YOPPzgTbpVXGpA/Ny+33Ft0kD8lqqOSB9CQP9Uo635gLZE/puJLcWyMkT/qtkdBMe2RP1sV3820T5I/SbVJ/fyzkj82F628DxqTP2LN0P/ygZM/KYfQwKzrkz8g3Mv/QleUP4vTk8K7xJQ/ICVWFB00lT97MEYFbaWVP3aoQ6qxGJY/cfB+HPGNlj9SKRt5MQWXP3fszeB4fpc/KLN8d835lz956ddjNXeYPySr88629pg/bSre41d4mT8iwDPPHvyZP+OksL4Rgpo/CFTA4DYKmz88mApklJSbP2VD/nYwIZw/W5JZRxGwnD9aPrABPUGdPxM+79C51J0/EDje3Y1qnj+NqZ5OvwKfP3nEKEZUnZ8/xgPjcSkdoD9fykSh4GygP5okY7zSvaA/3k3BywIQoT8uI/XUc2OhP+XfXtoouKE/RMXf2iQOoj/ar4/RamWiP5WdcbX9vaI/MygneeAXoz9i96IKFnOjP00u2lKhz6M/rNh0NYUtpD80W32QxIykPxvsDjxi7aQ/8hcDCmFPpT+9V57Fw7KlP1W9OzONF6Y/8rr3D8B9pj+xC1oRX+WmP2nC/uRsTqc/pYQ+MOy4pz8H+NWP3ySoP9xnjJdJkqg//qnZ0SwBqT8MSYu/i3GpP0X7aNdo46k/KW3YhcZWqj+gZoAsp8uqPwxT6yENQqs/QDMpsfq5qz/PAXEZcjOsP4SRwY11rqw/xe6BNAcrrT/tSyEnKamtP/GBtnHdKK4/+i2fEiaqrj84dR76BC2vP294+wl8sa8/QcCPisYbsD8f95nvnF+wP3/7Hw5CpLA/PxwjuLbpsD8pF3G3+y+xP5TJcs0Rd7E/jtz6svm+sT/ScRQYtAeyPx7X0aNBUbI/pUUb9KKbsj8cs32d2OayP2u6+SrjMrM/uKHSHcN/sz/cg13teM2zPxyj0AYFHLQ/l+sSzWdrtD8Zq4uYobu0PwqF8rayDLU/eagfa5tetT/CTtzsW7G1P1CJs2j0BLY/oWTD/2RZtj+WZ47Hra62P0N1zcnOBLc/CxhCBMhbtz/XPIlombO3P7dk7ttCDLg/S1Q/N8RluD9GR6BGHcC4PxivYMlNG7k/pIPQcVV3uT+6LBblM9S5P3ILBbvoMbo/O6r0fXOQuj+Cmpiq0++6PzAH2a8IULs/ZAKs7hGxuz8Glu+57hK8P7+dRFaedbw/YHHq+R/ZvD+4ZpvMcj29P+QxaueVor0/iSqgVIgIvj+OfZwPSW++P69RtATX1r4/z+UTETE/vz80sKACVqi/P2NC7ksiCcA/3OTkv30+wD9iYOisPHTAP+v10lpeqsA/28mYCeLgwD9uOzzxxhfBP6XTwkEMT8E/w84qI7GGwT97Q2G1tL7BP/bqOBAW98E/o4xhQ9Qvwj//EGBW7mjCPxs+h0hjosI/6SDxEDLcwj8SJnmeWRbDP1DlttfYUMM/taH5mq6Lwz/wgUS+2cbDP/KCSw9ZAsQ/kSdxUys+xD+358RHT3rEP11hAqHDtsQ/9k2RC4fzxD9FPoYrmDDFPwgfpJz1bcU/kYhe8p2rxT8x29y3j+nFP6sq/m/JJ8Y/cvpdlUlmxj9rzFmaDqXGPyqEF+kW5MY/7p+M42Ajxz9CSYbj6mLHP3k+sjqzosc/aJaoMrjixz/AX/YM+CLIP+ccKQNxY8g/tB3bRiGkyD+7t8ABB+XIPy5etlUgJsk/7JnPXGtnyT+W4mYp5qjJP9xYLsaO6sk/y2JBNmMsyj8rKjd1YW7KPzX9NXeHsMo/uJEHKdPyyj+NKi5wQjXLP1mf+irTd8s/QkajMIO6yz8nv1tRUP3LPw6gbVY4QMw/1gFSAjmDzD/K7MsQUMbMP/ejAzd7Cc0/X86iI7hMzT8IffF+BJDNP2UM9Opd080/DeCJA8IWzj8i94xeLlrOP81X8ougnc4/FFDrFRbhzj9TigeBjCTPPx7zV0wBaM8/xG6S8XGrzz/0Wzbl2+7PP6/wWEseGdA/6wFEuMg60D8NwTvsa1zQPwg60ZcGftA/DFVbaZef0D/wZAsNHcHQP8YSAi2W4tA/7KRkcQEE0T8YoHKAXSXRP43Am/6oRtE/u0mWjuJn0T+CqnXRCInRPxV0wWYaqtE/tqGM7BXL0T8uL43/+evRP/v7MzvFDNI/H/nEOXYt0j9ln2+UC07SP9WrZ+ODbtI/NSD+vd2O0j8ohbq6F6/SP5trdG8wz9I/HSttcSbv0j+Y2mlV+A7TPwGBza+kLtM/YnuzFCpO0z+yFQoYh23TP8hTrU26jNM/yueBScKr0z9aU5CfncrTP74wIORK6dM/OKHTq8gH1D/E3cKLFSbUPz3nlxkwRNQ/NVOq6xZi1D9gMhuZyH/UP8YN8blDndQ/nPcz54a61D/RrAm7kNfUP0fE0dBf9NQ/n+hBxfIQ1T+BGYI2SC3VP0XxSMReSdU/7Ov3DzVl1T8brLe8yYDVPyI7lG8bnNU/u0CZzyi31T9iL+6F8NHVPxxi8j1x7NU/UyhZpakG1j/KvEVsmCDWPzwkZ0U8OtY/kPAT5pNT1j9f5WUGnmzWP4d6VWFZhdY/rDnVtMSd1j9j8+zB3rXWP8fI1EymzdY/agYQHRrl1j86zYf9OPzWP3OGpbwBE9c/NR9tLHMp1z+tCJcijD/XP+L5qXhLVdc/qG8UDLBq1z8J6EW+uH/XP8/Vx3RklNc/NklWGbKo1z/vSviZoLzXPx3mF+ku0Nc/zt6Z/Vvj1z+aEfXSJvbXP755SWmOCNg/69p2xZEa2D+4CzPxLyzYPz7eH/tnPdg/5qPg9jhO2D/lSS/9oV7YP68L8Suibtg/wrhKpjh+2D9di7SUZI3YP3eNDSUlnNg/uImuinmq2D/ihXz+YLjYP3DE+r7axdg/H0tcEObS2D8g7JQ8gt/YP9HPaZOu69g/4XyBamr32D/NXHMdtQLZP8+61g2ODdk/NztRo/QX2T91yaRL6CHZP/L6vHpoK9k/C+W7qnQ02T+SZAZcDD3ZPynVTxUvRdk/FDelY9xM2T/xwXfaE1TZPyHjphPVWtk/aqaJrx9h2T/Kh/dU82bZPzqtULFPbNk/T4eFeDRx2T/S1x1loXXZP14dPziWedk/GmOyuRJ92T/1c+m3FoDZP5VwAwiigtk/dcfQhbSE2T+pjtYTTobZP9Q+UZtuh9k//s42DBaI2T/5MDhdRIjZPzYuwov5h9k/1KT9mzWH2T/2JM+Y+IXZP2Tu1ZNChNk/nk5qpROC2T+IX5vsa3/ZPxAnLI9LfNk/HxiQubJ42T9L9eaeoXTZP9QV+HgYcNk/jA0tiBdr2T9SuIsTn2XZP/Spr2ivX9k/PwPD20hZ2T88rXbHa1LZP4v7+YwYS9k/Bbfxk09D2T+wkW5KETvZP1oF4yReMtk/Jp4YnjYp2T9VsiQ3mx/ZP92IXHeMFdk/RvBI7AoL2T9TR5kpFwDZP1P5Fcmx9Ng/jm+Satvo2D/jed6zlNzYP0Ewt1Dez9g/+E638rjC2D/3D0dRJbXYP9OCiykkp9g/7WVVPraY2D/Fgg9Y3InYP7CPrESXetg/V5mU1+dq2D889pHpzlrYP8XGvVhNStg/LwRsCGQ52D/oIBfhEyjYP/88S9BdFtg/EfGQyEIE2D9/slfBw/HXP5/T37bh3tc/iCIkqp3L1z9YKcOg+LfXP8AS6KTzo9c/qjUzxY+P1z/0SqIUznrXP/JPeKqvZdc/DRklojVQ1z8MlywbYTrXP2jSDTkzJNc/hZ8pI60N1z/gDqkE0PbWP3CcYwyd39Y/GyHFbBXI1j+kibNbOrDWP/lVdBINmNY/M+SRzY5/1j96isDMwGbWP8yCw1KkTdY/GqxRpTo01j+/I/oMhRrWP526CNWEANY/K0lqSzvm1T9q5ZDAqcvVP1j+V4fRsNU/uF/o9LOV1T+3IZxgUnrVP3iH4iOuXtU/ss8jmshC1T/L+qQgoybVP0mJaxY/CtU/HTYh3J3t1D++r/fTwNDUPyhTjGGps9Q/JuzL6ViW1D+rfdbS0HjUP5IV44MSW9Q/wq4jZR891D+UJKnf+B7UP906R12gANQ/I714SBfi0z9VuEMMX8PTP8rRHRR5pNM/Qr7Qy2aF0z8u3F6fKWbTP5Tz5/rCRtM/uR6OSjQn0z883lr6fgfTPxJbJHak59I/jNlyKabH0j+BX2Z/hafSP52QnOJDh9I/M8MWveJm0j/tTyB4Y0bSPyIfNXzHJdI/4HXoMBAF0j9FBcz8PuTRP18+V0VVw9E/quzOblSi0T+/GS3cPYHRP+U7Ce8SYNE/CbKAB9U+0T/Njh+EhR3RP+K0ycEl/NA/oUakG7fa0D9yav/qOrnQP09mQIeyl9A/qBPMRR920D+yrfF5glTQP7D71XTdMtA/lNhehTER0D/TMz7w/97PPwyuhS6Um88/gST4VCJYzz/rit/trBTPP7KlRn420c4/mbfUhcGNzj+z/Kl+UErOP6P1PN3lBs4/6YQ4EITDzT/R31qALYDNP7FVVZDkPM0/Ju6snKv5zD+74Jv7hLbMP/bm8/xyc8w/DGoB6ncwzD8Ejm8Flu3LP3IaLYvPqss/qUJSsCZoyz/ATQejnSXLP/IebIo248o/lJ+AhvOgyj9hCg6w1l7KPwMZkRjiHMo/6xMlyhfbyT9HxG/HeZnJP8dIjgsKWMk/S8wCisoWyT/aHqMuvdXIP3IwiN3jlMg/wGz+ckBUyD8d+HbD1BPIPyzMeZui08c/CLSYv6uTxz8BJ2Ps8VPHP24AW9Z2FMc/cRTqKTzVxj9kn1iLQ5bGP86PxJaOV8Y/bagZ4B4Zxj+xeQrz9drFP8owClMVncU/WTpHe35fxT+9t6beMiLFP1TEwOcz5cQ/eYnd+IKoxD/3HvNrIWzEP6I1pJIQMMQ/moo/tlH0wz8dIMAX5rjDP286zu/OfcM/DR7Bbg1Dwz+GjKG8ogjDPy/+LPmPzsI/L5XZO9aUwj8TyNqTdlvCP93AJghyIsI/fG18l8npwT+pP2o4frHBP12YVdmQecE/uNyCYAJCwT8IMR6s0wrBP7nWRJIF1MA/uioP4ZidwD+BQJtejmfAPx8XGMnmMcA/BMqirUX5vz/K7Xdsho+/P6M+BRyRJr8/TWUn+ma+vj/7GV41CVe+P5o86ex48L0/bfLmMLeKvT9ow3ICxSW9Pw+vxVOjwbw/ODNXCFNevD9JPf/01Pu7P7L+GOApmrs/s56mgVI5uz9LwXWDT9m6P3jdRIEhero/NlvpCMkbuj8dcnaaRr65P27CZKiaYbk/kaC6l8UFuT82DTXAx6q4P+pRcWyhULg/TDwX2lL3tz9x8AM63J63P1VLdbA9R7c/UM81VXfwtj+2EskziZq2P6KqmEtzRbY/+YohkDXxtT9e1CHpz521P3kKxzJCS7U/tKrcPYz5tD/wHfvPrai0PxT+tqOmWLQ/2ajQaHYJtD8fGmTEHLuzP3wGGVGZbbM/lDBTn+sgsz+f8mI1E9WyP6f1tY8PirI/PBEIIeA/sj+gTJRShPaxP0n8RYT7rbE/hvXpDEVmsT9D0l86YB+xP+Y/y1FM2bA/2lLFjwiUsD/s2Y0olE+wP9KrPEjuC7A/TNLlJSySrz/JXBhKFQ6vP6lfnyaWi64/BHZC1qwKrj9SMWRlV4utP1qTY9KTDa0/njb9DWCRrD/fGaz7uRasPxoHCnKfnas/e4wvOw4mqz8WfhMVBLCqP//46bF+O6o/Et6CuHvIqT+AvafE+FapP7EqeWfz5qg/XHDLJ2l4qD+BnoKCVwuoP6Lp7eq7n6c/g1Uiy5M1pz9Qo1SE3MymP6t9Mm+TZaY/m9s63LX/pT/1kxUUQZulPykc6lcyOKU/h2u14YbWpD9W/p7kO3akPx/zTI1OF6Q/lDw3Ary5oz8K5PljgV2jP9tWps2bAqM/5boTVQipoj+5RS4LxFCiP7qRRfzL+aE/ge5ZMB2koT9+p2irtE+hP2A+t22P/KA/qpUddKqqoD/cB0+4AlqgP2RpIjGVCqA/l+Kxpb14nz/LDsgeud6eP87pU60WR54/iuqSLdCxnT8UTLh43x6dP/ulb2U+jpw/pjtdyOb/mz9E/5t00nObPxlFOTz76Zo/+yau8Fpimj/rk1Zj69yZPxsM5mWmWZk/wgfayoXYmD8NB+plg1mYP3lMdQyZ3Jc/aD/ulcBhlz/VeEPc8+iWP6p5RrwscpY/IwsQFmX9lT+LS2LNloqVP+RmCMq7GZU/2/4z+M2qlD8aQthIxz2UP3G2ArKh0pM/nLcxL1dpkz/SrKjB4QGTP/r4wXA7nJI/Zac+Sl44kj9S2ZNiRNaRP1j3NdXndZE/A6rhxEIXkT+SnuJbT7qQP8kaWMwHX5A/MGV3UGYFkD9mC5hVylqPP2PG60z9rY4/C4fKLloEjj9eZCm11V2NPwOngaxkuow/DlM89PsZjD8Rnxl/kHyLP91llFMX4oo/IJxBjIVKij931ytY0LWJP33yKvvsI4k/NNk3ztCUiD8NjLw/cQiIP19k4NPDfoc/q6jQJL73hj9LfQXjVXOGPxk+g9WA8YU//E8Y2jRyhT9JdpflZ/WEPwC7DgQQe4Q/P/f6WCMDhD9VCXgfmI2DP+nHbapkGoM/tr65ZH+pgj98xFXR3jqCPw54e4t5zoE/KrLERkZkgT8P/EjPO/yAP6sXuAlRloA/Ralx83wygD89ITRFbaF/P6f/WIzq4X4/974UTGAmfj8+GxBGvW59PzIO7m3wunw/BxJb6egKfD8UcxcQll57P/DM/GvntXo/087+uMwQej9YZiflNW95Px9rjhAT0Xg/tOlMjVQ2eD/IKWzf6p53PyqL0LzGCnc/rVcgDdl5dj8WpKbpEux1PzBdMp1lYXU/05zxo8LZdD/GYEmrG1V0P2bBqZFi03M/KsBeZolUcz9vy11pgthyP5cQEAtAX3I/y7YZ7LTocT+/HR7d03RxP104gd6PA3E/jB4mINyUcD9n7ioBrChwP0IrRB/mfW8/dTmSEEqvbj/1FXqsa+VtP8D4WCUzIG0/hAEPCYlfbD8EtlpAVqNrP9RwMA6E62o/YOsND/w3aj8lEko4qIhpP/pNYddy3Wg/Rm0+kUY2aD+KWYBhDpNnPx3BvJm182Y/+9+/4CdYZj9pj8kxUcBlP9DDx9sdLGU/NKGOgHqbZD/+Sg4UVA5kPweWhtuXhGM/QcG4bDP+Yj/BWBetFHtiP3xn9NAp+2E/aBmuWmF+YT/z8NkZqgRhP+mvbirzjWA/SxXt8ysaYD8GHw9RiFJfP3UCkohXdl4/EHF1GKafXT8/aRMbVc5cP5OvVjlGAlw/KUMDqVs7Wz/nF/4qeHlaP79OlAl/vFk/lhzCFlQEWT9xlXmq21BYP0qL6aD6oVc/Z7DEWJb3Vj/2LImxlFFWPwHTyAncr1U/RR5yPVMSVT+KKRqk4XhUP+nBRw9v41M/R8G/yONRUz/Z1NKQKMRSPwnWrJwmOlI/itmllMezUT8sFpWS9TBRP8PGJSCbsVA/YCUuNaM1UD/8QBFs8nlPP3TO3uMRj04/BdK0Qn2qTT+Dyr/IDcxMP3dIL4Kd80s/UOcBRAchSz+R+9aoJlRKPw4oxg3YjEk/LgI9j/jKSD+i8uIFZg5IPwN4gwP/Vkc/b/T+z6KkRj8CJ0JmMfdFP350RHGLTkU/VSENSZKqRD86mL/vJwtEP3Dbrg4vcEM/9jx484rZQj/DcyWNH0dCP/InVmnRuEE/yAlxsYUuQT/YidwnIqhAP15CPyWNJUA/tUeQK1tNPz9V6/zs1VY+P1RsM6VaZz0/mtDCgbp+PD9OtSnCx5w7PzPftbJVwTo/5+FzpzjsOT/P6S73RR05P4q3gPZTVDg/3NLx8jmRNz8B/iku0NM2P1TvMNnvGzY/91C/D3NpNT9yCKDTNLw0P+TFIQgRFDQ/EdSYbeRwMz8LJvGcjNIyPzaZUAPoODI/f2TJ3dWjMT+jphw1NhMxP3gIjdnphjA/r8qCvaT9Lz+bzm4vpPUuPxoPjCWY9S0/9bxfK0j9LD9hYYozfQwsPwZCK5ABIys/FuNi66BAKj/od/Q/KGUpPxYMBtJlkCg/EDH/JynCJz+Y+oUDQ/omP9MMmlqFOCY/0oPNUMN8JT9ddJsw0cYkP3TK22SEFiQ/3EBUcrNrIz9CMWbxNcYiP4H62IfkJSI/tbTA4piKIT8=",
                    "dtype": "f8"
                  }
                },
                {
                  "fill": "toself",
                  "fillcolor": "rgba(0,0,255,0.2)",
                  "line": {
                    "color": "rgba(255,255,255,0)"
                  },
                  "name": "1종 오류 (α = 0.05)",
                  "type": "scatter",
                  "x": {
                    "bdata": "u2pnCVJR+j9vGthyFoz6PyTKSNzaxvo/2Hm5RZ8B+z+NKSqvYzz7P0HZmhgod/s/9ogLguyx+z+qOHzrsOz7P1/o7FR1J/w/E5hdvjli/D/IR84n/pz8P3z3PpHC1/w/MKev+oYS/T/lViBkS039P5kGkc0PiP0/TrYBN9TC/T8CZnKgmP39P7cV4wldOP4/a8VTcyFz/j8gdcTc5a3+P9QkNUaq6P4/iNSlr24j/z89hBYZM17/P/Ezh4L3mP8/puP367vT/z+tSbQqQAcAQIehbF+iJABAYvkklARCAEA8Ud3IZl8AQBaplf3IfABA8ABOMiuaAEDKWAZnjbcAQKWwvpvv1ABAfwh30FHyAEBZYC8FtA8BQDO45zkWLQFADhCgbnhKAUDoZ1ij2mcBQMK/ENg8hQFAnBfJDJ+iAUB2b4FBAcABQFHHOXZj3QFAKx/yqsX6AUAFd6rfJxgCQN/OYhSKNQJAuiYbSexSAkCUftN9TnACQG7Wi7KwjQJASC5E5xKrAkAihvwbdcgCQP3dtFDX5QJA1zVthTkDA0CxjSW6myADQIvl3e79PQNAZj2WI2BbA0BAlU5YwngDQBrtBo0klgNA9ES/wYazA0DOnHf26NADQKn0LytL7gNAg0zoX60LBEBdpKCUDykEQDf8WMlxRgRAElQR/tNjBEDsq8kyNoEEQMYDgmeYngRAoFs6nPq7BEB6s/LQXNkEQFULqwW/9gRAL2NjOiEUBUAJuxtvgzEFQOQS1KPlTgVAvmqM2EdsBUCYwkQNqokFQHIa/UEMpwVATHK1dm7EBUAmym2r0OEFQAAiJuAy/wVA23neFJUcBkC10ZZJ9zkGQJApT35ZVwZAaoEHs7t0BkBE2b/nHZIGQB4xeByArwZA+IgwUeLMBkDS4OiFROoGQKw4obqmBwdAh5BZ7wglB0Bh6BEka0IHQDxAyljNXwdAFpiCjS99B0Dw7zrCkZoHQMpH8/bztwdApJ+rK1bVB0B+92NguPIHQFhPHJUaEAhAM6fUyXwtCEAN/4z+3koIQOhWRTNBaAhAwq79Z6OFCECcBracBaMIQHZebtFnwAhAULYmBsrdCEAqDt86LPsIQARml2+OGAlA371PpPA1CUC5FQjZUlMJQJRtwA21cAlAbsV4QheOCUBIHTF3easJQCJ16avbyAlA/Myh4D3mCUDWJFoVoAMKQLB8EkoCIQpAi9TKfmQ+CkBlLIOzxlsKQECEO+goeQpAGtzzHIuWCkD0M6xR7bMKQM6LZIZP0QpAqOMcu7HuCkCCO9XvEwwLQFyTjSR2KQtAN+tFWdhGC0ARQ/6NOmQLQOyatsKcgQtAxvJu9/6eC0CgSicsYbwLQHqi32DD2QtAVPqXlSX3C0AuUlDKhxQMQAiqCP/pMQxA4wHBM0xPDEC9WXlormwMQJixMZ0QigxAcgnq0XKnDEBMYaIG1cQMQCa5Wjs34gxAABETcJn/DEDaaMuk+xwNQLTAg9ldOg1Ajhg8DsBXDUBqcPRCInUNQETIrHeEkg1AHiBlrOavDUD4dx3hSM0NQNLP1RWr6g1ArCeOSg0IDkCGf0Z/byUOQGDX/rPRQg5AOi+36DNgDkAWh28dln0OQPDeJ1L4mg5Ayjbghlq4DkCkjpi7vNUOQH7mUPAe8w5AWD4JJYEQD0AylsFZ4y0PQAzueY5FSw9A5kUyw6doD0DCner3CYYPQJz1oixsow9Adk1bYc7AD0BQpROWMN4PQCr9y8qS+w9AgirCf3oMEEBvVh6aKxsQQFyCerTcKRBASa7Wzo04EEA32jLpPkcQQCQGjwPwVRBAETLrHaFkEED+XUc4UnMQQOuJo1IDghBA2LX/bLSQEEDF4VuHZZ8QQLINuKEWrhBAnzkUvMe8EECNZXDWeMsQQHqRzPAp2hBAZ70oC9voEEBU6YQljPcQQEEV4T89BhFALkE9Wu4UEUAbbZl0nyMRQAiZ9Y5QMhFA9cRRqQFBEUDj8K3Dsk8RQNAcCt5jXhFAvUhm+BRtEUCqdMISxnsRQJegHi13ihFAhMx6RyiZEUBx+NZh2acRQF4kM3yKthFAS1CPljvFEUA5fOuw7NMRQCaoR8ud4hFAE9Sj5U7xEUAAAAAAAAASQAAAAAAAABJAE9Sj5U7xEUAmqEfLneIRQDl867Ds0xFAS1CPljvFEUBeJDN8irYRQHH41mHZpxFAhMx6RyiZEUCXoB4td4oRQKp0whLGexFAvUhm+BRtEUDQHAreY14RQOPwrcOyTxFA9cRRqQFBEUAImfWOUDIRQBttmXSfIxFALkE9Wu4UEUBBFeE/PQYRQFTphCWM9xBAZ70oC9voEEB6kczwKdoQQI1lcNZ4yxBAnzkUvMe8EECyDbihFq4QQMXhW4dlnxBA2LX/bLSQEEDriaNSA4IQQP5dRzhScxBAETLrHaFkEEAkBo8D8FUQQDfaMuk+RxBASa7Wzo04EEBcgnq03CkQQG9WHporGxBAgirCf3oMEEAq/cvKkvsPQFClE5Yw3g9Adk1bYc7AD0Cc9aIsbKMPQMKd6vcJhg9A5kUyw6doD0AM7nmORUsPQDKWwVnjLQ9AWD4JJYEQD0B+5lDwHvMOQKSOmLu81Q5Ayjbghlq4DkDw3idS+JoOQBaHbx2WfQ5AOi+36DNgDkBg1/6z0UIOQIZ/Rn9vJQ5ArCeOSg0IDkDSz9UVq+oNQPh3HeFIzQ1AHiBlrOavDUBEyKx3hJINQGpw9EIidQ1Ajhg8DsBXDUC0wIPZXToNQNpoy6T7HA1AABETcJn/DEAmuVo7N+IMQExhogbVxAxAcgnq0XKnDECYsTGdEIoMQL1ZeWiubAxA4wHBM0xPDEAIqgj/6TEMQC5SUMqHFAxAVPqXlSX3C0B6ot9gw9kLQKBKJyxhvAtAxvJu9/6eC0DsmrbCnIELQBFD/o06ZAtAN+tFWdhGC0Bck40kdikLQII71e8TDAtAqOMcu7HuCkDOi2SGT9EKQPQzrFHtswpAGtzzHIuWCkBAhDvoKHkKQGUsg7PGWwpAi9TKfmQ+CkCwfBJKAiEKQNYkWhWgAwpA/Myh4D3mCUAidemr28gJQEgdMXd5qwlAbsV4QheOCUCUbcANtXAJQLkVCNlSUwlA371PpPA1CUAEZpdvjhgJQCoO3zos+whAULYmBsrdCEB2Xm7RZ8AIQJwGtpwFowhAwq79Z6OFCEDoVkUzQWgIQA3/jP7eSghAM6fUyXwtCEBYTxyVGhAIQH73Y2C48gdApJ+rK1bVB0DKR/P287cHQPDvOsKRmgdAFpiCjS99B0A8QMpYzV8HQGHoESRrQgdAh5BZ7wglB0CsOKG6pgcHQNLg6IVE6gZA+IgwUeLMBkAeMXgcgK8GQETZv+cdkgZAaoEHs7t0BkCQKU9+WVcGQLXRlkn3OQZA23neFJUcBkAAIibgMv8FQCbKbavQ4QVATHK1dm7EBUByGv1BDKcFQJjCRA2qiQVAvmqM2EdsBUDkEtSj5U4FQAm7G2+DMQVAL2NjOiEUBUBVC6sFv/YEQHqz8tBc2QRAoFs6nPq7BEDGA4JnmJ4EQOyryTI2gQRAElQR/tNjBEA3/FjJcUYEQF2koJQPKQRAg0zoX60LBECp9C8rS+4DQM6cd/bo0ANA9ES/wYazA0Aa7QaNJJYDQECVTljCeANAZj2WI2BbA0CL5d3u/T0DQLGNJbqbIANA1zVthTkDA0D93bRQ1+UCQCKG/Bt1yAJASC5E5xKrAkBu1ouysI0CQJR+031OcAJAuiYbSexSAkDfzmIUijUCQAV3qt8nGAJAKx/yqsX6AUBRxzl2Y90BQHZvgUEBwAFAnBfJDJ+iAUDCvxDYPIUBQOhnWKPaZwFADhCgbnhKAUAzuOc5Fi0BQFlgLwW0DwFAfwh30FHyAEClsL6b79QAQMpYBmeNtwBA8ABOMiuaAEAWqZX9yHwAQDxR3chmXwBAYvkklARCAECHoWxfoiQAQK1JtCpABwBApuP367vT/z/xM4eC95j/Pz2EFhkzXv8/iNSlr24j/z/UJDVGquj+PyB1xNzlrf4/a8VTcyFz/j+3FeMJXTj+PwJmcqCY/f0/TrYBN9TC/T+ZBpHND4j9P+VWIGRLTf0/MKev+oYS/T989z6Rwtf8P8hHzif+nPw/E5hdvjli/D9f6OxUdSf8P6o4fOuw7Ps/9ogLguyx+z9B2ZoYKHf7P40pKq9jPPs/2Hm5RZ8B+z8kykjc2sb6P28a2HIWjPo/u2pnCVJR+j8=",
                    "dtype": "f8"
                  },
                  "y": {
                    "bdata": "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",
                    "dtype": "f8"
                  }
                },
                {
                  "fill": "toself",
                  "fillcolor": "rgba(255,0,0,0.2)",
                  "line": {
                    "color": "rgba(255,255,255,0)"
                  },
                  "name": "2종 오류 (β)",
                  "type": "scatter",
                  "x": {
                    "bdata": "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",
                    "dtype": "f8"
                  },
                  "y": {
                    "bdata": "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",
                    "dtype": "f8"
                  }
                }
              ],
              "layout": {
                "shapes": [
                  {
                    "line": {
                      "color": "green",
                      "dash": "dash",
                      "width": 2
                    },
                    "name": "임계값",
                    "type": "line",
                    "x0": 1.6448536269514722,
                    "x1": 1.6448536269514722,
                    "xref": "x",
                    "y0": 0,
                    "y1": 1,
                    "yref": "y domain"
                  }
                ],
                "template": {
                  "data": {
                    "bar": [
                      {
                        "error_x": {
                          "color": "#2a3f5f"
                        },
                        "error_y": {
                          "color": "#2a3f5f"
                        },
                        "marker": {
                          "line": {
                            "color": "#E5ECF6",
                            "width": 0.5
                          },
                          "pattern": {
                            "fillmode": "overlay",
                            "size": 10,
                            "solidity": 0.2
                          }
                        },
                        "type": "bar"
                      }
                    ],
                    "barpolar": [
                      {
                        "marker": {
                          "line": {
                            "color": "#E5ECF6",
                            "width": 0.5
                          },
                          "pattern": {
                            "fillmode": "overlay",
                            "size": 10,
                            "solidity": 0.2
                          }
                        },
                        "type": "barpolar"
                      }
                    ],
                    "carpet": [
                      {
                        "aaxis": {
                          "endlinecolor": "#2a3f5f",
                          "gridcolor": "white",
                          "linecolor": "white",
                          "minorgridcolor": "white",
                          "startlinecolor": "#2a3f5f"
                        },
                        "baxis": {
                          "endlinecolor": "#2a3f5f",
                          "gridcolor": "white",
                          "linecolor": "white",
                          "minorgridcolor": "white",
                          "startlinecolor": "#2a3f5f"
                        },
                        "type": "carpet"
                      }
                    ],
                    "choropleth": [
                      {
                        "colorbar": {
                          "outlinewidth": 0,
                          "ticks": ""
                        },
                        "type": "choropleth"
                      }
                    ],
                    "contour": [
                      {
                        "colorbar": {
                          "outlinewidth": 0,
                          "ticks": ""
                        },
                        "colorscale": [
                          [
                            0,
                            "#0d0887"
                          ],
                          [
                            0.1111111111111111,
                            "#46039f"
                          ],
                          [
                            0.2222222222222222,
                            "#7201a8"
                          ],
                          [
                            0.3333333333333333,
                            "#9c179e"
                          ],
                          [
                            0.4444444444444444,
                            "#bd3786"
                          ],
                          [
                            0.5555555555555556,
                            "#d8576b"
                          ],
                          [
                            0.6666666666666666,
                            "#ed7953"
                          ],
                          [
                            0.7777777777777778,
                            "#fb9f3a"
                          ],
                          [
                            0.8888888888888888,
                            "#fdca26"
                          ],
                          [
                            1,
                            "#f0f921"
                          ]
                        ],
                        "type": "contour"
                      }
                    ],
                    "contourcarpet": [
                      {
                        "colorbar": {
                          "outlinewidth": 0,
                          "ticks": ""
                        },
                        "type": "contourcarpet"
                      }
                    ],
                    "heatmap": [
                      {
                        "colorbar": {
                          "outlinewidth": 0,
                          "ticks": ""
                        },
                        "colorscale": [
                          [
                            0,
                            "#0d0887"
                          ],
                          [
                            0.1111111111111111,
                            "#46039f"
                          ],
                          [
                            0.2222222222222222,
                            "#7201a8"
                          ],
                          [
                            0.3333333333333333,
                            "#9c179e"
                          ],
                          [
                            0.4444444444444444,
                            "#bd3786"
                          ],
                          [
                            0.5555555555555556,
                            "#d8576b"
                          ],
                          [
                            0.6666666666666666,
                            "#ed7953"
                          ],
                          [
                            0.7777777777777778,
                            "#fb9f3a"
                          ],
                          [
                            0.8888888888888888,
                            "#fdca26"
                          ],
                          [
                            1,
                            "#f0f921"
                          ]
                        ],
                        "type": "heatmap"
                      }
                    ],
                    "histogram": [
                      {
                        "marker": {
                          "pattern": {
                            "fillmode": "overlay",
                            "size": 10,
                            "solidity": 0.2
                          }
                        },
                        "type": "histogram"
                      }
                    ],
                    "histogram2d": [
                      {
                        "colorbar": {
                          "outlinewidth": 0,
                          "ticks": ""
                        },
                        "colorscale": [
                          [
                            0,
                            "#0d0887"
                          ],
                          [
                            0.1111111111111111,
                            "#46039f"
                          ],
                          [
                            0.2222222222222222,
                            "#7201a8"
                          ],
                          [
                            0.3333333333333333,
                            "#9c179e"
                          ],
                          [
                            0.4444444444444444,
                            "#bd3786"
                          ],
                          [
                            0.5555555555555556,
                            "#d8576b"
                          ],
                          [
                            0.6666666666666666,
                            "#ed7953"
                          ],
                          [
                            0.7777777777777778,
                            "#fb9f3a"
                          ],
                          [
                            0.8888888888888888,
                            "#fdca26"
                          ],
                          [
                            1,
                            "#f0f921"
                          ]
                        ],
                        "type": "histogram2d"
                      }
                    ],
                    "histogram2dcontour": [
                      {
                        "colorbar": {
                          "outlinewidth": 0,
                          "ticks": ""
                        },
                        "colorscale": [
                          [
                            0,
                            "#0d0887"
                          ],
                          [
                            0.1111111111111111,
                            "#46039f"
                          ],
                          [
                            0.2222222222222222,
                            "#7201a8"
                          ],
                          [
                            0.3333333333333333,
                            "#9c179e"
                          ],
                          [
                            0.4444444444444444,
                            "#bd3786"
                          ],
                          [
                            0.5555555555555556,
                            "#d8576b"
                          ],
                          [
                            0.6666666666666666,
                            "#ed7953"
                          ],
                          [
                            0.7777777777777778,
                            "#fb9f3a"
                          ],
                          [
                            0.8888888888888888,
                            "#fdca26"
                          ],
                          [
                            1,
                            "#f0f921"
                          ]
                        ],
                        "type": "histogram2dcontour"
                      }
                    ],
                    "mesh3d": [
                      {
                        "colorbar": {
                          "outlinewidth": 0,
                          "ticks": ""
                        },
                        "type": "mesh3d"
                      }
                    ],
                    "parcoords": [
                      {
                        "line": {
                          "colorbar": {
                            "outlinewidth": 0,
                            "ticks": ""
                          }
                        },
                        "type": "parcoords"
                      }
                    ],
                    "pie": [
                      {
                        "automargin": true,
                        "type": "pie"
                      }
                    ],
                    "scatter": [
                      {
                        "fillpattern": {
                          "fillmode": "overlay",
                          "size": 10,
                          "solidity": 0.2
                        },
                        "type": "scatter"
                      }
                    ],
                    "scatter3d": [
                      {
                        "line": {
                          "colorbar": {
                            "outlinewidth": 0,
                            "ticks": ""
                          }
                        },
                        "marker": {
                          "colorbar": {
                            "outlinewidth": 0,
                            "ticks": ""
                          }
                        },
                        "type": "scatter3d"
                      }
                    ],
                    "scattercarpet": [
                      {
                        "marker": {
                          "colorbar": {
                            "outlinewidth": 0,
                            "ticks": ""
                          }
                        },
                        "type": "scattercarpet"
                      }
                    ],
                    "scattergeo": [
                      {
                        "marker": {
                          "colorbar": {
                            "outlinewidth": 0,
                            "ticks": ""
                          }
                        },
                        "type": "scattergeo"
                      }
                    ],
                    "scattergl": [
                      {
                        "marker": {
                          "colorbar": {
                            "outlinewidth": 0,
                            "ticks": ""
                          }
                        },
                        "type": "scattergl"
                      }
                    ],
                    "scattermap": [
                      {
                        "marker": {
                          "colorbar": {
                            "outlinewidth": 0,
                            "ticks": ""
                          }
                        },
                        "type": "scattermap"
                      }
                    ],
                    "scattermapbox": [
                      {
                        "marker": {
                          "colorbar": {
                            "outlinewidth": 0,
                            "ticks": ""
                          }
                        },
                        "type": "scattermapbox"
                      }
                    ],
                    "scatterpolar": [
                      {
                        "marker": {
                          "colorbar": {
                            "outlinewidth": 0,
                            "ticks": ""
                          }
                        },
                        "type": "scatterpolar"
                      }
                    ],
                    "scatterpolargl": [
                      {
                        "marker": {
                          "colorbar": {
                            "outlinewidth": 0,
                            "ticks": ""
                          }
                        },
                        "type": "scatterpolargl"
                      }
                    ],
                    "scatterternary": [
                      {
                        "marker": {
                          "colorbar": {
                            "outlinewidth": 0,
                            "ticks": ""
                          }
                        },
                        "type": "scatterternary"
                      }
                    ],
                    "surface": [
                      {
                        "colorbar": {
                          "outlinewidth": 0,
                          "ticks": ""
                        },
                        "colorscale": [
                          [
                            0,
                            "#0d0887"
                          ],
                          [
                            0.1111111111111111,
                            "#46039f"
                          ],
                          [
                            0.2222222222222222,
                            "#7201a8"
                          ],
                          [
                            0.3333333333333333,
                            "#9c179e"
                          ],
                          [
                            0.4444444444444444,
                            "#bd3786"
                          ],
                          [
                            0.5555555555555556,
                            "#d8576b"
                          ],
                          [
                            0.6666666666666666,
                            "#ed7953"
                          ],
                          [
                            0.7777777777777778,
                            "#fb9f3a"
                          ],
                          [
                            0.8888888888888888,
                            "#fdca26"
                          ],
                          [
                            1,
                            "#f0f921"
                          ]
                        ],
                        "type": "surface"
                      }
                    ],
                    "table": [
                      {
                        "cells": {
                          "fill": {
                            "color": "#EBF0F8"
                          },
                          "line": {
                            "color": "white"
                          }
                        },
                        "header": {
                          "fill": {
                            "color": "#C8D4E3"
                          },
                          "line": {
                            "color": "white"
                          }
                        },
                        "type": "table"
                      }
                    ]
                  },
                  "layout": {
                    "annotationdefaults": {
                      "arrowcolor": "#2a3f5f",
                      "arrowhead": 0,
                      "arrowwidth": 1
                    },
                    "autotypenumbers": "strict",
                    "coloraxis": {
                      "colorbar": {
                        "outlinewidth": 0,
                        "ticks": ""
                      }
                    },
                    "colorscale": {
                      "diverging": [
                        [
                          0,
                          "#8e0152"
                        ],
                        [
                          0.1,
                          "#c51b7d"
                        ],
                        [
                          0.2,
                          "#de77ae"
                        ],
                        [
                          0.3,
                          "#f1b6da"
                        ],
                        [
                          0.4,
                          "#fde0ef"
                        ],
                        [
                          0.5,
                          "#f7f7f7"
                        ],
                        [
                          0.6,
                          "#e6f5d0"
                        ],
                        [
                          0.7,
                          "#b8e186"
                        ],
                        [
                          0.8,
                          "#7fbc41"
                        ],
                        [
                          0.9,
                          "#4d9221"
                        ],
                        [
                          1,
                          "#276419"
                        ]
                      ],
                      "sequential": [
                        [
                          0,
                          "#0d0887"
                        ],
                        [
                          0.1111111111111111,
                          "#46039f"
                        ],
                        [
                          0.2222222222222222,
                          "#7201a8"
                        ],
                        [
                          0.3333333333333333,
                          "#9c179e"
                        ],
                        [
                          0.4444444444444444,
                          "#bd3786"
                        ],
                        [
                          0.5555555555555556,
                          "#d8576b"
                        ],
                        [
                          0.6666666666666666,
                          "#ed7953"
                        ],
                        [
                          0.7777777777777778,
                          "#fb9f3a"
                        ],
                        [
                          0.8888888888888888,
                          "#fdca26"
                        ],
                        [
                          1,
                          "#f0f921"
                        ]
                      ],
                      "sequentialminus": [
                        [
                          0,
                          "#0d0887"
                        ],
                        [
                          0.1111111111111111,
                          "#46039f"
                        ],
                        [
                          0.2222222222222222,
                          "#7201a8"
                        ],
                        [
                          0.3333333333333333,
                          "#9c179e"
                        ],
                        [
                          0.4444444444444444,
                          "#bd3786"
                        ],
                        [
                          0.5555555555555556,
                          "#d8576b"
                        ],
                        [
                          0.6666666666666666,
                          "#ed7953"
                        ],
                        [
                          0.7777777777777778,
                          "#fb9f3a"
                        ],
                        [
                          0.8888888888888888,
                          "#fdca26"
                        ],
                        [
                          1,
                          "#f0f921"
                        ]
                      ]
                    },
                    "colorway": [
                      "#636efa",
                      "#EF553B",
                      "#00cc96",
                      "#ab63fa",
                      "#FFA15A",
                      "#19d3f3",
                      "#FF6692",
                      "#B6E880",
                      "#FF97FF",
                      "#FECB52"
                    ],
                    "font": {
                      "color": "#2a3f5f"
                    },
                    "geo": {
                      "bgcolor": "white",
                      "lakecolor": "white",
                      "landcolor": "#E5ECF6",
                      "showlakes": true,
                      "showland": true,
                      "subunitcolor": "white"
                    },
                    "hoverlabel": {
                      "align": "left"
                    },
                    "hovermode": "closest",
                    "mapbox": {
                      "style": "light"
                    },
                    "paper_bgcolor": "white",
                    "plot_bgcolor": "#E5ECF6",
                    "polar": {
                      "angularaxis": {
                        "gridcolor": "white",
                        "linecolor": "white",
                        "ticks": ""
                      },
                      "bgcolor": "#E5ECF6",
                      "radialaxis": {
                        "gridcolor": "white",
                        "linecolor": "white",
                        "ticks": ""
                      }
                    },
                    "scene": {
                      "xaxis": {
                        "backgroundcolor": "#E5ECF6",
                        "gridcolor": "white",
                        "gridwidth": 2,
                        "linecolor": "white",
                        "showbackground": true,
                        "ticks": "",
                        "zerolinecolor": "white"
                      },
                      "yaxis": {
                        "backgroundcolor": "#E5ECF6",
                        "gridcolor": "white",
                        "gridwidth": 2,
                        "linecolor": "white",
                        "showbackground": true,
                        "ticks": "",
                        "zerolinecolor": "white"
                      },
                      "zaxis": {
                        "backgroundcolor": "#E5ECF6",
                        "gridcolor": "white",
                        "gridwidth": 2,
                        "linecolor": "white",
                        "showbackground": true,
                        "ticks": "",
                        "zerolinecolor": "white"
                      }
                    },
                    "shapedefaults": {
                      "line": {
                        "color": "#2a3f5f"
                      }
                    },
                    "ternary": {
                      "aaxis": {
                        "gridcolor": "white",
                        "linecolor": "white",
                        "ticks": ""
                      },
                      "baxis": {
                        "gridcolor": "white",
                        "linecolor": "white",
                        "ticks": ""
                      },
                      "bgcolor": "#E5ECF6",
                      "caxis": {
                        "gridcolor": "white",
                        "linecolor": "white",
                        "ticks": ""
                      }
                    },
                    "title": {
                      "x": 0.05
                    },
                    "xaxis": {
                      "automargin": true,
                      "gridcolor": "white",
                      "linecolor": "white",
                      "ticks": "",
                      "title": {
                        "standoff": 15
                      },
                      "zerolinecolor": "white",
                      "zerolinewidth": 2
                    },
                    "yaxis": {
                      "automargin": true,
                      "gridcolor": "white",
                      "linecolor": "white",
                      "ticks": "",
                      "title": {
                        "standoff": 15
                      },
                      "zerolinecolor": "white",
                      "zerolinewidth": 2
                    }
                  }
                },
                "title": {
                  "text": "1종 및 2종 오류 시각화 (MDE 작음)<br>α=0.05, β=0.87, Power=0.13"
                },
                "xaxis": {
                  "title": {
                    "text": "테스트 통계량"
                  }
                },
                "yaxis": {
                  "title": {
                    "text": "확률 밀도"
                  }
                }
              }
            }
          },
          "metadata": {},
          "output_type": "display_data"
        }
      ],
      "source": [
        "# 예시 1: MDE가 작을 때 (mu_alt가 mu_null에 가까울 때)\n",
        "fig1 = plot_error_types(mu_alt=0.5, sigma=1, title_suffix=\"(MDE 작음)\")\n",
        "fig1.show() "
      ]
    },
    {
      "cell_type": "code",
      "execution_count": 7,
      "metadata": {},
      "outputs": [
        {
          "data": {
            "application/vnd.plotly.v1+json": {
              "config": {
                "plotlyServerURL": "https://plot.ly"
              },
              "data": [
                {
                  "line": {
                    "color": "blue"
                  },
                  "mode": "lines",
                  "name": "H0 분포 (귀무 가설)",
                  "type": "scatter",
                  "x": {
                    "bdata": "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",
                    "dtype": "f8"
                  },
                  "y": {
                    "bdata": "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",
                    "dtype": "f8"
                  }
                },
                {
                  "line": {
                    "color": "red"
                  },
                  "mode": "lines",
                  "name": "H1 분포 (대립 가설)",
                  "type": "scatter",
                  "x": {
                    "bdata": "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",
                    "dtype": "f8"
                  },
                  "y": {
                    "bdata": "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",
                    "dtype": "f8"
                  }
                },
                {
                  "fill": "toself",
                  "fillcolor": "rgba(0,0,255,0.2)",
                  "line": {
                    "color": "rgba(255,255,255,0)"
                  },
                  "name": "1종 오류 (α = 0.05)",
                  "type": "scatter",
                  "x": {
                    "bdata": "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",
                    "dtype": "f8"
                  },
                  "y": {
                    "bdata": "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",
                    "dtype": "f8"
                  }
                },
                {
                  "fill": "toself",
                  "fillcolor": "rgba(255,0,0,0.2)",
                  "line": {
                    "color": "rgba(255,255,255,0)"
                  },
                  "name": "2종 오류 (β)",
                  "type": "scatter",
                  "x": {
                    "bdata": "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",
                    "dtype": "f8"
                  },
                  "y": {
                    "bdata": "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",
                    "dtype": "f8"
                  }
                }
              ],
              "layout": {
                "shapes": [
                  {
                    "line": {
                      "color": "green",
                      "dash": "dash",
                      "width": 2
                    },
                    "name": "임계값",
                    "type": "line",
                    "x0": 1.6448536269514722,
                    "x1": 1.6448536269514722,
                    "xref": "x",
                    "y0": 0,
                    "y1": 1,
                    "yref": "y domain"
                  }
                ],
                "template": {
                  "data": {
                    "bar": [
                      {
                        "error_x": {
                          "color": "#2a3f5f"
                        },
                        "error_y": {
                          "color": "#2a3f5f"
                        },
                        "marker": {
                          "line": {
                            "color": "#E5ECF6",
                            "width": 0.5
                          },
                          "pattern": {
                            "fillmode": "overlay",
                            "size": 10,
                            "solidity": 0.2
                          }
                        },
                        "type": "bar"
                      }
                    ],
                    "barpolar": [
                      {
                        "marker": {
                          "line": {
                            "color": "#E5ECF6",
                            "width": 0.5
                          },
                          "pattern": {
                            "fillmode": "overlay",
                            "size": 10,
                            "solidity": 0.2
                          }
                        },
                        "type": "barpolar"
                      }
                    ],
                    "carpet": [
                      {
                        "aaxis": {
                          "endlinecolor": "#2a3f5f",
                          "gridcolor": "white",
                          "linecolor": "white",
                          "minorgridcolor": "white",
                          "startlinecolor": "#2a3f5f"
                        },
                        "baxis": {
                          "endlinecolor": "#2a3f5f",
                          "gridcolor": "white",
                          "linecolor": "white",
                          "minorgridcolor": "white",
                          "startlinecolor": "#2a3f5f"
                        },
                        "type": "carpet"
                      }
                    ],
                    "choropleth": [
                      {
                        "colorbar": {
                          "outlinewidth": 0,
                          "ticks": ""
                        },
                        "type": "choropleth"
                      }
                    ],
                    "contour": [
                      {
                        "colorbar": {
                          "outlinewidth": 0,
                          "ticks": ""
                        },
                        "colorscale": [
                          [
                            0,
                            "#0d0887"
                          ],
                          [
                            0.1111111111111111,
                            "#46039f"
                          ],
                          [
                            0.2222222222222222,
                            "#7201a8"
                          ],
                          [
                            0.3333333333333333,
                            "#9c179e"
                          ],
                          [
                            0.4444444444444444,
                            "#bd3786"
                          ],
                          [
                            0.5555555555555556,
                            "#d8576b"
                          ],
                          [
                            0.6666666666666666,
                            "#ed7953"
                          ],
                          [
                            0.7777777777777778,
                            "#fb9f3a"
                          ],
                          [
                            0.8888888888888888,
                            "#fdca26"
                          ],
                          [
                            1,
                            "#f0f921"
                          ]
                        ],
                        "type": "contour"
                      }
                    ],
                    "contourcarpet": [
                      {
                        "colorbar": {
                          "outlinewidth": 0,
                          "ticks": ""
                        },
                        "type": "contourcarpet"
                      }
                    ],
                    "heatmap": [
                      {
                        "colorbar": {
                          "outlinewidth": 0,
                          "ticks": ""
                        },
                        "colorscale": [
                          [
                            0,
                            "#0d0887"
                          ],
                          [
                            0.1111111111111111,
                            "#46039f"
                          ],
                          [
                            0.2222222222222222,
                            "#7201a8"
                          ],
                          [
                            0.3333333333333333,
                            "#9c179e"
                          ],
                          [
                            0.4444444444444444,
                            "#bd3786"
                          ],
                          [
                            0.5555555555555556,
                            "#d8576b"
                          ],
                          [
                            0.6666666666666666,
                            "#ed7953"
                          ],
                          [
                            0.7777777777777778,
                            "#fb9f3a"
                          ],
                          [
                            0.8888888888888888,
                            "#fdca26"
                          ],
                          [
                            1,
                            "#f0f921"
                          ]
                        ],
                        "type": "heatmap"
                      }
                    ],
                    "histogram": [
                      {
                        "marker": {
                          "pattern": {
                            "fillmode": "overlay",
                            "size": 10,
                            "solidity": 0.2
                          }
                        },
                        "type": "histogram"
                      }
                    ],
                    "histogram2d": [
                      {
                        "colorbar": {
                          "outlinewidth": 0,
                          "ticks": ""
                        },
                        "colorscale": [
                          [
                            0,
                            "#0d0887"
                          ],
                          [
                            0.1111111111111111,
                            "#46039f"
                          ],
                          [
                            0.2222222222222222,
                            "#7201a8"
                          ],
                          [
                            0.3333333333333333,
                            "#9c179e"
                          ],
                          [
                            0.4444444444444444,
                            "#bd3786"
                          ],
                          [
                            0.5555555555555556,
                            "#d8576b"
                          ],
                          [
                            0.6666666666666666,
                            "#ed7953"
                          ],
                          [
                            0.7777777777777778,
                            "#fb9f3a"
                          ],
                          [
                            0.8888888888888888,
                            "#fdca26"
                          ],
                          [
                            1,
                            "#f0f921"
                          ]
                        ],
                        "type": "histogram2d"
                      }
                    ],
                    "histogram2dcontour": [
                      {
                        "colorbar": {
                          "outlinewidth": 0,
                          "ticks": ""
                        },
                        "colorscale": [
                          [
                            0,
                            "#0d0887"
                          ],
                          [
                            0.1111111111111111,
                            "#46039f"
                          ],
                          [
                            0.2222222222222222,
                            "#7201a8"
                          ],
                          [
                            0.3333333333333333,
                            "#9c179e"
                          ],
                          [
                            0.4444444444444444,
                            "#bd3786"
                          ],
                          [
                            0.5555555555555556,
                            "#d8576b"
                          ],
                          [
                            0.6666666666666666,
                            "#ed7953"
                          ],
                          [
                            0.7777777777777778,
                            "#fb9f3a"
                          ],
                          [
                            0.8888888888888888,
                            "#fdca26"
                          ],
                          [
                            1,
                            "#f0f921"
                          ]
                        ],
                        "type": "histogram2dcontour"
                      }
                    ],
                    "mesh3d": [
                      {
                        "colorbar": {
                          "outlinewidth": 0,
                          "ticks": ""
                        },
                        "type": "mesh3d"
                      }
                    ],
                    "parcoords": [
                      {
                        "line": {
                          "colorbar": {
                            "outlinewidth": 0,
                            "ticks": ""
                          }
                        },
                        "type": "parcoords"
                      }
                    ],
                    "pie": [
                      {
                        "automargin": true,
                        "type": "pie"
                      }
                    ],
                    "scatter": [
                      {
                        "fillpattern": {
                          "fillmode": "overlay",
                          "size": 10,
                          "solidity": 0.2
                        },
                        "type": "scatter"
                      }
                    ],
                    "scatter3d": [
                      {
                        "line": {
                          "colorbar": {
                            "outlinewidth": 0,
                            "ticks": ""
                          }
                        },
                        "marker": {
                          "colorbar": {
                            "outlinewidth": 0,
                            "ticks": ""
                          }
                        },
                        "type": "scatter3d"
                      }
                    ],
                    "scattercarpet": [
                      {
                        "marker": {
                          "colorbar": {
                            "outlinewidth": 0,
                            "ticks": ""
                          }
                        },
                        "type": "scattercarpet"
                      }
                    ],
                    "scattergeo": [
                      {
                        "marker": {
                          "colorbar": {
                            "outlinewidth": 0,
                            "ticks": ""
                          }
                        },
                        "type": "scattergeo"
                      }
                    ],
                    "scattergl": [
                      {
                        "marker": {
                          "colorbar": {
                            "outlinewidth": 0,
                            "ticks": ""
                          }
                        },
                        "type": "scattergl"
                      }
                    ],
                    "scattermap": [
                      {
                        "marker": {
                          "colorbar": {
                            "outlinewidth": 0,
                            "ticks": ""
                          }
                        },
                        "type": "scattermap"
                      }
                    ],
                    "scattermapbox": [
                      {
                        "marker": {
                          "colorbar": {
                            "outlinewidth": 0,
                            "ticks": ""
                          }
                        },
                        "type": "scattermapbox"
                      }
                    ],
                    "scatterpolar": [
                      {
                        "marker": {
                          "colorbar": {
                            "outlinewidth": 0,
                            "ticks": ""
                          }
                        },
                        "type": "scatterpolar"
                      }
                    ],
                    "scatterpolargl": [
                      {
                        "marker": {
                          "colorbar": {
                            "outlinewidth": 0,
                            "ticks": ""
                          }
                        },
                        "type": "scatterpolargl"
                      }
                    ],
                    "scatterternary": [
                      {
                        "marker": {
                          "colorbar": {
                            "outlinewidth": 0,
                            "ticks": ""
                          }
                        },
                        "type": "scatterternary"
                      }
                    ],
                    "surface": [
                      {
                        "colorbar": {
                          "outlinewidth": 0,
                          "ticks": ""
                        },
                        "colorscale": [
                          [
                            0,
                            "#0d0887"
                          ],
                          [
                            0.1111111111111111,
                            "#46039f"
                          ],
                          [
                            0.2222222222222222,
                            "#7201a8"
                          ],
                          [
                            0.3333333333333333,
                            "#9c179e"
                          ],
                          [
                            0.4444444444444444,
                            "#bd3786"
                          ],
                          [
                            0.5555555555555556,
                            "#d8576b"
                          ],
                          [
                            0.6666666666666666,
                            "#ed7953"
                          ],
                          [
                            0.7777777777777778,
                            "#fb9f3a"
                          ],
                          [
                            0.8888888888888888,
                            "#fdca26"
                          ],
                          [
                            1,
                            "#f0f921"
                          ]
                        ],
                        "type": "surface"
                      }
                    ],
                    "table": [
                      {
                        "cells": {
                          "fill": {
                            "color": "#EBF0F8"
                          },
                          "line": {
                            "color": "white"
                          }
                        },
                        "header": {
                          "fill": {
                            "color": "#C8D4E3"
                          },
                          "line": {
                            "color": "white"
                          }
                        },
                        "type": "table"
                      }
                    ]
                  },
                  "layout": {
                    "annotationdefaults": {
                      "arrowcolor": "#2a3f5f",
                      "arrowhead": 0,
                      "arrowwidth": 1
                    },
                    "autotypenumbers": "strict",
                    "coloraxis": {
                      "colorbar": {
                        "outlinewidth": 0,
                        "ticks": ""
                      }
                    },
                    "colorscale": {
                      "diverging": [
                        [
                          0,
                          "#8e0152"
                        ],
                        [
                          0.1,
                          "#c51b7d"
                        ],
                        [
                          0.2,
                          "#de77ae"
                        ],
                        [
                          0.3,
                          "#f1b6da"
                        ],
                        [
                          0.4,
                          "#fde0ef"
                        ],
                        [
                          0.5,
                          "#f7f7f7"
                        ],
                        [
                          0.6,
                          "#e6f5d0"
                        ],
                        [
                          0.7,
                          "#b8e186"
                        ],
                        [
                          0.8,
                          "#7fbc41"
                        ],
                        [
                          0.9,
                          "#4d9221"
                        ],
                        [
                          1,
                          "#276419"
                        ]
                      ],
                      "sequential": [
                        [
                          0,
                          "#0d0887"
                        ],
                        [
                          0.1111111111111111,
                          "#46039f"
                        ],
                        [
                          0.2222222222222222,
                          "#7201a8"
                        ],
                        [
                          0.3333333333333333,
                          "#9c179e"
                        ],
                        [
                          0.4444444444444444,
                          "#bd3786"
                        ],
                        [
                          0.5555555555555556,
                          "#d8576b"
                        ],
                        [
                          0.6666666666666666,
                          "#ed7953"
                        ],
                        [
                          0.7777777777777778,
                          "#fb9f3a"
                        ],
                        [
                          0.8888888888888888,
                          "#fdca26"
                        ],
                        [
                          1,
                          "#f0f921"
                        ]
                      ],
                      "sequentialminus": [
                        [
                          0,
                          "#0d0887"
                        ],
                        [
                          0.1111111111111111,
                          "#46039f"
                        ],
                        [
                          0.2222222222222222,
                          "#7201a8"
                        ],
                        [
                          0.3333333333333333,
                          "#9c179e"
                        ],
                        [
                          0.4444444444444444,
                          "#bd3786"
                        ],
                        [
                          0.5555555555555556,
                          "#d8576b"
                        ],
                        [
                          0.6666666666666666,
                          "#ed7953"
                        ],
                        [
                          0.7777777777777778,
                          "#fb9f3a"
                        ],
                        [
                          0.8888888888888888,
                          "#fdca26"
                        ],
                        [
                          1,
                          "#f0f921"
                        ]
                      ]
                    },
                    "colorway": [
                      "#636efa",
                      "#EF553B",
                      "#00cc96",
                      "#ab63fa",
                      "#FFA15A",
                      "#19d3f3",
                      "#FF6692",
                      "#B6E880",
                      "#FF97FF",
                      "#FECB52"
                    ],
                    "font": {
                      "color": "#2a3f5f"
                    },
                    "geo": {
                      "bgcolor": "white",
                      "lakecolor": "white",
                      "landcolor": "#E5ECF6",
                      "showlakes": true,
                      "showland": true,
                      "subunitcolor": "white"
                    },
                    "hoverlabel": {
                      "align": "left"
                    },
                    "hovermode": "closest",
                    "mapbox": {
                      "style": "light"
                    },
                    "paper_bgcolor": "white",
                    "plot_bgcolor": "#E5ECF6",
                    "polar": {
                      "angularaxis": {
                        "gridcolor": "white",
                        "linecolor": "white",
                        "ticks": ""
                      },
                      "bgcolor": "#E5ECF6",
                      "radialaxis": {
                        "gridcolor": "white",
                        "linecolor": "white",
                        "ticks": ""
                      }
                    },
                    "scene": {
                      "xaxis": {
                        "backgroundcolor": "#E5ECF6",
                        "gridcolor": "white",
                        "gridwidth": 2,
                        "linecolor": "white",
                        "showbackground": true,
                        "ticks": "",
                        "zerolinecolor": "white"
                      },
                      "yaxis": {
                        "backgroundcolor": "#E5ECF6",
                        "gridcolor": "white",
                        "gridwidth": 2,
                        "linecolor": "white",
                        "showbackground": true,
                        "ticks": "",
                        "zerolinecolor": "white"
                      },
                      "zaxis": {
                        "backgroundcolor": "#E5ECF6",
                        "gridcolor": "white",
                        "gridwidth": 2,
                        "linecolor": "white",
                        "showbackground": true,
                        "ticks": "",
                        "zerolinecolor": "white"
                      }
                    },
                    "shapedefaults": {
                      "line": {
                        "color": "#2a3f5f"
                      }
                    },
                    "ternary": {
                      "aaxis": {
                        "gridcolor": "white",
                        "linecolor": "white",
                        "ticks": ""
                      },
                      "baxis": {
                        "gridcolor": "white",
                        "linecolor": "white",
                        "ticks": ""
                      },
                      "bgcolor": "#E5ECF6",
                      "caxis": {
                        "gridcolor": "white",
                        "linecolor": "white",
                        "ticks": ""
                      }
                    },
                    "title": {
                      "x": 0.05
                    },
                    "xaxis": {
                      "automargin": true,
                      "gridcolor": "white",
                      "linecolor": "white",
                      "ticks": "",
                      "title": {
                        "standoff": 15
                      },
                      "zerolinecolor": "white",
                      "zerolinewidth": 2
                    },
                    "yaxis": {
                      "automargin": true,
                      "gridcolor": "white",
                      "linecolor": "white",
                      "ticks": "",
                      "title": {
                        "standoff": 15
                      },
                      "zerolinecolor": "white",
                      "zerolinewidth": 2
                    }
                  }
                },
                "title": {
                  "text": "1종 및 2종 오류 시각화 (MDE 큼)<br>α=0.05, β=0.36, Power=0.64"
                },
                "xaxis": {
                  "title": {
                    "text": "테스트 통계량"
                  }
                },
                "yaxis": {
                  "title": {
                    "text": "확률 밀도"
                  }
                }
              }
            }
          },
          "metadata": {},
          "output_type": "display_data"
        }
      ],
      "source": [
        "# 예시 2: MDE가 클 때\n",
        "fig2 = plot_error_types(mu_alt=2.0, sigma=1, title_suffix=\"(MDE 큼)\")\n",
        "fig2.show()"
      ]
    },
    {
      "cell_type": "code",
      "execution_count": 8,
      "metadata": {},
      "outputs": [
        {
          "data": {
            "application/vnd.plotly.v1+json": {
              "config": {
                "plotlyServerURL": "https://plot.ly"
              },
              "data": [
                {
                  "line": {
                    "color": "blue"
                  },
                  "mode": "lines",
                  "name": "H0 분포 (귀무 가설)",
                  "type": "scatter",
                  "x": {
                    "bdata": "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",
                    "dtype": "f8"
                  },
                  "y": {
                    "bdata": "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",
                    "dtype": "f8"
                  }
                },
                {
                  "line": {
                    "color": "red"
                  },
                  "mode": "lines",
                  "name": "H1 분포 (대립 가설)",
                  "type": "scatter",
                  "x": {
                    "bdata": "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",
                    "dtype": "f8"
                  },
                  "y": {
                    "bdata": "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",
                    "dtype": "f8"
                  }
                },
                {
                  "fill": "toself",
                  "fillcolor": "rgba(0,0,255,0.2)",
                  "line": {
                    "color": "rgba(255,255,255,0)"
                  },
                  "name": "1종 오류 (α = 0.05)",
                  "type": "scatter",
                  "x": {
                    "bdata": "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",
                    "dtype": "f8"
                  },
                  "y": {
                    "bdata": "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",
                    "dtype": "f8"
                  }
                },
                {
                  "fill": "toself",
                  "fillcolor": "rgba(255,0,0,0.2)",
                  "line": {
                    "color": "rgba(255,255,255,0)"
                  },
                  "name": "2종 오류 (β)",
                  "type": "scatter",
                  "x": {
                    "bdata": "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",
                    "dtype": "f8"
                  },
                  "y": {
                    "bdata": "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",
                    "dtype": "f8"
                  }
                }
              ],
              "layout": {
                "shapes": [
                  {
                    "line": {
                      "color": "green",
                      "dash": "dash",
                      "width": 2
                    },
                    "name": "임계값",
                    "type": "line",
                    "x0": 0.8224268134757361,
                    "x1": 0.8224268134757361,
                    "xref": "x",
                    "y0": 0,
                    "y1": 1,
                    "yref": "y domain"
                  }
                ],
                "template": {
                  "data": {
                    "bar": [
                      {
                        "error_x": {
                          "color": "#2a3f5f"
                        },
                        "error_y": {
                          "color": "#2a3f5f"
                        },
                        "marker": {
                          "line": {
                            "color": "#E5ECF6",
                            "width": 0.5
                          },
                          "pattern": {
                            "fillmode": "overlay",
                            "size": 10,
                            "solidity": 0.2
                          }
                        },
                        "type": "bar"
                      }
                    ],
                    "barpolar": [
                      {
                        "marker": {
                          "line": {
                            "color": "#E5ECF6",
                            "width": 0.5
                          },
                          "pattern": {
                            "fillmode": "overlay",
                            "size": 10,
                            "solidity": 0.2
                          }
                        },
                        "type": "barpolar"
                      }
                    ],
                    "carpet": [
                      {
                        "aaxis": {
                          "endlinecolor": "#2a3f5f",
                          "gridcolor": "white",
                          "linecolor": "white",
                          "minorgridcolor": "white",
                          "startlinecolor": "#2a3f5f"
                        },
                        "baxis": {
                          "endlinecolor": "#2a3f5f",
                          "gridcolor": "white",
                          "linecolor": "white",
                          "minorgridcolor": "white",
                          "startlinecolor": "#2a3f5f"
                        },
                        "type": "carpet"
                      }
                    ],
                    "choropleth": [
                      {
                        "colorbar": {
                          "outlinewidth": 0,
                          "ticks": ""
                        },
                        "type": "choropleth"
                      }
                    ],
                    "contour": [
                      {
                        "colorbar": {
                          "outlinewidth": 0,
                          "ticks": ""
                        },
                        "colorscale": [
                          [
                            0,
                            "#0d0887"
                          ],
                          [
                            0.1111111111111111,
                            "#46039f"
                          ],
                          [
                            0.2222222222222222,
                            "#7201a8"
                          ],
                          [
                            0.3333333333333333,
                            "#9c179e"
                          ],
                          [
                            0.4444444444444444,
                            "#bd3786"
                          ],
                          [
                            0.5555555555555556,
                            "#d8576b"
                          ],
                          [
                            0.6666666666666666,
                            "#ed7953"
                          ],
                          [
                            0.7777777777777778,
                            "#fb9f3a"
                          ],
                          [
                            0.8888888888888888,
                            "#fdca26"
                          ],
                          [
                            1,
                            "#f0f921"
                          ]
                        ],
                        "type": "contour"
                      }
                    ],
                    "contourcarpet": [
                      {
                        "colorbar": {
                          "outlinewidth": 0,
                          "ticks": ""
                        },
                        "type": "contourcarpet"
                      }
                    ],
                    "heatmap": [
                      {
                        "colorbar": {
                          "outlinewidth": 0,
                          "ticks": ""
                        },
                        "colorscale": [
                          [
                            0,
                            "#0d0887"
                          ],
                          [
                            0.1111111111111111,
                            "#46039f"
                          ],
                          [
                            0.2222222222222222,
                            "#7201a8"
                          ],
                          [
                            0.3333333333333333,
                            "#9c179e"
                          ],
                          [
                            0.4444444444444444,
                            "#bd3786"
                          ],
                          [
                            0.5555555555555556,
                            "#d8576b"
                          ],
                          [
                            0.6666666666666666,
                            "#ed7953"
                          ],
                          [
                            0.7777777777777778,
                            "#fb9f3a"
                          ],
                          [
                            0.8888888888888888,
                            "#fdca26"
                          ],
                          [
                            1,
                            "#f0f921"
                          ]
                        ],
                        "type": "heatmap"
                      }
                    ],
                    "histogram": [
                      {
                        "marker": {
                          "pattern": {
                            "fillmode": "overlay",
                            "size": 10,
                            "solidity": 0.2
                          }
                        },
                        "type": "histogram"
                      }
                    ],
                    "histogram2d": [
                      {
                        "colorbar": {
                          "outlinewidth": 0,
                          "ticks": ""
                        },
                        "colorscale": [
                          [
                            0,
                            "#0d0887"
                          ],
                          [
                            0.1111111111111111,
                            "#46039f"
                          ],
                          [
                            0.2222222222222222,
                            "#7201a8"
                          ],
                          [
                            0.3333333333333333,
                            "#9c179e"
                          ],
                          [
                            0.4444444444444444,
                            "#bd3786"
                          ],
                          [
                            0.5555555555555556,
                            "#d8576b"
                          ],
                          [
                            0.6666666666666666,
                            "#ed7953"
                          ],
                          [
                            0.7777777777777778,
                            "#fb9f3a"
                          ],
                          [
                            0.8888888888888888,
                            "#fdca26"
                          ],
                          [
                            1,
                            "#f0f921"
                          ]
                        ],
                        "type": "histogram2d"
                      }
                    ],
                    "histogram2dcontour": [
                      {
                        "colorbar": {
                          "outlinewidth": 0,
                          "ticks": ""
                        },
                        "colorscale": [
                          [
                            0,
                            "#0d0887"
                          ],
                          [
                            0.1111111111111111,
                            "#46039f"
                          ],
                          [
                            0.2222222222222222,
                            "#7201a8"
                          ],
                          [
                            0.3333333333333333,
                            "#9c179e"
                          ],
                          [
                            0.4444444444444444,
                            "#bd3786"
                          ],
                          [
                            0.5555555555555556,
                            "#d8576b"
                          ],
                          [
                            0.6666666666666666,
                            "#ed7953"
                          ],
                          [
                            0.7777777777777778,
                            "#fb9f3a"
                          ],
                          [
                            0.8888888888888888,
                            "#fdca26"
                          ],
                          [
                            1,
                            "#f0f921"
                          ]
                        ],
                        "type": "histogram2dcontour"
                      }
                    ],
                    "mesh3d": [
                      {
                        "colorbar": {
                          "outlinewidth": 0,
                          "ticks": ""
                        },
                        "type": "mesh3d"
                      }
                    ],
                    "parcoords": [
                      {
                        "line": {
                          "colorbar": {
                            "outlinewidth": 0,
                            "ticks": ""
                          }
                        },
                        "type": "parcoords"
                      }
                    ],
                    "pie": [
                      {
                        "automargin": true,
                        "type": "pie"
                      }
                    ],
                    "scatter": [
                      {
                        "fillpattern": {
                          "fillmode": "overlay",
                          "size": 10,
                          "solidity": 0.2
                        },
                        "type": "scatter"
                      }
                    ],
                    "scatter3d": [
                      {
                        "line": {
                          "colorbar": {
                            "outlinewidth": 0,
                            "ticks": ""
                          }
                        },
                        "marker": {
                          "colorbar": {
                            "outlinewidth": 0,
                            "ticks": ""
                          }
                        },
                        "type": "scatter3d"
                      }
                    ],
                    "scattercarpet": [
                      {
                        "marker": {
                          "colorbar": {
                            "outlinewidth": 0,
                            "ticks": ""
                          }
                        },
                        "type": "scattercarpet"
                      }
                    ],
                    "scattergeo": [
                      {
                        "marker": {
                          "colorbar": {
                            "outlinewidth": 0,
                            "ticks": ""
                          }
                        },
                        "type": "scattergeo"
                      }
                    ],
                    "scattergl": [
                      {
                        "marker": {
                          "colorbar": {
                            "outlinewidth": 0,
                            "ticks": ""
                          }
                        },
                        "type": "scattergl"
                      }
                    ],
                    "scattermap": [
                      {
                        "marker": {
                          "colorbar": {
                            "outlinewidth": 0,
                            "ticks": ""
                          }
                        },
                        "type": "scattermap"
                      }
                    ],
                    "scattermapbox": [
                      {
                        "marker": {
                          "colorbar": {
                            "outlinewidth": 0,
                            "ticks": ""
                          }
                        },
                        "type": "scattermapbox"
                      }
                    ],
                    "scatterpolar": [
                      {
                        "marker": {
                          "colorbar": {
                            "outlinewidth": 0,
                            "ticks": ""
                          }
                        },
                        "type": "scatterpolar"
                      }
                    ],
                    "scatterpolargl": [
                      {
                        "marker": {
                          "colorbar": {
                            "outlinewidth": 0,
                            "ticks": ""
                          }
                        },
                        "type": "scatterpolargl"
                      }
                    ],
                    "scatterternary": [
                      {
                        "marker": {
                          "colorbar": {
                            "outlinewidth": 0,
                            "ticks": ""
                          }
                        },
                        "type": "scatterternary"
                      }
                    ],
                    "surface": [
                      {
                        "colorbar": {
                          "outlinewidth": 0,
                          "ticks": ""
                        },
                        "colorscale": [
                          [
                            0,
                            "#0d0887"
                          ],
                          [
                            0.1111111111111111,
                            "#46039f"
                          ],
                          [
                            0.2222222222222222,
                            "#7201a8"
                          ],
                          [
                            0.3333333333333333,
                            "#9c179e"
                          ],
                          [
                            0.4444444444444444,
                            "#bd3786"
                          ],
                          [
                            0.5555555555555556,
                            "#d8576b"
                          ],
                          [
                            0.6666666666666666,
                            "#ed7953"
                          ],
                          [
                            0.7777777777777778,
                            "#fb9f3a"
                          ],
                          [
                            0.8888888888888888,
                            "#fdca26"
                          ],
                          [
                            1,
                            "#f0f921"
                          ]
                        ],
                        "type": "surface"
                      }
                    ],
                    "table": [
                      {
                        "cells": {
                          "fill": {
                            "color": "#EBF0F8"
                          },
                          "line": {
                            "color": "white"
                          }
                        },
                        "header": {
                          "fill": {
                            "color": "#C8D4E3"
                          },
                          "line": {
                            "color": "white"
                          }
                        },
                        "type": "table"
                      }
                    ]
                  },
                  "layout": {
                    "annotationdefaults": {
                      "arrowcolor": "#2a3f5f",
                      "arrowhead": 0,
                      "arrowwidth": 1
                    },
                    "autotypenumbers": "strict",
                    "coloraxis": {
                      "colorbar": {
                        "outlinewidth": 0,
                        "ticks": ""
                      }
                    },
                    "colorscale": {
                      "diverging": [
                        [
                          0,
                          "#8e0152"
                        ],
                        [
                          0.1,
                          "#c51b7d"
                        ],
                        [
                          0.2,
                          "#de77ae"
                        ],
                        [
                          0.3,
                          "#f1b6da"
                        ],
                        [
                          0.4,
                          "#fde0ef"
                        ],
                        [
                          0.5,
                          "#f7f7f7"
                        ],
                        [
                          0.6,
                          "#e6f5d0"
                        ],
                        [
                          0.7,
                          "#b8e186"
                        ],
                        [
                          0.8,
                          "#7fbc41"
                        ],
                        [
                          0.9,
                          "#4d9221"
                        ],
                        [
                          1,
                          "#276419"
                        ]
                      ],
                      "sequential": [
                        [
                          0,
                          "#0d0887"
                        ],
                        [
                          0.1111111111111111,
                          "#46039f"
                        ],
                        [
                          0.2222222222222222,
                          "#7201a8"
                        ],
                        [
                          0.3333333333333333,
                          "#9c179e"
                        ],
                        [
                          0.4444444444444444,
                          "#bd3786"
                        ],
                        [
                          0.5555555555555556,
                          "#d8576b"
                        ],
                        [
                          0.6666666666666666,
                          "#ed7953"
                        ],
                        [
                          0.7777777777777778,
                          "#fb9f3a"
                        ],
                        [
                          0.8888888888888888,
                          "#fdca26"
                        ],
                        [
                          1,
                          "#f0f921"
                        ]
                      ],
                      "sequentialminus": [
                        [
                          0,
                          "#0d0887"
                        ],
                        [
                          0.1111111111111111,
                          "#46039f"
                        ],
                        [
                          0.2222222222222222,
                          "#7201a8"
                        ],
                        [
                          0.3333333333333333,
                          "#9c179e"
                        ],
                        [
                          0.4444444444444444,
                          "#bd3786"
                        ],
                        [
                          0.5555555555555556,
                          "#d8576b"
                        ],
                        [
                          0.6666666666666666,
                          "#ed7953"
                        ],
                        [
                          0.7777777777777778,
                          "#fb9f3a"
                        ],
                        [
                          0.8888888888888888,
                          "#fdca26"
                        ],
                        [
                          1,
                          "#f0f921"
                        ]
                      ]
                    },
                    "colorway": [
                      "#636efa",
                      "#EF553B",
                      "#00cc96",
                      "#ab63fa",
                      "#FFA15A",
                      "#19d3f3",
                      "#FF6692",
                      "#B6E880",
                      "#FF97FF",
                      "#FECB52"
                    ],
                    "font": {
                      "color": "#2a3f5f"
                    },
                    "geo": {
                      "bgcolor": "white",
                      "lakecolor": "white",
                      "landcolor": "#E5ECF6",
                      "showlakes": true,
                      "showland": true,
                      "subunitcolor": "white"
                    },
                    "hoverlabel": {
                      "align": "left"
                    },
                    "hovermode": "closest",
                    "mapbox": {
                      "style": "light"
                    },
                    "paper_bgcolor": "white",
                    "plot_bgcolor": "#E5ECF6",
                    "polar": {
                      "angularaxis": {
                        "gridcolor": "white",
                        "linecolor": "white",
                        "ticks": ""
                      },
                      "bgcolor": "#E5ECF6",
                      "radialaxis": {
                        "gridcolor": "white",
                        "linecolor": "white",
                        "ticks": ""
                      }
                    },
                    "scene": {
                      "xaxis": {
                        "backgroundcolor": "#E5ECF6",
                        "gridcolor": "white",
                        "gridwidth": 2,
                        "linecolor": "white",
                        "showbackground": true,
                        "ticks": "",
                        "zerolinecolor": "white"
                      },
                      "yaxis": {
                        "backgroundcolor": "#E5ECF6",
                        "gridcolor": "white",
                        "gridwidth": 2,
                        "linecolor": "white",
                        "showbackground": true,
                        "ticks": "",
                        "zerolinecolor": "white"
                      },
                      "zaxis": {
                        "backgroundcolor": "#E5ECF6",
                        "gridcolor": "white",
                        "gridwidth": 2,
                        "linecolor": "white",
                        "showbackground": true,
                        "ticks": "",
                        "zerolinecolor": "white"
                      }
                    },
                    "shapedefaults": {
                      "line": {
                        "color": "#2a3f5f"
                      }
                    },
                    "ternary": {
                      "aaxis": {
                        "gridcolor": "white",
                        "linecolor": "white",
                        "ticks": ""
                      },
                      "baxis": {
                        "gridcolor": "white",
                        "linecolor": "white",
                        "ticks": ""
                      },
                      "bgcolor": "#E5ECF6",
                      "caxis": {
                        "gridcolor": "white",
                        "linecolor": "white",
                        "ticks": ""
                      }
                    },
                    "title": {
                      "x": 0.05
                    },
                    "xaxis": {
                      "automargin": true,
                      "gridcolor": "white",
                      "linecolor": "white",
                      "ticks": "",
                      "title": {
                        "standoff": 15
                      },
                      "zerolinecolor": "white",
                      "zerolinewidth": 2
                    },
                    "yaxis": {
                      "automargin": true,
                      "gridcolor": "white",
                      "linecolor": "white",
                      "ticks": "",
                      "title": {
                        "standoff": 15
                      },
                      "zerolinecolor": "white",
                      "zerolinewidth": 2
                    }
                  }
                },
                "title": {
                  "text": "1종 및 2종 오류 시각화 (표준편차 작음)<br>α=0.05, β=0.36, Power=0.64"
                },
                "xaxis": {
                  "title": {
                    "text": "테스트 통계량"
                  }
                },
                "yaxis": {
                  "title": {
                    "text": "확률 밀도"
                  }
                }
              }
            }
          },
          "metadata": {},
          "output_type": "display_data"
        }
      ],
      "source": [
        "# 예시 3: 표준편차가 작을 때 (분포가 뾰족해짐)\n",
        "fig3 = plot_error_types(mu_alt=1, sigma=0.5, title_suffix=\"(표준편차 작음)\")\n",
        "fig3.show()"
      ]
    },
    {
      "cell_type": "markdown",
      "metadata": {
        "id": "PjJTd56p_zvm"
      },
      "source": [
        "**5. Gradio를 이용한 필요 샘플 사이즈 계산기 (개념)**\n",
        "\n",
        "다음 코드는 사용자가 입력한 값에 따라 A/B 테스트에 필요한 샘플 사이즈를 계산해주는 간단한 웹 인터페이스를 Gradio를 사용하여 만드는 예시입니다. 실제 사용을 위해서는 Gradio 라이브러리 설치(`pip install gradio`) 및 실행 환경이 필요합니다."
      ]
    },
    {
      "cell_type": "code",
      "execution_count": 9,
      "metadata": {},
      "outputs": [
        {
          "name": "stdout",
          "output_type": "stream",
          "text": [
            "Defaulting to user installation because normal site-packages is not writeable\n",
            "Collecting gradio\n",
            "  Downloading gradio-5.33.0-py3-none-any.whl.metadata (16 kB)\n",
            "Collecting aiofiles<25.0,>=22.0 (from gradio)\n",
            "  Downloading aiofiles-24.1.0-py3-none-any.whl.metadata (10 kB)\n",
            "Requirement already satisfied: anyio<5.0,>=3.0 in c:\\users\\admin\\appdata\\local\\packages\\pythonsoftwarefoundation.python.3.13_qbz5n2kfra8p0\\localcache\\local-packages\\python313\\site-packages (from gradio) (4.9.0)\n",
            "Collecting audioop-lts<1.0 (from gradio)\n",
            "  Downloading audioop_lts-0.2.1-cp313-abi3-win_amd64.whl.metadata (1.7 kB)\n",
            "Collecting fastapi<1.0,>=0.115.2 (from gradio)\n",
            "  Downloading fastapi-0.115.12-py3-none-any.whl.metadata (27 kB)\n",
            "Collecting ffmpy (from gradio)\n",
            "  Downloading ffmpy-0.6.0-py3-none-any.whl.metadata (2.9 kB)\n",
            "Collecting gradio-client==1.10.2 (from gradio)\n",
            "  Downloading gradio_client-1.10.2-py3-none-any.whl.metadata (7.1 kB)\n",
            "Collecting groovy~=0.1 (from gradio)\n",
            "  Downloading groovy-0.1.2-py3-none-any.whl.metadata (6.1 kB)\n",
            "Requirement already satisfied: httpx>=0.24.1 in c:\\users\\admin\\appdata\\local\\packages\\pythonsoftwarefoundation.python.3.13_qbz5n2kfra8p0\\localcache\\local-packages\\python313\\site-packages (from gradio) (0.28.1)\n",
            "Requirement already satisfied: huggingface-hub>=0.28.1 in c:\\users\\admin\\appdata\\local\\packages\\pythonsoftwarefoundation.python.3.13_qbz5n2kfra8p0\\localcache\\local-packages\\python313\\site-packages (from gradio) (0.32.2)\n",
            "Requirement already satisfied: jinja2<4.0 in c:\\users\\admin\\appdata\\local\\packages\\pythonsoftwarefoundation.python.3.13_qbz5n2kfra8p0\\localcache\\local-packages\\python313\\site-packages (from gradio) (3.1.6)\n",
            "Requirement already satisfied: markupsafe<4.0,>=2.0 in c:\\users\\admin\\appdata\\local\\packages\\pythonsoftwarefoundation.python.3.13_qbz5n2kfra8p0\\localcache\\local-packages\\python313\\site-packages (from gradio) (3.0.2)\n",
            "Requirement already satisfied: numpy<3.0,>=1.0 in c:\\users\\admin\\appdata\\local\\packages\\pythonsoftwarefoundation.python.3.13_qbz5n2kfra8p0\\localcache\\local-packages\\python313\\site-packages (from gradio) (2.2.6)\n",
            "Collecting orjson~=3.0 (from gradio)\n",
            "  Downloading orjson-3.10.18-cp313-cp313-win_amd64.whl.metadata (43 kB)\n",
            "Requirement already satisfied: packaging in c:\\users\\admin\\appdata\\local\\packages\\pythonsoftwarefoundation.python.3.13_qbz5n2kfra8p0\\localcache\\local-packages\\python313\\site-packages (from gradio) (25.0)\n",
            "Requirement already satisfied: pandas<3.0,>=1.0 in c:\\users\\admin\\appdata\\local\\packages\\pythonsoftwarefoundation.python.3.13_qbz5n2kfra8p0\\localcache\\local-packages\\python313\\site-packages (from gradio) (2.2.3)\n",
            "Requirement already satisfied: pillow<12.0,>=8.0 in c:\\users\\admin\\appdata\\local\\packages\\pythonsoftwarefoundation.python.3.13_qbz5n2kfra8p0\\localcache\\local-packages\\python313\\site-packages (from gradio) (11.2.1)\n",
            "Requirement already satisfied: pydantic<2.12,>=2.0 in c:\\users\\admin\\appdata\\local\\packages\\pythonsoftwarefoundation.python.3.13_qbz5n2kfra8p0\\localcache\\local-packages\\python313\\site-packages (from gradio) (2.11.5)\n",
            "Collecting pydub (from gradio)\n",
            "  Downloading pydub-0.25.1-py2.py3-none-any.whl.metadata (1.4 kB)\n",
            "Requirement already satisfied: python-multipart>=0.0.18 in c:\\users\\admin\\appdata\\local\\packages\\pythonsoftwarefoundation.python.3.13_qbz5n2kfra8p0\\localcache\\local-packages\\python313\\site-packages (from gradio) (0.0.20)\n",
            "Requirement already satisfied: pyyaml<7.0,>=5.0 in c:\\users\\admin\\appdata\\local\\packages\\pythonsoftwarefoundation.python.3.13_qbz5n2kfra8p0\\localcache\\local-packages\\python313\\site-packages (from gradio) (6.0.2)\n",
            "Collecting ruff>=0.9.3 (from gradio)\n",
            "  Downloading ruff-0.11.12-py3-none-win_amd64.whl.metadata (26 kB)\n",
            "Collecting safehttpx<0.2.0,>=0.1.6 (from gradio)\n",
            "  Downloading safehttpx-0.1.6-py3-none-any.whl.metadata (4.2 kB)\n",
            "Collecting semantic-version~=2.0 (from gradio)\n",
            "  Downloading semantic_version-2.10.0-py2.py3-none-any.whl.metadata (9.7 kB)\n",
            "Requirement already satisfied: starlette<1.0,>=0.40.0 in c:\\users\\admin\\appdata\\local\\packages\\pythonsoftwarefoundation.python.3.13_qbz5n2kfra8p0\\localcache\\local-packages\\python313\\site-packages (from gradio) (0.46.2)\n",
            "Requirement already satisfied: tomlkit<0.14.0,>=0.12.0 in c:\\users\\admin\\appdata\\local\\packages\\pythonsoftwarefoundation.python.3.13_qbz5n2kfra8p0\\localcache\\local-packages\\python313\\site-packages (from gradio) (0.13.2)\n",
            "Requirement already satisfied: typer<1.0,>=0.12 in c:\\users\\admin\\appdata\\local\\packages\\pythonsoftwarefoundation.python.3.13_qbz5n2kfra8p0\\localcache\\local-packages\\python313\\site-packages (from gradio) (0.16.0)\n",
            "Requirement already satisfied: typing-extensions~=4.0 in c:\\users\\admin\\appdata\\local\\packages\\pythonsoftwarefoundation.python.3.13_qbz5n2kfra8p0\\localcache\\local-packages\\python313\\site-packages (from gradio) (4.13.2)\n",
            "Requirement already satisfied: uvicorn>=0.14.0 in c:\\users\\admin\\appdata\\local\\packages\\pythonsoftwarefoundation.python.3.13_qbz5n2kfra8p0\\localcache\\local-packages\\python313\\site-packages (from gradio) (0.34.2)\n",
            "Requirement already satisfied: fsspec in c:\\users\\admin\\appdata\\local\\packages\\pythonsoftwarefoundation.python.3.13_qbz5n2kfra8p0\\localcache\\local-packages\\python313\\site-packages (from gradio-client==1.10.2->gradio) (2025.5.1)\n",
            "Requirement already satisfied: websockets<16.0,>=10.0 in c:\\users\\admin\\appdata\\local\\packages\\pythonsoftwarefoundation.python.3.13_qbz5n2kfra8p0\\localcache\\local-packages\\python313\\site-packages (from gradio-client==1.10.2->gradio) (14.2)\n",
            "Requirement already satisfied: idna>=2.8 in c:\\users\\admin\\appdata\\local\\packages\\pythonsoftwarefoundation.python.3.13_qbz5n2kfra8p0\\localcache\\local-packages\\python313\\site-packages (from anyio<5.0,>=3.0->gradio) (3.10)\n",
            "Requirement already satisfied: sniffio>=1.1 in c:\\users\\admin\\appdata\\local\\packages\\pythonsoftwarefoundation.python.3.13_qbz5n2kfra8p0\\localcache\\local-packages\\python313\\site-packages (from anyio<5.0,>=3.0->gradio) (1.3.1)\n",
            "Requirement already satisfied: certifi in c:\\users\\admin\\appdata\\local\\packages\\pythonsoftwarefoundation.python.3.13_qbz5n2kfra8p0\\localcache\\local-packages\\python313\\site-packages (from httpx>=0.24.1->gradio) (2025.4.26)\n",
            "Requirement already satisfied: httpcore==1.* in c:\\users\\admin\\appdata\\local\\packages\\pythonsoftwarefoundation.python.3.13_qbz5n2kfra8p0\\localcache\\local-packages\\python313\\site-packages (from httpx>=0.24.1->gradio) (1.0.9)\n",
            "Requirement already satisfied: h11>=0.16 in c:\\users\\admin\\appdata\\local\\packages\\pythonsoftwarefoundation.python.3.13_qbz5n2kfra8p0\\localcache\\local-packages\\python313\\site-packages (from httpcore==1.*->httpx>=0.24.1->gradio) (0.16.0)\n",
            "Requirement already satisfied: filelock in c:\\users\\admin\\appdata\\local\\packages\\pythonsoftwarefoundation.python.3.13_qbz5n2kfra8p0\\localcache\\local-packages\\python313\\site-packages (from huggingface-hub>=0.28.1->gradio) (3.18.0)\n",
            "Requirement already satisfied: requests in c:\\users\\admin\\appdata\\local\\packages\\pythonsoftwarefoundation.python.3.13_qbz5n2kfra8p0\\localcache\\local-packages\\python313\\site-packages (from huggingface-hub>=0.28.1->gradio) (2.32.3)\n",
            "Requirement already satisfied: tqdm>=4.42.1 in c:\\users\\admin\\appdata\\local\\packages\\pythonsoftwarefoundation.python.3.13_qbz5n2kfra8p0\\localcache\\local-packages\\python313\\site-packages (from huggingface-hub>=0.28.1->gradio) (4.67.1)\n",
            "Requirement already satisfied: python-dateutil>=2.8.2 in c:\\users\\admin\\appdata\\local\\packages\\pythonsoftwarefoundation.python.3.13_qbz5n2kfra8p0\\localcache\\local-packages\\python313\\site-packages (from pandas<3.0,>=1.0->gradio) (2.9.0.post0)\n",
            "Requirement already satisfied: pytz>=2020.1 in c:\\users\\admin\\appdata\\local\\packages\\pythonsoftwarefoundation.python.3.13_qbz5n2kfra8p0\\localcache\\local-packages\\python313\\site-packages (from pandas<3.0,>=1.0->gradio) (2025.2)\n",
            "Requirement already satisfied: tzdata>=2022.7 in c:\\users\\admin\\appdata\\local\\packages\\pythonsoftwarefoundation.python.3.13_qbz5n2kfra8p0\\localcache\\local-packages\\python313\\site-packages (from pandas<3.0,>=1.0->gradio) (2025.2)\n",
            "Requirement already satisfied: annotated-types>=0.6.0 in c:\\users\\admin\\appdata\\local\\packages\\pythonsoftwarefoundation.python.3.13_qbz5n2kfra8p0\\localcache\\local-packages\\python313\\site-packages (from pydantic<2.12,>=2.0->gradio) (0.7.0)\n",
            "Requirement already satisfied: pydantic-core==2.33.2 in c:\\users\\admin\\appdata\\local\\packages\\pythonsoftwarefoundation.python.3.13_qbz5n2kfra8p0\\localcache\\local-packages\\python313\\site-packages (from pydantic<2.12,>=2.0->gradio) (2.33.2)\n",
            "Requirement already satisfied: typing-inspection>=0.4.0 in c:\\users\\admin\\appdata\\local\\packages\\pythonsoftwarefoundation.python.3.13_qbz5n2kfra8p0\\localcache\\local-packages\\python313\\site-packages (from pydantic<2.12,>=2.0->gradio) (0.4.1)\n",
            "Requirement already satisfied: click>=8.0.0 in c:\\users\\admin\\appdata\\local\\packages\\pythonsoftwarefoundation.python.3.13_qbz5n2kfra8p0\\localcache\\local-packages\\python313\\site-packages (from typer<1.0,>=0.12->gradio) (8.2.1)\n",
            "Requirement already satisfied: shellingham>=1.3.0 in c:\\users\\admin\\appdata\\local\\packages\\pythonsoftwarefoundation.python.3.13_qbz5n2kfra8p0\\localcache\\local-packages\\python313\\site-packages (from typer<1.0,>=0.12->gradio) (1.5.4)\n",
            "Requirement already satisfied: rich>=10.11.0 in c:\\users\\admin\\appdata\\local\\packages\\pythonsoftwarefoundation.python.3.13_qbz5n2kfra8p0\\localcache\\local-packages\\python313\\site-packages (from typer<1.0,>=0.12->gradio) (14.0.0)\n",
            "Requirement already satisfied: colorama in c:\\users\\admin\\appdata\\local\\packages\\pythonsoftwarefoundation.python.3.13_qbz5n2kfra8p0\\localcache\\local-packages\\python313\\site-packages (from click>=8.0.0->typer<1.0,>=0.12->gradio) (0.4.6)\n",
            "Requirement already satisfied: six>=1.5 in c:\\users\\admin\\appdata\\local\\packages\\pythonsoftwarefoundation.python.3.13_qbz5n2kfra8p0\\localcache\\local-packages\\python313\\site-packages (from python-dateutil>=2.8.2->pandas<3.0,>=1.0->gradio) (1.17.0)\n",
            "Requirement already satisfied: markdown-it-py>=2.2.0 in c:\\users\\admin\\appdata\\local\\packages\\pythonsoftwarefoundation.python.3.13_qbz5n2kfra8p0\\localcache\\local-packages\\python313\\site-packages (from rich>=10.11.0->typer<1.0,>=0.12->gradio) (3.0.0)\n",
            "Requirement already satisfied: pygments<3.0.0,>=2.13.0 in c:\\users\\admin\\appdata\\local\\packages\\pythonsoftwarefoundation.python.3.13_qbz5n2kfra8p0\\localcache\\local-packages\\python313\\site-packages (from rich>=10.11.0->typer<1.0,>=0.12->gradio) (2.19.1)\n",
            "Requirement already satisfied: charset-normalizer<4,>=2 in c:\\users\\admin\\appdata\\local\\packages\\pythonsoftwarefoundation.python.3.13_qbz5n2kfra8p0\\localcache\\local-packages\\python313\\site-packages (from requests->huggingface-hub>=0.28.1->gradio) (3.4.2)\n",
            "Requirement already satisfied: urllib3<3,>=1.21.1 in c:\\users\\admin\\appdata\\local\\packages\\pythonsoftwarefoundation.python.3.13_qbz5n2kfra8p0\\localcache\\local-packages\\python313\\site-packages (from requests->huggingface-hub>=0.28.1->gradio) (2.4.0)\n",
            "Requirement already satisfied: mdurl~=0.1 in c:\\users\\admin\\appdata\\local\\packages\\pythonsoftwarefoundation.python.3.13_qbz5n2kfra8p0\\localcache\\local-packages\\python313\\site-packages (from markdown-it-py>=2.2.0->rich>=10.11.0->typer<1.0,>=0.12->gradio) (0.1.2)\n",
            "Downloading gradio-5.33.0-py3-none-any.whl (54.2 MB)\n",
            "   ---------------------------------------- 0.0/54.2 MB ? eta -:--:--\n",
            "   --- ------------------------------------ 5.0/54.2 MB 24.1 MB/s eta 0:00:03\n",
            "   ------- -------------------------------- 9.7/54.2 MB 24.6 MB/s eta 0:00:02\n",
            "   ----------- ---------------------------- 15.2/54.2 MB 23.6 MB/s eta 0:00:02\n",
            "   -------------- ------------------------- 19.9/54.2 MB 24.0 MB/s eta 0:00:02\n",
            "   -------------- ------------------------- 19.9/54.2 MB 24.0 MB/s eta 0:00:02\n",
            "   --------------- ------------------------ 21.2/54.2 MB 16.6 MB/s eta 0:00:02\n",
            "   ------------------- -------------------- 26.7/54.2 MB 17.9 MB/s eta 0:00:02\n",
            "   ----------------------- ---------------- 32.5/54.2 MB 19.0 MB/s eta 0:00:02\n",
            "   ------------------------- -------------- 34.6/54.2 MB 19.3 MB/s eta 0:00:02\n",
            "   --------------------------- ------------ 37.5/54.2 MB 17.6 MB/s eta 0:00:01\n",
            "   ------------------------------- -------- 42.7/54.2 MB 18.2 MB/s eta 0:00:01\n",
            "   ----------------------------------- ---- 48.2/54.2 MB 18.9 MB/s eta 0:00:01\n",
            "   ---------------------------------------  53.7/54.2 MB 19.4 MB/s eta 0:00:01\n",
            "   ---------------------------------------  54.0/54.2 MB 19.4 MB/s eta 0:00:01\n",
            "   ---------------------------------------- 54.2/54.2 MB 17.9 MB/s eta 0:00:00\n",
            "Downloading gradio_client-1.10.2-py3-none-any.whl (323 kB)\n",
            "Downloading aiofiles-24.1.0-py3-none-any.whl (15 kB)\n",
            "Downloading audioop_lts-0.2.1-cp313-abi3-win_amd64.whl (30 kB)\n",
            "Downloading fastapi-0.115.12-py3-none-any.whl (95 kB)\n",
            "Downloading groovy-0.1.2-py3-none-any.whl (14 kB)\n",
            "Downloading orjson-3.10.18-cp313-cp313-win_amd64.whl (134 kB)\n",
            "Downloading ruff-0.11.12-py3-none-win_amd64.whl (11.5 MB)\n",
            "   ---------------------------------------- 0.0/11.5 MB ? eta -:--:--\n",
            "   ------------------ --------------------- 5.2/11.5 MB 25.3 MB/s eta 0:00:01\n",
            "   ------------------------------------ --- 10.5/11.5 MB 24.8 MB/s eta 0:00:01\n",
            "   ---------------------------------------- 11.5/11.5 MB 23.0 MB/s eta 0:00:00\n",
            "Downloading safehttpx-0.1.6-py3-none-any.whl (8.7 kB)\n",
            "Downloading semantic_version-2.10.0-py2.py3-none-any.whl (15 kB)\n",
            "Downloading ffmpy-0.6.0-py3-none-any.whl (5.5 kB)\n",
            "Downloading pydub-0.25.1-py2.py3-none-any.whl (32 kB)\n",
            "Installing collected packages: pydub, semantic-version, ruff, orjson, groovy, ffmpy, audioop-lts, aiofiles, safehttpx, gradio-client, fastapi, gradio\n",
            "Successfully installed aiofiles-24.1.0 audioop-lts-0.2.1 fastapi-0.115.12 ffmpy-0.6.0 gradio-5.33.0 gradio-client-1.10.2 groovy-0.1.2 orjson-3.10.18 pydub-0.25.1 ruff-0.11.12 safehttpx-0.1.6 semantic-version-2.10.0\n"
          ]
        },
        {
          "name": "stderr",
          "output_type": "stream",
          "text": [
            "\n",
            "[notice] A new release of pip is available: 25.0.1 -> 25.1.1\n",
            "[notice] To update, run: C:\\Users\\Admin\\AppData\\Local\\Microsoft\\WindowsApps\\PythonSoftwareFoundation.Python.3.13_qbz5n2kfra8p0\\python.exe -m pip install --upgrade pip\n"
          ]
        }
      ],
      "source": [
        "!pip install gradio"
      ]
    },
    {
      "cell_type": "code",
      "execution_count": null,
      "metadata": {},
      "outputs": [],
      "source": [
        "import math\n",
        "import gradio as gr\n",
        "\n",
        "def calculate_sample_size(variable_type, control_mean_or_rate=None, experiment_mean_or_rate=None, std=None,\n",
        "                           power=0.8, alpha=0.05):\n",
        "    if variable_type == \"이산형\":\n",
        "        # 효과 크기 계산\n",
        "        effect_size = proportion_effectsize(control_mean_or_rate, experiment_mean_or_rate)\n",
        "        # 샘플 사이즈 계산\n",
        "        sample_size_per_group = NormalIndPower().solve_power(\n",
        "            effect_size=effect_size,\n",
        "            alpha=alpha,\n",
        "            power=power,\n",
        "            ratio=1.0,\n",
        "            alternative='two-sided'\n",
        "        )\n",
        "    elif variable_type == \"연속형\":\n",
        "        # 효과 크기 계산\n",
        "        effect_size = (experiment_mean_or_rate - control_mean_or_rate) / std\n",
        "        # 샘플 사이즈 계산\n",
        "        sample_size_per_group = TTestIndPower().solve_power(\n",
        "            effect_size=effect_size,\n",
        "            alpha=alpha,\n",
        "            power=power,\n",
        "            ratio=1.0,\n",
        "            alternative='two-sided'\n",
        "        )\n",
        "    \n",
        "    # 실험군별 사이즈와 전체 사이즈 반환\n",
        "    return {\n",
        "        \"실험군별 샘플 사이즈\": math.ceil(sample_size_per_group),\n",
        "        \"총 샘플 사이즈\": math.ceil(sample_size_per_group * 2)  # 두 그룹의 총 사이즈\n",
        "    }\n",
        "\n",
        "\n",
        "inputs = [\n",
        "    gr.Radio(choices=[\"이산형\", \"연속형\"], label=\"목표지표 타입\", value=\"이산형\"),\n",
        "    gr.Number(label=\"대조군 비율 또는 평균\"),\n",
        "    gr.Number(label=\"실험군 비율 또는 평균\"),\n",
        "    gr.Number(label=\"표준편차\"),\n",
        "    gr.Number(label=\"검정력\", value=0.8),\n",
        "    gr.Number(label=\"유의수준\", value=0.05)\n",
        "]\n",
        "\n",
        "iface = gr.Interface(\n",
        "    fn=calculate_sample_size,\n",
        "    inputs=inputs,\n",
        "    outputs=\"json\",\n",
        "    \n",
        "    title=\"A/B 테스트를 위한 필요 샘플 사이즈 계산기\",\n",
        "    description=\"변수 유형을 선택하고 필요한 지표를 입력하여 샘플 크기를 계산합니다.\"\n",
        ")\n",
        "\n",
        "# 서버 실행\n",
        "iface.launch(server_name=\"0.0.0.0\", server_port=8050, height=900)\n"
      ]
    },
    {
      "cell_type": "markdown",
      "metadata": {
        "id": "4yvxuun4_zvm"
      },
      "source": [
        "*Gradio 앱은 로컬 환경에서 Python 스크립트를 실행해야 정상적으로 작동합니다. 주피터 환경에서는 `share=True` 옵션을 사용해야 외부 접속이 가능하지만, 여기서는 개념 설명을 위한 코드로 제공합니다.*"
      ]
    },
    {
      "cell_type": "markdown",
      "metadata": {},
      "source": [
        "\n",
        "### ✏️ 연습 문제 (Practice Problems)\n",
        "\n",
        "1.  만약 어떤 A/B 테스트에서 실험군(B)의 전환율이 대조군(A)보다 1%p 높게 나왔고, 이때 p-value가 0.03으로 계산되었다면, 이 결과를 어떻게 해석해야 할까요? (유의수준 $\\alpha=0.05$ 가정)\n"
      ]
    },
    {
      "cell_type": "markdown",
      "metadata": {},
      "source": [
        "* 결과 해석\n",
        "  \n",
        "    > p-value 0.03 < 유의수준 0.05 이므로 귀무가설을 기각할 수 있다. 실험군과 대조군의 전환율 차이 1%p는 통계적으로 유의미하다고 볼 수 있습니다. 이 차이가 우연히 발생했을 확률이 3%로 매우 낮다는 것을 의미합니다. 따라서 실험군이 기존 대조군보다 더 나은 성과를 보인다고 할 수 있습니다."
      ]
    },
    {
      "cell_type": "markdown",
      "metadata": {},
      "source": [
        "2.  위의 \"이산형 변수 샘플 사이즈 계산\" 예제 코드에서, 만약 우리가 더 작은 차이(예: `experiment_rate = 0.022`, 즉 0.2%p 개선)를 감지하고 싶다면 필요한 샘플 사이즈는 어떻게 변할지 예상해보고, 코드를 수정하여 실제 계산해보세요.\n"
      ]
    },
    {
      "cell_type": "code",
      "execution_count": 13,
      "metadata": {},
      "outputs": [
        {
          "name": "stdout",
          "output_type": "stream",
          "text": [
            "Q2. 효과 크기: -0.0140\n",
            "Q2. 각 그룹 필요 샘플: 80638\n"
          ]
        }
      ],
      "source": [
        "# 연습 문제 2번 풀이 공간\n",
        "import statsmodels.stats.power as smp\n",
        "from statsmodels.stats.proportion import proportion_effectsize\n",
        "import numpy as np\n",
        "\n",
        "control_rate_q2 = 0.02\n",
        "experiment_rate_q2 = 0.022 \n",
        "\n",
        "# 효과 크기 계산 (Cohen's h)\n",
        "effect_size_h_q2 = proportion_effectsize(control_rate_q2, experiment_rate_q2)\n",
        "\n",
        "# 필요한 샘플 사이즈 계산\n",
        "sample_size_prop_q2 = smp.NormalIndPower().solve_power(\n",
        "    effect_size=effect_size_h_q2,\n",
        "    alpha=0.05,\n",
        "    power=0.8,\n",
        "    ratio=1.0,\n",
        "    alternative='two-sided'\n",
        ")\n",
        "\n",
        "print(f\"Q2. 효과 크기: {effect_size_h_q2:.4f}\")\n",
        "print(f\"Q2. 각 그룹 필요 샘플: {np.ceil(sample_size_prop_q2):.0f}\") # 예상: 더 많은 샘플 필요"
      ]
    },
    {
      "cell_type": "markdown",
      "metadata": {},
      "source": [
        "3.  \"연속형 변수 샘플 사이즈 계산\" 예제에서, `alternative`를 `'larger'`로 변경하여 단측 검정을 수행할 경우 필요한 샘플 사이즈는 양측 검정과 비교하여 어떻게 달라지는지 확인하고 그 이유를 설명해보세요.\n"
      ]
    },
    {
      "cell_type": "code",
      "execution_count": 14,
      "metadata": {},
      "outputs": [
        {
          "name": "stdout",
          "output_type": "stream",
          "text": [
            "Q3. 양측 검정 샘플: 63\n",
            "Q3. 단측 검정 샘플: 50\n"
          ]
        }
      ],
      "source": [
        "# 연습 문제 3번 풀이 공간\n",
        "control_mean_q3 = 50\n",
        "experiment_mean_q3 = 55\n",
        "std_dev_q3 = 10\n",
        "effect_size_d_q3 = (experiment_mean_q3 - control_mean_q3) / std_dev_q3\n",
        "alpha_q3 = 0.05\n",
        "power_q3 = 0.8\n",
        "\n",
        "# 양측 검정 \n",
        "sample_size_two_sided_q3 = smp.NormalIndPower().solve_power(\n",
        "    effect_size=effect_size_d_q3,\n",
        "    alpha=alpha_q3,\n",
        "    power=power_q3,\n",
        "    ratio=1.0,\n",
        "    alternative='two-sided'\n",
        ")\n",
        "\n",
        "# 단측 검정 (larger)\n",
        "sample_size_one_sided_q3 = smp.NormalIndPower().solve_power(\n",
        "    effect_size=effect_size_d_q3,\n",
        "    alpha=alpha_q3,\n",
        "    power=power_q3,\n",
        "    ratio=1.0,\n",
        "    alternative='larger'\n",
        ")\n",
        "\n",
        "print(f\"Q3. 양측 검정 샘플: {np.ceil(sample_size_two_sided_q3):.0f}\")\n",
        "print(f\"Q3. 단측 검정 샘플: {np.ceil(sample_size_one_sided_q3):.0f}\")"
      ]
    },
    {
      "cell_type": "markdown",
      "metadata": {},
      "source": [
        "> 단측 검정은 특정 방향의 차이만 고려하므로, 동일한 검정력과 유의수준에서 양측 검정보다 적은 샘플 사이즈를 요구합니다.\n",
        "> \n",
        "> 단측 검정은 귀무가설의 기각 영역을 한쪽 꼬리에만 설정하기 때문에, 양측 검정과 달리 양쪽 꼬리에 alpha/2씩 분배할 필요가 없습니다. \n",
        "> \n",
        "> 이는 동일한 alpha 값에서 더 큰 기각 영역을 가질 수 있게 되어, 더 작은 효과 크기도 감지할 수 있음을 의미합니다.\n",
        "> \n",
        "> 결과적으로 동일한 검정력(power)을 달성하기 위해 필요한 샘플 사이즈가 양측 검정보다 작아집니다."
      ]
    },
    {
      "cell_type": "markdown",
      "metadata": {},
      "source": [
        "4.  1종 오류와 2종 오류 시각화 예제에서, 유의수준(`alpha_level`)을 0.1로 높이면 1종 오류 영역과 2종 오류 영역, 그리고 검정력은 어떻게 변할지 예상해보고, 코드를 수정하여 `plot_error_types(alpha_level=0.1)`를 실행하여 확인해보세요."
      ]
    },
    {
      "cell_type": "code",
      "execution_count": 18,
      "metadata": {},
      "outputs": [
        {
          "data": {
            "application/vnd.plotly.v1+json": {
              "config": {
                "plotlyServerURL": "https://plot.ly"
              },
              "data": [
                {
                  "line": {
                    "color": "blue"
                  },
                  "mode": "lines",
                  "name": "H0 분포 (귀무 가설)",
                  "type": "scatter",
                  "x": {
                    "bdata": "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",
                    "dtype": "f8"
                  },
                  "y": {
                    "bdata": "tbTA4piKMT+2zd2f0EEyP8AQgEYFADM/FP4ar3XFMz9OSKWuYpI0P1S3cyQPZzU/zHxfCMBDNj84zzh5vCg3PzqchstNFjg/UhuUmL8MOT/oBc3NXww6P7oxabx+FTs/e0RoKW8oPD+JL95dhkU9P2EbkTccbT4/EGLpOYufPz8kF5pPmG5AP6OmHDU2E0E/PVsSvNC9QT8fIWLJmm5CP2//jMHIJUM/bcMhkpDjQz9zWFu7KahEP2Py6VnNc0U/PyrnMLZGRj+JJfWzICFHP3baiBFLA0g/kXtfPXXtSD9DDh/74N9JP1AnIunR2ko/G8Fui43eSz9zFthWW+tMPztkS7yEAU4/qGtHNFUhTz9eQj8ljSVQP/KD0dSRv1A/meWuk+FeUT/dMjdopgNSP1BwenoLrlI/tzlyGj1eUz91bk/GaBRUP7Dv2zC90FQ/QS3wR2qTVT+EOPw6oVxWP3oOpIGULFc/GMNu4ncDWD85Moh5gOFYP1PTlL/kxlk/NEaXkNyzWj8HKOcyoahbP9S4OF5tpVw/G9K0Qn2qXT+fpyCQDrheP7vDFH1gzl8/dVQh59l2YD8kPeRuJQthP8UBSdE0pGE/Yjnj2ypCYj+DBSEyK+ViP5+IDVFajWM/cpQYk906ZD8wKOMz2+1kP0pQEFR6pmU/XvYZ/eJkZj9nKiklPilnP6Jp8bK182c/KGOOgXTEaD8RtWNkpptpPwIY/ip4eWo/dWr1pBdeaz+bB8+ls0lsP97Q3wh8PG0/qksttaE2bj+hME2hVjhvP5RhoevmIHA/CaIsvJ2pcD8BZn1gajZxP65qQQZox3E/N9yFbLJccj8PK5vlZfZyP7WU9ViflHM/9/gJRXw3dD/jkSbBGt90P40iR3+Zi3U/hS3kzRc9dj8owbyZtfN2P9dlmm+Tr3c/4rYOftJweD+GLCqXlDd5P4SaKzL8A3o/t+QnbSzWej+fZ6kOSa57Pw2RRod2jHw/OiIv89lwfT9qka8bmVt+PysAqnjaTH8/oBsCmWIigD/oC4WQwKGAPzL34WibJIE/gwkgwgergT/YnueWGjWCP+R6GT3pwoI/M8BeZolUgz9NV7EgEeqDP+l13NaWg4Q/1vT0UDEhhT9xIsm098KFP5y+R4YBaYY/QMzdp2YThz9748paP8KHP8Guaz+kdYg/0zx6Va4tiT8b0EP8duqJPwfU0/IXrIo/rJ8TWKtyiz8nrd6qSz6MP+3rCsoTD40/ptRk9B7ljT/V457IiMCOP0ghNEVtoY8/kaweZPRDkD/cVZwHDLqQP4CMYRsMM5E/ZtYhXQOvkT8X+MO5AC6SP7eiKE0TsJI/z2npYUo1kz+R0w9xtb2TP4xWxCFkSZQ/3Rf1SGbYlD9EPfToy2qVP5+mDTGlAJY//OITfQKalj+CNeRU9DaXP+9+4WuL15c/LOFloNh7mD+G8ir77COZPxVXqK7Zz5k/WZdoFrB/mj+iC1S2gTObP7e08Tlg65s//dqdc12nnD8BTrZbi2edP3kfvA/8K54/ZbVq0cH0nj8xEMQF78GfP2QRCRrLSaA/x41uAuW0oD8VP2ugTiKhP/R33GcRkqE/VUyO2zYEoj9+/p+MyHiiPxmb4hnQ76I/o7cxL1dpoz+AR8aEZ+WjP258g94KZKQ/Gag9C0vlpD9tFfvjMWmlP9PQLkvJ76U/2FftKxt5pj9JKRt5MQWnPwAwlSwWlKc/QwNTRtMlqD9i+YLLcrqoP+0IoMX+Uak/YXeBQYHsqT8mVGROBIqqP4PA7vyRKqs/+AUtXjTOqz+MfYiC9XSsPyJMuHjfHq0/6firTPzLrT/f428GVnyuP5WkC6n2L68/fFlaMejmrz8ZeW5KmlCwPzBAQ+Byr7A/3k3BywIQsT/L8/r4TnKxP8Zk3E1c1rE/JTGGqS88sj907aTjzaOyP1MNxss7DbM/PP2pKH54sz+RhpO3meWzPxyKlCuTVLQ/7x3YLG/FtD82HOpXMji1P4Ax/DzhrLU/snkoX4Ajtj9wu7EzFJy2P/pSQSGhFrc/yN0ifyuTtz9GuX2UtxG4P9xnjJdJkrg/9e/RrOUUuT/JSU3mj5m5Pz7xqkJMILo/UbJ0rB6puj+2xj/5CjS7P7Bc2egUwbs/n59xJEBQvD+NW8U9kOG8P+VVRq4Idb0/E3ZC1qwKvj/V2Qn8f6K+P1TxE0uFPL8/cMAj07/Yvz9msbVDmTvAP6h41x7wi8A/J3Sz1mXdwD8pF3G3+y/BPxjuM/2yg8E/1nOs04zYwT9Z6ahVii7CP+RApoyshcI/bS5hcPTdwj9Db2fmYjfDP/haqcH4kcM/TdALwrbtwz/EkPqTnUrEP/kd+8+tqMQ/GCxA+ucHxT/5vD2CTGjFP6z3PcLbycU/o9D2/pUsxj92liBne5DGP/l3DROM9cY/CxhCBMhbxz8cRA8lL8PHPzriLEjBK8g/1StWKH6VyD94SudnZQDJP8lrfJB2bMk/PmKSErHZyT816ChFFEjKP9CaZmWft8o/gcI+llEoyz+//hjgKZrLP7zqejAnDcw/zdCzWUiBzD89gooSjPbMPx5p7fXwbM0/3emkgnXkzT8BKggbGF3OP6dRtATX1s4//VxGaLBRzz8KkxdRos3PP2dbflZVJdA/0QMEpmNk0D/QEifw+qPQP0j31v4Z5NA/0LPNjL8k0T8L5HZF6mXRP1Nc2MSYp9E/g218l8np0T931l06eyzSP7ds1Rqsb9I/koWJllqz0j+6KF/7hPfSP2AVbYcpPNM/V6LwaEaB0z/sgUS+2cbTP55x2ZXhDNQ/tN0w7ltT1D+hgNm1RprUP5kFbsuf4dQ/xLWV/WQp1T/2NgcLlHHVP8FijaIqutU/PDwOYyYD1j/CCpTbhEzWP2ufWItDltY/0MrS4V/g1j9RCMY+1yrXP79jVPKmddc/7Z0SPczA1z9dlB5QRAzYP+PvN00MWNg/sB3bRiGk2D/dlV5AgPDYPz9yEi4mPdk/u1di9Q+K2T8/tPlsOtfZP61S6lyiJNo/HUbVfkRy2j/+LBZ+HcDaP5LM8PcpDts/jgTBe2Zc2z9yGi2Lz6rbP4NbWpph+ds/ORQkEBlI3D8Y21RG8pbcP9gs4onp5dw/FVcqG/s03T9trjQuI4TdP2IM9Opd090/CJGLbaci3j/1o5XG+3HeP3ovbftWwd4/yRB5BrUQ3z8et3nXEWDfP6jr2FNpr98/arv7Vrf+3z/oPUvZ+ybgPzBxgReTTuA/qBPMRR924D9GlYI/np3gPwVJ1tsNxeA/BmwB7mvs4D+2H3dFthPhP8NRFK7qOuE/j4xR8AZi4T+AqnXRCInhP1xmyRPur+E/t8LLdrTW4T87Qme3Wf3hP1XqJ5DbI+I/vAlyuTdK4j/qu7npa3DiP6wiu9V1luI/a06zMFO84j/2zZmsAeLiPz7eWvp+B+M/KzISysgs4z/VSkbL3FHjP+9XJK24duM/TJi8Hlqb4z8GMj/Pvr/jP+R5OW7k4+M/OKHTq8gH5D+SwQ45aSvkPzQ9A8jDTuQ/aGsfDNZx5D9sh2a6nZTkP9fYr4kYt+Q/8AvmMkTZ5D+lsEZxHvvkP37WoQKlHOU/9buZp9U95T96h+Ijrl7lP14Agj4sf+U/xz0Pwk2f5T/ZQfJ8EL/lPxR3o0Fy3uU/9QXr5nD95T/f+B9IChzmPzokZ0U8OuY/ysjxwwRY5j8m5juuYXXmP1AzSvRQkuY/YrPni9Cu5j9I3OJw3srmP4pFSqV45uY/QdWoMZ0B5z84YUElShznP2q6SZZ9Nuc/DhklojVQ5z97351tcGnnPymqHiUsguc/UaPq/Gaa5z+sEFUxH7LnP94R+AZTyec/W4bqygDg5z+ZEfXSJvbnP3Y0xn3DC+g/AXMlM9Ug6D/KfSVkWjXoPy9WVYtRSeg/HmXwLLlc6D8IfA3Xj2/oP9W3zCHUgeg/8D2Er4ST6D+dy+ssoKToP/gPR1Elteg/Q8mO3hLF6D9QnpihZ9ToPwGtPXIi4+g/Hcd/M0Lx6D/vVq3Txf7oP1flg0ysC+k/NjtRo/QX6T9ZGBPpnSPpP0F6lTqnLuk/em2PwA856T9GZL6v1kLpP94NAEn7S+k/m6lq2XxU6T/A0WO6WlzpP8K5tVGUY+k/XdyiESlq6T/UFfh4GHDpPz8nHRNidek/058jeAV66T+VKdRMAn7pPwA3ukJYgek/lg8uGAeE6T+COV2YDobpP9Q+UZtuh+k/F830BSeI6T9bLhfKN4jpPxIbbuagh+k/aeSVZmKG6T8f9w9jfITpPw+3PwHvgek/D7Rlc7p+6T/xOJn43nrpP9g1wNxcduk/ToeFeDRx6T/hm00xZmvpP0Z6KXnyZOk/XCrIztld6T+rg2a9HFbpPz9kvdy7Tek/HVPu0LdE6T+wkW5KETvpP/+f8AXJMOk/pzdMzN8l6T/ewWRyVhrpPxFNDtktDuk/5Abx7GYB6T+zP2umAvToP8/8cQkC5ug/IR9wJWbX6D/wIyQVMMjoP+GFfP5guOg/dcRyEvqn6D+EGOWM/JboP3zcbrRpheg/Qq8/2kJz6D/3WPFZiWDoP+V4XJk+Teg/LwRsCGQ56D/+nO8g+yToPyPKbGYFEOg/NBfvZYT65z+FJde1eeTnP1O2qPXmzec/zbbXzc225z+wVpTvL5/nP1AylhQPh+c/I5nm/mxu5z/g+al4S1XnP3p96FOsO+c/VdpVapEh5z8qaRid/AbnPyeFj9Tv6+Y/80AZAG3Q5j9JetcVdrTmP/lVdBINmOY/Iy7m+DN75j+a/DLS7F3mP1lLM605QOY//7RUnhwi5j92/1u/lwPmP5faJi+t5OU/C01tEV/F5T9I2YKOr6XlP91kF9OgheU/6uv3DzVl5T/uCs95bkTlP8Zo5UhPI+U/5AriuNkB5T+VnYoIEODkP0K6g3n0veQ/VjURUImb5D+rfdbS0HjkPwUXl0rNVeQ/Njn3AYEy5D9pnTxF7g7kP/aCD2IX6+M/APU7p/7G4z8aWnNkpqLjP+RWDuoQfuM/ugzPiEBZ4z8dvaORNzTjP5baaVX4DuM/oo+xJIXp4j/0w4FP4MPiP2SoHCUMnuI/idHE8wp44j/76III31HiP/P8666KK+I/4HXoMBAF4j9WuXvWcd7hP5iBjOWxt+E/vfCtodKQ4T9IZulL1mnhP+UdiSK/QuE/tp3jYI8b4T9y+ic/SfTgP2j3KvLuzOA/Pwg1q4Kl4D8GOtGXBn7gPx0JneF8VuA/CykZrucu4D9gQ3seSQfgP4tkAZ9Gv98/23aEsvBv3z8wnxGelCDfP7ilRn420d4/HuN6ZdqB3j/bCm9bhDLeP/wc/1w4490/t4XWW/qT3T++cCY+zkTdP9hVXt639dw/zcPmCrum3D8vbt6F21fcPzSC2QQdCdw/P0ajMIO62z9oBwKlEWzbP8VXffDLHds/vp8mlLXP2j92BGQD0oHaP6CkvaMkNNo/4yytzLDm2T9NxG/HeZnZPydR2s6CTNk/xRUwD8//2D/JpPulYbPYP70r6qE9Z9g/hRKpAmYb2D/X7cW43c/XP2zCkKWnhNc/TZYAm8Y51z8sTZpbPe/WP2vMWZoOpdY/CmOd+jxb1j9gcRMQyxHWPxxMql67yNU/1VWCWhCA1T/tSeJnzDfVP1ezLdvx79Q/f4nd+IKo1D8y7Xr1gWHUPyX/m/XwGtQ/acniDdLU0z/iNP5CJ4/TP3cDrYnySdM/hcfCxjUF0z/N0C7P8sDSP+8GBWgrfdI/K6mIRuE50j/26jgQFvfRP8pk31rLtNE/QFCgrAJz0T9xhgx8vTHRP2U3NTD98NA/FVHBIMOw0D+GjASWEHHQPyUXGMnmMdA/SZ3px43mzz9tCh4DZGrPP02I51tS784/8wTPzFp1zj+Cigwzf/zNP4M+yk7BhM0/lQpqwyIOzT+H2c0XpZjMP0JTorZJJMw/ZAKs7hGxyz/AzRbz/j7LP0ywx9sRzso/x5mwpUteyj9sYiYzre/JP+67OEw3gsk/FwoMn+oVyT9ADTXAx6rIPxFJFivPQMg/yhE/QgHYxz+xKsxPXnDHP/PfyYXmCcc/2IaX/pmkxj/NTky9eEDGP01OHa6C3cU/jrbEprd7xT8rGepmFxvFPxmri5ihu8Q/dnBo0FVdxD/RPGuOMwDEP/9zFj46pMM/eHfwNmlJwz+7rPC8v+/CP1IJ7QA9l8I/RBEIIeA/wj9ENR8pqOnBP9t9OROUlME/anH2x6JAwT/mIv0e0+3AP79Xa98jnMA/arNEwJNLwD9ar8PRQvi/P5DRvuKWW78/csoZxiDBvj/xgbZx3Si+PxJplr/Jkr0/7mC2buL+vD+kzOkjJG28PwyxtGqL3bs/hMUkthRQuz9EWqlhvMS6Pwv56bF+O7o/Gqab1Ve0uT+0p1TmQy+5P9a7Xuk+rLg/0KOH0EQruD/n7u96Uay3P3ft17VgL7c//bZqPW60tj9aLoe9dTu2PyjwhtJyxLU/8hcDCmFPtT/hyZbjO9y0PyNvn9H+arQ/NpT6OaX7sz/xWMF2Ko6zP/JiAdeJIrM/4UNzn764sj/CRS4LxFCyPyeQWUyV6rE/IJrajC2GsT9D3QDvhyOxP/a+Lo6fwrA/9aV/f29jsD+pMmvS8gWwP4UjyyJJVK8/6MH5hP+frj+yPefP/u6tP2I+sAE9Qa0/aPsxE7CWrD+WFC35Te+rPxpUYqUMS6s/LlKpB+Kpqj8V9AAPxAuqP9fAmaqocKk/0QfayoXYqD8I1ltiUUOoP5u45GYBsac/tktX0oshpz9Ylp6j5pSmP7w0k98HC6Y/PlTakeWDpT9yg77Ndf+kP5RcAq+ufaQ/yg6tWob+oz9dzdD/8oGjP3csS9jqB6M/onN/KWSQoj967wpFVRuiP7RMc4m0qKE/bQfPYng4oT9l+mdLl8qgP8kaWMwHX6A/SttA/IDrnz/aiXQScB2fP3KlRU3KU54/okPCQH2OnT8CBw2kds2cP9kFU1KkEJw/Gd62S/RXmz8wGTG2VKOaPy8EZt6z8pk/nyBxOABGmT9gVKZgKJ2YP83+SBwb+Jc/wBo5WsdWlz+/lZYzHLmWP+4EW+wIH5Y/cOHp83yIlT9JdpflZ/WUP0mqJom5ZZQ/KdE902HZkz9tr9LlUFCTP9ncjRB3ypI//rEl0cRHkj8s7bDTKsiRP+U78fKZS5E/0tWVOAPSkD9RVnbdV1uQP5gEjJMSz48/HE9/KhLtjj+rhpQOkhCOPxo7LS52OY0/0Axs16JnjD8wx1S4/JqLP+91395o04o/5s7+uMwQij9vS5oUDlOJP/ZKfB8Tmog/Mpg0Z8Llhz8Squ/YAjaHP9/4QsG7ioY/g7/uy9TjhT8LgJUDNkGFP/ihadHHooQ/SIDR/HIIhD/7OwKrIHKDP3inkV6634I/3p3/9ilRgj/ZGDewWcaBPxxWByI0P4E/Ml2VP6S7gD+8NMZWlTuAP1orRB/mfX8/NNNh11KLfj91wKCKSZ99PyvOB56juXw/e5p9JTvaez8at1Hi6gB7P6JRu0GOLXo/OeBNWwFgeT8zXGTvIJh4PwGSg2XK1Xc/7wq0ytsYdz8pE9TPM2F2Pxxb4sexrnU/arFBpjUBdT9OT/b8n1h0P04v3frRtHM/xuLdaa0Vcz/PWBetFHtyP5YFCL/q5HE/XtexLxNTcT/vYroicsVwP/Guh03sO3A//gW06s1sbz/QOMbaj2luP+VPtinrbW0/oLonqq15bD+3LBQ/poxrPwdz7Nekpmo/Mpi3bHrHaT9m/TD6+O5oP6IG5n3zHGg/R/RT8j1RZz81fwZLrYtmPx/Ht3AXzGU/VR5yPVMSZT/OOLR4OF5kP+U/mNOfr2M/50b+5GIGYz9MmLolXGJiP35OyOxmw2E/W6aAa18pYT+rddepIpRgP14qnYKOA2A/m2eNPwPvXj9IZXfttt9dP8COVon42Fw/OqjPFYraWz+TApQWL+RaP+OiNoms9Vk/jxgR3sgOWT/SiTjxSy9YPxR4gwP/Vlc/97Sgs6yFVj+q+j/3ILtVPz+STBQp91Q/a2w6mpM5VD/GCWZbMIJTP5OJh2bQ0FI/Ni85AEYlUj9OqJGcZH9RP9BX0tgA31A/juMpdfBDUD+JeRadFFxPP5qsMrFMOk4/UWpPLzsiTT+fB6A1lBNMPwGVOewNDks/7dSSeWARSj/o6S73RR1JP2PkcmZ6MUg/KlCmpbtNRz+11x5lyXFGP/gLlxxlnUU/eVawAFLQRD9XFKD4VApEP6PQB5Q0S0M/6434ALmSQj80ByECrOBBP1nKJuXYNEE/OAcqeQyPQD/Z0ecKKt4/P9+QnoCEqT4/pQQXjMp/PT/9Z1IgoWA8P2k/YdmvSzs/MeNi66BAOj/sNtcRIT85P3DxQX/fRjg/2M4ezY1XNz+J/yXs33A2P5ge4BSMkjU/0fOIuEq8ND8zPkBy1u0zP0G+h/jrJjM/BrEND0pnMj/i58J4sa4xP4KjO+rk/DA/plRa/KhRMD+ZvoY+iFkvP1L3MRv9Gy4/x5L8f0TqLD9UUsHB9cMrP2XXDIGrqCo/zsbDkgOYKT/Hx0/pnpEoP7VuUX4hlSc/WyLVPDKiJj8JBQnserglP9nqcRqo1yQ/vGGdCWn/Iz9v0E6aby8jP6yuJTlwZyI/5Nm6yyGnIT+2BzOePe4gPypZRFF/PCA/yiFakUkjHz/z4DI03NodP06D7fg6nxw/HCRjb+5vGz9mVLopg0waP26UhJ2JNBk/B3SmBZYnGD8negZFQCUXPxT6/skjLRY/CwSPct8+FT/qpUZxFVoUP3G46jJrfhM/S33MRImrEj9bW9E7G+ERPx4PJ5zPHhE/na6gwVdkED8H03GRz2IPPyjxa/BsCw4/FnPXVvrBDD8k/TB674ULP7RIsuXIVgo/IRdi0gc0CT9sPEUAMh0IP3IqqpDREQc/N3qI4XQRBj9DCu5prhsFP/Nfc5cUMAQ/KxGxrEFOAz/XFLCg03UCPzfwTv9rpgE/H9CVyq/fAD+ytPNcRyEAP+PhvZi81f4+v6qmnEZ4/T508VA5kCn8Pn9QdbYC6fo+ZEbC/Ay2+T4Tu1hkI5D4Pmw9zoS/dvc+edOqBmBp9j76aVh2iGf1Pn4gehjBcPQ+rt+hv5aE8z6q2FqjmqLyPh+8fzhiyvE+kafTCof78D5S99SXpjXwPu2zglXE8O4+52OFc72G7T4Q/niIiSzsPgBxY2SA4eo+Ylp2aQCl6T6lWA1PbnboPh/LruY0Vec+nTcA48RA5j6o4J+glDjlPpZu1fAfPOQ+mOIL5udK4z5mXAeicmTiPjiPySVLiOE+uBIYIwG24D5EGDCfUdrfPiT35XK1Wt4+xorxOmfs3D5luGZ9qI7bPmZ3wX7CQNo+8liQ9gUC2T60JcDGytHXPnGhc7Vvr9Y+QhJTKVqa1T7Drz/o9ZHUPk6nV9i0ldM+YuQ3ww6l0j7qT2kbgb/RPqy158OO5NA+uP2w2b8T0D4XwJf+QpnOPhFia1SLHc0+kbNO5IWzyz4qBETEaFrKPp3DaJZyEck+7DnUMerXxz6z8q1OHq3GPrtJYDVlkMU+AFbMcByBxD5kNmWDqH7DPrqIGZ90iMI+cpLyX/KdwT5zXFGJmb7APn91ZYvP078+b9PH0cA+vj6jMSRpGL28PpLGPz7yTbs+RLpYOXTwuT6q9m/UzaO4Pjl1qLU3Z7c+YQSXTfM5tj4Ap155Shu1Pk3TdiiPCrQ+4PH5BRsHsz6PjlslTxCyPme6ZrKTJbE+lSFmpFdGsD7EqrDoIOSuPqmCJ6xzUK0+yGN96KrQqz5neAFe1WOqPihxp7oMCak+37u2IXW/pz5ow1a4PIamPoafyTabXKU+OS4oftFBpD6pGHQyKTWjPi3B1Vj0NaI+V4jd+YxDoT5aPqHHVF2gPufeH49pBZ8+iRev/zlmnT6TY3JQCNybPgY8VLzOZZo+kuxAuJMCmT4loNhnabGXPr7h/BdtcZY+8b7+vsZBlT4k1TSCqCGUPnmewkBOEJM+ZU1cI/0Mkj4pcdQwAxeRPkN3Que2LZA+TNMls+2gjj5OCqiiUv2MPoDjJel3b4s+DAs/30b2iT7BGBxFtpCIPqMnoKTJPYc+i2B9upD8hT7fOOTlJsyEPr3jh56yq4M+xRa18GSagj7J0jr/eJeBPhFX54ozooA+Bo27/sRzfz75pRYKubt9PiLzCTABG3w+N/0xR2uQej73z8JE1Bp5PstjTYUnuXc+EMvHHV5qdj7pJH40fi11PhbplWGaAXQ++Y/QFtHlcj496j0OTNlxPrutkb8/23A+fJ6lt9XVbz6PbzyeKw9uPhx9cpAkYWw+LyBmi3XKaj60nK1Q5ElpPhKIZZVG3mc+QOv2OoGGZj5ncCeRh0FlPrNxCqFaDmQ+VR9ugAjsYj4HIGStq9lhPi0eiXFq1mA+LxxlmezCXz6/c1vNFvRdPqthfQ/gPlw+BlkiL+ihWj5PlKFE4RtZPq5OQseOq1c+vvZirsRPVj7Lb1SdZgdVPtcUbBln0VM+n5jUycasUj4uDqvAk5hRPrJg+szok1A+9Y1Yqtk7Tz5FqhZzpGtNPuJp7HystUs+/YfQ+4AYSj4=",
                    "dtype": "f8"
                  }
                },
                {
                  "line": {
                    "color": "red"
                  },
                  "mode": "lines",
                  "name": "H1 분포 (대립 가설)",
                  "type": "scatter",
                  "x": {
                    "bdata": "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",
                    "dtype": "f8"
                  },
                  "y": {
                    "bdata": "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",
                    "dtype": "f8"
                  }
                },
                {
                  "fill": "toself",
                  "fillcolor": "rgba(0,0,255,0.2)",
                  "line": {
                    "color": "rgba(255,255,255,0)"
                  },
                  "name": "1종 오류 (α = 0.01)",
                  "type": "scatter",
                  "x": {
                    "bdata": "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",
                    "dtype": "f8"
                  },
                  "y": {
                    "bdata": "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",
                    "dtype": "f8"
                  }
                },
                {
                  "fill": "toself",
                  "fillcolor": "rgba(255,0,0,0.2)",
                  "line": {
                    "color": "rgba(255,255,255,0)"
                  },
                  "name": "2종 오류 (β)",
                  "type": "scatter",
                  "x": {
                    "bdata": "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",
                    "dtype": "f8"
                  },
                  "y": {
                    "bdata": "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",
                    "dtype": "f8"
                  }
                }
              ],
              "layout": {
                "shapes": [
                  {
                    "line": {
                      "color": "green",
                      "dash": "dash",
                      "width": 2
                    },
                    "name": "임계값",
                    "type": "line",
                    "x0": 1.1631739370204204,
                    "x1": 1.1631739370204204,
                    "xref": "x",
                    "y0": 0,
                    "y1": 1,
                    "yref": "y domain"
                  }
                ],
                "template": {
                  "data": {
                    "bar": [
                      {
                        "error_x": {
                          "color": "#2a3f5f"
                        },
                        "error_y": {
                          "color": "#2a3f5f"
                        },
                        "marker": {
                          "line": {
                            "color": "#E5ECF6",
                            "width": 0.5
                          },
                          "pattern": {
                            "fillmode": "overlay",
                            "size": 10,
                            "solidity": 0.2
                          }
                        },
                        "type": "bar"
                      }
                    ],
                    "barpolar": [
                      {
                        "marker": {
                          "line": {
                            "color": "#E5ECF6",
                            "width": 0.5
                          },
                          "pattern": {
                            "fillmode": "overlay",
                            "size": 10,
                            "solidity": 0.2
                          }
                        },
                        "type": "barpolar"
                      }
                    ],
                    "carpet": [
                      {
                        "aaxis": {
                          "endlinecolor": "#2a3f5f",
                          "gridcolor": "white",
                          "linecolor": "white",
                          "minorgridcolor": "white",
                          "startlinecolor": "#2a3f5f"
                        },
                        "baxis": {
                          "endlinecolor": "#2a3f5f",
                          "gridcolor": "white",
                          "linecolor": "white",
                          "minorgridcolor": "white",
                          "startlinecolor": "#2a3f5f"
                        },
                        "type": "carpet"
                      }
                    ],
                    "choropleth": [
                      {
                        "colorbar": {
                          "outlinewidth": 0,
                          "ticks": ""
                        },
                        "type": "choropleth"
                      }
                    ],
                    "contour": [
                      {
                        "colorbar": {
                          "outlinewidth": 0,
                          "ticks": ""
                        },
                        "colorscale": [
                          [
                            0,
                            "#0d0887"
                          ],
                          [
                            0.1111111111111111,
                            "#46039f"
                          ],
                          [
                            0.2222222222222222,
                            "#7201a8"
                          ],
                          [
                            0.3333333333333333,
                            "#9c179e"
                          ],
                          [
                            0.4444444444444444,
                            "#bd3786"
                          ],
                          [
                            0.5555555555555556,
                            "#d8576b"
                          ],
                          [
                            0.6666666666666666,
                            "#ed7953"
                          ],
                          [
                            0.7777777777777778,
                            "#fb9f3a"
                          ],
                          [
                            0.8888888888888888,
                            "#fdca26"
                          ],
                          [
                            1,
                            "#f0f921"
                          ]
                        ],
                        "type": "contour"
                      }
                    ],
                    "contourcarpet": [
                      {
                        "colorbar": {
                          "outlinewidth": 0,
                          "ticks": ""
                        },
                        "type": "contourcarpet"
                      }
                    ],
                    "heatmap": [
                      {
                        "colorbar": {
                          "outlinewidth": 0,
                          "ticks": ""
                        },
                        "colorscale": [
                          [
                            0,
                            "#0d0887"
                          ],
                          [
                            0.1111111111111111,
                            "#46039f"
                          ],
                          [
                            0.2222222222222222,
                            "#7201a8"
                          ],
                          [
                            0.3333333333333333,
                            "#9c179e"
                          ],
                          [
                            0.4444444444444444,
                            "#bd3786"
                          ],
                          [
                            0.5555555555555556,
                            "#d8576b"
                          ],
                          [
                            0.6666666666666666,
                            "#ed7953"
                          ],
                          [
                            0.7777777777777778,
                            "#fb9f3a"
                          ],
                          [
                            0.8888888888888888,
                            "#fdca26"
                          ],
                          [
                            1,
                            "#f0f921"
                          ]
                        ],
                        "type": "heatmap"
                      }
                    ],
                    "histogram": [
                      {
                        "marker": {
                          "pattern": {
                            "fillmode": "overlay",
                            "size": 10,
                            "solidity": 0.2
                          }
                        },
                        "type": "histogram"
                      }
                    ],
                    "histogram2d": [
                      {
                        "colorbar": {
                          "outlinewidth": 0,
                          "ticks": ""
                        },
                        "colorscale": [
                          [
                            0,
                            "#0d0887"
                          ],
                          [
                            0.1111111111111111,
                            "#46039f"
                          ],
                          [
                            0.2222222222222222,
                            "#7201a8"
                          ],
                          [
                            0.3333333333333333,
                            "#9c179e"
                          ],
                          [
                            0.4444444444444444,
                            "#bd3786"
                          ],
                          [
                            0.5555555555555556,
                            "#d8576b"
                          ],
                          [
                            0.6666666666666666,
                            "#ed7953"
                          ],
                          [
                            0.7777777777777778,
                            "#fb9f3a"
                          ],
                          [
                            0.8888888888888888,
                            "#fdca26"
                          ],
                          [
                            1,
                            "#f0f921"
                          ]
                        ],
                        "type": "histogram2d"
                      }
                    ],
                    "histogram2dcontour": [
                      {
                        "colorbar": {
                          "outlinewidth": 0,
                          "ticks": ""
                        },
                        "colorscale": [
                          [
                            0,
                            "#0d0887"
                          ],
                          [
                            0.1111111111111111,
                            "#46039f"
                          ],
                          [
                            0.2222222222222222,
                            "#7201a8"
                          ],
                          [
                            0.3333333333333333,
                            "#9c179e"
                          ],
                          [
                            0.4444444444444444,
                            "#bd3786"
                          ],
                          [
                            0.5555555555555556,
                            "#d8576b"
                          ],
                          [
                            0.6666666666666666,
                            "#ed7953"
                          ],
                          [
                            0.7777777777777778,
                            "#fb9f3a"
                          ],
                          [
                            0.8888888888888888,
                            "#fdca26"
                          ],
                          [
                            1,
                            "#f0f921"
                          ]
                        ],
                        "type": "histogram2dcontour"
                      }
                    ],
                    "mesh3d": [
                      {
                        "colorbar": {
                          "outlinewidth": 0,
                          "ticks": ""
                        },
                        "type": "mesh3d"
                      }
                    ],
                    "parcoords": [
                      {
                        "line": {
                          "colorbar": {
                            "outlinewidth": 0,
                            "ticks": ""
                          }
                        },
                        "type": "parcoords"
                      }
                    ],
                    "pie": [
                      {
                        "automargin": true,
                        "type": "pie"
                      }
                    ],
                    "scatter": [
                      {
                        "fillpattern": {
                          "fillmode": "overlay",
                          "size": 10,
                          "solidity": 0.2
                        },
                        "type": "scatter"
                      }
                    ],
                    "scatter3d": [
                      {
                        "line": {
                          "colorbar": {
                            "outlinewidth": 0,
                            "ticks": ""
                          }
                        },
                        "marker": {
                          "colorbar": {
                            "outlinewidth": 0,
                            "ticks": ""
                          }
                        },
                        "type": "scatter3d"
                      }
                    ],
                    "scattercarpet": [
                      {
                        "marker": {
                          "colorbar": {
                            "outlinewidth": 0,
                            "ticks": ""
                          }
                        },
                        "type": "scattercarpet"
                      }
                    ],
                    "scattergeo": [
                      {
                        "marker": {
                          "colorbar": {
                            "outlinewidth": 0,
                            "ticks": ""
                          }
                        },
                        "type": "scattergeo"
                      }
                    ],
                    "scattergl": [
                      {
                        "marker": {
                          "colorbar": {
                            "outlinewidth": 0,
                            "ticks": ""
                          }
                        },
                        "type": "scattergl"
                      }
                    ],
                    "scattermap": [
                      {
                        "marker": {
                          "colorbar": {
                            "outlinewidth": 0,
                            "ticks": ""
                          }
                        },
                        "type": "scattermap"
                      }
                    ],
                    "scattermapbox": [
                      {
                        "marker": {
                          "colorbar": {
                            "outlinewidth": 0,
                            "ticks": ""
                          }
                        },
                        "type": "scattermapbox"
                      }
                    ],
                    "scatterpolar": [
                      {
                        "marker": {
                          "colorbar": {
                            "outlinewidth": 0,
                            "ticks": ""
                          }
                        },
                        "type": "scatterpolar"
                      }
                    ],
                    "scatterpolargl": [
                      {
                        "marker": {
                          "colorbar": {
                            "outlinewidth": 0,
                            "ticks": ""
                          }
                        },
                        "type": "scatterpolargl"
                      }
                    ],
                    "scatterternary": [
                      {
                        "marker": {
                          "colorbar": {
                            "outlinewidth": 0,
                            "ticks": ""
                          }
                        },
                        "type": "scatterternary"
                      }
                    ],
                    "surface": [
                      {
                        "colorbar": {
                          "outlinewidth": 0,
                          "ticks": ""
                        },
                        "colorscale": [
                          [
                            0,
                            "#0d0887"
                          ],
                          [
                            0.1111111111111111,
                            "#46039f"
                          ],
                          [
                            0.2222222222222222,
                            "#7201a8"
                          ],
                          [
                            0.3333333333333333,
                            "#9c179e"
                          ],
                          [
                            0.4444444444444444,
                            "#bd3786"
                          ],
                          [
                            0.5555555555555556,
                            "#d8576b"
                          ],
                          [
                            0.6666666666666666,
                            "#ed7953"
                          ],
                          [
                            0.7777777777777778,
                            "#fb9f3a"
                          ],
                          [
                            0.8888888888888888,
                            "#fdca26"
                          ],
                          [
                            1,
                            "#f0f921"
                          ]
                        ],
                        "type": "surface"
                      }
                    ],
                    "table": [
                      {
                        "cells": {
                          "fill": {
                            "color": "#EBF0F8"
                          },
                          "line": {
                            "color": "white"
                          }
                        },
                        "header": {
                          "fill": {
                            "color": "#C8D4E3"
                          },
                          "line": {
                            "color": "white"
                          }
                        },
                        "type": "table"
                      }
                    ]
                  },
                  "layout": {
                    "annotationdefaults": {
                      "arrowcolor": "#2a3f5f",
                      "arrowhead": 0,
                      "arrowwidth": 1
                    },
                    "autotypenumbers": "strict",
                    "coloraxis": {
                      "colorbar": {
                        "outlinewidth": 0,
                        "ticks": ""
                      }
                    },
                    "colorscale": {
                      "diverging": [
                        [
                          0,
                          "#8e0152"
                        ],
                        [
                          0.1,
                          "#c51b7d"
                        ],
                        [
                          0.2,
                          "#de77ae"
                        ],
                        [
                          0.3,
                          "#f1b6da"
                        ],
                        [
                          0.4,
                          "#fde0ef"
                        ],
                        [
                          0.5,
                          "#f7f7f7"
                        ],
                        [
                          0.6,
                          "#e6f5d0"
                        ],
                        [
                          0.7,
                          "#b8e186"
                        ],
                        [
                          0.8,
                          "#7fbc41"
                        ],
                        [
                          0.9,
                          "#4d9221"
                        ],
                        [
                          1,
                          "#276419"
                        ]
                      ],
                      "sequential": [
                        [
                          0,
                          "#0d0887"
                        ],
                        [
                          0.1111111111111111,
                          "#46039f"
                        ],
                        [
                          0.2222222222222222,
                          "#7201a8"
                        ],
                        [
                          0.3333333333333333,
                          "#9c179e"
                        ],
                        [
                          0.4444444444444444,
                          "#bd3786"
                        ],
                        [
                          0.5555555555555556,
                          "#d8576b"
                        ],
                        [
                          0.6666666666666666,
                          "#ed7953"
                        ],
                        [
                          0.7777777777777778,
                          "#fb9f3a"
                        ],
                        [
                          0.8888888888888888,
                          "#fdca26"
                        ],
                        [
                          1,
                          "#f0f921"
                        ]
                      ],
                      "sequentialminus": [
                        [
                          0,
                          "#0d0887"
                        ],
                        [
                          0.1111111111111111,
                          "#46039f"
                        ],
                        [
                          0.2222222222222222,
                          "#7201a8"
                        ],
                        [
                          0.3333333333333333,
                          "#9c179e"
                        ],
                        [
                          0.4444444444444444,
                          "#bd3786"
                        ],
                        [
                          0.5555555555555556,
                          "#d8576b"
                        ],
                        [
                          0.6666666666666666,
                          "#ed7953"
                        ],
                        [
                          0.7777777777777778,
                          "#fb9f3a"
                        ],
                        [
                          0.8888888888888888,
                          "#fdca26"
                        ],
                        [
                          1,
                          "#f0f921"
                        ]
                      ]
                    },
                    "colorway": [
                      "#636efa",
                      "#EF553B",
                      "#00cc96",
                      "#ab63fa",
                      "#FFA15A",
                      "#19d3f3",
                      "#FF6692",
                      "#B6E880",
                      "#FF97FF",
                      "#FECB52"
                    ],
                    "font": {
                      "color": "#2a3f5f"
                    },
                    "geo": {
                      "bgcolor": "white",
                      "lakecolor": "white",
                      "landcolor": "#E5ECF6",
                      "showlakes": true,
                      "showland": true,
                      "subunitcolor": "white"
                    },
                    "hoverlabel": {
                      "align": "left"
                    },
                    "hovermode": "closest",
                    "mapbox": {
                      "style": "light"
                    },
                    "paper_bgcolor": "white",
                    "plot_bgcolor": "#E5ECF6",
                    "polar": {
                      "angularaxis": {
                        "gridcolor": "white",
                        "linecolor": "white",
                        "ticks": ""
                      },
                      "bgcolor": "#E5ECF6",
                      "radialaxis": {
                        "gridcolor": "white",
                        "linecolor": "white",
                        "ticks": ""
                      }
                    },
                    "scene": {
                      "xaxis": {
                        "backgroundcolor": "#E5ECF6",
                        "gridcolor": "white",
                        "gridwidth": 2,
                        "linecolor": "white",
                        "showbackground": true,
                        "ticks": "",
                        "zerolinecolor": "white"
                      },
                      "yaxis": {
                        "backgroundcolor": "#E5ECF6",
                        "gridcolor": "white",
                        "gridwidth": 2,
                        "linecolor": "white",
                        "showbackground": true,
                        "ticks": "",
                        "zerolinecolor": "white"
                      },
                      "zaxis": {
                        "backgroundcolor": "#E5ECF6",
                        "gridcolor": "white",
                        "gridwidth": 2,
                        "linecolor": "white",
                        "showbackground": true,
                        "ticks": "",
                        "zerolinecolor": "white"
                      }
                    },
                    "shapedefaults": {
                      "line": {
                        "color": "#2a3f5f"
                      }
                    },
                    "ternary": {
                      "aaxis": {
                        "gridcolor": "white",
                        "linecolor": "white",
                        "ticks": ""
                      },
                      "baxis": {
                        "gridcolor": "white",
                        "linecolor": "white",
                        "ticks": ""
                      },
                      "bgcolor": "#E5ECF6",
                      "caxis": {
                        "gridcolor": "white",
                        "linecolor": "white",
                        "ticks": ""
                      }
                    },
                    "title": {
                      "x": 0.05
                    },
                    "xaxis": {
                      "automargin": true,
                      "gridcolor": "white",
                      "linecolor": "white",
                      "ticks": "",
                      "title": {
                        "standoff": 15
                      },
                      "zerolinecolor": "white",
                      "zerolinewidth": 2
                    },
                    "yaxis": {
                      "automargin": true,
                      "gridcolor": "white",
                      "linecolor": "white",
                      "ticks": "",
                      "title": {
                        "standoff": 15
                      },
                      "zerolinecolor": "white",
                      "zerolinewidth": 2
                    }
                  }
                },
                "title": {
                  "text": "1종 및 2종 오류 시각화 (alpha=0.01)<br>α=0.01, β=0.63, Power=0.37"
                },
                "xaxis": {
                  "title": {
                    "text": "테스트 통계량"
                  }
                },
                "yaxis": {
                  "title": {
                    "text": "확률 밀도"
                  }
                }
              }
            }
          },
          "metadata": {},
          "output_type": "display_data"
        }
      ],
      "source": [
        "fig_q4 = plot_error_types(alpha_level=0.01, mu_alt=1, sigma=0.5, title_suffix=\"(alpha=0.01)\")\n",
        "fig_q4.show()"
      ]
    },
    {
      "cell_type": "code",
      "execution_count": null,
      "metadata": {
        "id": "-3_NI0z2_zvn"
      },
      "outputs": [
        {
          "data": {
            "application/vnd.plotly.v1+json": {
              "config": {
                "plotlyServerURL": "https://plot.ly"
              },
              "data": [
                {
                  "line": {
                    "color": "blue"
                  },
                  "mode": "lines",
                  "name": "H0 분포 (귀무 가설)",
                  "type": "scatter",
                  "x": {
                    "bdata": "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",
                    "dtype": "f8"
                  },
                  "y": {
                    "bdata": "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",
                    "dtype": "f8"
                  }
                },
                {
                  "line": {
                    "color": "red"
                  },
                  "mode": "lines",
                  "name": "H1 분포 (대립 가설)",
                  "type": "scatter",
                  "x": {
                    "bdata": "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",
                    "dtype": "f8"
                  },
                  "y": {
                    "bdata": "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",
                    "dtype": "f8"
                  }
                },
                {
                  "fill": "toself",
                  "fillcolor": "rgba(0,0,255,0.2)",
                  "line": {
                    "color": "rgba(255,255,255,0)"
                  },
                  "name": "1종 오류 (α = 0.1)",
                  "type": "scatter",
                  "x": {
                    "bdata": "Mm3iNjyB5D+9DkPJWuLkP0ewo1t5Q+U/0lEE7pek5T9d82SAtgXmP+eUxRLVZuY/cjYmpfPH5j/914Y3EinnP4h558kwiuc/EhtIXE/r5z+dvKjubUzoPyheCYGMreg/sv9pE6sO6T89ocqlyW/pP8hCKzjo0Ok/UuSLygYy6j/dhexcJZPqP2gnTe9D9Oo/8sitgWJV6z99ag4UgbbrPwgMb6afF+w/kq3POL547D8dTzDL3NnsP6jwkF37Ou0/MpLx7xmc7T+9M1KCOP3tP0jVshRXXu4/0nYTp3W/7j9dGHQ5lCDvP+i51Muyge8/cls1XtHi7z9//kr49yHwP0RPe0GHUvA/CaCrihaD8D/P8NvTpbPwP5RBDB015PA/WpI8ZsQU8T8f42yvU0XxP+QznfjidfE/qoTNQXKm8T9v1f2KAdfxPzQmLtSQB/I/+nZeHSA48j+/x45mr2jyP4QYv68+mfI/Smnv+M3J8j8Puh9CXfryP9QKUIvsKvM/mluA1Htb8z9frLAdC4zzPyT94GaavPM/6k0RsCnt8z+vnkH5uB30P3TvcUJITvQ/OkCii9d+9D//kNLUZq/0P8ThAh723/Q/ijIzZ4UQ9T9Pg2OwFEH1PxTUk/mjcfU/2iTEQjOi9T+fdfSLwtL1P2TGJNVRA/Y/KhdVHuEz9j/vZ4VncGT2P7S4tbD/lPY/egnm+Y7F9j8/WhZDHvb2PwSrRoytJvc/yvt21TxX9z+PTKcezIf3P1Sd12dbuPc/Gu4Hsero9z/fPjj6eRn4P6SPaEMJSvg/auCYjJh6+D8vMcnVJ6v4P/SB+R632/g/utIpaEYM+T9/I1qx1Tz5P0R0ivpkbfk/CsW6Q/Sd+T/PFeuMg875P5RmG9YS//k/WrdLH6Iv+j8fCHxoMWD6P+VYrLHAkPo/qqnc+k/B+j9v+gxE3/H6PzVLPY1uIvs/+ptt1v1S+z+/7J0fjYP7P4U9zmgctPs/So7+savk+z8P3y77OhX8P9UvX0TKRfw/moCPjVl2/D9f0b/W6Kb8PyUi8B941/w/6nIgaQcI/T+vw1Cyljj9P3UUgfslaf0/OmWxRLWZ/T//teGNRMr9P8UGEtfT+v0/ildCIGMr/j9PqHJp8lv+PxX5orKBjP4/2knT+xC9/j+fmgNFoO3+P2XrM44vHv8/Kjxk175O/z/vjJQgTn//P7XdxGndr/8/ei71smzg/z+gvxL+fQgAQALoqqLFIABAZRBDRw05AEDIONvrVFEAQCphc5CcaQBAjYkLNeSBAEDwsaPZK5oAQFLaO35zsgBAtQLUIrvKAEAYK2zHAuMAQHpTBGxK+wBA3XucEJITAUBApDS12SsBQKLMzFkhRAFABfVk/mhcAUBoHf2isHQBQMpFlUf4jAFALW4t7D+lAUCQlsWQh70BQPK+XTXP1QFAVef12RbuAUC4D45+XgYCQBo4JiOmHgJAfWC+x+02AkDgiFZsNU8CQEKx7hB9ZwJApdmGtcR/AkAIAh9aDJgCQGoqt/5TsAJAzlJPo5vIAkAwe+dH4+ACQJKjf+wq+QJA9ssXkXIRA0BY9K81uikDQLocSNoBQgNAHkXgfklaA0CAbXgjkXIDQOKVEMjYigNARr6obCCjA0Co5kARaLsDQAoP2bWv0wNAbjdxWvfrA0DQXwn/PgQEQDKIoaOGHARAlrA5SM40BED42NHsFU0EQFoBapFdZQRAvikCNqV9BEAgUpra7JUEQIJ6Mn80rgRA5qLKI3zGBEBIy2LIw94EQKrz+mwL9wRADhyTEVMPBUBwRCu2micFQNJsw1riPwVANpVb/ylYBUCYvfOjcXAFQPrli0i5iAVAXg4k7QChBUDANryRSLkFQCJfVDaQ0QVAhofs2tfpBUDor4R/HwIGQErYHCRnGgZArgC1yK4yBkAQKU1t9koGQHJR5RE+YwZA1nl9toV7BkA4ohVbzZMGQJrKrf8UrAZA/vJFpFzEBkBgG95IpNwGQMJDdu3r9AZAJmwOkjMNB0CIlKY2eyUHQOq8PtvCPQdATuXWfwpWB0CwDW8kUm4HQBI2B8mZhgdAdl6fbeGeB0DYhjcSKbcHQDqvz7ZwzwdAntdnW7jnB0AAAAAAAAAIQAAAAAAAAAhAntdnW7jnB0A6r8+2cM8HQNiGNxIptwdAdl6fbeGeB0ASNgfJmYYHQLANbyRSbgdATuXWfwpWB0DqvD7bwj0HQIiUpjZ7JQdAJmwOkjMNB0DCQ3bt6/QGQGAb3kik3AZA/vJFpFzEBkCayq3/FKwGQDiiFVvNkwZA1nl9toV7BkByUeURPmMGQBApTW32SgZArgC1yK4yBkBK2BwkZxoGQOivhH8fAgZAhofs2tfpBUAiX1Q2kNEFQMA2vJFIuQVAXg4k7QChBUD65YtIuYgFQJi986NxcAVANpVb/ylYBUDSbMNa4j8FQHBEK7aaJwVADhyTEVMPBUCq8/psC/cEQEjLYsjD3gRA5qLKI3zGBECCejJ/NK4EQCBSmtrslQRAvikCNqV9BEBaAWqRXWUEQPjY0ewVTQRAlrA5SM40BEAyiKGjhhwEQNBfCf8+BARAbjdxWvfrA0AKD9m1r9MDQKjmQBFouwNARr6obCCjA0DilRDI2IoDQIBteCORcgNAHkXgfklaA0C6HEjaAUIDQFj0rzW6KQNA9ssXkXIRA0CSo3/sKvkCQDB750fj4AJAzlJPo5vIAkBqKrf+U7ACQAgCH1oMmAJApdmGtcR/AkBCse4QfWcCQOCIVmw1TwJAfWC+x+02AkAaOCYjph4CQLgPjn5eBgJAVef12RbuAUDyvl01z9UBQJCWxZCHvQFALW4t7D+lAUDKRZVH+IwBQGgd/aKwdAFABfVk/mhcAUCizMxZIUQBQECkNLXZKwFA3XucEJITAUB6UwRsSvsAQBgrbMcC4wBAtQLUIrvKAEBS2jt+c7IAQPCxo9krmgBAjYkLNeSBAEAqYXOQnGkAQMg42+tUUQBAZRBDRw05AEAC6KqixSAAQKC/Ev59CABAei71smzg/z+13cRp3a//P++MlCBOf/8/Kjxk175O/z9l6zOOLx7/P5+aA0Wg7f4/2knT+xC9/j8V+aKygYz+P0+ocmnyW/4/ildCIGMr/j/FBhLX0/r9P/+14Y1Eyv0/OmWxRLWZ/T91FIH7JWn9P6/DULKWOP0/6nIgaQcI/T8lIvAfeNf8P1/Rv9bopvw/moCPjVl2/D/VL19EykX8Pw/fLvs6Ffw/So7+savk+z+FPc5oHLT7P7/snR+Ng/s/+ptt1v1S+z81Sz2NbiL7P2/6DETf8fo/qqnc+k/B+j/lWKyxwJD6Px8IfGgxYPo/WrdLH6Iv+j+UZhvWEv/5P88V64yDzvk/CsW6Q/Sd+T9EdIr6ZG35P38jWrHVPPk/utIpaEYM+T/0gfket9v4Py8xydUnq/g/auCYjJh6+D+kj2hDCUr4P98+OPp5Gfg/Gu4Hsero9z9UnddnW7j3P49Mpx7Mh/c/yvt21TxX9z8Eq0aMrSb3Pz9aFkMe9vY/egnm+Y7F9j+0uLWw/5T2P+9nhWdwZPY/KhdVHuEz9j9kxiTVUQP2P5919IvC0vU/2iTEQjOi9T8U1JP5o3H1P0+DY7AUQfU/ijIzZ4UQ9T/E4QIe9t/0P/+Q0tRmr/Q/OkCii9d+9D9073FCSE70P6+eQfm4HfQ/6k0RsCnt8z8k/eBmmrzzP1+ssB0LjPM/mluA1Htb8z/UClCL7CrzPw+6H0Jd+vI/Smnv+M3J8j+EGL+vPpnyP7/HjmavaPI/+nZeHSA48j80Ji7UkAfyP2/V/YoB1/E/qoTNQXKm8T/kM5344nXxPx/jbK9TRfE/WpI8ZsQU8T+UQQwdNeTwP8/w29Ols/A/CaCrihaD8D9ET3tBh1LwP3/+Svj3IfA/cls1XtHi7z/oudTLsoHvP10YdDmUIO8/0nYTp3W/7j9I1bIUV17uP70zUoI4/e0/MpLx7xmc7T+o8JBd+zrtPx1PMMvc2ew/kq3POL547D8IDG+mnxfsP31qDhSBtus/8sitgWJV6z9oJ03vQ/TqP92F7Fwlk+o/UuSLygYy6j/IQis46NDpPz2hyqXJb+k/sv9pE6sO6T8oXgmBjK3oP528qO5tTOg/EhtIXE/r5z+IeefJMIrnP/3XhjcSKec/cjYmpfPH5j/nlMUS1WbmP13zZIC2BeY/0lEE7pek5T9HsKNbeUPlP70OQ8la4uQ/Mm3iNjyB5D8=",
                    "dtype": "f8"
                  },
                  "y": {
                    "bdata": "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",
                    "dtype": "f8"
                  }
                },
                {
                  "fill": "toself",
                  "fillcolor": "rgba(255,0,0,0.2)",
                  "line": {
                    "color": "rgba(255,255,255,0)"
                  },
                  "name": "2종 오류 (β)",
                  "type": "scatter",
                  "x": {
                    "bdata": "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",
                    "dtype": "f8"
                  },
                  "y": {
                    "bdata": "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",
                    "dtype": "f8"
                  }
                }
              ],
              "layout": {
                "shapes": [
                  {
                    "line": {
                      "color": "green",
                      "dash": "dash",
                      "width": 2
                    },
                    "name": "임계값",
                    "type": "line",
                    "x0": 0.6407757827723002,
                    "x1": 0.6407757827723002,
                    "xref": "x",
                    "y0": 0,
                    "y1": 1,
                    "yref": "y domain"
                  }
                ],
                "template": {
                  "data": {
                    "bar": [
                      {
                        "error_x": {
                          "color": "#2a3f5f"
                        },
                        "error_y": {
                          "color": "#2a3f5f"
                        },
                        "marker": {
                          "line": {
                            "color": "#E5ECF6",
                            "width": 0.5
                          },
                          "pattern": {
                            "fillmode": "overlay",
                            "size": 10,
                            "solidity": 0.2
                          }
                        },
                        "type": "bar"
                      }
                    ],
                    "barpolar": [
                      {
                        "marker": {
                          "line": {
                            "color": "#E5ECF6",
                            "width": 0.5
                          },
                          "pattern": {
                            "fillmode": "overlay",
                            "size": 10,
                            "solidity": 0.2
                          }
                        },
                        "type": "barpolar"
                      }
                    ],
                    "carpet": [
                      {
                        "aaxis": {
                          "endlinecolor": "#2a3f5f",
                          "gridcolor": "white",
                          "linecolor": "white",
                          "minorgridcolor": "white",
                          "startlinecolor": "#2a3f5f"
                        },
                        "baxis": {
                          "endlinecolor": "#2a3f5f",
                          "gridcolor": "white",
                          "linecolor": "white",
                          "minorgridcolor": "white",
                          "startlinecolor": "#2a3f5f"
                        },
                        "type": "carpet"
                      }
                    ],
                    "choropleth": [
                      {
                        "colorbar": {
                          "outlinewidth": 0,
                          "ticks": ""
                        },
                        "type": "choropleth"
                      }
                    ],
                    "contour": [
                      {
                        "colorbar": {
                          "outlinewidth": 0,
                          "ticks": ""
                        },
                        "colorscale": [
                          [
                            0,
                            "#0d0887"
                          ],
                          [
                            0.1111111111111111,
                            "#46039f"
                          ],
                          [
                            0.2222222222222222,
                            "#7201a8"
                          ],
                          [
                            0.3333333333333333,
                            "#9c179e"
                          ],
                          [
                            0.4444444444444444,
                            "#bd3786"
                          ],
                          [
                            0.5555555555555556,
                            "#d8576b"
                          ],
                          [
                            0.6666666666666666,
                            "#ed7953"
                          ],
                          [
                            0.7777777777777778,
                            "#fb9f3a"
                          ],
                          [
                            0.8888888888888888,
                            "#fdca26"
                          ],
                          [
                            1,
                            "#f0f921"
                          ]
                        ],
                        "type": "contour"
                      }
                    ],
                    "contourcarpet": [
                      {
                        "colorbar": {
                          "outlinewidth": 0,
                          "ticks": ""
                        },
                        "type": "contourcarpet"
                      }
                    ],
                    "heatmap": [
                      {
                        "colorbar": {
                          "outlinewidth": 0,
                          "ticks": ""
                        },
                        "colorscale": [
                          [
                            0,
                            "#0d0887"
                          ],
                          [
                            0.1111111111111111,
                            "#46039f"
                          ],
                          [
                            0.2222222222222222,
                            "#7201a8"
                          ],
                          [
                            0.3333333333333333,
                            "#9c179e"
                          ],
                          [
                            0.4444444444444444,
                            "#bd3786"
                          ],
                          [
                            0.5555555555555556,
                            "#d8576b"
                          ],
                          [
                            0.6666666666666666,
                            "#ed7953"
                          ],
                          [
                            0.7777777777777778,
                            "#fb9f3a"
                          ],
                          [
                            0.8888888888888888,
                            "#fdca26"
                          ],
                          [
                            1,
                            "#f0f921"
                          ]
                        ],
                        "type": "heatmap"
                      }
                    ],
                    "histogram": [
                      {
                        "marker": {
                          "pattern": {
                            "fillmode": "overlay",
                            "size": 10,
                            "solidity": 0.2
                          }
                        },
                        "type": "histogram"
                      }
                    ],
                    "histogram2d": [
                      {
                        "colorbar": {
                          "outlinewidth": 0,
                          "ticks": ""
                        },
                        "colorscale": [
                          [
                            0,
                            "#0d0887"
                          ],
                          [
                            0.1111111111111111,
                            "#46039f"
                          ],
                          [
                            0.2222222222222222,
                            "#7201a8"
                          ],
                          [
                            0.3333333333333333,
                            "#9c179e"
                          ],
                          [
                            0.4444444444444444,
                            "#bd3786"
                          ],
                          [
                            0.5555555555555556,
                            "#d8576b"
                          ],
                          [
                            0.6666666666666666,
                            "#ed7953"
                          ],
                          [
                            0.7777777777777778,
                            "#fb9f3a"
                          ],
                          [
                            0.8888888888888888,
                            "#fdca26"
                          ],
                          [
                            1,
                            "#f0f921"
                          ]
                        ],
                        "type": "histogram2d"
                      }
                    ],
                    "histogram2dcontour": [
                      {
                        "colorbar": {
                          "outlinewidth": 0,
                          "ticks": ""
                        },
                        "colorscale": [
                          [
                            0,
                            "#0d0887"
                          ],
                          [
                            0.1111111111111111,
                            "#46039f"
                          ],
                          [
                            0.2222222222222222,
                            "#7201a8"
                          ],
                          [
                            0.3333333333333333,
                            "#9c179e"
                          ],
                          [
                            0.4444444444444444,
                            "#bd3786"
                          ],
                          [
                            0.5555555555555556,
                            "#d8576b"
                          ],
                          [
                            0.6666666666666666,
                            "#ed7953"
                          ],
                          [
                            0.7777777777777778,
                            "#fb9f3a"
                          ],
                          [
                            0.8888888888888888,
                            "#fdca26"
                          ],
                          [
                            1,
                            "#f0f921"
                          ]
                        ],
                        "type": "histogram2dcontour"
                      }
                    ],
                    "mesh3d": [
                      {
                        "colorbar": {
                          "outlinewidth": 0,
                          "ticks": ""
                        },
                        "type": "mesh3d"
                      }
                    ],
                    "parcoords": [
                      {
                        "line": {
                          "colorbar": {
                            "outlinewidth": 0,
                            "ticks": ""
                          }
                        },
                        "type": "parcoords"
                      }
                    ],
                    "pie": [
                      {
                        "automargin": true,
                        "type": "pie"
                      }
                    ],
                    "scatter": [
                      {
                        "fillpattern": {
                          "fillmode": "overlay",
                          "size": 10,
                          "solidity": 0.2
                        },
                        "type": "scatter"
                      }
                    ],
                    "scatter3d": [
                      {
                        "line": {
                          "colorbar": {
                            "outlinewidth": 0,
                            "ticks": ""
                          }
                        },
                        "marker": {
                          "colorbar": {
                            "outlinewidth": 0,
                            "ticks": ""
                          }
                        },
                        "type": "scatter3d"
                      }
                    ],
                    "scattercarpet": [
                      {
                        "marker": {
                          "colorbar": {
                            "outlinewidth": 0,
                            "ticks": ""
                          }
                        },
                        "type": "scattercarpet"
                      }
                    ],
                    "scattergeo": [
                      {
                        "marker": {
                          "colorbar": {
                            "outlinewidth": 0,
                            "ticks": ""
                          }
                        },
                        "type": "scattergeo"
                      }
                    ],
                    "scattergl": [
                      {
                        "marker": {
                          "colorbar": {
                            "outlinewidth": 0,
                            "ticks": ""
                          }
                        },
                        "type": "scattergl"
                      }
                    ],
                    "scattermap": [
                      {
                        "marker": {
                          "colorbar": {
                            "outlinewidth": 0,
                            "ticks": ""
                          }
                        },
                        "type": "scattermap"
                      }
                    ],
                    "scattermapbox": [
                      {
                        "marker": {
                          "colorbar": {
                            "outlinewidth": 0,
                            "ticks": ""
                          }
                        },
                        "type": "scattermapbox"
                      }
                    ],
                    "scatterpolar": [
                      {
                        "marker": {
                          "colorbar": {
                            "outlinewidth": 0,
                            "ticks": ""
                          }
                        },
                        "type": "scatterpolar"
                      }
                    ],
                    "scatterpolargl": [
                      {
                        "marker": {
                          "colorbar": {
                            "outlinewidth": 0,
                            "ticks": ""
                          }
                        },
                        "type": "scatterpolargl"
                      }
                    ],
                    "scatterternary": [
                      {
                        "marker": {
                          "colorbar": {
                            "outlinewidth": 0,
                            "ticks": ""
                          }
                        },
                        "type": "scatterternary"
                      }
                    ],
                    "surface": [
                      {
                        "colorbar": {
                          "outlinewidth": 0,
                          "ticks": ""
                        },
                        "colorscale": [
                          [
                            0,
                            "#0d0887"
                          ],
                          [
                            0.1111111111111111,
                            "#46039f"
                          ],
                          [
                            0.2222222222222222,
                            "#7201a8"
                          ],
                          [
                            0.3333333333333333,
                            "#9c179e"
                          ],
                          [
                            0.4444444444444444,
                            "#bd3786"
                          ],
                          [
                            0.5555555555555556,
                            "#d8576b"
                          ],
                          [
                            0.6666666666666666,
                            "#ed7953"
                          ],
                          [
                            0.7777777777777778,
                            "#fb9f3a"
                          ],
                          [
                            0.8888888888888888,
                            "#fdca26"
                          ],
                          [
                            1,
                            "#f0f921"
                          ]
                        ],
                        "type": "surface"
                      }
                    ],
                    "table": [
                      {
                        "cells": {
                          "fill": {
                            "color": "#EBF0F8"
                          },
                          "line": {
                            "color": "white"
                          }
                        },
                        "header": {
                          "fill": {
                            "color": "#C8D4E3"
                          },
                          "line": {
                            "color": "white"
                          }
                        },
                        "type": "table"
                      }
                    ]
                  },
                  "layout": {
                    "annotationdefaults": {
                      "arrowcolor": "#2a3f5f",
                      "arrowhead": 0,
                      "arrowwidth": 1
                    },
                    "autotypenumbers": "strict",
                    "coloraxis": {
                      "colorbar": {
                        "outlinewidth": 0,
                        "ticks": ""
                      }
                    },
                    "colorscale": {
                      "diverging": [
                        [
                          0,
                          "#8e0152"
                        ],
                        [
                          0.1,
                          "#c51b7d"
                        ],
                        [
                          0.2,
                          "#de77ae"
                        ],
                        [
                          0.3,
                          "#f1b6da"
                        ],
                        [
                          0.4,
                          "#fde0ef"
                        ],
                        [
                          0.5,
                          "#f7f7f7"
                        ],
                        [
                          0.6,
                          "#e6f5d0"
                        ],
                        [
                          0.7,
                          "#b8e186"
                        ],
                        [
                          0.8,
                          "#7fbc41"
                        ],
                        [
                          0.9,
                          "#4d9221"
                        ],
                        [
                          1,
                          "#276419"
                        ]
                      ],
                      "sequential": [
                        [
                          0,
                          "#0d0887"
                        ],
                        [
                          0.1111111111111111,
                          "#46039f"
                        ],
                        [
                          0.2222222222222222,
                          "#7201a8"
                        ],
                        [
                          0.3333333333333333,
                          "#9c179e"
                        ],
                        [
                          0.4444444444444444,
                          "#bd3786"
                        ],
                        [
                          0.5555555555555556,
                          "#d8576b"
                        ],
                        [
                          0.6666666666666666,
                          "#ed7953"
                        ],
                        [
                          0.7777777777777778,
                          "#fb9f3a"
                        ],
                        [
                          0.8888888888888888,
                          "#fdca26"
                        ],
                        [
                          1,
                          "#f0f921"
                        ]
                      ],
                      "sequentialminus": [
                        [
                          0,
                          "#0d0887"
                        ],
                        [
                          0.1111111111111111,
                          "#46039f"
                        ],
                        [
                          0.2222222222222222,
                          "#7201a8"
                        ],
                        [
                          0.3333333333333333,
                          "#9c179e"
                        ],
                        [
                          0.4444444444444444,
                          "#bd3786"
                        ],
                        [
                          0.5555555555555556,
                          "#d8576b"
                        ],
                        [
                          0.6666666666666666,
                          "#ed7953"
                        ],
                        [
                          0.7777777777777778,
                          "#fb9f3a"
                        ],
                        [
                          0.8888888888888888,
                          "#fdca26"
                        ],
                        [
                          1,
                          "#f0f921"
                        ]
                      ]
                    },
                    "colorway": [
                      "#636efa",
                      "#EF553B",
                      "#00cc96",
                      "#ab63fa",
                      "#FFA15A",
                      "#19d3f3",
                      "#FF6692",
                      "#B6E880",
                      "#FF97FF",
                      "#FECB52"
                    ],
                    "font": {
                      "color": "#2a3f5f"
                    },
                    "geo": {
                      "bgcolor": "white",
                      "lakecolor": "white",
                      "landcolor": "#E5ECF6",
                      "showlakes": true,
                      "showland": true,
                      "subunitcolor": "white"
                    },
                    "hoverlabel": {
                      "align": "left"
                    },
                    "hovermode": "closest",
                    "mapbox": {
                      "style": "light"
                    },
                    "paper_bgcolor": "white",
                    "plot_bgcolor": "#E5ECF6",
                    "polar": {
                      "angularaxis": {
                        "gridcolor": "white",
                        "linecolor": "white",
                        "ticks": ""
                      },
                      "bgcolor": "#E5ECF6",
                      "radialaxis": {
                        "gridcolor": "white",
                        "linecolor": "white",
                        "ticks": ""
                      }
                    },
                    "scene": {
                      "xaxis": {
                        "backgroundcolor": "#E5ECF6",
                        "gridcolor": "white",
                        "gridwidth": 2,
                        "linecolor": "white",
                        "showbackground": true,
                        "ticks": "",
                        "zerolinecolor": "white"
                      },
                      "yaxis": {
                        "backgroundcolor": "#E5ECF6",
                        "gridcolor": "white",
                        "gridwidth": 2,
                        "linecolor": "white",
                        "showbackground": true,
                        "ticks": "",
                        "zerolinecolor": "white"
                      },
                      "zaxis": {
                        "backgroundcolor": "#E5ECF6",
                        "gridcolor": "white",
                        "gridwidth": 2,
                        "linecolor": "white",
                        "showbackground": true,
                        "ticks": "",
                        "zerolinecolor": "white"
                      }
                    },
                    "shapedefaults": {
                      "line": {
                        "color": "#2a3f5f"
                      }
                    },
                    "ternary": {
                      "aaxis": {
                        "gridcolor": "white",
                        "linecolor": "white",
                        "ticks": ""
                      },
                      "baxis": {
                        "gridcolor": "white",
                        "linecolor": "white",
                        "ticks": ""
                      },
                      "bgcolor": "#E5ECF6",
                      "caxis": {
                        "gridcolor": "white",
                        "linecolor": "white",
                        "ticks": ""
                      }
                    },
                    "title": {
                      "x": 0.05
                    },
                    "xaxis": {
                      "automargin": true,
                      "gridcolor": "white",
                      "linecolor": "white",
                      "ticks": "",
                      "title": {
                        "standoff": 15
                      },
                      "zerolinecolor": "white",
                      "zerolinewidth": 2
                    },
                    "yaxis": {
                      "automargin": true,
                      "gridcolor": "white",
                      "linecolor": "white",
                      "ticks": "",
                      "title": {
                        "standoff": 15
                      },
                      "zerolinecolor": "white",
                      "zerolinewidth": 2
                    }
                  }
                },
                "title": {
                  "text": "1종 및 2종 오류 시각화 (alpha=0.1)<br>α=0.10, β=0.24, Power=0.76"
                },
                "xaxis": {
                  "title": {
                    "text": "테스트 통계량"
                  }
                },
                "yaxis": {
                  "title": {
                    "text": "확률 밀도"
                  }
                }
              }
            }
          },
          "metadata": {},
          "output_type": "display_data"
        }
      ],
      "source": [
        "# 연습 문제 4번 풀이 공간\n",
        "# 1종 오류와 2종 오류 시각화 함수 실행\n",
        "fig_q4 = plot_error_types(alpha_level=0.1, mu_alt=1, sigma=0.5, title_suffix=\"(alpha=0.1)\")\n",
        "fig_q4.show()\n",
        "# 유의 수준을 올리니 베타는 줄어들고 알파 영역은 늘어남 -> 검정력이 증가"
      ]
    },
    {
      "cell_type": "markdown",
      "metadata": {},
      "source": [
        "\n",
        "* 결과: alpha_level을 0.1로 높이면,\n",
        "    \n",
        "> 1. 1종 오류(Type I Error) 영역 증가\n",
        "> - 귀무가설이 참일 때 이를 기각할 확률이 5%에서 10%로 증가\n",
        "> - 즉, 실제로는 차이가 없는데 차이가 있다고 잘못 판단할 가능성 증가\n",
        ">\n",
        "> 2. 2종 오류(Type II Error) 영역 감소\n",
        "> - 대립가설이 참일 때 귀무가설을 기각하지 못할 확률 감소\n",
        ">- 기각역이 넓어져 귀무가설을 더 쉽게 기각할 수 있기 때문\n",
        ">\n",
        "> 3. 검정력(Power) 증가\n",
        "> - 2종 오류가 감소함에 따라 검정력(1-β) 증가\n",
        "> - 실제 차이가 있을 때 이를 발견할 확률이 높아짐\n",
        "> \n",
        "> ※ 주의사항\n",
        "> - 1종 오류 증가는 거짓 양성(false positive) 위험 증가를 의미\n",
        "> - 더 엄격한 의사결정이 필요한 경우 alpha=0.05 또는 0.01 사용 권장"
      ]
    },
    {
      "cell_type": "markdown",
      "metadata": {
        "id": "znWG14Z7_zvn"
      },
      "source": [
        "---\n",
        "\n",
        "## 6. 가상 데이터 A/B 테스트 실행 및 분석 예시\n",
        "\n",
        "### 💡 개념 (Concept)\n",
        "\n",
        "실제 A/B 테스트 데이터를 분석하는 과정을 간단한 가상 데이터를 통해 시뮬레이션해봅니다. 여기서는 두 그룹(A, B)에 대해 특정 지표(예: 평균 세션 시간, 전환율)를 비교하고 통계적 유의성을 검증합니다.\n",
        "\n",
        "**데이터 생성 (가정):**\n",
        "\n",
        "20일 동안 20,000명의 사용자가 평균 3번 방문하며, A/B 테스트에 참여했다고 가정합니다. 각 사용자는 A그룹 또는 B그룹에 할당되고, 특정 행동(예: 구매, 클릭) 여부와 연속형 지표(예: 사용 시간)가 기록됩니다.\n",
        "\n",
        "실제 데이터는 아래와 같은 컬럼을 가질 수 있습니다:\n",
        "* `user_id`: 사용자 고유 ID\n",
        "* `timestamp`: 이벤트 발생 시간\n",
        "* `variant`: 할당된 그룹 (A 또는 B)\n",
        "* `converted`: 전환 여부 (0 또는 1)\n",
        "* `session_duration`: 세션 지속 시간 (분)\n",
        "* `purchase_amount`: 구매 금액 (전환한 경우)\n",
        "\n",
        "여기서는 분석을 위해 미리 생성된 요약 데이터를 사용하거나, 간단히 생성해보겠습니다.\n",
        "\n",
        "**분석 단계:**\n",
        "\n",
        "1.  **데이터 로드 및 전처리**: 데이터를 불러오고 필요한 형태로 가공합니다.\n",
        "2.  **그룹별 기술 통계 확인**: 각 그룹의 평균, 표준편차, 샘플 수 등을 확인합니다.\n",
        "3.  **통계적 가설 검정**:\n",
        "    * 연속형 지표 (예: 평균 세션 시간): Independent two-sample t-test\n",
        "    * 이산형 지표 (예: 전환율): Two-proportion z-test 또는 Chi-squared test\n",
        "4.  **결과 해석**: p-value와 신뢰구간을 바탕으로 결론을 도출합니다."
      ]
    },
    {
      "cell_type": "markdown",
      "metadata": {},
      "source": [
        "\n",
        "### 💻 예시 코드 (Example Code)\n",
        "\n",
        "**1. 샘플 데이터 생성 및 t-검정 (연속형 지표)**\n",
        "\n",
        "A그룹과 B그룹의 웹사이트 평균 체류 시간을 비교한다고 가정합니다."
      ]
    },
    {
      "cell_type": "markdown",
      "metadata": {},
      "source": [
        "가상 데이터 생성"
      ]
    },
    {
      "cell_type": "code",
      "execution_count": 19,
      "metadata": {
        "id": "JU4NH4yQ_zvn"
      },
      "outputs": [],
      "source": [
        "import pandas as pd\n",
        "import numpy as np\n",
        "from scipy import stats\n",
        "\n",
        "# 시드 고정\n",
        "np.random.seed(42)\n",
        "\n",
        "# 가상 데이터 생성\n",
        "# 그룹 A: 평균 체류 시간 120초, 표준편차 30초, 사용자 1000명\n",
        "group_A_duration = np.random.normal(loc=120, scale=30, size=1000)\n",
        "# 그룹 B: 평균 체류 시간 128초, 표준편차 32초, 사용자 1020명 (약간의 차이를 줌)\n",
        "group_B_duration = np.random.normal(loc=128, scale=32, size=1020)\n",
        "\n",
        "# Pandas DataFrame으로 만들기\n",
        "df_A = pd.DataFrame({'variant': 'A', 'duration': group_A_duration})\n",
        "df_B = pd.DataFrame({'variant': 'B', 'duration': group_B_duration})\n",
        "ab_data_duration = pd.concat([df_A, df_B], ignore_index=True)"
      ]
    },
    {
      "cell_type": "code",
      "execution_count": 20,
      "metadata": {},
      "outputs": [
        {
          "data": {
            "text/html": [
              "<div>\n",
              "<style scoped>\n",
              "    .dataframe tbody tr th:only-of-type {\n",
              "        vertical-align: middle;\n",
              "    }\n",
              "\n",
              "    .dataframe tbody tr th {\n",
              "        vertical-align: top;\n",
              "    }\n",
              "\n",
              "    .dataframe thead th {\n",
              "        text-align: right;\n",
              "    }\n",
              "</style>\n",
              "<table border=\"1\" class=\"dataframe\">\n",
              "  <thead>\n",
              "    <tr style=\"text-align: right;\">\n",
              "      <th></th>\n",
              "      <th>variant</th>\n",
              "      <th>duration</th>\n",
              "    </tr>\n",
              "  </thead>\n",
              "  <tbody>\n",
              "    <tr>\n",
              "      <th>0</th>\n",
              "      <td>A</td>\n",
              "      <td>134.901425</td>\n",
              "    </tr>\n",
              "    <tr>\n",
              "      <th>1</th>\n",
              "      <td>A</td>\n",
              "      <td>115.852071</td>\n",
              "    </tr>\n",
              "    <tr>\n",
              "      <th>2</th>\n",
              "      <td>A</td>\n",
              "      <td>139.430656</td>\n",
              "    </tr>\n",
              "    <tr>\n",
              "      <th>3</th>\n",
              "      <td>A</td>\n",
              "      <td>165.690896</td>\n",
              "    </tr>\n",
              "    <tr>\n",
              "      <th>4</th>\n",
              "      <td>A</td>\n",
              "      <td>112.975399</td>\n",
              "    </tr>\n",
              "    <tr>\n",
              "      <th>...</th>\n",
              "      <td>...</td>\n",
              "      <td>...</td>\n",
              "    </tr>\n",
              "    <tr>\n",
              "      <th>2015</th>\n",
              "      <td>B</td>\n",
              "      <td>121.797564</td>\n",
              "    </tr>\n",
              "    <tr>\n",
              "      <th>2016</th>\n",
              "      <td>B</td>\n",
              "      <td>119.535525</td>\n",
              "    </tr>\n",
              "    <tr>\n",
              "      <th>2017</th>\n",
              "      <td>B</td>\n",
              "      <td>63.876404</td>\n",
              "    </tr>\n",
              "    <tr>\n",
              "      <th>2018</th>\n",
              "      <td>B</td>\n",
              "      <td>148.333377</td>\n",
              "    </tr>\n",
              "    <tr>\n",
              "      <th>2019</th>\n",
              "      <td>B</td>\n",
              "      <td>88.343731</td>\n",
              "    </tr>\n",
              "  </tbody>\n",
              "</table>\n",
              "<p>2020 rows × 2 columns</p>\n",
              "</div>"
            ],
            "text/plain": [
              "     variant    duration\n",
              "0          A  134.901425\n",
              "1          A  115.852071\n",
              "2          A  139.430656\n",
              "3          A  165.690896\n",
              "4          A  112.975399\n",
              "...      ...         ...\n",
              "2015       B  121.797564\n",
              "2016       B  119.535525\n",
              "2017       B   63.876404\n",
              "2018       B  148.333377\n",
              "2019       B   88.343731\n",
              "\n",
              "[2020 rows x 2 columns]"
            ]
          },
          "execution_count": 20,
          "metadata": {},
          "output_type": "execute_result"
        }
      ],
      "source": [
        "ab_data_duration"
      ]
    },
    {
      "cell_type": "code",
      "execution_count": 21,
      "metadata": {},
      "outputs": [
        {
          "name": "stdout",
          "output_type": "stream",
          "text": [
            "A그룹 평균 체류 시간: 120.57996167466976\n",
            "B그룹 평균 체류 시간: 129.93571361827654\n"
          ]
        }
      ],
      "source": [
        "print(\"A그룹 평균 체류 시간:\", np.mean(group_A_duration))\n",
        "print(\"B그룹 평균 체류 시간:\", np.mean(group_B_duration))"
      ]
    },
    {
      "cell_type": "markdown",
      "metadata": {},
      "source": [
        "ABTest (Welch's t-test)"
      ]
    },
    {
      "cell_type": "code",
      "execution_count": 22,
      "metadata": {},
      "outputs": [
        {
          "name": "stdout",
          "output_type": "stream",
          "text": [
            "\n",
            "연속형 지표 (평균 체류 시간) t-검정 결과:\n",
            "T-statistic: -6.8574\n",
            "P-value: 0.0000\n"
          ]
        }
      ],
      "source": [
        "# Independent two-sample t-test (Welch's t-test: equal_var=False)\n",
        "# 귀무 가설 H0: 두 그룹의 평균 체류 시간은 같다.\n",
        "# 대립 가설 H1: 두 그룹의 평균 체류 시간은 다르다.\n",
        "# 통계량, p-value가 튜플 형태로 저장\n",
        "t_statistic_duration, p_value_duration = stats.ttest_ind(\n",
        "    group_A_duration,\n",
        "    group_B_duration,\n",
        "    equal_var=False # 두 그룹의 분산이 다를 수 있다고 가정 (더 안전한 선택)\n",
        ")\n",
        "\n",
        "print(f\"\\n연속형 지표 (평균 체류 시간) t-검정 결과:\")\n",
        "print(f\"T-statistic: {t_statistic_duration:.4f}\")\n",
        "print(f\"P-value: {p_value_duration:.4f}\")"
      ]
    },
    {
      "cell_type": "markdown",
      "metadata": {},
      "source": [
        "해석"
      ]
    },
    {
      "cell_type": "code",
      "execution_count": 25,
      "metadata": {},
      "outputs": [
        {
          "name": "stdout",
          "output_type": "stream",
          "text": [
            "결론: p-value (0.0000) < 유의수준 (0.05).\n",
            "      귀무 가설을 기각합니다. 두 그룹 간 평균 체류 시간에 통계적으로 유의미한 차이가 존재합니다.\n"
          ]
        }
      ],
      "source": [
        "alpha = 0.05\n",
        "if p_value_duration < alpha:\n",
        "    print(f\"결론: p-value ({p_value_duration:.4f}) < 유의수준 ({alpha}).\")\n",
        "    print(\"      귀무 가설을 기각합니다. 두 그룹 간 평균 체류 시간에 통계적으로 유의미한 차이가 존재합니다.\")\n",
        "else:\n",
        "    print(f\"결론: p-value ({p_value_duration:.4f}) >= 유의수준 ({alpha}).\")\n",
        "    print(\"      귀무 가설을 기각하지 못합니다. 두 그룹 간 평균 체류 시간에 통계적으로 유의미한 차이가 있다고 보기 어렵습니다.\")"
      ]
    },
    {
      "cell_type": "markdown",
      "metadata": {},
      "source": [
        "신뢰구간 계산"
      ]
    },
    {
      "cell_type": "code",
      "execution_count": 26,
      "metadata": {},
      "outputs": [
        {
          "name": "stdout",
          "output_type": "stream",
          "text": [
            "그룹 A 평균 체류 시간 (95% CI): 120.58s, [118.76s, 122.40s]\n",
            "그룹 B 평균 체류 시간 (95% CI): 129.94s, [127.97s, 131.90s]\n"
          ]
        }
      ],
      "source": [
        "# 신뢰구간 계산 함수 (statsmodels 사용 권장, 여기서는 scipy.stats.t.interval 사용 예시)\n",
        "def get_confidence_interval(data, confidence=0.95):\n",
        "    n = len(data)\n",
        "    mean = np.mean(data)\n",
        "    sem = stats.sem(data) # 표준 오차 (Standard Error of the Mean)\n",
        "    if sem == 0: # 데이터가 모두 동일한 경우\n",
        "        return (mean, mean)\n",
        "    ci = stats.t.interval(confidence, df=n-1, loc=mean, scale=sem)\n",
        "    return ci\n",
        "\n",
        "ci_A_duration = get_confidence_interval(group_A_duration)\n",
        "ci_B_duration = get_confidence_interval(group_B_duration)\n",
        "\n",
        "print(f\"그룹 A 평균 체류 시간 (95% CI): {np.mean(group_A_duration):.2f}s, [{ci_A_duration[0]:.2f}s, {ci_A_duration[1]:.2f}s]\")\n",
        "print(f\"그룹 B 평균 체류 시간 (95% CI): {np.mean(group_B_duration):.2f}s, [{ci_B_duration[0]:.2f}s, {ci_B_duration[1]:.2f}s]\")"
      ]
    },
    {
      "cell_type": "markdown",
      "metadata": {
        "id": "aVT2jfWt_zvn"
      },
      "source": [
        "**2. 샘플 데이터 생성 및 비율 검정 (이산형 지표 - 전환율)**\n",
        "\n",
        "A그룹과 B그룹의 구매 전환율을 비교한다고 가정합니다."
      ]
    },
    {
      "cell_type": "markdown",
      "metadata": {},
      "source": [
        "가상 데이터 생성"
      ]
    },
    {
      "cell_type": "code",
      "execution_count": 27,
      "metadata": {
        "id": "s0-uToxA_zvn"
      },
      "outputs": [
        {
          "name": "stdout",
          "output_type": "stream",
          "text": [
            "그룹 A 전환율: 0.0800\n",
            "그룹 B 전환율: 0.1000\n"
          ]
        }
      ],
      "source": [
        "import numpy as np\n",
        "from statsmodels.stats.proportion import proportions_ztest\n",
        "\n",
        "# 시드 고정\n",
        "np.random.seed(0)\n",
        "\n",
        "# 가상 데이터 생성\n",
        "# 그룹 A: 방문자 1000명, 전환(구매) 80명\n",
        "visitors_A = 1000\n",
        "conversions_A = 80 # np.random.binomial(visitors_A, p=0.08) # 예시 전환율 8%\n",
        "\n",
        "# 그룹 B: 방문자 1050명, 전환(구매) 105명\n",
        "visitors_B = 1050\n",
        "conversions_B = 105 # np.random.binomial(visitors_B, p=0.10) # 예시 전환율 10%\n",
        "\n",
        "# 전환율\n",
        "cr_A = conversions_A / visitors_A\n",
        "cr_B = conversions_B / visitors_B\n",
        "\n",
        "print(f\"그룹 A 전환율: {cr_A:.4f}\")\n",
        "print(f\"그룹 B 전환율: {cr_B:.4f}\")"
      ]
    },
    {
      "cell_type": "markdown",
      "metadata": {},
      "source": [
        "ABTest (Two-proportion z-test)"
      ]
    },
    {
      "cell_type": "code",
      "execution_count": 28,
      "metadata": {},
      "outputs": [
        {
          "name": "stdout",
          "output_type": "stream",
          "text": [
            "\n",
            "이산형 지표 (전환율) Z-검정 결과:\n",
            "Z-statistic: -1.5797\n",
            "P-value: 0.1142\n",
            "결론: p-value (0.1142) >= 유의수준 (0.05).\n",
            "      귀무 가설을 기각하지 못합니다. 두 그룹 간 전환율에 통계적으로 유의미한 차이가 있다고 보기 어렵습니다.\n"
          ]
        }
      ],
      "source": [
        "# Two-proportion z-test\n",
        "# 귀무 가설 H0: 두 그룹의 전환율은 같다.\n",
        "# 대립 가설 H1: 두 그룹의 전환율은 다르다.\n",
        "count = np.array([conversions_A, conversions_B])\n",
        "nobs = np.array([visitors_A, visitors_B])\n",
        "\n",
        "z_statistic_cr, p_value_cr = proportions_ztest(count, nobs, alternative='two-sided')\n",
        "\n",
        "print(f\"\\n이산형 지표 (전환율) Z-검정 결과:\")\n",
        "print(f\"Z-statistic: {z_statistic_cr:.4f}\")\n",
        "print(f\"P-value: {p_value_cr:.4f}\")\n",
        "\n",
        "alpha = 0.05\n",
        "if p_value_cr < alpha:\n",
        "    print(f\"결론: p-value ({p_value_cr:.4f}) < 유의수준 ({alpha}).\")\n",
        "    print(\"      귀무 가설을 기각합니다. 두 그룹 간 전환율에 통계적으로 유의미한 차이가 존재합니다.\")\n",
        "else:\n",
        "    print(f\"결론: p-value ({p_value_cr:.4f}) >= 유의수준 ({alpha}).\")\n",
        "    print(\"      귀무 가설을 기각하지 못합니다. 두 그룹 간 전환율에 통계적으로 유의미한 차이가 있다고 보기 어렵습니다.\")\n"
      ]
    },
    {
      "cell_type": "markdown",
      "metadata": {},
      "source": [
        "신뢰구간 계산"
      ]
    },
    {
      "cell_type": "code",
      "execution_count": 29,
      "metadata": {},
      "outputs": [
        {
          "name": "stdout",
          "output_type": "stream",
          "text": [
            "\n",
            "그룹 A 전환율 (95% CI): 0.0800, [0.0632, 0.0968]\n",
            "그룹 B 전환율 (95% CI): 0.1000, [0.0819, 0.1181]\n"
          ]
        }
      ],
      "source": [
        "# 신뢰구간 (statsmodels.stats.proportion.proportion_confint 사용)\n",
        "from statsmodels.stats.proportion import proportion_confint\n",
        "\n",
        "ci_A_cr_lower, ci_A_cr_upper = proportion_confint(conversions_A, visitors_A, alpha=alpha, method='normal')\n",
        "ci_B_cr_lower, ci_B_cr_upper = proportion_confint(conversions_B, visitors_B, alpha=alpha, method='normal')\n",
        "\n",
        "print(f\"\\n그룹 A 전환율 (95% CI): {cr_A:.4f}, [{ci_A_cr_lower:.4f}, {ci_A_cr_upper:.4f}]\")\n",
        "print(f\"그룹 B 전환율 (95% CI): {cr_B:.4f}, [{ci_B_cr_lower:.4f}, {ci_B_cr_upper:.4f}]\")"
      ]
    },
    {
      "cell_type": "markdown",
      "metadata": {
        "id": "mA0L61gV_zvn"
      },
      "source": [
        "### ✏️ 연습 문제 (Practice Problems)\n",
        "\n",
        "1.  위의 \"연속형 지표 (평균 체류 시간) t-검정\" 예제에서, `group_B_duration`의 평균(`loc`)을 `122`로 변경하고 표준편차(`scale`)를 `28`로 변경한 후 다시 t-검정을 수행해보세요. P-value는 어떻게 변하며, 그 이유는 무엇일까요?"
      ]
    },
    {
      "cell_type": "code",
      "execution_count": 30,
      "metadata": {
        "id": "5w-cLPdp_zvn"
      },
      "outputs": [
        {
          "name": "stdout",
          "output_type": "stream",
          "text": [
            "\n",
            "연속형 지표 (평균 체류 시간) t-검정 결과:\n",
            "t-statistic: -2.4421\n",
            "P-value: 0.0147\n",
            "결론: p-value (0.0147) < 유의수준 (0.05).\n",
            "      귀무 가설을 기각합니다. 두 그룹 간 평균 체류 시간에 통계적으로 유의미한 차이가 존재합니다.\n",
            "\n",
            "그룹 A 평균: 120.58\n",
            "그룹 B 평균: 123.69\n",
            "그룹 A 표준편차: 29.36\n",
            "그룹 B 표준편차: 27.91\n"
          ]
        }
      ],
      "source": [
        "# 연습 문제 1번 풀이 공간\n",
        "np.random.seed(42)\n",
        "group_A_duration_q1 = np.random.normal(loc=120, scale=30, size=1000)\n",
        "group_B_duration_q1 = np.random.normal(loc=122, scale=28, size=1020) # 변경\n",
        "\n",
        "# 나머지 코드를 완성하세요\n",
        "# t-검정 수행\n",
        "t_stat_q1, p_value_q1 = stats.ttest_ind(group_A_duration_q1, group_B_duration_q1)\n",
        "\n",
        "print(f\"\\n연속형 지표 (평균 체류 시간) t-검정 결과:\")\n",
        "print(f\"t-statistic: {t_stat_q1:.4f}\")\n",
        "print(f\"P-value: {p_value_q1:.4f}\")\n",
        "\n",
        "alpha = 0.05\n",
        "if p_value_q1 < alpha:\n",
        "    print(f\"결론: p-value ({p_value_q1:.4f}) < 유의수준 ({alpha}).\")\n",
        "    print(\"      귀무 가설을 기각합니다. 두 그룹 간 평균 체류 시간에 통계적으로 유의미한 차이가 존재합니다.\")\n",
        "else:\n",
        "    print(f\"결론: p-value ({p_value_q1:.4f}) >= 유의수준 ({alpha}).\")\n",
        "    print(\"      귀무 가설을 기각하지 못합니다. 두 그룹 간 평균 체류 시간에 통계적으로 유의미한 차이가 있다고 보기 어렵습니다.\")\n",
        "\n",
        "# 기술 통계량 출력\n",
        "print(f\"\\n그룹 A 평균: {np.mean(group_A_duration_q1):.2f}\")\n",
        "print(f\"그룹 B 평균: {np.mean(group_B_duration_q1):.2f}\")\n",
        "print(f\"그룹 A 표준편차: {np.std(group_A_duration_q1):.2f}\")\n",
        "print(f\"그룹 B 표준편차: {np.std(group_B_duration_q1):.2f}\")\n"
      ]
    },
    {
      "cell_type": "markdown",
      "metadata": {},
      "source": [
        "2.  \"이산형 지표 (전환율) Z-검정\" 예제에서, `conversions_B`를 `90`으로 변경하고 다시 Z-검정을 수행해보세요. P-value와 결론은 어떻게 달라지는지 확인하고 설명해보세요."
      ]
    },
    {
      "cell_type": "code",
      "execution_count": 31,
      "metadata": {},
      "outputs": [
        {
          "name": "stdout",
          "output_type": "stream",
          "text": [
            "\n",
            "이산형 지표 (전환율) Z-검정 결과:\n",
            "Z-statistic: 0.4690\n",
            "P-value: 0.6391\n",
            "결론: p-value (0.6391) >= 유의수준 (0.05).\n",
            "      귀무 가설을 기각하지 못합니다. 두 그룹 간 전환율에 통계적으로 유의미한 차이가 있다고 보기 어렵습니다.\n",
            "\n",
            "그룹 A 전환율: 0.0800 (80/1000)\n",
            "그룹 B 전환율: 0.0857 (90/1050)\n"
          ]
        }
      ],
      "source": [
        "# 연습 문제 2번 풀이 공간\n",
        "visitors_A_q2 = 1000\n",
        "conversions_A_q2 = 80\n",
        "visitors_B_q2 = 1050\n",
        "conversions_B_q2 = 90 # 변경 (이전 105)\n",
        "\n",
        "# 나머지 코드를 작성하세요\n",
        "# 비율 계산\n",
        "conversion_rate_A = conversions_A_q2 / visitors_A_q2\n",
        "conversion_rate_B = conversions_B_q2 / visitors_B_q2\n",
        "\n",
        "# 통합 전환율 계산 (귀무가설 하에서의 전환율)\n",
        "pooled_conversion_rate = (conversions_A_q2 + conversions_B_q2) / (visitors_A_q2 + visitors_B_q2)\n",
        "\n",
        "# 표준 오차 계산\n",
        "se = np.sqrt(pooled_conversion_rate * (1 - pooled_conversion_rate) * (1/visitors_A_q2 + 1/visitors_B_q2))\n",
        "\n",
        "# Z-통계량 계산\n",
        "z_stat = (conversion_rate_B - conversion_rate_A) / se\n",
        "\n",
        "# p-value 계산 (양측 검정)\n",
        "p_value = 2 * (1 - stats.norm.cdf(abs(z_stat)))\n",
        "\n",
        "print(f\"\\n이산형 지표 (전환율) Z-검정 결과:\")\n",
        "print(f\"Z-statistic: {z_stat:.4f}\")\n",
        "print(f\"P-value: {p_value:.4f}\")\n",
        "\n",
        "alpha = 0.05\n",
        "if p_value < alpha:\n",
        "    print(f\"결론: p-value ({p_value:.4f}) < 유의수준 ({alpha}).\")\n",
        "    print(\"      귀무 가설을 기각합니다. 두 그룹 간 전환율에 통계적으로 유의미한 차이가 존재합니다.\")\n",
        "else:\n",
        "    print(f\"결론: p-value ({p_value:.4f}) >= 유의수준 ({alpha}).\")\n",
        "    print(\"      귀무 가설을 기각하지 못합니다. 두 그룹 간 전환율에 통계적으로 유의미한 차이가 있다고 보기 어렵습니다.\")\n",
        "\n",
        "# 기술 통계량 출력\n",
        "print(f\"\\n그룹 A 전환율: {conversion_rate_A:.4f} ({conversions_A_q2}/{visitors_A_q2})\")\n",
        "print(f\"그룹 B 전환율: {conversion_rate_B:.4f} ({conversions_B_q2}/{visitors_B_q2})\")"
      ]
    },
    {
      "cell_type": "markdown",
      "metadata": {},
      "source": [
        "3.  A/B 테스트 결과, B안이 A안보다 전환율이 0.5%p 높았고, p-value는 0.08이 나왔습니다 (유의수준 0.05). 이 테스트 결과를 바탕으로 당신은 어떤 의사결정을 내릴 것이며, 추가적으로 고려할 사항은 무엇인가요?"
      ]
    },
    {
      "cell_type": "markdown",
      "metadata": {},
      "source": [
        " 3번 문제 해석\n",
        " \n",
        " * 결과 해석:\n",
        "   - p-value = 0.08로, 유의수준 0.05보다 큼\n",
        "   - 통계적으로 유의미한 차이가 있다고 보기는 어려움\n",
        " \n",
        " * 의사결정:\n",
        "   - 현재 데이터로는 A안을 B안으로 교체하기에는 충분한 근거가 부족함\n",
        "   - 추가 테스트나 데이터 수집이 필요할 수 있음\n",
        "   - 비용과 리스크를 고려했을 때 현재는 A안 유지가 안전한 선택일 수 있음\n",
        " \n",
        " * 추가 고려사항:\n",
        "   - 샘플 크기가 충분했는지 검토 필요\n",
        "   - 실제 비즈니스 관점에서 0.5%p 차이의 실질적 의미 평가\n",
        "   - 테스트 기간 동안의 외부 요인 영향 검토\n",
        "   - 구현 비용 대비 예상 수익 분석\n",
        "   - 장기적인 효과 고려 (시간에 따른 전환율 변화 추세)"
      ]
    },
    {
      "cell_type": "markdown",
      "metadata": {},
      "source": [
        "## 7. AB테스트 토픽\n",
        "- 결정지표 설계 핵심포인트는 무엇인가?\n",
        "  \n",
        "- 적절한 테스트 기간의 설정 Know-How는 무엇인가?\n",
        "- 최소감지효과를 정하기 어렵다면?\n",
        "- 통계적 유의성이 없다고 실패한 테스트일까?\n",
        "- 여러테스트를 동시에 진행해도 문제는 없을까? \n",
        "- 외부 타당성의 위험성이 있는가? (외부타당성 : 외부 요인이 테스트 결과에 영향을 줄 수 있는 것)\n",
        "- '성공'한 테스트의 보다 확실한 정의는?\n",
        "- 분석결과 레포트는 어떻게 제공해야하는가?"
      ]
    },
    {
      "cell_type": "markdown",
      "metadata": {
        "id": "r69bAlQi_zvn"
      },
      "source": [
        "---\n",
        "\n",
        "## 8. 💡 고급 A/B 테스트 주제\n",
        "\n",
        "### 💡 개념 (Concept)\n",
        "\n",
        "기본적인 A/B 테스트 외에도 더 정교하고 효율적인 테스트를 위한 고급 주제들이 있습니다.\n",
        "\n",
        "* **MVT (Multivariate Test, 다변량 테스트) 와 FWER (Family-Wise Error Rate)**:\n",
        "    * **MVT**: 여러 요소의 여러 변형을 동시에 테스트하여 각 조합의 효과를 측정합니다. (예: 제목 2가지 x 이미지 3가지 x 버튼 색상 2가지 = 12개 조합)\n",
        "    * **FWER**: 여러 가설을 동시에 검정할 때 (예: MVT 또는 여러 지표 동시 확인), 적어도 하나 이상의 귀무 가설을 잘못 기각할 확률(즉, 1종 오류가 적어도 한 번 발생할 확률)이 증가하는 문제입니다. 이를 제어하기 위해 Bonferroni correction, FDR (False Discovery Rate) 제어 등의 방법을 사용합니다.\n",
        "\n",
        "* **Early Stopping / Sequential Group Test (순차적 그룹 검정)**:\n",
        "    * 실험 중간중간 결과를 확인하여, 통계적으로 유의미한 차이가 명확하거나 반대로 개선의 여지가 전혀 없어 보일 때 실험을 조기에 종료하는 방법론입니다. 리소스를 절약하고 빠르게 의사결정을 내릴 수 있지만, 잘못된 조기 중단은 1종 오류율을 높일 수 있어 주의해야 합니다 (Alpha-spending functions 등 활용).\n",
        "\n",
        "* **베이지안 A/B 테스트 (Bayesian A/B Testing)**:\n",
        "    * 빈도주의 통계(Frequentist) 기반의 p-value, 신뢰구간 대신, 사전 확률(Prior probability)과 데이터(Likelihood)를 결합하여 사후 확률(Posterior probability)을 추론합니다.\n",
        "    * \"B안이 A안보다 나을 확률은 X%이다\" 와 같이 직관적인 해석이 가능하고, 데이터가 쌓임에 따라 실시간으로 확률을 업데이트할 수 있는 장점이 있습니다. 샘플 사이즈가 작을 때도 유용할 수 있습니다.\n",
        "\n",
        "* **MAB (Multi-Armed Bandit, 다중 슬롯머신 문제)**:\n",
        "    * 탐색(Exploration, 여러 옵션을 시도해보는 것)과 활용(Exploitation, 현재까지 가장 좋아 보이는 옵션을 사용하는 것) 사이의 균형을 맞추는 알고리즘입니다.\n",
        "    * A/B 테스트가 정해진 기간 동안 데이터를 수집 후 최적안을 선택하는 방식이라면, MAB는 실시간으로 성과가 좋은 옵션에 트래픽을 더 많이 보내면서 동시에 다른 옵션도 계속 탐색하여 전체적인 손실을 최소화하고 보상을 최대화하는 것을 목표로 합니다. (예: 뉴스 헤드라인 최적화, 광고 소재 최적화)"
      ]
    },
    {
      "cell_type": "markdown",
      "metadata": {},
      "source": [
        "### ✏️ 미니 실습 PJT 과제\n",
        "#### 알고리즘 A/B 테스트 데이터 분석 -> 발표자 3명 선정\n",
        " - 알고리즘 A/B 테스트 데이터셋 : datasets/abtest/algorithm_ab_test.csv\n",
        "  \n",
        " - 분석 준비\n",
        "   - 데이터셋 구조 파악 (컬럼 설명)\n",
        "     * user_id: 사용자 ID\n",
        "  \n",
        "     * timestamp: 테스트 실행 시간\n",
        "     * group: 테스트 그룹 (A/B)\n",
        "     * version: 알고리즘 버전 (v1/v2)\n",
        "     * conversion: 전환 여부 (0/1)\n",
        "     * revenue: 수익 금액\n",
        "   - pandas로 데이터셋 로드 및 전처리\n",
        "  \n",
        "   - A/B 테스트 통계적 분석 수행\n",
        "  \n",
        " - 꼭 담겨야할 분석 내용\n",
        "  \n",
        "    * 데이터셋 정보 확인\n",
        "  \n",
        "    * 데이터셋 기술통계량 확인\n",
        "    * 데이터셋 pandas 전처리 (결측치 처리, 데이터 타입 변환, 데이터 정렬 등)\n",
        "    * A/B 테스트 가설 설정\n",
        "    * 전환율(conversion rate) 분석\n",
        "    * 수익(revenue) 분석\n",
        "    * 통계적 유의성 검정 (카이제곱 검정, t-test 등)\n",
        "    * 시각화 (plotly 사용)\n",
        "      - 그룹별 전환율 비교\n",
        "  \n",
        "      - 그룹별 수익 비교\n",
        "      - 시간에 따른 전환율/수익 추이\n",
        "    * 분석 결과 해석 및 결론 도출\n"
      ]
    },
    {
      "cell_type": "code",
      "execution_count": 34,
      "metadata": {},
      "outputs": [
        {
          "data": {
            "text/html": [
              "<div>\n",
              "<style scoped>\n",
              "    .dataframe tbody tr th:only-of-type {\n",
              "        vertical-align: middle;\n",
              "    }\n",
              "\n",
              "    .dataframe tbody tr th {\n",
              "        vertical-align: top;\n",
              "    }\n",
              "\n",
              "    .dataframe thead th {\n",
              "        text-align: right;\n",
              "    }\n",
              "</style>\n",
              "<table border=\"1\" class=\"dataframe\">\n",
              "  <thead>\n",
              "    <tr style=\"text-align: right;\">\n",
              "      <th></th>\n",
              "      <th>uid</th>\n",
              "      <th>ts</th>\n",
              "      <th>grp</th>\n",
              "      <th>algorithm</th>\n",
              "      <th>converted</th>\n",
              "      <th>amount</th>\n",
              "    </tr>\n",
              "  </thead>\n",
              "  <tbody>\n",
              "    <tr>\n",
              "      <th>0</th>\n",
              "      <td>851227</td>\n",
              "      <td>2025-01-21 22:11:48.556739</td>\n",
              "      <td>A</td>\n",
              "      <td>v1</td>\n",
              "      <td>0</td>\n",
              "      <td>0</td>\n",
              "    </tr>\n",
              "    <tr>\n",
              "      <th>1</th>\n",
              "      <td>804351</td>\n",
              "      <td>2025-01-12 08:01:45.159739</td>\n",
              "      <td>A</td>\n",
              "      <td>v1</td>\n",
              "      <td>0</td>\n",
              "      <td>0</td>\n",
              "    </tr>\n",
              "    <tr>\n",
              "      <th>2</th>\n",
              "      <td>661713</td>\n",
              "      <td>2025-01-11 16:55:06.154213</td>\n",
              "      <td>B</td>\n",
              "      <td>v2</td>\n",
              "      <td>0</td>\n",
              "      <td>11762</td>\n",
              "    </tr>\n",
              "    <tr>\n",
              "      <th>3</th>\n",
              "      <td>853664</td>\n",
              "      <td>2025-01-08 18:28:03.143765</td>\n",
              "      <td>B</td>\n",
              "      <td>v2</td>\n",
              "      <td>0</td>\n",
              "      <td>14987</td>\n",
              "    </tr>\n",
              "    <tr>\n",
              "      <th>4</th>\n",
              "      <td>865098</td>\n",
              "      <td>2025-01-21 01:52:26.210827</td>\n",
              "      <td>A</td>\n",
              "      <td>v1</td>\n",
              "      <td>1</td>\n",
              "      <td>13058</td>\n",
              "    </tr>\n",
              "  </tbody>\n",
              "</table>\n",
              "</div>"
            ],
            "text/plain": [
              "      uid                          ts grp algorithm  converted  amount\n",
              "0  851227  2025-01-21 22:11:48.556739   A        v1          0       0\n",
              "1  804351  2025-01-12 08:01:45.159739   A        v1          0       0\n",
              "2  661713  2025-01-11 16:55:06.154213   B        v2          0   11762\n",
              "3  853664  2025-01-08 18:28:03.143765   B        v2          0   14987\n",
              "4  865098  2025-01-21 01:52:26.210827   A        v1          1   13058"
            ]
          },
          "execution_count": 34,
          "metadata": {},
          "output_type": "execute_result"
        }
      ],
      "source": [
        "df = pd.read_csv('../datasets/abtest/algorithm_ab_test.csv')\n",
        "df.head()"
      ]
    }
  ],
  "metadata": {
    "colab": {
      "provenance": []
    },
    "kernelspec": {
      "display_name": "Python 3",
      "language": "python",
      "name": "python3"
    },
    "language_info": {
      "codemirror_mode": {
        "name": "ipython",
        "version": 3
      },
      "file_extension": ".py",
      "mimetype": "text/x-python",
      "name": "python",
      "nbconvert_exporter": "python",
      "pygments_lexer": "ipython3",
      "version": "3.13.3"
    }
  },
  "nbformat": 4,
  "nbformat_minor": 0
}
