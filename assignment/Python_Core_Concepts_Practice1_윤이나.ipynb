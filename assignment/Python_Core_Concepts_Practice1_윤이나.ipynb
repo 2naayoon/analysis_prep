{
  "cells": [
    {
      "cell_type": "markdown",
      "metadata": {
        "id": "evvH4CNOBVw9"
      },
      "source": [
        "---\n",
        "\n",
        "## 🐍 Python Core Concepts Practice\n",
        "\n",
        "FastMCP 코드작성을 위한 기본적인 Python 개념을 다루며 설명, 예제 코드, 연습 문제를 제공합니다.\n",
        "\n",
        "---\n",
        "\n",
        "## 1. `import` / `from … import …`\n",
        "\n",
        "### 💡 개념 (Concept)\n",
        "외부 모듈이나 내장 라이브러리를 현재 파일로 가져와 재사용합니다. `from` 형태는 이름 공간을 줄이거나 모듈의 일부만 선택해서 가져올 때 사용합니다.\n",
        "\n",
        "### 💻 예시 코드 (Example Code)"
      ]
    },
    {
      "cell_type": "code",
      "execution_count": null,
      "metadata": {
        "id": "TE6GzA1dBVw-"
      },
      "outputs": [],
      "source": [
        "import math  # 모듈 전체\n",
        "from datetime import datetime  # 일부만\n",
        "\n",
        "print(math.pi)\n",
        "print(datetime.now())"
      ]
    },
    {
      "cell_type": "markdown",
      "metadata": {
        "id": "YDEMDsNHBVw-"
      },
      "source": [
        "### ✏️ 연습 문제 (Practice Problems)\n",
        "1.  `random` 모듈에서 `choice` 함수만 가져와 `['a', 'b', 'c']` 중 하나를 뽑아 출력해 보세요.\n",
        "2.  `statistics` 모듈을 `stats`라는 별칭으로 불러 `mean` 함수를 사용해 `[10, 20, 30]`의 평균을 구하세요."
      ]
    },
    {
      "cell_type": "code",
      "execution_count": 10,
      "metadata": {
        "id": "Om5jvHOZBVw-"
      },
      "outputs": [
        {
          "name": "stdout",
          "output_type": "stream",
          "text": [
            "c\n",
            "20\n"
          ]
        }
      ],
      "source": [
        "# 연습 문제 1번 & 2번 풀이 공간\n",
        "#1번\n",
        "import random\n",
        "\n",
        "alphabets = ['a', 'b', 'c']\n",
        "\n",
        "print(random.choice(alphabets))\n",
        "\n",
        "# 2번\n",
        "import statistics as stats\n",
        "\n",
        "nums = [10, 20, 30]\n",
        "\n",
        "print(stats.mean(nums))"
      ]
    },
    {
      "cell_type": "markdown",
      "metadata": {
        "id": "y434UnSzBVw_"
      },
      "source": [
        "---\n",
        "\n",
        "## 2. 상수 & 전역 변수 (대문자 관례)\n",
        "\n",
        "### 💡 개념 (Concept)\n",
        "한 번 정의한 후 변경하지 않을 재사용 값을 대문자로 작성합니다. 이는 가시성을 높여 \"이 값은 고정된 값\"임을 알리는 관례입니다.\n",
        "\n",
        "### 💻 예시 코드 (Example Code)"
      ]
    },
    {
      "cell_type": "code",
      "execution_count": null,
      "metadata": {
        "id": "DIP6FDJOBVw_"
      },
      "outputs": [],
      "source": [
        "API_BASE_URL = \"https://api.weather.gov\"\n",
        "TIMEOUT_SEC = 5"
      ]
    },
    {
      "cell_type": "markdown",
      "metadata": {
        "id": "JYgt8ijvBVw_"
      },
      "source": [
        "### ✏️ 연습 문제 (Practice Problems)\n",
        "1.  초 단위 지연 시간 `DEFAULT_DELAY` (값 2)를 상수로 두고, `time.sleep(DEFAULT_DELAY)`를 호출하는 스크립트를 작성하세요.\n",
        "2.  원주율을 `PI = 3.14159`로 선언하고, 반지름을 입력받아 원의 넓이를 출력하는 함수를 만들어 보세요."
      ]
    },
    {
      "cell_type": "code",
      "execution_count": 13,
      "metadata": {
        "id": "CVeC6-sGBVw_"
      },
      "outputs": [
        {
          "name": "stdout",
          "output_type": "stream",
          "text": [
            "50.26544\n"
          ]
        }
      ],
      "source": [
        "# 연습 문제 1번 & 2번 풀이 공간\n",
        "# 1번\n",
        "import time\n",
        "\n",
        "DEFAULT_DELAY = 2\n",
        "time.sleep(DEFAULT_DELAY)\n",
        "\n",
        "# 2번\n",
        "PI = 3.14159\n",
        "r = int(input(\"반지름을 입력해주세요\"))\n",
        "\n",
        "print(PI*r**2)"
      ]
    },
    {
      "cell_type": "markdown",
      "metadata": {
        "id": "dau7R1AKBVw_"
      },
      "source": [
        "---\n",
        "\n",
        "## 3. `if __name__ == \"__main__\":`\n",
        "\n",
        "### 💡 개념 (Concept)\n",
        "현재 파일이 직접 실행될 때만 특정 코드를 실행하도록 하는 진입점(entry point) 역할을 합니다. 다른 파일에서 `import` 될 경우에는 이 블록 안의 코드가 실행되지 않습니다.\n",
        "\n",
        "### 💻 예시 코드 (Example Code)"
      ]
    },
    {
      "cell_type": "code",
      "execution_count": null,
      "metadata": {
        "id": "dfUQiJNCBVw_"
      },
      "outputs": [],
      "source": [
        "def greet():\n",
        "    print(\"Hello!\")\n",
        "\n",
        "if __name__ == \"__main__\":\n",
        "    greet()"
      ]
    },
    {
      "cell_type": "markdown",
      "metadata": {
        "id": "E_YeI1cNBVw_"
      },
      "source": [
        "### ✏️ 연습 문제 (Practice Problems)\n",
        "1.  `calc.py` 파일에 `add(a, b)` 함수를 만들고, 메인 가드 (`if __name__ == \"__main__\":`) 안에서 `print(add(3, 4))`를 실행해 보세요.\n",
        "2.  동일한 `calc.py` 파일을 다른 스크립트에서 `import calc`로 불러 `add` 함수는 사용할 수 있지만, `print` 문은 실행되지 않는 것을 확인해 보세요."
      ]
    },
    {
      "cell_type": "code",
      "execution_count": 1,
      "metadata": {
        "id": "u8C5mr1yBVw_"
      },
      "outputs": [
        {
          "name": "stdout",
          "output_type": "stream",
          "text": [
            "7\n"
          ]
        }
      ],
      "source": [
        "# 연습 문제 1번 & 2번 풀이 공간\n",
        "# 1번\n",
        "class calc:\n",
        "    \n",
        "    def add(a, b):\n",
        "        return a + b\n",
        "\n",
        "    if __name__ == \"__main__\":\n",
        "        print(add(3, 4))"
      ]
    },
    {
      "cell_type": "code",
      "execution_count": 5,
      "metadata": {
        "id": "8EWHP3VXBVw_"
      },
      "outputs": [
        {
          "data": {
            "text/plain": [
              "3"
            ]
          },
          "execution_count": 5,
          "metadata": {},
          "output_type": "execute_result"
        }
      ],
      "source": [
        "# 연습 문제 2번 풀이 공간\n",
        "# (다른 스크립트에서 calc.py import 시뮬레이션)\n",
        "import calc\n",
        "\n",
        "calc.add(1, 2)"
      ]
    },
    {
      "cell_type": "markdown",
      "metadata": {
        "id": "5sMTnoHzBVw_"
      },
      "source": [
        "---\n",
        "\n",
        "## 4. 함수 정의 + 타입 힌트\n",
        "\n",
        "### 💡 개념 (Concept)\n",
        "`def func(arg: type) -> return_type:` 형태로 함수의 매개변수와 반환 값에 대한 타입 힌트를 명시하여 코드의 가독성을 높이고, IDE의 자동 완성 기능을 향상시킵니다.\n",
        "\n",
        "### 💻 예시 코드 (Example Code)"
      ]
    },
    {
      "cell_type": "code",
      "execution_count": null,
      "metadata": {
        "id": "Yzd9jUXsBVw_"
      },
      "outputs": [],
      "source": [
        "def area(radius: float) -> float:\n",
        "    return 3.14159 * radius**2"
      ]
    },
    {
      "cell_type": "markdown",
      "metadata": {
        "id": "ZLF4wd1CBVw_"
      },
      "source": [
        "### ✏️ 연습 문제 (Practice Problems)\n",
        "1.  두 문자열을 받아 그 길이의 합계를 반환하는 `total_len(s1: str, s2: str) -> int` 함수를 만드세요.\n",
        "2.  정수형 리스트를 받아 최댓값을 돌려주는 `max_of(nums: list[int]) -> int` 함수를 작성하고 타입 힌트를 달아 보세요."
      ]
    },
    {
      "cell_type": "code",
      "execution_count": 18,
      "metadata": {
        "id": "HwdLrWf_BVw_"
      },
      "outputs": [
        {
          "name": "stdout",
          "output_type": "stream",
          "text": [
            "6\n",
            "9\n"
          ]
        }
      ],
      "source": [
        "# 연습 문제 1번 & 2번 풀이 공간\n",
        "#1번\n",
        "def total_len(s1: str, s2: str) -> int:\n",
        "    return len(s1 + s2)\n",
        "\n",
        "print(total_len(\"abc\", \"def\"))\n",
        "\n",
        "# 2번\n",
        "from typing import List\n",
        "\n",
        "def max_of(nums: list[int]) -> int:\n",
        "    return max(nums)\n",
        "\n",
        "nums: List[int] = [5, 9, 3, 4]\n",
        "print(max_of(nums))"
      ]
    },
    {
      "cell_type": "markdown",
      "metadata": {
        "id": "2L4IUS_kBVw_"
      },
      "source": [
        "---\n",
        "\n",
        "## 5. Docstring\n",
        "\n",
        "### 💡 개념 (Concept)\n",
        "함수, 모듈, 클래스 또는 메소드 정의의 첫 번째 문장으로 오는 문자열 리터럴입니다. 큰따옴표 세 개 `\"\"\"설명\"\"\"` 블록으로 작성하며, 해당 객체에 대한 설명을 제공합니다. IDE의 툴팁이나 자동 문서화 도구 (`help()` 함수, Sphinx 등)에 사용됩니다.\n",
        "\n",
        "### 💻 예시 코드 (Example Code)"
      ]
    },
    {
      "cell_type": "code",
      "execution_count": null,
      "metadata": {
        "id": "LQUABKvpBVw_"
      },
      "outputs": [],
      "source": [
        "def fahrenheit_to_celsius(f: float) -> float:\n",
        "    \"\"\"\n",
        "    화씨(F) 온도를 섭씨(℃) 온도로 변환합니다.\n",
        "\n",
        "    Args:\n",
        "        f: 화씨 온도 (float)\n",
        "\n",
        "    Returns:\n",
        "        섭씨 온도 (float)\n",
        "    \"\"\"\n",
        "    return (f - 32) * 5 / 9"
      ]
    },
    {
      "cell_type": "markdown",
      "metadata": {
        "id": "YNW1WaHVBVxA"
      },
      "source": [
        "### ✏️ 연습 문제 (Practice Problems)\n",
        "1.  덧셈 함수에 \"두 수를 더해 반환합니다.\"라는 Docstring을 달아 보세요.\n",
        "2.  위 덧셈 함수의 Docstring 안에 매개변수 설명 (`Args:`)과 반환값 섹션 (`Returns:`)을 상세히 작성해 보세요."
      ]
    },
    {
      "cell_type": "code",
      "execution_count": 20,
      "metadata": {
        "id": "U-mz25XPBVxA"
      },
      "outputs": [],
      "source": [
        "# 연습 문제 1번 & 2번 풀이 공간\n",
        "def add(num1: int, num2: int) -> int:\n",
        "    \"\"\"\n",
        "    두 수를 더해 반환합니다.\n",
        "\n",
        "    Args:\n",
        "        num1: 정수 (int)\n",
        "        num2: 정수 (int)\n",
        "\n",
        "    Returns:\n",
        "        더하기 연산 후 결과값 반환 (int)\n",
        "    \"\"\"\n",
        "    return num1 + num2"
      ]
    },
    {
      "cell_type": "markdown",
      "metadata": {
        "id": "ujCeVZR9BVxA"
      },
      "source": [
        "---\n",
        "\n",
        "## 6. f-string (Formatted String Literals)\n",
        "\n",
        "### 💡 개념 (Concept)\n",
        "문자열 앞에 `f` 또는 `F`를 붙이고, 표현식을 `{expression}` 형태로 중괄호 안에 넣어 문자열 내에서 변수 값이나 표현식의 결과를 쉽게 삽입할 수 있게 하는 문자열 포매팅 방법입니다. 가독성이 높고 편리합니다.\n",
        "\n",
        "### 💻 예시 코드 (Example Code)"
      ]
    },
    {
      "cell_type": "code",
      "execution_count": null,
      "metadata": {
        "id": "HzMdIxETBVxA"
      },
      "outputs": [],
      "source": [
        "name = \"Ada\"\n",
        "age = 30\n",
        "print(f\"Hello, {name}! You are {age} years old.\")  # Hello, Ada! You are 30 years old."
      ]
    },
    {
      "cell_type": "markdown",
      "metadata": {
        "id": "Zo4-vw0jBVxA"
      },
      "source": [
        "### ✏️ 연습 문제 (Practice Problems)\n",
        "1.  이름과 나이를 입력받아 \"OOO is N years old.\" 형태로 출력하는 코드를 f-string을 사용하여 작성하세요.\n",
        "2.  `datetime` 모듈을 사용하여 현재 날짜를 `YYYY-MM-DD` 형식으로 포맷해 `print` 하세요 (f-string 사용)."
      ]
    },
    {
      "cell_type": "code",
      "execution_count": 7,
      "metadata": {
        "id": "4bD0OISGBVxA"
      },
      "outputs": [
        {
          "name": "stdout",
          "output_type": "stream",
          "text": [
            "ina is 28 years old.\n",
            "2025-05-27\n"
          ]
        }
      ],
      "source": [
        "# 연습 문제 1번 & 2번 풀이 공간\n",
        "# 1번\n",
        "name = input(\"What is your name?\")\n",
        "age = input(\"What is your age?\")\n",
        "\n",
        "print(f\"{name} is {age} years old.\")\n",
        "\n",
        "# 2번\n",
        "import datetime\n",
        "now = datetime.datetime.now()\n",
        "\n",
        "print(f\"{now:%Y-%m-%d}\")"
      ]
    },
    {
      "cell_type": "markdown",
      "metadata": {
        "id": "uczkz4gDBVxA"
      },
      "source": [
        "---\n",
        "\n",
        "## 7. 리스트 컴프리헨션 (List Comprehension)\n",
        "\n",
        "### 💡 개념 (Concept)\n",
        "기존의 시퀀스(리스트, 튜플, 문자열 등)를 기반으로 새로운 리스트를 간결하게 만들 수 있는 문법입니다. 기본 형태는 `[표현식 for 항목 in 반복가능객체 if 조건문]`입니다.\n",
        "\n",
        "### 💻 예시 코드 (Example Code)"
      ]
    },
    {
      "cell_type": "code",
      "execution_count": null,
      "metadata": {
        "id": "Hfyf6ddUBVxA"
      },
      "outputs": [],
      "source": [
        "# 1부터 5까지의 숫자를 제곱한 리스트\n",
        "squares = [x**2 for x in range(1, 6)]  # 결과: [1, 4, 9, 16, 25]\n",
        "\n",
        "# 1부터 10까지의 짝수만 포함하는 리스트\n",
        "even_numbers = [x for x in range(1, 11) if x % 2 == 0]  # 결과: [2, 4, 6, 8, 10]"
      ]
    },
    {
      "cell_type": "markdown",
      "metadata": {
        "id": "UlYG4J5iBVxA"
      },
      "source": [
        "### ✏️ 연습 문제 (Practice Problems)\n",
        "1.  1부터 20까지의 숫자 중 짝수만 제곱하여 리스트로 저장하세요.\n",
        "2.  문자열 리스트 `['apple', 'kiwi', 'banana', 'orange', 'grape']` 중 길이가 5를 초과하는 단어만 대문자로 바꾼 새 리스트를 만드세요."
      ]
    },
    {
      "cell_type": "code",
      "execution_count": 10,
      "metadata": {
        "id": "V_UX9X3aBVxA"
      },
      "outputs": [
        {
          "name": "stdout",
          "output_type": "stream",
          "text": [
            "[4, 16, 36, 64, 100, 144, 196, 256, 324, 400]\n",
            "['BANANA', 'ORANGE']\n"
          ]
        }
      ],
      "source": [
        "# 연습 문제 1번 & 2번 풀이 공간\n",
        "# 1번\n",
        "nums = [x**2 for x in range(1, 21) if x % 2 == 0]\n",
        "\n",
        "print(nums)\n",
        "\n",
        "# 2번\n",
        "fruits1 = ['apple', 'kiwi', 'banana', 'orange', 'grape']\n",
        "\n",
        "fruits2 = [fruit.upper() for fruit in fruits1 if len(fruit) > 5]\n",
        "\n",
        "print(fruits2)"
      ]
    },
    {
      "cell_type": "markdown",
      "metadata": {
        "id": "eJddFO1-BVxA"
      },
      "source": [
        "---\n",
        "\n",
        "## 8. 데코레이터 (`@decorator_name`)\n",
        "\n",
        "### 💡 개념 (Concept)\n",
        "기존 함수의 코드를 수정하지 않고 추가 기능을 덧붙이거나 수정할 때 사용하는 디자인 패턴입니다. 함수를 인자로 받아 새로운 함수를 반환하는 함수로 구현됩니다. `@` 기호를 사용하여 함수 정의 위에 적용합니다.\n",
        "\n",
        "### 💻 예시 코드 (Example Code)"
      ]
    },
    {
      "cell_type": "code",
      "execution_count": null,
      "metadata": {
        "id": "D_InBeeoBVxA"
      },
      "outputs": [],
      "source": [
        "import time\n",
        "\n",
        "def timing_decorator(func):\n",
        "    def wrapper(*args, **kwargs):\n",
        "        start_time = time.time()\n",
        "        result = func(*args, **kwargs)\n",
        "        end_time = time.time()\n",
        "        print(f\"{func.__name__} executed in {end_time - start_time:.4f} seconds\")\n",
        "        return result\n",
        "    return wrapper\n",
        "\n",
        "@timing_decorator\n",
        "def my_function(delay):\n",
        "    \"\"\"A simple function that sleeps for a bit.\"\"\"\n",
        "    time.sleep(delay)\n",
        "    print(\"Function finished.\")\n",
        "\n",
        "my_function(1)"
      ]
    },
    {
      "cell_type": "markdown",
      "metadata": {
        "id": "He2YnhZ8BVxA"
      },
      "source": [
        "*(FastAPI(FastMCP 오타로 추정)에서는 `@app.get(\"/path\")` 등으로 라우팅 및 엔드포인트를 정의하는 데 사용됩니다. 제공된 예시는 일반적인 데코레이터입니다.)*\n",
        "\n",
        "### ✏️ 연습 문제 (Practice Problems)\n",
        "1.  함수의 실행 시간을 측정하여 출력해 주는 `@timer` 데코레이터를 작성해 보세요 (`time.perf_counter` 활용).\n",
        "2.  함수의 인자를 키로 하여 결과를 캐싱하는 `@memoize` 데코레이터를 구현하고, 이를 사용하여 피보나치 수열 계산 함수의 속도를 비교해 보세요. (힌트: 딕셔너리를 사용하여 캐시 저장)"
      ]
    },
    {
      "cell_type": "code",
      "execution_count": null,
      "metadata": {
        "id": "UK_wmsqOBVxA"
      },
      "outputs": [
        {
          "name": "stdout",
          "output_type": "stream",
          "text": [
            "Finish\n",
            "time_sleep executed in 1.0006 seconds\n",
            "832040\n",
            "time_fibo executed in 0.1609 seconds\n",
            "832040\n",
            "time_fibo_mem executed in 0.0000 seconds\n"
          ]
        }
      ],
      "source": [
        "# 연습 문제 1번 & 2번 풀이 공간\n",
        "# 1번\n",
        "# time.pref_counter() : 코드의 연산 시간, sleep, file io 등 pending에 들어가는 시간까지 모두 포함해서 측정\n",
        "import time\n",
        "\n",
        "def timer(func):\n",
        "    def wrapper(*args, **kwargs):\n",
        "        start_time = time.perf_counter()\n",
        "        result = func(*args, **kwargs)\n",
        "        end_time = time.perf_counter()\n",
        "        print(f\"{func.__name__} executed in {end_time - start_time:.4f} seconds\")\n",
        "        return result\n",
        "    return wrapper\n",
        "\n",
        "@timer\n",
        "def time_sleep(delay):\n",
        "    time.sleep(delay)\n",
        "    print(\"Finish\")\n",
        "\n",
        "time_sleep(1)\n",
        "\n",
        "# 2번\n",
        "def memoize(func):\n",
        "    # dict 저장\n",
        "    cache = {}\n",
        "    def wrapper(*args):\n",
        "        if args in cache:\n",
        "            return cache[args]\n",
        "        result = func(*args)\n",
        "        cache[args] = result\n",
        "        # 함수의 인자를 키로 결과를 캐싱\n",
        "        return result\n",
        "    return wrapper\n",
        "\n",
        "# 피보나치 수열 계산\n",
        "def fibo(n):\n",
        "    if n <= 1:\n",
        "        return n\n",
        "    return fibo(n - 1) + fibo(n - 2)\n",
        "\n",
        "@memoize\n",
        "def fibo_mem(n):\n",
        "    if n <= 1:\n",
        "        return n\n",
        "    return fibo_mem(n - 1) + fibo_mem(n - 2)\n",
        "\n",
        "# 연산 속도 비교\n",
        "@timer\n",
        "def time_fibo():\n",
        "    print(fibo(30))\n",
        "\n",
        "@timer\n",
        "def time_fibo_mem():\n",
        "    print(fibo_mem(30))\n",
        "\n",
        "time_fibo()\n",
        "time_fibo_mem()\n"
      ]
    },
    {
      "cell_type": "markdown",
      "metadata": {
        "id": "TP5tOi3OBVxA"
      },
      "source": [
        "---\n",
        "\n",
        "## 9. 비동기 프로그래밍 (`async` / `await` / `async with`)\n",
        "\n",
        "### 💡 개념 (Concept)\n",
        "I/O 바운드 작업(네트워크 요청, 파일 읽기/쓰기 등)이 완료되기를 기다리는 동안 다른 작업을 수행할 수 있도록 하여 프로그램의 효율성을 높이는 프로그래밍 방식입니다.\n",
        "* `async def`로 코루틴 함수를 정의합니다.\n",
        "* `await` 키워드는 `async def` 함수 내에서 다른 코루틴의 실행이 완료될 때까지 현재 코루틴의 실행을 일시 중단하고 이벤트 루프에 제어권을 넘깁니다.\n",
        "* `async with`는 비동기 컨텍스트 관리자를 사용하여 리소스를 안전하게 관리합니다 (예: 비동기 파일 핸들러, 네트워크 연결).\n",
        "\n",
        "### 💻 예시 코드 (Example Code)"
      ]
    },
    {
      "cell_type": "code",
      "execution_count": 11,
      "metadata": {
        "id": "8nBursMYBVxA"
      },
      "outputs": [],
      "source": [
        "import asyncio\n",
        "import httpx # httpx 라이브러리가 설치되어 있어야 합니다. pip install httpx\n",
        "\n",
        "async def fetch_url(url: str) -> str:\n",
        "    print(f\"Starting to fetch {url}\")\n",
        "    async with httpx.AsyncClient() as client:\n",
        "        try:\n",
        "            response = await client.get(url, timeout=10.0)\n",
        "            response.raise_for_status() # 오류가 있으면 예외 발생\n",
        "            print(f\"Finished fetching {url}\")\n",
        "            return response.text[:100] # 처음 100자만 반환\n",
        "        except httpx.RequestError as exc:\n",
        "            print(f\"An error occurred while requesting {url}: {exc}\")\n",
        "            return f\"Error: {exc}\"\n",
        "\n",
        "async def main_example(): # 함수 이름을 main에서 main_example로 변경\n",
        "    text_content = await fetch_url(\"https://www.example.com\")\n",
        "    print(f\"\\nContent from example.com (first 100 chars):\\n{text_content}\")\n",
        "\n",
        "if __name__ == \"__main__\":\n",
        "    # Colab 환경에서는 top-level await을 바로 사용할 수 있거나,\n",
        "    # asyncio.run()을 명시적으로 사용해야 할 수 있습니다.\n",
        "    # 아래 코드는 일반적인 .py 파일 실행 시의 방식입니다.\n",
        "    # asyncio.run(main_example()) # 이 줄의 주석을 풀거나 아래처럼 직접 await 사용\n",
        "    pass\n",
        "# await main_example() # Colab 셀에서 직접 실행시"
      ]
    },
    {
      "cell_type": "markdown",
      "metadata": {
        "id": "359qU33QBVxA"
      },
      "source": [
        "실행하려면 `httpx` 라이브러리를 설치해야 합니다:"
      ]
    },
    {
      "cell_type": "code",
      "execution_count": null,
      "metadata": {
        "id": "gyeUddhbBVxA"
      },
      "outputs": [
        {
          "name": "stdout",
          "output_type": "stream",
          "text": [
            "Defaulting to user installation because normal site-packages is not writeable\n",
            "Requirement already satisfied: httpx in c:\\users\\admin\\appdata\\local\\packages\\pythonsoftwarefoundation.python.3.13_qbz5n2kfra8p0\\localcache\\local-packages\\python313\\site-packages (0.28.1)\n",
            "Requirement already satisfied: anyio in c:\\users\\admin\\appdata\\local\\packages\\pythonsoftwarefoundation.python.3.13_qbz5n2kfra8p0\\localcache\\local-packages\\python313\\site-packages (from httpx) (4.9.0)\n",
            "Requirement already satisfied: certifi in c:\\users\\admin\\appdata\\local\\packages\\pythonsoftwarefoundation.python.3.13_qbz5n2kfra8p0\\localcache\\local-packages\\python313\\site-packages (from httpx) (2025.4.26)\n",
            "Requirement already satisfied: httpcore==1.* in c:\\users\\admin\\appdata\\local\\packages\\pythonsoftwarefoundation.python.3.13_qbz5n2kfra8p0\\localcache\\local-packages\\python313\\site-packages (from httpx) (1.0.9)\n",
            "Requirement already satisfied: idna in c:\\users\\admin\\appdata\\local\\packages\\pythonsoftwarefoundation.python.3.13_qbz5n2kfra8p0\\localcache\\local-packages\\python313\\site-packages (from httpx) (3.10)\n",
            "Requirement already satisfied: h11>=0.16 in c:\\users\\admin\\appdata\\local\\packages\\pythonsoftwarefoundation.python.3.13_qbz5n2kfra8p0\\localcache\\local-packages\\python313\\site-packages (from httpcore==1.*->httpx) (0.16.0)\n",
            "Requirement already satisfied: sniffio>=1.1 in c:\\users\\admin\\appdata\\local\\packages\\pythonsoftwarefoundation.python.3.13_qbz5n2kfra8p0\\localcache\\local-packages\\python313\\site-packages (from anyio->httpx) (1.3.1)\n"
          ]
        },
        {
          "name": "stderr",
          "output_type": "stream",
          "text": [
            "\n",
            "[notice] A new release of pip is available: 25.0.1 -> 25.1.1\n",
            "[notice] To update, run: C:\\Users\\Admin\\AppData\\Local\\Microsoft\\WindowsApps\\PythonSoftwareFoundation.Python.3.13_qbz5n2kfra8p0\\python.exe -m pip install --upgrade pip\n"
          ]
        }
      ],
      "source": [
        "# !pip install httpx"
      ]
    },
    {
      "cell_type": "markdown",
      "metadata": {
        "id": "cKzgSwRHBVxA"
      },
      "source": [
        "### ✏️ 연습 문제 (Practice Problems)\n",
        "1.  두 개의 다른 URL (예: `https://www.google.com`, `https://www.bing.com`)에서 동시에 (병렬적으로) 데이터를 가져와 각각의 완료 시간을 비교해 보세요. (`asyncio.gather` 사용)\n",
        "2.  `async with` 블록 없이 `httpx.AsyncClient()`를 직접 생성하고, `await client.aclose()`를 호출하여 명시적으로 클라이언트를 종료하는 방식으로 위 예시 코드의 `Workspace_url` 함수와 유사한 기능을 작성해보고 `async with`를 사용했을 때와의 차이점을 설명해 보세요."
      ]
    },
    {
      "cell_type": "code",
      "execution_count": 23,
      "metadata": {
        "id": "1WZUadb1BVxA"
      },
      "outputs": [
        {
          "name": "stdout",
          "output_type": "stream",
          "text": [
            "Starting to fetch https://www.google.com\n",
            "Starting to fetch https://www.bing.com\n",
            "Finished fetch https://www.bing.com in 0.3037\n",
            "Finished fetch https://www.google.com in 0.6886\n",
            "\n",
            "Content from https://www.google.com (first 100 chars):\n",
            "<!doctype html><html itemscope=\"\" itemtype=\"http://schema.org/WebPage\" lang=\"ko\"><head><meta content\n",
            "\n",
            "Content from https://www.bing.com (first 100 chars):\n",
            "<!doctype html><html lang=\"ko\" dir=\"ltr\"><head><meta name=\"theme-color\" content=\"#4F4F4F\" /><meta na\n"
          ]
        }
      ],
      "source": [
        "# 연습 문제 1번 & 2번 풀이 공간\n",
        "# 1번\n",
        "import asyncio\n",
        "import httpx\n",
        "import time\n",
        "\n",
        "async def fetch_url(url: str) -> str:\n",
        "    print(f\"Starting to fetch {url}\")\n",
        "    start_time = time.perf_counter()\n",
        "    async with httpx.AsyncClient() as client:\n",
        "        try:\n",
        "            response = await client.get(url, timeout = 10.0)\n",
        "            response.raise_for_status()\n",
        "            end_time = time.perf_counter()\n",
        "            print(f\"Finished fetch {url} in {end_time - start_time:.4f}\")\n",
        "            return response.text[:100]\n",
        "        except httpx.RequestError as exc:\n",
        "            print(f\"An error occurred while requesting {url}: {exc}\")\n",
        "            return f\"Error: {exc}\"\n",
        "        \n",
        "async def main_example():\n",
        "    urls = [\"https://www.google.com\", \"https://www.bing.com\"]\n",
        "    \n",
        "    results = await asyncio.gather(\n",
        "        fetch_url(urls[0]),\n",
        "        fetch_url(urls[1])\n",
        "    )\n",
        "\n",
        "    print(f\"\\nContent from {urls[0]} (first 100 chars):\\n{results[0]}\")\n",
        "    print(f\"\\nContent from {urls[1]} (first 100 chars):\\n{results[1]}\")\n",
        "\n",
        "if __name__ == \"__main__\":\n",
        "    await main_example()\n",
        "\n",
        "# 2번\n",
        "async def fetch_url2(url: str) -> str:\n",
        "    print(f\"Starting to fetch {url}\")\n",
        "    client = httpx.AsyncClient()\n",
        "    try:\n",
        "        response = await client.get(url, timeout = 10.0)\n",
        "        response.raise_for_status()\n",
        "        print(f\"Finished fetch {url}\")\n",
        "        return response.text[:100]\n",
        "    except httpx.RequestError as exc:\n",
        "        print(f\"An error occurred while requesting {url}: {exc}\")\n",
        "        return f\"Error: {exc}\"\n",
        "    finally:\n",
        "        await client.aclose() # 클라이언트 종료\n",
        "\n",
        "async def main_example2():\n",
        "    content = await fetch_url2(\"https://www.example.com\")\n",
        "    print(f\"\\nContent (first 100 chars):\\n{content}\")\n",
        "\n",
        "if __name__ == \"__main__\":\n",
        "    pass\n",
        "\n",
        "# async with - 클라이언트 종료 시 자동으로 종료 / 코드가 간결해짐"
      ]
    },
    {
      "cell_type": "markdown",
      "metadata": {
        "id": "7_P7Xo5CBVxI"
      },
      "source": [
        "---\n",
        "\n",
        "## 10. 예외 처리 (`try` / `except` / `else` / `finally`)\n",
        "\n",
        "### 💡 개념 (Concept)\n",
        "프로그램 실행 중 발생할 수 있는 잠재적 오류(예외)를 처리하여 프로그램이 비정상적으로 종료되는 것을 방지하고, 오류 발생 시 적절히 대응할 수 있도록 하는 구문입니다.\n",
        "* `try`: 예외가 발생할 가능성이 있는 코드를 이 블록 안에 작성합니다.\n",
        "* `except [ExceptionType [as variable]]`: `try` 블록에서 특정 예외가 발생했을 때 실행될 코드를 작성합니다. 여러 `except` 블록을 사용하여 다양한 유형의 예외를 처리할 수 있습니다.\n",
        "* `else`: `try` 블록에서 예외가 발생하지 않았을 때 실행될 코드를 작성합니다. (선택적)\n",
        "* `finally`: 예외 발생 여부와 관계없이 항상 실행될 코드를 작성합니다. (선택적, 주로 리소스 정리 등에 사용)\n",
        "\n",
        "### 💻 예시 코드 (Example Code)"
      ]
    },
    {
      "cell_type": "code",
      "execution_count": null,
      "metadata": {
        "id": "7KuUTozgBVxI"
      },
      "outputs": [],
      "source": [
        "def divide_numbers(a, b):\n",
        "    try:\n",
        "        result = a / b\n",
        "    except ZeroDivisionError:\n",
        "        print(\"오류: 0으로 나눌 수 없습니다!\")\n",
        "        return None\n",
        "    except TypeError:\n",
        "        print(\"오류: 숫자 타입이 아닌 값으로 연산을 시도했습니다.\")\n",
        "        return None\n",
        "    else:\n",
        "        print(\"나눗셈이 성공적으로 수행되었습니다.\")\n",
        "        return result\n",
        "    finally:\n",
        "        print(\"나눗셈 시도가 완료되었습니다.\")\n",
        "\n",
        "print(divide_numbers(10, 2))\n",
        "print(divide_numbers(10, 0))\n",
        "print(divide_numbers(10, \"a\"))"
      ]
    },
    {
      "cell_type": "markdown",
      "metadata": {
        "id": "Ogbkmk77BVxI"
      },
      "source": [
        "### ✏️ 연습 문제 (Practice Problems)\n",
        "1.  사용자로부터 입력을 받아 `int()` 함수로 변환할 때 발생할 수 있는 `ValueError`를 `try-except` 블록으로 잡아 \"유효한 숫자를 입력하세요.\"라고 안내하는 코드를 작성하세요.\n",
        "2.  파일을 열 때 (`open()`) 해당 파일이 존재하지 않으면 `FileNotFoundError`가 발생합니다. 이 예외를 처리하여, 파일이 없으면 \"파일을 찾을 수 없어 새로 생성합니다.\"라는 메시지를 출력하고 빈 파일을 새로 만들어 보세요. (힌트: `open(filename, 'w').close()`)"
      ]
    },
    {
      "cell_type": "code",
      "execution_count": 28,
      "metadata": {
        "id": "d0rRpMBaBVxI"
      },
      "outputs": [
        {
          "name": "stdout",
          "output_type": "stream",
          "text": [
            "정수 변환이 수행되었습니다.\n",
            "정수 변환이 완료되었습니다.\n",
            "<class 'int'>\n",
            "파일을 찾을 수 없어 새로 생성합니다.\n"
          ]
        }
      ],
      "source": [
        "# 연습 문제 1번 & 2번 풀이 공간\n",
        "# 1번\n",
        "def change_type(num):\n",
        "    try:\n",
        "        result = int(num)\n",
        "    except ValueError:\n",
        "        print(\"유효한 숫자를 입력하세요.\")\n",
        "        return None\n",
        "    else:\n",
        "        print(\"정수 변환이 수행되었습니다.\")\n",
        "        return result\n",
        "    finally:\n",
        "        print(\"정수 변환이 완료되었습니다.\")\n",
        "\n",
        "print(type(change_type(input(\"num: \"))))\n",
        "\n",
        "# 2번\n",
        "filename = \"test.txt\"\n",
        "\n",
        "try:\n",
        "    with open(filename, 'r') as file:\n",
        "        content = file.read()\n",
        "        print(content)\n",
        "except FileNotFoundError:\n",
        "    print(\"파일을 찾을 수 없어 새로 생성합니다.\")\n",
        "    open(filename, 'w').close()"
      ]
    },
    {
      "cell_type": "markdown",
      "metadata": {
        "id": "U5WUe_9DBVxJ"
      },
      "source": [
        "---\n",
        "\n",
        "## 11. 딕셔너리 (`dict`) 및 JSON 다루기\n",
        "\n",
        "### 💡 개념 (Concept)\n",
        "**딕셔너리**: 키(key)와 값(value)의 쌍으로 이루어진 변경 가능한(mutable) 컬렉션입니다. 중괄호 `{}`를 사용하거나 `dict()` 함수로 생성합니다. 키는 고유해야 하며, 일반적으로 문자열이나 숫자를 사용합니다.\n",
        "    * 값 접근: `my_dict[\"key\"]` 또는 `my_dict.get(\"key\", default_value)`\n",
        "    * `get()` 메소드는 키가 없을 경우 `None`이나 지정된 `default_value`를 반환하여 `KeyError`를 방지합니다.\n",
        "\n",
        "**JSON (JavaScript Object Notation)**: 데이터를 교환하기 위한 경량의 텍스트 기반 형식입니다. 파이썬의 딕셔너리 및 리스트와 매우 유사한 구조를 가집니다. `json` 모듈을 사용하여 파이썬 객체를 JSON 문자열로 변환(`json.dumps()`)하거나 JSON 문자열을 파이썬 객체로 변환(`json.loads()`)할 수 있습니다.\n",
        "\n",
        "### 💻 예시 코드 (Example Code)"
      ]
    },
    {
      "cell_type": "code",
      "execution_count": null,
      "metadata": {
        "id": "eDwYrE89BVxJ"
      },
      "outputs": [],
      "source": [
        "# 딕셔너리\n",
        "user = {\"name\": \"Kim\", \"age\": 22, \"city\": \"Seoul\"}\n",
        "print(f\"Name: {user['name']}\")\n",
        "print(f\"Age: {user.get('age')}\")\n",
        "print(f\"Country: {user.get('country', 'Unknown')}\") # 키가 없을 때 기본값\n",
        "\n",
        "user[\"email\"] = \"kim@example.com\" # 항목 추가\n",
        "print(user)\n",
        "\n",
        "# JSON\n",
        "import json\n",
        "\n",
        "# 파이썬 딕셔너리 -> JSON 문자열\n",
        "json_string = json.dumps(user, indent=2, ensure_ascii=False) # indent로 보기 좋게, 한글 유지\n",
        "print(\"\\nJSON String:\")\n",
        "print(json_string)\n",
        "\n",
        "# JSON 문자열 -> 파이썬 딕셔너리\n",
        "parsed_dict = json.loads(json_string)\n",
        "print(\"\\nParsed Dictionary from JSON:\")\n",
        "print(parsed_dict[\"city\"])"
      ]
    },
    {
      "cell_type": "markdown",
      "metadata": {
        "id": "embE6TslBVxJ"
      },
      "source": [
        "### ✏️ 연습 문제 (Practice Problems)\n",
        "1.  딕셔너리 `data = {\"a\": 10, \"b\": 25, \"c\": 30, \"d\": 15}`의 모든 값을 꺼내 그 합계를 구하세요.\n",
        "2.  JSON 문자열 `person_json = '{\"name\": \"Alice\", \"age\": 28, \"hobbies\": [\"reading\", \"hiking\"]}'`을 파이썬 딕셔너리로 파싱한 후, 이름과 첫 번째 취미를 출력하세요.\n",
        "3.  위에서 파싱한 딕셔너리에 `\"city\": \"New York\"` 항목을 추가하고, 다시 JSON 문자열로 변환하여 출력하세요."
      ]
    },
    {
      "cell_type": "code",
      "execution_count": 26,
      "metadata": {
        "id": "28gk27b8BVxJ"
      },
      "outputs": [
        {
          "name": "stdout",
          "output_type": "stream",
          "text": [
            "80\n",
            "Name: Alice | First hobby: reading\n",
            "{\n",
            "  \"name\": \"Alice\",\n",
            "  \"age\": 28,\n",
            "  \"hobbies\": [\n",
            "    \"reading\",\n",
            "    \"hiking\"\n",
            "  ],\n",
            "  \"city\": \"New York\"\n",
            "}\n"
          ]
        }
      ],
      "source": [
        "# 연습 문제 1, 2, 3번 풀이 공간\n",
        "# 1번\n",
        "data = {\"a\": 10, \"b\": 25, \"c\": 30, \"d\": 15}\n",
        "result = sum(data.values())\n",
        "print(result)\n",
        "\n",
        "# 2번\n",
        "import json\n",
        "\n",
        "person_json = '{\"name\": \"Alice\", \"age\": 28, \"hobbies\": [\"reading\", \"hiking\"]}'\n",
        "person_dict = json.loads(person_json)\n",
        "print(f\"Name: {person_dict[\"name\"]} | First hobby: {person_dict[\"hobbies\"][0]}\")\n",
        "\n",
        "# 3번\n",
        "person_dict[\"city\"] = \"New York\"\n",
        "json_string = json.dumps(person_dict, indent=2, ensure_ascii=False)\n",
        "print(json_string)"
      ]
    },
    {
      "cell_type": "markdown",
      "metadata": {
        "id": "wQA5JHPuBVxJ"
      },
      "source": [
        "---\n",
        "\n",
        "## 12. `Union` 타입 (`|`) 및 `typing.Any`\n",
        "\n",
        "### 💡 개념 (Concept)\n",
        "타입 힌트를 사용할 때, 변수나 함수의 매개변수/반환 값이 여러 타입 중 하나일 수 있음을 명시하는 방법입니다.\n",
        "* **`Union[TypeA, TypeB, ...]` 또는 `TypeA | TypeB | ...` (Python 3.10+)**: 지정된 여러 타입 중 어느 하나가 될 수 있음을 의미합니다.\n",
        "* **`typing.Any`**: 어떤 타입이든 허용함을 의미하며, 사실상 타입 검사를 해당 부분에서 비활성화하는 효과가 있습니다. 꼭 필요한 경우가 아니면 구체적인 타입을 명시하는 것이 좋습니다.\n",
        "\n",
        "### 💻 예시 코드 (Example Code)"
      ]
    },
    {
      "cell_type": "code",
      "execution_count": null,
      "metadata": {
        "id": "kwX2hhDVBVxJ"
      },
      "outputs": [],
      "source": [
        "from typing import Union, Any, List\n",
        "\n",
        "# Python 3.10+ syntax for Union\n",
        "def process_data(data: int | str) -> None:\n",
        "    if isinstance(data, int):\n",
        "        print(f\"Processing integer: {data * 2}\")\n",
        "    elif isinstance(data, str):\n",
        "        print(f\"Processing string: {data.upper()}\")\n",
        "\n",
        "process_data(10)\n",
        "process_data(\"hello\")\n",
        "\n",
        "# For older Python versions or more complex Unions\n",
        "def print_item_length(item: Union[str, List[Any]]) -> None:\n",
        "    print(f\"Length: {len(item)}\")\n",
        "\n",
        "print_item_length(\"world\")\n",
        "print_item_length([1, 2, 3, \"a\"])\n",
        "\n",
        "# Using Any (use sparingly)\n",
        "def handle_anything(stuff: Any) -> Any:\n",
        "    print(f\"Received: {stuff} of type {type(stuff)}\")\n",
        "    return stuff\n",
        "\n",
        "handle_anything(100)\n",
        "handle_anything([1,2,3])\n",
        "handle_anything({\"key\": \"value\"})"
      ]
    },
    {
      "cell_type": "markdown",
      "metadata": {
        "id": "EZNnOOTkBVxJ"
      },
      "source": [
        "### ✏️ 연습 문제 (Practice Problems)\n",
        "1.  매개변수가 문자열 (`str`) 또는 문자열의 리스트 (`list[str]`)를 모두 허용하는 함수 `ensure_list(data: str | list[str]) -> list[str]`를 작성하세요. 이 함수는 입력이 문자열이면 해당 문자열을 유일한 요소로 하는 리스트로 감싸 반환하고, 이미 리스트면 그대로 반환합니다.\n",
        "2.  값이 정수(`int`), 실수(`float`), 또는 문자열(`str`)일 수 있는 파라미터 `value: int | float | str`를 받는 함수를 작성하세요. 이 함수는 입력값이 숫자(정수 또는 실수)면 그 값의 제곱을 반환하고, 문자열이면 그 문자열의 길이를 반환합니다. (반환 타입도 `int | float` 또는 `int | float | None` 등이 될 수 있습니다.)"
      ]
    },
    {
      "cell_type": "code",
      "execution_count": 34,
      "metadata": {
        "id": "CwsFTCi1BVxJ"
      },
      "outputs": [
        {
          "name": "stdout",
          "output_type": "stream",
          "text": [
            "['abc']\n",
            "['a', 'b']\n",
            "9\n",
            "3\n"
          ]
        }
      ],
      "source": [
        "# 연습 문제 1번 & 2번 풀이 공간\n",
        "# 1번\n",
        "# 입력이 문자열 -> 유일한 요소인 리스트로 반환 / 이미 리스트면 그대로 반환\n",
        "def ensure_list(data: str | list[str]) -> list[str]:\n",
        "    data_list = []\n",
        "    if type(data) == str:\n",
        "        data_list.append(data)\n",
        "        return data_list\n",
        "    else:\n",
        "        return data\n",
        "    \n",
        "print(ensure_list(\"abc\"))\n",
        "print(ensure_list([\"a\", \"b\"]))\n",
        "\n",
        "# 2번\n",
        "# 숫자면 제곱 반환 / 문자열이면 길이 반환\n",
        "def my_function(value: int | float | str) -> int | float | None:\n",
        "    if type(value) == str:\n",
        "        return len(value)\n",
        "    else:\n",
        "        return value**2\n",
        "    \n",
        "print(my_function(3))\n",
        "print(my_function(\"abc\"))"
      ]
    },
    {
      "cell_type": "markdown",
      "metadata": {
        "id": "XJkwvpqJBVxJ"
      },
      "source": [
        "---\n",
        "\n",
        "## 13. 논리 연산자 (`and`, `or`, `not`) 및 멤버십 연산자 (`in`, `not in`)\n",
        "\n",
        "### 💡 개념 (Concept)\n",
        "* **논리 연산자**:\n",
        "    * `and`: 두 조건이 모두 참(True)일 때 참을 반환합니다.\n",
        "    * `or`: 두 조건 중 하나라도 참(True)일 때 참을 반환합니다.\n",
        "    * `not`: 조건의 논리 상태를 반전시킵니다 (True는 False로, False는 True로).\n",
        "* **멤버십 연산자**:\n",
        "    * `in`: 특정 값이 시퀀스(리스트, 튜플, 문자열 등)나 컬렉션(딕셔너리의 키, 세트 등) 안에 포함되어 있으면 참을 반환합니다.\n",
        "    * `not in`: 특정 값이 시퀀스나 컬렉션 안에 포함되어 있지 않으면 참을 반환합니다.\n",
        "\n",
        "### 💻 예시 코드 (Example Code)"
      ]
    },
    {
      "cell_type": "code",
      "execution_count": null,
      "metadata": {
        "id": "rA2cvnABBVxJ"
      },
      "outputs": [],
      "source": [
        "# 논리 연산자\n",
        "age = 25\n",
        "has_license = True\n",
        "\n",
        "if age >= 18 and has_license:\n",
        "    print(\"Driving allowed.\")\n",
        "else:\n",
        "    print(\"Driving not allowed.\")\n",
        "\n",
        "is_student = False\n",
        "is_employed = True\n",
        "\n",
        "if is_student or is_employed:\n",
        "    print(\"Has some status.\")\n",
        "\n",
        "if not is_student:\n",
        "    print(\"Not a student.\")\n",
        "\n",
        "# 멤버십 연산자\n",
        "my_list = [1, 2, 3, 'a', 'b']\n",
        "if 3 in my_list:\n",
        "    print(\"3 is in the list.\")\n",
        "\n",
        "if 'c' not in my_list:\n",
        "    print(\"'c' is not in the list.\")\n",
        "\n",
        "my_string = \"hello world\"\n",
        "if \"world\" in my_string:\n",
        "    print(\"'world' is in 'hello world'.\")\n",
        "\n",
        "my_dict = {\"name\": \"Alice\", \"age\": 30}\n",
        "if \"age\" in my_dict: # 딕셔너리의 경우 키 존재 여부 확인\n",
        "    print(\"Key 'age' exists in the dictionary.\")"
      ]
    },
    {
      "cell_type": "markdown",
      "metadata": {
        "id": "9a2GjNzlBVxJ"
      },
      "source": [
        "### ✏️ 연습 문제 (Practice Problems)\n",
        "1.  리스트 `numbers = [10, 20, 30, 40, 50]`가 있습니다. 사용자로부터 숫자를 하나 입력받아, 그 숫자가 `numbers` 리스트에 존재하면 \"Found!\"를, 존재하지 않으면 \"Not found.\"를 출력하세요.\n",
        "2.  사용자로부터 두 개의 문자열을 입력받습니다. 두 문자열의 길이가 모두 3 이상이면 \"Both are valid.\"를 출력하고, 그렇지 않으면 \"At least one string is too short.\"를 출력하세요."
      ]
    },
    {
      "cell_type": "code",
      "execution_count": 4,
      "metadata": {
        "id": "MVcvd-ggBVxJ"
      },
      "outputs": [
        {
          "name": "stdout",
          "output_type": "stream",
          "text": [
            "Found!\n",
            "Both are valid.\n"
          ]
        }
      ],
      "source": [
        "# 연습 문제 1번 & 2번 풀이 공간\n",
        "# 1번\n",
        "numbers = [10, 20, 30, 40, 50]\n",
        "num = int(input(\"Enter a number\"))\n",
        "\n",
        "if num in numbers:\n",
        "    print(\"Found!\")\n",
        "else:\n",
        "    print(\"Not found.\")\n",
        "\n",
        "# 2번\n",
        "s1 = input(\"s1: \")\n",
        "s2 = input(\"s2: \")\n",
        "\n",
        "if len(s1) >= 3 and len(s2) >= 3:\n",
        "    print(\"Both are valid.\")\n",
        "else:\n",
        "    print(\"At least one string is too short.\")"
      ]
    },
    {
      "cell_type": "markdown",
      "metadata": {
        "id": "JEH-jGdWBVxJ"
      },
      "source": [
        "---\n",
        "\n",
        "## 14. 표준 라이브러리 활용 (`asyncio.run`, `pathlib`, `dataclasses`, 등)\n",
        "\n",
        "### 💡 개념 (Concept)\n",
        "파이썬은 \"batteries-included\" 철학에 따라 풍부한 **표준 라이브러리**를 제공합니다. 이를 활용하면 별도의 외부 라이브러리 설치 없이도 다양한 기능을 쉽게 구현할 수 있습니다.\n",
        "* `asyncio.run(coroutine())`: 비동기 프로그래밍에서 메인 코루틴을 간단하게 실행하고 이벤트 루프를 관리해주는 함수입니다. (Python 3.7+)\n",
        "* `pathlib`: 파일 시스템 경로를 객체 지향적으로 다룰 수 있게 해주는 모듈입니다. `Path` 객체를 사용하여 경로 조작, 파일/디렉터리 존재 확인, 생성 등을 직관적으로 수행할 수 있습니다.\n",
        "* `dataclasses`: `@dataclass` 데코레이터를 사용하여 `__init__`, `__repr__`, `__eq__` 등 특별 메소드들을 자동으로 생성해주는 클래스를 간편하게 만들 수 있습니다. 주로 데이터를 담는 용도의 클래스에 유용합니다.\n",
        "* 이 외에도 `datetime` (날짜/시간), `json` (JSON 처리), `math` (수학 함수), `random` (난수 생성), `collections` (추가적인 데이터 구조) 등 매우 다양한 모듈이 있습니다.\n",
        "\n",
        "### 💻 예시 코드 (Example Code)"
      ]
    },
    {
      "cell_type": "code",
      "execution_count": null,
      "metadata": {
        "id": "xD1D3bHaBVxJ"
      },
      "outputs": [],
      "source": [
        "# asyncio.run (앞선 비동기 예제에서 이미 사용)\n",
        "import asyncio\n",
        "\n",
        "async def simple_task_example(): # 함수 이름 변경\n",
        "    print(\"Task started\")\n",
        "    await asyncio.sleep(1)\n",
        "    print(\"Task finished\")\n",
        "\n",
        "if __name__ == \"__main__\": # asyncio.run은 top-level에서 호출되어야 함\n",
        "    # asyncio.run(simple_task_example()) # Colab에서는 top-level await이 가능하여 이렇게 직접 실행 가능\n",
        "    pass # 주석 처리하여 다른 예제와 충돌 방지\n",
        "\n",
        "# pathlib\n",
        "from pathlib import Path\n",
        "\n",
        "current_dir = Path(\".\") # 현재 디렉터리\n",
        "# Colab 환경에서 __file__은 정의되어 있지 않으므로 대체 경로 사용\n",
        "script_file_path = Path(\".\").resolve() / \"current_notebook.ipynb\"\n",
        "print(f\"Current directory: {current_dir.resolve()}\")\n",
        "print(f\"Assumed notebook file: {script_file_path}\")\n",
        "print(f\"Does notebook file exist? {script_file_path.exists()}\") # .ipynb 파일은 보통 존재\n",
        "\n",
        "new_dir_example = current_dir / \"my_example_directory\"\n",
        "# new_dir_example.mkdir(exist_ok=True) # 디렉터리 생성 (이미 있어도 오류 없음)\n",
        "# print(f\"'{new_dir_example.name}' directory created or already exists.\")\n",
        "\n",
        "\n",
        "# dataclasses\n",
        "from dataclasses import dataclass\n",
        "\n",
        "@dataclass\n",
        "class Point:\n",
        "    x: float\n",
        "    y: float\n",
        "    label: str = \"default\" # 기본값 지정 가능\n",
        "\n",
        "p1 = Point(1.0, 2.5)\n",
        "p2 = Point(1.0, 2.5, \"A\")\n",
        "p3 = Point(3.0, 4.0, \"B\")\n",
        "\n",
        "print(p1)\n",
        "print(p1 == Point(1.0, 2.5)) # __eq__ 자동 생성\n",
        "print(p2)"
      ]
    },
    {
      "cell_type": "markdown",
      "metadata": {
        "id": "Z-4VnbDGBVxJ"
      },
      "source": [
        "### ✏️ 연습 문제 (Practice Problems)\n",
        "1.  `pathlib.Path`를 사용하여 현재 작업 디렉터리에 `notes.txt`라는 파일이 존재하는지 검사하고, 존재하면 \"notes.txt exists.\", 존재하지 않으면 \"notes.txt does not exist.\"를 출력하는 스크립트를 작성하세요. (파일을 직접 만들 필요는 없습니다, 존재 여부만 확인)\n",
        "2.  `dataclasses.dataclass`를 사용하여 `Book`이라는 데이터 클래스를 선언하세요. 이 클래스는 `title` (문자열), `author` (문자열), `pages` (정수) 세 가지 필드를 가집니다. `Book` 클래스의 인스턴스 두 개를 만들어 리스트에 담고, 이 리스트를 출력해 보세요."
      ]
    },
    {
      "cell_type": "code",
      "execution_count": 50,
      "metadata": {
        "id": "2FO10_ioBVxJ"
      },
      "outputs": [
        {
          "name": "stdout",
          "output_type": "stream",
          "text": [
            "notes.txt does not exist.\n",
            "[Book(title='Python', author='dante', pages=300), Book(title='SQL', author='kayle', pages=300)]\n"
          ]
        }
      ],
      "source": [
        "# 연습 문제 1번 & 2번 풀이 공간\n",
        "# 1번\n",
        "from pathlib import Path\n",
        "\n",
        "current_dir = Path(\"notes.txt\")\n",
        "\n",
        "if current_dir.exists():\n",
        "    print(\"notes.txt exists.\")\n",
        "else:\n",
        "    print(\"notes.txt does not exist.\")\n",
        "\n",
        "# 2번\n",
        "from dataclasses import dataclass\n",
        "\n",
        "@dataclass\n",
        "class Book:\n",
        "    title: str\n",
        "    author: str\n",
        "    pages: int\n",
        "\n",
        "books = [\n",
        "    Book(\"Python\", \"dante\", 300),\n",
        "    Book(\"SQL\", \"kayle\", 300)\n",
        "]\n",
        "print(books)\n"
      ]
    },
    {
      "cell_type": "markdown",
      "metadata": {
        "id": "UD26aSteBVxJ"
      },
      "source": [
        "---\n",
        "\n",
        "## 💡 사용 Tip (Usage Tips)\n",
        "\n",
        "* 실습 순서는 위 번호 그대로 진행하면 난이도가 자연스럽게 상승합니다.\n",
        "* 각 문제는 5–10줄 이내로 해결 가능하며, Colab 셀에서 직접 코딩하며 풀이를 확인하면 효과적입니다."
      ]
    },
    {
      "cell_type": "markdown",
      "metadata": {
        "id": "sf8U_4GaBVxJ"
      },
      "source": [
        "<div class=\"md-recitation\">\n",
        "  Sources\n",
        "  <ol>\n",
        "  <li><a href=\"https://towardsdatascience.com/fast-load-data-to-sql-from-python-2d67aea946c0\">https://towardsdatascience.com/fast-load-data-to-sql-from-python-2d67aea946c0</a></li>\n",
        "  <li><a href=\"https://github.com/JustinMeimar/hack-gpt-dev\">https://github.com/JustinMeimar/hack-gpt-dev</a></li>\n",
        "  </ol>\n",
        "</div>"
      ]
    }
  ],
  "metadata": {
    "colab": {
      "provenance": []
    },
    "kernelspec": {
      "display_name": "Python 3",
      "name": "python3"
    },
    "language_info": {
      "codemirror_mode": {
        "name": "ipython",
        "version": 3
      },
      "file_extension": ".py",
      "mimetype": "text/x-python",
      "name": "python",
      "nbconvert_exporter": "python",
      "pygments_lexer": "ipython3",
      "version": "3.13.3"
    }
  },
  "nbformat": 4,
  "nbformat_minor": 0
}
