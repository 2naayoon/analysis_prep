{
 "cells": [
  {
   "cell_type": "markdown",
   "metadata": {},
   "source": [
    "# 파이썬 심화"
   ]
  },
  {
   "cell_type": "code",
   "execution_count": 6,
   "metadata": {},
   "outputs": [
    {
     "name": "stdout",
     "output_type": "stream",
     "text": [
      "Append 100,000 items: 0.007244 seconds\n",
      "Insert at beginning 1,000 items: 0.000488 seconds\n"
     ]
    }
   ],
   "source": [
    "# append\n",
    "import time\n",
    "\n",
    "my_list = []\n",
    "start = time.perf_counter()\n",
    "\n",
    "for i in range(100000):\n",
    "    my_list.append(i)\n",
    "end = time.perf_counter()\n",
    "print(f\"Append 100,000 items: {end - start:.6f} seconds\")\n",
    "\n",
    "my_list_insert = []\n",
    "start = time.perf_counter()\n",
    "\n",
    "for i in range(1000):\n",
    "    my_list_insert.insert(0, i)\n",
    "end = time.perf_counter()\n",
    "print(f\"Insert at beginning 1,000 items: {end - start:.6f} seconds\")"
   ]
  },
  {
   "cell_type": "code",
   "execution_count": 10,
   "metadata": {},
   "outputs": [
    {
     "name": "stdout",
     "output_type": "stream",
     "text": [
      "Even squares: [0, 4, 16, 36, 64]\n",
      "Flattened matrix: [[1, 2, 3, 4, 5, 6, 7, 8, 9]]\n",
      "Squares dict: {0: 0, 1: 1, 2: 4, 3: 9, 4: 16}\n",
      "Odd/Even status: {0: 'even', 1: 'odd', 2: 'even', 3: 'odd', 4: 'even'}\n"
     ]
    }
   ],
   "source": [
    "# 조건부 컴프리헨션\n",
    "even_squares = [x**2 for x in range(10) if x % 2 == 0]\n",
    "print(f\"Even squares: {even_squares}\")\n",
    "\n",
    "# 중첩 컴프리헨션\n",
    "matrix = [[1, 2, 3], [4, 5, 6], [7, 8, 9]]\n",
    "flat_list = [[num for row in matrix for num in row]]\n",
    "print(f\"Flattened matrix: {flat_list}\")\n",
    "\n",
    "# 딕셔너리 컴프리헨션\n",
    "squares_dict = {x: x**2 for x in range(5)}\n",
    "print(f\"Squares dict: {squares_dict}\")\n",
    "\n",
    "# 조건부 딕셔너리 컴프리헨션\n",
    "odd_even_status = {x: 'even' if x % 2 == 0 else 'odd' for x in range(5)}\n",
    "print(f\"Odd/Even status: {odd_even_status}\")"
   ]
  },
  {
   "cell_type": "markdown",
   "metadata": {},
   "source": [
    "### collections 모듈"
   ]
  },
  {
   "cell_type": "code",
   "execution_count": 12,
   "metadata": {},
   "outputs": [
    {
     "name": "stdout",
     "output_type": "stream",
     "text": [
      "defaultdict(<class 'list'>, {'yellow': [1, 3], 'blue': [2, 4], 'red': [1]})\n"
     ]
    }
   ],
   "source": [
    "# defaultdict\n",
    "from collections import defaultdict\n",
    "\n",
    "s = [('yellow', 1), ('blue', 2), ('yellow', 3), ('blue', 4), ('red', 1)]\n",
    "d = defaultdict(list) # list를 기본값으로 사용\n",
    "for k, v in s: \n",
    "    d[k].append(v)\n",
    "print(d)"
   ]
  },
  {
   "cell_type": "code",
   "execution_count": 13,
   "metadata": {},
   "outputs": [
    {
     "name": "stdout",
     "output_type": "stream",
     "text": [
      "Counter({'l': 3, 'o': 2, 'h': 1, 'e': 1, ' ': 1, 'w': 1, 'r': 1, 'd': 1})\n",
      "Most common 2: [('l', 3), ('o', 2)]\n"
     ]
    }
   ],
   "source": [
    "# Counter\n",
    "from collections import Counter\n",
    "\n",
    "word = \"hello world\"\n",
    "c = Counter(word)\n",
    "print(c)\n",
    "print(f\"Most common 2: {c.most_common(2)}\")"
   ]
  },
  {
   "cell_type": "code",
   "execution_count": 14,
   "metadata": {},
   "outputs": [
    {
     "name": "stdout",
     "output_type": "stream",
     "text": [
      "OrderedDict([('apple', 1), ('banana', 2), ('cherry', 3)])\n"
     ]
    }
   ],
   "source": [
    "# OrderedDict\n",
    "from collections import OrderedDict\n",
    "\n",
    "d = OrderedDict()\n",
    "d['apple'] = 1\n",
    "d['banana'] = 2\n",
    "d['cherry'] = 3\n",
    "print(d)"
   ]
  },
  {
   "cell_type": "code",
   "execution_count": 15,
   "metadata": {},
   "outputs": [
    {
     "name": "stdout",
     "output_type": "stream",
     "text": [
      "Namedtuple: p.x=11, p.y=22\n",
      "Access by index: 11\n"
     ]
    }
   ],
   "source": [
    "# namedtuple\n",
    "from collections import namedtuple\n",
    "\n",
    "Point = namedtuple('Point', ['x', 'y'])\n",
    "p = Point(11, y=22)\n",
    "print(f\"Namedtuple: p.x={p.x}, p.y={p.y}\")\n",
    "print(f\"Access by index: {p[0]}\")"
   ]
  },
  {
   "cell_type": "code",
   "execution_count": 18,
   "metadata": {},
   "outputs": [
    {
     "name": "stdout",
     "output_type": "stream",
     "text": [
      "Deque after append/appendleft: deque(['e', 'a', 'b', 'c', 'd'])\n",
      "Deque after pop/popleft: deque(['a', 'b', 'c'])\n"
     ]
    }
   ],
   "source": [
    "# deque\n",
    "from collections import deque\n",
    "\n",
    "d = deque(['a', 'b', 'c'])\n",
    "d.append('d')\n",
    "d.appendleft('e')\n",
    "print(f\"Deque after append/appendleft: {d}\")\n",
    "\n",
    "d.pop()\n",
    "d.popleft()\n",
    "print(f\"Deque after pop/popleft: {d}\")"
   ]
  },
  {
   "cell_type": "markdown",
   "metadata": {},
   "source": [
    "### 람다 함수"
   ]
  },
  {
   "cell_type": "code",
   "execution_count": 19,
   "metadata": {},
   "outputs": [
    {
     "name": "stdout",
     "output_type": "stream",
     "text": [
      "5\n",
      "5\n",
      "Sorted data by lambda: [(3, 'a'), (1, 'b'), (2, 'c')]\n"
     ]
    }
   ],
   "source": [
    "# Lambda\n",
    "\n",
    "# 일반 함수\n",
    "def add(x, y):\n",
    "    return x + y\n",
    "print(add(2, 3))\n",
    "\n",
    "# 람다 함수\n",
    "add_lambda = lambda x, y: x + y\n",
    "print(add_lambda(2, 3))\n",
    "\n",
    "# sorted와 함께 사용\n",
    "data = [(1, 'b'), (3, 'a'), (2, 'c')]\n",
    "sorted_data = sorted(data, key=lambda item: item[1])\n",
    "print(f\"Sorted data by lambda: {sorted_data}\")"
   ]
  },
  {
   "cell_type": "markdown",
   "metadata": {},
   "source": [
    "### 고차 함수"
   ]
  },
  {
   "cell_type": "code",
   "execution_count": 23,
   "metadata": {},
   "outputs": [
    {
     "name": "stdout",
     "output_type": "stream",
     "text": [
      "Squared numbers (map): [1, 4, 9, 16]\n",
      "Even numbers (filter): [2, 4]\n",
      "Sum of numbers (reduce): 10\n"
     ]
    }
   ],
   "source": [
    "# 고차 함수\n",
    "# map() : 각 요소에 함수 적용\n",
    "numbers = [1, 2, 3, 4]\n",
    "squared = list(map(lambda x: x**2, numbers))\n",
    "print(f\"Squared numbers (map): {squared}\")\n",
    "\n",
    "# filter() : 조건에 맞는 요소만 필터링\n",
    "even_numbers = list(filter(lambda x: x % 2 == 0, numbers))\n",
    "print(f\"Even numbers (filter): {even_numbers}\")\n",
    "\n",
    "# reduce() : 누적 연산\n",
    "from functools import reduce\n",
    "\n",
    "sum_all = reduce(lambda x, y: x + y, numbers)\n",
    "print(f\"Sum of numbers (reduce): {sum_all}\")"
   ]
  },
  {
   "cell_type": "code",
   "execution_count": 24,
   "metadata": {},
   "outputs": [
    {
     "name": "stdout",
     "output_type": "stream",
     "text": [
      "Double 5: 10\n",
      "Triple 4: 12\n"
     ]
    }
   ],
   "source": [
    "# functools.partial() : 함수의 인자를 부분적으로 고정하여 새로운 함수 생성\n",
    "from functools import partial\n",
    "\n",
    "def multiply(x, y):\n",
    "    return x * y\n",
    "\n",
    "double = partial(multiply, 2)\n",
    "print(f\"Double 5: {double(5)}\")\n",
    "\n",
    "triple = partial(multiply, y=3)\n",
    "print(f\"Triple 4: {triple(4)}\")"
   ]
  },
  {
   "cell_type": "markdown",
   "metadata": {},
   "source": [
    "### Closures"
   ]
  },
  {
   "cell_type": "code",
   "execution_count": 25,
   "metadata": {},
   "outputs": [
    {
     "name": "stdout",
     "output_type": "stream",
     "text": [
      "Hello\n",
      "Bye\n"
     ]
    }
   ],
   "source": [
    "# Closures : 함수가 정의될 때의 환경을 기억\n",
    "def outer_function(msg):\n",
    "    def inner_function():\n",
    "        print(msg) # outer_funciton의 msg를 기억\n",
    "    return inner_function\n",
    "\n",
    "hello_func = outer_function(\"Hello\")\n",
    "bye_func = outer_function(\"Bye\")\n",
    "\n",
    "hello_func()\n",
    "bye_func()"
   ]
  },
  {
   "cell_type": "markdown",
   "metadata": {},
   "source": [
    "### Decorators"
   ]
  },
  {
   "cell_type": "code",
   "execution_count": 28,
   "metadata": {},
   "outputs": [
    {
     "name": "stdout",
     "output_type": "stream",
     "text": [
      "befor the function is called.\n",
      "Hello, Alice!\n",
      "after the function is called.\n",
      "Greeting Done\n"
     ]
    }
   ],
   "source": [
    "# 기본 데코레이터 : 함수를 감싸서 추가 기능 부여\n",
    "def my_decorator(func):\n",
    "    # wraaper : 감싸고 싶은 함수를 품음\n",
    "    def wrapper(*args, **kwargs):\n",
    "        print(\"befor the function is called.\")\n",
    "        result = func(*args, **kwargs) # 함수 실행\n",
    "        print(\"after the function is called.\")\n",
    "        return result\n",
    "    return wrapper\n",
    "\n",
    "@my_decorator\n",
    "def say_hello(name):\n",
    "    print(f\"Hello, {name}!\")\n",
    "    return \"Greeting Done\"\n",
    "\n",
    "print(say_hello(\"Alice\"))"
   ]
  },
  {
   "cell_type": "code",
   "execution_count": 30,
   "metadata": {},
   "outputs": [
    {
     "name": "stdout",
     "output_type": "stream",
     "text": [
      "Greetings, Bob!\n",
      "Greetings, Bob!\n",
      "Greetings, Bob!\n"
     ]
    }
   ],
   "source": [
    "# 인자를 받는 데코레이터\n",
    "def repeat(num_times):\n",
    "    def decorator_repeat(func):\n",
    "        def wrapper(*args, **kwargs):\n",
    "            for _ in range(num_times):\n",
    "                func(*args, **kwargs)\n",
    "        return wrapper\n",
    "    return decorator_repeat\n",
    "\n",
    "@repeat(num_times=3)\n",
    "def greet(name):\n",
    "    print(f\"Greetings, {name}!\")\n",
    "\n",
    "greet(\"Bob\")"
   ]
  },
  {
   "cell_type": "code",
   "execution_count": null,
   "metadata": {},
   "outputs": [],
   "source": [
    "# property : 내장 데코레이터 - 메서드를 속성처럼 접근\n",
    "class Person:\n",
    "    def __init__(self, name):\n",
    "        self._name = name # _name은 내부적으로 사용되는 속성\n",
    "\n",
    "    @property\n",
    "    def name(self):\n",
    "        print(\"Getting name...\")\n",
    "        return self._name\n",
    "    \n",
    "    @name.setter\n",
    "    def name(self, new_name):\n",
    "        print(\"Setting name...\")\n",
    "        if not isinstance(new_name, str) or len(new_name) < 2:\n",
    "            raise ValueError(\"Name must be a string of at least 2 characters.\")\n",
    "        self._name = new_name\n",
    "\n",
    "p = Person(\"Charlie\")\n",
    "print(p.name)"
   ]
  }
 ],
 "metadata": {
  "kernelspec": {
   "display_name": ".venv",
   "language": "python",
   "name": "python3"
  },
  "language_info": {
   "codemirror_mode": {
    "name": "ipython",
    "version": 3
   },
   "file_extension": ".py",
   "mimetype": "text/x-python",
   "name": "python",
   "nbconvert_exporter": "python",
   "pygments_lexer": "ipython3",
   "version": "3.11.9"
  }
 },
 "nbformat": 4,
 "nbformat_minor": 2
}
